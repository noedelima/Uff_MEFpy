{
 "cells": [
  {
   "cell_type": "markdown",
   "metadata": {},
   "source": [
    "# Anotações Provisórias"
   ]
  },
  {
   "cell_type": "markdown",
   "metadata": {},
   "source": [
    "Este caderno foi criado para fazer anotações provisórias e resolver alguns problemas ou equações rapidamente para inserir no aruivo principal."
   ]
  },
  {
   "cell_type": "code",
   "execution_count": 8,
   "metadata": {},
   "outputs": [],
   "source": [
    "%display latex"
   ]
  },
  {
   "cell_type": "code",
   "execution_count": 9,
   "metadata": {},
   "outputs": [],
   "source": [
    "from sage.misc.latex import MathJax,pretty_print_default\n",
    "mj = MathJax()"
   ]
  },
  {
   "cell_type": "code",
   "execution_count": 10,
   "metadata": {},
   "outputs": [
    {
     "output_type": "execute_result",
     "data": {
      "text/html": "<html><script type=\"math/tex; mode=display\">\\newcommand{\\Bold}[1]{\\mathbf{#1}}\\sin\\left(t + x\\right)</script></html>",
      "text/plain": "<html><script type=\"math/tex; mode=display\">\\newcommand{\\Bold}[1]{\\mathbf{#1}}\\sin\\left(t + x\\right)</script></html>"
     },
     "metadata": {},
     "execution_count": 10
    }
   ],
   "source": [
    "x = var('x')\n",
    "t = var('t')\n",
    "f = sin(x+t)\n",
    "theta = 2*pi/3\n",
    "#plot(f,x,[0,2*pi],t,[-theta])# + plot(f,x,[0,2*pi],t,0,color='red') + plot(f,x,[0,2*pi],t,theta,color='green')\n",
    "html(mj.eval(latex(f)))"
   ]
  }
 ],
 "metadata": {
  "kernelspec": {
   "display_name": "SageMath 9.0",
   "language": "sage",
   "name": "sagemath-vscode"
  },
  "language_info": {
   "codemirror_mode": {
    "name": "ipython",
    "version": 3
   },
   "file_extension": ".py",
   "mimetype": "text/x-python",
   "name": "python",
   "nbconvert_exporter": "python",
   "pygments_lexer": "ipython3",
   "version": "3.8.2-final"
  }
 },
 "nbformat": 4,
 "nbformat_minor": 4
}