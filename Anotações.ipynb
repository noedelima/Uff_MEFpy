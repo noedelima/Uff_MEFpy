{
 "cells": [
  {
   "cell_type": "markdown",
   "metadata": {},
   "source": [
    "# Anotações Provisórias"
   ]
  },
  {
   "cell_type": "markdown",
   "metadata": {},
   "source": [
    "Este caderno foi criado para fazer anotações provisórias e resolver alguns problemas ou equações rapidamente para inserir no aruivo principal."
   ]
  },
  {
   "cell_type": "code",
   "execution_count": 1,
   "metadata": {},
   "outputs": [],
   "source": [
    "%display latex"
   ]
  },
  {
   "cell_type": "code",
   "execution_count": 2,
   "metadata": {},
   "outputs": [
    {
     "data": {
      "text/html": [
       "<html><script type=\"math/tex; mode=display\">\\newcommand{\\Bold}[1]{\\mathbf{#1}}\\frac{\\partial^{2}}{(\\partial x)^{2}}u\\left(x\\right) = N</script></html>"
      ],
      "text/plain": [
       "diff(u(x), x, x) == N"
      ]
     },
     "metadata": {},
     "output_type": "display_data"
    },
    {
     "data": {
      "text/html": [
       "<html><script type=\"math/tex; mode=display\">\\newcommand{\\Bold}[1]{\\mathbf{#1}}u\\left(x\\right) = \\frac{1}{2} \\, N x^{2} + K_{2} x + K_{1}</script></html>"
      ],
      "text/plain": [
       "u(x) == 1/2*N*x^2 + _K2*x + _K1"
      ]
     },
     "metadata": {},
     "output_type": "display_data"
    }
   ],
   "source": [
    "x,N = var('x,N')\n",
    "u = function('u')(x)\n",
    "eq = diff(u,x,2) == N\n",
    "eq.show()\n",
    "sol = u == desolve(eq,u,ivar=x,contrib_ode=True)\n",
    "sol.show()"
   ]
  }
 ],
 "metadata": {
  "kernelspec": {
   "display_name": "SageMath 9.0",
   "language": "python",
   "name": "sagemath-vscode"
  },
  "language_info": {
   "codemirror_mode": {
    "name": "ipython",
    "version": 3
   },
   "file_extension": ".py",
   "mimetype": "text/x-python",
   "name": "python",
   "nbconvert_exporter": "python",
   "pygments_lexer": "ipython3",
   "version": "3.8.2"
  }
 },
 "nbformat": 4,
 "nbformat_minor": 4
}
