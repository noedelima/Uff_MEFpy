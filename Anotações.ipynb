{
 "cells": [
  {
   "cell_type": "markdown",
   "metadata": {},
   "source": [
    "# Anotações Provisórias"
   ]
  },
  {
   "cell_type": "markdown",
   "metadata": {},
   "source": [
    "Este caderno foi criado para fazer anotações provisórias e resolver alguns problemas ou equações rapidamente para inserir no aruivo principal."
   ]
  },
  {
   "cell_type": "code",
   "execution_count": 1,
   "metadata": {
    "tags": []
   },
   "outputs": [],
   "source": [
    "from sympy import *\n",
    "init_printing(use_latex='mathjax',latex_mode='equation*')"
   ]
  },
  {
   "cell_type": "code",
   "execution_count": 6,
   "metadata": {
    "tags": []
   },
   "outputs": [
    {
     "output_type": "display_data",
     "data": {
      "text/plain": "          2          \n         d           \n-u(x) + ───(u(x)) = N\n          2          \n        dx           ",
      "text/latex": "\\begin{equation*}- u{\\left(x \\right)} + \\frac{d^{2}}{d x^{2}} u{\\left(x \\right)} = N\\end{equation*}"
     },
     "metadata": {}
    },
    {
     "output_type": "display_data",
     "data": {
      "text/plain": "                            -x                   x\n            (-ℯ⋅N + N + 1)⋅ℯ     (-ℯ⋅N + N - ℯ)⋅ℯ \nu(x) = -N - ────────────────── + ─────────────────\n                2⋅sinh(1)                   2     \n                                       1 - ℯ      ",
      "text/latex": "\\begin{equation*}u{\\left(x \\right)} = - N - \\frac{\\left(- e N + N + 1\\right) e^{- x}}{2 \\sinh{\\left(1 \\right)}} + \\frac{\\left(- e N + N - e\\right) e^{x}}{1 - e^{2}}\\end{equation*}"
     },
     "metadata": {}
    }
   ],
   "source": [
    "x,N = symbols('x,N')\n",
    "u = symbols('u',cls=Function)\n",
    "eq = Eq(diff(u(x),x,2)-u(x), N)\n",
    "display(eq)\n",
    "sol = dsolve(eq,u(x),ics={u(0):0, u(1):1})\n",
    "display(sol)"
   ]
  },
  {
   "cell_type": "code",
   "execution_count": 3,
   "metadata": {
    "tags": []
   },
   "outputs": [
    {
     "output_type": "stream",
     "name": "stdout",
     "text": "Linux DESKTOP-CR7O8A2 4.19.104-microsoft-standard #1 SMP Wed Feb 19 06:37:35 UTC 2020 x86_64 x86_64 x86_64 GNU/Linux\n"
    }
   ],
   "source": [
    "!uname -a"
   ]
  }
 ],
 "metadata": {
  "kernelspec": {
   "display_name": "Python 3",
   "language": "python",
   "name": "python3"
  },
  "language_info": {
   "codemirror_mode": {
    "name": "ipython",
    "version": 3
   },
   "file_extension": ".py",
   "mimetype": "text/x-python",
   "name": "python",
   "nbconvert_exporter": "python",
   "pygments_lexer": "ipython3",
   "version": "3.8.2-final"
  }
 },
 "nbformat": 4,
 "nbformat_minor": 4
}