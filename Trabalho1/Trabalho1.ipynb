{
 "cells": [
  {
   "cell_type": "markdown",
   "metadata": {},
   "source": [
    "# Metodo dos Elementos Finitos"
   ]
  },
  {
   "cell_type": "markdown",
   "metadata": {},
   "source": [
    "Universidade Federal Fluminense\n",
    "\n",
    "Disciplina ministrada pelo Prof. Marco Ferro\n",
    "\n",
    "<marco.ferro@uol.com.br>\n",
    "\n",
    "Aluno Noé de Lima\n",
    "\n",
    "<noe_lima@id.uff.br>\n",
    "\n",
    "Este trabalho visa aplicar o MEF para resolver uma equação diferencial ordinária de segunda ordem.\n",
    "\n",
    "Primeiro semestre de 2020\n",
    "\n",
    "\\vfill"
   ]
  },
  {
   "cell_type": "code",
   "execution_count": 1,
   "metadata": {},
   "outputs": [
    {
     "name": "stdout",
     "output_type": "stream",
     "text": [
      "Linux DESKTOP-CR7O8A2 4.19.104-microsoft-standard #1 SMP Wed Feb 19 06:37:35 UTC 2020 x86_64 x86_64 x86_64 GNU/Linux\n"
     ]
    }
   ],
   "source": [
    "%display latex\n",
    "from numpy import array,zeros,math,linspace\n",
    "from scipy.interpolate import interp1d\n",
    "from scipy.linalg import solve\n",
    "import matplotlib.pyplot as plt\n",
    "plt.close('all') # apaga plotagens anteriores\n",
    "latex.add_to_preamble('\\\\usepackage[english,brazil]{babel}')\n",
    "!uname -a"
   ]
  },
  {
   "cell_type": "markdown",
   "metadata": {},
   "source": [
    "\\cleardoublepage\n",
    "\n",
    "\\tableofcontents\n",
    "\n",
    "\\cleardoublepage"
   ]
  },
  {
   "cell_type": "markdown",
   "metadata": {},
   "source": [
    "## Exercício Teórico de MEF - 2 Elementos\n",
    "\n",
    "Dada a Equação Diferencial Ordinária de Segunda Ordem abaixo:\n",
    "\n",
    "\\begin{equation}\n",
    "    \\frac{d^{2}u}{dx} - u = 0\n",
    "\\end{equation}\n",
    "\n",
    "Sua solução analítica é:\n",
    "\n",
    "\\begin{equation}\n",
    "    u\\left(x\\right) = \\frac{e^{x}-e^{-x}}{e-e^{-1}}\n",
    "\\end{equation}\n",
    "\n",
    "Este exercício consiste em resolver esta equação numericamente utilizando o Método dos Elementos Finitos com 2 elementos, a princípio sem a utilização de programação. O intervalo do domínio utilizado será $0 \\le x \\le 1$, e as condições de contorno são:\n",
    "\n",
    "\\begin{equation*}\n",
    "    \\left\\{\\begin{matrix}\n",
    "        u\\left(0\\right) & = & 0 \\\\\n",
    "        u\\left(1\\right) & = & 1\n",
    "    \\end{matrix}\\right.\n",
    "\\end{equation*}\n",
    "\n",
    "Assim, considerando 2 elementos, temos 3 nós. Cada elemento tem comprimento $h_{e}=\\frac{1}{2}$.\n",
    "\n",
    "### Elementos\n",
    "\n",
    "Temos os seguintes nós nos elementos:\n",
    "\n",
    "\\begin{equation*}\n",
    "    \\left[\\begin{matrix}\n",
    "        u_{1} & = & 0 \\\\\n",
    "        u_{2} & = & \\frac{1}{2} \\\\\n",
    "        u_{3} & = & 1\n",
    "    \\end{matrix}\\right.\n",
    "\\end{equation*}\n",
    "\n",
    "Portanto:\n",
    "\n",
    "\\begin{equation*}\n",
    "    \\left\\{\\begin{matrix}\n",
    "        0 & \\le & x_{1} & \\le & \\frac{1}{2} \\\\\n",
    "        \\frac{1}{2} & \\le & x_{2} & \\le & 0\n",
    "    \\end{matrix}\\right.\n",
    "\\end{equation*}\n",
    "\n",
    "Cada elemento tem comprimento $h_{e}=\\frac{1}{2}$. As funções de interpolação serão, então:\n",
    "\n",
    "\\begin{equation*}\n",
    "    \\phi^{e}_{1}\\left(x_{e}\\right) = \\frac{h_{e}-x_{e}}{h_{e}} =\n",
    "    \\frac{\\frac{1}{2}-x_{e}}{\\frac{1}{2}} = 1 - 2x_{e}\n",
    "\\end{equation*}\n",
    "\n",
    "e\n",
    "\n",
    "\\begin{equation*}\n",
    "    \\phi^{e}_{2}\\left(x_{e}\\right) = \\frac{x_{e}}{h_{e}} =\n",
    "    \\frac{x_{e}}{\\frac{1}{2}} = 2x_{e}\n",
    "\\end{equation*}\n",
    "\n",
    "#### Matriz de Rigidez dos Elementos\n",
    "\n",
    "Os elementos da Matriz de Rigidez local $\\mathbf{K}_{e}$ são:\n",
    "\n",
    "\n",
    "\\begin{equation*}\n",
    "    K_{ij}^{e} = \\int_{0}^{\\frac{1}{2}}{\\left(\\frac{dN_{i}}{dx_{e}}\\frac{dN_{j}}{dx_{e}}+N_{i}N_{j}\\right)}dx_{e}\n",
    "\\end{equation*}\n",
    "\n",
    "Assim:"
   ]
  },
  {
   "cell_type": "code",
   "execution_count": 2,
   "metadata": {},
   "outputs": [
    {
     "name": "stdout",
     "output_type": "stream",
     "text": [
      "[  13/6 -23/12]\n",
      "[-23/12   13/6]\n"
     ]
    }
   ],
   "source": [
    "x = var('x')\n",
    "K_11 = integral((-2)*(-2)+(1-2*x)**2,x,0,1/2)\n",
    "K_12 = integral((-2)*(2)+(1-2*x)*(2*x),x,0,1/2)\n",
    "K_21 = integral((2)*(-2)+(2*x)*(1-2*x),x,0,1/2)\n",
    "K_22 = integral((2)*(2)+(2*x)**2,x,0,1/2)\n",
    "K_e = Matrix([[K_11,K_12],[K_21,K_22]])\n",
    "print(K_e)"
   ]
  },
  {
   "cell_type": "markdown",
   "metadata": {},
   "source": [
    "Portanto, a Matriz de Rigidez Local fica:\n",
    "\n",
    "\\begin{equation*}\n",
    "    \\mathbf{K_{e}} =\n",
    "    \\left[\\begin{matrix}\n",
    "        \\frac{13}{6} & \\frac{-23}{12} \\\\\n",
    "        \\frac{-23}{12} & \\frac{13}{6}\n",
    "    \\end{matrix}\\right]\n",
    "\\end{equation*}\n",
    "\n",
    "A Matriz de Rigidez Global sera:\n",
    "\n",
    "\\begin{equation*}\n",
    "    \\mathbf{K_{g}} =\n",
    "    \\left[\\begin{matrix}\n",
    "        K_{11} & K_{12} & 0\\\\\n",
    "        K_{21} & K_{22}+K_{11} & K_{12}\\\\\n",
    "        0 & K_{21} & K_{22}\n",
    "    \\end{matrix}\\right]\n",
    "\\end{equation*}\n",
    "\n",
    "Portanto:"
   ]
  },
  {
   "cell_type": "code",
   "execution_count": 3,
   "metadata": {},
   "outputs": [
    {
     "name": "stdout",
     "output_type": "stream",
     "text": [
      "[  13/6 -23/12      0]\n",
      "[-23/12   13/3 -23/12]\n",
      "[     0 -23/12   13/6]\n"
     ]
    }
   ],
   "source": [
    "K_g = Matrix([[K_11,K_12,0],[K_21,K_22+K_11,K_12],[0,K_21,K_22]])\n",
    "print(K_g)"
   ]
  },
  {
   "cell_type": "markdown",
   "metadata": {},
   "source": [
    "Ou seja,\n",
    "\n",
    "\\begin{equation*}\n",
    "    \\mathbf{K_{g}} =\n",
    "    \\left[\\begin{matrix}\n",
    "        \\frac{13}{6} & -\\frac{23}{12} & 0 \\\\\n",
    "        -\\frac{23}{12} & \\frac{13}{3} & -\\frac{23}{12} \\\\\n",
    "        0 & -\\frac{23}{12} & \\frac{13}{6}\n",
    "    \\end{matrix}\\right]\n",
    "\\end{equation*}\n",
    "\n",
    "### Cálculo das Forças Nodais\n",
    "\n",
    "#### Elemento 1\n",
    "\n",
    "\\begin{equation*}\n",
    "    \\begin{matrix}\n",
    "        f_{1}^{1} & = & -N_{1}\\frac{d\\bar{u}\\left(0\\right)}{dx} & = -\\frac{d\\bar{u}\\left(0\\right)}{dx} \\\\\n",
    "        f_{2}^{1} & = & 0 &\n",
    "    \\end{matrix}\n",
    "\\end{equation*}\n",
    "\n",
    "#### Elemento 2\n",
    "\n",
    "\\begin{equation*}\n",
    "    \\begin{matrix}\n",
    "        f_{1}^{2} & = & 0 & \\\\\n",
    "        f_{2}^{2} & = & N_{2}\\frac{d\\bar{u}\\left(1\\right)}{dx} & = \\frac{d\\bar{u}\\left(1\\right)}{dx}\n",
    "    \\end{matrix}\n",
    "\\end{equation*}\n",
    "\n",
    "Portanto,\n",
    "\n",
    "\\begin{equation*}\n",
    "    \\vec{f} =\n",
    "    \\left\\{\\begin{matrix}\n",
    "        -\\frac{d\\bar{u}\\left(0\\right)}{dx} \\\\\n",
    "        0 \\\\\n",
    "        \\frac{d\\bar{u}\\left(1\\right)}{dx}\n",
    "    \\end{matrix}\\right\\}\n",
    "\\end{equation*}\n",
    "\n",
    "\n",
    "### Equação final\n",
    "Temos, portanto,\n",
    "\n",
    "\\begin{equation*}\n",
    "    \\mathbf{K}\\cdot \\vec{u} = \\vec{f}\n",
    "\\end{equation*}\n",
    "\n",
    "\\begin{equation*}\n",
    "    \\left[\\begin{matrix}\n",
    "        \\frac{13}{6} & -\\frac{23}{12} & 0 \\\\\n",
    "        -\\frac{23}{12} & \\frac{13}{3} & -\\frac{23}{12} \\\\\n",
    "        0 & -\\frac{23}{12} & \\frac{13}{6}\n",
    "    \\end{matrix}\\right]\n",
    "    \\left\\{\\begin{matrix}\n",
    "        u_{1} \\\\ u_{2} \\\\ u_{3}\n",
    "    \\end{matrix}\\right\\} =\n",
    "    \\left\\{\\begin{matrix}\n",
    "        -\\frac{d\\bar{u}\\left(0\\right)}{dx} \\\\ 0 \\\\ \\frac{d\\bar{u}\\left(1\\right)}{dx}\n",
    "    \\end{matrix}\\right\\}\n",
    "\\end{equation*}\n",
    "\n",
    "Ou,\n",
    "\n",
    "\\begin{equation*}\n",
    "    \\begin{matrix}\n",
    "        2,167u_{1} & -1,917u_{2} & 0u_{3} & = & -\\frac{d\\bar{u}\\left(0\\right)}{dx}\\\\\n",
    "        -1,917u_{1} & 4,334u_{2} & -1,917u_{3} & = & 0 \\\\\n",
    "        0u_{1} & -1,917u_{2} & 2,167u_{3} & = & \\frac{d\\bar{u}\\left(1\\right)}{dx}\n",
    "    \\end{matrix}\n",
    "\\end{equation*}\n",
    "\n",
    "Rearrumando temos a seguinte equação:\n",
    "\n",
    "\\begin{equation*}\n",
    "    \\left[\\begin{matrix}\n",
    "        1 & -\\frac{23}{12} & 0 \\\\\n",
    "        0 & \\frac{13}{3} & 0 \\\\\n",
    "        0 & -\\frac{23}{12} & -1\n",
    "    \\end{matrix}\\right]\n",
    "    \\left\\{\\begin{matrix}\n",
    "        \\frac{d\\bar{u}\\left(0\\right)}{dx} \\\\ u_{2} \\\\ \\frac{d\\bar{u}\\left(1\\right)}{dx}\n",
    "    \\end{matrix}\\right\\} =\n",
    "    -\\left\\{\\begin{matrix}\n",
    "        \\frac{13}{6} \\\\ -\\frac{23}{12} \\\\ 0\n",
    "    \\end{matrix}\\right\\}u_{1}\n",
    "    -\\left\\{\\begin{matrix}\n",
    "        0 \\\\ -\\frac{23}{12} \\\\ \\frac{13}{6}\n",
    "    \\end{matrix}\\right\\}u_{3}\n",
    "\\end{equation*}"
   ]
  },
  {
   "cell_type": "code",
   "execution_count": 4,
   "metadata": {},
   "outputs": [
    {
     "name": "stdout",
     "output_type": "stream",
     "text": [
      "K' =\n",
      " [     1 -23/12      0]\n",
      "[     0   13/3      0]\n",
      "[     0 -23/12     -1] \n",
      "\n",
      "\n",
      "f' = (0, 23/12, -13/6) \n",
      "\n",
      "\n",
      "u' = (529/624, 23/52, 823/624)\n"
     ]
    }
   ],
   "source": [
    "K = Matrix([[1,K_12,0],[0,K_22+K_11,0],[0,K_21,-1]])\n",
    "f = -0*vector([K_11,K_21,0])-1*vector([0,K_12,K_22])\n",
    "print(\"K' =\\n\", K, \"\\n\\n\")\n",
    "print(\"f' =\", f, \"\\n\\n\")\n",
    "\n",
    "print(\"u' =\", K\\f)"
   ]
  },
  {
   "cell_type": "markdown",
   "metadata": {},
   "source": [
    "Logo,\n",
    "\n",
    "\\begin{equation*}\n",
    "    \\left[\\begin{matrix}\n",
    "        1 & -\\frac{23}{12} & 0 \\\\\n",
    "        0 & \\frac{13}{3} & 0 \\\\\n",
    "        0 & -\\frac{23}{12} & -1\n",
    "    \\end{matrix}\\right]\n",
    "    \\left\\{\\begin{matrix}\n",
    "        \\frac{d\\bar{u}\\left(0\\right)}{dx} \\\\ u_{2} \\\\ \\frac{d\\bar{u}\\left(1\\right)}{dx}\n",
    "    \\end{matrix}\\right\\} =\n",
    "    \\left\\{\\begin{matrix}\n",
    "        0 \\\\ \\frac{23}{12} \\\\ -\\frac{13}{6}\n",
    "    \\end{matrix}\\right\\}\n",
    "\\end{equation*}\n",
    "\n",
    "Portanto,\n",
    "\n",
    "\\begin{equation*}\n",
    "    \\frac{d\\bar{u}\\left(0\\right)}{dx} = \\frac{529}{624} = 0,8478\n",
    "\\end{equation*}\n",
    "\n",
    "\\begin{equation*}\n",
    "    u_{2} = \\frac{23}{52} = 0,4423\n",
    "\\end{equation*}\n",
    "\n",
    "\\begin{equation*}\n",
    "    \\frac{d\\bar{u}\\left(1\\right)}{dx} = \\frac{823}{624} = 1,3189\n",
    "\\end{equation*}"
   ]
  },
  {
   "cell_type": "markdown",
   "metadata": {},
   "source": [
    "## Exercício Prático de Programação\n",
    "\n",
    "Os códigos a seguir resolvem o problema que consiste em criar um programa na linguagem Python para resolver, numericamente, a equação da Seçao anterior no domínio $x \\le 0 \\le 1$, utilizando para tanto, o Método dos Elementos Finitos. Entre os parâmetros de entrada, deverá estar o números de elementos para discretizar o sistema (malha), para, então, comparar o erro pencentual das soluções em relação à solução analítica."
   ]
  },
  {
   "cell_type": "markdown",
   "metadata": {},
   "source": [
    "## Implementação da Solução Analítica (Exata)"
   ]
  },
  {
   "cell_type": "code",
   "execution_count": 5,
   "metadata": {},
   "outputs": [],
   "source": [
    "def yexata(x):\n",
    "    return (math.exp(1)**(x)-math.exp(1)**(-x))/(math.exp(1)-math.exp(-1))"
   ]
  },
  {
   "cell_type": "markdown",
   "metadata": {},
   "source": [
    "## Implementação do MEF\n",
    "\n",
    "Na implementação do Método dos Elementos Finitos, os seguintes dados de entrada são necessários:\n",
    "\n",
    "* Limites do Domínio\n",
    "\n",
    "* Condições de Contorno (Dirichlet)\n",
    "\n",
    "* Número de Elementos na Malha\n",
    "\n",
    "Assim, a função retorna dois vetores:\n",
    "\n",
    "* O Domínio discretizado\n",
    "\n",
    "* A solução nos nós da Malha\n",
    "\n",
    "A solução dos pontos intermediários é dada por interpolação simples entre os nós adjascentes."
   ]
  },
  {
   "cell_type": "code",
   "execution_count": 6,
   "metadata": {},
   "outputs": [],
   "source": [
    "def mefn(a, b, ua, ub, n):\n",
    "    x = array(linspace(a,b,n+1)) # Domínio\n",
    "    # f = array([linspace(0,0,n+1)]).transpose() # Vetor de força nodal (matriz coluna de zeros)\n",
    "    K = zeros([(n+1),(n+1)]) # Matriz de Rigidez Global\n",
    "    he = (b-a)/n # Subdomínio\n",
    "    for i in range(n): # Montagem da Matriz de Rigidez Global\n",
    "        K[i,i] += (1/he)+(he/3)\n",
    "        K[i,i+1] += (-1/he)+(he/6)\n",
    "        K[i+1,i] += (-1/he)+(he/6)\n",
    "        K[i+1,i+1] += (1/he)+(he/3)\n",
    "    # Rearranjo do Sistema\n",
    "    # f -= ua*K[:,0] + ub*K[:,n] # Implementação alternativa com inicialização de f\n",
    "    f = - ua*K[:,0] - ub*K[:,n]\n",
    "    K[:,0] *= 0\n",
    "    K[:,n] *= 0\n",
    "    K[0,0] = 1.\n",
    "    K[n,n] = -1.\n",
    "    # Solução do Sistema\n",
    "    u = solve(K,f) # Vetor de solução\n",
    "    u[0],u[n] = ua,ub # Substituição de du(a)/dx e du(b)/dx por u(a) e u(b)\n",
    "    return x, u"
   ]
  },
  {
   "cell_type": "markdown",
   "metadata": {},
   "source": [
    "### Gráfico Comparativo das Soluções\n",
    "\n",
    "Para comparar as soluções, será utilizada uma função para entrar com o número de elementos e gerar o gráfico comparativo"
   ]
  },
  {
   "cell_type": "code",
   "execution_count": 7,
   "metadata": {},
   "outputs": [],
   "source": [
    "def interpol(xd,yd,x): # Função para interpolar u linearmente entre os nós\n",
    "    return interp1d(xd,yd,kind='linear')(x)\n",
    "def plotmef(n, nplot): # Função que plota nplot pontos discretizados em n elementos\n",
    "    a,b = 0,1 # Limites de Integração\n",
    "    ua,ub = yexata(a),yexata(b) # Condições de Contorno\n",
    "    xd,yd = mefn(a,b,ua,ub,n)\n",
    "    x = linspace(0.,1.,11)\n",
    "    u = interpol(xd,yd,x)\n",
    "    y = yexata(x)\n",
    "    ref = int(len(x)/2)\n",
    "    erro = 100*(y[ref]-u[ref])/y[ref]\n",
    "    return x,u,erro"
   ]
  },
  {
   "cell_type": "code",
   "execution_count": 8,
   "metadata": {},
   "outputs": [
    {
     "data": {
      "image/png": "[encoded data removed]",
      "text/plain": [
       "<Figure size 432x288 with 1 Axes>"
      ]
     },
     "metadata": {
      "needs_background": "light"
     },
     "output_type": "display_data"
    }
   ],
   "source": [
    "nel = [1,2,3,5,10,100]\n",
    "amostra = 50\n",
    "comp = linspace(0,1,amostra)\n",
    "plt.figure(1)\n",
    "plt.title('Gráfico Comparativo')\n",
    "plt.xlabel('x')\n",
    "plt.ylabel('u(x)')\n",
    "for e in nel:\n",
    "    x,u,erro = plotmef(e,amostra)\n",
    "    plt.plot(x,u,label='MEF '+str(e)+' - Erro='+str(round(erro,3))+'%')\n",
    "plt.plot(comp,yexata(comp),'k--',label='Solução Exata')\n",
    "plt.legend()\n",
    "plt.show()"
   ]
  }
 ],
 "metadata": {
  "kernelspec": {
   "display_name": "SageMath 9.0",
   "language": "sage",
   "name": "sagemath"
  },
  "language_info": {
   "codemirror_mode": {
    "name": "ipython",
    "version": 3
   },
   "file_extension": ".py",
   "mimetype": "text/x-python",
   "name": "python",
   "nbconvert_exporter": "python",
   "pygments_lexer": "ipython3",
   "version": "3.8.2"
  }
 },
 "nbformat": 4,
 "nbformat_minor": 4
}
