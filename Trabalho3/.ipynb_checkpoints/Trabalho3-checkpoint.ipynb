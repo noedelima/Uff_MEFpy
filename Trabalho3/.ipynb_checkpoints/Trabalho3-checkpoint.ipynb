{
 "cells": [
  {
   "cell_type": "markdown",
   "metadata": {},
   "source": [
    "# Método dos Elementos Finitos - Trabalho 3"
   ]
  },
  {
   "cell_type": "markdown",
   "metadata": {},
   "source": [
    "Universidade Federal Fluminense\n",
    "\n",
    "Disciplina ministrada pelo Prof. Marco Ferro\n",
    "\n",
    "<marcoferro@id.uff.br>\n",
    "\n",
    "Aluno Noé de Lima\n",
    "\n",
    "<noe_lima@id.uff.br>\n",
    "\n",
    "Este trabalho visa aplicar o MEF a uma estrutura de vigas.\n",
    "\n",
    "Primeiro semestre de 2020\n",
    "\n",
    "\\vfill"
   ]
  },
  {
   "cell_type": "markdown",
   "metadata": {},
   "source": [
    "A célula a seguir configura o Jupyter-Notebook para exibir as equações matemáticas no formato do ambiente $\\LaTeX$ e importa as bibliotecas necessárias."
   ]
  },
  {
   "cell_type": "code",
   "execution_count": 1,
   "metadata": {
    "tags": []
   },
   "outputs": [
    {
     "data": {
      "text/html": [
       "\n",
       "    <div class=\"bk-root\">\n",
       "        <a href=\"https://bokeh.org\" target=\"_blank\" class=\"bk-logo bk-logo-small bk-logo-notebook\"></a>\n",
       "        <span id=\"1001\">Loading BokehJS ...</span>\n",
       "    </div>"
      ]
     },
     "metadata": {},
     "output_type": "display_data"
    },
    {
     "data": {
      "application/javascript": [
       "\n",
       "(function(root) {\n",
       "  function now() {\n",
       "    return new Date();\n",
       "  }\n",
       "\n",
       "  var force = true;\n",
       "\n",
       "  if (typeof root._bokeh_onload_callbacks === \"undefined\" || force === true) {\n",
       "    root._bokeh_onload_callbacks = [];\n",
       "    root._bokeh_is_loading = undefined;\n",
       "  }\n",
       "\n",
       "  var JS_MIME_TYPE = 'application/javascript';\n",
       "  var HTML_MIME_TYPE = 'text/html';\n",
       "  var EXEC_MIME_TYPE = 'application/vnd.bokehjs_exec.v0+json';\n",
       "  var CLASS_NAME = 'output_bokeh rendered_html';\n",
       "\n",
       "  /**\n",
       "   * Render data to the DOM node\n",
       "   */\n",
       "  function render(props, node) {\n",
       "    var script = document.createElement(\"script\");\n",
       "    node.appendChild(script);\n",
       "  }\n",
       "\n",
       "  /**\n",
       "   * Handle when an output is cleared or removed\n",
       "   */\n",
       "  function handleClearOutput(event, handle) {\n",
       "    var cell = handle.cell;\n",
       "\n",
       "    var id = cell.output_area._bokeh_element_id;\n",
       "    var server_id = cell.output_area._bokeh_server_id;\n",
       "    // Clean up Bokeh references\n",
       "    if (id != null && id in Bokeh.index) {\n",
       "      Bokeh.index[id].model.document.clear();\n",
       "      delete Bokeh.index[id];\n",
       "    }\n",
       "\n",
       "    if (server_id !== undefined) {\n",
       "      // Clean up Bokeh references\n",
       "      var cmd = \"from bokeh.io.state import curstate; print(curstate().uuid_to_server['\" + server_id + \"'].get_sessions()[0].document.roots[0]._id)\";\n",
       "      cell.notebook.kernel.execute(cmd, {\n",
       "        iopub: {\n",
       "          output: function(msg) {\n",
       "            var id = msg.content.text.trim();\n",
       "            if (id in Bokeh.index) {\n",
       "              Bokeh.index[id].model.document.clear();\n",
       "              delete Bokeh.index[id];\n",
       "            }\n",
       "          }\n",
       "        }\n",
       "      });\n",
       "      // Destroy server and session\n",
       "      var cmd = \"import bokeh.io.notebook as ion; ion.destroy_server('\" + server_id + \"')\";\n",
       "      cell.notebook.kernel.execute(cmd);\n",
       "    }\n",
       "  }\n",
       "\n",
       "  /**\n",
       "   * Handle when a new output is added\n",
       "   */\n",
       "  function handleAddOutput(event, handle) {\n",
       "    var output_area = handle.output_area;\n",
       "    var output = handle.output;\n",
       "\n",
       "    // limit handleAddOutput to display_data with EXEC_MIME_TYPE content only\n",
       "    if ((output.output_type != \"display_data\") || (!output.data.hasOwnProperty(EXEC_MIME_TYPE))) {\n",
       "      return\n",
       "    }\n",
       "\n",
       "    var toinsert = output_area.element.find(\".\" + CLASS_NAME.split(' ')[0]);\n",
       "\n",
       "    if (output.metadata[EXEC_MIME_TYPE][\"id\"] !== undefined) {\n",
       "      toinsert[toinsert.length - 1].firstChild.textContent = output.data[JS_MIME_TYPE];\n",
       "      // store reference to embed id on output_area\n",
       "      output_area._bokeh_element_id = output.metadata[EXEC_MIME_TYPE][\"id\"];\n",
       "    }\n",
       "    if (output.metadata[EXEC_MIME_TYPE][\"server_id\"] !== undefined) {\n",
       "      var bk_div = document.createElement(\"div\");\n",
       "      bk_div.innerHTML = output.data[HTML_MIME_TYPE];\n",
       "      var script_attrs = bk_div.children[0].attributes;\n",
       "      for (var i = 0; i < script_attrs.length; i++) {\n",
       "        toinsert[toinsert.length - 1].firstChild.setAttribute(script_attrs[i].name, script_attrs[i].value);\n",
       "        toinsert[toinsert.length - 1].firstChild.textContent = bk_div.children[0].textContent\n",
       "      }\n",
       "      // store reference to server id on output_area\n",
       "      output_area._bokeh_server_id = output.metadata[EXEC_MIME_TYPE][\"server_id\"];\n",
       "    }\n",
       "  }\n",
       "\n",
       "  function register_renderer(events, OutputArea) {\n",
       "\n",
       "    function append_mime(data, metadata, element) {\n",
       "      // create a DOM node to render to\n",
       "      var toinsert = this.create_output_subarea(\n",
       "        metadata,\n",
       "        CLASS_NAME,\n",
       "        EXEC_MIME_TYPE\n",
       "      );\n",
       "      this.keyboard_manager.register_events(toinsert);\n",
       "      // Render to node\n",
       "      var props = {data: data, metadata: metadata[EXEC_MIME_TYPE]};\n",
       "      render(props, toinsert[toinsert.length - 1]);\n",
       "      element.append(toinsert);\n",
       "      return toinsert\n",
       "    }\n",
       "\n",
       "    /* Handle when an output is cleared or removed */\n",
       "    events.on('clear_output.CodeCell', handleClearOutput);\n",
       "    events.on('delete.Cell', handleClearOutput);\n",
       "\n",
       "    /* Handle when a new output is added */\n",
       "    events.on('output_added.OutputArea', handleAddOutput);\n",
       "\n",
       "    /**\n",
       "     * Register the mime type and append_mime function with output_area\n",
       "     */\n",
       "    OutputArea.prototype.register_mime_type(EXEC_MIME_TYPE, append_mime, {\n",
       "      /* Is output safe? */\n",
       "      safe: true,\n",
       "      /* Index of renderer in `output_area.display_order` */\n",
       "      index: 0\n",
       "    });\n",
       "  }\n",
       "\n",
       "  // register the mime type if in Jupyter Notebook environment and previously unregistered\n",
       "  if (root.Jupyter !== undefined) {\n",
       "    var events = require('base/js/events');\n",
       "    var OutputArea = require('notebook/js/outputarea').OutputArea;\n",
       "\n",
       "    if (OutputArea.prototype.mime_types().indexOf(EXEC_MIME_TYPE) == -1) {\n",
       "      register_renderer(events, OutputArea);\n",
       "    }\n",
       "  }\n",
       "\n",
       "  \n",
       "  if (typeof (root._bokeh_timeout) === \"undefined\" || force === true) {\n",
       "    root._bokeh_timeout = Date.now() + 5000;\n",
       "    root._bokeh_failed_load = false;\n",
       "  }\n",
       "\n",
       "  var NB_LOAD_WARNING = {'data': {'text/html':\n",
       "     \"<div style='background-color: #fdd'>\\n\"+\n",
       "     \"<p>\\n\"+\n",
       "     \"BokehJS does not appear to have successfully loaded. If loading BokehJS from CDN, this \\n\"+\n",
       "     \"may be due to a slow or bad network connection. Possible fixes:\\n\"+\n",
       "     \"</p>\\n\"+\n",
       "     \"<ul>\\n\"+\n",
       "     \"<li>re-rerun `output_notebook()` to attempt to load from CDN again, or</li>\\n\"+\n",
       "     \"<li>use INLINE resources instead, as so:</li>\\n\"+\n",
       "     \"</ul>\\n\"+\n",
       "     \"<code>\\n\"+\n",
       "     \"from bokeh.resources import INLINE\\n\"+\n",
       "     \"output_notebook(resources=INLINE)\\n\"+\n",
       "     \"</code>\\n\"+\n",
       "     \"</div>\"}};\n",
       "\n",
       "  function display_loaded() {\n",
       "    var el = document.getElementById(\"1001\");\n",
       "    if (el != null) {\n",
       "      el.textContent = \"BokehJS is loading...\";\n",
       "    }\n",
       "    if (root.Bokeh !== undefined) {\n",
       "      if (el != null) {\n",
       "        el.textContent = \"BokehJS \" + root.Bokeh.version + \" successfully loaded.\";\n",
       "      }\n",
       "    } else if (Date.now() < root._bokeh_timeout) {\n",
       "      setTimeout(display_loaded, 100)\n",
       "    }\n",
       "  }\n",
       "\n",
       "\n",
       "  function run_callbacks() {\n",
       "    try {\n",
       "      root._bokeh_onload_callbacks.forEach(function(callback) {\n",
       "        if (callback != null)\n",
       "          callback();\n",
       "      });\n",
       "    } finally {\n",
       "      delete root._bokeh_onload_callbacks\n",
       "    }\n",
       "    console.debug(\"Bokeh: all callbacks have finished\");\n",
       "  }\n",
       "\n",
       "  function load_libs(css_urls, js_urls, callback) {\n",
       "    if (css_urls == null) css_urls = [];\n",
       "    if (js_urls == null) js_urls = [];\n",
       "\n",
       "    root._bokeh_onload_callbacks.push(callback);\n",
       "    if (root._bokeh_is_loading > 0) {\n",
       "      console.debug(\"Bokeh: BokehJS is being loaded, scheduling callback at\", now());\n",
       "      return null;\n",
       "    }\n",
       "    if (js_urls == null || js_urls.length === 0) {\n",
       "      run_callbacks();\n",
       "      return null;\n",
       "    }\n",
       "    console.debug(\"Bokeh: BokehJS not loaded, scheduling load and callback at\", now());\n",
       "    root._bokeh_is_loading = css_urls.length + js_urls.length;\n",
       "\n",
       "    function on_load() {\n",
       "      root._bokeh_is_loading--;\n",
       "      if (root._bokeh_is_loading === 0) {\n",
       "        console.debug(\"Bokeh: all BokehJS libraries/stylesheets loaded\");\n",
       "        run_callbacks()\n",
       "      }\n",
       "    }\n",
       "\n",
       "    function on_error() {\n",
       "      console.error(\"failed to load \" + url);\n",
       "    }\n",
       "\n",
       "    for (var i = 0; i < css_urls.length; i++) {\n",
       "      var url = css_urls[i];\n",
       "      const element = document.createElement(\"link\");\n",
       "      element.onload = on_load;\n",
       "      element.onerror = on_error;\n",
       "      element.rel = \"stylesheet\";\n",
       "      element.type = \"text/css\";\n",
       "      element.href = url;\n",
       "      console.debug(\"Bokeh: injecting link tag for BokehJS stylesheet: \", url);\n",
       "      document.body.appendChild(element);\n",
       "    }\n",
       "\n",
       "    const hashes = {\"https://cdn.bokeh.org/bokeh/release/bokeh-2.1.1.min.js\": \"kLr4fYcqcSpbuI95brIH3vnnYCquzzSxHPU6XGQCIkQRGJwhg0StNbj1eegrHs12\", \"https://cdn.bokeh.org/bokeh/release/bokeh-widgets-2.1.1.min.js\": \"xIGPmVtaOm+z0BqfSOMn4lOR6ciex448GIKG4eE61LsAvmGj48XcMQZtKcE/UXZe\", \"https://cdn.bokeh.org/bokeh/release/bokeh-tables-2.1.1.min.js\": \"Dc9u1wF/0zApGIWoBbH77iWEHtdmkuYWG839Uzmv8y8yBLXebjO9ZnERsde5Ln/P\", \"https://cdn.bokeh.org/bokeh/release/bokeh-gl-2.1.1.min.js\": \"cT9JaBz7GiRXdENrJLZNSC6eMNF3nh3fa5fTF51Svp+ukxPdwcU5kGXGPBgDCa2j\"};\n",
       "\n",
       "    for (var i = 0; i < js_urls.length; i++) {\n",
       "      var url = js_urls[i];\n",
       "      var element = document.createElement('script');\n",
       "      element.onload = on_load;\n",
       "      element.onerror = on_error;\n",
       "      element.async = false;\n",
       "      element.src = url;\n",
       "      if (url in hashes) {\n",
       "        element.crossOrigin = \"anonymous\";\n",
       "        element.integrity = \"sha384-\" + hashes[url];\n",
       "      }\n",
       "      console.debug(\"Bokeh: injecting script tag for BokehJS library: \", url);\n",
       "      document.head.appendChild(element);\n",
       "    }\n",
       "  };\n",
       "\n",
       "  function inject_raw_css(css) {\n",
       "    const element = document.createElement(\"style\");\n",
       "    element.appendChild(document.createTextNode(css));\n",
       "    document.body.appendChild(element);\n",
       "  }\n",
       "\n",
       "  \n",
       "  var js_urls = [\"https://cdn.bokeh.org/bokeh/release/bokeh-2.1.1.min.js\", \"https://cdn.bokeh.org/bokeh/release/bokeh-widgets-2.1.1.min.js\", \"https://cdn.bokeh.org/bokeh/release/bokeh-tables-2.1.1.min.js\", \"https://cdn.bokeh.org/bokeh/release/bokeh-gl-2.1.1.min.js\"];\n",
       "  var css_urls = [];\n",
       "  \n",
       "\n",
       "  var inline_js = [\n",
       "    function(Bokeh) {\n",
       "      Bokeh.set_log_level(\"info\");\n",
       "    },\n",
       "    function(Bokeh) {\n",
       "    \n",
       "    \n",
       "    }\n",
       "  ];\n",
       "\n",
       "  function run_inline_js() {\n",
       "    \n",
       "    if (root.Bokeh !== undefined || force === true) {\n",
       "      \n",
       "    for (var i = 0; i < inline_js.length; i++) {\n",
       "      inline_js[i].call(root, root.Bokeh);\n",
       "    }\n",
       "    if (force === true) {\n",
       "        display_loaded();\n",
       "      }} else if (Date.now() < root._bokeh_timeout) {\n",
       "      setTimeout(run_inline_js, 100);\n",
       "    } else if (!root._bokeh_failed_load) {\n",
       "      console.log(\"Bokeh: BokehJS failed to load within specified timeout.\");\n",
       "      root._bokeh_failed_load = true;\n",
       "    } else if (force !== true) {\n",
       "      var cell = $(document.getElementById(\"1001\")).parents('.cell').data().cell;\n",
       "      cell.output_area.append_execute_result(NB_LOAD_WARNING)\n",
       "    }\n",
       "\n",
       "  }\n",
       "\n",
       "  if (root._bokeh_is_loading === 0) {\n",
       "    console.debug(\"Bokeh: BokehJS loaded, going straight to plotting\");\n",
       "    run_inline_js();\n",
       "  } else {\n",
       "    load_libs(css_urls, js_urls, function() {\n",
       "      console.debug(\"Bokeh: BokehJS plotting callback run at\", now());\n",
       "      run_inline_js();\n",
       "    });\n",
       "  }\n",
       "}(window));"
      ],
      "application/vnd.bokehjs_load.v0+json": "\n(function(root) {\n  function now() {\n    return new Date();\n  }\n\n  var force = true;\n\n  if (typeof root._bokeh_onload_callbacks === \"undefined\" || force === true) {\n    root._bokeh_onload_callbacks = [];\n    root._bokeh_is_loading = undefined;\n  }\n\n  \n\n  \n  if (typeof (root._bokeh_timeout) === \"undefined\" || force === true) {\n    root._bokeh_timeout = Date.now() + 5000;\n    root._bokeh_failed_load = false;\n  }\n\n  var NB_LOAD_WARNING = {'data': {'text/html':\n     \"<div style='background-color: #fdd'>\\n\"+\n     \"<p>\\n\"+\n     \"BokehJS does not appear to have successfully loaded. If loading BokehJS from CDN, this \\n\"+\n     \"may be due to a slow or bad network connection. Possible fixes:\\n\"+\n     \"</p>\\n\"+\n     \"<ul>\\n\"+\n     \"<li>re-rerun `output_notebook()` to attempt to load from CDN again, or</li>\\n\"+\n     \"<li>use INLINE resources instead, as so:</li>\\n\"+\n     \"</ul>\\n\"+\n     \"<code>\\n\"+\n     \"from bokeh.resources import INLINE\\n\"+\n     \"output_notebook(resources=INLINE)\\n\"+\n     \"</code>\\n\"+\n     \"</div>\"}};\n\n  function display_loaded() {\n    var el = document.getElementById(\"1001\");\n    if (el != null) {\n      el.textContent = \"BokehJS is loading...\";\n    }\n    if (root.Bokeh !== undefined) {\n      if (el != null) {\n        el.textContent = \"BokehJS \" + root.Bokeh.version + \" successfully loaded.\";\n      }\n    } else if (Date.now() < root._bokeh_timeout) {\n      setTimeout(display_loaded, 100)\n    }\n  }\n\n\n  function run_callbacks() {\n    try {\n      root._bokeh_onload_callbacks.forEach(function(callback) {\n        if (callback != null)\n          callback();\n      });\n    } finally {\n      delete root._bokeh_onload_callbacks\n    }\n    console.debug(\"Bokeh: all callbacks have finished\");\n  }\n\n  function load_libs(css_urls, js_urls, callback) {\n    if (css_urls == null) css_urls = [];\n    if (js_urls == null) js_urls = [];\n\n    root._bokeh_onload_callbacks.push(callback);\n    if (root._bokeh_is_loading > 0) {\n      console.debug(\"Bokeh: BokehJS is being loaded, scheduling callback at\", now());\n      return null;\n    }\n    if (js_urls == null || js_urls.length === 0) {\n      run_callbacks();\n      return null;\n    }\n    console.debug(\"Bokeh: BokehJS not loaded, scheduling load and callback at\", now());\n    root._bokeh_is_loading = css_urls.length + js_urls.length;\n\n    function on_load() {\n      root._bokeh_is_loading--;\n      if (root._bokeh_is_loading === 0) {\n        console.debug(\"Bokeh: all BokehJS libraries/stylesheets loaded\");\n        run_callbacks()\n      }\n    }\n\n    function on_error() {\n      console.error(\"failed to load \" + url);\n    }\n\n    for (var i = 0; i < css_urls.length; i++) {\n      var url = css_urls[i];\n      const element = document.createElement(\"link\");\n      element.onload = on_load;\n      element.onerror = on_error;\n      element.rel = \"stylesheet\";\n      element.type = \"text/css\";\n      element.href = url;\n      console.debug(\"Bokeh: injecting link tag for BokehJS stylesheet: \", url);\n      document.body.appendChild(element);\n    }\n\n    const hashes = {\"https://cdn.bokeh.org/bokeh/release/bokeh-2.1.1.min.js\": \"kLr4fYcqcSpbuI95brIH3vnnYCquzzSxHPU6XGQCIkQRGJwhg0StNbj1eegrHs12\", \"https://cdn.bokeh.org/bokeh/release/bokeh-widgets-2.1.1.min.js\": \"xIGPmVtaOm+z0BqfSOMn4lOR6ciex448GIKG4eE61LsAvmGj48XcMQZtKcE/UXZe\", \"https://cdn.bokeh.org/bokeh/release/bokeh-tables-2.1.1.min.js\": \"Dc9u1wF/0zApGIWoBbH77iWEHtdmkuYWG839Uzmv8y8yBLXebjO9ZnERsde5Ln/P\", \"https://cdn.bokeh.org/bokeh/release/bokeh-gl-2.1.1.min.js\": \"cT9JaBz7GiRXdENrJLZNSC6eMNF3nh3fa5fTF51Svp+ukxPdwcU5kGXGPBgDCa2j\"};\n\n    for (var i = 0; i < js_urls.length; i++) {\n      var url = js_urls[i];\n      var element = document.createElement('script');\n      element.onload = on_load;\n      element.onerror = on_error;\n      element.async = false;\n      element.src = url;\n      if (url in hashes) {\n        element.crossOrigin = \"anonymous\";\n        element.integrity = \"sha384-\" + hashes[url];\n      }\n      console.debug(\"Bokeh: injecting script tag for BokehJS library: \", url);\n      document.head.appendChild(element);\n    }\n  };\n\n  function inject_raw_css(css) {\n    const element = document.createElement(\"style\");\n    element.appendChild(document.createTextNode(css));\n    document.body.appendChild(element);\n  }\n\n  \n  var js_urls = [\"https://cdn.bokeh.org/bokeh/release/bokeh-2.1.1.min.js\", \"https://cdn.bokeh.org/bokeh/release/bokeh-widgets-2.1.1.min.js\", \"https://cdn.bokeh.org/bokeh/release/bokeh-tables-2.1.1.min.js\", \"https://cdn.bokeh.org/bokeh/release/bokeh-gl-2.1.1.min.js\"];\n  var css_urls = [];\n  \n\n  var inline_js = [\n    function(Bokeh) {\n      Bokeh.set_log_level(\"info\");\n    },\n    function(Bokeh) {\n    \n    \n    }\n  ];\n\n  function run_inline_js() {\n    \n    if (root.Bokeh !== undefined || force === true) {\n      \n    for (var i = 0; i < inline_js.length; i++) {\n      inline_js[i].call(root, root.Bokeh);\n    }\n    if (force === true) {\n        display_loaded();\n      }} else if (Date.now() < root._bokeh_timeout) {\n      setTimeout(run_inline_js, 100);\n    } else if (!root._bokeh_failed_load) {\n      console.log(\"Bokeh: BokehJS failed to load within specified timeout.\");\n      root._bokeh_failed_load = true;\n    } else if (force !== true) {\n      var cell = $(document.getElementById(\"1001\")).parents('.cell').data().cell;\n      cell.output_area.append_execute_result(NB_LOAD_WARNING)\n    }\n\n  }\n\n  if (root._bokeh_is_loading === 0) {\n    console.debug(\"Bokeh: BokehJS loaded, going straight to plotting\");\n    run_inline_js();\n  } else {\n    load_libs(css_urls, js_urls, function() {\n      console.debug(\"Bokeh: BokehJS plotting callback run at\", now());\n      run_inline_js();\n    });\n  }\n}(window));"
     },
     "metadata": {},
     "output_type": "display_data"
    },
    {
     "name": "stdout",
     "output_type": "stream",
     "text": [
      "Linux DESKTOP-CR7O8A2 4.19.104-microsoft-standard #1 SMP Wed Feb 19 06:37:35 UTC 2020 x86_64 x86_64 x86_64 GNU/Linux\n"
     ]
    }
   ],
   "source": [
    "import numpy as np\n",
    "import sympy as sym\n",
    "import bokeh.plotting as bk\n",
    "import json\n",
    "from bokeh.io import output_notebook, export_png\n",
    "from bokeh.models import ColumnDataSource, HoverTool\n",
    "output_notebook()\n",
    "sym.init_printing(use_latex='mathjax',latex_mode='equation*')\n",
    "!uname -a"
   ]
  },
  {
   "cell_type": "markdown",
   "metadata": {},
   "source": [
    "\\cleardoublepage\n",
    "\n",
    "\\tableofcontents\n",
    "\n",
    "\\cleardoublepage"
   ]
  },
  {
   "cell_type": "markdown",
   "metadata": {},
   "source": [
    "# Introdução"
   ]
  },
  {
   "cell_type": "markdown",
   "metadata": {},
   "source": [
    "Em uma estrutura de treliças, cada barra é um elemento, e o Método dos Elementos Finitos coincide com a Análise Matricial de Estruturas. Considerando que todos os esforços na treliça são normais, não há cargas transversais, o problema, visto do ponto de vista das barras, é unidimensional, pois, da mesma forma que os esforços, os deslocamentos também são na mesma direção das barras.\n",
    "\n",
    "No caso de vigas, havendo momento fletor (ou torçor), tanto direto como em consequência de esforço cortante, há deformação no sentido perpendicular à viga, bem como rotação pontual em decorrência da deformação. Assim, uma viga será discretizada na forma de uma malha compostas por pequenos segmentos.\n",
    "\n",
    "Em um Elemento de Viga, cujo eixo principal é o eixo $x$, temos:\n",
    "\n",
    "* $V_{1} \\rightarrow$ Força perpendicular no início do Elemento;\n",
    "* $V_{2} \\rightarrow$ Força perpendicular no final do Elemento;\n",
    "* $P \\rightarrow$ Carga perpendicular distribuída;\n",
    "* $M_{1} \\rightarrow$ Momento no início do Elemento;\n",
    "* $M_{2} \\rightarrow$ Momento no final do Elemento;\n",
    "* $L \\rightarrow$ Comprimento do Elemento.\n",
    "\n",
    "Bem como os deslocamentos:\n",
    "* $u_{1}=\\delta_{1}\\rightarrow$ deflexão $\\delta$ no início do Elemento;\n",
    "* $u_{2}=\\theta_{1}\\rightarrow$ inclinação $\\theta$ no início do Elemento;\n",
    "* $u_{3}=\\delta_{2}\\rightarrow$ deflexão $\\delta$ no final do Elemento;\n",
    "* $u_{4}=\\theta_{2}\\rightarrow$ inclinação $\\theta$ no final do Elemento.\n",
    "\n",
    "No caso de uma viga retangular de largura $b$ e altura $h$, temos o momento de inércia:\n",
    "\n",
    "\\begin{equation*}\n",
    "    I = \\frac{bh^{3}}{12}\n",
    "\\end{equation*}\n",
    "\n",
    "Assim, sendo o Módulo de Elasticidade $E$ constante, o produto $EI$ também será.\n",
    "\n",
    "Temos, portanto, a seguinte equação diferencial da viga:\n",
    "\n",
    "\\begin{equation*}\n",
    "    EI\\frac{d^{4}u}{dx^{4}} = P\n",
    "\\end{equation*}\n",
    "\n",
    "Tem-se que:\n",
    "\n",
    "\\begin{equation*}\n",
    "    V = EI\\frac{d^{3}u}{dx^{3}}\n",
    "\\end{equation*}\n",
    "\n",
    "E\n",
    "\n",
    "\\begin{equation*}\n",
    "    M = EI\\frac{d^{2}u}{dx^{2}}\n",
    "\\end{equation*}"
   ]
  },
  {
   "cell_type": "markdown",
   "metadata": {},
   "source": [
    "Aplicando a SRP - Sentença de Resíduos Ponderados - na EDO da viga, resulta:\n",
    "\n",
    "\\begin{equation*}\n",
    "    \\int_{\\Omega}{N_{i}R}d\\Omega = 0\n",
    "\\end{equation*}\n",
    "\n",
    "$$\\therefore$$\n",
    "\n",
    "\\begin{equation*}\n",
    "    \\int_{0}^{L}{N_{i}\\left(EI\\frac{d^{4}u}{dx^{4}}-P\\right)}dx = 0\n",
    "\\end{equation*}\n"
   ]
  },
  {
   "cell_type": "code",
   "execution_count": 2,
   "metadata": {
    "tags": []
   },
   "outputs": [
    {
     "data": {
      "text/latex": [
       "\\begin{equation*}\\int\\limits_{0}^{L} \\left(E I \\frac{d^{4}}{d x^{4}} u{\\left(x \\right)} - P\\right) \\operatorname{N_{i}}{\\left(x \\right)}\\, dx\\end{equation*}"
      ],
      "text/plain": [
       "L                             \n",
       "⌠                             \n",
       "⎮ ⎛      4          ⎞         \n",
       "⎮ ⎜     d           ⎟         \n",
       "⎮ ⎜E⋅I⋅───(u(x)) - P⎟⋅Nᵢ(x) dx\n",
       "⎮ ⎜      4          ⎟         \n",
       "⎮ ⎝    dx           ⎠         \n",
       "⌡                             \n",
       "0                             "
      ]
     },
     "metadata": {},
     "output_type": "display_data"
    }
   ],
   "source": [
    "x = sym.symbols('x')\n",
    "P = sym.symbols('P')\n",
    "E,I,L = sym.symbols('E,I,L')\n",
    "u = sym.Function('u')\n",
    "N_i = sym.symbols('N_i',cls=sym.Function)\n",
    "R = E*I*sym.diff(u(x),x,4)-P\n",
    "SRP = sym.integrate(N_i(x)*R,(x,0,L))\n",
    "display(SRP.doit())"
   ]
  },
  {
   "cell_type": "markdown",
   "metadata": {},
   "source": [
    "Essa integral não pode ser resolvida pelos métodos sym.dsolve(sym.Eq(SRP,0),u(x)) ou SRP.doit(), pois o nível de complexidade ainda não foi implementado na biblioteca.\n",
    "\n",
    "Utilizando a integração por partes, obtém-se o seguinte:"
   ]
  },
  {
   "cell_type": "code",
   "execution_count": 3,
   "metadata": {},
   "outputs": [
    {
     "data": {
      "text/latex": [
       "\\begin{equation*}E I \\int\\limits_{0}^{L} \\frac{d}{d x} \\operatorname{N_{i}}{\\left(x \\right)} \\frac{d^{3}}{d x^{3}} u{\\left(x \\right)}\\, dx\\end{equation*}"
      ],
      "text/plain": [
       "    L                       \n",
       "    ⌠                       \n",
       "    ⎮             3         \n",
       "    ⎮ d          d          \n",
       "E⋅I⋅⎮ ──(Nᵢ(x))⋅───(u(x)) dx\n",
       "    ⎮ dx          3         \n",
       "    ⎮           dx          \n",
       "    ⌡                       \n",
       "    0                       "
      ]
     },
     "metadata": {},
     "output_type": "display_data"
    }
   ],
   "source": [
    "eq = sym.integrate(E*I*(sym.diff(N_i(x),x)*sym.diff(u(x),x,3)),(x,0,L))\n",
    "display(eq.doit())"
   ]
  },
  {
   "cell_type": "markdown",
   "metadata": {},
   "source": [
    "# Funções de Hermite"
   ]
  },
  {
   "cell_type": "code",
   "execution_count": 4,
   "metadata": {},
   "outputs": [
    {
     "data": {
      "text/latex": [
       "\\begin{equation*}0.5 - \\frac{- \\frac{3 L}{2} + 3 x}{2 L} + \\frac{2 \\left(- \\frac{L}{2} + x\\right)^{3}}{L^{3}}\\end{equation*}"
      ],
      "text/plain": [
       "                               3\n",
       "        3⋅L           ⎛  L    ⎞ \n",
       "      - ─── + 3⋅x   2⋅⎜- ─ + x⎟ \n",
       "         2            ⎝  2    ⎠ \n",
       "0.5 - ─────────── + ────────────\n",
       "          2⋅L             3     \n",
       "                         L      "
      ]
     },
     "metadata": {},
     "output_type": "display_data"
    },
    {
     "data": {
      "text/latex": [
       "\\begin{equation*}\\frac{L}{4} - \\frac{x}{4} - \\frac{\\left(- \\frac{L}{2} + x\\right)^{2}}{2 L} + \\frac{\\left(- \\frac{L}{2} + x\\right)^{3}}{L^{2}}\\end{equation*}"
      ],
      "text/plain": [
       "                 2            3\n",
       "        ⎛  L    ⎞    ⎛  L    ⎞ \n",
       "        ⎜- ─ + x⎟    ⎜- ─ + x⎟ \n",
       "L   x   ⎝  2    ⎠    ⎝  2    ⎠ \n",
       "─ - ─ - ────────── + ──────────\n",
       "4   4      2⋅L            2    \n",
       "                         L     "
      ]
     },
     "metadata": {},
     "output_type": "display_data"
    },
    {
     "data": {
      "text/latex": [
       "\\begin{equation*}0.5 + \\frac{- \\frac{3 L}{2} + 3 x}{2 L} - \\frac{2 \\left(- \\frac{L}{2} + x\\right)^{3}}{L^{3}}\\end{equation*}"
      ],
      "text/plain": [
       "                               3\n",
       "        3⋅L           ⎛  L    ⎞ \n",
       "      - ─── + 3⋅x   2⋅⎜- ─ + x⎟ \n",
       "         2            ⎝  2    ⎠ \n",
       "0.5 + ─────────── - ────────────\n",
       "          2⋅L             3     \n",
       "                         L      "
      ]
     },
     "metadata": {},
     "output_type": "display_data"
    },
    {
     "data": {
      "text/latex": [
       "\\begin{equation*}- \\frac{x}{4} + \\frac{\\left(- \\frac{L}{2} + x\\right)^{2}}{2 L} + \\frac{\\left(- \\frac{L}{2} + x\\right)^{3}}{L^{2}}\\end{equation*}"
      ],
      "text/plain": [
       "               2            3\n",
       "      ⎛  L    ⎞    ⎛  L    ⎞ \n",
       "      ⎜- ─ + x⎟    ⎜- ─ + x⎟ \n",
       "  x   ⎝  2    ⎠    ⎝  2    ⎠ \n",
       "- ─ + ────────── + ──────────\n",
       "  4      2⋅L            2    \n",
       "                       L     "
      ]
     },
     "metadata": {},
     "output_type": "display_data"
    }
   ],
   "source": [
    "N_1 = 1/2 - (3*(x-L/2))/(2*L) + (2*(x-L/2)**3)/(L**3)\n",
    "\n",
    "N_2 = L/8 - (x-L/2)/4 - ((x-L/2)**2)/(2*L) + ((x-L/2)**3)/(L**2)\n",
    "\n",
    "N_3 = 1/2 + (3*(x-L/2))/(2*L) - (2*(x-L/2)**3)/(L**3)\n",
    "\n",
    "N_4 = -L/8 - (x-L/2)/4 + ((x-L/2)**2)/(2*L) + ((x-L/2)**3)/(L**2)\n",
    "\n",
    "display(N_1)\n",
    "display(N_2)\n",
    "display(N_3)\n",
    "display(N_4)"
   ]
  },
  {
   "cell_type": "markdown",
   "metadata": {},
   "source": [
    "# Matriz de Rigidez Local"
   ]
  },
  {
   "cell_type": "markdown",
   "metadata": {},
   "source": [
    "\\begin{equation*}\n",
    "    K_{i,j} = \\int_{0}^{L}{\\frac{d^{2}N_{i}\\left(x\\right)}{dx^{2}}\\frac{d^{2}N_{j}\\left(x\\right)}{dx^{2}}}dx\n",
    "\\end{equation*}"
   ]
  },
  {
   "cell_type": "code",
   "execution_count": 5,
   "metadata": {
    "tags": []
   },
   "outputs": [
    {
     "data": {
      "text/latex": [
       "\\begin{equation*}\\left[\\begin{matrix}\\frac{12}{L^{2}} & \\frac{6}{L} & - \\frac{12}{L^{2}} & \\frac{6}{L}\\\\\\frac{6}{L} & 4 & - \\frac{6}{L} & 2\\\\- \\frac{12}{L^{2}} & - \\frac{6}{L} & \\frac{12}{L^{2}} & - \\frac{6}{L}\\\\\\frac{6}{L} & 2 & - \\frac{6}{L} & 4\\end{matrix}\\right]\\end{equation*}"
      ],
      "text/plain": [
       "⎡ 12    6   -12    6 ⎤\n",
       "⎢ ──    ─   ────   ─ ⎥\n",
       "⎢  2    L     2    L ⎥\n",
       "⎢ L          L       ⎥\n",
       "⎢                    ⎥\n",
       "⎢ 6         -6       ⎥\n",
       "⎢ ─     4   ───    2 ⎥\n",
       "⎢ L          L       ⎥\n",
       "⎢                    ⎥\n",
       "⎢-12   -6    12   -6 ⎥\n",
       "⎢────  ───   ──   ───⎥\n",
       "⎢  2    L     2    L ⎥\n",
       "⎢ L          L       ⎥\n",
       "⎢                    ⎥\n",
       "⎢ 6         -6       ⎥\n",
       "⎢ ─     2   ───    4 ⎥\n",
       "⎣ L          L       ⎦"
      ]
     },
     "metadata": {},
     "output_type": "display_data"
    }
   ],
   "source": [
    "K_e = sym.Matrix([[0,0,0,0],[0,0,0,0],[0,0,0,0],[0,0,0,0]])\n",
    "\n",
    "K_e[0,0] = E*I*sym.integrate(sym.diff(N_1,x,2)*sym.diff(N_1,x,2),[x,0,L])\n",
    "K_e[0,1] = E*I*sym.integrate(sym.diff(N_1,x,2)*sym.diff(N_2,x,2),[x,0,L])\n",
    "K_e[0,2] = E*I*sym.integrate(sym.diff(N_1,x,2)*sym.diff(N_3,x,2),[x,0,L])\n",
    "K_e[0,3] = E*I*sym.integrate(sym.diff(N_1,x,2)*sym.diff(N_4,x,2),[x,0,L])\n",
    "\n",
    "K_e[1,0] = K_e[0,1]\n",
    "K_e[1,1] = E*I*sym.integrate(sym.diff(N_2,x,2)*sym.diff(N_2,x,2),[x,0,L])\n",
    "K_e[1,2] = E*I*sym.integrate(sym.diff(N_2,x,2)*sym.diff(N_3,x,2),[x,0,L])\n",
    "K_e[1,3] = E*I*sym.integrate(sym.diff(N_2,x,2)*sym.diff(N_4,x,2),[x,0,L])\n",
    "\n",
    "K_e[2,0] = K_e[0,2]\n",
    "K_e[2,1] = K_e[1,2]\n",
    "K_e[2,2] = E*I*sym.integrate(sym.diff(N_3,x,2)*sym.diff(N_3,x,2),[x,0,L])\n",
    "K_e[2,3] = E*I*sym.integrate(sym.diff(N_3,x,2)*sym.diff(N_4,x,2),[x,0,L])\n",
    "\n",
    "K_e[3,0] = K_e[0,3]\n",
    "K_e[3,1] = K_e[1,3]\n",
    "K_e[3,2] = K_e[2,3]\n",
    "K_e[3,3] = E*I*sym.integrate(sym.diff(N_4,x,2)*sym.diff(N_4,x,2),[x,0,L])\n",
    "\n",
    "display(K_e/(E*I/L))"
   ]
  },
  {
   "cell_type": "markdown",
   "metadata": {},
   "source": [
    "# Vetor Local de Forças Nodais"
   ]
  },
  {
   "cell_type": "code",
   "execution_count": 6,
   "metadata": {},
   "outputs": [
    {
     "data": {
      "text/latex": [
       "\\begin{equation*}\\left[\\begin{matrix}\\frac{L P}{2} + V_{1}\\\\\\frac{L^{2} P}{12} - M_{1}\\\\\\frac{L P}{2} - V_{2}\\\\- \\frac{L^{2} P}{12} + M_{2}\\end{matrix}\\right]\\end{equation*}"
      ],
      "text/plain": [
       "⎡ L⋅P       ⎤\n",
       "⎢ ─── + V₁  ⎥\n",
       "⎢  2        ⎥\n",
       "⎢           ⎥\n",
       "⎢  2        ⎥\n",
       "⎢ L ⋅P      ⎥\n",
       "⎢ ──── - M₁ ⎥\n",
       "⎢  12       ⎥\n",
       "⎢           ⎥\n",
       "⎢ L⋅P       ⎥\n",
       "⎢ ─── - V₂  ⎥\n",
       "⎢  2        ⎥\n",
       "⎢           ⎥\n",
       "⎢   2       ⎥\n",
       "⎢  L ⋅P     ⎥\n",
       "⎢- ──── + M₂⎥\n",
       "⎣   12      ⎦"
      ]
     },
     "metadata": {},
     "output_type": "display_data"
    }
   ],
   "source": [
    "V_1,M_1,V_2,M_2 = sym.symbols('V_1,M_1,V_2,M_2')\n",
    "f_e = sym.Matrix([V_1,-M_1,-V_2,M_2])\n",
    "\n",
    "f_e[0] += P*L/2\n",
    "f_e[1] += P*L**2/12\n",
    "f_e[2] += P*L/2\n",
    "f_e[3] += -P*L**2/12\n",
    "\n",
    "display(f_e)"
   ]
  },
  {
   "cell_type": "markdown",
   "metadata": {},
   "source": [
    "# Exemplo Analítico"
   ]
  },
  {
   "cell_type": "markdown",
   "metadata": {},
   "source": [
    "A partir da definição da Matriz de Rigidez e do Vetor de Cargas Nodais dentro de um único Elemento $e$, podemos expandir para uma viga (ou diversas vigas) em uma estrutura dividida em $n$ Elementos.\n",
    "\n",
    "Vamos utilizar, como exemplo, uma viga biapoiada de $2~m$ de comprimento, sendo o apoio no início do vão, de segundo gênero, e o do final do vão, de primeiro gênero. A viga está sujeita a uma carga uniformemente distribuída $P = 10~kN/m$ e tem o produto constante $EI = 10^{2}kNm^{2}$. O problema consiste em calcular o deslocamento e o momento no centro do vão, bem como as reações e as rotações nos apoios.\n",
    "\n",
    "A solução analítica do problema é:\n",
    "\n",
    "$$u =$$"
   ]
  },
  {
   "cell_type": "code",
   "execution_count": 7,
   "metadata": {},
   "outputs": [
    {
     "data": {
      "text/latex": [
       "\\begin{equation*}\\frac{0.0130208333333333 L^{4} P}{E I}\\end{equation*}"
      ],
      "text/plain": [
       "                    4  \n",
       "0.0130208333333333⋅L ⋅P\n",
       "───────────────────────\n",
       "          E⋅I          "
      ]
     },
     "metadata": {},
     "output_type": "display_data"
    },
    {
     "data": {
      "text/latex": [
       "\\begin{equation*}0.0208333333333333\\end{equation*}"
      ],
      "text/plain": [
       "0.0208333333333333"
      ]
     },
     "metadata": {},
     "output_type": "display_data"
    }
   ],
   "source": [
    "u = (5/384)*(P*L**4)/(E*I)\n",
    "display(u)\n",
    "display(u.subs(P,10).subs(L,2).subs(E*I,10**2))"
   ]
  },
  {
   "cell_type": "markdown",
   "metadata": {},
   "source": [
    "$$M =$$"
   ]
  },
  {
   "cell_type": "code",
   "execution_count": 8,
   "metadata": {},
   "outputs": [
    {
     "data": {
      "text/latex": [
       "\\begin{equation*}\\frac{L^{2} P}{8}\\end{equation*}"
      ],
      "text/plain": [
       " 2  \n",
       "L ⋅P\n",
       "────\n",
       " 8  "
      ]
     },
     "metadata": {},
     "output_type": "display_data"
    },
    {
     "data": {
      "text/latex": [
       "\\begin{equation*}5\\end{equation*}"
      ],
      "text/plain": [
       "5"
      ]
     },
     "metadata": {},
     "output_type": "display_data"
    }
   ],
   "source": [
    "M = (P*L**2)/8\n",
    "display(M)\n",
    "display(M.subs(P,10).subs(L,2))"
   ]
  },
  {
   "cell_type": "markdown",
   "metadata": {},
   "source": [
    "$$\\theta_{A} = -\\theta_{B} =$$"
   ]
  },
  {
   "cell_type": "code",
   "execution_count": 9,
   "metadata": {},
   "outputs": [
    {
     "data": {
      "text/latex": [
       "\\begin{equation*}\\frac{L^{3} P}{24 E I}\\end{equation*}"
      ],
      "text/plain": [
       "  3   \n",
       " L ⋅P \n",
       "──────\n",
       "24⋅E⋅I"
      ]
     },
     "metadata": {},
     "output_type": "display_data"
    },
    {
     "data": {
      "text/latex": [
       "\\begin{equation*}\\frac{1}{30}\\end{equation*}"
      ],
      "text/plain": [
       "1/30"
      ]
     },
     "metadata": {},
     "output_type": "display_data"
    }
   ],
   "source": [
    "theta_A = (P*L**3)/(24*E*I)\n",
    "display(theta_A)\n",
    "display(theta_A.subs(P,10).subs(L,2).subs(E*I,10**2))"
   ]
  },
  {
   "cell_type": "markdown",
   "metadata": {},
   "source": [
    "$$V_{A} = V_{B} =$$"
   ]
  },
  {
   "cell_type": "code",
   "execution_count": 10,
   "metadata": {},
   "outputs": [
    {
     "data": {
      "text/latex": [
       "\\begin{equation*}\\frac{L P}{2}\\end{equation*}"
      ],
      "text/plain": [
       "L⋅P\n",
       "───\n",
       " 2 "
      ]
     },
     "metadata": {},
     "output_type": "display_data"
    },
    {
     "data": {
      "text/latex": [
       "\\begin{equation*}10\\end{equation*}"
      ],
      "text/plain": [
       "10"
      ]
     },
     "metadata": {},
     "output_type": "display_data"
    }
   ],
   "source": [
    "V_A = P*L/2\n",
    "display(V_A)\n",
    "display(V_A.subs(P,10).subs(L,2))"
   ]
  },
  {
   "cell_type": "markdown",
   "metadata": {},
   "source": [
    "Considerando dois Elementos na solução, temos então:"
   ]
  },
  {
   "cell_type": "markdown",
   "metadata": {},
   "source": [
    "## Elemento 1\n",
    "\n",
    "### Variáveis de Deformação\n",
    "\n",
    "* $u_{1}^{1}\\rightarrow$ deflexão $\\delta$ no primeiro apoio;\n",
    "\n",
    "* $u_{2}^{1}\\rightarrow$ rotação $\\theta$ no primeiro apoio;\n",
    "\n",
    "* $u_{3}^{1}\\rightarrow$ deflexão $\\delta$ no centro do vão;\n",
    "\n",
    "* $u_{4}^{1}\\rightarrow$ rotação $\\theta$ no centro do vão.\n",
    "\n",
    "### Variáveis de Carregamento\n",
    "\n",
    "* $M_{1}^{1}\\rightarrow$ Momento Fletor no primeiro apoio;\n",
    "\n",
    "* $V_{1}^{1}\\rightarrow$ Força Cortante no primeiro apoio;\n",
    "\n",
    "* $M_{2}^{1}\\rightarrow$ Momento Fletor no centro do vão;\n",
    "\n",
    "* $V_{2}^{1}\\rightarrow$ Força Cortante no centro do vão."
   ]
  },
  {
   "cell_type": "markdown",
   "metadata": {},
   "source": [
    "## Elemento 2\n",
    "\n",
    "### Variáveis de Deformação\n",
    "\n",
    "* $u_{1}^{2}\\rightarrow$ deflexão $\\delta$ no centro do vão;\n",
    "\n",
    "* $u_{2}^{2}\\rightarrow$ rotação $\\theta$ no centro do vão;\n",
    "\n",
    "* $u_{3}^{2}\\rightarrow$ deflexão $\\delta$ no segundo apoio;\n",
    "\n",
    "* $u_{4}^{2}\\rightarrow$ rotação $\\theta$ no segundo apoio.\n",
    "\n",
    "### Variáveis de Carregamento\n",
    "\n",
    "* $M_{1}^{2}\\rightarrow$ Momento Fletor no centro do vão;\n",
    "\n",
    "* $V_{1}^{2}\\rightarrow$ Força Cortante no centro do vão;\n",
    "\n",
    "* $M_{2}^{2}\\rightarrow$ Momento Fletor no segundo apoio;\n",
    "\n",
    "* $V_{2}^{2}\\rightarrow$ Força Cortante no csegundo apoio."
   ]
  },
  {
   "cell_type": "markdown",
   "metadata": {},
   "source": [
    "### Nó Central\n",
    "\n",
    " No nó central há a conexão entre o segundo nó do primeiro Elemento e o primeiro nó do segundo Elemento. Portanto, seus valores coincidem. Assim,\n",
    "\n",
    "\\begin{equation*}\n",
    "    M_{2}^{1} = M_{1}^{2}\n",
    "\\end{equation*}\n",
    "\n",
    "E\n",
    "\n",
    "\\begin{equation*}\n",
    "    V_{1}^{2} = V_{2}^{1}\n",
    "\\end{equation*}"
   ]
  },
  {
   "cell_type": "markdown",
   "metadata": {},
   "source": [
    "## Cálculo das Matrizes de Rigidez Locais"
   ]
  },
  {
   "cell_type": "markdown",
   "metadata": {},
   "source": [
    "$$\\mathbf{K}_{e} = \\frac{EI}{L}\\times$$"
   ]
  },
  {
   "cell_type": "code",
   "execution_count": 11,
   "metadata": {},
   "outputs": [
    {
     "data": {
      "text/latex": [
       "\\begin{equation*}\\left[\\begin{matrix}\\frac{12}{L^{2}} & \\frac{6}{L} & - \\frac{12}{L^{2}} & \\frac{6}{L}\\\\\\frac{6}{L} & 4 & - \\frac{6}{L} & 2\\\\- \\frac{12}{L^{2}} & - \\frac{6}{L} & \\frac{12}{L^{2}} & - \\frac{6}{L}\\\\\\frac{6}{L} & 2 & - \\frac{6}{L} & 4\\end{matrix}\\right]\\end{equation*}"
      ],
      "text/plain": [
       "⎡ 12    6   -12    6 ⎤\n",
       "⎢ ──    ─   ────   ─ ⎥\n",
       "⎢  2    L     2    L ⎥\n",
       "⎢ L          L       ⎥\n",
       "⎢                    ⎥\n",
       "⎢ 6         -6       ⎥\n",
       "⎢ ─     4   ───    2 ⎥\n",
       "⎢ L          L       ⎥\n",
       "⎢                    ⎥\n",
       "⎢-12   -6    12   -6 ⎥\n",
       "⎢────  ───   ──   ───⎥\n",
       "⎢  2    L     2    L ⎥\n",
       "⎢ L          L       ⎥\n",
       "⎢                    ⎥\n",
       "⎢ 6         -6       ⎥\n",
       "⎢ ─     2   ───    4 ⎥\n",
       "⎣ L          L       ⎦"
      ]
     },
     "metadata": {},
     "output_type": "display_data"
    }
   ],
   "source": [
    "display(K_e/(E*I/L))"
   ]
  },
  {
   "cell_type": "markdown",
   "metadata": {},
   "source": [
    "## Elemento 1"
   ]
  },
  {
   "cell_type": "markdown",
   "metadata": {},
   "source": [
    "$$K_{1} = 10^{2}\\times$$"
   ]
  },
  {
   "cell_type": "code",
   "execution_count": 12,
   "metadata": {},
   "outputs": [
    {
     "data": {
      "text/latex": [
       "\\begin{equation*}\\left[\\begin{matrix}12 & 6 & -12 & 6\\\\6 & 4 & -6 & 2\\\\-12 & -6 & 12 & -6\\\\6 & 2 & -6 & 4\\end{matrix}\\right]\\end{equation*}"
      ],
      "text/plain": [
       "⎡12   6   -12  6 ⎤\n",
       "⎢                ⎥\n",
       "⎢ 6   4   -6   2 ⎥\n",
       "⎢                ⎥\n",
       "⎢-12  -6  12   -6⎥\n",
       "⎢                ⎥\n",
       "⎣ 6   2   -6   4 ⎦"
      ]
     },
     "metadata": {},
     "output_type": "display_data"
    }
   ],
   "source": [
    "K_1 = K_e.subs(E*I,10**2).subs(L,1)\n",
    "display(K_1/100)"
   ]
  },
  {
   "cell_type": "markdown",
   "metadata": {},
   "source": [
    "## Elemento 2"
   ]
  },
  {
   "cell_type": "markdown",
   "metadata": {},
   "source": [
    "$$K_{2} = 10^{2}\\times$$"
   ]
  },
  {
   "cell_type": "code",
   "execution_count": 13,
   "metadata": {},
   "outputs": [
    {
     "data": {
      "text/latex": [
       "\\begin{equation*}\\left[\\begin{matrix}12 & 6 & -12 & 6\\\\6 & 4 & -6 & 2\\\\-12 & -6 & 12 & -6\\\\6 & 2 & -6 & 4\\end{matrix}\\right]\\end{equation*}"
      ],
      "text/plain": [
       "⎡12   6   -12  6 ⎤\n",
       "⎢                ⎥\n",
       "⎢ 6   4   -6   2 ⎥\n",
       "⎢                ⎥\n",
       "⎢-12  -6  12   -6⎥\n",
       "⎢                ⎥\n",
       "⎣ 6   2   -6   4 ⎦"
      ]
     },
     "metadata": {},
     "output_type": "display_data"
    }
   ],
   "source": [
    "K_2 = K_e.subs(E*I,10**2).subs(L,1)\n",
    "display(K_1/100)"
   ]
  },
  {
   "cell_type": "markdown",
   "metadata": {},
   "source": [
    "## Cálculo do Vetor $\\vec{f}$"
   ]
  },
  {
   "cell_type": "code",
   "execution_count": 14,
   "metadata": {},
   "outputs": [
    {
     "data": {
      "text/latex": [
       "\\begin{equation*}\\left[\\begin{matrix}\\frac{L P}{2} + V_{1}\\\\\\frac{L^{2} P}{12} - M_{1}\\\\\\frac{L P}{2} - V_{2}\\\\- \\frac{L^{2} P}{12} + M_{2}\\end{matrix}\\right]\\end{equation*}"
      ],
      "text/plain": [
       "⎡ L⋅P       ⎤\n",
       "⎢ ─── + V₁  ⎥\n",
       "⎢  2        ⎥\n",
       "⎢           ⎥\n",
       "⎢  2        ⎥\n",
       "⎢ L ⋅P      ⎥\n",
       "⎢ ──── - M₁ ⎥\n",
       "⎢  12       ⎥\n",
       "⎢           ⎥\n",
       "⎢ L⋅P       ⎥\n",
       "⎢ ─── - V₂  ⎥\n",
       "⎢  2        ⎥\n",
       "⎢           ⎥\n",
       "⎢   2       ⎥\n",
       "⎢  L ⋅P     ⎥\n",
       "⎢- ──── + M₂⎥\n",
       "⎣   12      ⎦"
      ]
     },
     "metadata": {},
     "output_type": "display_data"
    }
   ],
   "source": [
    "display(f_e)"
   ]
  },
  {
   "cell_type": "markdown",
   "metadata": {},
   "source": [
    "### Elemento 1"
   ]
  },
  {
   "cell_type": "code",
   "execution_count": 15,
   "metadata": {},
   "outputs": [
    {
     "data": {
      "text/latex": [
       "\\begin{equation*}\\left[\\begin{matrix}V_{1 1} + 5\\\\\\frac{5}{6} - M_{1 1}\\\\5 - V_{2 1}\\\\M_{2 1} - \\frac{5}{6}\\end{matrix}\\right]\\end{equation*}"
      ],
      "text/plain": [
       "⎡ V₁ ₁ + 5 ⎤\n",
       "⎢          ⎥\n",
       "⎢5/6 - M₁ ₁⎥\n",
       "⎢          ⎥\n",
       "⎢ 5 - V₂ ₁ ⎥\n",
       "⎢          ⎥\n",
       "⎣M₂ ₁ - 5/6⎦"
      ]
     },
     "metadata": {},
     "output_type": "display_data"
    }
   ],
   "source": [
    "V_1_1,M_1_1,V_2_1,M_2_1 = sym.symbols('V_1_1,M_1_1,V_2_1,M_2_1')\n",
    "f_1 = f_e.subs(L,1).subs(P,10).subs(V_1,V_1_1).subs(V_2,V_2_1).subs(M_1,M_1_1).subs(M_2,M_2_1)\n",
    "display(f_1)"
   ]
  },
  {
   "cell_type": "markdown",
   "metadata": {},
   "source": [
    "### Elemento 2"
   ]
  },
  {
   "cell_type": "code",
   "execution_count": 16,
   "metadata": {},
   "outputs": [
    {
     "data": {
      "text/latex": [
       "\\begin{equation*}\\left[\\begin{matrix}V_{1 2} + 5\\\\\\frac{5}{6} - M_{1 2}\\\\5 - V_{2 2}\\\\M_{2 2} - \\frac{5}{6}\\end{matrix}\\right]\\end{equation*}"
      ],
      "text/plain": [
       "⎡ V₁ ₂ + 5 ⎤\n",
       "⎢          ⎥\n",
       "⎢5/6 - M₁ ₂⎥\n",
       "⎢          ⎥\n",
       "⎢ 5 - V₂ ₂ ⎥\n",
       "⎢          ⎥\n",
       "⎣M₂ ₂ - 5/6⎦"
      ]
     },
     "metadata": {},
     "output_type": "display_data"
    }
   ],
   "source": [
    "V_1_2,M_1_2,V_2_2,M_2_2 = sym.symbols('V_1_2,M_1_2,V_2_2,M_2_2')\n",
    "f_2 = f_e.subs(L,1).subs(P,10).subs(V_1,V_1_2).subs(V_2,V_2_2).subs(M_1,M_1_2).subs(M_2,M_2_2)\n",
    "display(f_2)"
   ]
  },
  {
   "cell_type": "markdown",
   "metadata": {},
   "source": [
    "### Vetor de Forças Global"
   ]
  },
  {
   "cell_type": "code",
   "execution_count": 17,
   "metadata": {},
   "outputs": [
    {
     "data": {
      "text/latex": [
       "\\begin{equation*}\\left[\\begin{matrix}V_{1 1} + 5\\\\\\frac{5}{6} - M_{1 1}\\\\V_{1 2} - V_{2 1} + 10\\\\- M_{1 2} + M_{2 1}\\\\5 - V_{2 2}\\\\M_{2 2} - \\frac{5}{6}\\end{matrix}\\right]\\end{equation*}"
      ],
      "text/plain": [
       "⎡    V₁ ₁ + 5    ⎤\n",
       "⎢                ⎥\n",
       "⎢   5/6 - M₁ ₁   ⎥\n",
       "⎢                ⎥\n",
       "⎢V₁ ₂ - V₂ ₁ + 10⎥\n",
       "⎢                ⎥\n",
       "⎢  -M₁ ₂ + M₂ ₁  ⎥\n",
       "⎢                ⎥\n",
       "⎢    5 - V₂ ₂    ⎥\n",
       "⎢                ⎥\n",
       "⎣   M₂ ₂ - 5/6   ⎦"
      ]
     },
     "metadata": {},
     "output_type": "display_data"
    }
   ],
   "source": [
    "f = sym.zeros(6,1)\n",
    "f[0:4,0] += f_1[0:4,0]\n",
    "f[2:6,0] += f_2[0:4,0]\n",
    "display(f)"
   ]
  },
  {
   "cell_type": "markdown",
   "metadata": {},
   "source": [
    "Entretanto, lambramos que no nó central, temos:\n",
    "\n",
    "\\begin{equation*}\n",
    "    \\left[\\begin{matrix}\n",
    "        -V_{2}^{1} & + & V_{1}^{2} & = & 0 \\\\\n",
    "        M_{2}^{1} & - & M_{1}^{2} & = & 0\n",
    "    \\end{matrix}\\right.\n",
    "\\end{equation*}\n",
    "\n",
    "Portanto, $\\vec{f}$ torna-se:"
   ]
  },
  {
   "cell_type": "code",
   "execution_count": 18,
   "metadata": {},
   "outputs": [
    {
     "data": {
      "text/latex": [
       "\\begin{equation*}\\left[\\begin{matrix}V_{1 1} + 5\\\\\\frac{5}{6} - M_{1 1}\\\\10\\\\0\\\\5 - V_{2 2}\\\\M_{2 2} - \\frac{5}{6}\\end{matrix}\\right]\\end{equation*}"
      ],
      "text/plain": [
       "⎡ V₁ ₁ + 5 ⎤\n",
       "⎢          ⎥\n",
       "⎢5/6 - M₁ ₁⎥\n",
       "⎢          ⎥\n",
       "⎢    10    ⎥\n",
       "⎢          ⎥\n",
       "⎢    0     ⎥\n",
       "⎢          ⎥\n",
       "⎢ 5 - V₂ ₂ ⎥\n",
       "⎢          ⎥\n",
       "⎣M₂ ₂ - 5/6⎦"
      ]
     },
     "metadata": {},
     "output_type": "display_data"
    }
   ],
   "source": [
    "f_G = f.subs(-V_2_1+V_1_2,0).subs(M_2_1-M_1_2,0)\n",
    "display(f_G)"
   ]
  },
  {
   "cell_type": "markdown",
   "metadata": {},
   "source": [
    "## Matriz de Rigidez Global"
   ]
  },
  {
   "cell_type": "markdown",
   "metadata": {},
   "source": [
    "A Matriz de Rigidez Global fica:\n",
    "\n",
    "$$K_G = 10^{2}\\times$$"
   ]
  },
  {
   "cell_type": "code",
   "execution_count": 19,
   "metadata": {},
   "outputs": [
    {
     "data": {
      "text/latex": [
       "\\begin{equation*}\\left[\\begin{matrix}12 & 6 & -12 & 6 & 0 & 0\\\\6 & 4 & -6 & 2 & 0 & 0\\\\-12 & -6 & 24 & 0 & -12 & 6\\\\6 & 2 & 0 & 8 & -6 & 2\\\\0 & 0 & -12 & -6 & 12 & -6\\\\0 & 0 & 6 & 2 & -6 & 4\\end{matrix}\\right]\\end{equation*}"
      ],
      "text/plain": [
       "⎡12   6   -12  6    0   0 ⎤\n",
       "⎢                         ⎥\n",
       "⎢ 6   4   -6   2    0   0 ⎥\n",
       "⎢                         ⎥\n",
       "⎢-12  -6  24   0   -12  6 ⎥\n",
       "⎢                         ⎥\n",
       "⎢ 6   2    0   8   -6   2 ⎥\n",
       "⎢                         ⎥\n",
       "⎢ 0   0   -12  -6  12   -6⎥\n",
       "⎢                         ⎥\n",
       "⎣ 0   0    6   2   -6   4 ⎦"
      ]
     },
     "metadata": {},
     "output_type": "display_data"
    }
   ],
   "source": [
    "K_G = sym.zeros(6,6)\n",
    "K_G[0:4,0:4] += K_1\n",
    "K_G[2:6,2:6] += K_2\n",
    "display(K_G/100)"
   ]
  },
  {
   "cell_type": "markdown",
   "metadata": {},
   "source": [
    "## Vetor de Deslocamentos\n",
    "\n",
    "Considerando as condições de contorno, temos:\n",
    "\n",
    "\\begin{equation*}\n",
    "    \\left\\{\\begin{matrix}\n",
    "        u_{1}^{1} = u_1 & = & 0 \\\\\n",
    "        u_{1}^{2} = u_5 & = & 0 \\\\\n",
    "        M_{1}^{1} & = & 0 \\\\\n",
    "        M_{2}^{2} & = & 0 \\\\\n",
    "    \\end{matrix}\\right.\n",
    "\\end{equation*}\n",
    "\n",
    "Portanto,"
   ]
  },
  {
   "cell_type": "code",
   "execution_count": 20,
   "metadata": {},
   "outputs": [
    {
     "data": {
      "text/latex": [
       "\\begin{equation*}\\left[\\begin{matrix}0\\\\u_{2}\\\\u_{3}\\\\u_{4}\\\\0\\\\u_{6}\\end{matrix}\\right]\\end{equation*}"
      ],
      "text/plain": [
       "⎡0 ⎤\n",
       "⎢  ⎥\n",
       "⎢u₂⎥\n",
       "⎢  ⎥\n",
       "⎢u₃⎥\n",
       "⎢  ⎥\n",
       "⎢u₄⎥\n",
       "⎢  ⎥\n",
       "⎢0 ⎥\n",
       "⎢  ⎥\n",
       "⎣u₆⎦"
      ]
     },
     "metadata": {},
     "output_type": "display_data"
    },
    {
     "data": {
      "text/latex": [
       "\\begin{equation*}\\left[\\begin{matrix}V_{1 1} + 5\\\\\\frac{5}{6}\\\\10\\\\0\\\\5 - V_{2 2}\\\\- \\frac{5}{6}\\end{matrix}\\right]\\end{equation*}"
      ],
      "text/plain": [
       "⎡V₁ ₁ + 5⎤\n",
       "⎢        ⎥\n",
       "⎢  5/6   ⎥\n",
       "⎢        ⎥\n",
       "⎢   10   ⎥\n",
       "⎢        ⎥\n",
       "⎢   0    ⎥\n",
       "⎢        ⎥\n",
       "⎢5 - V₂ ₂⎥\n",
       "⎢        ⎥\n",
       "⎣  -5/6  ⎦"
      ]
     },
     "metadata": {},
     "output_type": "display_data"
    }
   ],
   "source": [
    "u_1,u_2,u_3,u_4,u_5,u_6 = sym.symbols('u_1,u_2,u_3,u_4,u_5,u_6')\n",
    "u = sym.Matrix([u_1,u_2,u_3,u_4,u_5,u_6]).subs(u_1,0).subs(u_5,0)\n",
    "f_G = f_G.subs(M_1_1,0).subs(M_2_2,0)\n",
    "display(u)\n",
    "display(f_G)"
   ]
  },
  {
   "cell_type": "markdown",
   "metadata": {},
   "source": [
    "Assim, o sistema $\\mathbf{K}\\cdot\\vec{u}=\\vec{f}$ torna-se:"
   ]
  },
  {
   "cell_type": "code",
   "execution_count": 21,
   "metadata": {},
   "outputs": [
    {
     "data": {
      "text/latex": [
       "\\begin{equation*}\\left[\\begin{matrix}600 u_{2} - 1200 u_{3} + 600 u_{4}\\\\400 u_{2} - 600 u_{3} + 200 u_{4}\\\\- 600 u_{2} + 2400 u_{3} + 600 u_{6}\\\\200 u_{2} + 800 u_{4} + 200 u_{6}\\\\- 1200 u_{3} - 600 u_{4} - 600 u_{6}\\\\600 u_{3} + 200 u_{4} + 400 u_{6}\\end{matrix}\\right] = \\left[\\begin{matrix}V_{1 1} + 5\\\\\\frac{5}{6}\\\\10\\\\0\\\\5 - V_{2 2}\\\\- \\frac{5}{6}\\end{matrix}\\right]\\end{equation*}"
      ],
      "text/plain": [
       "⎡600⋅u₂ - 1200⋅u₃ + 600⋅u₄ ⎤   ⎡V₁ ₁ + 5⎤\n",
       "⎢                          ⎥   ⎢        ⎥\n",
       "⎢ 400⋅u₂ - 600⋅u₃ + 200⋅u₄ ⎥   ⎢  5/6   ⎥\n",
       "⎢                          ⎥   ⎢        ⎥\n",
       "⎢-600⋅u₂ + 2400⋅u₃ + 600⋅u₆⎥   ⎢   10   ⎥\n",
       "⎢                          ⎥ = ⎢        ⎥\n",
       "⎢ 200⋅u₂ + 800⋅u₄ + 200⋅u₆ ⎥   ⎢   0    ⎥\n",
       "⎢                          ⎥   ⎢        ⎥\n",
       "⎢-1200⋅u₃ - 600⋅u₄ - 600⋅u₆⎥   ⎢5 - V₂ ₂⎥\n",
       "⎢                          ⎥   ⎢        ⎥\n",
       "⎣ 600⋅u₃ + 200⋅u₄ + 400⋅u₆ ⎦   ⎣  -5/6  ⎦"
      ]
     },
     "metadata": {},
     "output_type": "display_data"
    }
   ],
   "source": [
    "eq = sym.Eq(K_G * u, f_G)\n",
    "display(eq)"
   ]
  },
  {
   "cell_type": "markdown",
   "metadata": {},
   "source": [
    "A partir deste sistema, considerando as condições de contorno, podemos obter o seguinte sistema reduzido:"
   ]
  },
  {
   "cell_type": "code",
   "execution_count": 22,
   "metadata": {},
   "outputs": [
    {
     "data": {
      "text/latex": [
       "\\begin{equation*}\\left[\\begin{matrix}400 & -600 & 200 & 0\\\\-600 & 2400 & 0 & 600\\\\200 & 0 & 800 & 200\\\\0 & 600 & 200 & 400\\end{matrix}\\right]\\end{equation*}"
      ],
      "text/plain": [
       "⎡400   -600  200   0 ⎤\n",
       "⎢                    ⎥\n",
       "⎢-600  2400   0   600⎥\n",
       "⎢                    ⎥\n",
       "⎢200    0    800  200⎥\n",
       "⎢                    ⎥\n",
       "⎣ 0    600   200  400⎦"
      ]
     },
     "metadata": {},
     "output_type": "display_data"
    },
    {
     "data": {
      "text/latex": [
       "\\begin{equation*}\\left[\\begin{matrix}\\frac{5}{6}\\\\10\\\\0\\\\- \\frac{5}{6}\\end{matrix}\\right]\\end{equation*}"
      ],
      "text/plain": [
       "⎡5/6 ⎤\n",
       "⎢    ⎥\n",
       "⎢ 10 ⎥\n",
       "⎢    ⎥\n",
       "⎢ 0  ⎥\n",
       "⎢    ⎥\n",
       "⎣-5/6⎦"
      ]
     },
     "metadata": {},
     "output_type": "display_data"
    }
   ],
   "source": [
    "f_R = f_G.copy()\n",
    "f_R -= u[0,0]*K_G[:,0]\n",
    "f_R -= u[4,0]*K_G[:,4]\n",
    "\n",
    "K_R = K_G.copy()\n",
    "K_R.row_del(4)\n",
    "K_R.col_del(4)\n",
    "K_R.row_del(0)\n",
    "K_R.col_del(0)\n",
    "f_R.row_del(4)\n",
    "f_R.row_del(0)\n",
    "\n",
    "display(K_R)\n",
    "display(f_R)"
   ]
  },
  {
   "cell_type": "markdown",
   "metadata": {},
   "source": [
    "A solução deste sistema fornece:\n",
    "\n",
    "$$u' = 10^{-2}\\times$$"
   ]
  },
  {
   "cell_type": "code",
   "execution_count": 23,
   "metadata": {},
   "outputs": [
    {
     "data": {
      "text/latex": [
       "\\begin{equation*}\\left[\\begin{matrix}\\frac{10}{3}\\\\\\frac{25}{12}\\\\0\\\\- \\frac{10}{3}\\end{matrix}\\right]\\end{equation*}"
      ],
      "text/plain": [
       "⎡10/3 ⎤\n",
       "⎢     ⎥\n",
       "⎢ 25  ⎥\n",
       "⎢ ──  ⎥\n",
       "⎢ 12  ⎥\n",
       "⎢     ⎥\n",
       "⎢  0  ⎥\n",
       "⎢     ⎥\n",
       "⎣-10/3⎦"
      ]
     },
     "metadata": {},
     "output_type": "display_data"
    }
   ],
   "source": [
    "u_R = K_R.solve(f_R)\n",
    "display(u_R*100)"
   ]
  },
  {
   "cell_type": "markdown",
   "metadata": {},
   "source": [
    "Temos, portanto,\n",
    "\n",
    "\\begin{equation*}\n",
    "    \\left\\{\\begin{matrix}\n",
    "        u_{2}^{1} = u_{2} & = & \\frac{10}{3}\\times10^{-2} rad \\\\\n",
    "        u_{3}^{1} = u_{1}^{2} = u_{3} & = & \\frac{25}{12}\\times10^{-2} m \\\\\n",
    "        u_{4}^{1} = u_{2}^{2} = u_{4} & = & 0 \\\\\n",
    "        u_{4}^{2} = u_{6} & = & -\\frac{10}{3}\\times10^{-2} rad \\\\\n",
    "    \\end{matrix}\\right.\n",
    "\\end{equation*}"
   ]
  },
  {
   "cell_type": "markdown",
   "metadata": {},
   "source": [
    "Temos, agora, o seguinte vetor de deslocamentos:\n",
    "\n",
    "$$u = 10^{-2}$$"
   ]
  },
  {
   "cell_type": "code",
   "execution_count": 24,
   "metadata": {},
   "outputs": [
    {
     "data": {
      "text/latex": [
       "\\begin{equation*}\\left[\\begin{matrix}0\\\\3.33333333333333\\\\2.08333333333333\\\\0\\\\0\\\\-3.33333333333333\\end{matrix}\\right]\\end{equation*}"
      ],
      "text/plain": [
       "⎡        0        ⎤\n",
       "⎢                 ⎥\n",
       "⎢3.33333333333333 ⎥\n",
       "⎢                 ⎥\n",
       "⎢2.08333333333333 ⎥\n",
       "⎢                 ⎥\n",
       "⎢        0        ⎥\n",
       "⎢                 ⎥\n",
       "⎢        0        ⎥\n",
       "⎢                 ⎥\n",
       "⎣-3.33333333333333⎦"
      ]
     },
     "metadata": {},
     "output_type": "display_data"
    }
   ],
   "source": [
    "u = u.subs(u_2,1/30).subs(u_3,25/1200).subs(u_4,0).subs(u_6,-1/30)\n",
    "display(100*u)"
   ]
  },
  {
   "cell_type": "markdown",
   "metadata": {},
   "source": [
    "Agora podemos calcular as forças nodais.\n",
    "\n",
    "$$\\vec{f} = $$"
   ]
  },
  {
   "cell_type": "code",
   "execution_count": 25,
   "metadata": {
    "tags": []
   },
   "outputs": [
    {
     "data": {
      "text/latex": [
       "\\begin{equation*}\\left[\\begin{matrix}-5.0\\\\0.833333333333334\\\\10.0\\\\0\\\\-5.0\\\\-0.833333333333334\\end{matrix}\\right]\\end{equation*}"
      ],
      "text/plain": [
       "⎡       -5.0       ⎤\n",
       "⎢                  ⎥\n",
       "⎢0.833333333333334 ⎥\n",
       "⎢                  ⎥\n",
       "⎢       10.0       ⎥\n",
       "⎢                  ⎥\n",
       "⎢        0         ⎥\n",
       "⎢                  ⎥\n",
       "⎢       -5.0       ⎥\n",
       "⎢                  ⎥\n",
       "⎣-0.833333333333334⎦"
      ]
     },
     "metadata": {},
     "output_type": "display_data"
    },
    {
     "data": {
      "text/latex": [
       "\\begin{equation*}\\left[\\begin{matrix}V_{1 1} + 5\\\\\\frac{5}{6}\\\\10\\\\0\\\\5 - V_{2 2}\\\\- \\frac{5}{6}\\end{matrix}\\right]\\end{equation*}"
      ],
      "text/plain": [
       "⎡V₁ ₁ + 5⎤\n",
       "⎢        ⎥\n",
       "⎢  5/6   ⎥\n",
       "⎢        ⎥\n",
       "⎢   10   ⎥\n",
       "⎢        ⎥\n",
       "⎢   0    ⎥\n",
       "⎢        ⎥\n",
       "⎢5 - V₂ ₂⎥\n",
       "⎢        ⎥\n",
       "⎣  -5/6  ⎦"
      ]
     },
     "metadata": {},
     "output_type": "display_data"
    }
   ],
   "source": [
    "f = K_G*u\n",
    "display(f,f_G)"
   ]
  },
  {
   "cell_type": "markdown",
   "metadata": {},
   "source": [
    "Temos, portanto,\n",
    "\n",
    "\\begin{equation*}\n",
    "    \\left\\{\\begin{matrix}\n",
    "        V_{1}^{1} + 5 & = & -5 \\\\\n",
    "        5 - V_{2}^{2} & = & -5\n",
    "    \\end{matrix}\\right.\n",
    "\\end{equation*}\n",
    "\n",
    "Logo,\n",
    "\n",
    "\\begin{equation*}\n",
    "    \\left\\{\\begin{matrix}\n",
    "        V_{1}^{1} & = & -10 \\\\\n",
    "        V_{2}^{2} & = & 10 \\\\\n",
    "    \\end{matrix}\\right.\n",
    "\\end{equation*}"
   ]
  },
  {
   "cell_type": "markdown",
   "metadata": {},
   "source": [
    "Temos, portanto, os seguintes valores de $\\vec{u}_{e}^{1}$ no Elemento 1:\n",
    "\n",
    "$$u_e^{1} =$$"
   ]
  },
  {
   "cell_type": "code",
   "execution_count": 26,
   "metadata": {},
   "outputs": [
    {
     "data": {
      "text/latex": [
       "\\begin{equation*}\\left[\\begin{matrix}0\\\\0.0333333333333333\\\\0.0208333333333333\\\\0\\end{matrix}\\right]\\end{equation*}"
      ],
      "text/plain": [
       "⎡        0         ⎤\n",
       "⎢                  ⎥\n",
       "⎢0.0333333333333333⎥\n",
       "⎢                  ⎥\n",
       "⎢0.0208333333333333⎥\n",
       "⎢                  ⎥\n",
       "⎣        0         ⎦"
      ]
     },
     "metadata": {},
     "output_type": "display_data"
    }
   ],
   "source": [
    "u_e_1 = u[0:4,0]\n",
    "display(u_e_1)"
   ]
  },
  {
   "cell_type": "markdown",
   "metadata": {},
   "source": [
    "Da mesma forma, temos como calcular o vetor de Forças Nodais $\\vec{f}_{e}^{1}$.\n",
    "\n",
    "$$\\vec{f}_{e}^{1} =$$"
   ]
  },
  {
   "cell_type": "code",
   "execution_count": 27,
   "metadata": {},
   "outputs": [
    {
     "data": {
      "text/latex": [
       "\\begin{equation*}\\left[\\begin{matrix}-5.0\\\\0.833333333333334\\\\5.0\\\\-5.83333333333333\\end{matrix}\\right]\\end{equation*}"
      ],
      "text/plain": [
       "⎡      -5.0       ⎤\n",
       "⎢                 ⎥\n",
       "⎢0.833333333333334⎥\n",
       "⎢                 ⎥\n",
       "⎢       5.0       ⎥\n",
       "⎢                 ⎥\n",
       "⎣-5.83333333333333⎦"
      ]
     },
     "metadata": {},
     "output_type": "display_data"
    },
    {
     "data": {
      "text/latex": [
       "\\begin{equation*}\\left[\\begin{matrix}V_{1} + 5\\\\\\frac{5}{6} - M_{1}\\\\5 - V_{2}\\\\M_{2} - \\frac{5}{6}\\end{matrix}\\right]\\end{equation*}"
      ],
      "text/plain": [
       "⎡ V₁ + 5 ⎤\n",
       "⎢        ⎥\n",
       "⎢5/6 - M₁⎥\n",
       "⎢        ⎥\n",
       "⎢ 5 - V₂ ⎥\n",
       "⎢        ⎥\n",
       "⎣M₂ - 5/6⎦"
      ]
     },
     "metadata": {},
     "output_type": "display_data"
    }
   ],
   "source": [
    "f_e_1 = K_1*u_e_1\n",
    "display(f_e_1,f_e.subs(L,1).subs(P,10))"
   ]
  },
  {
   "cell_type": "markdown",
   "metadata": {},
   "source": [
    "De onde resulta:\n",
    "\n",
    "\\begin{equation*}\n",
    "    \\left\\{\\begin{matrix}\n",
    "        V_{1}^{1} & = & -10~kN \\\\\n",
    "        M_{1}^{1} & = & 0 \\\\\n",
    "        V_{2}^{1} & = & 0 \\\\\n",
    "        M_{2}^{1} & = & -5~kN\\cdot m\n",
    "    \\end{matrix}\\right.\n",
    "\\end{equation*}"
   ]
  },
  {
   "cell_type": "markdown",
   "metadata": {},
   "source": [
    "Seguindo o mesmo raciocínio, podemos calcular o vetor de Forças Nodais do Elemento 2, $\\vec{f}_{e}^{2}$.\n",
    "\n",
    "$$\\vec{f}_{e}^{2} =$$"
   ]
  },
  {
   "cell_type": "code",
   "execution_count": 28,
   "metadata": {},
   "outputs": [
    {
     "data": {
      "text/latex": [
       "\\begin{equation*}\\left[\\begin{matrix}5.0\\\\5.83333333333333\\\\-5.0\\\\-0.833333333333334\\end{matrix}\\right]\\end{equation*}"
      ],
      "text/plain": [
       "⎡       5.0        ⎤\n",
       "⎢                  ⎥\n",
       "⎢ 5.83333333333333 ⎥\n",
       "⎢                  ⎥\n",
       "⎢       -5.0       ⎥\n",
       "⎢                  ⎥\n",
       "⎣-0.833333333333334⎦"
      ]
     },
     "metadata": {},
     "output_type": "display_data"
    },
    {
     "data": {
      "text/latex": [
       "\\begin{equation*}\\left[\\begin{matrix}V_{1} + 5\\\\\\frac{5}{6} - M_{1}\\\\5 - V_{2}\\\\M_{2} - \\frac{5}{6}\\end{matrix}\\right]\\end{equation*}"
      ],
      "text/plain": [
       "⎡ V₁ + 5 ⎤\n",
       "⎢        ⎥\n",
       "⎢5/6 - M₁⎥\n",
       "⎢        ⎥\n",
       "⎢ 5 - V₂ ⎥\n",
       "⎢        ⎥\n",
       "⎣M₂ - 5/6⎦"
      ]
     },
     "metadata": {},
     "output_type": "display_data"
    }
   ],
   "source": [
    "u_e_2 = u[2:6,0]\n",
    "f_e_2 = K_2*u_e_2\n",
    "display(f_e_2,f_e.subs(L,1).subs(P,10))"
   ]
  },
  {
   "cell_type": "markdown",
   "metadata": {},
   "source": [
    "De onde resulta:\n",
    "\n",
    "\\begin{equation*}\n",
    "    \\left\\{\\begin{matrix}\n",
    "        V_{1}^{2} & = & 0 \\\\\n",
    "        M_{1}^{2} & = & -5~kN\\cdot m \\\\\n",
    "        V_{2}^{2} & = & 10~kN \\\\\n",
    "        M_{2}^{2} & = & 0\n",
    "    \\end{matrix}\\right.\n",
    "\\end{equation*}"
   ]
  },
  {
   "cell_type": "markdown",
   "metadata": {},
   "source": [
    "# Caso Geral"
   ]
  },
  {
   "cell_type": "markdown",
   "metadata": {},
   "source": [
    "# Solução Por Código"
   ]
  },
  {
   "cell_type": "markdown",
   "metadata": {},
   "source": [
    "A seguir, vamos elaborar um código em Python para solucionar uma viga a partir de um arquivo de entrada no formato JSON cotendo as informações da estrutura.\n",
    "\n",
    "vamos começar definindo uma classe para conter os nós da estrutura."
   ]
  },
  {
   "cell_type": "markdown",
   "metadata": {},
   "source": [
    "## Classe \"Nó\""
   ]
  },
  {
   "cell_type": "markdown",
   "metadata": {},
   "source": [
    "A classe que conterá os nós é genérica e tem capacedade de armazenar informações sobre um sistema tridimensional, contemplando, assim, a localização espacial do nó em coordenadas $(x,y,z)$, bem como informações sobre as restrições (de translação e rotação) impostas por apoios, bem como as cargas pontuais aplicadas sobre este, sendo forças ou momentos.\n",
    "\n",
    "Embora esta classe seja de carater genérico, apenas os campos aplicáveis ao caso da viga unidimensional serão efetivamente utilizados."
   ]
  },
  {
   "cell_type": "code",
   "execution_count": 29,
   "metadata": {},
   "outputs": [],
   "source": [
    "# Class to store and update nodes and nodes data as locate, if have constrains and loads, as well calculated reactions and deslocs\n",
    "class node:\n",
    "    def __init__(self, i, P=np.array([0.0,0.0,0.0]), S=[False,False,False,False,False,False], L=np.array([0.0,0.0,0.0,0.0,0.0,0.0]), tag=''):\n",
    "            self.index = i                          # node index reference\n",
    "            self.locate = P                         # (x,y,z)\n",
    "            self.support = S                        # (Rx,Ry,Rz,Rmx,Rmy,Rmz) bool if exists\n",
    "            self.load = L                           # (Fx,Fy,Fz,Mx,My,Mz)\n",
    "            self.tag = tag                          # String name\n",
    "            self.reaction = np.array([0.0,0.0,0.0,0.0,0.0,0.0]) # (Rx,Ry,Rz,Rmx,Rmy,Rmz) to calculate\n",
    "            self.u = np.array([0.0,0.0,0.0,0.0,0.0,0.0])        # (dx,dy,dz,theta_x,theta_y,theta_z) to calculate\n",
    "    \n",
    "    def Reaction(self,R=np.array([0.0,0.0,0.0,0.0,0.0,0.0])):\n",
    "        self.reaction = R                           # Calculated values\n",
    "\n",
    "    def Desloc(self,u=np.array([0.0,0.0,0.0,0.0,0.0,0.0])):\n",
    "        self.u = u                                  # Calculated values"
   ]
  },
  {
   "cell_type": "markdown",
   "metadata": {},
   "source": [
    "## Classe \"Viga\""
   ]
  },
  {
   "cell_type": "markdown",
   "metadata": {},
   "source": [
    "Da mesma forma, precisamos de uma classe para operar com as barras que conectam os nós, assim como as propriedades de carga e deformação.\n",
    "\n",
    "A classe abaixo lida com barras como elementos finitos locais. As barras reais serão criadas como um elemento único e subdivididas em elementos com nós intermediários.\n",
    "\n",
    "Por simplificação, serão consideradas vigas unidimensionais ao longo do eixo $x$, com esforços cortantes na direção $y$ e momento fletor em $z$. A classe Viga é, na prática, uma sucessão de pontos em $x$, onde cada segmento vai do ponto $x_{i}$ para o ponto $x_{i+1}$, sendo $y=0$ e $z=0$. Como estamos considerando os esforços cortantes e de momento fletor, os deslocamentos ocorrerão no eixo $y$.\n",
    "\n",
    "A implementação do código da classe \"Viga\" abaixo está configurada para uma viga tridimensional. com esforços diversos nas estremidades, bem como esforços distribuídos na forma $a+bx+cx^{2}$, mas a matriz de rigidez está configurada para esforços contantes, momento fletor e carga distribuída constante apenas ($a=P, b=0, c=0$). Assim, um segmento de viga é dividido em $n$ elementos finitos e retorna a matriz de rigidez e vetor de forças nodais para estes esforços apenas."
   ]
  },
  {
   "cell_type": "code",
   "execution_count": 30,
   "metadata": {},
   "outputs": [],
   "source": [
    "# Class to store and calculate bars or elements\n",
    "class element:\n",
    "    def __init__(self,i,first,last,E,G,S,I,J,P=np.array([0,0,0]),tag='',n=10):\n",
    "        self.index = i      # Index\n",
    "        self.n = n          # Grid size\n",
    "        self.tag = tag      # Element name\n",
    "        self.start = first  # Start node\n",
    "        self.end = last     # End node\n",
    "        self.grid = []      # Fake nodes from grid\n",
    "        self.E = E          # Elasticity constant\n",
    "        self.G = G          # Transversal Elasticity constant\n",
    "        self.A = S          # Stretch\n",
    "        self.I = I          # Inertia constant\n",
    "        self.J = J          # Polar inertia constant\n",
    "        self.load = P       # Loads with a+bx+cx**2 constants in array (a,b,c)\n",
    "        self.set_grid(n)\n",
    "\n",
    "    def set_grid(self,n):\n",
    "        self.n = n\n",
    "        self.grid = []\n",
    "        ds = (self.end.locate - self.start.locate)/n\n",
    "        for i in range(1,n):\n",
    "            loc = self.start.locate+ds*i\n",
    "            self.grid.append(node(0,P=loc))\n",
    "\n",
    "    def K(self):\n",
    "        E = self.E\n",
    "        I = self.I\n",
    "        L = np.linalg.norm(self.end.locate - self.start.locate) / self.n\n",
    "        K = np.zeros([2*(self.n+1),2*(self.n+1)])\n",
    "        for k in range(self.n):\n",
    "            K_l = (E*I/L) * np.array([\n",
    "                [12/L**2,   6/L,    -12/L**2,   6/L ],\n",
    "                [6/L,       4,      -6/L,       2   ],\n",
    "                [-12/L**2,  -6/L,   12/L**2,    -6/L],\n",
    "                [6/L,       2,      -6/L,       4   ]\n",
    "            ])\n",
    "            K[2*k:2*k+4,2*k:2*k+4] += K_l\n",
    "        return K\n",
    "\n",
    "    def f(self):\n",
    "        P = self.load[0]\n",
    "        L = np.linalg.norm(self.end.locate - self.start.locate) / self.n\n",
    "        f = np.zeros(2*(self.n+1))\n",
    "        for k in range(self.n):\n",
    "            f_l = np.array([\n",
    "                L*P/2,\n",
    "                (L**2)*P/12,\n",
    "                L*P/2,\n",
    "                -(L**2)*P/12\n",
    "            ])\n",
    "            f[2*k:2*k+4] += f_l\n",
    "        return f\n",
    "\n",
    "    def set_f(self):\n",
    "        P = self.load[0]\n",
    "        E = self.E\n",
    "        I = self.I\n",
    "        L = np.linalg.norm(self.end.locate - self.start.locate) / self.n\n",
    "        K = (E*I/L) * np.array([\n",
    "            [12/L**2,   6/L,    -12/L**2,   6/L ],\n",
    "            [6/L,       4,      -6/L,       2   ],\n",
    "            [-12/L**2,  -6/L,   12/L**2,    -6/L],\n",
    "            [6/L,       2,      -6/L,       4   ]\n",
    "        ])\n",
    "        u = np.array([self.start.u[1], self.start.u[5], self.grid[0].u[1], self.grid[0].u[5]])\n",
    "        f = K @ u\n",
    "        reac = np.array([0.0,f[0]-P*L/2,0.0,0.0,0.0,P*(L**2)/12-f[1]])\n",
    "        self.start.Reaction(reac)\n",
    "        for k in range(self.n-2):\n",
    "            u = np.array([self.grid[k].u[1], self.grid[k].u[5], self.grid[k+1].u[1], self.grid[k+1].u[5]])\n",
    "            f = K @ u\n",
    "            reac = np.array([0.0,f[0]-P*L/2,0.0,0.0,0.0,P*(L**2)/12-f[1]])\n",
    "            self.grid[k].Reaction(reac)\n",
    "        u = np.array([self.grid[-1].u[1], self.grid[-1].u[5], self.end.u[1], self.end.u[5]])\n",
    "        f = K @ u\n",
    "        reac = np.array([0.0,f[0]-P*L/2,0.0,0.0,0.0,P*(L**2)/12-f[1]])\n",
    "        self.grid[-1].Reaction(reac)\n",
    "        reac = np.array([0.0,f[2]-P*L/2,0.0,0.0,0.0,P*(L**2)/12+f[3]])\n",
    "        self.end.Reaction(reac)\n",
    "        return"
   ]
  },
  {
   "cell_type": "markdown",
   "metadata": {},
   "source": [
    "## Entrada de Arquivo JSON"
   ]
  },
  {
   "cell_type": "markdown",
   "metadata": {},
   "source": [
    "Entre as funções auxiliares, também utilizaremos uma função para ler um arquivo JSON e armazenar em uma variável na forma de dicionário Python. Alternativamente, esta função poderia estar contida na própria classe da estrutura que será criada mais adiante, de forma que o caminho seria passado como parâmetro, entretanto, a criação separada permite visualizar o conteúdo do arquivo fora da classe."
   ]
  },
  {
   "cell_type": "code",
   "execution_count": 31,
   "metadata": {},
   "outputs": [],
   "source": [
    "def readjson(path):\n",
    "    file = None\n",
    "    try:\n",
    "        with open(path,'r') as f:\n",
    "            file = json.load(f)\n",
    "    except IOError as err:\n",
    "        print('File Error: ' + str(err))\n",
    "    except JSONDecodeError as err:\n",
    "        print('JSON Error: ' + str(err))\n",
    "    finally:\n",
    "        return file"
   ]
  },
  {
   "cell_type": "markdown",
   "metadata": {},
   "source": [
    "## Classe \"Estrutura\""
   ]
  },
  {
   "cell_type": "markdown",
   "metadata": {},
   "source": [
    "Por fim, utilizaremos uma classe para processar toda a estrutura. Esta classe conterá listas com todos os nós e barras da estrutura, bem como os métodos necessários para calcular os deslocamentos dos nós, esforços e deformações nas barras.\n",
    "\n",
    "A chamada para a criação de um objeto de estrutura será pelo fornecimento de um dicionário lido através de um arquivo JSON contendo todos os dados da estrutura, como os nós, apoios, constantes, ligações entre os nós e carregamentos.\n",
    "\n",
    "Conforme descrito na classe \"Viga\", a estrutura será uma sucessão de segmentos de viga, formando uma única viga, com nós nas extremidades e nos pontos de aplicação de carga, ou de início e fim de carga distribuída constante. Portanto, apesar de ler e plotar quaisquer estruturas, bidimensionais ou tridimensionais, apenas será capaz de resolver, pelo métodos dos deslocamentos, estruturas reticuladas contínuas horizontais com cargas verticais e momentos em $z$."
   ]
  },
  {
   "cell_type": "code",
   "execution_count": 32,
   "metadata": {},
   "outputs": [],
   "source": [
    "# Structure data class\n",
    "class Structure:\n",
    "    def __init__(self,data,grid=10):\n",
    "        self.tag = data[\"tag\"]\n",
    "        self.n = data[\"n\"]\n",
    "        self.dimension = data[\"dim\"]\n",
    "        self.grid = grid\n",
    "        self._solved = False\n",
    "        self.nodes = []\n",
    "        self.bars = []\n",
    "        for name, value in data['nodes'].items():\n",
    "            P = np.array([value[\"x\"],value[\"y\"],value[\"z\"]])\n",
    "            S=[False,False,False,False,False,False]\n",
    "            L=np.array([value[\"Fx\"], value[\"Fy\"], value[\"Fz\"], value[\"Mx\"], value[\"My\"], value[\"Mz\"]])\n",
    "            if value[\"Tx\"]:\n",
    "                S[0] = True\n",
    "            if value[\"Ty\"]:\n",
    "                S[1] = True\n",
    "            if value[\"Tz\"]:\n",
    "                S[2] = True\n",
    "            if value[\"Rx\"]:\n",
    "                S[3] = True\n",
    "            if value[\"Ry\"]:\n",
    "                S[4] = True\n",
    "            if value[\"Rz\"]:\n",
    "                S[5] = True\n",
    "            newnode = node(value[\"id\"],P,S,L,name)\n",
    "            self.nodes.append(newnode)\n",
    "        for name, value in data['bars'].items():\n",
    "            E = value[\"E\"]\n",
    "            G = value[\"G\"]\n",
    "            S = value[\"S\"]\n",
    "            I = value[\"I\"]\n",
    "            J = value[\"J\"]\n",
    "            P = np.array([value[\"P\"], value[\"Px\"], value[\"Px2\"]])\n",
    "            newbar = element(value[\"id\"], self.nodes[value[\"from\"]],self.nodes[value[\"to\"]], E, G, S, I, J, P, name, self.grid)\n",
    "            self.bars.append(newbar)\n",
    "\n",
    "    def K(self):\n",
    "        n = self.n + (self.grid - 1) * (self.n - 1)\n",
    "        K = np.zeros([2*n,2*n])\n",
    "        for bar in self.bars:\n",
    "            i = bar.start.index * bar.n\n",
    "            K_loc = bar.K()\n",
    "            K[2*i:2*i+K_loc.shape[0], 2*i:2*i+K_loc.shape[1]] += K_loc\n",
    "        return K\n",
    "\n",
    "    def f(self):\n",
    "        n = self.n + (self.grid - 1) * (self.n - 1)\n",
    "        f = np.zeros(2*n)\n",
    "        for bar in self.bars:\n",
    "            i = bar.start.index * bar.n\n",
    "            f_loc = bar.f()\n",
    "            f[2*i:2*i+f_loc.shape[0]] += f_loc\n",
    "        for i in range(self.n):\n",
    "            k = self.nodes[i].index * self.grid\n",
    "            if self.nodes[i].support[1]:\n",
    "                f[2*k] = np.NaN\n",
    "            else:\n",
    "                f[2*k] += self.nodes[i].load[1]\n",
    "            if self.nodes[i].support[5]:\n",
    "                f[2*k+1] = np.NaN\n",
    "            else:\n",
    "                f[2*k+1] += self.nodes[i].load[5]\n",
    "        return f\n",
    "\n",
    "    def solve(self):\n",
    "        n = self.n + (self.grid - 1) * (self.n - 1)\n",
    "        K = self.K()\n",
    "        f = self.f()\n",
    "        u = np.zeros(2*n)\n",
    "        f_m = f.copy()\n",
    "        K_m = K.copy()\n",
    "        for i in range(f.shape[0]):\n",
    "            j = f.shape[0] - i - 1\n",
    "            if np.isnan(f[j]):\n",
    "                f_m = np.delete(f_m, j, 0)\n",
    "                K_m = np.delete(K_m, j, 0)\n",
    "                K_m = np.delete(K_m, j, 1)\n",
    "        u_m = np.linalg.solve(K_m, f_m)\n",
    "        k = 0\n",
    "        for i in range(2*n):\n",
    "            if not np.isnan(f[i]):\n",
    "                u[i] = u_m[k]\n",
    "                k += 1\n",
    "        f = K @ u\n",
    "        for bar in self.bars:\n",
    "            i = bar.start.index * bar.n\n",
    "            j = bar.end.index * bar.n\n",
    "            u_y = u[2*i]\n",
    "            u_rz = u[2*i+1]\n",
    "            u_loc = np.array([0.0,u_y,0.0,0.0,0.0,u_rz])\n",
    "            bar.start.Desloc(u_loc)\n",
    "            for k in range(bar.n-1):\n",
    "                u_y = u[2*(i+k+1)]\n",
    "                u_rz = u[2*(i+k+1)+1]\n",
    "                u_loc = np.array([0.0,u_y,0.0,0.0,0.0,u_rz])\n",
    "                bar.grid[k].Desloc(u_loc)\n",
    "            u_y = u[2*j]\n",
    "            u_rz = u[2*j+1]\n",
    "            u_loc = np.array([0.0,u_y,0.0,0.0,0.0,u_rz])\n",
    "            bar.end.Desloc(u_loc)\n",
    "            bar.set_f()\n",
    "        return\n",
    "\n",
    "    def show(self):\n",
    "        self.solve()\n",
    "        fig = bk.Figure(title=\"Structure\", sizing_mode=\"scale_width\")\n",
    "        fig.xaxis.axis_label = 'x [m]'\n",
    "        fig.yaxis.axis_label = 'y [mm]'\n",
    "        data = {\n",
    "            'dot_x': [],\n",
    "            'dot_y': [],\n",
    "            'u_x': [],\n",
    "            'u_y': [],\n",
    "            'loc_x': [],\n",
    "            'loc_y': [],\n",
    "            'M': [],\n",
    "            'V': []\n",
    "        }\n",
    "        data_0 = {\n",
    "            'dot_x': [],\n",
    "            'dot_y': [],\n",
    "            'u_x': [],\n",
    "            'u_y': [],\n",
    "            'M': [],\n",
    "            'V': []\n",
    "        }\n",
    "        for dot in self.nodes:\n",
    "            data_0['dot_x'].append(dot.locate[0])\n",
    "            data_0['dot_y'].append((dot.locate[1])*1000)\n",
    "            data_0['u_x'].append(dot.u[0])\n",
    "            data_0['u_y'].append((dot.u[1])*1000)\n",
    "            data_0['M'].append(dot.reaction[5])\n",
    "            data_0['V'].append(dot.reaction[1])\n",
    "        data['dot_x'].append(self.bars[0].start.locate[0])\n",
    "        data['dot_y'].append(self.bars[0].start.locate[1])\n",
    "        data['u_x'].append(self.bars[0].start.u[0]*1000)\n",
    "        data['u_y'].append(self.bars[0].start.u[1]*1000)\n",
    "        data['loc_x'].append(self.bars[0].start.locate[0] + self.bars[0].start.u[0])\n",
    "        data['loc_y'].append((self.bars[0].start.locate[1] + self.bars[0].start.u[1])*1000)\n",
    "        data['M'].append(self.bars[0].start.reaction[5])\n",
    "        data['V'].append(self.bars[0].start.reaction[1])\n",
    "        for bar in self.bars:\n",
    "            for dot in bar.grid:\n",
    "                data['dot_x'].append(dot.locate[0])\n",
    "                data['dot_y'].append(dot.locate[1])\n",
    "                data['u_x'].append(dot.u[0]*1000)\n",
    "                data['u_y'].append(dot.u[1]*1000)\n",
    "                data['loc_x'].append(dot.locate[0] + dot.u[0])\n",
    "                data['loc_y'].append((dot.locate[1] + dot.u[1])*1000)\n",
    "                data['M'].append(dot.reaction[5])\n",
    "                data['V'].append(dot.reaction[1])\n",
    "            data['dot_x'].append(bar.end.locate[0])\n",
    "            data['dot_y'].append(bar.end.locate[1])\n",
    "            data['u_x'].append(bar.end.u[0]*1000)\n",
    "            data['u_y'].append(bar.end.u[1]*1000)\n",
    "            data['loc_x'].append(bar.end.locate[0] + bar.end.u[0])\n",
    "            data['loc_y'].append((bar.end.locate[1] + bar.end.u[1])*1000)\n",
    "            data['M'].append(bar.end.reaction[5])\n",
    "            data['V'].append(bar.end.reaction[1])\n",
    "        source = ColumnDataSource(data=data)\n",
    "        source_0 = ColumnDataSource(data=data_0)\n",
    "        hover_tool = HoverTool(\n",
    "            tooltips=[\n",
    "                ( 'X',   '@dot_x{0,0.00} m' ),\n",
    "                ( 'dy', '@u_y{0,0.00} mm'   ),\n",
    "                ( 'V', '@V{0,0.0} kN'       ),\n",
    "                ( 'M', '@M{0,0.0} kNm'      ),\n",
    "            ],\n",
    "            mode='vline'\n",
    "        )\n",
    "        fig.circle(x='dot_x',y='dot_y', source=source_0, size=10, color=\"navy\", alpha=0.5)\n",
    "        fig.line(x='dot_x',y='dot_y', source=source_0)\n",
    "        fig.scatter(x='loc_x',y='loc_y', source=source, size=5, color=\"red\", alpha=0.5)\n",
    "        fig.line(x='loc_x',y='loc_y', source=source,color=\"gold\")\n",
    "        fig.tools.append(hover_tool)\n",
    "        return fig"
   ]
  },
  {
   "cell_type": "markdown",
   "metadata": {},
   "source": [
    "# Exemplo de Arquivo JSON"
   ]
  },
  {
   "cell_type": "markdown",
   "metadata": {},
   "source": [
    "O exemplo abaixo contém o arquivo JSON da estrutura do Exemplo 1, resolvida analiticamente no tópico anterior. Este estrutura será resolvida novamente abaixo utilizando as classes e métodos apresentados."
   ]
  },
  {
   "cell_type": "code",
   "execution_count": 33,
   "metadata": {
    "scrolled": true,
    "tags": []
   },
   "outputs": [
    {
     "name": "stdout",
     "output_type": "stream",
     "text": [
      "{\n",
      "    \"bars\": {\n",
      "        \"Barra 1\": {\n",
      "            \"E\": 1000000.0,\n",
      "            \"G\": 1000000.0,\n",
      "            \"I\": 0.0001,\n",
      "            \"J\": 0.0001,\n",
      "            \"P\": -10.0,\n",
      "            \"Px\": 0.0,\n",
      "            \"Px2\": 0.0,\n",
      "            \"S\": 0.001,\n",
      "            \"from\": 0,\n",
      "            \"id\": 0,\n",
      "            \"to\": 1\n",
      "        }\n",
      "    },\n",
      "    \"dim\": 2,\n",
      "    \"grid\": 2,\n",
      "    \"n\": 2,\n",
      "    \"nodes\": {\n",
      "        \"No 1\": {\n",
      "            \"Fx\": 0.0,\n",
      "            \"Fy\": 0.0,\n",
      "            \"Fz\": 0.0,\n",
      "            \"Mx\": 0.0,\n",
      "            \"My\": 0.0,\n",
      "            \"Mz\": 0.0,\n",
      "            \"Rx\": false,\n",
      "            \"Ry\": false,\n",
      "            \"Rz\": false,\n",
      "            \"Tx\": true,\n",
      "            \"Ty\": true,\n",
      "            \"Tz\": false,\n",
      "            \"id\": 0,\n",
      "            \"x\": 0.0,\n",
      "            \"y\": 0.0,\n",
      "            \"z\": 0.0\n",
      "        },\n",
      "        \"No 2\": {\n",
      "            \"Fx\": 0.0,\n",
      "            \"Fy\": 0.0,\n",
      "            \"Fz\": 0.0,\n",
      "            \"Mx\": 0.0,\n",
      "            \"My\": 0.0,\n",
      "            \"Mz\": 0.0,\n",
      "            \"Rx\": false,\n",
      "            \"Ry\": false,\n",
      "            \"Rz\": false,\n",
      "            \"Tx\": false,\n",
      "            \"Ty\": true,\n",
      "            \"Tz\": false,\n",
      "            \"id\": 1,\n",
      "            \"x\": 2.0,\n",
      "            \"y\": 0.0,\n",
      "            \"z\": 0.0\n",
      "        }\n",
      "    },\n",
      "    \"tag\": \"Exemplo de Uma Barra\"\n",
      "}\n"
     ]
    }
   ],
   "source": [
    "print(json.dumps(readjson(\"exemplo1.json\"), indent=4, sort_keys=True))"
   ]
  },
  {
   "cell_type": "markdown",
   "metadata": {},
   "source": [
    "# Exemplo 1 - Uma Barra"
   ]
  },
  {
   "cell_type": "code",
   "execution_count": 34,
   "metadata": {
    "tags": []
   },
   "outputs": [
    {
     "data": {
      "text/html": [
       "\n",
       "\n",
       "\n",
       "\n",
       "\n",
       "\n",
       "  <div class=\"bk-root\" id=\"2dbcd9dd-f3a2-4c6b-a808-343411947f78\" data-root-id=\"1002\"></div>\n"
      ]
     },
     "metadata": {},
     "output_type": "display_data"
    },
    {
     "data": {
      "application/javascript": [
       "(function(root) {\n",
       "  function embed_document(root) {\n",
       "    \n",
       "  var docs_json = {\"b2f1576f-0ecb-4156-894b-5766e7249ae9\":{\"roots\":{\"references\":[{\"attributes\":{\"below\":[{\"id\":\"1013\"}],\"center\":[{\"id\":\"1016\"},{\"id\":\"1020\"}],\"left\":[{\"id\":\"1017\"}],\"renderers\":[{\"id\":\"1041\"},{\"id\":\"1046\"},{\"id\":\"1051\"},{\"id\":\"1056\"}],\"sizing_mode\":\"scale_width\",\"title\":{\"id\":\"1003\"},\"toolbar\":{\"id\":\"1028\"},\"x_range\":{\"id\":\"1005\"},\"x_scale\":{\"id\":\"1009\"},\"y_range\":{\"id\":\"1007\"},\"y_scale\":{\"id\":\"1011\"}},\"id\":\"1002\",\"subtype\":\"Figure\",\"type\":\"Plot\"},{\"attributes\":{},\"id\":\"1065\",\"type\":\"Selection\"},{\"attributes\":{\"fill_alpha\":{\"value\":0.5},\"fill_color\":{\"value\":\"navy\"},\"line_alpha\":{\"value\":0.5},\"line_color\":{\"value\":\"navy\"},\"size\":{\"units\":\"screen\",\"value\":10},\"x\":{\"field\":\"dot_x\"},\"y\":{\"field\":\"dot_y\"}},\"id\":\"1039\",\"type\":\"Circle\"},{\"attributes\":{\"source\":{\"id\":\"1035\"}},\"id\":\"1057\",\"type\":\"CDSView\"},{\"attributes\":{\"data_source\":{\"id\":\"1036\"},\"glyph\":{\"id\":\"1044\"},\"hover_glyph\":null,\"muted_glyph\":null,\"nonselection_glyph\":{\"id\":\"1045\"},\"selection_glyph\":null,\"view\":{\"id\":\"1047\"}},\"id\":\"1046\",\"type\":\"GlyphRenderer\"},{\"attributes\":{},\"id\":\"1009\",\"type\":\"LinearScale\"},{\"attributes\":{},\"id\":\"1021\",\"type\":\"PanTool\"},{\"attributes\":{\"fill_alpha\":{\"value\":0.1},\"fill_color\":{\"value\":\"red\"},\"line_alpha\":{\"value\":0.1},\"line_color\":{\"value\":\"red\"},\"size\":{\"units\":\"screen\",\"value\":5},\"x\":{\"field\":\"loc_x\"},\"y\":{\"field\":\"loc_y\"}},\"id\":\"1050\",\"type\":\"Scatter\"},{\"attributes\":{\"data\":{\"M\":[-3.189473166749935e-09,0.19799999684466882,0.3919999968777685,0.5819999969122702,0.7679999969424895,0.9499999969743951,1.12799999700577,1.3019999970443448,1.4719999970775004,1.6379999971082495,1.7999999971264171,1.957999997154968,2.111999997204475,2.261999997249984,2.4079999972780226,2.5499999973474243,2.687999997403278,2.821999997481225,2.9519999974946356,3.077999997648828,3.199999997531688,3.317999997653129,3.4319999975877633,3.54199999767074,3.64799999766289,3.7499999976638034,3.847999997742772,3.9419999975531934,4.03199999764804,4.1179999975665105,4.199999997688433,4.277999997891879,4.3519999979204265,4.421999997740226,4.487999998072592,4.549999997993307,4.607999998303935,4.661999998212988,4.7119999982372285,4.757999998136196,4.799999998512501,4.837999998537722,4.871999998827658,4.901999998684278,4.9279999990306145,4.949999998761452,4.96799999879817,4.981999998646764,4.99199999863079,4.9979999986591,4.999999998836454,4.997999999141822,4.991999998614425,4.981999998905319,4.967999998783778,4.949999998744577,4.9279999988905665,4.901999998382475,4.8719999983868085,4.837999998283134,4.799999998604104,4.757999998453496,4.711999998735902,4.661999998802468,4.607999998776432,4.549999998707943,4.48799999905226,4.4219999991268075,4.351999999121869,4.277999999485399,4.199999999283033,4.117999999155085,4.03199999895595,3.941999998753016,3.847999999387167,3.7499999992127866,3.6479999992479972,3.5419999992841835,3.431999999318873,3.3179999993607336,3.199999999391434,3.077999999424446,2.9519999994663064,2.8219999994936527,2.6879999995337696,2.5499999995691494,2.4079999996029753,2.2619999996293356,2.1119999996553926,1.9579999996872286,1.7999999997147254,1.6379999997453862,1.471999999774607,1.301999999802899,1.1279999998278751,0.9499999998548785,0.7679999998825449,0.5819999999116701,0.39199999994111717,0.19799999997048842,-4.5777888858095084e-14],\"V\":[10.000000001704029,9.80000000170694,9.600000001717126,9.400000001690932,9.20000000175205,9.000000001689477,8.800000001699663,8.600000001695298,8.400000001770968,8.200000001766602,8.000000001682201,7.800000001765147,7.6000000019135765,7.400000001843727,7.20000000186119,7.000000002002343,6.800000002005254,6.60000000235741,6.40000000243308,6.200000002268643,6.000000002307933,5.800000002259912,5.600000002233719,5.400000002309389,5.200000002006709,5.000000002096931,4.800000002128945,4.600000001902663,4.400000001447188,4.2000000013700625,4.000000001656735,3.8000000019543223,3.60000000207001,3.400000001770968,3.2000000019084838,3.00000000197324,2.8000000015686966,2.600000001553417,2.40000000162363,2.2000000017575077,2.0000000021878805,1.8000000020707376,1.6000000021955203,1.4000000029387594,1.2000000030153388,1.0000000030137017,0.800000003189416,0.6000000027498572,0.40000000277641445,0.20000000244883054,2.2485892314794143e-09,-0.1999999978269443,-0.3999999977180778,-0.5999999972495061,-0.7999999972411388,-0.9999999971027137,-1.1999999975818354,-1.3999999982137523,-1.5999999979434505,-1.7999999985426256,-1.999999998406929,-2.199999998333078,-2.3999999981555447,-2.599999998032581,-2.7999999979205312,-2.9999999979685525,-3.1999999976091202,-3.3999999975334503,-3.599999997839768,-3.7999999978695995,-3.999999998041312,-4.199999998245767,-4.399999998235581,-4.599999998207204,-4.799999998488056,-4.999999998310523,-5.199999998176645,-5.399999998166459,-5.599999998054409,-5.799999998255226,-5.999999998121348,-6.1999999981620935,-6.3999999984283935,-6.599999998068961,-6.799999998102431,-6.999999998252315,-7.1999999984895116,-7.399999998719432,-7.599999998170825,-7.799999998560816,-7.9999999983978345,-8.199999998540443,-8.399999998683052,-8.599999998782005,-8.799999998640851,-8.999999998594285,-9.19999999851134,-9.399999998530257,-9.599999998498243,-9.799999998538988,9.999999998538987],\"dot_x\":[0.0,0.02,0.04,0.06,0.08,0.1,0.12,0.14,0.16,0.18,0.2,0.22,0.24,0.26,0.28,0.3,0.32,0.34,0.36,0.38,0.4,0.42,0.44,0.46,0.48,0.5,0.52,0.54,0.56,0.58,0.6,0.62,0.64,0.66,0.68,0.7000000000000001,0.72,0.74,0.76,0.78,0.8,0.8200000000000001,0.84,0.86,0.88,0.9,0.92,0.9400000000000001,0.96,0.98,1.0,1.02,1.04,1.06,1.08,1.1,1.12,1.1400000000000001,1.16,1.18,1.2,1.22,1.24,1.26,1.28,1.3,1.32,1.34,1.36,1.3800000000000001,1.4000000000000001,1.42,1.44,1.46,1.48,1.5,1.52,1.54,1.56,1.58,1.6,1.62,1.6400000000000001,1.6600000000000001,1.68,1.7,1.72,1.74,1.76,1.78,1.8,1.82,1.84,1.86,1.8800000000000001,1.9000000000000001,1.92,1.94,1.96,1.98,2.0],\"dot_y\":[0.0,0.0,0.0,0.0,0.0,0.0,0.0,0.0,0.0,0.0,0.0,0.0,0.0,0.0,0.0,0.0,0.0,0.0,0.0,0.0,0.0,0.0,0.0,0.0,0.0,0.0,0.0,0.0,0.0,0.0,0.0,0.0,0.0,0.0,0.0,0.0,0.0,0.0,0.0,0.0,0.0,0.0,0.0,0.0,0.0,0.0,0.0,0.0,0.0,0.0,0.0,0.0,0.0,0.0,0.0,0.0,0.0,0.0,0.0,0.0,0.0,0.0,0.0,0.0,0.0,0.0,0.0,0.0,0.0,0.0,0.0,0.0,0.0,0.0,0.0,0.0,0.0,0.0,0.0,0.0,0.0,0.0,0.0,0.0,0.0,0.0,0.0,0.0,0.0,0.0,0.0,0.0,0.0,0.0,0.0,0.0,0.0,0.0,0.0,0.0,0.0],\"loc_x\":[0.0,0.02,0.04,0.06,0.08,0.1,0.12,0.14,0.16,0.18,0.2,0.22,0.24,0.26,0.28,0.3,0.32,0.34,0.36,0.38,0.4,0.42,0.44,0.46,0.48,0.5,0.52,0.54,0.56,0.58,0.6,0.62,0.64,0.66,0.68,0.7000000000000001,0.72,0.74,0.76,0.78,0.8,0.8200000000000001,0.84,0.86,0.88,0.9,0.92,0.9400000000000001,0.96,0.98,1.0,1.02,1.04,1.06,1.08,1.1,1.12,1.1400000000000001,1.16,1.18,1.2,1.22,1.24,1.26,1.28,1.3,1.32,1.34,1.36,1.3800000000000001,1.4000000000000001,1.42,1.44,1.46,1.48,1.5,1.52,1.54,1.56,1.58,1.6,1.62,1.6400000000000001,1.6600000000000001,1.68,1.7,1.72,1.74,1.76,1.78,1.8,1.82,1.84,1.86,1.8800000000000001,1.9000000000000001,1.92,1.94,1.96,1.98,2.0],\"loc_y\":[0.0,-0.6665339996023046,-1.3322773325505641,-1.9964539988446437,-2.6583039984844077,-3.317083331469726,-3.972063997800472,-4.6225339974765225,-5.267797330497739,-5.907173996863975,-6.5399999965751014,-7.165627329631021,-7.7834239960316385,-8.392773995776798,-8.993077328866308,-9.583749995300021,-10.164223995077746,-10.733947328199227,-11.292383994664187,-11.839013994472431,-12.373333327623618,-12.894853994117689,-13.403103993954632,-13.897627327134337,-14.377983993656763,-14.843749993521767,-15.294517326729371,-15.729893993279415,-16.14950399317213,-16.552987326407703,-16.939999992986113,-17.31021399290729,-17.66331732617058,-17.99901399277551,-18.317023992722365,-18.617083326010842,-18.89894399264045,-19.162373992610718,-19.40715732592121,-19.633093992572064,-19.839999992563428,-20.027707325894752,-20.19606399256524,-20.34493399257425,-20.47419732592147,-20.583749992606478,-20.673503992629122,-20.74338732598985,-20.793343992688918,-20.82333399272665,-20.833333326103027,-20.82333399281764,-20.793343992869538,-20.74338732625916,-20.673503992986966,-20.58374999305262,-20.47419732645643,-20.34493399319819,-20.196063993278646,-20.027707326698827,-19.83999999345893,-19.633093993558532,-19.407157326997297,-19.162373993774946,-18.898943993890768,-18.617083327344687,-18.31702399413689,-17.99901399426681,-17.66331732773362,-17.31021399453717,-16.93999999467675,-16.552987328152046,-16.149503994963705,-15.72989399511239,-15.294517328598916,-14.843749995422433,-14.377983995582019,-13.897627329077935,-13.40310399591005,-12.894853996078217,-12.373333329582287,-11.839013996422125,-11.292383996597584,-10.733947330108517,-10.1642239969548,-9.583749997136284,-8.993077330652826,-8.39277399750429,-7.783423997690569,-7.1656273312115575,-6.539999998067133,-5.907173998257175,-5.267797331781565,-4.622533998640191,-3.972063998832943,-3.3170833323597164,-2.6583039992204025,-1.9964539994148898,-1.3322773329430628,-0.6665339998048057,0.0],\"u_x\":[0.0,0.0,0.0,0.0,0.0,0.0,0.0,0.0,0.0,0.0,0.0,0.0,0.0,0.0,0.0,0.0,0.0,0.0,0.0,0.0,0.0,0.0,0.0,0.0,0.0,0.0,0.0,0.0,0.0,0.0,0.0,0.0,0.0,0.0,0.0,0.0,0.0,0.0,0.0,0.0,0.0,0.0,0.0,0.0,0.0,0.0,0.0,0.0,0.0,0.0,0.0,0.0,0.0,0.0,0.0,0.0,0.0,0.0,0.0,0.0,0.0,0.0,0.0,0.0,0.0,0.0,0.0,0.0,0.0,0.0,0.0,0.0,0.0,0.0,0.0,0.0,0.0,0.0,0.0,0.0,0.0,0.0,0.0,0.0,0.0,0.0,0.0,0.0,0.0,0.0,0.0,0.0,0.0,0.0,0.0,0.0,0.0,0.0,0.0,0.0,0.0],\"u_y\":[0.0,-0.6665339996023046,-1.3322773325505641,-1.9964539988446437,-2.6583039984844077,-3.317083331469726,-3.972063997800472,-4.6225339974765225,-5.267797330497739,-5.907173996863975,-6.5399999965751014,-7.165627329631021,-7.7834239960316385,-8.392773995776798,-8.993077328866308,-9.583749995300021,-10.164223995077746,-10.733947328199227,-11.292383994664187,-11.839013994472431,-12.373333327623618,-12.894853994117689,-13.403103993954632,-13.897627327134337,-14.377983993656763,-14.843749993521767,-15.294517326729371,-15.729893993279415,-16.14950399317213,-16.552987326407703,-16.939999992986113,-17.31021399290729,-17.66331732617058,-17.99901399277551,-18.317023992722365,-18.617083326010842,-18.89894399264045,-19.162373992610718,-19.40715732592121,-19.633093992572064,-19.839999992563428,-20.027707325894752,-20.19606399256524,-20.34493399257425,-20.47419732592147,-20.583749992606478,-20.673503992629122,-20.74338732598985,-20.793343992688918,-20.82333399272665,-20.833333326103027,-20.82333399281764,-20.793343992869538,-20.74338732625916,-20.673503992986966,-20.58374999305262,-20.47419732645643,-20.34493399319819,-20.196063993278646,-20.027707326698827,-19.83999999345893,-19.633093993558532,-19.407157326997297,-19.162373993774946,-18.898943993890768,-18.617083327344687,-18.31702399413689,-17.99901399426681,-17.66331732773362,-17.31021399453717,-16.93999999467675,-16.552987328152046,-16.149503994963705,-15.72989399511239,-15.294517328598916,-14.843749995422433,-14.377983995582019,-13.897627329077935,-13.40310399591005,-12.894853996078217,-12.373333329582287,-11.839013996422125,-11.292383996597584,-10.733947330108517,-10.1642239969548,-9.583749997136284,-8.993077330652826,-8.39277399750429,-7.783423997690569,-7.1656273312115575,-6.539999998067133,-5.907173998257175,-5.267797331781565,-4.622533998640191,-3.972063998832943,-3.3170833323597164,-2.6583039992204025,-1.9964539994148898,-1.3322773329430628,-0.6665339998048057,0.0]},\"selected\":{\"id\":\"1067\"},\"selection_policy\":{\"id\":\"1066\"}},\"id\":\"1035\",\"type\":\"ColumnDataSource\"},{\"attributes\":{\"line_alpha\":0.1,\"line_color\":\"gold\",\"x\":{\"field\":\"loc_x\"},\"y\":{\"field\":\"loc_y\"}},\"id\":\"1055\",\"type\":\"Line\"},{\"attributes\":{\"source\":{\"id\":\"1036\"}},\"id\":\"1042\",\"type\":\"CDSView\"},{\"attributes\":{\"axis\":{\"id\":\"1013\"},\"ticker\":null},\"id\":\"1016\",\"type\":\"Grid\"},{\"attributes\":{\"fill_alpha\":{\"value\":0.1},\"fill_color\":{\"value\":\"navy\"},\"line_alpha\":{\"value\":0.1},\"line_color\":{\"value\":\"navy\"},\"size\":{\"units\":\"screen\",\"value\":10},\"x\":{\"field\":\"dot_x\"},\"y\":{\"field\":\"dot_y\"}},\"id\":\"1040\",\"type\":\"Circle\"},{\"attributes\":{},\"id\":\"1063\",\"type\":\"BasicTickFormatter\"},{\"attributes\":{\"text\":\"Structure\"},\"id\":\"1003\",\"type\":\"Title\"},{\"attributes\":{\"source\":{\"id\":\"1036\"}},\"id\":\"1047\",\"type\":\"CDSView\"},{\"attributes\":{},\"id\":\"1014\",\"type\":\"BasicTicker\"},{\"attributes\":{\"bottom_units\":\"screen\",\"fill_alpha\":0.5,\"fill_color\":\"lightgrey\",\"left_units\":\"screen\",\"level\":\"overlay\",\"line_alpha\":1.0,\"line_color\":\"black\",\"line_dash\":[4,4],\"line_width\":2,\"right_units\":\"screen\",\"top_units\":\"screen\"},\"id\":\"1027\",\"type\":\"BoxAnnotation\"},{\"attributes\":{\"line_color\":\"#1f77b4\",\"x\":{\"field\":\"dot_x\"},\"y\":{\"field\":\"dot_y\"}},\"id\":\"1044\",\"type\":\"Line\"},{\"attributes\":{\"active_drag\":\"auto\",\"active_inspect\":\"auto\",\"active_multi\":null,\"active_scroll\":\"auto\",\"active_tap\":\"auto\",\"tools\":[{\"id\":\"1021\"},{\"id\":\"1022\"},{\"id\":\"1023\"},{\"id\":\"1024\"},{\"id\":\"1025\"},{\"id\":\"1026\"},{\"id\":\"1037\"}]},\"id\":\"1028\",\"type\":\"Toolbar\"},{\"attributes\":{},\"id\":\"1025\",\"type\":\"ResetTool\"},{\"attributes\":{\"overlay\":{\"id\":\"1027\"}},\"id\":\"1023\",\"type\":\"BoxZoomTool\"},{\"attributes\":{\"line_alpha\":0.1,\"line_color\":\"#1f77b4\",\"x\":{\"field\":\"dot_x\"},\"y\":{\"field\":\"dot_y\"}},\"id\":\"1045\",\"type\":\"Line\"},{\"attributes\":{\"fill_alpha\":{\"value\":0.5},\"fill_color\":{\"value\":\"red\"},\"line_alpha\":{\"value\":0.5},\"line_color\":{\"value\":\"red\"},\"size\":{\"units\":\"screen\",\"value\":5},\"x\":{\"field\":\"loc_x\"},\"y\":{\"field\":\"loc_y\"}},\"id\":\"1049\",\"type\":\"Scatter\"},{\"attributes\":{},\"id\":\"1064\",\"type\":\"UnionRenderers\"},{\"attributes\":{},\"id\":\"1018\",\"type\":\"BasicTicker\"},{\"attributes\":{},\"id\":\"1024\",\"type\":\"SaveTool\"},{\"attributes\":{\"callback\":null,\"mode\":\"vline\",\"tooltips\":[[\"X\",\"@dot_x{0,0.00} m\"],[\"dy\",\"@u_y{0,0.00} mm\"],[\"V\",\"@V{0,0.0} kN\"],[\"M\",\"@M{0,0.0} kNm\"]]},\"id\":\"1037\",\"type\":\"HoverTool\"},{\"attributes\":{\"axis_label\":\"y [mm]\",\"formatter\":{\"id\":\"1061\"},\"ticker\":{\"id\":\"1018\"}},\"id\":\"1017\",\"type\":\"LinearAxis\"},{\"attributes\":{},\"id\":\"1067\",\"type\":\"Selection\"},{\"attributes\":{},\"id\":\"1066\",\"type\":\"UnionRenderers\"},{\"attributes\":{\"data_source\":{\"id\":\"1035\"},\"glyph\":{\"id\":\"1054\"},\"hover_glyph\":null,\"muted_glyph\":null,\"nonselection_glyph\":{\"id\":\"1055\"},\"selection_glyph\":null,\"view\":{\"id\":\"1057\"}},\"id\":\"1056\",\"type\":\"GlyphRenderer\"},{\"attributes\":{\"data\":{\"M\":[-3.189473166749935e-09,-4.5777888858095084e-14],\"V\":[10.000000001704029,9.999999998538987],\"dot_x\":[0.0,2.0],\"dot_y\":[0.0,0.0],\"u_x\":[0.0,0.0],\"u_y\":[0.0,0.0]},\"selected\":{\"id\":\"1065\"},\"selection_policy\":{\"id\":\"1064\"}},\"id\":\"1036\",\"type\":\"ColumnDataSource\"},{\"attributes\":{\"axis\":{\"id\":\"1017\"},\"dimension\":1,\"ticker\":null},\"id\":\"1020\",\"type\":\"Grid\"},{\"attributes\":{},\"id\":\"1005\",\"type\":\"DataRange1d\"},{\"attributes\":{\"line_color\":\"gold\",\"x\":{\"field\":\"loc_x\"},\"y\":{\"field\":\"loc_y\"}},\"id\":\"1054\",\"type\":\"Line\"},{\"attributes\":{},\"id\":\"1007\",\"type\":\"DataRange1d\"},{\"attributes\":{\"source\":{\"id\":\"1035\"}},\"id\":\"1052\",\"type\":\"CDSView\"},{\"attributes\":{\"data_source\":{\"id\":\"1036\"},\"glyph\":{\"id\":\"1039\"},\"hover_glyph\":null,\"muted_glyph\":null,\"nonselection_glyph\":{\"id\":\"1040\"},\"selection_glyph\":null,\"view\":{\"id\":\"1042\"}},\"id\":\"1041\",\"type\":\"GlyphRenderer\"},{\"attributes\":{},\"id\":\"1061\",\"type\":\"BasicTickFormatter\"},{\"attributes\":{},\"id\":\"1026\",\"type\":\"HelpTool\"},{\"attributes\":{\"data_source\":{\"id\":\"1035\"},\"glyph\":{\"id\":\"1049\"},\"hover_glyph\":null,\"muted_glyph\":null,\"nonselection_glyph\":{\"id\":\"1050\"},\"selection_glyph\":null,\"view\":{\"id\":\"1052\"}},\"id\":\"1051\",\"type\":\"GlyphRenderer\"},{\"attributes\":{},\"id\":\"1022\",\"type\":\"WheelZoomTool\"},{\"attributes\":{\"axis_label\":\"x [m]\",\"formatter\":{\"id\":\"1063\"},\"ticker\":{\"id\":\"1014\"}},\"id\":\"1013\",\"type\":\"LinearAxis\"},{\"attributes\":{},\"id\":\"1011\",\"type\":\"LinearScale\"}],\"root_ids\":[\"1002\"]},\"title\":\"Bokeh Application\",\"version\":\"2.1.1\"}};\n",
       "  var render_items = [{\"docid\":\"b2f1576f-0ecb-4156-894b-5766e7249ae9\",\"root_ids\":[\"1002\"],\"roots\":{\"1002\":\"2dbcd9dd-f3a2-4c6b-a808-343411947f78\"}}];\n",
       "  root.Bokeh.embed.embed_items_notebook(docs_json, render_items);\n",
       "\n",
       "  }\n",
       "  if (root.Bokeh !== undefined) {\n",
       "    embed_document(root);\n",
       "  } else {\n",
       "    var attempts = 0;\n",
       "    var timer = setInterval(function(root) {\n",
       "      if (root.Bokeh !== undefined) {\n",
       "        clearInterval(timer);\n",
       "        embed_document(root);\n",
       "      } else {\n",
       "        attempts++;\n",
       "        if (attempts > 100) {\n",
       "          clearInterval(timer);\n",
       "          console.log(\"Bokeh: ERROR: Unable to run BokehJS code because BokehJS library is missing\");\n",
       "        }\n",
       "      }\n",
       "    }, 10, root)\n",
       "  }\n",
       "})(window);"
      ],
      "application/vnd.bokehjs_exec.v0+json": ""
     },
     "metadata": {
      "application/vnd.bokehjs_exec.v0+json": {
       "id": "1002"
      }
     },
     "output_type": "display_data"
    }
   ],
   "source": [
    "exemplo1 = Structure(readjson(\"exemplo1.json\"),100)\n",
    "bk.show(exemplo1.show())"
   ]
  },
  {
   "cell_type": "markdown",
   "metadata": {},
   "source": [
    "# Exemplo 2 - Três Barras"
   ]
  },
  {
   "cell_type": "code",
   "execution_count": 35,
   "metadata": {
    "tags": []
   },
   "outputs": [
    {
     "data": {
      "text/html": [
       "\n",
       "\n",
       "\n",
       "\n",
       "\n",
       "\n",
       "  <div class=\"bk-root\" id=\"9f87e250-5bc6-47a5-aa84-bd4fade49bae\" data-root-id=\"1129\"></div>\n"
      ]
     },
     "metadata": {},
     "output_type": "display_data"
    },
    {
     "data": {
      "application/javascript": [
       "(function(root) {\n",
       "  function embed_document(root) {\n",
       "    \n",
       "  var docs_json = {\"e7ebe51b-0ff1-4a92-aec8-25a1d2be8260\":{\"roots\":{\"references\":[{\"attributes\":{\"below\":[{\"id\":\"1140\"}],\"center\":[{\"id\":\"1143\"},{\"id\":\"1147\"}],\"left\":[{\"id\":\"1144\"}],\"renderers\":[{\"id\":\"1168\"},{\"id\":\"1173\"},{\"id\":\"1178\"},{\"id\":\"1183\"}],\"sizing_mode\":\"scale_width\",\"title\":{\"id\":\"1130\"},\"toolbar\":{\"id\":\"1155\"},\"x_range\":{\"id\":\"1132\"},\"x_scale\":{\"id\":\"1136\"},\"y_range\":{\"id\":\"1134\"},\"y_scale\":{\"id\":\"1138\"}},\"id\":\"1129\",\"subtype\":\"Figure\",\"type\":\"Plot\"},{\"attributes\":{\"source\":{\"id\":\"1163\"}},\"id\":\"1169\",\"type\":\"CDSView\"},{\"attributes\":{\"source\":{\"id\":\"1162\"}},\"id\":\"1179\",\"type\":\"CDSView\"},{\"attributes\":{\"fill_alpha\":{\"value\":0.1},\"fill_color\":{\"value\":\"red\"},\"line_alpha\":{\"value\":0.1},\"line_color\":{\"value\":\"red\"},\"size\":{\"units\":\"screen\",\"value\":5},\"x\":{\"field\":\"loc_x\"},\"y\":{\"field\":\"loc_y\"}},\"id\":\"1177\",\"type\":\"Scatter\"},{\"attributes\":{},\"id\":\"1148\",\"type\":\"PanTool\"},{\"attributes\":{},\"id\":\"1134\",\"type\":\"DataRange1d\"},{\"attributes\":{\"text\":\"Structure\"},\"id\":\"1130\",\"type\":\"Title\"},{\"attributes\":{\"axis\":{\"id\":\"1144\"},\"dimension\":1,\"ticker\":null},\"id\":\"1147\",\"type\":\"Grid\"},{\"attributes\":{\"line_alpha\":0.1,\"line_color\":\"#1f77b4\",\"x\":{\"field\":\"dot_x\"},\"y\":{\"field\":\"dot_y\"}},\"id\":\"1172\",\"type\":\"Line\"},{\"attributes\":{},\"id\":\"1152\",\"type\":\"ResetTool\"},{\"attributes\":{\"callback\":null,\"mode\":\"vline\",\"tooltips\":[[\"X\",\"@dot_x{0,0.00} m\"],[\"dy\",\"@u_y{0,0.00} mm\"],[\"V\",\"@V{0,0.0} kN\"],[\"M\",\"@M{0,0.0} kNm\"]]},\"id\":\"1164\",\"type\":\"HoverTool\"},{\"attributes\":{\"line_color\":\"#1f77b4\",\"x\":{\"field\":\"dot_x\"},\"y\":{\"field\":\"dot_y\"}},\"id\":\"1171\",\"type\":\"Line\"},{\"attributes\":{\"fill_alpha\":{\"value\":0.5},\"fill_color\":{\"value\":\"red\"},\"line_alpha\":{\"value\":0.5},\"line_color\":{\"value\":\"red\"},\"size\":{\"units\":\"screen\",\"value\":5},\"x\":{\"field\":\"loc_x\"},\"y\":{\"field\":\"loc_y\"}},\"id\":\"1176\",\"type\":\"Scatter\"},{\"attributes\":{\"overlay\":{\"id\":\"1154\"}},\"id\":\"1150\",\"type\":\"BoxZoomTool\"},{\"attributes\":{\"active_drag\":\"auto\",\"active_inspect\":\"auto\",\"active_multi\":null,\"active_scroll\":\"auto\",\"active_tap\":\"auto\",\"tools\":[{\"id\":\"1148\"},{\"id\":\"1149\"},{\"id\":\"1150\"},{\"id\":\"1151\"},{\"id\":\"1152\"},{\"id\":\"1153\"},{\"id\":\"1164\"}]},\"id\":\"1155\",\"type\":\"Toolbar\"},{\"attributes\":{},\"id\":\"1136\",\"type\":\"LinearScale\"},{\"attributes\":{\"fill_alpha\":{\"value\":0.1},\"fill_color\":{\"value\":\"navy\"},\"line_alpha\":{\"value\":0.1},\"line_color\":{\"value\":\"navy\"},\"size\":{\"units\":\"screen\",\"value\":10},\"x\":{\"field\":\"dot_x\"},\"y\":{\"field\":\"dot_y\"}},\"id\":\"1167\",\"type\":\"Circle\"},{\"attributes\":{\"data\":{\"M\":[-1.944444444442805,-1.7129629629612708,-1.4814814814814454,-1.2499999999998916,-1.0185185185182757,-0.7870370370366384,-0.5555555555551877,-0.3240740740738097,-0.09259259259234298,0.13888888888868856,0.3703703703698302,0.5018518518515069,0.6333333333327715,0.764814814814109,0.8962962962954233,1.0277777777770467,1.1592592592585333,1.2907407407396942,1.422222222221276,1.5537037037027535,1.6851851851842685,1.6166666666657044,1.5481481481474404,1.4796296296291196,1.411111111110582,1.3425925925920978,1.274074074073578,1.205555555555204,1.137037037036798,1.0685185185184167,1.000000000000007],\"V\":[2.3148148148156054,2.3148148148156054,2.314814814815577,2.314814814815634,2.3148148148154064,2.3148148148150653,2.3148148148154064,2.3148148148156906,2.3148148148157475,2.31481481481552,1.3148148148143832,1.31481481481228,1.314814814812678,1.3148148148140422,1.3148148148162022,1.3148148148136727,1.314814814811598,1.3148148148147456,1.3148148148132321,1.3148148148146106,-0.6851851851837694,-0.6851851851847641,-0.6851851851845367,-0.6851851851844231,-0.6851851851846504,-0.6851851851841957,-0.6851851851844231,-0.685185185184082,-0.6851851851837409,-0.6851851851838546,0.6851851851838546],\"dot_x\":[0.0,0.1,0.2,0.30000000000000004,0.4,0.5,0.6000000000000001,0.7000000000000001,0.8,0.9,1.0,1.1,1.2,1.3,1.4,1.5,1.6,1.7000000000000002,1.8,1.9,2.0,2.1,2.2,2.3,2.4,2.5,2.6,2.7,2.8,2.9,3.0],\"dot_y\":[0.0,0.0,0.0,0.0,0.0,0.0,0.0,0.0,0.0,0.0,0.0,0.0,0.0,0.0,0.0,0.0,0.0,0.0,0.0,0.0,0.0,0.0,0.0,0.0,0.0,0.0,0.0,0.0,0.0,0.0,0.0],\"loc_x\":[0.0,0.1,0.2,0.30000000000000004,0.4,0.5,0.6000000000000001,0.7000000000000001,0.8,0.9,1.0,1.1,1.2,1.3,1.4,1.5,1.6,1.7000000000000002,1.8,1.9,2.0,2.1,2.2,2.3,2.4,2.5,2.6,2.7,2.8,2.9,3.0],\"loc_y\":[0.0,-0.022763080540838008,-0.08728982951196951,-0.18793650793634165,-0.31905937683690144,-0.4750146972365741,-0.6501587301582841,-0.8388477366249574,-1.0354379776595235,-1.2342857142849117,-1.4297472075240543,-1.6165850676062383,-1.7911873015861413,-1.950348265724789,-2.0908623162832054,-2.209523809522416,-2.3031271017034447,-2.368466549087314,-2.402336507935051,-2.4015313345076796,-2.362845385066223,-2.283885714284402,-2.165510170486728,-2.009389300410413,-1.8171936507926665,-1.5905937683707003,-1.331260199881727,-1.04086349206296,-0.7210741916516099,-0.3735628453848865,0.0],\"u_x\":[0.0,0.0,0.0,0.0,0.0,0.0,0.0,0.0,0.0,0.0,0.0,0.0,0.0,0.0,0.0,0.0,0.0,0.0,0.0,0.0,0.0,0.0,0.0,0.0,0.0,0.0,0.0,0.0,0.0,0.0,0.0],\"u_y\":[0.0,-0.022763080540838008,-0.08728982951196951,-0.18793650793634165,-0.31905937683690144,-0.4750146972365741,-0.6501587301582841,-0.8388477366249574,-1.0354379776595235,-1.2342857142849117,-1.4297472075240543,-1.6165850676062383,-1.7911873015861413,-1.950348265724789,-2.0908623162832054,-2.209523809522416,-2.3031271017034447,-2.368466549087314,-2.402336507935051,-2.4015313345076796,-2.362845385066223,-2.283885714284402,-2.165510170486728,-2.009389300410413,-1.8171936507926665,-1.5905937683707003,-1.331260199881727,-1.04086349206296,-0.7210741916516099,-0.3735628453848865,0.0]},\"selected\":{\"id\":\"1204\"},\"selection_policy\":{\"id\":\"1203\"}},\"id\":\"1162\",\"type\":\"ColumnDataSource\"},{\"attributes\":{},\"id\":\"1141\",\"type\":\"BasicTicker\"},{\"attributes\":{},\"id\":\"1204\",\"type\":\"Selection\"},{\"attributes\":{\"data_source\":{\"id\":\"1162\"},\"glyph\":{\"id\":\"1176\"},\"hover_glyph\":null,\"muted_glyph\":null,\"nonselection_glyph\":{\"id\":\"1177\"},\"selection_glyph\":null,\"view\":{\"id\":\"1179\"}},\"id\":\"1178\",\"type\":\"GlyphRenderer\"},{\"attributes\":{\"axis\":{\"id\":\"1140\"},\"ticker\":null},\"id\":\"1143\",\"type\":\"Grid\"},{\"attributes\":{},\"id\":\"1201\",\"type\":\"UnionRenderers\"},{\"attributes\":{},\"id\":\"1138\",\"type\":\"LinearScale\"},{\"attributes\":{},\"id\":\"1145\",\"type\":\"BasicTicker\"},{\"attributes\":{\"axis_label\":\"y [mm]\",\"formatter\":{\"id\":\"1198\"},\"ticker\":{\"id\":\"1145\"}},\"id\":\"1144\",\"type\":\"LinearAxis\"},{\"attributes\":{},\"id\":\"1153\",\"type\":\"HelpTool\"},{\"attributes\":{},\"id\":\"1202\",\"type\":\"Selection\"},{\"attributes\":{\"fill_alpha\":{\"value\":0.5},\"fill_color\":{\"value\":\"navy\"},\"line_alpha\":{\"value\":0.5},\"line_color\":{\"value\":\"navy\"},\"size\":{\"units\":\"screen\",\"value\":10},\"x\":{\"field\":\"dot_x\"},\"y\":{\"field\":\"dot_y\"}},\"id\":\"1166\",\"type\":\"Circle\"},{\"attributes\":{},\"id\":\"1149\",\"type\":\"WheelZoomTool\"},{\"attributes\":{\"data\":{\"M\":[-1.944444444442805,0.3703703703698302,1.6851851851842685,1.000000000000007],\"V\":[2.3148148148156054,1.3148148148143832,-0.6851851851837694,0.6851851851838546],\"dot_x\":[0.0,1.0,2.0,3.0],\"dot_y\":[0.0,0.0,0.0,0.0],\"u_x\":[0.0,0.0,0.0,0.0],\"u_y\":[0.0,-1.4297472075240543,-2.362845385066223,0.0]},\"selected\":{\"id\":\"1202\"},\"selection_policy\":{\"id\":\"1201\"}},\"id\":\"1163\",\"type\":\"ColumnDataSource\"},{\"attributes\":{},\"id\":\"1203\",\"type\":\"UnionRenderers\"},{\"attributes\":{\"data_source\":{\"id\":\"1163\"},\"glyph\":{\"id\":\"1171\"},\"hover_glyph\":null,\"muted_glyph\":null,\"nonselection_glyph\":{\"id\":\"1172\"},\"selection_glyph\":null,\"view\":{\"id\":\"1174\"}},\"id\":\"1173\",\"type\":\"GlyphRenderer\"},{\"attributes\":{\"bottom_units\":\"screen\",\"fill_alpha\":0.5,\"fill_color\":\"lightgrey\",\"left_units\":\"screen\",\"level\":\"overlay\",\"line_alpha\":1.0,\"line_color\":\"black\",\"line_dash\":[4,4],\"line_width\":2,\"right_units\":\"screen\",\"top_units\":\"screen\"},\"id\":\"1154\",\"type\":\"BoxAnnotation\"},{\"attributes\":{},\"id\":\"1151\",\"type\":\"SaveTool\"},{\"attributes\":{\"line_color\":\"gold\",\"x\":{\"field\":\"loc_x\"},\"y\":{\"field\":\"loc_y\"}},\"id\":\"1181\",\"type\":\"Line\"},{\"attributes\":{},\"id\":\"1200\",\"type\":\"BasicTickFormatter\"},{\"attributes\":{\"data_source\":{\"id\":\"1162\"},\"glyph\":{\"id\":\"1181\"},\"hover_glyph\":null,\"muted_glyph\":null,\"nonselection_glyph\":{\"id\":\"1182\"},\"selection_glyph\":null,\"view\":{\"id\":\"1184\"}},\"id\":\"1183\",\"type\":\"GlyphRenderer\"},{\"attributes\":{\"line_alpha\":0.1,\"line_color\":\"gold\",\"x\":{\"field\":\"loc_x\"},\"y\":{\"field\":\"loc_y\"}},\"id\":\"1182\",\"type\":\"Line\"},{\"attributes\":{},\"id\":\"1198\",\"type\":\"BasicTickFormatter\"},{\"attributes\":{\"axis_label\":\"x [m]\",\"formatter\":{\"id\":\"1200\"},\"ticker\":{\"id\":\"1141\"}},\"id\":\"1140\",\"type\":\"LinearAxis\"},{\"attributes\":{\"data_source\":{\"id\":\"1163\"},\"glyph\":{\"id\":\"1166\"},\"hover_glyph\":null,\"muted_glyph\":null,\"nonselection_glyph\":{\"id\":\"1167\"},\"selection_glyph\":null,\"view\":{\"id\":\"1169\"}},\"id\":\"1168\",\"type\":\"GlyphRenderer\"},{\"attributes\":{\"source\":{\"id\":\"1163\"}},\"id\":\"1174\",\"type\":\"CDSView\"},{\"attributes\":{},\"id\":\"1132\",\"type\":\"DataRange1d\"},{\"attributes\":{\"source\":{\"id\":\"1162\"}},\"id\":\"1184\",\"type\":\"CDSView\"}],\"root_ids\":[\"1129\"]},\"title\":\"Bokeh Application\",\"version\":\"2.1.1\"}};\n",
       "  var render_items = [{\"docid\":\"e7ebe51b-0ff1-4a92-aec8-25a1d2be8260\",\"root_ids\":[\"1129\"],\"roots\":{\"1129\":\"9f87e250-5bc6-47a5-aa84-bd4fade49bae\"}}];\n",
       "  root.Bokeh.embed.embed_items_notebook(docs_json, render_items);\n",
       "\n",
       "  }\n",
       "  if (root.Bokeh !== undefined) {\n",
       "    embed_document(root);\n",
       "  } else {\n",
       "    var attempts = 0;\n",
       "    var timer = setInterval(function(root) {\n",
       "      if (root.Bokeh !== undefined) {\n",
       "        clearInterval(timer);\n",
       "        embed_document(root);\n",
       "      } else {\n",
       "        attempts++;\n",
       "        if (attempts > 100) {\n",
       "          clearInterval(timer);\n",
       "          console.log(\"Bokeh: ERROR: Unable to run BokehJS code because BokehJS library is missing\");\n",
       "        }\n",
       "      }\n",
       "    }, 10, root)\n",
       "  }\n",
       "})(window);"
      ],
      "application/vnd.bokehjs_exec.v0+json": ""
     },
     "metadata": {
      "application/vnd.bokehjs_exec.v0+json": {
       "id": "1129"
      }
     },
     "output_type": "display_data"
    }
   ],
   "source": [
    "exemplo2 = Structure(readjson(\"exemplo2.json\"))\n",
    "bk.show(exemplo2.show())"
   ]
  },
  {
   "cell_type": "code",
   "execution_count": 36,
   "metadata": {
    "tags": []
   },
   "outputs": [
    {
     "data": {
      "text/html": [
       "\n",
       "\n",
       "\n",
       "\n",
       "\n",
       "\n",
       "  <div class=\"bk-root\" id=\"f654b6d2-fb0a-4428-a836-fcb73843cedf\" data-root-id=\"1266\"></div>\n"
      ]
     },
     "metadata": {},
     "output_type": "display_data"
    },
    {
     "data": {
      "application/javascript": [
       "(function(root) {\n",
       "  function embed_document(root) {\n",
       "    \n",
       "  var docs_json = {\"0c25ab2e-327c-443d-8f42-75936730ef3a\":{\"roots\":{\"references\":[{\"attributes\":{\"below\":[{\"id\":\"1277\"}],\"center\":[{\"id\":\"1280\"},{\"id\":\"1284\"}],\"left\":[{\"id\":\"1281\"}],\"renderers\":[{\"id\":\"1305\"},{\"id\":\"1310\"},{\"id\":\"1315\"},{\"id\":\"1320\"}],\"sizing_mode\":\"scale_width\",\"title\":{\"id\":\"1267\"},\"toolbar\":{\"id\":\"1292\"},\"x_range\":{\"id\":\"1269\"},\"x_scale\":{\"id\":\"1273\"},\"y_range\":{\"id\":\"1271\"},\"y_scale\":{\"id\":\"1275\"}},\"id\":\"1266\",\"subtype\":\"Figure\",\"type\":\"Plot\"},{\"attributes\":{},\"id\":\"1348\",\"type\":\"UnionRenderers\"},{\"attributes\":{\"data_source\":{\"id\":\"1300\"},\"glyph\":{\"id\":\"1303\"},\"hover_glyph\":null,\"muted_glyph\":null,\"nonselection_glyph\":{\"id\":\"1304\"},\"selection_glyph\":null,\"view\":{\"id\":\"1306\"}},\"id\":\"1305\",\"type\":\"GlyphRenderer\"},{\"attributes\":{\"data\":{\"M\":[5.335700631325935e-12,6.941160714286336,-6.11767857142973,-3.0292857142864946,4.477767857144638,-3.0151785714284056,2.5969642857124846,0.0],\"V\":[11.941160714282887,-8.058839285722343,11.544196428571993,7.507053571432266,-7.492946428571315,3.5075892857132516,-6.492410714279686,6.492410714278776],\"dot_x\":[0.0,1.0,2.0,4.0,5.0,6.0,7.6,8.0],\"dot_y\":[0.0,0.0,0.0,0.0,0.0,0.0,0.0,0.0],\"u_x\":[0.0,0.0,0.0,0.0,0.0,0.0,0.0,0.0],\"u_y\":[0.0,-10.408970424110437,0.0,0.0,-4.635393415180296,0.0,-1.3908928571412233,0.0]},\"selected\":{\"id\":\"1349\"},\"selection_policy\":{\"id\":\"1348\"}},\"id\":\"1300\",\"type\":\"ColumnDataSource\"},{\"attributes\":{\"fill_alpha\":{\"value\":0.5},\"fill_color\":{\"value\":\"navy\"},\"line_alpha\":{\"value\":0.5},\"line_color\":{\"value\":\"navy\"},\"size\":{\"units\":\"screen\",\"value\":10},\"x\":{\"field\":\"dot_x\"},\"y\":{\"field\":\"dot_y\"}},\"id\":\"1303\",\"type\":\"Circle\"},{\"attributes\":{\"axis_label\":\"x [m]\",\"formatter\":{\"id\":\"1347\"},\"ticker\":{\"id\":\"1278\"}},\"id\":\"1277\",\"type\":\"LinearAxis\"},{\"attributes\":{\"source\":{\"id\":\"1300\"}},\"id\":\"1311\",\"type\":\"CDSView\"},{\"attributes\":{\"data_source\":{\"id\":\"1299\"},\"glyph\":{\"id\":\"1318\"},\"hover_glyph\":null,\"muted_glyph\":null,\"nonselection_glyph\":{\"id\":\"1319\"},\"selection_glyph\":null,\"view\":{\"id\":\"1321\"}},\"id\":\"1320\",\"type\":\"GlyphRenderer\"},{\"attributes\":{},\"id\":\"1286\",\"type\":\"WheelZoomTool\"},{\"attributes\":{\"axis\":{\"id\":\"1281\"},\"dimension\":1,\"ticker\":null},\"id\":\"1284\",\"type\":\"Grid\"},{\"attributes\":{},\"id\":\"1278\",\"type\":\"BasicTicker\"},{\"attributes\":{},\"id\":\"1271\",\"type\":\"DataRange1d\"},{\"attributes\":{\"fill_alpha\":{\"value\":0.1},\"fill_color\":{\"value\":\"navy\"},\"line_alpha\":{\"value\":0.1},\"line_color\":{\"value\":\"navy\"},\"size\":{\"units\":\"screen\",\"value\":10},\"x\":{\"field\":\"dot_x\"},\"y\":{\"field\":\"dot_y\"}},\"id\":\"1304\",\"type\":\"Circle\"},{\"attributes\":{},\"id\":\"1349\",\"type\":\"Selection\"},{\"attributes\":{\"fill_alpha\":{\"value\":0.5},\"fill_color\":{\"value\":\"red\"},\"line_alpha\":{\"value\":0.5},\"line_color\":{\"value\":\"red\"},\"size\":{\"units\":\"screen\",\"value\":5},\"x\":{\"field\":\"loc_x\"},\"y\":{\"field\":\"loc_y\"}},\"id\":\"1313\",\"type\":\"Scatter\"},{\"attributes\":{},\"id\":\"1351\",\"type\":\"Selection\"},{\"attributes\":{\"line_alpha\":0.1,\"line_color\":\"gold\",\"x\":{\"field\":\"loc_x\"},\"y\":{\"field\":\"loc_y\"}},\"id\":\"1319\",\"type\":\"Line\"},{\"attributes\":{\"overlay\":{\"id\":\"1291\"}},\"id\":\"1287\",\"type\":\"BoxZoomTool\"},{\"attributes\":{},\"id\":\"1282\",\"type\":\"BasicTicker\"},{\"attributes\":{\"axis_label\":\"y [mm]\",\"formatter\":{\"id\":\"1345\"},\"ticker\":{\"id\":\"1282\"}},\"id\":\"1281\",\"type\":\"LinearAxis\"},{\"attributes\":{\"data\":{\"M\":[5.335700631325935e-12,1.144116071433579,2.188232142861842,3.13234821429031,3.9764642857192594,4.720580357147681,5.364696428574411,5.908812500003193,6.352928571428741,6.697044642856526,6.941160714286336,6.085276785715826,5.129392857143727,4.07350892856926,2.9176250000020327,1.6617410714307463,0.3058571428587195,-1.1500267857134578,-2.705910714285601,-4.36179464285764,-6.11767857142973,-4.008839285715344,-2.300000000000945,-0.9911607142865831,-0.08232142857223014,0.42651785714214985,0.5353571428565487,0.24419642857093093,-0.4469642857146813,-1.538125000000296,-3.0292857142864946,-2.2785803571432837,-1.5278750000000763,-0.7771696428567161,-0.026464285713501567,0.724241071429585,1.474946428572391,2.2256517857155416,2.9763571428576707,3.7270624999997026,4.477767857144638,3.728473214286364,2.979178571429216,2.229883928572079,1.4805892857149736,0.7312946428576836,-0.01799999999949975,-0.7672946428568004,-1.5165892857140442,-2.2658839285713572,-3.0151785714284056,-2.453964285714289,-1.8927500000001674,-1.3315357142860584,-0.7703214285719344,-0.20910714285783794,0.3521071428562257,0.9133214285703031,1.4745357142844582,2.0357499999985906,2.5969642857124846,2.337267857141338,2.0775714285698186,1.8178749999985726,1.5581785714270922,1.2984821428557112,1.0387857142844936,0.7790892857132974,0.5193928571423072,0.2596964285711394,0.0],\"V\":[11.941160714282887,10.941160714283342,9.94116071428266,8.94116071428266,7.941160714284479,6.941160714281295,5.941160714283569,4.9411607142823755,3.941160714282688,2.9411607142809544,-8.058839285722343,-9.058839285720069,-10.058839285719387,-11.058839285722343,-12.05883928572257,-13.058839285721888,-14.058839285723707,-15.058839285720751,-16.05883928572075,-17.05883928572007,11.544196428571993,9.54419642857199,7.54419642857199,5.544196428571958,3.5441964285719223,1.544196428571901,-0.4558035714281008,-2.4558035714280706,-4.455803571428092,-6.455803571428092,7.507053571432266,7.507053571432152,7.5070535714320386,7.507053571432493,7.507053571431925,7.507053571432493,7.507053571430447,7.507053571430447,7.5070535714320386,7.507053571428894,-7.492946428571315,-7.492946428571031,-7.492946428569667,-7.492946428573191,-7.4929464285741005,-7.492946428571827,-7.4929464285722815,-7.492946428572736,-7.492946428573305,-7.4929464285730205,3.5075892857132516,3.5075892857132445,3.507589285713294,3.507589285713266,3.507589285713266,3.507589285713266,3.5075892857132516,3.507589285713287,3.507589285713318,3.5075892857131947,-6.492410714279686,-6.492410714286962,-6.492410714280595,-6.492410714285143,-6.492410714284233,-6.492410714281505,-6.492410714284688,-6.492410714275138,-6.492410714278321,-6.492410714278776,6.492410714278776],\"dot_x\":[0.0,0.1,0.2,0.30000000000000004,0.4,0.5,0.6000000000000001,0.7000000000000001,0.8,0.9,1.0,1.1,1.2,1.3,1.4,1.5,1.6,1.7000000000000002,1.8,1.9,2.0,2.2,2.4,2.6,2.8,3.0,3.2,3.4000000000000004,3.6,3.8,4.0,4.1,4.2,4.3,4.4,4.5,4.6,4.7,4.8,4.9,5.0,5.1,5.2,5.3,5.4,5.5,5.6,5.7,5.8,5.9,6.0,6.16,6.32,6.4799999999999995,6.64,6.8,6.96,7.12,7.279999999999999,7.4399999999999995,7.6,7.64,7.68,7.72,7.76,7.8,7.84,7.88,7.92,7.96,8.0],\"dot_y\":[0.0,0.0,0.0,0.0,0.0,0.0,0.0,0.0,0.0,0.0,0.0,0.0,0.0,0.0,0.0,0.0,0.0,0.0,0.0,0.0,0.0,0.0,0.0,0.0,0.0,0.0,0.0,0.0,0.0,0.0,0.0,0.0,0.0,0.0,0.0,0.0,0.0,0.0,0.0,0.0,0.0,0.0,0.0,0.0,0.0,0.0,0.0,0.0,0.0,0.0,0.0,0.0,0.0,0.0,0.0,0.0,0.0,0.0,0.0,0.0,0.0,0.0,0.0,0.0,0.0,0.0,0.0,0.0,0.0,0.0,0.0],\"loc_x\":[0.0,0.1,0.2,0.30000000000000004,0.4,0.5,0.6000000000000001,0.7000000000000001,0.8,0.9,1.0,1.1,1.2,1.3,1.4,1.5,1.6,1.7000000000000002,1.8,1.9,2.0,2.2,2.4,2.6,2.8,3.0,3.2,3.4000000000000004,3.6,3.8,4.0,4.1,4.2,4.3,4.4,4.5,4.6,4.7,4.8,4.9,5.0,5.1,5.2,5.3,5.4,5.5,5.6,5.7,5.8,5.9,6.0,6.16,6.32,6.4799999999999995,6.64,6.8,6.96,7.12,7.279999999999999,7.4399999999999995,7.6,7.64,7.68,7.72,7.76,7.8,7.84,7.88,7.92,7.96,8.0],\"loc_y\":[0.0,-1.7693540039074829,-3.4854681919665156,-5.099399623328895,-6.566892857146422,-7.848379952570875,-8.908980468754033,-9.718501464847725,-10.251437500003782,-10.486970633374062,-10.408970424110437,-10.01380643136468,-9.333785714288524,-8.413715332033755,-7.303089843752239,-6.056091308595743,-4.731589285715956,-3.3931408342646714,-2.108990513393706,-0.9520703822548772,0.0,1.140694754464964,1.5234821428583019,1.4687695312514637,1.2219642857158943,0.9534737723230352,0.7587053571443294,0.6580664062512248,0.59696428571517,0.4458063616076127,0.0,-0.4051730608261541,-0.9171545758933993,-1.5007552315856474,-2.120785714286807,-2.7420567103807874,-3.329378906251503,-3.8475629882828786,-4.261419642858839,-4.535759556363322,-4.635393415180296,-4.536850655693664,-4.263535714287331,-3.850571777345251,-3.3330820312513536,-2.74618966238957,-2.125017857143832,-1.5046898018980712,-0.9203286830362223,-0.40705768694222005,0.0,0.3779028571432719,0.4613300000008294,0.31762714285836685,0.014140000001578085,-0.38178571428384295,-0.802804285712203,-1.181569999997812,-1.450737142854981,-1.542959999998017,-1.3908928571412233,-1.3073136830341967,-1.2062049999986106,-1.0895145312487506,-0.9591899999989018,-0.8171791294633497,-0.6654296428563796,-0.5058892633922762,-0.3405057142853233,-0.1712267187498034,0.0],\"u_x\":[0.0,0.0,0.0,0.0,0.0,0.0,0.0,0.0,0.0,0.0,0.0,0.0,0.0,0.0,0.0,0.0,0.0,0.0,0.0,0.0,0.0,0.0,0.0,0.0,0.0,0.0,0.0,0.0,0.0,0.0,0.0,0.0,0.0,0.0,0.0,0.0,0.0,0.0,0.0,0.0,0.0,0.0,0.0,0.0,0.0,0.0,0.0,0.0,0.0,0.0,0.0,0.0,0.0,0.0,0.0,0.0,0.0,0.0,0.0,0.0,0.0,0.0,0.0,0.0,0.0,0.0,0.0,0.0,0.0,0.0,0.0],\"u_y\":[0.0,-1.7693540039074829,-3.4854681919665156,-5.099399623328895,-6.566892857146422,-7.848379952570875,-8.908980468754033,-9.718501464847725,-10.251437500003782,-10.486970633374062,-10.408970424110437,-10.01380643136468,-9.333785714288524,-8.413715332033755,-7.303089843752239,-6.056091308595743,-4.731589285715956,-3.3931408342646714,-2.108990513393706,-0.9520703822548772,0.0,1.140694754464964,1.5234821428583019,1.4687695312514637,1.2219642857158943,0.9534737723230352,0.7587053571443294,0.6580664062512248,0.59696428571517,0.4458063616076127,0.0,-0.4051730608261541,-0.9171545758933993,-1.5007552315856474,-2.120785714286807,-2.7420567103807874,-3.329378906251503,-3.8475629882828786,-4.261419642858839,-4.535759556363322,-4.635393415180296,-4.536850655693664,-4.263535714287331,-3.850571777345251,-3.3330820312513536,-2.74618966238957,-2.125017857143832,-1.5046898018980712,-0.9203286830362223,-0.40705768694222005,0.0,0.3779028571432719,0.4613300000008294,0.31762714285836685,0.014140000001578085,-0.38178571428384295,-0.802804285712203,-1.181569999997812,-1.450737142854981,-1.542959999998017,-1.3908928571412233,-1.3073136830341967,-1.2062049999986106,-1.0895145312487506,-0.9591899999989018,-0.8171791294633497,-0.6654296428563796,-0.5058892633922762,-0.3405057142853233,-0.1712267187498034,0.0]},\"selected\":{\"id\":\"1351\"},\"selection_policy\":{\"id\":\"1350\"}},\"id\":\"1299\",\"type\":\"ColumnDataSource\"},{\"attributes\":{\"data_source\":{\"id\":\"1300\"},\"glyph\":{\"id\":\"1308\"},\"hover_glyph\":null,\"muted_glyph\":null,\"nonselection_glyph\":{\"id\":\"1309\"},\"selection_glyph\":null,\"view\":{\"id\":\"1311\"}},\"id\":\"1310\",\"type\":\"GlyphRenderer\"},{\"attributes\":{\"active_drag\":\"auto\",\"active_inspect\":\"auto\",\"active_multi\":null,\"active_scroll\":\"auto\",\"active_tap\":\"auto\",\"tools\":[{\"id\":\"1285\"},{\"id\":\"1286\"},{\"id\":\"1287\"},{\"id\":\"1288\"},{\"id\":\"1289\"},{\"id\":\"1290\"},{\"id\":\"1301\"}]},\"id\":\"1292\",\"type\":\"Toolbar\"},{\"attributes\":{\"fill_alpha\":{\"value\":0.1},\"fill_color\":{\"value\":\"red\"},\"line_alpha\":{\"value\":0.1},\"line_color\":{\"value\":\"red\"},\"size\":{\"units\":\"screen\",\"value\":5},\"x\":{\"field\":\"loc_x\"},\"y\":{\"field\":\"loc_y\"}},\"id\":\"1314\",\"type\":\"Scatter\"},{\"attributes\":{\"line_alpha\":0.1,\"line_color\":\"#1f77b4\",\"x\":{\"field\":\"dot_x\"},\"y\":{\"field\":\"dot_y\"}},\"id\":\"1309\",\"type\":\"Line\"},{\"attributes\":{},\"id\":\"1275\",\"type\":\"LinearScale\"},{\"attributes\":{},\"id\":\"1289\",\"type\":\"ResetTool\"},{\"attributes\":{\"source\":{\"id\":\"1299\"}},\"id\":\"1321\",\"type\":\"CDSView\"},{\"attributes\":{\"bottom_units\":\"screen\",\"fill_alpha\":0.5,\"fill_color\":\"lightgrey\",\"left_units\":\"screen\",\"level\":\"overlay\",\"line_alpha\":1.0,\"line_color\":\"black\",\"line_dash\":[4,4],\"line_width\":2,\"right_units\":\"screen\",\"top_units\":\"screen\"},\"id\":\"1291\",\"type\":\"BoxAnnotation\"},{\"attributes\":{\"callback\":null,\"mode\":\"vline\",\"tooltips\":[[\"X\",\"@dot_x{0,0.00} m\"],[\"dy\",\"@u_y{0,0.00} mm\"],[\"V\",\"@V{0,0.0} kN\"],[\"M\",\"@M{0,0.0} kNm\"]]},\"id\":\"1301\",\"type\":\"HoverTool\"},{\"attributes\":{\"axis\":{\"id\":\"1277\"},\"ticker\":null},\"id\":\"1280\",\"type\":\"Grid\"},{\"attributes\":{},\"id\":\"1288\",\"type\":\"SaveTool\"},{\"attributes\":{\"line_color\":\"gold\",\"x\":{\"field\":\"loc_x\"},\"y\":{\"field\":\"loc_y\"}},\"id\":\"1318\",\"type\":\"Line\"},{\"attributes\":{},\"id\":\"1290\",\"type\":\"HelpTool\"},{\"attributes\":{\"line_color\":\"#1f77b4\",\"x\":{\"field\":\"dot_x\"},\"y\":{\"field\":\"dot_y\"}},\"id\":\"1308\",\"type\":\"Line\"},{\"attributes\":{},\"id\":\"1285\",\"type\":\"PanTool\"},{\"attributes\":{},\"id\":\"1347\",\"type\":\"BasicTickFormatter\"},{\"attributes\":{\"source\":{\"id\":\"1299\"}},\"id\":\"1316\",\"type\":\"CDSView\"},{\"attributes\":{\"source\":{\"id\":\"1300\"}},\"id\":\"1306\",\"type\":\"CDSView\"},{\"attributes\":{},\"id\":\"1345\",\"type\":\"BasicTickFormatter\"},{\"attributes\":{},\"id\":\"1350\",\"type\":\"UnionRenderers\"},{\"attributes\":{},\"id\":\"1273\",\"type\":\"LinearScale\"},{\"attributes\":{\"text\":\"Structure\"},\"id\":\"1267\",\"type\":\"Title\"},{\"attributes\":{\"data_source\":{\"id\":\"1299\"},\"glyph\":{\"id\":\"1313\"},\"hover_glyph\":null,\"muted_glyph\":null,\"nonselection_glyph\":{\"id\":\"1314\"},\"selection_glyph\":null,\"view\":{\"id\":\"1316\"}},\"id\":\"1315\",\"type\":\"GlyphRenderer\"},{\"attributes\":{},\"id\":\"1269\",\"type\":\"DataRange1d\"}],\"root_ids\":[\"1266\"]},\"title\":\"Bokeh Application\",\"version\":\"2.1.1\"}};\n",
       "  var render_items = [{\"docid\":\"0c25ab2e-327c-443d-8f42-75936730ef3a\",\"root_ids\":[\"1266\"],\"roots\":{\"1266\":\"f654b6d2-fb0a-4428-a836-fcb73843cedf\"}}];\n",
       "  root.Bokeh.embed.embed_items_notebook(docs_json, render_items);\n",
       "\n",
       "  }\n",
       "  if (root.Bokeh !== undefined) {\n",
       "    embed_document(root);\n",
       "  } else {\n",
       "    var attempts = 0;\n",
       "    var timer = setInterval(function(root) {\n",
       "      if (root.Bokeh !== undefined) {\n",
       "        clearInterval(timer);\n",
       "        embed_document(root);\n",
       "      } else {\n",
       "        attempts++;\n",
       "        if (attempts > 100) {\n",
       "          clearInterval(timer);\n",
       "          console.log(\"Bokeh: ERROR: Unable to run BokehJS code because BokehJS library is missing\");\n",
       "        }\n",
       "      }\n",
       "    }, 10, root)\n",
       "  }\n",
       "})(window);"
      ],
      "application/vnd.bokehjs_exec.v0+json": ""
     },
     "metadata": {
      "application/vnd.bokehjs_exec.v0+json": {
       "id": "1266"
      }
     },
     "output_type": "display_data"
    }
   ],
   "source": [
    "exemplo3 = Structure(readjson(\"exemplo3.json\"))\n",
    "bk.show(exemplo3.show())"
   ]
  }
 ],
 "metadata": {
  "kernelspec": {
   "display_name": "Python 3",
   "language": "python",
   "name": "python3"
  },
  "language_info": {
   "codemirror_mode": {
    "name": "ipython",
    "version": 3
   },
   "file_extension": ".py",
   "mimetype": "text/x-python",
   "name": "python",
   "nbconvert_exporter": "python",
   "pygments_lexer": "ipython3",
   "version": "3.8.2"
  }
 },
 "nbformat": 4,
 "nbformat_minor": 4
}
