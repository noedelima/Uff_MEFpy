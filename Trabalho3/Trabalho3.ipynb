{
 "cells": [
  {
   "cell_type": "markdown",
   "metadata": {},
   "source": [
    "# Método dos Elementos Finitos - Trabalho 3"
   ]
  },
  {
   "cell_type": "markdown",
   "metadata": {},
   "source": [
    "Universidade Federal Fluminense\n",
    "\n",
    "Disciplina ministrada pelo Prof. Marco Ferro\n",
    "\n",
    "<marcoferro@id.uff.br>\n",
    "\n",
    "Aluno Noé de Lima\n",
    "\n",
    "<noe_lima@id.uff.br>\n",
    "\n",
    "Este trabalho visa aplicar o MEF a uma estrutura de vigas.\n",
    "\n",
    "Primeiro semestre de 2020\n",
    "\n",
    "\\vfill"
   ]
  },
  {
   "cell_type": "markdown",
   "metadata": {},
   "source": [
    "A célula a seguir configura o Jupyter-Notebook para exibir as equações matemáticas no formato do ambiente $\\LaTeX$ e importa as bibliotecas necessárias."
   ]
  },
  {
   "cell_type": "code",
   "execution_count": 1,
   "metadata": {
    "tags": []
   },
   "outputs": [
    {
     "data": {
      "text/html": [
       "        <script type=\"text/javascript\">\n",
       "        window.PlotlyConfig = {MathJaxConfig: 'local'};\n",
       "        if (window.MathJax) {MathJax.Hub.Config({SVG: {font: \"STIX-Web\"}});}\n",
       "        if (typeof require !== 'undefined') {\n",
       "        require.undef(\"plotly\");\n",
       "        requirejs.config({\n",
       "            paths: {\n",
       "                'plotly': ['https://cdn.plot.ly/plotly-latest.min']\n",
       "            }\n",
       "        });\n",
       "        require(['plotly'], function(Plotly) {\n",
       "            window._Plotly = Plotly;\n",
       "        });\n",
       "        }\n",
       "        </script>\n",
       "        "
      ]
     },
     "metadata": {},
     "output_type": "display_data"
    },
    {
     "name": "stdout",
     "output_type": "stream",
     "text": [
      "Linux DESKTOP-CR7O8A2 4.19.104-microsoft-standard #1 SMP Wed Feb 19 06:37:35 UTC 2020 x86_64 x86_64 x86_64 GNU/Linux\n"
     ]
    }
   ],
   "source": [
    "import numpy as np\n",
    "import sympy as sym\n",
    "import plotly.graph_objects as go\n",
    "import json\n",
    "from plotly.offline import init_notebook_mode, iplot\n",
    "init_notebook_mode(connected=True)\n",
    "sym.init_printing(use_latex='mathjax',latex_mode='equation*')\n",
    "!uname -a"
   ]
  },
  {
   "cell_type": "markdown",
   "metadata": {},
   "source": [
    "\\cleardoublepage\n",
    "\n",
    "\\tableofcontents\n",
    "\n",
    "\\cleardoublepage"
   ]
  },
  {
   "cell_type": "markdown",
   "metadata": {},
   "source": [
    "# Introdução"
   ]
  },
  {
   "cell_type": "markdown",
   "metadata": {},
   "source": [
    "Em uma estrutura de treliças, cada barra é um elemento, e o Método dos Elementos Finitos coincide com a Análise Matricial de Estruturas. Considerando que todos os esforços na treliça são normais, não há cargas transversais, o problema, visto do ponto de vista das barras, é unidimensional, pois, da mesma forma que os esforços, os deslocamentos também são na mesma direção das barras.\n",
    "\n",
    "No caso de vigas, havendo momento fletor (ou torçor), tanto direto como em consequência de esforço cortante, há deformação no sentido perpendicular à viga, bem como rotação pontual em decorrência da deformação. Assim, uma viga será discretizada na forma de uma malha compostas por pequenos segmentos.\n",
    "\n",
    "Em um Elemento de Viga, cujo eixo principal é o eixo $x$, temos:\n",
    "\n",
    "* $V_{1} \\rightarrow$ Força perpendicular no início do Elemento;\n",
    "* $V_{2} \\rightarrow$ Força perpendicular no final do Elemento;\n",
    "* $P \\rightarrow$ Carga perpendicular distribuída;\n",
    "* $M_{1} \\rightarrow$ Momento no início do Elemento;\n",
    "* $M_{2} \\rightarrow$ Momento no final do Elemento;\n",
    "* $L \\rightarrow$ Comprimento do Elemento.\n",
    "\n",
    "Bem como os deslocamentos:\n",
    "* $u_{1}=\\delta_{1}\\rightarrow$ deflexão $\\delta$ no início do Elemento;\n",
    "* $u_{2}=\\theta_{1}\\rightarrow$ inclinação $\\theta$ no início do Elemento;\n",
    "* $u_{3}=\\delta_{2}\\rightarrow$ deflexão $\\delta$ no final do Elemento;\n",
    "* $u_{4}=\\theta_{2}\\rightarrow$ inclinação $\\theta$ no final do Elemento.\n",
    "\n",
    "No caso de uma viga retangular de largura $b$ e altura $h$, temos o momento de inércia:\n",
    "\n",
    "\\begin{equation*}\n",
    "    I = \\frac{bh^{3}}{12}\n",
    "\\end{equation*}\n",
    "\n",
    "Assim, sendo o Módulo de Elasticidade $E$ constante, o produto $EI$ também será.\n",
    "\n",
    "Temos, portanto, a seguinte equação diferencial da viga:\n",
    "\n",
    "\\begin{equation*}\n",
    "    EI\\frac{d^{4}u}{dx^{4}} = P\n",
    "\\end{equation*}\n",
    "\n",
    "Tem-se que:\n",
    "\n",
    "\\begin{equation*}\n",
    "    V = EI\\frac{d^{3}u}{dx^{3}}\n",
    "\\end{equation*}\n",
    "\n",
    "E\n",
    "\n",
    "\\begin{equation*}\n",
    "    M = EI\\frac{d^{2}u}{dx^{2}}\n",
    "\\end{equation*}"
   ]
  },
  {
   "cell_type": "markdown",
   "metadata": {},
   "source": [
    "Aplicando a SRP - Sentença de Resíduos Ponderados - na EDO da viga, resulta:\n",
    "\n",
    "\\begin{equation*}\n",
    "    \\int_{\\Omega}{N_{i}R}d\\Omega = 0\n",
    "\\end{equation*}\n",
    "\n",
    "$$\\therefore$$\n",
    "\n",
    "\\begin{equation*}\n",
    "    \\int_{0}^{L}{N_{i}\\left(EI\\frac{d^{4}u}{dx^{4}}-P\\right)}dx = 0\n",
    "\\end{equation*}\n"
   ]
  },
  {
   "cell_type": "code",
   "execution_count": 2,
   "metadata": {
    "tags": []
   },
   "outputs": [
    {
     "data": {
      "text/latex": [
       "\\begin{equation*}\\int\\limits_{0}^{L} \\left(E I \\frac{d^{4}}{d x^{4}} u{\\left(x \\right)} - P\\right) \\operatorname{N_{i}}{\\left(x \\right)}\\, dx\\end{equation*}"
      ],
      "text/plain": [
       "L                             \n",
       "⌠                             \n",
       "⎮ ⎛      4          ⎞         \n",
       "⎮ ⎜     d           ⎟         \n",
       "⎮ ⎜E⋅I⋅───(u(x)) - P⎟⋅Nᵢ(x) dx\n",
       "⎮ ⎜      4          ⎟         \n",
       "⎮ ⎝    dx           ⎠         \n",
       "⌡                             \n",
       "0                             "
      ]
     },
     "metadata": {},
     "output_type": "display_data"
    }
   ],
   "source": [
    "x = sym.symbols('x')\n",
    "P = sym.symbols('P')\n",
    "E,I,L = sym.symbols('E,I,L')\n",
    "u = sym.Function('u')\n",
    "N_i = sym.symbols('N_i',cls=sym.Function)\n",
    "R = E*I*sym.diff(u(x),x,4)-P\n",
    "SRP = sym.integrate(N_i(x)*R,(x,0,L))\n",
    "display(SRP.doit())"
   ]
  },
  {
   "cell_type": "markdown",
   "metadata": {},
   "source": [
    "Essa integral não pode ser resolvida pelos métodos sym.dsolve(sym.Eq(SRP,0),u(x)) ou SRP.doit(), pois o nível de complexidade ainda não foi implementado na biblioteca.\n",
    "\n",
    "Utilizando a integração por partes, obtém-se o seguinte:"
   ]
  },
  {
   "cell_type": "code",
   "execution_count": 3,
   "metadata": {},
   "outputs": [
    {
     "data": {
      "text/latex": [
       "\\begin{equation*}E I \\int\\limits_{0}^{L} \\frac{d}{d x} \\operatorname{N_{i}}{\\left(x \\right)} \\frac{d^{3}}{d x^{3}} u{\\left(x \\right)}\\, dx\\end{equation*}"
      ],
      "text/plain": [
       "    L                       \n",
       "    ⌠                       \n",
       "    ⎮             3         \n",
       "    ⎮ d          d          \n",
       "E⋅I⋅⎮ ──(Nᵢ(x))⋅───(u(x)) dx\n",
       "    ⎮ dx          3         \n",
       "    ⎮           dx          \n",
       "    ⌡                       \n",
       "    0                       "
      ]
     },
     "metadata": {},
     "output_type": "display_data"
    }
   ],
   "source": [
    "eq = sym.integrate(E*I*(sym.diff(N_i(x),x)*sym.diff(u(x),x,3)),(x,0,L))\n",
    "display(eq.doit())"
   ]
  },
  {
   "cell_type": "markdown",
   "metadata": {},
   "source": [
    "# Funções de Hermite"
   ]
  },
  {
   "cell_type": "code",
   "execution_count": 4,
   "metadata": {},
   "outputs": [
    {
     "data": {
      "text/latex": [
       "\\begin{equation*}0.5 - \\frac{- \\frac{3 L}{2} + 3 x}{2 L} + \\frac{2 \\left(- \\frac{L}{2} + x\\right)^{3}}{L^{3}}\\end{equation*}"
      ],
      "text/plain": [
       "                               3\n",
       "        3⋅L           ⎛  L    ⎞ \n",
       "      - ─── + 3⋅x   2⋅⎜- ─ + x⎟ \n",
       "         2            ⎝  2    ⎠ \n",
       "0.5 - ─────────── + ────────────\n",
       "          2⋅L             3     \n",
       "                         L      "
      ]
     },
     "metadata": {},
     "output_type": "display_data"
    },
    {
     "data": {
      "text/latex": [
       "\\begin{equation*}\\frac{L}{4} - \\frac{x}{4} - \\frac{\\left(- \\frac{L}{2} + x\\right)^{2}}{2 L} + \\frac{\\left(- \\frac{L}{2} + x\\right)^{3}}{L^{2}}\\end{equation*}"
      ],
      "text/plain": [
       "                 2            3\n",
       "        ⎛  L    ⎞    ⎛  L    ⎞ \n",
       "        ⎜- ─ + x⎟    ⎜- ─ + x⎟ \n",
       "L   x   ⎝  2    ⎠    ⎝  2    ⎠ \n",
       "─ - ─ - ────────── + ──────────\n",
       "4   4      2⋅L            2    \n",
       "                         L     "
      ]
     },
     "metadata": {},
     "output_type": "display_data"
    },
    {
     "data": {
      "text/latex": [
       "\\begin{equation*}0.5 + \\frac{- \\frac{3 L}{2} + 3 x}{2 L} - \\frac{2 \\left(- \\frac{L}{2} + x\\right)^{3}}{L^{3}}\\end{equation*}"
      ],
      "text/plain": [
       "                               3\n",
       "        3⋅L           ⎛  L    ⎞ \n",
       "      - ─── + 3⋅x   2⋅⎜- ─ + x⎟ \n",
       "         2            ⎝  2    ⎠ \n",
       "0.5 + ─────────── - ────────────\n",
       "          2⋅L             3     \n",
       "                         L      "
      ]
     },
     "metadata": {},
     "output_type": "display_data"
    },
    {
     "data": {
      "text/latex": [
       "\\begin{equation*}- \\frac{x}{4} + \\frac{\\left(- \\frac{L}{2} + x\\right)^{2}}{2 L} + \\frac{\\left(- \\frac{L}{2} + x\\right)^{3}}{L^{2}}\\end{equation*}"
      ],
      "text/plain": [
       "               2            3\n",
       "      ⎛  L    ⎞    ⎛  L    ⎞ \n",
       "      ⎜- ─ + x⎟    ⎜- ─ + x⎟ \n",
       "  x   ⎝  2    ⎠    ⎝  2    ⎠ \n",
       "- ─ + ────────── + ──────────\n",
       "  4      2⋅L            2    \n",
       "                       L     "
      ]
     },
     "metadata": {},
     "output_type": "display_data"
    }
   ],
   "source": [
    "N_1 = 1/2 - (3*(x-L/2))/(2*L) + (2*(x-L/2)**3)/(L**3)\n",
    "\n",
    "N_2 = L/8 - (x-L/2)/4 - ((x-L/2)**2)/(2*L) + ((x-L/2)**3)/(L**2)\n",
    "\n",
    "N_3 = 1/2 + (3*(x-L/2))/(2*L) - (2*(x-L/2)**3)/(L**3)\n",
    "\n",
    "N_4 = -L/8 - (x-L/2)/4 + ((x-L/2)**2)/(2*L) + ((x-L/2)**3)/(L**2)\n",
    "\n",
    "display(N_1)\n",
    "display(N_2)\n",
    "display(N_3)\n",
    "display(N_4)"
   ]
  },
  {
   "cell_type": "markdown",
   "metadata": {},
   "source": [
    "# Matriz de Rigidez Local"
   ]
  },
  {
   "cell_type": "markdown",
   "metadata": {},
   "source": [
    "\\begin{equation*}\n",
    "    K_{i,j} = \\int_{0}^{L}{\\frac{d^{2}N_{i}\\left(x\\right)}{dx^{2}}\\frac{d^{2}N_{j}\\left(x\\right)}{dx^{2}}}dx\n",
    "\\end{equation*}"
   ]
  },
  {
   "cell_type": "code",
   "execution_count": 5,
   "metadata": {
    "tags": []
   },
   "outputs": [
    {
     "data": {
      "text/latex": [
       "\\begin{equation*}\\left[\\begin{matrix}\\frac{12}{L^{2}} & \\frac{6}{L} & - \\frac{12}{L^{2}} & \\frac{6}{L}\\\\\\frac{6}{L} & 4 & - \\frac{6}{L} & 2\\\\- \\frac{12}{L^{2}} & - \\frac{6}{L} & \\frac{12}{L^{2}} & - \\frac{6}{L}\\\\\\frac{6}{L} & 2 & - \\frac{6}{L} & 4\\end{matrix}\\right]\\end{equation*}"
      ],
      "text/plain": [
       "⎡ 12    6   -12    6 ⎤\n",
       "⎢ ──    ─   ────   ─ ⎥\n",
       "⎢  2    L     2    L ⎥\n",
       "⎢ L          L       ⎥\n",
       "⎢                    ⎥\n",
       "⎢ 6         -6       ⎥\n",
       "⎢ ─     4   ───    2 ⎥\n",
       "⎢ L          L       ⎥\n",
       "⎢                    ⎥\n",
       "⎢-12   -6    12   -6 ⎥\n",
       "⎢────  ───   ──   ───⎥\n",
       "⎢  2    L     2    L ⎥\n",
       "⎢ L          L       ⎥\n",
       "⎢                    ⎥\n",
       "⎢ 6         -6       ⎥\n",
       "⎢ ─     2   ───    4 ⎥\n",
       "⎣ L          L       ⎦"
      ]
     },
     "metadata": {},
     "output_type": "display_data"
    }
   ],
   "source": [
    "K_e = sym.Matrix([[0,0,0,0],[0,0,0,0],[0,0,0,0],[0,0,0,0]])\n",
    "\n",
    "K_e[0,0] = E*I*sym.integrate(sym.diff(N_1,x,2)*sym.diff(N_1,x,2),[x,0,L])\n",
    "K_e[0,1] = E*I*sym.integrate(sym.diff(N_1,x,2)*sym.diff(N_2,x,2),[x,0,L])\n",
    "K_e[0,2] = E*I*sym.integrate(sym.diff(N_1,x,2)*sym.diff(N_3,x,2),[x,0,L])\n",
    "K_e[0,3] = E*I*sym.integrate(sym.diff(N_1,x,2)*sym.diff(N_4,x,2),[x,0,L])\n",
    "\n",
    "K_e[1,0] = K_e[0,1]\n",
    "K_e[1,1] = E*I*sym.integrate(sym.diff(N_2,x,2)*sym.diff(N_2,x,2),[x,0,L])\n",
    "K_e[1,2] = E*I*sym.integrate(sym.diff(N_2,x,2)*sym.diff(N_3,x,2),[x,0,L])\n",
    "K_e[1,3] = E*I*sym.integrate(sym.diff(N_2,x,2)*sym.diff(N_4,x,2),[x,0,L])\n",
    "\n",
    "K_e[2,0] = K_e[0,2]\n",
    "K_e[2,1] = K_e[1,2]\n",
    "K_e[2,2] = E*I*sym.integrate(sym.diff(N_3,x,2)*sym.diff(N_3,x,2),[x,0,L])\n",
    "K_e[2,3] = E*I*sym.integrate(sym.diff(N_3,x,2)*sym.diff(N_4,x,2),[x,0,L])\n",
    "\n",
    "K_e[3,0] = K_e[0,3]\n",
    "K_e[3,1] = K_e[1,3]\n",
    "K_e[3,2] = K_e[2,3]\n",
    "K_e[3,3] = E*I*sym.integrate(sym.diff(N_4,x,2)*sym.diff(N_4,x,2),[x,0,L])\n",
    "\n",
    "display(K_e/(E*I/L))"
   ]
  },
  {
   "cell_type": "markdown",
   "metadata": {},
   "source": [
    "# Vetor Local de Forças Nodais"
   ]
  },
  {
   "cell_type": "code",
   "execution_count": 6,
   "metadata": {},
   "outputs": [
    {
     "data": {
      "text/latex": [
       "\\begin{equation*}\\left[\\begin{matrix}\\frac{L P}{2} + V_{1}\\\\\\frac{L^{2} P}{12} - M_{1}\\\\\\frac{L P}{2} - V_{2}\\\\- \\frac{L^{2} P}{12} + M_{2}\\end{matrix}\\right]\\end{equation*}"
      ],
      "text/plain": [
       "⎡ L⋅P       ⎤\n",
       "⎢ ─── + V₁  ⎥\n",
       "⎢  2        ⎥\n",
       "⎢           ⎥\n",
       "⎢  2        ⎥\n",
       "⎢ L ⋅P      ⎥\n",
       "⎢ ──── - M₁ ⎥\n",
       "⎢  12       ⎥\n",
       "⎢           ⎥\n",
       "⎢ L⋅P       ⎥\n",
       "⎢ ─── - V₂  ⎥\n",
       "⎢  2        ⎥\n",
       "⎢           ⎥\n",
       "⎢   2       ⎥\n",
       "⎢  L ⋅P     ⎥\n",
       "⎢- ──── + M₂⎥\n",
       "⎣   12      ⎦"
      ]
     },
     "metadata": {},
     "output_type": "display_data"
    }
   ],
   "source": [
    "V_1,M_1,V_2,M_2 = sym.symbols('V_1,M_1,V_2,M_2')\n",
    "f_e = sym.Matrix([V_1,-M_1,-V_2,M_2])\n",
    "\n",
    "f_e[0] += P*L/2\n",
    "f_e[1] += P*L**2/12\n",
    "f_e[2] += P*L/2\n",
    "f_e[3] += -P*L**2/12\n",
    "\n",
    "display(f_e)"
   ]
  },
  {
   "cell_type": "markdown",
   "metadata": {},
   "source": [
    "# Exemplo Analítico"
   ]
  },
  {
   "cell_type": "markdown",
   "metadata": {},
   "source": [
    "A partir da definição da Matriz de Rigidez e do Vetor de Cargas Nodais dentro de um único Elemento $e$, podemos expandir para uma viga (ou diversas vigas) em uma estrutura dividida em $n$ Elementos.\n",
    "\n",
    "Vamos utilizar, como exemplo, uma viga biapoiada de $2~m$ de comprimento, sendo o apoio no início do vão, de segundo gênero, e o do final do vão, de primeiro gênero. A viga está sujeita a uma carga uniformemente distribuída $P = 10~kN/m$ e tem o produto constante $EI = 10^{2}kNm^{2}$. O problema consiste em calcular o deslocamento e o momento no centro do vão, bem como as reações e as rotações nos apoios.\n",
    "\n",
    "A solução analítica do problema é:\n",
    "\n",
    "$$u =$$"
   ]
  },
  {
   "cell_type": "code",
   "execution_count": 7,
   "metadata": {},
   "outputs": [
    {
     "data": {
      "text/latex": [
       "\\begin{equation*}\\frac{0.0130208333333333 L^{4} P}{E I}\\end{equation*}"
      ],
      "text/plain": [
       "                    4  \n",
       "0.0130208333333333⋅L ⋅P\n",
       "───────────────────────\n",
       "          E⋅I          "
      ]
     },
     "metadata": {},
     "output_type": "display_data"
    },
    {
     "data": {
      "text/latex": [
       "\\begin{equation*}0.0208333333333333\\end{equation*}"
      ],
      "text/plain": [
       "0.0208333333333333"
      ]
     },
     "metadata": {},
     "output_type": "display_data"
    }
   ],
   "source": [
    "u = (5/384)*(P*L**4)/(E*I)\n",
    "display(u)\n",
    "display(u.subs(P,10).subs(L,2).subs(E*I,10**2))"
   ]
  },
  {
   "cell_type": "markdown",
   "metadata": {},
   "source": [
    "$$M =$$"
   ]
  },
  {
   "cell_type": "code",
   "execution_count": 8,
   "metadata": {},
   "outputs": [
    {
     "data": {
      "text/latex": [
       "\\begin{equation*}\\frac{L^{2} P}{8}\\end{equation*}"
      ],
      "text/plain": [
       " 2  \n",
       "L ⋅P\n",
       "────\n",
       " 8  "
      ]
     },
     "metadata": {},
     "output_type": "display_data"
    },
    {
     "data": {
      "text/latex": [
       "\\begin{equation*}5\\end{equation*}"
      ],
      "text/plain": [
       "5"
      ]
     },
     "metadata": {},
     "output_type": "display_data"
    }
   ],
   "source": [
    "M = (P*L**2)/8\n",
    "display(M)\n",
    "display(M.subs(P,10).subs(L,2))"
   ]
  },
  {
   "cell_type": "markdown",
   "metadata": {},
   "source": [
    "$$\\theta_{A} = -\\theta_{B} =$$"
   ]
  },
  {
   "cell_type": "code",
   "execution_count": 9,
   "metadata": {},
   "outputs": [
    {
     "data": {
      "text/latex": [
       "\\begin{equation*}\\frac{L^{3} P}{24 E I}\\end{equation*}"
      ],
      "text/plain": [
       "  3   \n",
       " L ⋅P \n",
       "──────\n",
       "24⋅E⋅I"
      ]
     },
     "metadata": {},
     "output_type": "display_data"
    },
    {
     "data": {
      "text/latex": [
       "\\begin{equation*}\\frac{1}{30}\\end{equation*}"
      ],
      "text/plain": [
       "1/30"
      ]
     },
     "metadata": {},
     "output_type": "display_data"
    }
   ],
   "source": [
    "theta_A = (P*L**3)/(24*E*I)\n",
    "display(theta_A)\n",
    "display(theta_A.subs(P,10).subs(L,2).subs(E*I,10**2))"
   ]
  },
  {
   "cell_type": "markdown",
   "metadata": {},
   "source": [
    "$$V_{A} = V_{B} =$$"
   ]
  },
  {
   "cell_type": "code",
   "execution_count": 10,
   "metadata": {},
   "outputs": [
    {
     "data": {
      "text/latex": [
       "\\begin{equation*}\\frac{L P}{2}\\end{equation*}"
      ],
      "text/plain": [
       "L⋅P\n",
       "───\n",
       " 2 "
      ]
     },
     "metadata": {},
     "output_type": "display_data"
    },
    {
     "data": {
      "text/latex": [
       "\\begin{equation*}10\\end{equation*}"
      ],
      "text/plain": [
       "10"
      ]
     },
     "metadata": {},
     "output_type": "display_data"
    }
   ],
   "source": [
    "V_A = P*L/2\n",
    "display(V_A)\n",
    "display(V_A.subs(P,10).subs(L,2))"
   ]
  },
  {
   "cell_type": "markdown",
   "metadata": {},
   "source": [
    "Considerando dois Elementos na solução, temos então:"
   ]
  },
  {
   "cell_type": "markdown",
   "metadata": {},
   "source": [
    "## Elemento 1\n",
    "\n",
    "### Variáveis de Deformação\n",
    "\n",
    "* $u_{1}^{1}\\rightarrow$ deflexão $\\delta$ no primeiro apoio;\n",
    "\n",
    "* $u_{2}^{1}\\rightarrow$ rotação $\\theta$ no primeiro apoio;\n",
    "\n",
    "* $u_{3}^{1}\\rightarrow$ deflexão $\\delta$ no centro do vão;\n",
    "\n",
    "* $u_{4}^{1}\\rightarrow$ rotação $\\theta$ no centro do vão.\n",
    "\n",
    "### Variáveis de Carregamento\n",
    "\n",
    "* $M_{1}^{1}\\rightarrow$ Momento Fletor no primeiro apoio;\n",
    "\n",
    "* $V_{1}^{1}\\rightarrow$ Força Cortante no primeiro apoio;\n",
    "\n",
    "* $M_{2}^{1}\\rightarrow$ Momento Fletor no centro do vão;\n",
    "\n",
    "* $V_{2}^{1}\\rightarrow$ Força Cortante no centro do vão."
   ]
  },
  {
   "cell_type": "markdown",
   "metadata": {},
   "source": [
    "## Elemento 2\n",
    "\n",
    "### Variáveis de Deformação\n",
    "\n",
    "* $u_{1}^{2}\\rightarrow$ deflexão $\\delta$ no centro do vão;\n",
    "\n",
    "* $u_{2}^{2}\\rightarrow$ rotação $\\theta$ no centro do vão;\n",
    "\n",
    "* $u_{3}^{2}\\rightarrow$ deflexão $\\delta$ no segundo apoio;\n",
    "\n",
    "* $u_{4}^{2}\\rightarrow$ rotação $\\theta$ no segundo apoio.\n",
    "\n",
    "### Variáveis de Carregamento\n",
    "\n",
    "* $M_{1}^{2}\\rightarrow$ Momento Fletor no centro do vão;\n",
    "\n",
    "* $V_{1}^{2}\\rightarrow$ Força Cortante no centro do vão;\n",
    "\n",
    "* $M_{2}^{2}\\rightarrow$ Momento Fletor no segundo apoio;\n",
    "\n",
    "* $V_{2}^{2}\\rightarrow$ Força Cortante no csegundo apoio."
   ]
  },
  {
   "cell_type": "markdown",
   "metadata": {},
   "source": [
    "### Nó Central\n",
    "\n",
    " No nó central há a conexão entre o segundo nó do primeiro Elemento e o primeiro nó do segundo Elemento. Portanto, seus valores coincidem. Assim,\n",
    "\n",
    "\\begin{equation*}\n",
    "    M_{2}^{1} = M_{1}^{2}\n",
    "\\end{equation*}\n",
    "\n",
    "E\n",
    "\n",
    "\\begin{equation*}\n",
    "    V_{1}^{2} = V_{2}^{1}\n",
    "\\end{equation*}"
   ]
  },
  {
   "cell_type": "markdown",
   "metadata": {},
   "source": [
    "## Cálculo das Matrizes de Rigidez Locais"
   ]
  },
  {
   "cell_type": "markdown",
   "metadata": {},
   "source": [
    "$$\\mathbf{K}_{e} = \\frac{EI}{L}\\times$$"
   ]
  },
  {
   "cell_type": "code",
   "execution_count": 11,
   "metadata": {},
   "outputs": [
    {
     "data": {
      "text/latex": [
       "\\begin{equation*}\\left[\\begin{matrix}\\frac{12}{L^{2}} & \\frac{6}{L} & - \\frac{12}{L^{2}} & \\frac{6}{L}\\\\\\frac{6}{L} & 4 & - \\frac{6}{L} & 2\\\\- \\frac{12}{L^{2}} & - \\frac{6}{L} & \\frac{12}{L^{2}} & - \\frac{6}{L}\\\\\\frac{6}{L} & 2 & - \\frac{6}{L} & 4\\end{matrix}\\right]\\end{equation*}"
      ],
      "text/plain": [
       "⎡ 12    6   -12    6 ⎤\n",
       "⎢ ──    ─   ────   ─ ⎥\n",
       "⎢  2    L     2    L ⎥\n",
       "⎢ L          L       ⎥\n",
       "⎢                    ⎥\n",
       "⎢ 6         -6       ⎥\n",
       "⎢ ─     4   ───    2 ⎥\n",
       "⎢ L          L       ⎥\n",
       "⎢                    ⎥\n",
       "⎢-12   -6    12   -6 ⎥\n",
       "⎢────  ───   ──   ───⎥\n",
       "⎢  2    L     2    L ⎥\n",
       "⎢ L          L       ⎥\n",
       "⎢                    ⎥\n",
       "⎢ 6         -6       ⎥\n",
       "⎢ ─     2   ───    4 ⎥\n",
       "⎣ L          L       ⎦"
      ]
     },
     "metadata": {},
     "output_type": "display_data"
    }
   ],
   "source": [
    "display(K_e/(E*I/L))"
   ]
  },
  {
   "cell_type": "markdown",
   "metadata": {},
   "source": [
    "## Elemento 1"
   ]
  },
  {
   "cell_type": "markdown",
   "metadata": {},
   "source": [
    "$$K_{1} = 10^{2}\\times$$"
   ]
  },
  {
   "cell_type": "code",
   "execution_count": 12,
   "metadata": {},
   "outputs": [
    {
     "data": {
      "text/latex": [
       "\\begin{equation*}\\left[\\begin{matrix}12 & 6 & -12 & 6\\\\6 & 4 & -6 & 2\\\\-12 & -6 & 12 & -6\\\\6 & 2 & -6 & 4\\end{matrix}\\right]\\end{equation*}"
      ],
      "text/plain": [
       "⎡12   6   -12  6 ⎤\n",
       "⎢                ⎥\n",
       "⎢ 6   4   -6   2 ⎥\n",
       "⎢                ⎥\n",
       "⎢-12  -6  12   -6⎥\n",
       "⎢                ⎥\n",
       "⎣ 6   2   -6   4 ⎦"
      ]
     },
     "metadata": {},
     "output_type": "display_data"
    }
   ],
   "source": [
    "K_1 = K_e.subs(E*I,10**2).subs(L,1)\n",
    "display(K_1/100)"
   ]
  },
  {
   "cell_type": "markdown",
   "metadata": {},
   "source": [
    "## Elemento 2"
   ]
  },
  {
   "cell_type": "markdown",
   "metadata": {},
   "source": [
    "$$K_{2} = 10^{2}\\times$$"
   ]
  },
  {
   "cell_type": "code",
   "execution_count": 13,
   "metadata": {},
   "outputs": [
    {
     "data": {
      "text/latex": [
       "\\begin{equation*}\\left[\\begin{matrix}12 & 6 & -12 & 6\\\\6 & 4 & -6 & 2\\\\-12 & -6 & 12 & -6\\\\6 & 2 & -6 & 4\\end{matrix}\\right]\\end{equation*}"
      ],
      "text/plain": [
       "⎡12   6   -12  6 ⎤\n",
       "⎢                ⎥\n",
       "⎢ 6   4   -6   2 ⎥\n",
       "⎢                ⎥\n",
       "⎢-12  -6  12   -6⎥\n",
       "⎢                ⎥\n",
       "⎣ 6   2   -6   4 ⎦"
      ]
     },
     "metadata": {},
     "output_type": "display_data"
    }
   ],
   "source": [
    "K_2 = K_e.subs(E*I,10**2).subs(L,1)\n",
    "display(K_1/100)"
   ]
  },
  {
   "cell_type": "markdown",
   "metadata": {},
   "source": [
    "## Cálculo do Vetor $\\vec{f}$"
   ]
  },
  {
   "cell_type": "code",
   "execution_count": 14,
   "metadata": {},
   "outputs": [
    {
     "data": {
      "text/latex": [
       "\\begin{equation*}\\left[\\begin{matrix}\\frac{L P}{2} + V_{1}\\\\\\frac{L^{2} P}{12} - M_{1}\\\\\\frac{L P}{2} - V_{2}\\\\- \\frac{L^{2} P}{12} + M_{2}\\end{matrix}\\right]\\end{equation*}"
      ],
      "text/plain": [
       "⎡ L⋅P       ⎤\n",
       "⎢ ─── + V₁  ⎥\n",
       "⎢  2        ⎥\n",
       "⎢           ⎥\n",
       "⎢  2        ⎥\n",
       "⎢ L ⋅P      ⎥\n",
       "⎢ ──── - M₁ ⎥\n",
       "⎢  12       ⎥\n",
       "⎢           ⎥\n",
       "⎢ L⋅P       ⎥\n",
       "⎢ ─── - V₂  ⎥\n",
       "⎢  2        ⎥\n",
       "⎢           ⎥\n",
       "⎢   2       ⎥\n",
       "⎢  L ⋅P     ⎥\n",
       "⎢- ──── + M₂⎥\n",
       "⎣   12      ⎦"
      ]
     },
     "metadata": {},
     "output_type": "display_data"
    }
   ],
   "source": [
    "display(f_e)"
   ]
  },
  {
   "cell_type": "markdown",
   "metadata": {},
   "source": [
    "### Elemento 1"
   ]
  },
  {
   "cell_type": "code",
   "execution_count": 15,
   "metadata": {},
   "outputs": [
    {
     "data": {
      "text/latex": [
       "\\begin{equation*}\\left[\\begin{matrix}V_{1 1} + 5\\\\\\frac{5}{6} - M_{1 1}\\\\5 - V_{2 1}\\\\M_{2 1} - \\frac{5}{6}\\end{matrix}\\right]\\end{equation*}"
      ],
      "text/plain": [
       "⎡ V₁ ₁ + 5 ⎤\n",
       "⎢          ⎥\n",
       "⎢5/6 - M₁ ₁⎥\n",
       "⎢          ⎥\n",
       "⎢ 5 - V₂ ₁ ⎥\n",
       "⎢          ⎥\n",
       "⎣M₂ ₁ - 5/6⎦"
      ]
     },
     "metadata": {},
     "output_type": "display_data"
    }
   ],
   "source": [
    "V_1_1,M_1_1,V_2_1,M_2_1 = sym.symbols('V_1_1,M_1_1,V_2_1,M_2_1')\n",
    "f_1 = f_e.subs(L,1).subs(P,10).subs(V_1,V_1_1).subs(V_2,V_2_1).subs(M_1,M_1_1).subs(M_2,M_2_1)\n",
    "display(f_1)"
   ]
  },
  {
   "cell_type": "markdown",
   "metadata": {},
   "source": [
    "### Elemento 2"
   ]
  },
  {
   "cell_type": "code",
   "execution_count": 16,
   "metadata": {},
   "outputs": [
    {
     "data": {
      "text/latex": [
       "\\begin{equation*}\\left[\\begin{matrix}V_{1 2} + 5\\\\\\frac{5}{6} - M_{1 2}\\\\5 - V_{2 2}\\\\M_{2 2} - \\frac{5}{6}\\end{matrix}\\right]\\end{equation*}"
      ],
      "text/plain": [
       "⎡ V₁ ₂ + 5 ⎤\n",
       "⎢          ⎥\n",
       "⎢5/6 - M₁ ₂⎥\n",
       "⎢          ⎥\n",
       "⎢ 5 - V₂ ₂ ⎥\n",
       "⎢          ⎥\n",
       "⎣M₂ ₂ - 5/6⎦"
      ]
     },
     "metadata": {},
     "output_type": "display_data"
    }
   ],
   "source": [
    "V_1_2,M_1_2,V_2_2,M_2_2 = sym.symbols('V_1_2,M_1_2,V_2_2,M_2_2')\n",
    "f_2 = f_e.subs(L,1).subs(P,10).subs(V_1,V_1_2).subs(V_2,V_2_2).subs(M_1,M_1_2).subs(M_2,M_2_2)\n",
    "display(f_2)"
   ]
  },
  {
   "cell_type": "markdown",
   "metadata": {},
   "source": [
    "### Vetor de Forças Global"
   ]
  },
  {
   "cell_type": "code",
   "execution_count": 17,
   "metadata": {},
   "outputs": [
    {
     "data": {
      "text/latex": [
       "\\begin{equation*}\\left[\\begin{matrix}V_{1 1} + 5\\\\\\frac{5}{6} - M_{1 1}\\\\V_{1 2} - V_{2 1} + 10\\\\- M_{1 2} + M_{2 1}\\\\5 - V_{2 2}\\\\M_{2 2} - \\frac{5}{6}\\end{matrix}\\right]\\end{equation*}"
      ],
      "text/plain": [
       "⎡    V₁ ₁ + 5    ⎤\n",
       "⎢                ⎥\n",
       "⎢   5/6 - M₁ ₁   ⎥\n",
       "⎢                ⎥\n",
       "⎢V₁ ₂ - V₂ ₁ + 10⎥\n",
       "⎢                ⎥\n",
       "⎢  -M₁ ₂ + M₂ ₁  ⎥\n",
       "⎢                ⎥\n",
       "⎢    5 - V₂ ₂    ⎥\n",
       "⎢                ⎥\n",
       "⎣   M₂ ₂ - 5/6   ⎦"
      ]
     },
     "metadata": {},
     "output_type": "display_data"
    }
   ],
   "source": [
    "f = sym.zeros(6,1)\n",
    "f[0:4,0] += f_1[0:4,0]\n",
    "f[2:6,0] += f_2[0:4,0]\n",
    "display(f)"
   ]
  },
  {
   "cell_type": "markdown",
   "metadata": {},
   "source": [
    "Entretanto, lambramos que no nó central, temos:\n",
    "\n",
    "\\begin{equation*}\n",
    "    \\left[\\begin{matrix}\n",
    "        -V_{2}^{1} & + & V_{1}^{2} & = & 0 \\\\\n",
    "        M_{2}^{1} & - & M_{1}^{2} & = & 0\n",
    "    \\end{matrix}\\right.\n",
    "\\end{equation*}\n",
    "\n",
    "Portanto, $\\vec{f}$ torna-se:"
   ]
  },
  {
   "cell_type": "code",
   "execution_count": 18,
   "metadata": {},
   "outputs": [
    {
     "data": {
      "text/latex": [
       "\\begin{equation*}\\left[\\begin{matrix}V_{1 1} + 5\\\\\\frac{5}{6} - M_{1 1}\\\\10\\\\0\\\\5 - V_{2 2}\\\\M_{2 2} - \\frac{5}{6}\\end{matrix}\\right]\\end{equation*}"
      ],
      "text/plain": [
       "⎡ V₁ ₁ + 5 ⎤\n",
       "⎢          ⎥\n",
       "⎢5/6 - M₁ ₁⎥\n",
       "⎢          ⎥\n",
       "⎢    10    ⎥\n",
       "⎢          ⎥\n",
       "⎢    0     ⎥\n",
       "⎢          ⎥\n",
       "⎢ 5 - V₂ ₂ ⎥\n",
       "⎢          ⎥\n",
       "⎣M₂ ₂ - 5/6⎦"
      ]
     },
     "metadata": {},
     "output_type": "display_data"
    }
   ],
   "source": [
    "f_G = f.subs(-V_2_1+V_1_2,0).subs(M_2_1-M_1_2,0)\n",
    "display(f_G)"
   ]
  },
  {
   "cell_type": "markdown",
   "metadata": {},
   "source": [
    "## Matriz de Rigidez Global"
   ]
  },
  {
   "cell_type": "markdown",
   "metadata": {},
   "source": [
    "A Matriz de Rigidez Global fica:\n",
    "\n",
    "$$K_G = 10^{2}\\times$$"
   ]
  },
  {
   "cell_type": "code",
   "execution_count": 19,
   "metadata": {},
   "outputs": [
    {
     "data": {
      "text/latex": [
       "\\begin{equation*}\\left[\\begin{matrix}12 & 6 & -12 & 6 & 0 & 0\\\\6 & 4 & -6 & 2 & 0 & 0\\\\-12 & -6 & 24 & 0 & -12 & 6\\\\6 & 2 & 0 & 8 & -6 & 2\\\\0 & 0 & -12 & -6 & 12 & -6\\\\0 & 0 & 6 & 2 & -6 & 4\\end{matrix}\\right]\\end{equation*}"
      ],
      "text/plain": [
       "⎡12   6   -12  6    0   0 ⎤\n",
       "⎢                         ⎥\n",
       "⎢ 6   4   -6   2    0   0 ⎥\n",
       "⎢                         ⎥\n",
       "⎢-12  -6  24   0   -12  6 ⎥\n",
       "⎢                         ⎥\n",
       "⎢ 6   2    0   8   -6   2 ⎥\n",
       "⎢                         ⎥\n",
       "⎢ 0   0   -12  -6  12   -6⎥\n",
       "⎢                         ⎥\n",
       "⎣ 0   0    6   2   -6   4 ⎦"
      ]
     },
     "metadata": {},
     "output_type": "display_data"
    }
   ],
   "source": [
    "K_G = sym.zeros(6,6)\n",
    "K_G[0:4,0:4] += K_1\n",
    "K_G[2:6,2:6] += K_2\n",
    "display(K_G/100)"
   ]
  },
  {
   "cell_type": "markdown",
   "metadata": {},
   "source": [
    "## Vetor de Deslocamentos\n",
    "\n",
    "Considerando as condições de contorno, temos:\n",
    "\n",
    "\\begin{equation*}\n",
    "    \\left\\{\\begin{matrix}\n",
    "        u_{1}^{1} = u_1 & = & 0 \\\\\n",
    "        u_{1}^{2} = u_5 & = & 0 \\\\\n",
    "        M_{1}^{1} & = & 0 \\\\\n",
    "        M_{2}^{2} & = & 0 \\\\\n",
    "    \\end{matrix}\\right.\n",
    "\\end{equation*}\n",
    "\n",
    "Portanto,"
   ]
  },
  {
   "cell_type": "code",
   "execution_count": 20,
   "metadata": {},
   "outputs": [
    {
     "data": {
      "text/latex": [
       "\\begin{equation*}\\left[\\begin{matrix}0\\\\u_{2}\\\\u_{3}\\\\u_{4}\\\\0\\\\u_{6}\\end{matrix}\\right]\\end{equation*}"
      ],
      "text/plain": [
       "⎡0 ⎤\n",
       "⎢  ⎥\n",
       "⎢u₂⎥\n",
       "⎢  ⎥\n",
       "⎢u₃⎥\n",
       "⎢  ⎥\n",
       "⎢u₄⎥\n",
       "⎢  ⎥\n",
       "⎢0 ⎥\n",
       "⎢  ⎥\n",
       "⎣u₆⎦"
      ]
     },
     "metadata": {},
     "output_type": "display_data"
    },
    {
     "data": {
      "text/latex": [
       "\\begin{equation*}\\left[\\begin{matrix}V_{1 1} + 5\\\\\\frac{5}{6}\\\\10\\\\0\\\\5 - V_{2 2}\\\\- \\frac{5}{6}\\end{matrix}\\right]\\end{equation*}"
      ],
      "text/plain": [
       "⎡V₁ ₁ + 5⎤\n",
       "⎢        ⎥\n",
       "⎢  5/6   ⎥\n",
       "⎢        ⎥\n",
       "⎢   10   ⎥\n",
       "⎢        ⎥\n",
       "⎢   0    ⎥\n",
       "⎢        ⎥\n",
       "⎢5 - V₂ ₂⎥\n",
       "⎢        ⎥\n",
       "⎣  -5/6  ⎦"
      ]
     },
     "metadata": {},
     "output_type": "display_data"
    }
   ],
   "source": [
    "u_1,u_2,u_3,u_4,u_5,u_6 = sym.symbols('u_1,u_2,u_3,u_4,u_5,u_6')\n",
    "u = sym.Matrix([u_1,u_2,u_3,u_4,u_5,u_6]).subs(u_1,0).subs(u_5,0)\n",
    "f_G = f_G.subs(M_1_1,0).subs(M_2_2,0)\n",
    "display(u)\n",
    "display(f_G)"
   ]
  },
  {
   "cell_type": "markdown",
   "metadata": {},
   "source": [
    "Assim, o sistema $\\mathbf{K}\\cdot\\vec{u}=\\vec{f}$ torna-se:"
   ]
  },
  {
   "cell_type": "code",
   "execution_count": 21,
   "metadata": {},
   "outputs": [
    {
     "data": {
      "text/latex": [
       "\\begin{equation*}\\left[\\begin{matrix}600 u_{2} - 1200 u_{3} + 600 u_{4}\\\\400 u_{2} - 600 u_{3} + 200 u_{4}\\\\- 600 u_{2} + 2400 u_{3} + 600 u_{6}\\\\200 u_{2} + 800 u_{4} + 200 u_{6}\\\\- 1200 u_{3} - 600 u_{4} - 600 u_{6}\\\\600 u_{3} + 200 u_{4} + 400 u_{6}\\end{matrix}\\right] = \\left[\\begin{matrix}V_{1 1} + 5\\\\\\frac{5}{6}\\\\10\\\\0\\\\5 - V_{2 2}\\\\- \\frac{5}{6}\\end{matrix}\\right]\\end{equation*}"
      ],
      "text/plain": [
       "⎡600⋅u₂ - 1200⋅u₃ + 600⋅u₄ ⎤   ⎡V₁ ₁ + 5⎤\n",
       "⎢                          ⎥   ⎢        ⎥\n",
       "⎢ 400⋅u₂ - 600⋅u₃ + 200⋅u₄ ⎥   ⎢  5/6   ⎥\n",
       "⎢                          ⎥   ⎢        ⎥\n",
       "⎢-600⋅u₂ + 2400⋅u₃ + 600⋅u₆⎥   ⎢   10   ⎥\n",
       "⎢                          ⎥ = ⎢        ⎥\n",
       "⎢ 200⋅u₂ + 800⋅u₄ + 200⋅u₆ ⎥   ⎢   0    ⎥\n",
       "⎢                          ⎥   ⎢        ⎥\n",
       "⎢-1200⋅u₃ - 600⋅u₄ - 600⋅u₆⎥   ⎢5 - V₂ ₂⎥\n",
       "⎢                          ⎥   ⎢        ⎥\n",
       "⎣ 600⋅u₃ + 200⋅u₄ + 400⋅u₆ ⎦   ⎣  -5/6  ⎦"
      ]
     },
     "metadata": {},
     "output_type": "display_data"
    }
   ],
   "source": [
    "eq = sym.Eq(K_G * u, f_G)\n",
    "display(eq)"
   ]
  },
  {
   "cell_type": "markdown",
   "metadata": {},
   "source": [
    "A partir deste sistema, considerando as condições de contorno, podemos obter o seguinte sistema reduzido:"
   ]
  },
  {
   "cell_type": "code",
   "execution_count": 22,
   "metadata": {},
   "outputs": [
    {
     "data": {
      "text/latex": [
       "\\begin{equation*}\\left[\\begin{matrix}400 & -600 & 200 & 0\\\\-600 & 2400 & 0 & 600\\\\200 & 0 & 800 & 200\\\\0 & 600 & 200 & 400\\end{matrix}\\right]\\end{equation*}"
      ],
      "text/plain": [
       "⎡400   -600  200   0 ⎤\n",
       "⎢                    ⎥\n",
       "⎢-600  2400   0   600⎥\n",
       "⎢                    ⎥\n",
       "⎢200    0    800  200⎥\n",
       "⎢                    ⎥\n",
       "⎣ 0    600   200  400⎦"
      ]
     },
     "metadata": {},
     "output_type": "display_data"
    },
    {
     "data": {
      "text/latex": [
       "\\begin{equation*}\\left[\\begin{matrix}\\frac{5}{6}\\\\10\\\\0\\\\- \\frac{5}{6}\\end{matrix}\\right]\\end{equation*}"
      ],
      "text/plain": [
       "⎡5/6 ⎤\n",
       "⎢    ⎥\n",
       "⎢ 10 ⎥\n",
       "⎢    ⎥\n",
       "⎢ 0  ⎥\n",
       "⎢    ⎥\n",
       "⎣-5/6⎦"
      ]
     },
     "metadata": {},
     "output_type": "display_data"
    }
   ],
   "source": [
    "f_R = f_G.copy()\n",
    "f_R -= u[0,0]*K_G[:,0]\n",
    "f_R -= u[4,0]*K_G[:,4]\n",
    "\n",
    "K_R = K_G.copy()\n",
    "K_R.row_del(4)\n",
    "K_R.col_del(4)\n",
    "K_R.row_del(0)\n",
    "K_R.col_del(0)\n",
    "f_R.row_del(4)\n",
    "f_R.row_del(0)\n",
    "\n",
    "display(K_R)\n",
    "display(f_R)"
   ]
  },
  {
   "cell_type": "markdown",
   "metadata": {},
   "source": [
    "A solução deste sistema fornece:\n",
    "\n",
    "$$u' = 10^{-2}\\times$$"
   ]
  },
  {
   "cell_type": "code",
   "execution_count": 23,
   "metadata": {},
   "outputs": [
    {
     "data": {
      "text/latex": [
       "\\begin{equation*}\\left[\\begin{matrix}\\frac{10}{3}\\\\\\frac{25}{12}\\\\0\\\\- \\frac{10}{3}\\end{matrix}\\right]\\end{equation*}"
      ],
      "text/plain": [
       "⎡10/3 ⎤\n",
       "⎢     ⎥\n",
       "⎢ 25  ⎥\n",
       "⎢ ──  ⎥\n",
       "⎢ 12  ⎥\n",
       "⎢     ⎥\n",
       "⎢  0  ⎥\n",
       "⎢     ⎥\n",
       "⎣-10/3⎦"
      ]
     },
     "metadata": {},
     "output_type": "display_data"
    }
   ],
   "source": [
    "u_R = K_R.solve(f_R)\n",
    "display(u_R*100)"
   ]
  },
  {
   "cell_type": "markdown",
   "metadata": {},
   "source": [
    "Temos, portanto,\n",
    "\n",
    "\\begin{equation*}\n",
    "    \\left\\{\\begin{matrix}\n",
    "        u_{2}^{1} = u_{2} & = & \\frac{10}{3}\\times10^{-2} rad \\\\\n",
    "        u_{3}^{1} = u_{1}^{2} = u_{3} & = & \\frac{25}{12}\\times10^{-2} m \\\\\n",
    "        u_{4}^{1} = u_{2}^{2} = u_{4} & = & 0 \\\\\n",
    "        u_{4}^{2} = u_{6} & = & -\\frac{10}{3}\\times10^{-2} rad \\\\\n",
    "    \\end{matrix}\\right.\n",
    "\\end{equation*}"
   ]
  },
  {
   "cell_type": "markdown",
   "metadata": {},
   "source": [
    "Temos, agora, o seguinte vetor de deslocamentos:\n",
    "\n",
    "$$u = 10^{-2}$$"
   ]
  },
  {
   "cell_type": "code",
   "execution_count": 24,
   "metadata": {},
   "outputs": [
    {
     "data": {
      "text/latex": [
       "\\begin{equation*}\\left[\\begin{matrix}0\\\\3.33333333333333\\\\2.08333333333333\\\\0\\\\0\\\\-3.33333333333333\\end{matrix}\\right]\\end{equation*}"
      ],
      "text/plain": [
       "⎡        0        ⎤\n",
       "⎢                 ⎥\n",
       "⎢3.33333333333333 ⎥\n",
       "⎢                 ⎥\n",
       "⎢2.08333333333333 ⎥\n",
       "⎢                 ⎥\n",
       "⎢        0        ⎥\n",
       "⎢                 ⎥\n",
       "⎢        0        ⎥\n",
       "⎢                 ⎥\n",
       "⎣-3.33333333333333⎦"
      ]
     },
     "metadata": {},
     "output_type": "display_data"
    }
   ],
   "source": [
    "u = u.subs(u_2,1/30).subs(u_3,25/1200).subs(u_4,0).subs(u_6,-1/30)\n",
    "display(100*u)"
   ]
  },
  {
   "cell_type": "markdown",
   "metadata": {},
   "source": [
    "Agora podemos calcular as forças nodais.\n",
    "\n",
    "$$\\vec{f} = $$"
   ]
  },
  {
   "cell_type": "code",
   "execution_count": 25,
   "metadata": {
    "tags": []
   },
   "outputs": [
    {
     "data": {
      "text/latex": [
       "\\begin{equation*}\\left[\\begin{matrix}-5.0\\\\0.833333333333334\\\\10.0\\\\0\\\\-5.0\\\\-0.833333333333334\\end{matrix}\\right]\\end{equation*}"
      ],
      "text/plain": [
       "⎡       -5.0       ⎤\n",
       "⎢                  ⎥\n",
       "⎢0.833333333333334 ⎥\n",
       "⎢                  ⎥\n",
       "⎢       10.0       ⎥\n",
       "⎢                  ⎥\n",
       "⎢        0         ⎥\n",
       "⎢                  ⎥\n",
       "⎢       -5.0       ⎥\n",
       "⎢                  ⎥\n",
       "⎣-0.833333333333334⎦"
      ]
     },
     "metadata": {},
     "output_type": "display_data"
    },
    {
     "data": {
      "text/latex": [
       "\\begin{equation*}\\left[\\begin{matrix}V_{1 1} + 5\\\\\\frac{5}{6}\\\\10\\\\0\\\\5 - V_{2 2}\\\\- \\frac{5}{6}\\end{matrix}\\right]\\end{equation*}"
      ],
      "text/plain": [
       "⎡V₁ ₁ + 5⎤\n",
       "⎢        ⎥\n",
       "⎢  5/6   ⎥\n",
       "⎢        ⎥\n",
       "⎢   10   ⎥\n",
       "⎢        ⎥\n",
       "⎢   0    ⎥\n",
       "⎢        ⎥\n",
       "⎢5 - V₂ ₂⎥\n",
       "⎢        ⎥\n",
       "⎣  -5/6  ⎦"
      ]
     },
     "metadata": {},
     "output_type": "display_data"
    }
   ],
   "source": [
    "f = K_G*u\n",
    "display(f,f_G)"
   ]
  },
  {
   "cell_type": "markdown",
   "metadata": {},
   "source": [
    "Temos, portanto,\n",
    "\n",
    "\\begin{equation*}\n",
    "    \\left\\{\\begin{matrix}\n",
    "        V_{1}^{1} + 5 & = & -5 \\\\\n",
    "        5 - V_{2}^{2} & = & -5\n",
    "    \\end{matrix}\\right.\n",
    "\\end{equation*}\n",
    "\n",
    "Logo,\n",
    "\n",
    "\\begin{equation*}\n",
    "    \\left\\{\\begin{matrix}\n",
    "        V_{1}^{1} & = & -10 \\\\\n",
    "        V_{2}^{2} & = & 10 \\\\\n",
    "    \\end{matrix}\\right.\n",
    "\\end{equation*}"
   ]
  },
  {
   "cell_type": "markdown",
   "metadata": {},
   "source": [
    "Temos, portanto, os seguintes valores de $\\vec{u}_{e}^{1}$ no Elemento 1:\n",
    "\n",
    "$$u_e^{1} =$$"
   ]
  },
  {
   "cell_type": "code",
   "execution_count": 26,
   "metadata": {},
   "outputs": [
    {
     "data": {
      "text/latex": [
       "\\begin{equation*}\\left[\\begin{matrix}0\\\\0.0333333333333333\\\\0.0208333333333333\\\\0\\end{matrix}\\right]\\end{equation*}"
      ],
      "text/plain": [
       "⎡        0         ⎤\n",
       "⎢                  ⎥\n",
       "⎢0.0333333333333333⎥\n",
       "⎢                  ⎥\n",
       "⎢0.0208333333333333⎥\n",
       "⎢                  ⎥\n",
       "⎣        0         ⎦"
      ]
     },
     "metadata": {},
     "output_type": "display_data"
    }
   ],
   "source": [
    "u_e_1 = u[0:4,0]\n",
    "display(u_e_1)"
   ]
  },
  {
   "cell_type": "markdown",
   "metadata": {},
   "source": [
    "Da mesma forma, temos como calcular o vetor de Forças Nodais $\\vec{f}_{e}^{1}$.\n",
    "\n",
    "$$\\vec{f}_{e}^{1} =$$"
   ]
  },
  {
   "cell_type": "code",
   "execution_count": 27,
   "metadata": {},
   "outputs": [
    {
     "data": {
      "text/latex": [
       "\\begin{equation*}\\left[\\begin{matrix}-5.0\\\\0.833333333333334\\\\5.0\\\\-5.83333333333333\\end{matrix}\\right]\\end{equation*}"
      ],
      "text/plain": [
       "⎡      -5.0       ⎤\n",
       "⎢                 ⎥\n",
       "⎢0.833333333333334⎥\n",
       "⎢                 ⎥\n",
       "⎢       5.0       ⎥\n",
       "⎢                 ⎥\n",
       "⎣-5.83333333333333⎦"
      ]
     },
     "metadata": {},
     "output_type": "display_data"
    },
    {
     "data": {
      "text/latex": [
       "\\begin{equation*}\\left[\\begin{matrix}V_{1} + 5\\\\\\frac{5}{6} - M_{1}\\\\5 - V_{2}\\\\M_{2} - \\frac{5}{6}\\end{matrix}\\right]\\end{equation*}"
      ],
      "text/plain": [
       "⎡ V₁ + 5 ⎤\n",
       "⎢        ⎥\n",
       "⎢5/6 - M₁⎥\n",
       "⎢        ⎥\n",
       "⎢ 5 - V₂ ⎥\n",
       "⎢        ⎥\n",
       "⎣M₂ - 5/6⎦"
      ]
     },
     "metadata": {},
     "output_type": "display_data"
    }
   ],
   "source": [
    "f_e_1 = K_1*u_e_1\n",
    "display(f_e_1,f_e.subs(L,1).subs(P,10))"
   ]
  },
  {
   "cell_type": "markdown",
   "metadata": {},
   "source": [
    "De onde resulta:\n",
    "\n",
    "\\begin{equation*}\n",
    "    \\left\\{\\begin{matrix}\n",
    "        V_{1}^{1} & = & -10~kN \\\\\n",
    "        M_{1}^{1} & = & 0 \\\\\n",
    "        V_{2}^{1} & = & 0 \\\\\n",
    "        M_{2}^{1} & = & -5~kN\\cdot m\n",
    "    \\end{matrix}\\right.\n",
    "\\end{equation*}"
   ]
  },
  {
   "cell_type": "markdown",
   "metadata": {},
   "source": [
    "Seguindo o mesmo raciocínio, podemos calcular o vetor de Forças Nodais do Elemento 2, $\\vec{f}_{e}^{2}$.\n",
    "\n",
    "$$\\vec{f}_{e}^{2} =$$"
   ]
  },
  {
   "cell_type": "code",
   "execution_count": 28,
   "metadata": {},
   "outputs": [
    {
     "data": {
      "text/latex": [
       "\\begin{equation*}\\left[\\begin{matrix}5.0\\\\5.83333333333333\\\\-5.0\\\\-0.833333333333334\\end{matrix}\\right]\\end{equation*}"
      ],
      "text/plain": [
       "⎡       5.0        ⎤\n",
       "⎢                  ⎥\n",
       "⎢ 5.83333333333333 ⎥\n",
       "⎢                  ⎥\n",
       "⎢       -5.0       ⎥\n",
       "⎢                  ⎥\n",
       "⎣-0.833333333333334⎦"
      ]
     },
     "metadata": {},
     "output_type": "display_data"
    },
    {
     "data": {
      "text/latex": [
       "\\begin{equation*}\\left[\\begin{matrix}V_{1} + 5\\\\\\frac{5}{6} - M_{1}\\\\5 - V_{2}\\\\M_{2} - \\frac{5}{6}\\end{matrix}\\right]\\end{equation*}"
      ],
      "text/plain": [
       "⎡ V₁ + 5 ⎤\n",
       "⎢        ⎥\n",
       "⎢5/6 - M₁⎥\n",
       "⎢        ⎥\n",
       "⎢ 5 - V₂ ⎥\n",
       "⎢        ⎥\n",
       "⎣M₂ - 5/6⎦"
      ]
     },
     "metadata": {},
     "output_type": "display_data"
    }
   ],
   "source": [
    "u_e_2 = u[2:6,0]\n",
    "f_e_2 = K_2*u_e_2\n",
    "display(f_e_2,f_e.subs(L,1).subs(P,10))"
   ]
  },
  {
   "cell_type": "markdown",
   "metadata": {},
   "source": [
    "De onde resulta:\n",
    "\n",
    "\\begin{equation*}\n",
    "    \\left\\{\\begin{matrix}\n",
    "        V_{1}^{2} & = & 0 \\\\\n",
    "        M_{1}^{2} & = & -5~kN\\cdot m \\\\\n",
    "        V_{2}^{2} & = & 10~kN \\\\\n",
    "        M_{2}^{2} & = & 0\n",
    "    \\end{matrix}\\right.\n",
    "\\end{equation*}"
   ]
  },
  {
   "cell_type": "markdown",
   "metadata": {},
   "source": [
    "# Solução Por Código"
   ]
  },
  {
   "cell_type": "markdown",
   "metadata": {},
   "source": [
    "A seguir, vamos elaborar um código em Python para solucionar uma viga a partir de um arquivo de entrada no formato JSON cotendo as informações da estrutura.\n",
    "\n",
    "vamos começar definindo uma classe para conter os nós da estrutura."
   ]
  },
  {
   "cell_type": "code",
   "execution_count": 29,
   "metadata": {},
   "outputs": [],
   "source": [
    "# Class to store and update nodes and nodes data as locate, if have constrains and loads, as well calculated reactions and deslocs\n",
    "class node:\n",
    "    def __init__(self,i,P=np.array([0,0,0]),S=[False,False,False,False,False,False],L=np.array([0,0,0,0,0,0]),tag=''):\n",
    "            self.index = i                          # node index reference\n",
    "            self.locate = P                         # (x,y,z)\n",
    "            self.support = S                        # (Rx,Ry,Rz,Rmx,Rmy,Rmz) bool if exists\n",
    "            self.load = L                           # (Fx,Fy,Fz,Mx,My,Mz)\n",
    "            self.tag = tag                          # String name\n",
    "            self.reaction = np.array([0,0,0,0,0,0]) # (Rx,Ry,Rz,Rmx,Rmy,Rmz) to calculate\n",
    "            self.u = np.array([0,0,0,0,0,0])        # (dx,dy,dz,theta_x,theta_y,theta_z) to calculate\n",
    "    \n",
    "    def Reaction(self,R=np.array([0,0,0,0,0,0])):\n",
    "        self.reaction = R                           # Calculated values\n",
    "\n",
    "    def Desloc(self,L=np.array([0,0,0,0,0,0])):\n",
    "        self.load = L                               # Calculated values"
   ]
  },
  {
   "cell_type": "markdown",
   "metadata": {},
   "source": [
    "Da mesma forma, precisamos de uma classe para operar com as barras que conectam os nós, assim como as propriedades de carga e deformação.\n",
    "\n",
    "A classe abaixo lida com barras como elementos finitos locais. As barras reais serão criadas como um elemento único e subdivididas em elementos com nós intermediários."
   ]
  },
  {
   "cell_type": "code",
   "execution_count": 30,
   "metadata": {},
   "outputs": [],
   "source": [
    "# Class to store and calculate bars or elements\n",
    "class element:\n",
    "    def __init__(self,i,first,last,E,S,I,J,P=np.array([0,0,0]),tag='',n=10):\n",
    "        self.index = i      # Index\n",
    "        self.tag = tag      # Element name\n",
    "        self.start = first  # Start node\n",
    "        self.end = last     # End node\n",
    "        self.grid = []      # Fake nodes from grid\n",
    "        self.E = E          # Elastiicity constant\n",
    "        self.A = S          # Stretch\n",
    "        self.I = I          # Inertia constant\n",
    "        self.J = J          # Polar inertia constant\n",
    "        self.load = P       # Loads with a+bx+cx**2 constants in array (a,b,c)\n",
    "        self.set_grid(n)\n",
    "\n",
    "    def set_grid(self,n=10):\n",
    "        self.grid = []\n",
    "        ds = (self.end.locate - self.start.locate)/n\n",
    "        for i in range(1,n):\n",
    "            loc = self.start.locate+ds*i\n",
    "            self.grid.append(node(0,P=loc))\n",
    "\n",
    "    # To K matrix, we are considerating the variables below:\n",
    "    # * u_0 -> local dx_1\n",
    "    # * u_1 -> local dy_1\n",
    "    # * u_2 -> local dz_1\n",
    "    # * u_3 -> local theta_x_1 (yz)\n",
    "    # * u_4 -> local theta_y_1 (zx)\n",
    "    # * u_5 -> local theta_z_1 (xy)\n",
    "    # * u_6 -> local dx_2\n",
    "    # * u_7 -> local dy_2\n",
    "    # * u_8 -> local dz_2\n",
    "    # * u_9 -> local theta_x_2 (yz)\n",
    "    # * u_10 -> local theta_y_2 (zx)\n",
    "    # * u_11 -> local theta_z_2 (xy)\n",
    "    # two-dimensional plan just use u_0, u_1, u_3, u_6, u_7, u_11\n",
    "    def K(self):\n",
    "        K = np.array([\n",
    "            [0., 0., 0., 0., 0., 0., 0., 0., 0., 0., 0., 0.],\n",
    "            [0., 0., 0., 0., 0., 0., 0., 0., 0., 0., 0., 0.],\n",
    "            [0., 0., 0., 0., 0., 0., 0., 0., 0., 0., 0., 0.],\n",
    "            [0., 0., 0., 0., 0., 0., 0., 0., 0., 0., 0., 0.],\n",
    "            [0., 0., 0., 0., 0., 0., 0., 0., 0., 0., 0., 0.],\n",
    "            [0., 0., 0., 0., 0., 0., 0., 0., 0., 0., 0., 0.],\n",
    "            [0., 0., 0., 0., 0., 0., 0., 0., 0., 0., 0., 0.],\n",
    "            [0., 0., 0., 0., 0., 0., 0., 0., 0., 0., 0., 0.],\n",
    "            [0., 0., 0., 0., 0., 0., 0., 0., 0., 0., 0., 0.],\n",
    "            [0., 0., 0., 0., 0., 0., 0., 0., 0., 0., 0., 0.],\n",
    "            [0., 0., 0., 0., 0., 0., 0., 0., 0., 0., 0., 0.],\n",
    "            [0., 0., 0., 0., 0., 0., 0., 0., 0., 0., 0., 0.]\n",
    "        ])\n",
    "        for i in range(12): # Symetrical matrix loop\n",
    "            for j in range(i):\n",
    "                K[i,j] = K[j,i]\n",
    "        return K"
   ]
  },
  {
   "cell_type": "markdown",
   "metadata": {},
   "source": [
    "Entre as funções auxiliares, também utilizaremos uma função para ler um arquivo JSON e armazenar em uma variável na forma de dicionário Python. Alternativamente, esta função poderia estar contida na própria classe da estrutura que será criada mais adiante, de forma que o caminho seria passado como parâmetro, entretanto, a criação separada permite visualizar o conteúdo do arquivo fora da classe."
   ]
  },
  {
   "cell_type": "code",
   "execution_count": 31,
   "metadata": {},
   "outputs": [],
   "source": [
    "def readjson(path):\n",
    "    file = None\n",
    "    try:\n",
    "        with open(path,'r') as f:\n",
    "            file = json.load(f)\n",
    "    except IOError as err:\n",
    "        print('File Error: ' + str(err))\n",
    "    except JSONDecodeError as err:\n",
    "        print('JSON Error: ' + str(err))\n",
    "    finally:\n",
    "        return file"
   ]
  },
  {
   "cell_type": "markdown",
   "metadata": {},
   "source": [
    "Por fim, utilizaremos uma classe para processar toda a estrutura. Esta classe conterá listas com todos os nós e barras da estrutura, bem como os métodos necessários para calcular os deslocamentos dos nós, esforços e deformações nas barras.\n",
    "\n",
    "A chamada para a criação de um objeto de estrutura será pelo fornecimento de um dicionário lido através de um arquivo JSON contendo todos os dados da estrutura, como os nós, apoios, constantes, ligações entre os nós e carregamentos."
   ]
  },
  {
   "cell_type": "code",
   "execution_count": 32,
   "metadata": {},
   "outputs": [],
   "source": [
    "# Structure data class\n",
    "class Structure:\n",
    "    def __init__(self,data,grid=10):\n",
    "        self.tag = data[\"tag\"]\n",
    "        self.n = data[\"n\"]\n",
    "        self.dimension = data[\"dim\"]\n",
    "        self.grid = grid\n",
    "        self._solved = False\n",
    "        self.nodes = []\n",
    "        self.bars = []\n",
    "        for name, value in data['nodes'].items():\n",
    "            P = np.array([value[\"x\"],value[\"y\"],value[\"z\"]])\n",
    "            S=[False,False,False,False,False,False]\n",
    "            L=np.array([value[\"Fx\"],value[\"Fy\"],value[\"Fz\"],value[\"Mx\"],value[\"My\"],value[\"Mz\"]])\n",
    "            if value[\"Tx\"]:\n",
    "                S[0] = True\n",
    "            if value[\"Ty\"]:\n",
    "                S[1] = True\n",
    "            if value[\"Tz\"]:\n",
    "                S[2] = True\n",
    "            if value[\"Rx\"]:\n",
    "                S[3] = True\n",
    "            if value[\"Ry\"]:\n",
    "                S[4] = True\n",
    "            if value[\"Rz\"]:\n",
    "                S[5] = True\n",
    "            newnode = node(value[\"id\"],P,S,L,name)\n",
    "            self.nodes.append(newnode)\n",
    "        for name, value in data['bars'].items():\n",
    "            E = value[\"E\"]\n",
    "            S = value[\"S\"]\n",
    "            I = value[\"I\"]\n",
    "            J = value[\"J\"]\n",
    "            P = np.array([value[\"P\"],value[\"Px\"],value[\"Px2\"]])\n",
    "            newbar = element(value[\"id\"],self.nodes[value[\"from\"]],self.nodes[value[\"to\"]],E,S,I,J,P,name,self.grid)\n",
    "            self.bars.append(newbar)\n",
    "\n",
    "    def show(self):\n",
    "        out = go.Figure()\n",
    "        for bar in self.bars:\n",
    "            local = dict({\"x\":[],\"y\":[],\"z\":[],\"tag\":[]})\n",
    "            local[\"x\"].append(bar.start.locate[0])\n",
    "            local[\"y\"].append(bar.start.locate[1])\n",
    "            local[\"z\"].append(bar.start.locate[2])\n",
    "            local[\"tag\"].append(bar.tag)\n",
    "            for nd in bar.grid:\n",
    "                local[\"x\"].append(nd.locate[0])\n",
    "                local[\"y\"].append(nd.locate[1])\n",
    "                local[\"z\"].append(nd.locate[2])\n",
    "                local[\"tag\"].append(bar.tag)\n",
    "            local[\"x\"].append(bar.end.locate[0])\n",
    "            local[\"y\"].append(bar.end.locate[1])\n",
    "            local[\"z\"].append(bar.end.locate[2])\n",
    "            local[\"tag\"].append(bar.tag)\n",
    "            if self.dimension == 2:\n",
    "                out.add_scatter(x=local[\"x\"],y=local[\"y\"],marker=dict(size=5),line=dict(width=2),name=bar.tag)\n",
    "                out.update_layout(legend_title_text = \"Barras\")\n",
    "                out.update_xaxes(title_text=\"$x[m]$\")\n",
    "                out.update_yaxes(title_text=\"$y[m]$\")\n",
    "            else:\n",
    "                out.add_scatter3d(x=local[\"x\"],y=local[\"y\"],z=local[\"z\"],marker=dict(size=3),line=dict(width=2),name=bar.tag)\n",
    "                out.update_layout(legend_title_text = \"Barras\")\n",
    "        return out"
   ]
  },
  {
   "cell_type": "markdown",
   "metadata": {},
   "source": [
    "# Exemplo de Arquivo JSON de Entrada"
   ]
  },
  {
   "cell_type": "code",
   "execution_count": 33,
   "metadata": {
    "scrolled": true
   },
   "outputs": [
    {
     "name": "stdout",
     "output_type": "stream",
     "text": [
      "{\n",
      "    \"bars\": {\n",
      "        \"Barra 1\": {\n",
      "            \"E\": 1000000.0,\n",
      "            \"I\": 0.0001,\n",
      "            \"J\": 0.0001,\n",
      "            \"P\": 1.0,\n",
      "            \"Px\": 0.0,\n",
      "            \"Px2\": 0.0,\n",
      "            \"S\": 0.001,\n",
      "            \"from\": 0,\n",
      "            \"id\": 0,\n",
      "            \"to\": 1\n",
      "        }\n",
      "    },\n",
      "    \"dim\": 2,\n",
      "    \"grid\": 2,\n",
      "    \"n\": 2,\n",
      "    \"nodes\": {\n",
      "        \"No 1\": {\n",
      "            \"Fx\": 0.0,\n",
      "            \"Fy\": 0.0,\n",
      "            \"Fz\": 0.0,\n",
      "            \"Mx\": 0.0,\n",
      "            \"My\": 0.0,\n",
      "            \"Mz\": 0.0,\n",
      "            \"Rx\": false,\n",
      "            \"Ry\": false,\n",
      "            \"Rz\": false,\n",
      "            \"Tx\": true,\n",
      "            \"Ty\": true,\n",
      "            \"Tz\": false,\n",
      "            \"id\": 0,\n",
      "            \"x\": 0.0,\n",
      "            \"y\": 0.0,\n",
      "            \"z\": 0.0\n",
      "        },\n",
      "        \"No 2\": {\n",
      "            \"Fx\": 0.0,\n",
      "            \"Fy\": 0.0,\n",
      "            \"Fz\": 0.0,\n",
      "            \"Mx\": 0.0,\n",
      "            \"My\": 0.0,\n",
      "            \"Mz\": 0.0,\n",
      "            \"Rx\": false,\n",
      "            \"Ry\": false,\n",
      "            \"Rz\": false,\n",
      "            \"Tx\": false,\n",
      "            \"Ty\": true,\n",
      "            \"Tz\": false,\n",
      "            \"id\": 1,\n",
      "            \"x\": 2.0,\n",
      "            \"y\": 0.0,\n",
      "            \"z\": 0.0\n",
      "        }\n",
      "    },\n",
      "    \"tag\": \"Exemplo de Uma Barra\"\n",
      "}\n"
     ]
    }
   ],
   "source": [
    "print(json.dumps(readjson(\"exemplo1.json\"), indent=4, sort_keys=True))"
   ]
  },
  {
   "cell_type": "markdown",
   "metadata": {},
   "source": [
    "# Exemplo 1 - Uma Barra"
   ]
  },
  {
   "cell_type": "code",
   "execution_count": 34,
   "metadata": {
    "tags": []
   },
   "outputs": [
    {
     "data": {
      "application/vnd.plotly.v1+json": {
       "config": {
        "linkText": "Export to plot.ly",
        "plotlyServerURL": "https://plot.ly",
        "showLink": false
       },
       "data": [
        {
         "line": {
          "width": 2
         },
         "marker": {
          "size": 5
         },
         "name": "Barra 1",
         "type": "scatter",
         "x": [
          0,
          0.2,
          0.4,
          0.6000000000000001,
          0.8,
          1,
          1.2000000000000002,
          1.4000000000000001,
          1.6,
          1.8,
          2
         ],
         "y": [
          0,
          0,
          0,
          0,
          0,
          0,
          0,
          0,
          0,
          0,
          0
         ]
        }
       ],
       "layout": {
        "legend": {
         "title": {
          "text": "Barras"
         }
        },
        "template": {
         "data": {
          "bar": [
           {
            "error_x": {
             "color": "#2a3f5f"
            },
            "error_y": {
             "color": "#2a3f5f"
            },
            "marker": {
             "line": {
              "color": "#E5ECF6",
              "width": 0.5
             }
            },
            "type": "bar"
           }
          ],
          "barpolar": [
           {
            "marker": {
             "line": {
              "color": "#E5ECF6",
              "width": 0.5
             }
            },
            "type": "barpolar"
           }
          ],
          "carpet": [
           {
            "aaxis": {
             "endlinecolor": "#2a3f5f",
             "gridcolor": "white",
             "linecolor": "white",
             "minorgridcolor": "white",
             "startlinecolor": "#2a3f5f"
            },
            "baxis": {
             "endlinecolor": "#2a3f5f",
             "gridcolor": "white",
             "linecolor": "white",
             "minorgridcolor": "white",
             "startlinecolor": "#2a3f5f"
            },
            "type": "carpet"
           }
          ],
          "choropleth": [
           {
            "colorbar": {
             "outlinewidth": 0,
             "ticks": ""
            },
            "type": "choropleth"
           }
          ],
          "contour": [
           {
            "colorbar": {
             "outlinewidth": 0,
             "ticks": ""
            },
            "colorscale": [
             [
              0,
              "#0d0887"
             ],
             [
              0.1111111111111111,
              "#46039f"
             ],
             [
              0.2222222222222222,
              "#7201a8"
             ],
             [
              0.3333333333333333,
              "#9c179e"
             ],
             [
              0.4444444444444444,
              "#bd3786"
             ],
             [
              0.5555555555555556,
              "#d8576b"
             ],
             [
              0.6666666666666666,
              "#ed7953"
             ],
             [
              0.7777777777777778,
              "#fb9f3a"
             ],
             [
              0.8888888888888888,
              "#fdca26"
             ],
             [
              1,
              "#f0f921"
             ]
            ],
            "type": "contour"
           }
          ],
          "contourcarpet": [
           {
            "colorbar": {
             "outlinewidth": 0,
             "ticks": ""
            },
            "type": "contourcarpet"
           }
          ],
          "heatmap": [
           {
            "colorbar": {
             "outlinewidth": 0,
             "ticks": ""
            },
            "colorscale": [
             [
              0,
              "#0d0887"
             ],
             [
              0.1111111111111111,
              "#46039f"
             ],
             [
              0.2222222222222222,
              "#7201a8"
             ],
             [
              0.3333333333333333,
              "#9c179e"
             ],
             [
              0.4444444444444444,
              "#bd3786"
             ],
             [
              0.5555555555555556,
              "#d8576b"
             ],
             [
              0.6666666666666666,
              "#ed7953"
             ],
             [
              0.7777777777777778,
              "#fb9f3a"
             ],
             [
              0.8888888888888888,
              "#fdca26"
             ],
             [
              1,
              "#f0f921"
             ]
            ],
            "type": "heatmap"
           }
          ],
          "heatmapgl": [
           {
            "colorbar": {
             "outlinewidth": 0,
             "ticks": ""
            },
            "colorscale": [
             [
              0,
              "#0d0887"
             ],
             [
              0.1111111111111111,
              "#46039f"
             ],
             [
              0.2222222222222222,
              "#7201a8"
             ],
             [
              0.3333333333333333,
              "#9c179e"
             ],
             [
              0.4444444444444444,
              "#bd3786"
             ],
             [
              0.5555555555555556,
              "#d8576b"
             ],
             [
              0.6666666666666666,
              "#ed7953"
             ],
             [
              0.7777777777777778,
              "#fb9f3a"
             ],
             [
              0.8888888888888888,
              "#fdca26"
             ],
             [
              1,
              "#f0f921"
             ]
            ],
            "type": "heatmapgl"
           }
          ],
          "histogram": [
           {
            "marker": {
             "colorbar": {
              "outlinewidth": 0,
              "ticks": ""
             }
            },
            "type": "histogram"
           }
          ],
          "histogram2d": [
           {
            "colorbar": {
             "outlinewidth": 0,
             "ticks": ""
            },
            "colorscale": [
             [
              0,
              "#0d0887"
             ],
             [
              0.1111111111111111,
              "#46039f"
             ],
             [
              0.2222222222222222,
              "#7201a8"
             ],
             [
              0.3333333333333333,
              "#9c179e"
             ],
             [
              0.4444444444444444,
              "#bd3786"
             ],
             [
              0.5555555555555556,
              "#d8576b"
             ],
             [
              0.6666666666666666,
              "#ed7953"
             ],
             [
              0.7777777777777778,
              "#fb9f3a"
             ],
             [
              0.8888888888888888,
              "#fdca26"
             ],
             [
              1,
              "#f0f921"
             ]
            ],
            "type": "histogram2d"
           }
          ],
          "histogram2dcontour": [
           {
            "colorbar": {
             "outlinewidth": 0,
             "ticks": ""
            },
            "colorscale": [
             [
              0,
              "#0d0887"
             ],
             [
              0.1111111111111111,
              "#46039f"
             ],
             [
              0.2222222222222222,
              "#7201a8"
             ],
             [
              0.3333333333333333,
              "#9c179e"
             ],
             [
              0.4444444444444444,
              "#bd3786"
             ],
             [
              0.5555555555555556,
              "#d8576b"
             ],
             [
              0.6666666666666666,
              "#ed7953"
             ],
             [
              0.7777777777777778,
              "#fb9f3a"
             ],
             [
              0.8888888888888888,
              "#fdca26"
             ],
             [
              1,
              "#f0f921"
             ]
            ],
            "type": "histogram2dcontour"
           }
          ],
          "mesh3d": [
           {
            "colorbar": {
             "outlinewidth": 0,
             "ticks": ""
            },
            "type": "mesh3d"
           }
          ],
          "parcoords": [
           {
            "line": {
             "colorbar": {
              "outlinewidth": 0,
              "ticks": ""
             }
            },
            "type": "parcoords"
           }
          ],
          "pie": [
           {
            "automargin": true,
            "type": "pie"
           }
          ],
          "scatter": [
           {
            "marker": {
             "colorbar": {
              "outlinewidth": 0,
              "ticks": ""
             }
            },
            "type": "scatter"
           }
          ],
          "scatter3d": [
           {
            "line": {
             "colorbar": {
              "outlinewidth": 0,
              "ticks": ""
             }
            },
            "marker": {
             "colorbar": {
              "outlinewidth": 0,
              "ticks": ""
             }
            },
            "type": "scatter3d"
           }
          ],
          "scattercarpet": [
           {
            "marker": {
             "colorbar": {
              "outlinewidth": 0,
              "ticks": ""
             }
            },
            "type": "scattercarpet"
           }
          ],
          "scattergeo": [
           {
            "marker": {
             "colorbar": {
              "outlinewidth": 0,
              "ticks": ""
             }
            },
            "type": "scattergeo"
           }
          ],
          "scattergl": [
           {
            "marker": {
             "colorbar": {
              "outlinewidth": 0,
              "ticks": ""
             }
            },
            "type": "scattergl"
           }
          ],
          "scattermapbox": [
           {
            "marker": {
             "colorbar": {
              "outlinewidth": 0,
              "ticks": ""
             }
            },
            "type": "scattermapbox"
           }
          ],
          "scatterpolar": [
           {
            "marker": {
             "colorbar": {
              "outlinewidth": 0,
              "ticks": ""
             }
            },
            "type": "scatterpolar"
           }
          ],
          "scatterpolargl": [
           {
            "marker": {
             "colorbar": {
              "outlinewidth": 0,
              "ticks": ""
             }
            },
            "type": "scatterpolargl"
           }
          ],
          "scatterternary": [
           {
            "marker": {
             "colorbar": {
              "outlinewidth": 0,
              "ticks": ""
             }
            },
            "type": "scatterternary"
           }
          ],
          "surface": [
           {
            "colorbar": {
             "outlinewidth": 0,
             "ticks": ""
            },
            "colorscale": [
             [
              0,
              "#0d0887"
             ],
             [
              0.1111111111111111,
              "#46039f"
             ],
             [
              0.2222222222222222,
              "#7201a8"
             ],
             [
              0.3333333333333333,
              "#9c179e"
             ],
             [
              0.4444444444444444,
              "#bd3786"
             ],
             [
              0.5555555555555556,
              "#d8576b"
             ],
             [
              0.6666666666666666,
              "#ed7953"
             ],
             [
              0.7777777777777778,
              "#fb9f3a"
             ],
             [
              0.8888888888888888,
              "#fdca26"
             ],
             [
              1,
              "#f0f921"
             ]
            ],
            "type": "surface"
           }
          ],
          "table": [
           {
            "cells": {
             "fill": {
              "color": "#EBF0F8"
             },
             "line": {
              "color": "white"
             }
            },
            "header": {
             "fill": {
              "color": "#C8D4E3"
             },
             "line": {
              "color": "white"
             }
            },
            "type": "table"
           }
          ]
         },
         "layout": {
          "annotationdefaults": {
           "arrowcolor": "#2a3f5f",
           "arrowhead": 0,
           "arrowwidth": 1
          },
          "coloraxis": {
           "colorbar": {
            "outlinewidth": 0,
            "ticks": ""
           }
          },
          "colorscale": {
           "diverging": [
            [
             0,
             "#8e0152"
            ],
            [
             0.1,
             "#c51b7d"
            ],
            [
             0.2,
             "#de77ae"
            ],
            [
             0.3,
             "#f1b6da"
            ],
            [
             0.4,
             "#fde0ef"
            ],
            [
             0.5,
             "#f7f7f7"
            ],
            [
             0.6,
             "#e6f5d0"
            ],
            [
             0.7,
             "#b8e186"
            ],
            [
             0.8,
             "#7fbc41"
            ],
            [
             0.9,
             "#4d9221"
            ],
            [
             1,
             "#276419"
            ]
           ],
           "sequential": [
            [
             0,
             "#0d0887"
            ],
            [
             0.1111111111111111,
             "#46039f"
            ],
            [
             0.2222222222222222,
             "#7201a8"
            ],
            [
             0.3333333333333333,
             "#9c179e"
            ],
            [
             0.4444444444444444,
             "#bd3786"
            ],
            [
             0.5555555555555556,
             "#d8576b"
            ],
            [
             0.6666666666666666,
             "#ed7953"
            ],
            [
             0.7777777777777778,
             "#fb9f3a"
            ],
            [
             0.8888888888888888,
             "#fdca26"
            ],
            [
             1,
             "#f0f921"
            ]
           ],
           "sequentialminus": [
            [
             0,
             "#0d0887"
            ],
            [
             0.1111111111111111,
             "#46039f"
            ],
            [
             0.2222222222222222,
             "#7201a8"
            ],
            [
             0.3333333333333333,
             "#9c179e"
            ],
            [
             0.4444444444444444,
             "#bd3786"
            ],
            [
             0.5555555555555556,
             "#d8576b"
            ],
            [
             0.6666666666666666,
             "#ed7953"
            ],
            [
             0.7777777777777778,
             "#fb9f3a"
            ],
            [
             0.8888888888888888,
             "#fdca26"
            ],
            [
             1,
             "#f0f921"
            ]
           ]
          },
          "colorway": [
           "#636efa",
           "#EF553B",
           "#00cc96",
           "#ab63fa",
           "#FFA15A",
           "#19d3f3",
           "#FF6692",
           "#B6E880",
           "#FF97FF",
           "#FECB52"
          ],
          "font": {
           "color": "#2a3f5f"
          },
          "geo": {
           "bgcolor": "white",
           "lakecolor": "white",
           "landcolor": "#E5ECF6",
           "showlakes": true,
           "showland": true,
           "subunitcolor": "white"
          },
          "hoverlabel": {
           "align": "left"
          },
          "hovermode": "closest",
          "mapbox": {
           "style": "light"
          },
          "paper_bgcolor": "white",
          "plot_bgcolor": "#E5ECF6",
          "polar": {
           "angularaxis": {
            "gridcolor": "white",
            "linecolor": "white",
            "ticks": ""
           },
           "bgcolor": "#E5ECF6",
           "radialaxis": {
            "gridcolor": "white",
            "linecolor": "white",
            "ticks": ""
           }
          },
          "scene": {
           "xaxis": {
            "backgroundcolor": "#E5ECF6",
            "gridcolor": "white",
            "gridwidth": 2,
            "linecolor": "white",
            "showbackground": true,
            "ticks": "",
            "zerolinecolor": "white"
           },
           "yaxis": {
            "backgroundcolor": "#E5ECF6",
            "gridcolor": "white",
            "gridwidth": 2,
            "linecolor": "white",
            "showbackground": true,
            "ticks": "",
            "zerolinecolor": "white"
           },
           "zaxis": {
            "backgroundcolor": "#E5ECF6",
            "gridcolor": "white",
            "gridwidth": 2,
            "linecolor": "white",
            "showbackground": true,
            "ticks": "",
            "zerolinecolor": "white"
           }
          },
          "shapedefaults": {
           "line": {
            "color": "#2a3f5f"
           }
          },
          "ternary": {
           "aaxis": {
            "gridcolor": "white",
            "linecolor": "white",
            "ticks": ""
           },
           "baxis": {
            "gridcolor": "white",
            "linecolor": "white",
            "ticks": ""
           },
           "bgcolor": "#E5ECF6",
           "caxis": {
            "gridcolor": "white",
            "linecolor": "white",
            "ticks": ""
           }
          },
          "title": {
           "x": 0.05
          },
          "xaxis": {
           "automargin": true,
           "gridcolor": "white",
           "linecolor": "white",
           "ticks": "",
           "title": {
            "standoff": 15
           },
           "zerolinecolor": "white",
           "zerolinewidth": 2
          },
          "yaxis": {
           "automargin": true,
           "gridcolor": "white",
           "linecolor": "white",
           "ticks": "",
           "title": {
            "standoff": 15
           },
           "zerolinecolor": "white",
           "zerolinewidth": 2
          }
         }
        },
        "xaxis": {
         "title": {
          "text": "$x[m]$"
         }
        },
        "yaxis": {
         "title": {
          "text": "$y[m]$"
         }
        }
       }
      },
      "text/html": [
       "<div>\n",
       "        \n",
       "        \n",
       "            <div id=\"34e05999-5989-41d8-8150-0cb31adeef55\" class=\"plotly-graph-div\" style=\"height:525px; width:100%;\"></div>\n",
       "            <script type=\"text/javascript\">\n",
       "                require([\"plotly\"], function(Plotly) {\n",
       "                    window.PLOTLYENV=window.PLOTLYENV || {};\n",
       "                    \n",
       "                if (document.getElementById(\"34e05999-5989-41d8-8150-0cb31adeef55\")) {\n",
       "                    Plotly.newPlot(\n",
       "                        '34e05999-5989-41d8-8150-0cb31adeef55',\n",
       "                        [{\"line\": {\"width\": 2}, \"marker\": {\"size\": 5}, \"name\": \"Barra 1\", \"type\": \"scatter\", \"x\": [0.0, 0.2, 0.4, 0.6000000000000001, 0.8, 1.0, 1.2000000000000002, 1.4000000000000001, 1.6, 1.8, 2.0], \"y\": [0.0, 0.0, 0.0, 0.0, 0.0, 0.0, 0.0, 0.0, 0.0, 0.0, 0.0]}],\n",
       "                        {\"legend\": {\"title\": {\"text\": \"Barras\"}}, \"template\": {\"data\": {\"bar\": [{\"error_x\": {\"color\": \"#2a3f5f\"}, \"error_y\": {\"color\": \"#2a3f5f\"}, \"marker\": {\"line\": {\"color\": \"#E5ECF6\", \"width\": 0.5}}, \"type\": \"bar\"}], \"barpolar\": [{\"marker\": {\"line\": {\"color\": \"#E5ECF6\", \"width\": 0.5}}, \"type\": \"barpolar\"}], \"carpet\": [{\"aaxis\": {\"endlinecolor\": \"#2a3f5f\", \"gridcolor\": \"white\", \"linecolor\": \"white\", \"minorgridcolor\": \"white\", \"startlinecolor\": \"#2a3f5f\"}, \"baxis\": {\"endlinecolor\": \"#2a3f5f\", \"gridcolor\": \"white\", \"linecolor\": \"white\", \"minorgridcolor\": \"white\", \"startlinecolor\": \"#2a3f5f\"}, \"type\": \"carpet\"}], \"choropleth\": [{\"colorbar\": {\"outlinewidth\": 0, \"ticks\": \"\"}, \"type\": \"choropleth\"}], \"contour\": [{\"colorbar\": {\"outlinewidth\": 0, \"ticks\": \"\"}, \"colorscale\": [[0.0, \"#0d0887\"], [0.1111111111111111, \"#46039f\"], [0.2222222222222222, \"#7201a8\"], [0.3333333333333333, \"#9c179e\"], [0.4444444444444444, \"#bd3786\"], [0.5555555555555556, \"#d8576b\"], [0.6666666666666666, \"#ed7953\"], [0.7777777777777778, \"#fb9f3a\"], [0.8888888888888888, \"#fdca26\"], [1.0, \"#f0f921\"]], \"type\": \"contour\"}], \"contourcarpet\": [{\"colorbar\": {\"outlinewidth\": 0, \"ticks\": \"\"}, \"type\": \"contourcarpet\"}], \"heatmap\": [{\"colorbar\": {\"outlinewidth\": 0, \"ticks\": \"\"}, \"colorscale\": [[0.0, \"#0d0887\"], [0.1111111111111111, \"#46039f\"], [0.2222222222222222, \"#7201a8\"], [0.3333333333333333, \"#9c179e\"], [0.4444444444444444, \"#bd3786\"], [0.5555555555555556, \"#d8576b\"], [0.6666666666666666, \"#ed7953\"], [0.7777777777777778, \"#fb9f3a\"], [0.8888888888888888, \"#fdca26\"], [1.0, \"#f0f921\"]], \"type\": \"heatmap\"}], \"heatmapgl\": [{\"colorbar\": {\"outlinewidth\": 0, \"ticks\": \"\"}, \"colorscale\": [[0.0, \"#0d0887\"], [0.1111111111111111, \"#46039f\"], [0.2222222222222222, \"#7201a8\"], [0.3333333333333333, \"#9c179e\"], [0.4444444444444444, \"#bd3786\"], [0.5555555555555556, \"#d8576b\"], [0.6666666666666666, \"#ed7953\"], [0.7777777777777778, \"#fb9f3a\"], [0.8888888888888888, \"#fdca26\"], [1.0, \"#f0f921\"]], \"type\": \"heatmapgl\"}], \"histogram\": [{\"marker\": {\"colorbar\": {\"outlinewidth\": 0, \"ticks\": \"\"}}, \"type\": \"histogram\"}], \"histogram2d\": [{\"colorbar\": {\"outlinewidth\": 0, \"ticks\": \"\"}, \"colorscale\": [[0.0, \"#0d0887\"], [0.1111111111111111, \"#46039f\"], [0.2222222222222222, \"#7201a8\"], [0.3333333333333333, \"#9c179e\"], [0.4444444444444444, \"#bd3786\"], [0.5555555555555556, \"#d8576b\"], [0.6666666666666666, \"#ed7953\"], [0.7777777777777778, \"#fb9f3a\"], [0.8888888888888888, \"#fdca26\"], [1.0, \"#f0f921\"]], \"type\": \"histogram2d\"}], \"histogram2dcontour\": [{\"colorbar\": {\"outlinewidth\": 0, \"ticks\": \"\"}, \"colorscale\": [[0.0, \"#0d0887\"], [0.1111111111111111, \"#46039f\"], [0.2222222222222222, \"#7201a8\"], [0.3333333333333333, \"#9c179e\"], [0.4444444444444444, \"#bd3786\"], [0.5555555555555556, \"#d8576b\"], [0.6666666666666666, \"#ed7953\"], [0.7777777777777778, \"#fb9f3a\"], [0.8888888888888888, \"#fdca26\"], [1.0, \"#f0f921\"]], \"type\": \"histogram2dcontour\"}], \"mesh3d\": [{\"colorbar\": {\"outlinewidth\": 0, \"ticks\": \"\"}, \"type\": \"mesh3d\"}], \"parcoords\": [{\"line\": {\"colorbar\": {\"outlinewidth\": 0, \"ticks\": \"\"}}, \"type\": \"parcoords\"}], \"pie\": [{\"automargin\": true, \"type\": \"pie\"}], \"scatter\": [{\"marker\": {\"colorbar\": {\"outlinewidth\": 0, \"ticks\": \"\"}}, \"type\": \"scatter\"}], \"scatter3d\": [{\"line\": {\"colorbar\": {\"outlinewidth\": 0, \"ticks\": \"\"}}, \"marker\": {\"colorbar\": {\"outlinewidth\": 0, \"ticks\": \"\"}}, \"type\": \"scatter3d\"}], \"scattercarpet\": [{\"marker\": {\"colorbar\": {\"outlinewidth\": 0, \"ticks\": \"\"}}, \"type\": \"scattercarpet\"}], \"scattergeo\": [{\"marker\": {\"colorbar\": {\"outlinewidth\": 0, \"ticks\": \"\"}}, \"type\": \"scattergeo\"}], \"scattergl\": [{\"marker\": {\"colorbar\": {\"outlinewidth\": 0, \"ticks\": \"\"}}, \"type\": \"scattergl\"}], \"scattermapbox\": [{\"marker\": {\"colorbar\": {\"outlinewidth\": 0, \"ticks\": \"\"}}, \"type\": \"scattermapbox\"}], \"scatterpolar\": [{\"marker\": {\"colorbar\": {\"outlinewidth\": 0, \"ticks\": \"\"}}, \"type\": \"scatterpolar\"}], \"scatterpolargl\": [{\"marker\": {\"colorbar\": {\"outlinewidth\": 0, \"ticks\": \"\"}}, \"type\": \"scatterpolargl\"}], \"scatterternary\": [{\"marker\": {\"colorbar\": {\"outlinewidth\": 0, \"ticks\": \"\"}}, \"type\": \"scatterternary\"}], \"surface\": [{\"colorbar\": {\"outlinewidth\": 0, \"ticks\": \"\"}, \"colorscale\": [[0.0, \"#0d0887\"], [0.1111111111111111, \"#46039f\"], [0.2222222222222222, \"#7201a8\"], [0.3333333333333333, \"#9c179e\"], [0.4444444444444444, \"#bd3786\"], [0.5555555555555556, \"#d8576b\"], [0.6666666666666666, \"#ed7953\"], [0.7777777777777778, \"#fb9f3a\"], [0.8888888888888888, \"#fdca26\"], [1.0, \"#f0f921\"]], \"type\": \"surface\"}], \"table\": [{\"cells\": {\"fill\": {\"color\": \"#EBF0F8\"}, \"line\": {\"color\": \"white\"}}, \"header\": {\"fill\": {\"color\": \"#C8D4E3\"}, \"line\": {\"color\": \"white\"}}, \"type\": \"table\"}]}, \"layout\": {\"annotationdefaults\": {\"arrowcolor\": \"#2a3f5f\", \"arrowhead\": 0, \"arrowwidth\": 1}, \"coloraxis\": {\"colorbar\": {\"outlinewidth\": 0, \"ticks\": \"\"}}, \"colorscale\": {\"diverging\": [[0, \"#8e0152\"], [0.1, \"#c51b7d\"], [0.2, \"#de77ae\"], [0.3, \"#f1b6da\"], [0.4, \"#fde0ef\"], [0.5, \"#f7f7f7\"], [0.6, \"#e6f5d0\"], [0.7, \"#b8e186\"], [0.8, \"#7fbc41\"], [0.9, \"#4d9221\"], [1, \"#276419\"]], \"sequential\": [[0.0, \"#0d0887\"], [0.1111111111111111, \"#46039f\"], [0.2222222222222222, \"#7201a8\"], [0.3333333333333333, \"#9c179e\"], [0.4444444444444444, \"#bd3786\"], [0.5555555555555556, \"#d8576b\"], [0.6666666666666666, \"#ed7953\"], [0.7777777777777778, \"#fb9f3a\"], [0.8888888888888888, \"#fdca26\"], [1.0, \"#f0f921\"]], \"sequentialminus\": [[0.0, \"#0d0887\"], [0.1111111111111111, \"#46039f\"], [0.2222222222222222, \"#7201a8\"], [0.3333333333333333, \"#9c179e\"], [0.4444444444444444, \"#bd3786\"], [0.5555555555555556, \"#d8576b\"], [0.6666666666666666, \"#ed7953\"], [0.7777777777777778, \"#fb9f3a\"], [0.8888888888888888, \"#fdca26\"], [1.0, \"#f0f921\"]]}, \"colorway\": [\"#636efa\", \"#EF553B\", \"#00cc96\", \"#ab63fa\", \"#FFA15A\", \"#19d3f3\", \"#FF6692\", \"#B6E880\", \"#FF97FF\", \"#FECB52\"], \"font\": {\"color\": \"#2a3f5f\"}, \"geo\": {\"bgcolor\": \"white\", \"lakecolor\": \"white\", \"landcolor\": \"#E5ECF6\", \"showlakes\": true, \"showland\": true, \"subunitcolor\": \"white\"}, \"hoverlabel\": {\"align\": \"left\"}, \"hovermode\": \"closest\", \"mapbox\": {\"style\": \"light\"}, \"paper_bgcolor\": \"white\", \"plot_bgcolor\": \"#E5ECF6\", \"polar\": {\"angularaxis\": {\"gridcolor\": \"white\", \"linecolor\": \"white\", \"ticks\": \"\"}, \"bgcolor\": \"#E5ECF6\", \"radialaxis\": {\"gridcolor\": \"white\", \"linecolor\": \"white\", \"ticks\": \"\"}}, \"scene\": {\"xaxis\": {\"backgroundcolor\": \"#E5ECF6\", \"gridcolor\": \"white\", \"gridwidth\": 2, \"linecolor\": \"white\", \"showbackground\": true, \"ticks\": \"\", \"zerolinecolor\": \"white\"}, \"yaxis\": {\"backgroundcolor\": \"#E5ECF6\", \"gridcolor\": \"white\", \"gridwidth\": 2, \"linecolor\": \"white\", \"showbackground\": true, \"ticks\": \"\", \"zerolinecolor\": \"white\"}, \"zaxis\": {\"backgroundcolor\": \"#E5ECF6\", \"gridcolor\": \"white\", \"gridwidth\": 2, \"linecolor\": \"white\", \"showbackground\": true, \"ticks\": \"\", \"zerolinecolor\": \"white\"}}, \"shapedefaults\": {\"line\": {\"color\": \"#2a3f5f\"}}, \"ternary\": {\"aaxis\": {\"gridcolor\": \"white\", \"linecolor\": \"white\", \"ticks\": \"\"}, \"baxis\": {\"gridcolor\": \"white\", \"linecolor\": \"white\", \"ticks\": \"\"}, \"bgcolor\": \"#E5ECF6\", \"caxis\": {\"gridcolor\": \"white\", \"linecolor\": \"white\", \"ticks\": \"\"}}, \"title\": {\"x\": 0.05}, \"xaxis\": {\"automargin\": true, \"gridcolor\": \"white\", \"linecolor\": \"white\", \"ticks\": \"\", \"title\": {\"standoff\": 15}, \"zerolinecolor\": \"white\", \"zerolinewidth\": 2}, \"yaxis\": {\"automargin\": true, \"gridcolor\": \"white\", \"linecolor\": \"white\", \"ticks\": \"\", \"title\": {\"standoff\": 15}, \"zerolinecolor\": \"white\", \"zerolinewidth\": 2}}}, \"xaxis\": {\"title\": {\"text\": \"$x[m]$\"}}, \"yaxis\": {\"title\": {\"text\": \"$y[m]$\"}}},\n",
       "                        {\"responsive\": true}\n",
       "                    ).then(function(){\n",
       "                            \n",
       "var gd = document.getElementById('34e05999-5989-41d8-8150-0cb31adeef55');\n",
       "var x = new MutationObserver(function (mutations, observer) {{\n",
       "        var display = window.getComputedStyle(gd).display;\n",
       "        if (!display || display === 'none') {{\n",
       "            console.log([gd, 'removed!']);\n",
       "            Plotly.purge(gd);\n",
       "            observer.disconnect();\n",
       "        }}\n",
       "}});\n",
       "\n",
       "// Listen for the removal of the full notebook cells\n",
       "var notebookContainer = gd.closest('#notebook-container');\n",
       "if (notebookContainer) {{\n",
       "    x.observe(notebookContainer, {childList: true});\n",
       "}}\n",
       "\n",
       "// Listen for the clearing of the current output cell\n",
       "var outputEl = gd.closest('.output');\n",
       "if (outputEl) {{\n",
       "    x.observe(outputEl, {childList: true});\n",
       "}}\n",
       "\n",
       "                        })\n",
       "                };\n",
       "                });\n",
       "            </script>\n",
       "        </div>"
      ]
     },
     "metadata": {},
     "output_type": "display_data"
    }
   ],
   "source": [
    "exemplo1 = Structure(readjson(\"exemplo1.json\"))\n",
    "figura1 = exemplo1.show()\n",
    "iplot(figura1)"
   ]
  },
  {
   "cell_type": "markdown",
   "metadata": {},
   "source": [
    "# Exemplo 2 - 3 Barras"
   ]
  },
  {
   "cell_type": "code",
   "execution_count": 35,
   "metadata": {},
   "outputs": [
    {
     "data": {
      "application/vnd.plotly.v1+json": {
       "config": {
        "linkText": "Export to plot.ly",
        "plotlyServerURL": "https://plot.ly",
        "showLink": false
       },
       "data": [
        {
         "line": {
          "width": 2
         },
         "marker": {
          "size": 5
         },
         "name": "Barra 1",
         "type": "scatter",
         "x": [
          0,
          0.1,
          0.2,
          0.30000000000000004,
          0.4,
          0.5,
          0.6000000000000001,
          0.7000000000000001,
          0.8,
          0.9,
          1
         ],
         "y": [
          0,
          0,
          0,
          0,
          0,
          0,
          0,
          0,
          0,
          0,
          0
         ]
        },
        {
         "line": {
          "width": 2
         },
         "marker": {
          "size": 5
         },
         "name": "Barra 2",
         "type": "scatter",
         "x": [
          1,
          1.1,
          1.2,
          1.3,
          1.4,
          1.5,
          1.6,
          1.7000000000000002,
          1.8,
          1.9,
          2
         ],
         "y": [
          0,
          0,
          0,
          0,
          0,
          0,
          0,
          0,
          0,
          0,
          0
         ]
        },
        {
         "line": {
          "width": 2
         },
         "marker": {
          "size": 5
         },
         "name": "Barra 3",
         "type": "scatter",
         "x": [
          2,
          2.1,
          2.2,
          2.3,
          2.4,
          2.5,
          2.6,
          2.7,
          2.8,
          2.9,
          3
         ],
         "y": [
          0,
          0,
          0,
          0,
          0,
          0,
          0,
          0,
          0,
          0,
          0
         ]
        }
       ],
       "layout": {
        "legend": {
         "title": {
          "text": "Barras"
         }
        },
        "template": {
         "data": {
          "bar": [
           {
            "error_x": {
             "color": "#2a3f5f"
            },
            "error_y": {
             "color": "#2a3f5f"
            },
            "marker": {
             "line": {
              "color": "#E5ECF6",
              "width": 0.5
             }
            },
            "type": "bar"
           }
          ],
          "barpolar": [
           {
            "marker": {
             "line": {
              "color": "#E5ECF6",
              "width": 0.5
             }
            },
            "type": "barpolar"
           }
          ],
          "carpet": [
           {
            "aaxis": {
             "endlinecolor": "#2a3f5f",
             "gridcolor": "white",
             "linecolor": "white",
             "minorgridcolor": "white",
             "startlinecolor": "#2a3f5f"
            },
            "baxis": {
             "endlinecolor": "#2a3f5f",
             "gridcolor": "white",
             "linecolor": "white",
             "minorgridcolor": "white",
             "startlinecolor": "#2a3f5f"
            },
            "type": "carpet"
           }
          ],
          "choropleth": [
           {
            "colorbar": {
             "outlinewidth": 0,
             "ticks": ""
            },
            "type": "choropleth"
           }
          ],
          "contour": [
           {
            "colorbar": {
             "outlinewidth": 0,
             "ticks": ""
            },
            "colorscale": [
             [
              0,
              "#0d0887"
             ],
             [
              0.1111111111111111,
              "#46039f"
             ],
             [
              0.2222222222222222,
              "#7201a8"
             ],
             [
              0.3333333333333333,
              "#9c179e"
             ],
             [
              0.4444444444444444,
              "#bd3786"
             ],
             [
              0.5555555555555556,
              "#d8576b"
             ],
             [
              0.6666666666666666,
              "#ed7953"
             ],
             [
              0.7777777777777778,
              "#fb9f3a"
             ],
             [
              0.8888888888888888,
              "#fdca26"
             ],
             [
              1,
              "#f0f921"
             ]
            ],
            "type": "contour"
           }
          ],
          "contourcarpet": [
           {
            "colorbar": {
             "outlinewidth": 0,
             "ticks": ""
            },
            "type": "contourcarpet"
           }
          ],
          "heatmap": [
           {
            "colorbar": {
             "outlinewidth": 0,
             "ticks": ""
            },
            "colorscale": [
             [
              0,
              "#0d0887"
             ],
             [
              0.1111111111111111,
              "#46039f"
             ],
             [
              0.2222222222222222,
              "#7201a8"
             ],
             [
              0.3333333333333333,
              "#9c179e"
             ],
             [
              0.4444444444444444,
              "#bd3786"
             ],
             [
              0.5555555555555556,
              "#d8576b"
             ],
             [
              0.6666666666666666,
              "#ed7953"
             ],
             [
              0.7777777777777778,
              "#fb9f3a"
             ],
             [
              0.8888888888888888,
              "#fdca26"
             ],
             [
              1,
              "#f0f921"
             ]
            ],
            "type": "heatmap"
           }
          ],
          "heatmapgl": [
           {
            "colorbar": {
             "outlinewidth": 0,
             "ticks": ""
            },
            "colorscale": [
             [
              0,
              "#0d0887"
             ],
             [
              0.1111111111111111,
              "#46039f"
             ],
             [
              0.2222222222222222,
              "#7201a8"
             ],
             [
              0.3333333333333333,
              "#9c179e"
             ],
             [
              0.4444444444444444,
              "#bd3786"
             ],
             [
              0.5555555555555556,
              "#d8576b"
             ],
             [
              0.6666666666666666,
              "#ed7953"
             ],
             [
              0.7777777777777778,
              "#fb9f3a"
             ],
             [
              0.8888888888888888,
              "#fdca26"
             ],
             [
              1,
              "#f0f921"
             ]
            ],
            "type": "heatmapgl"
           }
          ],
          "histogram": [
           {
            "marker": {
             "colorbar": {
              "outlinewidth": 0,
              "ticks": ""
             }
            },
            "type": "histogram"
           }
          ],
          "histogram2d": [
           {
            "colorbar": {
             "outlinewidth": 0,
             "ticks": ""
            },
            "colorscale": [
             [
              0,
              "#0d0887"
             ],
             [
              0.1111111111111111,
              "#46039f"
             ],
             [
              0.2222222222222222,
              "#7201a8"
             ],
             [
              0.3333333333333333,
              "#9c179e"
             ],
             [
              0.4444444444444444,
              "#bd3786"
             ],
             [
              0.5555555555555556,
              "#d8576b"
             ],
             [
              0.6666666666666666,
              "#ed7953"
             ],
             [
              0.7777777777777778,
              "#fb9f3a"
             ],
             [
              0.8888888888888888,
              "#fdca26"
             ],
             [
              1,
              "#f0f921"
             ]
            ],
            "type": "histogram2d"
           }
          ],
          "histogram2dcontour": [
           {
            "colorbar": {
             "outlinewidth": 0,
             "ticks": ""
            },
            "colorscale": [
             [
              0,
              "#0d0887"
             ],
             [
              0.1111111111111111,
              "#46039f"
             ],
             [
              0.2222222222222222,
              "#7201a8"
             ],
             [
              0.3333333333333333,
              "#9c179e"
             ],
             [
              0.4444444444444444,
              "#bd3786"
             ],
             [
              0.5555555555555556,
              "#d8576b"
             ],
             [
              0.6666666666666666,
              "#ed7953"
             ],
             [
              0.7777777777777778,
              "#fb9f3a"
             ],
             [
              0.8888888888888888,
              "#fdca26"
             ],
             [
              1,
              "#f0f921"
             ]
            ],
            "type": "histogram2dcontour"
           }
          ],
          "mesh3d": [
           {
            "colorbar": {
             "outlinewidth": 0,
             "ticks": ""
            },
            "type": "mesh3d"
           }
          ],
          "parcoords": [
           {
            "line": {
             "colorbar": {
              "outlinewidth": 0,
              "ticks": ""
             }
            },
            "type": "parcoords"
           }
          ],
          "pie": [
           {
            "automargin": true,
            "type": "pie"
           }
          ],
          "scatter": [
           {
            "marker": {
             "colorbar": {
              "outlinewidth": 0,
              "ticks": ""
             }
            },
            "type": "scatter"
           }
          ],
          "scatter3d": [
           {
            "line": {
             "colorbar": {
              "outlinewidth": 0,
              "ticks": ""
             }
            },
            "marker": {
             "colorbar": {
              "outlinewidth": 0,
              "ticks": ""
             }
            },
            "type": "scatter3d"
           }
          ],
          "scattercarpet": [
           {
            "marker": {
             "colorbar": {
              "outlinewidth": 0,
              "ticks": ""
             }
            },
            "type": "scattercarpet"
           }
          ],
          "scattergeo": [
           {
            "marker": {
             "colorbar": {
              "outlinewidth": 0,
              "ticks": ""
             }
            },
            "type": "scattergeo"
           }
          ],
          "scattergl": [
           {
            "marker": {
             "colorbar": {
              "outlinewidth": 0,
              "ticks": ""
             }
            },
            "type": "scattergl"
           }
          ],
          "scattermapbox": [
           {
            "marker": {
             "colorbar": {
              "outlinewidth": 0,
              "ticks": ""
             }
            },
            "type": "scattermapbox"
           }
          ],
          "scatterpolar": [
           {
            "marker": {
             "colorbar": {
              "outlinewidth": 0,
              "ticks": ""
             }
            },
            "type": "scatterpolar"
           }
          ],
          "scatterpolargl": [
           {
            "marker": {
             "colorbar": {
              "outlinewidth": 0,
              "ticks": ""
             }
            },
            "type": "scatterpolargl"
           }
          ],
          "scatterternary": [
           {
            "marker": {
             "colorbar": {
              "outlinewidth": 0,
              "ticks": ""
             }
            },
            "type": "scatterternary"
           }
          ],
          "surface": [
           {
            "colorbar": {
             "outlinewidth": 0,
             "ticks": ""
            },
            "colorscale": [
             [
              0,
              "#0d0887"
             ],
             [
              0.1111111111111111,
              "#46039f"
             ],
             [
              0.2222222222222222,
              "#7201a8"
             ],
             [
              0.3333333333333333,
              "#9c179e"
             ],
             [
              0.4444444444444444,
              "#bd3786"
             ],
             [
              0.5555555555555556,
              "#d8576b"
             ],
             [
              0.6666666666666666,
              "#ed7953"
             ],
             [
              0.7777777777777778,
              "#fb9f3a"
             ],
             [
              0.8888888888888888,
              "#fdca26"
             ],
             [
              1,
              "#f0f921"
             ]
            ],
            "type": "surface"
           }
          ],
          "table": [
           {
            "cells": {
             "fill": {
              "color": "#EBF0F8"
             },
             "line": {
              "color": "white"
             }
            },
            "header": {
             "fill": {
              "color": "#C8D4E3"
             },
             "line": {
              "color": "white"
             }
            },
            "type": "table"
           }
          ]
         },
         "layout": {
          "annotationdefaults": {
           "arrowcolor": "#2a3f5f",
           "arrowhead": 0,
           "arrowwidth": 1
          },
          "coloraxis": {
           "colorbar": {
            "outlinewidth": 0,
            "ticks": ""
           }
          },
          "colorscale": {
           "diverging": [
            [
             0,
             "#8e0152"
            ],
            [
             0.1,
             "#c51b7d"
            ],
            [
             0.2,
             "#de77ae"
            ],
            [
             0.3,
             "#f1b6da"
            ],
            [
             0.4,
             "#fde0ef"
            ],
            [
             0.5,
             "#f7f7f7"
            ],
            [
             0.6,
             "#e6f5d0"
            ],
            [
             0.7,
             "#b8e186"
            ],
            [
             0.8,
             "#7fbc41"
            ],
            [
             0.9,
             "#4d9221"
            ],
            [
             1,
             "#276419"
            ]
           ],
           "sequential": [
            [
             0,
             "#0d0887"
            ],
            [
             0.1111111111111111,
             "#46039f"
            ],
            [
             0.2222222222222222,
             "#7201a8"
            ],
            [
             0.3333333333333333,
             "#9c179e"
            ],
            [
             0.4444444444444444,
             "#bd3786"
            ],
            [
             0.5555555555555556,
             "#d8576b"
            ],
            [
             0.6666666666666666,
             "#ed7953"
            ],
            [
             0.7777777777777778,
             "#fb9f3a"
            ],
            [
             0.8888888888888888,
             "#fdca26"
            ],
            [
             1,
             "#f0f921"
            ]
           ],
           "sequentialminus": [
            [
             0,
             "#0d0887"
            ],
            [
             0.1111111111111111,
             "#46039f"
            ],
            [
             0.2222222222222222,
             "#7201a8"
            ],
            [
             0.3333333333333333,
             "#9c179e"
            ],
            [
             0.4444444444444444,
             "#bd3786"
            ],
            [
             0.5555555555555556,
             "#d8576b"
            ],
            [
             0.6666666666666666,
             "#ed7953"
            ],
            [
             0.7777777777777778,
             "#fb9f3a"
            ],
            [
             0.8888888888888888,
             "#fdca26"
            ],
            [
             1,
             "#f0f921"
            ]
           ]
          },
          "colorway": [
           "#636efa",
           "#EF553B",
           "#00cc96",
           "#ab63fa",
           "#FFA15A",
           "#19d3f3",
           "#FF6692",
           "#B6E880",
           "#FF97FF",
           "#FECB52"
          ],
          "font": {
           "color": "#2a3f5f"
          },
          "geo": {
           "bgcolor": "white",
           "lakecolor": "white",
           "landcolor": "#E5ECF6",
           "showlakes": true,
           "showland": true,
           "subunitcolor": "white"
          },
          "hoverlabel": {
           "align": "left"
          },
          "hovermode": "closest",
          "mapbox": {
           "style": "light"
          },
          "paper_bgcolor": "white",
          "plot_bgcolor": "#E5ECF6",
          "polar": {
           "angularaxis": {
            "gridcolor": "white",
            "linecolor": "white",
            "ticks": ""
           },
           "bgcolor": "#E5ECF6",
           "radialaxis": {
            "gridcolor": "white",
            "linecolor": "white",
            "ticks": ""
           }
          },
          "scene": {
           "xaxis": {
            "backgroundcolor": "#E5ECF6",
            "gridcolor": "white",
            "gridwidth": 2,
            "linecolor": "white",
            "showbackground": true,
            "ticks": "",
            "zerolinecolor": "white"
           },
           "yaxis": {
            "backgroundcolor": "#E5ECF6",
            "gridcolor": "white",
            "gridwidth": 2,
            "linecolor": "white",
            "showbackground": true,
            "ticks": "",
            "zerolinecolor": "white"
           },
           "zaxis": {
            "backgroundcolor": "#E5ECF6",
            "gridcolor": "white",
            "gridwidth": 2,
            "linecolor": "white",
            "showbackground": true,
            "ticks": "",
            "zerolinecolor": "white"
           }
          },
          "shapedefaults": {
           "line": {
            "color": "#2a3f5f"
           }
          },
          "ternary": {
           "aaxis": {
            "gridcolor": "white",
            "linecolor": "white",
            "ticks": ""
           },
           "baxis": {
            "gridcolor": "white",
            "linecolor": "white",
            "ticks": ""
           },
           "bgcolor": "#E5ECF6",
           "caxis": {
            "gridcolor": "white",
            "linecolor": "white",
            "ticks": ""
           }
          },
          "title": {
           "x": 0.05
          },
          "xaxis": {
           "automargin": true,
           "gridcolor": "white",
           "linecolor": "white",
           "ticks": "",
           "title": {
            "standoff": 15
           },
           "zerolinecolor": "white",
           "zerolinewidth": 2
          },
          "yaxis": {
           "automargin": true,
           "gridcolor": "white",
           "linecolor": "white",
           "ticks": "",
           "title": {
            "standoff": 15
           },
           "zerolinecolor": "white",
           "zerolinewidth": 2
          }
         }
        },
        "xaxis": {
         "title": {
          "text": "$x[m]$"
         }
        },
        "yaxis": {
         "title": {
          "text": "$y[m]$"
         }
        }
       }
      },
      "text/html": [
       "<div>\n",
       "        \n",
       "        \n",
       "            <div id=\"4a8d4bf6-862c-47de-b50f-fb4a0dd55efa\" class=\"plotly-graph-div\" style=\"height:525px; width:100%;\"></div>\n",
       "            <script type=\"text/javascript\">\n",
       "                require([\"plotly\"], function(Plotly) {\n",
       "                    window.PLOTLYENV=window.PLOTLYENV || {};\n",
       "                    \n",
       "                if (document.getElementById(\"4a8d4bf6-862c-47de-b50f-fb4a0dd55efa\")) {\n",
       "                    Plotly.newPlot(\n",
       "                        '4a8d4bf6-862c-47de-b50f-fb4a0dd55efa',\n",
       "                        [{\"line\": {\"width\": 2}, \"marker\": {\"size\": 5}, \"name\": \"Barra 1\", \"type\": \"scatter\", \"x\": [0.0, 0.1, 0.2, 0.30000000000000004, 0.4, 0.5, 0.6000000000000001, 0.7000000000000001, 0.8, 0.9, 1.0], \"y\": [0.0, 0.0, 0.0, 0.0, 0.0, 0.0, 0.0, 0.0, 0.0, 0.0, 0.0]}, {\"line\": {\"width\": 2}, \"marker\": {\"size\": 5}, \"name\": \"Barra 2\", \"type\": \"scatter\", \"x\": [1.0, 1.1, 1.2, 1.3, 1.4, 1.5, 1.6, 1.7000000000000002, 1.8, 1.9, 2.0], \"y\": [0.0, 0.0, 0.0, 0.0, 0.0, 0.0, 0.0, 0.0, 0.0, 0.0, 0.0]}, {\"line\": {\"width\": 2}, \"marker\": {\"size\": 5}, \"name\": \"Barra 3\", \"type\": \"scatter\", \"x\": [2.0, 2.1, 2.2, 2.3, 2.4, 2.5, 2.6, 2.7, 2.8, 2.9, 3.0], \"y\": [0.0, 0.0, 0.0, 0.0, 0.0, 0.0, 0.0, 0.0, 0.0, 0.0, 0.0]}],\n",
       "                        {\"legend\": {\"title\": {\"text\": \"Barras\"}}, \"template\": {\"data\": {\"bar\": [{\"error_x\": {\"color\": \"#2a3f5f\"}, \"error_y\": {\"color\": \"#2a3f5f\"}, \"marker\": {\"line\": {\"color\": \"#E5ECF6\", \"width\": 0.5}}, \"type\": \"bar\"}], \"barpolar\": [{\"marker\": {\"line\": {\"color\": \"#E5ECF6\", \"width\": 0.5}}, \"type\": \"barpolar\"}], \"carpet\": [{\"aaxis\": {\"endlinecolor\": \"#2a3f5f\", \"gridcolor\": \"white\", \"linecolor\": \"white\", \"minorgridcolor\": \"white\", \"startlinecolor\": \"#2a3f5f\"}, \"baxis\": {\"endlinecolor\": \"#2a3f5f\", \"gridcolor\": \"white\", \"linecolor\": \"white\", \"minorgridcolor\": \"white\", \"startlinecolor\": \"#2a3f5f\"}, \"type\": \"carpet\"}], \"choropleth\": [{\"colorbar\": {\"outlinewidth\": 0, \"ticks\": \"\"}, \"type\": \"choropleth\"}], \"contour\": [{\"colorbar\": {\"outlinewidth\": 0, \"ticks\": \"\"}, \"colorscale\": [[0.0, \"#0d0887\"], [0.1111111111111111, \"#46039f\"], [0.2222222222222222, \"#7201a8\"], [0.3333333333333333, \"#9c179e\"], [0.4444444444444444, \"#bd3786\"], [0.5555555555555556, \"#d8576b\"], [0.6666666666666666, \"#ed7953\"], [0.7777777777777778, \"#fb9f3a\"], [0.8888888888888888, \"#fdca26\"], [1.0, \"#f0f921\"]], \"type\": \"contour\"}], \"contourcarpet\": [{\"colorbar\": {\"outlinewidth\": 0, \"ticks\": \"\"}, \"type\": \"contourcarpet\"}], \"heatmap\": [{\"colorbar\": {\"outlinewidth\": 0, \"ticks\": \"\"}, \"colorscale\": [[0.0, \"#0d0887\"], [0.1111111111111111, \"#46039f\"], [0.2222222222222222, \"#7201a8\"], [0.3333333333333333, \"#9c179e\"], [0.4444444444444444, \"#bd3786\"], [0.5555555555555556, \"#d8576b\"], [0.6666666666666666, \"#ed7953\"], [0.7777777777777778, \"#fb9f3a\"], [0.8888888888888888, \"#fdca26\"], [1.0, \"#f0f921\"]], \"type\": \"heatmap\"}], \"heatmapgl\": [{\"colorbar\": {\"outlinewidth\": 0, \"ticks\": \"\"}, \"colorscale\": [[0.0, \"#0d0887\"], [0.1111111111111111, \"#46039f\"], [0.2222222222222222, \"#7201a8\"], [0.3333333333333333, \"#9c179e\"], [0.4444444444444444, \"#bd3786\"], [0.5555555555555556, \"#d8576b\"], [0.6666666666666666, \"#ed7953\"], [0.7777777777777778, \"#fb9f3a\"], [0.8888888888888888, \"#fdca26\"], [1.0, \"#f0f921\"]], \"type\": \"heatmapgl\"}], \"histogram\": [{\"marker\": {\"colorbar\": {\"outlinewidth\": 0, \"ticks\": \"\"}}, \"type\": \"histogram\"}], \"histogram2d\": [{\"colorbar\": {\"outlinewidth\": 0, \"ticks\": \"\"}, \"colorscale\": [[0.0, \"#0d0887\"], [0.1111111111111111, \"#46039f\"], [0.2222222222222222, \"#7201a8\"], [0.3333333333333333, \"#9c179e\"], [0.4444444444444444, \"#bd3786\"], [0.5555555555555556, \"#d8576b\"], [0.6666666666666666, \"#ed7953\"], [0.7777777777777778, \"#fb9f3a\"], [0.8888888888888888, \"#fdca26\"], [1.0, \"#f0f921\"]], \"type\": \"histogram2d\"}], \"histogram2dcontour\": [{\"colorbar\": {\"outlinewidth\": 0, \"ticks\": \"\"}, \"colorscale\": [[0.0, \"#0d0887\"], [0.1111111111111111, \"#46039f\"], [0.2222222222222222, \"#7201a8\"], [0.3333333333333333, \"#9c179e\"], [0.4444444444444444, \"#bd3786\"], [0.5555555555555556, \"#d8576b\"], [0.6666666666666666, \"#ed7953\"], [0.7777777777777778, \"#fb9f3a\"], [0.8888888888888888, \"#fdca26\"], [1.0, \"#f0f921\"]], \"type\": \"histogram2dcontour\"}], \"mesh3d\": [{\"colorbar\": {\"outlinewidth\": 0, \"ticks\": \"\"}, \"type\": \"mesh3d\"}], \"parcoords\": [{\"line\": {\"colorbar\": {\"outlinewidth\": 0, \"ticks\": \"\"}}, \"type\": \"parcoords\"}], \"pie\": [{\"automargin\": true, \"type\": \"pie\"}], \"scatter\": [{\"marker\": {\"colorbar\": {\"outlinewidth\": 0, \"ticks\": \"\"}}, \"type\": \"scatter\"}], \"scatter3d\": [{\"line\": {\"colorbar\": {\"outlinewidth\": 0, \"ticks\": \"\"}}, \"marker\": {\"colorbar\": {\"outlinewidth\": 0, \"ticks\": \"\"}}, \"type\": \"scatter3d\"}], \"scattercarpet\": [{\"marker\": {\"colorbar\": {\"outlinewidth\": 0, \"ticks\": \"\"}}, \"type\": \"scattercarpet\"}], \"scattergeo\": [{\"marker\": {\"colorbar\": {\"outlinewidth\": 0, \"ticks\": \"\"}}, \"type\": \"scattergeo\"}], \"scattergl\": [{\"marker\": {\"colorbar\": {\"outlinewidth\": 0, \"ticks\": \"\"}}, \"type\": \"scattergl\"}], \"scattermapbox\": [{\"marker\": {\"colorbar\": {\"outlinewidth\": 0, \"ticks\": \"\"}}, \"type\": \"scattermapbox\"}], \"scatterpolar\": [{\"marker\": {\"colorbar\": {\"outlinewidth\": 0, \"ticks\": \"\"}}, \"type\": \"scatterpolar\"}], \"scatterpolargl\": [{\"marker\": {\"colorbar\": {\"outlinewidth\": 0, \"ticks\": \"\"}}, \"type\": \"scatterpolargl\"}], \"scatterternary\": [{\"marker\": {\"colorbar\": {\"outlinewidth\": 0, \"ticks\": \"\"}}, \"type\": \"scatterternary\"}], \"surface\": [{\"colorbar\": {\"outlinewidth\": 0, \"ticks\": \"\"}, \"colorscale\": [[0.0, \"#0d0887\"], [0.1111111111111111, \"#46039f\"], [0.2222222222222222, \"#7201a8\"], [0.3333333333333333, \"#9c179e\"], [0.4444444444444444, \"#bd3786\"], [0.5555555555555556, \"#d8576b\"], [0.6666666666666666, \"#ed7953\"], [0.7777777777777778, \"#fb9f3a\"], [0.8888888888888888, \"#fdca26\"], [1.0, \"#f0f921\"]], \"type\": \"surface\"}], \"table\": [{\"cells\": {\"fill\": {\"color\": \"#EBF0F8\"}, \"line\": {\"color\": \"white\"}}, \"header\": {\"fill\": {\"color\": \"#C8D4E3\"}, \"line\": {\"color\": \"white\"}}, \"type\": \"table\"}]}, \"layout\": {\"annotationdefaults\": {\"arrowcolor\": \"#2a3f5f\", \"arrowhead\": 0, \"arrowwidth\": 1}, \"coloraxis\": {\"colorbar\": {\"outlinewidth\": 0, \"ticks\": \"\"}}, \"colorscale\": {\"diverging\": [[0, \"#8e0152\"], [0.1, \"#c51b7d\"], [0.2, \"#de77ae\"], [0.3, \"#f1b6da\"], [0.4, \"#fde0ef\"], [0.5, \"#f7f7f7\"], [0.6, \"#e6f5d0\"], [0.7, \"#b8e186\"], [0.8, \"#7fbc41\"], [0.9, \"#4d9221\"], [1, \"#276419\"]], \"sequential\": [[0.0, \"#0d0887\"], [0.1111111111111111, \"#46039f\"], [0.2222222222222222, \"#7201a8\"], [0.3333333333333333, \"#9c179e\"], [0.4444444444444444, \"#bd3786\"], [0.5555555555555556, \"#d8576b\"], [0.6666666666666666, \"#ed7953\"], [0.7777777777777778, \"#fb9f3a\"], [0.8888888888888888, \"#fdca26\"], [1.0, \"#f0f921\"]], \"sequentialminus\": [[0.0, \"#0d0887\"], [0.1111111111111111, \"#46039f\"], [0.2222222222222222, \"#7201a8\"], [0.3333333333333333, \"#9c179e\"], [0.4444444444444444, \"#bd3786\"], [0.5555555555555556, \"#d8576b\"], [0.6666666666666666, \"#ed7953\"], [0.7777777777777778, \"#fb9f3a\"], [0.8888888888888888, \"#fdca26\"], [1.0, \"#f0f921\"]]}, \"colorway\": [\"#636efa\", \"#EF553B\", \"#00cc96\", \"#ab63fa\", \"#FFA15A\", \"#19d3f3\", \"#FF6692\", \"#B6E880\", \"#FF97FF\", \"#FECB52\"], \"font\": {\"color\": \"#2a3f5f\"}, \"geo\": {\"bgcolor\": \"white\", \"lakecolor\": \"white\", \"landcolor\": \"#E5ECF6\", \"showlakes\": true, \"showland\": true, \"subunitcolor\": \"white\"}, \"hoverlabel\": {\"align\": \"left\"}, \"hovermode\": \"closest\", \"mapbox\": {\"style\": \"light\"}, \"paper_bgcolor\": \"white\", \"plot_bgcolor\": \"#E5ECF6\", \"polar\": {\"angularaxis\": {\"gridcolor\": \"white\", \"linecolor\": \"white\", \"ticks\": \"\"}, \"bgcolor\": \"#E5ECF6\", \"radialaxis\": {\"gridcolor\": \"white\", \"linecolor\": \"white\", \"ticks\": \"\"}}, \"scene\": {\"xaxis\": {\"backgroundcolor\": \"#E5ECF6\", \"gridcolor\": \"white\", \"gridwidth\": 2, \"linecolor\": \"white\", \"showbackground\": true, \"ticks\": \"\", \"zerolinecolor\": \"white\"}, \"yaxis\": {\"backgroundcolor\": \"#E5ECF6\", \"gridcolor\": \"white\", \"gridwidth\": 2, \"linecolor\": \"white\", \"showbackground\": true, \"ticks\": \"\", \"zerolinecolor\": \"white\"}, \"zaxis\": {\"backgroundcolor\": \"#E5ECF6\", \"gridcolor\": \"white\", \"gridwidth\": 2, \"linecolor\": \"white\", \"showbackground\": true, \"ticks\": \"\", \"zerolinecolor\": \"white\"}}, \"shapedefaults\": {\"line\": {\"color\": \"#2a3f5f\"}}, \"ternary\": {\"aaxis\": {\"gridcolor\": \"white\", \"linecolor\": \"white\", \"ticks\": \"\"}, \"baxis\": {\"gridcolor\": \"white\", \"linecolor\": \"white\", \"ticks\": \"\"}, \"bgcolor\": \"#E5ECF6\", \"caxis\": {\"gridcolor\": \"white\", \"linecolor\": \"white\", \"ticks\": \"\"}}, \"title\": {\"x\": 0.05}, \"xaxis\": {\"automargin\": true, \"gridcolor\": \"white\", \"linecolor\": \"white\", \"ticks\": \"\", \"title\": {\"standoff\": 15}, \"zerolinecolor\": \"white\", \"zerolinewidth\": 2}, \"yaxis\": {\"automargin\": true, \"gridcolor\": \"white\", \"linecolor\": \"white\", \"ticks\": \"\", \"title\": {\"standoff\": 15}, \"zerolinecolor\": \"white\", \"zerolinewidth\": 2}}}, \"xaxis\": {\"title\": {\"text\": \"$x[m]$\"}}, \"yaxis\": {\"title\": {\"text\": \"$y[m]$\"}}},\n",
       "                        {\"responsive\": true}\n",
       "                    ).then(function(){\n",
       "                            \n",
       "var gd = document.getElementById('4a8d4bf6-862c-47de-b50f-fb4a0dd55efa');\n",
       "var x = new MutationObserver(function (mutations, observer) {{\n",
       "        var display = window.getComputedStyle(gd).display;\n",
       "        if (!display || display === 'none') {{\n",
       "            console.log([gd, 'removed!']);\n",
       "            Plotly.purge(gd);\n",
       "            observer.disconnect();\n",
       "        }}\n",
       "}});\n",
       "\n",
       "// Listen for the removal of the full notebook cells\n",
       "var notebookContainer = gd.closest('#notebook-container');\n",
       "if (notebookContainer) {{\n",
       "    x.observe(notebookContainer, {childList: true});\n",
       "}}\n",
       "\n",
       "// Listen for the clearing of the current output cell\n",
       "var outputEl = gd.closest('.output');\n",
       "if (outputEl) {{\n",
       "    x.observe(outputEl, {childList: true});\n",
       "}}\n",
       "\n",
       "                        })\n",
       "                };\n",
       "                });\n",
       "            </script>\n",
       "        </div>"
      ]
     },
     "metadata": {},
     "output_type": "display_data"
    }
   ],
   "source": [
    "exemplo2 = Structure(readjson(\"exemplo2.json\"))\n",
    "figura2 = exemplo2.show()\n",
    "iplot(figura2)"
   ]
  }
 ],
 "metadata": {
  "kernelspec": {
   "display_name": "Python 3",
   "language": "python",
   "name": "python3"
  },
  "language_info": {
   "codemirror_mode": {
    "name": "ipython",
    "version": 3
   },
   "file_extension": ".py",
   "mimetype": "text/x-python",
   "name": "python",
   "nbconvert_exporter": "python",
   "pygments_lexer": "ipython3",
   "version": "3.8.2"
  }
 },
 "nbformat": 4,
 "nbformat_minor": 4
}
