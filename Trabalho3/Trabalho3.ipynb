{
 "cells": [
  {
   "cell_type": "markdown",
   "metadata": {},
   "source": [
    "# Método dos Elementos Finitos - Trabalho 3"
   ]
  },
  {
   "cell_type": "markdown",
   "metadata": {},
   "source": [
    "Universidade Federal Fluminense\n",
    "\n",
    "Disciplina ministrada pelo Prof. Marco Ferro\n",
    "\n",
    "<marcoferro@id.uff.br>\n",
    "\n",
    "Aluno Noé de Lima\n",
    "\n",
    "<noe_lima@id.uff.br>\n",
    "\n",
    "Este trabalho visa aplicar o MEF a uma estrutura de vigas.\n",
    "\n",
    "Primeiro semestre de 2020\n",
    "\n",
    "\\vfill"
   ]
  },
  {
   "cell_type": "markdown",
   "metadata": {},
   "source": [
    "A célula a seguir configura o Jupyter-Notebook para exibir as equações matemáticas no formato do ambiente $\\LaTeX$ e importa as bibliotecas necessárias."
   ]
  },
  {
   "cell_type": "code",
   "execution_count": 174,
   "metadata": {
    "tags": []
   },
   "outputs": [
    {
     "output_type": "stream",
     "name": "stdout",
     "text": "Linux DESKTOP-CR7O8A2 4.19.104-microsoft-standard #1 SMP Wed Feb 19 06:37:35 UTC 2020 x86_64 x86_64 x86_64 GNU/Linux\n"
    }
   ],
   "source": [
    "import numpy as np\n",
    "import sympy as sym\n",
    "import json\n",
    "sym.init_printing(use_latex='mathjax',latex_mode='equation*')\n",
    "!uname -a"
   ]
  },
  {
   "cell_type": "markdown",
   "metadata": {},
   "source": [
    "\\cleardoublepage\n",
    "\n",
    "\\tableofcontents\n",
    "\n",
    "\\cleardoublepage"
   ]
  },
  {
   "cell_type": "markdown",
   "metadata": {},
   "source": [
    "# Introdução"
   ]
  },
  {
   "cell_type": "markdown",
   "metadata": {},
   "source": [
    "Em uma estrutura de treliças, cada barra é um elemento, e o Método dos Elementos Finitos coincide com a Análise Matricial de Estruturas. Considerando que todos os esforços na treliça são normais, não há cargas transversais, o problema, visto do ponto de vista das barras, é unidimensional, pois, da mesma forma que os esforços, os deslocamentos também são na mesma direção das barras.\n",
    "\n",
    "No caso de vigas, havendo momento fletor (ou torçor), tanto direto como em consequência de esforço cortante, há deformação no sentido perpendicular à viga, bem como rotação pontual em decorrência da deformação. Assim, uma viga será discretizada na forma de uma malha compostas por pequenos segmentos.\n",
    "\n",
    "Em um Elemento de Viga, cujo eixo principal é o eixo $x$, temos:\n",
    "\n",
    "* $V_{1} \\rightarrow$ Força perpendicular no início do Elemento;\n",
    "* $V_{2} \\rightarrow$ Força perpendicular no final do Elemento;\n",
    "* $P \\rightarrow$ Carga perpendicular distribuída;\n",
    "* $M_{1} \\rightarrow$ Momento no início do Elemento;\n",
    "* $M_{2} \\rightarrow$ Momento no final do Elemento;\n",
    "* $L \\rightarrow$ Comprimento do Elemento.\n",
    "\n",
    "Bem como os deslocamentos:\n",
    "* $u_{1}=\\delta_{1}\\rightarrow$ deflexão $\\delta$ no início do Elemento;\n",
    "* $u_{2}=\\theta_{1}\\rightarrow$ inclinação $\\theta$ no início do Elemento;\n",
    "* $u_{3}=\\delta_{2}\\rightarrow$ deflexão $\\delta$ no final do Elemento;\n",
    "* $u_{4}=\\theta_{2}\\rightarrow$ inclinação $\\theta$ no final do Elemento.\n",
    "\n",
    "No caso de uma viga retangular de largura $b$ e altura $h$, temos o momento de inércia:\n",
    "\n",
    "\\begin{equation*}\n",
    "    I = \\frac{bh^{3}}{12}\n",
    "\\end{equation*}\n",
    "\n",
    "Assim, sendo o Módulo de Elasticidade $E$ constante, o produto $EI$ também será.\n",
    "\n",
    "Temos, portanto, a seguinte equação diferencial da viga:\n",
    "\n",
    "\\begin{equation*}\n",
    "    EI\\frac{d^{4}u}{dx^{4}} = P\n",
    "\\end{equation*}\n",
    "\n",
    "Tem-se que:\n",
    "\n",
    "\\begin{equation*}\n",
    "    V = EI\\frac{d^{3}u}{dx^{3}}\n",
    "\\end{equation*}\n",
    "\n",
    "E\n",
    "\n",
    "\\begin{equation*}\n",
    "    M = EI\\frac{d^{2}u}{dx^{2}}\n",
    "\\end{equation*}"
   ]
  },
  {
   "cell_type": "markdown",
   "metadata": {},
   "source": [
    "Aplicando a SRP - Sentença de Resíduos Ponderados - na EDO da viga, resulta:\n",
    "\n",
    "\\begin{equation*}\n",
    "    \\int_{\\Omega}{N_{i}R}d\\Omega = 0\n",
    "\\end{equation*}\n",
    "\n",
    "$$\\therefore$$\n",
    "\n",
    "\\begin{equation*}\n",
    "    \\int_{0}^{L}{N_{i}\\left(EI\\frac{d^{4}u}{dx^{4}}-P\\right)}dx = 0\n",
    "\\end{equation*}\n"
   ]
  },
  {
   "cell_type": "code",
   "execution_count": 175,
   "metadata": {
    "tags": []
   },
   "outputs": [
    {
     "output_type": "display_data",
     "data": {
      "text/plain": "L                             \n⌠                             \n⎮ ⎛      4          ⎞         \n⎮ ⎜     d           ⎟         \n⎮ ⎜E⋅I⋅───(u(x)) - P⎟⋅Nᵢ(x) dx\n⎮ ⎜      4          ⎟         \n⎮ ⎝    dx           ⎠         \n⌡                             \n0                             ",
      "text/latex": "\\begin{equation*}\\int\\limits_{0}^{L} \\left(E I \\frac{d^{4}}{d x^{4}} u{\\left(x \\right)} - P\\right) \\operatorname{N_{i}}{\\left(x \\right)}\\, dx\\end{equation*}"
     },
     "metadata": {}
    }
   ],
   "source": [
    "x = sym.symbols('x')\n",
    "P = sym.symbols('P')\n",
    "E,I,L = sym.symbols('E,I,L')\n",
    "u = sym.Function('u')\n",
    "N_i = sym.symbols('N_i',cls=sym.Function)\n",
    "R = E*I*sym.diff(u(x),x,4)-P\n",
    "SRP = sym.integrate(N_i(x)*R,(x,0,L))\n",
    "display(SRP.doit())"
   ]
  },
  {
   "cell_type": "markdown",
   "metadata": {},
   "source": [
    "Essa integral não pode ser resolvida pelos métodos sym.dsolve(sym.Eq(SRP,0),u(x)) ou SRP.doit(), pois o nível de complexidade ainda não foi implementado na biblioteca.\n",
    "\n",
    "Utilizando a integração por partes, obtém-se o seguinte:"
   ]
  },
  {
   "cell_type": "code",
   "execution_count": 176,
   "metadata": {},
   "outputs": [
    {
     "output_type": "display_data",
     "data": {
      "text/plain": "    L                       \n    ⌠                       \n    ⎮             3         \n    ⎮ d          d          \nE⋅I⋅⎮ ──(Nᵢ(x))⋅───(u(x)) dx\n    ⎮ dx          3         \n    ⎮           dx          \n    ⌡                       \n    0                       ",
      "text/latex": "\\begin{equation*}E I \\int\\limits_{0}^{L} \\frac{d}{d x} \\operatorname{N_{i}}{\\left(x \\right)} \\frac{d^{3}}{d x^{3}} u{\\left(x \\right)}\\, dx\\end{equation*}"
     },
     "metadata": {}
    }
   ],
   "source": [
    "eq = sym.integrate(E*I*(sym.diff(N_i(x),x)*sym.diff(u(x),x,3)),(x,0,L))\n",
    "display(eq.doit())"
   ]
  },
  {
   "cell_type": "code",
   "execution_count": 177,
   "metadata": {},
   "outputs": [],
   "source": [
    "N_1,N_2,N_3,N_4 = sym.symbols('N_1,N_2,N_3,N_4',cls=sym.Function)\n",
    "#display(sym.dsolve(sym.Eq(sym.diff(N_1(x),x,2),0),ics={N_1(0):1,N_1(L):0}))\n",
    "#display(sym.dsolve(sym.Eq(sym.diff(N_2(x),x,2),0),ics={N_2(x).diff(x).subs(x, L):1,N_2(x).diff(x).subs(x, L):0}))\n",
    "#display(sym.dsolve(sym.Eq(sym.diff(N_3(x),x,2),0),ics={N_3(0):0,N_3(L):1}))\n",
    "#display(sym.dsolve(sym.Eq(sym.diff(N_4(x),x,2),0),ics={N_4(x).diff(x).subs(x, L):1,N_4(x).diff(x).subs(x, L):0}))"
   ]
  },
  {
   "cell_type": "markdown",
   "metadata": {},
   "source": [
    "# Matriz de Rigidez Local"
   ]
  },
  {
   "cell_type": "code",
   "execution_count": 178,
   "metadata": {
    "tags": []
   },
   "outputs": [
    {
     "output_type": "display_data",
     "data": {
      "text/plain": "⎡ 12    6   -12    6 ⎤\n⎢ ──    ─   ────   ─ ⎥\n⎢  2    L     2    L ⎥\n⎢ L          L       ⎥\n⎢                    ⎥\n⎢ 6         -6       ⎥\n⎢ ─     4   ───    2 ⎥\n⎢ L          L       ⎥\n⎢                    ⎥\n⎢-12   -6    12   -6 ⎥\n⎢────  ───   ──   ───⎥\n⎢  2    L     2    L ⎥\n⎢ L          L       ⎥\n⎢                    ⎥\n⎢ 6         -6       ⎥\n⎢ ─     2   ───    4 ⎥\n⎣ L          L       ⎦",
      "text/latex": "\\begin{equation*}\\left[\\begin{matrix}\\frac{12}{L^{2}} & \\frac{6}{L} & - \\frac{12}{L^{2}} & \\frac{6}{L}\\\\\\frac{6}{L} & 4 & - \\frac{6}{L} & 2\\\\- \\frac{12}{L^{2}} & - \\frac{6}{L} & \\frac{12}{L^{2}} & - \\frac{6}{L}\\\\\\frac{6}{L} & 2 & - \\frac{6}{L} & 4\\end{matrix}\\right]\\end{equation*}"
     },
     "metadata": {}
    }
   ],
   "source": [
    "K_e = sym.Matrix([[0,0,0,0],[0,0,0,0],[0,0,0,0],[0,0,0,0]])\n",
    "\n",
    "K_e[0,0] = 12*E*I/L**3\n",
    "K_e[0,1] = 6*E*I/L**2\n",
    "K_e[0,2] = -12*E*I/L**3\n",
    "K_e[0,3] = 6*E*I/L**2\n",
    "\n",
    "K_e[1,0] = K_e[0,1]\n",
    "K_e[1,1] = 4*E*I/L\n",
    "K_e[1,2] = -6*E*I/L**2\n",
    "K_e[1,3] = 2*E*I/L\n",
    "\n",
    "K_e[2,0] = K_e[0,2]\n",
    "K_e[2,1] = K_e[1,2]\n",
    "K_e[2,2] = 12*E*I/L**3\n",
    "K_e[2,3] = -6*E*I/L**2\n",
    "\n",
    "K_e[3,0] = K_e[0,3]\n",
    "K_e[3,1] = K_e[1,3]\n",
    "K_e[3,2] = K_e[2,3]\n",
    "K_e[3,3] = 4*E*I/L\n",
    "\n",
    "display(K_e/(E*I/L))"
   ]
  },
  {
   "cell_type": "markdown",
   "metadata": {},
   "source": [
    "# Vetor Local de Forças Nodais"
   ]
  },
  {
   "cell_type": "code",
   "execution_count": 179,
   "metadata": {},
   "outputs": [
    {
     "output_type": "display_data",
     "data": {
      "text/plain": "⎡ L⋅P       ⎤\n⎢ ─── + V₁  ⎥\n⎢  2        ⎥\n⎢           ⎥\n⎢  2        ⎥\n⎢ L ⋅P      ⎥\n⎢ ──── - M₁ ⎥\n⎢  12       ⎥\n⎢           ⎥\n⎢ L⋅P       ⎥\n⎢ ─── - V₂  ⎥\n⎢  2        ⎥\n⎢           ⎥\n⎢   2       ⎥\n⎢  L ⋅P     ⎥\n⎢- ──── + M₂⎥\n⎣   12      ⎦",
      "text/latex": "\\begin{equation*}\\left[\\begin{matrix}\\frac{L P}{2} + V_{1}\\\\\\frac{L^{2} P}{12} - M_{1}\\\\\\frac{L P}{2} - V_{2}\\\\- \\frac{L^{2} P}{12} + M_{2}\\end{matrix}\\right]\\end{equation*}"
     },
     "metadata": {}
    }
   ],
   "source": [
    "V_1,M_1,V_2,M_2 = sym.symbols('V_1,M_1,V_2,M_2')\n",
    "f_e = sym.Matrix([V_1,-M_1,-V_2,M_2])\n",
    "\n",
    "f_e[0] += P*L/2\n",
    "f_e[1] += P*L**2/12\n",
    "f_e[2] += P*L/2\n",
    "f_e[3] += -P*L**2/12\n",
    "\n",
    "display(f_e)"
   ]
  },
  {
   "cell_type": "markdown",
   "metadata": {},
   "source": [
    "# Exemplo Analítico"
   ]
  },
  {
   "cell_type": "markdown",
   "metadata": {},
   "source": [
    "A partir da definição da Matriz de Rigidez e do Vetor de Cargas Nodais dentro de um único Elemento $e$, podemos expandir para uma viga (ou diversas vigas) em uma estrutura dividida em $n$ Elementos.\n",
    "\n",
    "Vamos utilizar, como exemplo, uma viga biapoiada de $2~m$ de comprimento, sendo o apoio no início do vão, de segundo gênero, e o do final do vão, de primeiro gênero. A viga está sujeita a uma carga uniformemente distribuída $P = 10~kN/m$ e tem o produto constante $EI = 10^{2}kNm^{2}$. O problema consiste em calcular o deslocamento e o momento no centro do vão, bem como as reações e as rotações nos apoios.\n",
    "\n",
    "A solução analítica do problema é:\n",
    "\n",
    "$$u =$$"
   ]
  },
  {
   "cell_type": "code",
   "execution_count": 180,
   "metadata": {},
   "outputs": [
    {
     "output_type": "display_data",
     "data": {
      "text/plain": "                    4  \n0.0130208333333333⋅L ⋅P\n───────────────────────\n          E⋅I          ",
      "text/latex": "\\begin{equation*}\\frac{0.0130208333333333 L^{4} P}{E I}\\end{equation*}"
     },
     "metadata": {}
    },
    {
     "output_type": "display_data",
     "data": {
      "text/plain": "0.0208333333333333",
      "text/latex": "\\begin{equation*}0.0208333333333333\\end{equation*}"
     },
     "metadata": {}
    }
   ],
   "source": [
    "u = (5/384)*(P*L**4)/(E*I)\n",
    "display(u)\n",
    "display(u.subs(P,10).subs(L,2).subs(E*I,10**2))"
   ]
  },
  {
   "cell_type": "markdown",
   "metadata": {},
   "source": [
    "$$M =$$"
   ]
  },
  {
   "cell_type": "code",
   "execution_count": 181,
   "metadata": {},
   "outputs": [
    {
     "output_type": "display_data",
     "data": {
      "text/plain": " 2  \nL ⋅P\n────\n 8  ",
      "text/latex": "\\begin{equation*}\\frac{L^{2} P}{8}\\end{equation*}"
     },
     "metadata": {}
    },
    {
     "output_type": "display_data",
     "data": {
      "text/plain": "5",
      "text/latex": "\\begin{equation*}5\\end{equation*}"
     },
     "metadata": {}
    }
   ],
   "source": [
    "M = (P*L**2)/8\n",
    "display(M)\n",
    "display(M.subs(P,10).subs(L,2))"
   ]
  },
  {
   "cell_type": "markdown",
   "metadata": {},
   "source": [
    "$$\\theta_{A} = -\\theta_{B} =$$"
   ]
  },
  {
   "cell_type": "code",
   "execution_count": 182,
   "metadata": {},
   "outputs": [
    {
     "output_type": "display_data",
     "data": {
      "text/plain": "  3   \n L ⋅P \n──────\n24⋅E⋅I",
      "text/latex": "\\begin{equation*}\\frac{L^{3} P}{24 E I}\\end{equation*}"
     },
     "metadata": {}
    },
    {
     "output_type": "display_data",
     "data": {
      "text/plain": "1/30",
      "text/latex": "\\begin{equation*}\\frac{1}{30}\\end{equation*}"
     },
     "metadata": {}
    }
   ],
   "source": [
    "theta_A = (P*L**3)/(24*E*I)\n",
    "display(theta_A)\n",
    "display(theta_A.subs(P,10).subs(L,2).subs(E*I,10**2))"
   ]
  },
  {
   "cell_type": "markdown",
   "metadata": {},
   "source": [
    "$$V_{A} = V_{B} =$$"
   ]
  },
  {
   "cell_type": "code",
   "execution_count": 183,
   "metadata": {},
   "outputs": [
    {
     "output_type": "display_data",
     "data": {
      "text/plain": "L⋅P\n───\n 2 ",
      "text/latex": "\\begin{equation*}\\frac{L P}{2}\\end{equation*}"
     },
     "metadata": {}
    },
    {
     "output_type": "display_data",
     "data": {
      "text/plain": "10",
      "text/latex": "\\begin{equation*}10\\end{equation*}"
     },
     "metadata": {}
    }
   ],
   "source": [
    "V_A = P*L/2\n",
    "display(V_A)\n",
    "display(V_A.subs(P,10).subs(L,2))"
   ]
  },
  {
   "cell_type": "markdown",
   "metadata": {},
   "source": [
    "Considerando dois Elementos na solução, temos então:"
   ]
  },
  {
   "cell_type": "markdown",
   "metadata": {},
   "source": [
    "## Elemento 1\n",
    "\n",
    "### Variáveis de Deformação\n",
    "\n",
    "* $u_{1}^{1}\\rightarrow$ deflexão $\\delta$ no primeiro apoio;\n",
    "\n",
    "* $u_{2}^{1}\\rightarrow$ rotação $\\theta$ no primeiro apoio;\n",
    "\n",
    "* $u_{3}^{1}\\rightarrow$ deflexão $\\delta$ no centro do vão;\n",
    "\n",
    "* $u_{4}^{1}\\rightarrow$ rotação $\\theta$ no centro do vão.\n",
    "\n",
    "### Variáveis de Carregamento\n",
    "\n",
    "* $M_{1}^{1}\\rightarrow$ Momento Fletor no primeiro apoio;\n",
    "\n",
    "* $V_{1}^{1}\\rightarrow$ Força Cortante no primeiro apoio;\n",
    "\n",
    "* $M_{2}^{1}\\rightarrow$ Momento Fletor no centro do vão;\n",
    "\n",
    "* $V_{2}^{1}\\rightarrow$ Força Cortante no centro do vão."
   ]
  },
  {
   "cell_type": "markdown",
   "metadata": {},
   "source": [
    "## Elemento 2\n",
    "\n",
    "### Variáveis de Deformação\n",
    "\n",
    "* $u_{1}^{2}\\rightarrow$ deflexão $\\delta$ no centro do vão;\n",
    "\n",
    "* $u_{2}^{2}\\rightarrow$ rotação $\\theta$ no centro do vão;\n",
    "\n",
    "* $u_{3}^{2}\\rightarrow$ deflexão $\\delta$ no segundo apoio;\n",
    "\n",
    "* $u_{4}^{2}\\rightarrow$ rotação $\\theta$ no segundo apoio.\n",
    "\n",
    "### Variáveis de Carregamento\n",
    "\n",
    "* $M_{1}^{2}\\rightarrow$ Momento Fletor no centro do vão;\n",
    "\n",
    "* $V_{1}^{2}\\rightarrow$ Força Cortante no centro do vão;\n",
    "\n",
    "* $M_{2}^{2}\\rightarrow$ Momento Fletor no segundo apoio;\n",
    "\n",
    "* $V_{2}^{2}\\rightarrow$ Força Cortante no csegundo apoio."
   ]
  },
  {
   "cell_type": "markdown",
   "metadata": {},
   "source": [
    "### Nó Central\n",
    "\n",
    " No nó central há a conexão entre o segundo nó do primeiro Elemento e o primeiro nó do segundo Elemento. Portanto, seus valores coincidem. Assim,\n",
    "\n",
    "\\begin{equation*}\n",
    "    M_{2}^{1} = M_{1}^{2}\n",
    "\\end{equation*}\n",
    "\n",
    "E\n",
    "\n",
    "\\begin{equation*}\n",
    "    V_{1}^{2} = V_{2}^{1}\n",
    "\\end{equation*}"
   ]
  },
  {
   "cell_type": "markdown",
   "metadata": {},
   "source": [
    "## Cálculo das Matrizes de Rigidez Locais"
   ]
  },
  {
   "cell_type": "markdown",
   "metadata": {},
   "source": [
    "$$\\mathbf{K}_{e} = \\frac{EI}{L}\\times$$"
   ]
  },
  {
   "cell_type": "code",
   "execution_count": 184,
   "metadata": {},
   "outputs": [
    {
     "output_type": "display_data",
     "data": {
      "text/plain": "⎡ 12    6   -12    6 ⎤\n⎢ ──    ─   ────   ─ ⎥\n⎢  2    L     2    L ⎥\n⎢ L          L       ⎥\n⎢                    ⎥\n⎢ 6         -6       ⎥\n⎢ ─     4   ───    2 ⎥\n⎢ L          L       ⎥\n⎢                    ⎥\n⎢-12   -6    12   -6 ⎥\n⎢────  ───   ──   ───⎥\n⎢  2    L     2    L ⎥\n⎢ L          L       ⎥\n⎢                    ⎥\n⎢ 6         -6       ⎥\n⎢ ─     2   ───    4 ⎥\n⎣ L          L       ⎦",
      "text/latex": "\\begin{equation*}\\left[\\begin{matrix}\\frac{12}{L^{2}} & \\frac{6}{L} & - \\frac{12}{L^{2}} & \\frac{6}{L}\\\\\\frac{6}{L} & 4 & - \\frac{6}{L} & 2\\\\- \\frac{12}{L^{2}} & - \\frac{6}{L} & \\frac{12}{L^{2}} & - \\frac{6}{L}\\\\\\frac{6}{L} & 2 & - \\frac{6}{L} & 4\\end{matrix}\\right]\\end{equation*}"
     },
     "metadata": {}
    }
   ],
   "source": [
    "display(K_e/(E*I/L))"
   ]
  },
  {
   "cell_type": "markdown",
   "metadata": {},
   "source": [
    "## Elemento 1"
   ]
  },
  {
   "cell_type": "markdown",
   "metadata": {},
   "source": [
    "$$K_{1} = 10^{2}\\times$$"
   ]
  },
  {
   "cell_type": "code",
   "execution_count": 185,
   "metadata": {},
   "outputs": [
    {
     "output_type": "display_data",
     "data": {
      "text/plain": "⎡12   6   -12  6 ⎤\n⎢                ⎥\n⎢ 6   4   -6   2 ⎥\n⎢                ⎥\n⎢-12  -6  12   -6⎥\n⎢                ⎥\n⎣ 6   2   -6   4 ⎦",
      "text/latex": "\\begin{equation*}\\left[\\begin{matrix}12 & 6 & -12 & 6\\\\6 & 4 & -6 & 2\\\\-12 & -6 & 12 & -6\\\\6 & 2 & -6 & 4\\end{matrix}\\right]\\end{equation*}"
     },
     "metadata": {}
    }
   ],
   "source": [
    "K_1 = K_e.subs(E*I,10**2).subs(L,1)\n",
    "display(K_1/100)"
   ]
  },
  {
   "cell_type": "markdown",
   "metadata": {},
   "source": [
    "## Elemento 2"
   ]
  },
  {
   "cell_type": "markdown",
   "metadata": {},
   "source": [
    "$$K_{2} = 10^{2}\\times$$"
   ]
  },
  {
   "cell_type": "code",
   "execution_count": 186,
   "metadata": {},
   "outputs": [
    {
     "output_type": "display_data",
     "data": {
      "text/plain": "⎡12   6   -12  6 ⎤\n⎢                ⎥\n⎢ 6   4   -6   2 ⎥\n⎢                ⎥\n⎢-12  -6  12   -6⎥\n⎢                ⎥\n⎣ 6   2   -6   4 ⎦",
      "text/latex": "\\begin{equation*}\\left[\\begin{matrix}12 & 6 & -12 & 6\\\\6 & 4 & -6 & 2\\\\-12 & -6 & 12 & -6\\\\6 & 2 & -6 & 4\\end{matrix}\\right]\\end{equation*}"
     },
     "metadata": {}
    }
   ],
   "source": [
    "K_2 = K_e.subs(E*I,10**2).subs(L,1)\n",
    "display(K_1/100)"
   ]
  },
  {
   "cell_type": "markdown",
   "metadata": {},
   "source": [
    "## Cálculo do Vetor $\\vec{f}$"
   ]
  },
  {
   "cell_type": "code",
   "execution_count": 187,
   "metadata": {},
   "outputs": [
    {
     "output_type": "display_data",
     "data": {
      "text/plain": "⎡ L⋅P       ⎤\n⎢ ─── + V₁  ⎥\n⎢  2        ⎥\n⎢           ⎥\n⎢  2        ⎥\n⎢ L ⋅P      ⎥\n⎢ ──── - M₁ ⎥\n⎢  12       ⎥\n⎢           ⎥\n⎢ L⋅P       ⎥\n⎢ ─── - V₂  ⎥\n⎢  2        ⎥\n⎢           ⎥\n⎢   2       ⎥\n⎢  L ⋅P     ⎥\n⎢- ──── + M₂⎥\n⎣   12      ⎦",
      "text/latex": "\\begin{equation*}\\left[\\begin{matrix}\\frac{L P}{2} + V_{1}\\\\\\frac{L^{2} P}{12} - M_{1}\\\\\\frac{L P}{2} - V_{2}\\\\- \\frac{L^{2} P}{12} + M_{2}\\end{matrix}\\right]\\end{equation*}"
     },
     "metadata": {}
    }
   ],
   "source": [
    "display(f_e)"
   ]
  },
  {
   "cell_type": "markdown",
   "metadata": {},
   "source": [
    "### Elemento 1"
   ]
  },
  {
   "cell_type": "code",
   "execution_count": 188,
   "metadata": {},
   "outputs": [
    {
     "output_type": "display_data",
     "data": {
      "text/plain": "⎡ V₁ ₁ + 5 ⎤\n⎢          ⎥\n⎢5/6 - M₁ ₁⎥\n⎢          ⎥\n⎢ 5 - V₂ ₁ ⎥\n⎢          ⎥\n⎣M₂ ₁ - 5/6⎦",
      "text/latex": "\\begin{equation*}\\left[\\begin{matrix}V_{1 1} + 5\\\\\\frac{5}{6} - M_{1 1}\\\\5 - V_{2 1}\\\\M_{2 1} - \\frac{5}{6}\\end{matrix}\\right]\\end{equation*}"
     },
     "metadata": {}
    }
   ],
   "source": [
    "V_1_1,M_1_1,V_2_1,M_2_1 = sym.symbols('V_1_1,M_1_1,V_2_1,M_2_1')\n",
    "f_1 = f_e.subs(L,1).subs(P,10).subs(V_1,V_1_1).subs(V_2,V_2_1).subs(M_1,M_1_1).subs(M_2,M_2_1)\n",
    "display(f_1)"
   ]
  },
  {
   "cell_type": "markdown",
   "metadata": {},
   "source": [
    "### Elemento 2"
   ]
  },
  {
   "cell_type": "code",
   "execution_count": 189,
   "metadata": {},
   "outputs": [
    {
     "output_type": "display_data",
     "data": {
      "text/plain": "⎡ V₁ ₂ + 5 ⎤\n⎢          ⎥\n⎢5/6 - M₁ ₂⎥\n⎢          ⎥\n⎢ 5 - V₂ ₂ ⎥\n⎢          ⎥\n⎣M₂ ₂ - 5/6⎦",
      "text/latex": "\\begin{equation*}\\left[\\begin{matrix}V_{1 2} + 5\\\\\\frac{5}{6} - M_{1 2}\\\\5 - V_{2 2}\\\\M_{2 2} - \\frac{5}{6}\\end{matrix}\\right]\\end{equation*}"
     },
     "metadata": {}
    }
   ],
   "source": [
    "V_1_2,M_1_2,V_2_2,M_2_2 = sym.symbols('V_1_2,M_1_2,V_2_2,M_2_2')\n",
    "f_2 = f_e.subs(L,1).subs(P,10).subs(V_1,V_1_2).subs(V_2,V_2_2).subs(M_1,M_1_2).subs(M_2,M_2_2)\n",
    "display(f_2)"
   ]
  },
  {
   "cell_type": "markdown",
   "metadata": {},
   "source": [
    "### Vetor de Forças Global"
   ]
  },
  {
   "cell_type": "code",
   "execution_count": 190,
   "metadata": {},
   "outputs": [
    {
     "output_type": "display_data",
     "data": {
      "text/plain": "⎡    V₁ ₁ + 5    ⎤\n⎢                ⎥\n⎢   5/6 - M₁ ₁   ⎥\n⎢                ⎥\n⎢V₁ ₂ - V₂ ₁ + 10⎥\n⎢                ⎥\n⎢  -M₁ ₂ + M₂ ₁  ⎥\n⎢                ⎥\n⎢    5 - V₂ ₂    ⎥\n⎢                ⎥\n⎣   M₂ ₂ - 5/6   ⎦",
      "text/latex": "\\begin{equation*}\\left[\\begin{matrix}V_{1 1} + 5\\\\\\frac{5}{6} - M_{1 1}\\\\V_{1 2} - V_{2 1} + 10\\\\- M_{1 2} + M_{2 1}\\\\5 - V_{2 2}\\\\M_{2 2} - \\frac{5}{6}\\end{matrix}\\right]\\end{equation*}"
     },
     "metadata": {}
    }
   ],
   "source": [
    "f = sym.zeros(6,1)\n",
    "f[0:4,0] += f_1[0:4,0]\n",
    "f[2:6,0] += f_2[0:4,0]\n",
    "display(f)"
   ]
  },
  {
   "cell_type": "markdown",
   "metadata": {},
   "source": [
    "Entretanto, lambramos que no nó central, temos:\n",
    "\n",
    "\\begin{equation*}\n",
    "    \\left[\\begin{matrix}\n",
    "        -V_{2}^{1} & + & V_{1}^{2} & = & 0 \\\\\n",
    "        M_{2}^{1} & - & M_{1}^{2} & = & 0\n",
    "    \\end{matrix}\\right.\n",
    "\\end{equation*}\n",
    "\n",
    "Portanto, $\\vec{f}$ torna-se:"
   ]
  },
  {
   "cell_type": "code",
   "execution_count": 191,
   "metadata": {},
   "outputs": [
    {
     "output_type": "display_data",
     "data": {
      "text/plain": "⎡ V₁ ₁ + 5 ⎤\n⎢          ⎥\n⎢5/6 - M₁ ₁⎥\n⎢          ⎥\n⎢    10    ⎥\n⎢          ⎥\n⎢    0     ⎥\n⎢          ⎥\n⎢ 5 - V₂ ₂ ⎥\n⎢          ⎥\n⎣M₂ ₂ - 5/6⎦",
      "text/latex": "\\begin{equation*}\\left[\\begin{matrix}V_{1 1} + 5\\\\\\frac{5}{6} - M_{1 1}\\\\10\\\\0\\\\5 - V_{2 2}\\\\M_{2 2} - \\frac{5}{6}\\end{matrix}\\right]\\end{equation*}"
     },
     "metadata": {}
    }
   ],
   "source": [
    "f_G = f.subs(-V_2_1+V_1_2,0).subs(M_2_1-M_1_2,0)\n",
    "display(f_G)"
   ]
  },
  {
   "cell_type": "markdown",
   "metadata": {},
   "source": [
    "## Matriz de Rigidez Global"
   ]
  },
  {
   "cell_type": "markdown",
   "metadata": {},
   "source": [
    "A Matriz de Rigidez Global fica:\n",
    "\n",
    "$$K_G = 10^{2}\\times$$"
   ]
  },
  {
   "cell_type": "code",
   "execution_count": 192,
   "metadata": {},
   "outputs": [
    {
     "output_type": "display_data",
     "data": {
      "text/plain": "⎡1200   600   -1200  600     0     0  ⎤\n⎢                                     ⎥\n⎢ 600   400   -600   200     0     0  ⎥\n⎢                                     ⎥\n⎢-1200  -600  2400    0    -1200  600 ⎥\n⎢                                     ⎥\n⎢ 600   200     0    800   -600   200 ⎥\n⎢                                     ⎥\n⎢  0     0    -1200  -600  1200   -600⎥\n⎢                                     ⎥\n⎣  0     0     600   200   -600   400 ⎦",
      "text/latex": "\\begin{equation*}\\left[\\begin{matrix}1200 & 600 & -1200 & 600 & 0 & 0\\\\600 & 400 & -600 & 200 & 0 & 0\\\\-1200 & -600 & 2400 & 0 & -1200 & 600\\\\600 & 200 & 0 & 800 & -600 & 200\\\\0 & 0 & -1200 & -600 & 1200 & -600\\\\0 & 0 & 600 & 200 & -600 & 400\\end{matrix}\\right]\\end{equation*}"
     },
     "metadata": {}
    }
   ],
   "source": [
    "K_G = sym.zeros(6,6)\n",
    "K_G[0:4,0:4] += K_1\n",
    "K_G[2:6,2:6] += K_2\n",
    "display(K_G)"
   ]
  },
  {
   "cell_type": "markdown",
   "metadata": {},
   "source": [
    "## Vetor de Deslocamentos\n",
    "\n",
    "Considerando as condições de contorno, temos:\n",
    "\n",
    "\\begin{equation*}\n",
    "    \\left\\{\\begin{matrix}\n",
    "        u_{1}^{1} = u_1 & = & 0 \\\\\n",
    "        u_{1}^{2} = u_5 & = & 0 \\\\\n",
    "        M_{1}^{1} & = & 0 \\\\\n",
    "        M_{2}^{2} & = & 0 \\\\\n",
    "    \\end{matrix}\\right.\n",
    "\\end{equation*}\n",
    "\n",
    "Portanto,"
   ]
  },
  {
   "cell_type": "code",
   "execution_count": 193,
   "metadata": {},
   "outputs": [
    {
     "output_type": "display_data",
     "data": {
      "text/plain": "⎡0 ⎤\n⎢  ⎥\n⎢u₂⎥\n⎢  ⎥\n⎢u₃⎥\n⎢  ⎥\n⎢u₄⎥\n⎢  ⎥\n⎢0 ⎥\n⎢  ⎥\n⎣u₆⎦",
      "text/latex": "\\begin{equation*}\\left[\\begin{matrix}0\\\\u_{2}\\\\u_{3}\\\\u_{4}\\\\0\\\\u_{6}\\end{matrix}\\right]\\end{equation*}"
     },
     "metadata": {}
    },
    {
     "output_type": "display_data",
     "data": {
      "text/plain": "⎡V₁ ₁ + 5⎤\n⎢        ⎥\n⎢  5/6   ⎥\n⎢        ⎥\n⎢   10   ⎥\n⎢        ⎥\n⎢   0    ⎥\n⎢        ⎥\n⎢5 - V₂ ₂⎥\n⎢        ⎥\n⎣  -5/6  ⎦",
      "text/latex": "\\begin{equation*}\\left[\\begin{matrix}V_{1 1} + 5\\\\\\frac{5}{6}\\\\10\\\\0\\\\5 - V_{2 2}\\\\- \\frac{5}{6}\\end{matrix}\\right]\\end{equation*}"
     },
     "metadata": {}
    }
   ],
   "source": [
    "u_1,u_2,u_3,u_4,u_5,u_6 = sym.symbols('u_1,u_2,u_3,u_4,u_5,u_6')\n",
    "u = sym.Matrix([u_1,u_2,u_3,u_4,u_5,u_6]).subs(u_1,0).subs(u_5,0)\n",
    "f_G = f_G.subs(M_1_1,0).subs(M_2_2,0)\n",
    "display(u)\n",
    "display(f_G)"
   ]
  },
  {
   "cell_type": "markdown",
   "metadata": {},
   "source": [
    "Assim, o sistema $\\mathbf{K}\\cdot\\vec{u}=\\vec{f}$ torna-se:"
   ]
  },
  {
   "cell_type": "code",
   "execution_count": 194,
   "metadata": {},
   "outputs": [
    {
     "output_type": "display_data",
     "data": {
      "text/plain": "⎡600⋅u₂ - 1200⋅u₃ + 600⋅u₄ ⎤   ⎡V₁ ₁ + 5⎤\n⎢                          ⎥   ⎢        ⎥\n⎢ 400⋅u₂ - 600⋅u₃ + 200⋅u₄ ⎥   ⎢  5/6   ⎥\n⎢                          ⎥   ⎢        ⎥\n⎢-600⋅u₂ + 2400⋅u₃ + 600⋅u₆⎥   ⎢   10   ⎥\n⎢                          ⎥ = ⎢        ⎥\n⎢ 200⋅u₂ + 800⋅u₄ + 200⋅u₆ ⎥   ⎢   0    ⎥\n⎢                          ⎥   ⎢        ⎥\n⎢-1200⋅u₃ - 600⋅u₄ - 600⋅u₆⎥   ⎢5 - V₂ ₂⎥\n⎢                          ⎥   ⎢        ⎥\n⎣ 600⋅u₃ + 200⋅u₄ + 400⋅u₆ ⎦   ⎣  -5/6  ⎦",
      "text/latex": "\\begin{equation*}\\left[\\begin{matrix}600 u_{2} - 1200 u_{3} + 600 u_{4}\\\\400 u_{2} - 600 u_{3} + 200 u_{4}\\\\- 600 u_{2} + 2400 u_{3} + 600 u_{6}\\\\200 u_{2} + 800 u_{4} + 200 u_{6}\\\\- 1200 u_{3} - 600 u_{4} - 600 u_{6}\\\\600 u_{3} + 200 u_{4} + 400 u_{6}\\end{matrix}\\right] = \\left[\\begin{matrix}V_{1 1} + 5\\\\\\frac{5}{6}\\\\10\\\\0\\\\5 - V_{2 2}\\\\- \\frac{5}{6}\\end{matrix}\\right]\\end{equation*}"
     },
     "metadata": {}
    }
   ],
   "source": [
    "eq = sym.Eq(K_G * u, f_G)\n",
    "display(eq)"
   ]
  },
  {
   "cell_type": "markdown",
   "metadata": {},
   "source": [
    "A partir deste sistema, considerando as condições de contorno, podemos obter o seguinte sistema reduzido:"
   ]
  },
  {
   "cell_type": "code",
   "execution_count": 195,
   "metadata": {},
   "outputs": [
    {
     "output_type": "display_data",
     "data": {
      "text/plain": "⎡400   -600  200   0 ⎤\n⎢                    ⎥\n⎢-600  2400   0   600⎥\n⎢                    ⎥\n⎢200    0    800  200⎥\n⎢                    ⎥\n⎣ 0    600   200  400⎦",
      "text/latex": "\\begin{equation*}\\left[\\begin{matrix}400 & -600 & 200 & 0\\\\-600 & 2400 & 0 & 600\\\\200 & 0 & 800 & 200\\\\0 & 600 & 200 & 400\\end{matrix}\\right]\\end{equation*}"
     },
     "metadata": {}
    },
    {
     "output_type": "display_data",
     "data": {
      "text/plain": "⎡5/6 ⎤\n⎢    ⎥\n⎢ 10 ⎥\n⎢    ⎥\n⎢ 0  ⎥\n⎢    ⎥\n⎣-5/6⎦",
      "text/latex": "\\begin{equation*}\\left[\\begin{matrix}\\frac{5}{6}\\\\10\\\\0\\\\- \\frac{5}{6}\\end{matrix}\\right]\\end{equation*}"
     },
     "metadata": {}
    }
   ],
   "source": [
    "f_R = f_G.copy()\n",
    "f_R -= u[0,0]*K_G[:,0]\n",
    "f_R -= u[4,0]*K_G[:,4]\n",
    "\n",
    "K_R = K_G.copy()\n",
    "K_R.row_del(4)\n",
    "K_R.col_del(4)\n",
    "K_R.row_del(0)\n",
    "K_R.col_del(0)\n",
    "f_R.row_del(4)\n",
    "f_R.row_del(0)\n",
    "\n",
    "display(K_R)\n",
    "display(f_R)"
   ]
  },
  {
   "cell_type": "markdown",
   "metadata": {},
   "source": [
    "A solução deste sistema fornece:\n",
    "\n",
    "$$u' = 10^{-2}\\times$$"
   ]
  },
  {
   "cell_type": "code",
   "execution_count": 196,
   "metadata": {},
   "outputs": [
    {
     "output_type": "display_data",
     "data": {
      "text/plain": "⎡10/3 ⎤\n⎢     ⎥\n⎢ 25  ⎥\n⎢ ──  ⎥\n⎢ 12  ⎥\n⎢     ⎥\n⎢  0  ⎥\n⎢     ⎥\n⎣-10/3⎦",
      "text/latex": "\\begin{equation*}\\left[\\begin{matrix}\\frac{10}{3}\\\\\\frac{25}{12}\\\\0\\\\- \\frac{10}{3}\\end{matrix}\\right]\\end{equation*}"
     },
     "metadata": {}
    }
   ],
   "source": [
    "u_R = K_R.solve(f_R)\n",
    "display(u_R*100)"
   ]
  },
  {
   "cell_type": "markdown",
   "metadata": {},
   "source": [
    "Temos, portanto,\n",
    "\n",
    "\\begin{equation*}\n",
    "    \\left\\{\\begin{matrix}\n",
    "        u_{2}^{1} = u_{2} & = & \\frac{10}{3}\\times10^{-2} rad \\\\\n",
    "        u_{3}^{1} = u_{1}^{2} = u_{3} & = & \\frac{25}{12}\\times10^{-2} m \\\\\n",
    "        u_{4}^{1} = u_{2}^{2} = u_{4} & = & 0 \\\\\n",
    "        u_{4}^{2} = u_{6} & = & -\\frac{10}{3}\\times10^{-2} rad \\\\\n",
    "    \\end{matrix}\\right.\n",
    "\\end{equation*}"
   ]
  },
  {
   "cell_type": "markdown",
   "metadata": {},
   "source": [
    "Temos, agora, o seguinte vetor de deslocamentos:\n",
    "\n",
    "$$u = 10^{-2}$$"
   ]
  },
  {
   "cell_type": "code",
   "execution_count": 197,
   "metadata": {},
   "outputs": [
    {
     "output_type": "display_data",
     "data": {
      "text/plain": "⎡        0        ⎤\n⎢                 ⎥\n⎢3.33333333333333 ⎥\n⎢                 ⎥\n⎢2.08333333333333 ⎥\n⎢                 ⎥\n⎢        0        ⎥\n⎢                 ⎥\n⎢        0        ⎥\n⎢                 ⎥\n⎣-3.33333333333333⎦",
      "text/latex": "\\begin{equation*}\\left[\\begin{matrix}0\\\\3.33333333333333\\\\2.08333333333333\\\\0\\\\0\\\\-3.33333333333333\\end{matrix}\\right]\\end{equation*}"
     },
     "metadata": {}
    }
   ],
   "source": [
    "u = u.subs(u_2,1/30).subs(u_3,25/1200).subs(u_4,0).subs(u_6,-1/30)\n",
    "display(100*u)"
   ]
  },
  {
   "cell_type": "markdown",
   "metadata": {},
   "source": [
    "Agora podemos calcular as forças nodais.\n",
    "\n",
    "$$\\vec{f} = $$"
   ]
  },
  {
   "cell_type": "code",
   "execution_count": 198,
   "metadata": {
    "tags": []
   },
   "outputs": [
    {
     "output_type": "display_data",
     "data": {
      "text/plain": "⎡       -5.0       ⎤\n⎢                  ⎥\n⎢0.833333333333334 ⎥\n⎢                  ⎥\n⎢       10.0       ⎥\n⎢                  ⎥\n⎢        0         ⎥\n⎢                  ⎥\n⎢       -5.0       ⎥\n⎢                  ⎥\n⎣-0.833333333333334⎦",
      "text/latex": "\\begin{equation*}\\left[\\begin{matrix}-5.0\\\\0.833333333333334\\\\10.0\\\\0\\\\-5.0\\\\-0.833333333333334\\end{matrix}\\right]\\end{equation*}"
     },
     "metadata": {}
    },
    {
     "output_type": "display_data",
     "data": {
      "text/plain": "⎡V₁ ₁ + 5⎤\n⎢        ⎥\n⎢  5/6   ⎥\n⎢        ⎥\n⎢   10   ⎥\n⎢        ⎥\n⎢   0    ⎥\n⎢        ⎥\n⎢5 - V₂ ₂⎥\n⎢        ⎥\n⎣  -5/6  ⎦",
      "text/latex": "\\begin{equation*}\\left[\\begin{matrix}V_{1 1} + 5\\\\\\frac{5}{6}\\\\10\\\\0\\\\5 - V_{2 2}\\\\- \\frac{5}{6}\\end{matrix}\\right]\\end{equation*}"
     },
     "metadata": {}
    }
   ],
   "source": [
    "f = K_G*u\n",
    "display(f,f_G)"
   ]
  },
  {
   "cell_type": "markdown",
   "metadata": {},
   "source": [
    "Temos, portanto,\n",
    "\n",
    "\\begin{equation*}\n",
    "    \\left\\{\\begin{matrix}\n",
    "        V_{1}^{1} + 5 & = & -5 \\\\\n",
    "        5 - V_{2}^{2} & = & -5\n",
    "    \\end{matrix}\\right.\n",
    "\\end{equation*}\n",
    "\n",
    "Logo,\n",
    "\n",
    "\\begin{equation*}\n",
    "    \\left\\{\\begin{matrix}\n",
    "        V_{1}^{1} & = & -10 \\\\\n",
    "        V_{2}^{2} & = & 10 \\\\\n",
    "    \\end{matrix}\\right.\n",
    "\\end{equation*}"
   ]
  },
  {
   "cell_type": "markdown",
   "metadata": {},
   "source": [
    "Temos, portanto, os seguintes valores de $\\vec{u}_{e}^{1}$ no Elemento 1:\n",
    "\n",
    "$$u_e^{1} =$$"
   ]
  },
  {
   "cell_type": "code",
   "execution_count": 199,
   "metadata": {},
   "outputs": [
    {
     "output_type": "display_data",
     "data": {
      "text/plain": "⎡        0         ⎤\n⎢                  ⎥\n⎢0.0333333333333333⎥\n⎢                  ⎥\n⎢0.0208333333333333⎥\n⎢                  ⎥\n⎣        0         ⎦",
      "text/latex": "\\begin{equation*}\\left[\\begin{matrix}0\\\\0.0333333333333333\\\\0.0208333333333333\\\\0\\end{matrix}\\right]\\end{equation*}"
     },
     "metadata": {}
    }
   ],
   "source": [
    "u_e_1 = u[0:4,0]\n",
    "display(u_e_1)"
   ]
  },
  {
   "cell_type": "markdown",
   "metadata": {},
   "source": [
    "Da mesma forma, temos como calcular o vetor de Forças Nodais $\\vec{f}_{e}^{1}$.\n",
    "\n",
    "$$\\vec{f}_{e}^{1} =$$"
   ]
  },
  {
   "cell_type": "code",
   "execution_count": 200,
   "metadata": {},
   "outputs": [
    {
     "output_type": "display_data",
     "data": {
      "text/plain": "⎡      -5.0       ⎤\n⎢                 ⎥\n⎢0.833333333333334⎥\n⎢                 ⎥\n⎢       5.0       ⎥\n⎢                 ⎥\n⎣-5.83333333333333⎦",
      "text/latex": "\\begin{equation*}\\left[\\begin{matrix}-5.0\\\\0.833333333333334\\\\5.0\\\\-5.83333333333333\\end{matrix}\\right]\\end{equation*}"
     },
     "metadata": {}
    },
    {
     "output_type": "display_data",
     "data": {
      "text/plain": "⎡ V₁ + 5 ⎤\n⎢        ⎥\n⎢5/6 - M₁⎥\n⎢        ⎥\n⎢ 5 - V₂ ⎥\n⎢        ⎥\n⎣M₂ - 5/6⎦",
      "text/latex": "\\begin{equation*}\\left[\\begin{matrix}V_{1} + 5\\\\\\frac{5}{6} - M_{1}\\\\5 - V_{2}\\\\M_{2} - \\frac{5}{6}\\end{matrix}\\right]\\end{equation*}"
     },
     "metadata": {}
    }
   ],
   "source": [
    "f_e_1 = K_1*u_e_1\n",
    "display(f_e_1,f_e.subs(L,1).subs(P,10))"
   ]
  },
  {
   "cell_type": "markdown",
   "metadata": {},
   "source": [
    "De onde resulta:\n",
    "\n",
    "\\begin{equation*}\n",
    "    \\left\\{\\begin{matrix}\n",
    "        V_{1}^{1} & = & -10~kN \\\\\n",
    "        M_{1}^{1} & = & 0 \\\\\n",
    "        V_{2}^{1} & = & 0 \\\\\n",
    "        M_{2}^{1} & = & -5~kN\\cdot m\n",
    "    \\end{matrix}\\right.\n",
    "\\end{equation*}"
   ]
  },
  {
   "cell_type": "markdown",
   "metadata": {},
   "source": [
    "Seguindo o mesmo raciocínio, podemos calcular o vetor de Forças Nodais do Elemento 2, $\\vec{f}_{e}^{2}$.\n",
    "\n",
    "$$\\vec{f}_{e}^{2} =$$"
   ]
  },
  {
   "cell_type": "code",
   "execution_count": 201,
   "metadata": {},
   "outputs": [
    {
     "output_type": "display_data",
     "data": {
      "text/plain": "⎡       5.0        ⎤\n⎢                  ⎥\n⎢ 5.83333333333333 ⎥\n⎢                  ⎥\n⎢       -5.0       ⎥\n⎢                  ⎥\n⎣-0.833333333333334⎦",
      "text/latex": "\\begin{equation*}\\left[\\begin{matrix}5.0\\\\5.83333333333333\\\\-5.0\\\\-0.833333333333334\\end{matrix}\\right]\\end{equation*}"
     },
     "metadata": {}
    },
    {
     "output_type": "display_data",
     "data": {
      "text/plain": "⎡ V₁ + 5 ⎤\n⎢        ⎥\n⎢5/6 - M₁⎥\n⎢        ⎥\n⎢ 5 - V₂ ⎥\n⎢        ⎥\n⎣M₂ - 5/6⎦",
      "text/latex": "\\begin{equation*}\\left[\\begin{matrix}V_{1} + 5\\\\\\frac{5}{6} - M_{1}\\\\5 - V_{2}\\\\M_{2} - \\frac{5}{6}\\end{matrix}\\right]\\end{equation*}"
     },
     "metadata": {}
    }
   ],
   "source": [
    "u_e_2 = u[2:6,0]\n",
    "f_e_2 = K_2*u_e_2\n",
    "display(f_e_2,f_e.subs(L,1).subs(P,10))"
   ]
  },
  {
   "cell_type": "markdown",
   "metadata": {},
   "source": [
    "De onde resulta:\n",
    "\n",
    "\\begin{equation*}\n",
    "    \\left\\{\\begin{matrix}\n",
    "        V_{1}^{2} & = & 0 \\\\\n",
    "        M_{1}^{2} & = & -5~kN\\cdot m \\\\\n",
    "        V_{2}^{2} & = & 10~kN \\\\\n",
    "        M_{2}^{2} & = & 0\n",
    "    \\end{matrix}\\right.\n",
    "\\end{equation*}"
   ]
  },
  {
   "cell_type": "markdown",
   "metadata": {},
   "source": [
    "# Solução Por Código"
   ]
  },
  {
   "cell_type": "markdown",
   "metadata": {},
   "source": [
    "A seguir, vamos elaborar um código em Python para solucionar uma viga a partir de um arquivo de entrada no formato JSON cotendo as informações da estrutura.\n",
    "\n",
    "vamos começar definindo uma classe para conter os nós da estrutura."
   ]
  },
  {
   "cell_type": "code",
   "execution_count": 203,
   "metadata": {},
   "outputs": [],
   "source": [
    "# Class to store and update nodes and nodes data as locate, if have constrains and loads, as well calculated reactions and deslocs\n",
    "class node:\n",
    "    def __init__(self,i,P=np.array([0,0,0]),S=[False,False,False,False,False,False],L=np.array([0,0,0,0,0,0]),tag=''):\n",
    "            self.index = i                          # node index reference\n",
    "            self.locate = P                         # (x,y,z)\n",
    "            self.support = S                        # (Rx,Ry,Rz,Rmx,Rmy,Rmz) bool if exists\n",
    "            self.load = L                           # (Fx,Fy,Fz,Mx,My,Mz)\n",
    "            self.tag = tag                          # String name\n",
    "            self.reaction = np.array([0,0,0,0,0,0]) # (Rx,Ry,Rz,Rmx,Rmy,Rmz) to calculate\n",
    "            self.u = np.array([0,0,0,0,0,0])        # (dx,dy,dz,theta_x,theta_y,theta_z) to calculate\n",
    "    \n",
    "    def Reaction(self,R=np.array([0,0,0,0,0,0])):\n",
    "        self.reaction = R                           # Calculated values\n",
    "\n",
    "    def Desloc(self,L=np.array([0,0,0,0,0,0])):\n",
    "        self.load = L                               # Calculated values"
   ]
  },
  {
   "cell_type": "markdown",
   "metadata": {},
   "source": [
    "Da mesma forma, precisamos de uma classe para operar com as barras que conectam os nós, assim como as propriedades de carga e deformação.\n",
    "\n",
    "A classe abaixo lida com barras como elementos finitos locais. As barras reais serão criadas como um elemento único e subdivididas em elementos com nós intermediários."
   ]
  },
  {
   "cell_type": "code",
   "execution_count": null,
   "metadata": {},
   "outputs": [],
   "source": [
    "# Class to store and calculate bars or elements\n",
    "class element:\n",
    "    def __init__(self,i,first,last,P=np.array([0,0,0]),tag=''):\n",
    "        self.index = i\n",
    "        self.start = first\n",
    "        self.end = last\n",
    "        self.load = P\n",
    "\n",
    "    # To K matrix, we are considerating the variables below:\n",
    "    # * u_0 -> local dx_1\n",
    "    # * u_1 -> local dy_1\n",
    "    # * u_2 -> local dz_1\n",
    "    # * u_3 -> local theta_x_1 (yz)\n",
    "    # * u_4 -> local theta_y_1 (zx)\n",
    "    # * u_5 -> local theta_z_1 (xy)\n",
    "    # * u_6 -> local dx_2\n",
    "    # * u_7 -> local dy_2\n",
    "    # * u_8 -> local dz_2\n",
    "    # * u_9 -> local theta_x_2 (yz)\n",
    "    # * u_10 -> local theta_y_2 (zx)\n",
    "    # * u_11 -> local theta_z_2 (xy)\n",
    "    # two-dimensional plan just use u_0, u_1, u_3, u_6, u_7, u_11\n",
    "    def K(self):\n",
    "        K = np.array([\n",
    "            [0., 0., 0., 0., 0., 0., 0., 0., 0., 0., 0., 0.]\n",
    "            [0., 0., 0., 0., 0., 0., 0., 0., 0., 0., 0., 0.]\n",
    "            [0., 0., 0., 0., 0., 0., 0., 0., 0., 0., 0., 0.]\n",
    "            [0., 0., 0., 0., 0., 0., 0., 0., 0., 0., 0., 0.]\n",
    "            [0., 0., 0., 0., 0., 0., 0., 0., 0., 0., 0., 0.]\n",
    "            [0., 0., 0., 0., 0., 0., 0., 0., 0., 0., 0., 0.]\n",
    "            [0., 0., 0., 0., 0., 0., 0., 0., 0., 0., 0., 0.]\n",
    "            [0., 0., 0., 0., 0., 0., 0., 0., 0., 0., 0., 0.]\n",
    "            [0., 0., 0., 0., 0., 0., 0., 0., 0., 0., 0., 0.]\n",
    "            [0., 0., 0., 0., 0., 0., 0., 0., 0., 0., 0., 0.]\n",
    "            [0., 0., 0., 0., 0., 0., 0., 0., 0., 0., 0., 0.]\n",
    "            [0., 0., 0., 0., 0., 0., 0., 0., 0., 0., 0., 0.]\n",
    "        ])\n",
    "        for i in range(12): # Symetrical matrix loop\n",
    "            for j in range(i):\n",
    "                K[i,j] = K[j,i]\n",
    "        return K"
   ]
  },
  {
   "cell_type": "code",
   "execution_count": null,
   "metadata": {},
   "outputs": [],
   "source": []
  }
 ],
 "metadata": {
  "language_info": {
   "codemirror_mode": {
    "name": "ipython",
    "version": 3
   },
   "file_extension": ".py",
   "mimetype": "text/x-python",
   "name": "python",
   "nbconvert_exporter": "python",
   "pygments_lexer": "ipython3",
   "version": "3.8.2-final"
  },
  "orig_nbformat": 2,
  "kernelspec": {
   "name": "python3",
   "display_name": "Python 3"
  }
 },
 "nbformat": 4,
 "nbformat_minor": 2
}