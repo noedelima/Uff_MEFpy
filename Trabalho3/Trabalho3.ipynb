{
 "cells": [
  {
   "cell_type": "markdown",
   "metadata": {},
   "source": [
    "# Método dos Elementos Finitos - Trabalho 3"
   ]
  },
  {
   "cell_type": "markdown",
   "metadata": {},
   "source": [
    "Universidade Federal Fluminense\n",
    "\n",
    "Disciplina ministrada pelo Prof. Marco Ferro\n",
    "\n",
    "<marcoferro@id.uff.br>\n",
    "\n",
    "Aluno Noé de Lima\n",
    "\n",
    "<noe_lima@id.uff.br>\n",
    "\n",
    "Este trabalho visa aplicar o MEF a uma estrutura de vigas.\n",
    "\n",
    "Primeiro semestre de 2020\n",
    "\n",
    "\\vfill"
   ]
  },
  {
   "cell_type": "markdown",
   "metadata": {},
   "source": [
    "A célula a seguir configura o Jupyter-Notebook para exibir as equações matemáticas no formato do ambiente $\\LaTeX$ e importa as bibliotecas necessárias."
   ]
  },
  {
   "cell_type": "code",
   "execution_count": 1,
   "metadata": {
    "tags": []
   },
   "outputs": [
    {
     "output_type": "display_data",
     "data": {
      "text/html": "        <script type=\"text/javascript\">\n        window.PlotlyConfig = {MathJaxConfig: 'local'};\n        if (window.MathJax) {MathJax.Hub.Config({SVG: {font: \"STIX-Web\"}});}\n        if (typeof require !== 'undefined') {\n        require.undef(\"plotly\");\n        requirejs.config({\n            paths: {\n                'plotly': ['https://cdn.plot.ly/plotly-latest.min']\n            }\n        });\n        require(['plotly'], function(Plotly) {\n            window._Plotly = Plotly;\n        });\n        }\n        </script>\n        "
     },
     "metadata": {}
    },
    {
     "output_type": "display_data",
     "data": {
      "text/html": "\n    <div class=\"bk-root\">\n        <a href=\"https://bokeh.org\" target=\"_blank\" class=\"bk-logo bk-logo-small bk-logo-notebook\"></a>\n        <span id=\"1001\">Loading BokehJS ...</span>\n    </div>"
     },
     "metadata": {}
    },
    {
     "output_type": "display_data",
     "data": {
      "application/javascript": "\n(function(root) {\n  function now() {\n    return new Date();\n  }\n\n  var force = true;\n\n  if (typeof root._bokeh_onload_callbacks === \"undefined\" || force === true) {\n    root._bokeh_onload_callbacks = [];\n    root._bokeh_is_loading = undefined;\n  }\n\n  var JS_MIME_TYPE = 'application/javascript';\n  var HTML_MIME_TYPE = 'text/html';\n  var EXEC_MIME_TYPE = 'application/vnd.bokehjs_exec.v0+json';\n  var CLASS_NAME = 'output_bokeh rendered_html';\n\n  /**\n   * Render data to the DOM node\n   */\n  function render(props, node) {\n    var script = document.createElement(\"script\");\n    node.appendChild(script);\n  }\n\n  /**\n   * Handle when an output is cleared or removed\n   */\n  function handleClearOutput(event, handle) {\n    var cell = handle.cell;\n\n    var id = cell.output_area._bokeh_element_id;\n    var server_id = cell.output_area._bokeh_server_id;\n    // Clean up Bokeh references\n    if (id != null && id in Bokeh.index) {\n      Bokeh.index[id].model.document.clear();\n      delete Bokeh.index[id];\n    }\n\n    if (server_id !== undefined) {\n      // Clean up Bokeh references\n      var cmd = \"from bokeh.io.state import curstate; print(curstate().uuid_to_server['\" + server_id + \"'].get_sessions()[0].document.roots[0]._id)\";\n      cell.notebook.kernel.execute(cmd, {\n        iopub: {\n          output: function(msg) {\n            var id = msg.content.text.trim();\n            if (id in Bokeh.index) {\n              Bokeh.index[id].model.document.clear();\n              delete Bokeh.index[id];\n            }\n          }\n        }\n      });\n      // Destroy server and session\n      var cmd = \"import bokeh.io.notebook as ion; ion.destroy_server('\" + server_id + \"')\";\n      cell.notebook.kernel.execute(cmd);\n    }\n  }\n\n  /**\n   * Handle when a new output is added\n   */\n  function handleAddOutput(event, handle) {\n    var output_area = handle.output_area;\n    var output = handle.output;\n\n    // limit handleAddOutput to display_data with EXEC_MIME_TYPE content only\n    if ((output.output_type != \"display_data\") || (!output.data.hasOwnProperty(EXEC_MIME_TYPE))) {\n      return\n    }\n\n    var toinsert = output_area.element.find(\".\" + CLASS_NAME.split(' ')[0]);\n\n    if (output.metadata[EXEC_MIME_TYPE][\"id\"] !== undefined) {\n      toinsert[toinsert.length - 1].firstChild.textContent = output.data[JS_MIME_TYPE];\n      // store reference to embed id on output_area\n      output_area._bokeh_element_id = output.metadata[EXEC_MIME_TYPE][\"id\"];\n    }\n    if (output.metadata[EXEC_MIME_TYPE][\"server_id\"] !== undefined) {\n      var bk_div = document.createElement(\"div\");\n      bk_div.innerHTML = output.data[HTML_MIME_TYPE];\n      var script_attrs = bk_div.children[0].attributes;\n      for (var i = 0; i < script_attrs.length; i++) {\n        toinsert[toinsert.length - 1].firstChild.setAttribute(script_attrs[i].name, script_attrs[i].value);\n        toinsert[toinsert.length - 1].firstChild.textContent = bk_div.children[0].textContent\n      }\n      // store reference to server id on output_area\n      output_area._bokeh_server_id = output.metadata[EXEC_MIME_TYPE][\"server_id\"];\n    }\n  }\n\n  function register_renderer(events, OutputArea) {\n\n    function append_mime(data, metadata, element) {\n      // create a DOM node to render to\n      var toinsert = this.create_output_subarea(\n        metadata,\n        CLASS_NAME,\n        EXEC_MIME_TYPE\n      );\n      this.keyboard_manager.register_events(toinsert);\n      // Render to node\n      var props = {data: data, metadata: metadata[EXEC_MIME_TYPE]};\n      render(props, toinsert[toinsert.length - 1]);\n      element.append(toinsert);\n      return toinsert\n    }\n\n    /* Handle when an output is cleared or removed */\n    events.on('clear_output.CodeCell', handleClearOutput);\n    events.on('delete.Cell', handleClearOutput);\n\n    /* Handle when a new output is added */\n    events.on('output_added.OutputArea', handleAddOutput);\n\n    /**\n     * Register the mime type and append_mime function with output_area\n     */\n    OutputArea.prototype.register_mime_type(EXEC_MIME_TYPE, append_mime, {\n      /* Is output safe? */\n      safe: true,\n      /* Index of renderer in `output_area.display_order` */\n      index: 0\n    });\n  }\n\n  // register the mime type if in Jupyter Notebook environment and previously unregistered\n  if (root.Jupyter !== undefined) {\n    var events = require('base/js/events');\n    var OutputArea = require('notebook/js/outputarea').OutputArea;\n\n    if (OutputArea.prototype.mime_types().indexOf(EXEC_MIME_TYPE) == -1) {\n      register_renderer(events, OutputArea);\n    }\n  }\n\n  \n  if (typeof (root._bokeh_timeout) === \"undefined\" || force === true) {\n    root._bokeh_timeout = Date.now() + 5000;\n    root._bokeh_failed_load = false;\n  }\n\n  var NB_LOAD_WARNING = {'data': {'text/html':\n     \"<div style='background-color: #fdd'>\\n\"+\n     \"<p>\\n\"+\n     \"BokehJS does not appear to have successfully loaded. If loading BokehJS from CDN, this \\n\"+\n     \"may be due to a slow or bad network connection. Possible fixes:\\n\"+\n     \"</p>\\n\"+\n     \"<ul>\\n\"+\n     \"<li>re-rerun `output_notebook()` to attempt to load from CDN again, or</li>\\n\"+\n     \"<li>use INLINE resources instead, as so:</li>\\n\"+\n     \"</ul>\\n\"+\n     \"<code>\\n\"+\n     \"from bokeh.resources import INLINE\\n\"+\n     \"output_notebook(resources=INLINE)\\n\"+\n     \"</code>\\n\"+\n     \"</div>\"}};\n\n  function display_loaded() {\n    var el = document.getElementById(\"1001\");\n    if (el != null) {\n      el.textContent = \"BokehJS is loading...\";\n    }\n    if (root.Bokeh !== undefined) {\n      if (el != null) {\n        el.textContent = \"BokehJS \" + root.Bokeh.version + \" successfully loaded.\";\n      }\n    } else if (Date.now() < root._bokeh_timeout) {\n      setTimeout(display_loaded, 100)\n    }\n  }\n\n\n  function run_callbacks() {\n    try {\n      root._bokeh_onload_callbacks.forEach(function(callback) {\n        if (callback != null)\n          callback();\n      });\n    } finally {\n      delete root._bokeh_onload_callbacks\n    }\n    console.debug(\"Bokeh: all callbacks have finished\");\n  }\n\n  function load_libs(css_urls, js_urls, callback) {\n    if (css_urls == null) css_urls = [];\n    if (js_urls == null) js_urls = [];\n\n    root._bokeh_onload_callbacks.push(callback);\n    if (root._bokeh_is_loading > 0) {\n      console.debug(\"Bokeh: BokehJS is being loaded, scheduling callback at\", now());\n      return null;\n    }\n    if (js_urls == null || js_urls.length === 0) {\n      run_callbacks();\n      return null;\n    }\n    console.debug(\"Bokeh: BokehJS not loaded, scheduling load and callback at\", now());\n    root._bokeh_is_loading = css_urls.length + js_urls.length;\n\n    function on_load() {\n      root._bokeh_is_loading--;\n      if (root._bokeh_is_loading === 0) {\n        console.debug(\"Bokeh: all BokehJS libraries/stylesheets loaded\");\n        run_callbacks()\n      }\n    }\n\n    function on_error() {\n      console.error(\"failed to load \" + url);\n    }\n\n    for (var i = 0; i < css_urls.length; i++) {\n      var url = css_urls[i];\n      const element = document.createElement(\"link\");\n      element.onload = on_load;\n      element.onerror = on_error;\n      element.rel = \"stylesheet\";\n      element.type = \"text/css\";\n      element.href = url;\n      console.debug(\"Bokeh: injecting link tag for BokehJS stylesheet: \", url);\n      document.body.appendChild(element);\n    }\n\n    const hashes = {\"https://cdn.bokeh.org/bokeh/release/bokeh-2.1.1.min.js\": \"kLr4fYcqcSpbuI95brIH3vnnYCquzzSxHPU6XGQCIkQRGJwhg0StNbj1eegrHs12\", \"https://cdn.bokeh.org/bokeh/release/bokeh-widgets-2.1.1.min.js\": \"xIGPmVtaOm+z0BqfSOMn4lOR6ciex448GIKG4eE61LsAvmGj48XcMQZtKcE/UXZe\", \"https://cdn.bokeh.org/bokeh/release/bokeh-tables-2.1.1.min.js\": \"Dc9u1wF/0zApGIWoBbH77iWEHtdmkuYWG839Uzmv8y8yBLXebjO9ZnERsde5Ln/P\", \"https://cdn.bokeh.org/bokeh/release/bokeh-gl-2.1.1.min.js\": \"cT9JaBz7GiRXdENrJLZNSC6eMNF3nh3fa5fTF51Svp+ukxPdwcU5kGXGPBgDCa2j\"};\n\n    for (var i = 0; i < js_urls.length; i++) {\n      var url = js_urls[i];\n      var element = document.createElement('script');\n      element.onload = on_load;\n      element.onerror = on_error;\n      element.async = false;\n      element.src = url;\n      if (url in hashes) {\n        element.crossOrigin = \"anonymous\";\n        element.integrity = \"sha384-\" + hashes[url];\n      }\n      console.debug(\"Bokeh: injecting script tag for BokehJS library: \", url);\n      document.head.appendChild(element);\n    }\n  };\n\n  function inject_raw_css(css) {\n    const element = document.createElement(\"style\");\n    element.appendChild(document.createTextNode(css));\n    document.body.appendChild(element);\n  }\n\n  \n  var js_urls = [\"https://cdn.bokeh.org/bokeh/release/bokeh-2.1.1.min.js\", \"https://cdn.bokeh.org/bokeh/release/bokeh-widgets-2.1.1.min.js\", \"https://cdn.bokeh.org/bokeh/release/bokeh-tables-2.1.1.min.js\", \"https://cdn.bokeh.org/bokeh/release/bokeh-gl-2.1.1.min.js\"];\n  var css_urls = [];\n  \n\n  var inline_js = [\n    function(Bokeh) {\n      Bokeh.set_log_level(\"info\");\n    },\n    function(Bokeh) {\n    \n    \n    }\n  ];\n\n  function run_inline_js() {\n    \n    if (root.Bokeh !== undefined || force === true) {\n      \n    for (var i = 0; i < inline_js.length; i++) {\n      inline_js[i].call(root, root.Bokeh);\n    }\n    if (force === true) {\n        display_loaded();\n      }} else if (Date.now() < root._bokeh_timeout) {\n      setTimeout(run_inline_js, 100);\n    } else if (!root._bokeh_failed_load) {\n      console.log(\"Bokeh: BokehJS failed to load within specified timeout.\");\n      root._bokeh_failed_load = true;\n    } else if (force !== true) {\n      var cell = $(document.getElementById(\"1001\")).parents('.cell').data().cell;\n      cell.output_area.append_execute_result(NB_LOAD_WARNING)\n    }\n\n  }\n\n  if (root._bokeh_is_loading === 0) {\n    console.debug(\"Bokeh: BokehJS loaded, going straight to plotting\");\n    run_inline_js();\n  } else {\n    load_libs(css_urls, js_urls, function() {\n      console.debug(\"Bokeh: BokehJS plotting callback run at\", now());\n      run_inline_js();\n    });\n  }\n}(window));",
      "application/vnd.bokehjs_load.v0+json": "\n(function(root) {\n  function now() {\n    return new Date();\n  }\n\n  var force = true;\n\n  if (typeof root._bokeh_onload_callbacks === \"undefined\" || force === true) {\n    root._bokeh_onload_callbacks = [];\n    root._bokeh_is_loading = undefined;\n  }\n\n  \n\n  \n  if (typeof (root._bokeh_timeout) === \"undefined\" || force === true) {\n    root._bokeh_timeout = Date.now() + 5000;\n    root._bokeh_failed_load = false;\n  }\n\n  var NB_LOAD_WARNING = {'data': {'text/html':\n     \"<div style='background-color: #fdd'>\\n\"+\n     \"<p>\\n\"+\n     \"BokehJS does not appear to have successfully loaded. If loading BokehJS from CDN, this \\n\"+\n     \"may be due to a slow or bad network connection. Possible fixes:\\n\"+\n     \"</p>\\n\"+\n     \"<ul>\\n\"+\n     \"<li>re-rerun `output_notebook()` to attempt to load from CDN again, or</li>\\n\"+\n     \"<li>use INLINE resources instead, as so:</li>\\n\"+\n     \"</ul>\\n\"+\n     \"<code>\\n\"+\n     \"from bokeh.resources import INLINE\\n\"+\n     \"output_notebook(resources=INLINE)\\n\"+\n     \"</code>\\n\"+\n     \"</div>\"}};\n\n  function display_loaded() {\n    var el = document.getElementById(\"1001\");\n    if (el != null) {\n      el.textContent = \"BokehJS is loading...\";\n    }\n    if (root.Bokeh !== undefined) {\n      if (el != null) {\n        el.textContent = \"BokehJS \" + root.Bokeh.version + \" successfully loaded.\";\n      }\n    } else if (Date.now() < root._bokeh_timeout) {\n      setTimeout(display_loaded, 100)\n    }\n  }\n\n\n  function run_callbacks() {\n    try {\n      root._bokeh_onload_callbacks.forEach(function(callback) {\n        if (callback != null)\n          callback();\n      });\n    } finally {\n      delete root._bokeh_onload_callbacks\n    }\n    console.debug(\"Bokeh: all callbacks have finished\");\n  }\n\n  function load_libs(css_urls, js_urls, callback) {\n    if (css_urls == null) css_urls = [];\n    if (js_urls == null) js_urls = [];\n\n    root._bokeh_onload_callbacks.push(callback);\n    if (root._bokeh_is_loading > 0) {\n      console.debug(\"Bokeh: BokehJS is being loaded, scheduling callback at\", now());\n      return null;\n    }\n    if (js_urls == null || js_urls.length === 0) {\n      run_callbacks();\n      return null;\n    }\n    console.debug(\"Bokeh: BokehJS not loaded, scheduling load and callback at\", now());\n    root._bokeh_is_loading = css_urls.length + js_urls.length;\n\n    function on_load() {\n      root._bokeh_is_loading--;\n      if (root._bokeh_is_loading === 0) {\n        console.debug(\"Bokeh: all BokehJS libraries/stylesheets loaded\");\n        run_callbacks()\n      }\n    }\n\n    function on_error() {\n      console.error(\"failed to load \" + url);\n    }\n\n    for (var i = 0; i < css_urls.length; i++) {\n      var url = css_urls[i];\n      const element = document.createElement(\"link\");\n      element.onload = on_load;\n      element.onerror = on_error;\n      element.rel = \"stylesheet\";\n      element.type = \"text/css\";\n      element.href = url;\n      console.debug(\"Bokeh: injecting link tag for BokehJS stylesheet: \", url);\n      document.body.appendChild(element);\n    }\n\n    const hashes = {\"https://cdn.bokeh.org/bokeh/release/bokeh-2.1.1.min.js\": \"kLr4fYcqcSpbuI95brIH3vnnYCquzzSxHPU6XGQCIkQRGJwhg0StNbj1eegrHs12\", \"https://cdn.bokeh.org/bokeh/release/bokeh-widgets-2.1.1.min.js\": \"xIGPmVtaOm+z0BqfSOMn4lOR6ciex448GIKG4eE61LsAvmGj48XcMQZtKcE/UXZe\", \"https://cdn.bokeh.org/bokeh/release/bokeh-tables-2.1.1.min.js\": \"Dc9u1wF/0zApGIWoBbH77iWEHtdmkuYWG839Uzmv8y8yBLXebjO9ZnERsde5Ln/P\", \"https://cdn.bokeh.org/bokeh/release/bokeh-gl-2.1.1.min.js\": \"cT9JaBz7GiRXdENrJLZNSC6eMNF3nh3fa5fTF51Svp+ukxPdwcU5kGXGPBgDCa2j\"};\n\n    for (var i = 0; i < js_urls.length; i++) {\n      var url = js_urls[i];\n      var element = document.createElement('script');\n      element.onload = on_load;\n      element.onerror = on_error;\n      element.async = false;\n      element.src = url;\n      if (url in hashes) {\n        element.crossOrigin = \"anonymous\";\n        element.integrity = \"sha384-\" + hashes[url];\n      }\n      console.debug(\"Bokeh: injecting script tag for BokehJS library: \", url);\n      document.head.appendChild(element);\n    }\n  };\n\n  function inject_raw_css(css) {\n    const element = document.createElement(\"style\");\n    element.appendChild(document.createTextNode(css));\n    document.body.appendChild(element);\n  }\n\n  \n  var js_urls = [\"https://cdn.bokeh.org/bokeh/release/bokeh-2.1.1.min.js\", \"https://cdn.bokeh.org/bokeh/release/bokeh-widgets-2.1.1.min.js\", \"https://cdn.bokeh.org/bokeh/release/bokeh-tables-2.1.1.min.js\", \"https://cdn.bokeh.org/bokeh/release/bokeh-gl-2.1.1.min.js\"];\n  var css_urls = [];\n  \n\n  var inline_js = [\n    function(Bokeh) {\n      Bokeh.set_log_level(\"info\");\n    },\n    function(Bokeh) {\n    \n    \n    }\n  ];\n\n  function run_inline_js() {\n    \n    if (root.Bokeh !== undefined || force === true) {\n      \n    for (var i = 0; i < inline_js.length; i++) {\n      inline_js[i].call(root, root.Bokeh);\n    }\n    if (force === true) {\n        display_loaded();\n      }} else if (Date.now() < root._bokeh_timeout) {\n      setTimeout(run_inline_js, 100);\n    } else if (!root._bokeh_failed_load) {\n      console.log(\"Bokeh: BokehJS failed to load within specified timeout.\");\n      root._bokeh_failed_load = true;\n    } else if (force !== true) {\n      var cell = $(document.getElementById(\"1001\")).parents('.cell').data().cell;\n      cell.output_area.append_execute_result(NB_LOAD_WARNING)\n    }\n\n  }\n\n  if (root._bokeh_is_loading === 0) {\n    console.debug(\"Bokeh: BokehJS loaded, going straight to plotting\");\n    run_inline_js();\n  } else {\n    load_libs(css_urls, js_urls, function() {\n      console.debug(\"Bokeh: BokehJS plotting callback run at\", now());\n      run_inline_js();\n    });\n  }\n}(window));"
     },
     "metadata": {}
    },
    {
     "output_type": "stream",
     "name": "stdout",
     "text": "Linux DESKTOP-CR7O8A2 4.19.104-microsoft-standard #1 SMP Wed Feb 19 06:37:35 UTC 2020 x86_64 x86_64 x86_64 GNU/Linux\n"
    }
   ],
   "source": [
    "import numpy as np\n",
    "import sympy as sym\n",
    "import plotly.graph_objects as go\n",
    "import bokeh.plotting as bk\n",
    "import json\n",
    "from plotly.offline import init_notebook_mode, iplot\n",
    "from bokeh.io import output_notebook, export_png\n",
    "from bokeh.models import ColumnDataSource, HoverTool\n",
    "from IPython.display import Image\n",
    "init_notebook_mode(connected=True)\n",
    "output_notebook()\n",
    "sym.init_printing(use_latex='mathjax',latex_mode='equation*')\n",
    "!uname -a"
   ]
  },
  {
   "cell_type": "markdown",
   "metadata": {},
   "source": [
    "\\cleardoublepage\n",
    "\n",
    "\\tableofcontents\n",
    "\n",
    "\\cleardoublepage"
   ]
  },
  {
   "cell_type": "markdown",
   "metadata": {},
   "source": [
    "# Introdução"
   ]
  },
  {
   "cell_type": "markdown",
   "metadata": {},
   "source": [
    "Em uma estrutura de treliças, cada barra é um elemento, e o Método dos Elementos Finitos coincide com a Análise Matricial de Estruturas. Considerando que todos os esforços na treliça são normais, não há cargas transversais, o problema, visto do ponto de vista das barras, é unidimensional, pois, da mesma forma que os esforços, os deslocamentos também são na mesma direção das barras.\n",
    "\n",
    "No caso de vigas, havendo momento fletor (ou torçor), tanto direto como em consequência de esforço cortante, há deformação no sentido perpendicular à viga, bem como rotação pontual em decorrência da deformação. Assim, uma viga será discretizada na forma de uma malha compostas por pequenos segmentos.\n",
    "\n",
    "Em um Elemento de Viga, cujo eixo principal é o eixo $x$, temos:\n",
    "\n",
    "* $V_{1} \\rightarrow$ Força perpendicular no início do Elemento;\n",
    "* $V_{2} \\rightarrow$ Força perpendicular no final do Elemento;\n",
    "* $P \\rightarrow$ Carga perpendicular distribuída;\n",
    "* $M_{1} \\rightarrow$ Momento no início do Elemento;\n",
    "* $M_{2} \\rightarrow$ Momento no final do Elemento;\n",
    "* $L \\rightarrow$ Comprimento do Elemento.\n",
    "\n",
    "Bem como os deslocamentos:\n",
    "* $u_{1}=\\delta_{1}\\rightarrow$ deflexão $\\delta$ no início do Elemento;\n",
    "* $u_{2}=\\theta_{1}\\rightarrow$ inclinação $\\theta$ no início do Elemento;\n",
    "* $u_{3}=\\delta_{2}\\rightarrow$ deflexão $\\delta$ no final do Elemento;\n",
    "* $u_{4}=\\theta_{2}\\rightarrow$ inclinação $\\theta$ no final do Elemento.\n",
    "\n",
    "No caso de uma viga retangular de largura $b$ e altura $h$, temos o momento de inércia:\n",
    "\n",
    "\\begin{equation*}\n",
    "    I = \\frac{bh^{3}}{12}\n",
    "\\end{equation*}\n",
    "\n",
    "Assim, sendo o Módulo de Elasticidade $E$ constante, o produto $EI$ também será.\n",
    "\n",
    "Temos, portanto, a seguinte equação diferencial da viga:\n",
    "\n",
    "\\begin{equation*}\n",
    "    EI\\frac{d^{4}u}{dx^{4}} = P\n",
    "\\end{equation*}\n",
    "\n",
    "Tem-se que:\n",
    "\n",
    "\\begin{equation*}\n",
    "    V = EI\\frac{d^{3}u}{dx^{3}}\n",
    "\\end{equation*}\n",
    "\n",
    "E\n",
    "\n",
    "\\begin{equation*}\n",
    "    M = EI\\frac{d^{2}u}{dx^{2}}\n",
    "\\end{equation*}"
   ]
  },
  {
   "cell_type": "markdown",
   "metadata": {},
   "source": [
    "Aplicando a SRP - Sentença de Resíduos Ponderados - na EDO da viga, resulta:\n",
    "\n",
    "\\begin{equation*}\n",
    "    \\int_{\\Omega}{N_{i}R}d\\Omega = 0\n",
    "\\end{equation*}\n",
    "\n",
    "$$\\therefore$$\n",
    "\n",
    "\\begin{equation*}\n",
    "    \\int_{0}^{L}{N_{i}\\left(EI\\frac{d^{4}u}{dx^{4}}-P\\right)}dx = 0\n",
    "\\end{equation*}\n"
   ]
  },
  {
   "cell_type": "code",
   "execution_count": 2,
   "metadata": {
    "tags": []
   },
   "outputs": [
    {
     "output_type": "display_data",
     "data": {
      "text/plain": "L                             \n⌠                             \n⎮ ⎛      4          ⎞         \n⎮ ⎜     d           ⎟         \n⎮ ⎜E⋅I⋅───(u(x)) - P⎟⋅Nᵢ(x) dx\n⎮ ⎜      4          ⎟         \n⎮ ⎝    dx           ⎠         \n⌡                             \n0                             ",
      "text/latex": "\\begin{equation*}\\int\\limits_{0}^{L} \\left(E I \\frac{d^{4}}{d x^{4}} u{\\left(x \\right)} - P\\right) \\operatorname{N_{i}}{\\left(x \\right)}\\, dx\\end{equation*}"
     },
     "metadata": {}
    }
   ],
   "source": [
    "x = sym.symbols('x')\n",
    "P = sym.symbols('P')\n",
    "E,I,L = sym.symbols('E,I,L')\n",
    "u = sym.Function('u')\n",
    "N_i = sym.symbols('N_i',cls=sym.Function)\n",
    "R = E*I*sym.diff(u(x),x,4)-P\n",
    "SRP = sym.integrate(N_i(x)*R,(x,0,L))\n",
    "display(SRP.doit())"
   ]
  },
  {
   "cell_type": "markdown",
   "metadata": {},
   "source": [
    "Essa integral não pode ser resolvida pelos métodos sym.dsolve(sym.Eq(SRP,0),u(x)) ou SRP.doit(), pois o nível de complexidade ainda não foi implementado na biblioteca.\n",
    "\n",
    "Utilizando a integração por partes, obtém-se o seguinte:"
   ]
  },
  {
   "cell_type": "code",
   "execution_count": 3,
   "metadata": {},
   "outputs": [
    {
     "output_type": "display_data",
     "data": {
      "text/plain": "    L                       \n    ⌠                       \n    ⎮             3         \n    ⎮ d          d          \nE⋅I⋅⎮ ──(Nᵢ(x))⋅───(u(x)) dx\n    ⎮ dx          3         \n    ⎮           dx          \n    ⌡                       \n    0                       ",
      "text/latex": "\\begin{equation*}E I \\int\\limits_{0}^{L} \\frac{d}{d x} \\operatorname{N_{i}}{\\left(x \\right)} \\frac{d^{3}}{d x^{3}} u{\\left(x \\right)}\\, dx\\end{equation*}"
     },
     "metadata": {}
    }
   ],
   "source": [
    "eq = sym.integrate(E*I*(sym.diff(N_i(x),x)*sym.diff(u(x),x,3)),(x,0,L))\n",
    "display(eq.doit())"
   ]
  },
  {
   "cell_type": "markdown",
   "metadata": {},
   "source": [
    "# Funções de Hermite"
   ]
  },
  {
   "cell_type": "code",
   "execution_count": 4,
   "metadata": {},
   "outputs": [
    {
     "output_type": "display_data",
     "data": {
      "text/plain": "                               3\n        3⋅L           ⎛  L    ⎞ \n      - ─── + 3⋅x   2⋅⎜- ─ + x⎟ \n         2            ⎝  2    ⎠ \n0.5 - ─────────── + ────────────\n          2⋅L             3     \n                         L      ",
      "text/latex": "\\begin{equation*}0.5 - \\frac{- \\frac{3 L}{2} + 3 x}{2 L} + \\frac{2 \\left(- \\frac{L}{2} + x\\right)^{3}}{L^{3}}\\end{equation*}"
     },
     "metadata": {}
    },
    {
     "output_type": "display_data",
     "data": {
      "text/plain": "                 2            3\n        ⎛  L    ⎞    ⎛  L    ⎞ \n        ⎜- ─ + x⎟    ⎜- ─ + x⎟ \nL   x   ⎝  2    ⎠    ⎝  2    ⎠ \n─ - ─ - ────────── + ──────────\n4   4      2⋅L            2    \n                         L     ",
      "text/latex": "\\begin{equation*}\\frac{L}{4} - \\frac{x}{4} - \\frac{\\left(- \\frac{L}{2} + x\\right)^{2}}{2 L} + \\frac{\\left(- \\frac{L}{2} + x\\right)^{3}}{L^{2}}\\end{equation*}"
     },
     "metadata": {}
    },
    {
     "output_type": "display_data",
     "data": {
      "text/plain": "                               3\n        3⋅L           ⎛  L    ⎞ \n      - ─── + 3⋅x   2⋅⎜- ─ + x⎟ \n         2            ⎝  2    ⎠ \n0.5 + ─────────── - ────────────\n          2⋅L             3     \n                         L      ",
      "text/latex": "\\begin{equation*}0.5 + \\frac{- \\frac{3 L}{2} + 3 x}{2 L} - \\frac{2 \\left(- \\frac{L}{2} + x\\right)^{3}}{L^{3}}\\end{equation*}"
     },
     "metadata": {}
    },
    {
     "output_type": "display_data",
     "data": {
      "text/plain": "               2            3\n      ⎛  L    ⎞    ⎛  L    ⎞ \n      ⎜- ─ + x⎟    ⎜- ─ + x⎟ \n  x   ⎝  2    ⎠    ⎝  2    ⎠ \n- ─ + ────────── + ──────────\n  4      2⋅L            2    \n                       L     ",
      "text/latex": "\\begin{equation*}- \\frac{x}{4} + \\frac{\\left(- \\frac{L}{2} + x\\right)^{2}}{2 L} + \\frac{\\left(- \\frac{L}{2} + x\\right)^{3}}{L^{2}}\\end{equation*}"
     },
     "metadata": {}
    }
   ],
   "source": [
    "N_1 = 1/2 - (3*(x-L/2))/(2*L) + (2*(x-L/2)**3)/(L**3)\n",
    "\n",
    "N_2 = L/8 - (x-L/2)/4 - ((x-L/2)**2)/(2*L) + ((x-L/2)**3)/(L**2)\n",
    "\n",
    "N_3 = 1/2 + (3*(x-L/2))/(2*L) - (2*(x-L/2)**3)/(L**3)\n",
    "\n",
    "N_4 = -L/8 - (x-L/2)/4 + ((x-L/2)**2)/(2*L) + ((x-L/2)**3)/(L**2)\n",
    "\n",
    "display(N_1)\n",
    "display(N_2)\n",
    "display(N_3)\n",
    "display(N_4)"
   ]
  },
  {
   "cell_type": "markdown",
   "metadata": {},
   "source": [
    "# Matriz de Rigidez Local"
   ]
  },
  {
   "cell_type": "markdown",
   "metadata": {},
   "source": [
    "\\begin{equation*}\n",
    "    K_{i,j} = \\int_{0}^{L}{\\frac{d^{2}N_{i}\\left(x\\right)}{dx^{2}}\\frac{d^{2}N_{j}\\left(x\\right)}{dx^{2}}}dx\n",
    "\\end{equation*}"
   ]
  },
  {
   "cell_type": "code",
   "execution_count": 5,
   "metadata": {
    "tags": []
   },
   "outputs": [
    {
     "output_type": "display_data",
     "data": {
      "text/plain": "⎡ 12    6   -12    6 ⎤\n⎢ ──    ─   ────   ─ ⎥\n⎢  2    L     2    L ⎥\n⎢ L          L       ⎥\n⎢                    ⎥\n⎢ 6         -6       ⎥\n⎢ ─     4   ───    2 ⎥\n⎢ L          L       ⎥\n⎢                    ⎥\n⎢-12   -6    12   -6 ⎥\n⎢────  ───   ──   ───⎥\n⎢  2    L     2    L ⎥\n⎢ L          L       ⎥\n⎢                    ⎥\n⎢ 6         -6       ⎥\n⎢ ─     2   ───    4 ⎥\n⎣ L          L       ⎦",
      "text/latex": "\\begin{equation*}\\left[\\begin{matrix}\\frac{12}{L^{2}} & \\frac{6}{L} & - \\frac{12}{L^{2}} & \\frac{6}{L}\\\\\\frac{6}{L} & 4 & - \\frac{6}{L} & 2\\\\- \\frac{12}{L^{2}} & - \\frac{6}{L} & \\frac{12}{L^{2}} & - \\frac{6}{L}\\\\\\frac{6}{L} & 2 & - \\frac{6}{L} & 4\\end{matrix}\\right]\\end{equation*}"
     },
     "metadata": {}
    }
   ],
   "source": [
    "K_e = sym.Matrix([[0,0,0,0],[0,0,0,0],[0,0,0,0],[0,0,0,0]])\n",
    "\n",
    "K_e[0,0] = E*I*sym.integrate(sym.diff(N_1,x,2)*sym.diff(N_1,x,2),[x,0,L])\n",
    "K_e[0,1] = E*I*sym.integrate(sym.diff(N_1,x,2)*sym.diff(N_2,x,2),[x,0,L])\n",
    "K_e[0,2] = E*I*sym.integrate(sym.diff(N_1,x,2)*sym.diff(N_3,x,2),[x,0,L])\n",
    "K_e[0,3] = E*I*sym.integrate(sym.diff(N_1,x,2)*sym.diff(N_4,x,2),[x,0,L])\n",
    "\n",
    "K_e[1,0] = K_e[0,1]\n",
    "K_e[1,1] = E*I*sym.integrate(sym.diff(N_2,x,2)*sym.diff(N_2,x,2),[x,0,L])\n",
    "K_e[1,2] = E*I*sym.integrate(sym.diff(N_2,x,2)*sym.diff(N_3,x,2),[x,0,L])\n",
    "K_e[1,3] = E*I*sym.integrate(sym.diff(N_2,x,2)*sym.diff(N_4,x,2),[x,0,L])\n",
    "\n",
    "K_e[2,0] = K_e[0,2]\n",
    "K_e[2,1] = K_e[1,2]\n",
    "K_e[2,2] = E*I*sym.integrate(sym.diff(N_3,x,2)*sym.diff(N_3,x,2),[x,0,L])\n",
    "K_e[2,3] = E*I*sym.integrate(sym.diff(N_3,x,2)*sym.diff(N_4,x,2),[x,0,L])\n",
    "\n",
    "K_e[3,0] = K_e[0,3]\n",
    "K_e[3,1] = K_e[1,3]\n",
    "K_e[3,2] = K_e[2,3]\n",
    "K_e[3,3] = E*I*sym.integrate(sym.diff(N_4,x,2)*sym.diff(N_4,x,2),[x,0,L])\n",
    "\n",
    "display(K_e/(E*I/L))"
   ]
  },
  {
   "cell_type": "markdown",
   "metadata": {},
   "source": [
    "# Vetor Local de Forças Nodais"
   ]
  },
  {
   "cell_type": "code",
   "execution_count": 6,
   "metadata": {},
   "outputs": [
    {
     "output_type": "display_data",
     "data": {
      "text/plain": "⎡ L⋅P       ⎤\n⎢ ─── + V₁  ⎥\n⎢  2        ⎥\n⎢           ⎥\n⎢  2        ⎥\n⎢ L ⋅P      ⎥\n⎢ ──── - M₁ ⎥\n⎢  12       ⎥\n⎢           ⎥\n⎢ L⋅P       ⎥\n⎢ ─── - V₂  ⎥\n⎢  2        ⎥\n⎢           ⎥\n⎢   2       ⎥\n⎢  L ⋅P     ⎥\n⎢- ──── + M₂⎥\n⎣   12      ⎦",
      "text/latex": "\\begin{equation*}\\left[\\begin{matrix}\\frac{L P}{2} + V_{1}\\\\\\frac{L^{2} P}{12} - M_{1}\\\\\\frac{L P}{2} - V_{2}\\\\- \\frac{L^{2} P}{12} + M_{2}\\end{matrix}\\right]\\end{equation*}"
     },
     "metadata": {}
    }
   ],
   "source": [
    "V_1,M_1,V_2,M_2 = sym.symbols('V_1,M_1,V_2,M_2')\n",
    "f_e = sym.Matrix([V_1,-M_1,-V_2,M_2])\n",
    "\n",
    "f_e[0] += P*L/2\n",
    "f_e[1] += P*L**2/12\n",
    "f_e[2] += P*L/2\n",
    "f_e[3] += -P*L**2/12\n",
    "\n",
    "display(f_e)"
   ]
  },
  {
   "cell_type": "markdown",
   "metadata": {},
   "source": [
    "# Exemplo Analítico"
   ]
  },
  {
   "cell_type": "markdown",
   "metadata": {},
   "source": [
    "A partir da definição da Matriz de Rigidez e do Vetor de Cargas Nodais dentro de um único Elemento $e$, podemos expandir para uma viga (ou diversas vigas) em uma estrutura dividida em $n$ Elementos.\n",
    "\n",
    "Vamos utilizar, como exemplo, uma viga biapoiada de $2~m$ de comprimento, sendo o apoio no início do vão, de segundo gênero, e o do final do vão, de primeiro gênero. A viga está sujeita a uma carga uniformemente distribuída $P = 10~kN/m$ e tem o produto constante $EI = 10^{2}kNm^{2}$. O problema consiste em calcular o deslocamento e o momento no centro do vão, bem como as reações e as rotações nos apoios.\n",
    "\n",
    "A solução analítica do problema é:\n",
    "\n",
    "$$u =$$"
   ]
  },
  {
   "cell_type": "code",
   "execution_count": 7,
   "metadata": {},
   "outputs": [
    {
     "output_type": "display_data",
     "data": {
      "text/plain": "                    4  \n0.0130208333333333⋅L ⋅P\n───────────────────────\n          E⋅I          ",
      "text/latex": "\\begin{equation*}\\frac{0.0130208333333333 L^{4} P}{E I}\\end{equation*}"
     },
     "metadata": {}
    },
    {
     "output_type": "display_data",
     "data": {
      "text/plain": "0.0208333333333333",
      "text/latex": "\\begin{equation*}0.0208333333333333\\end{equation*}"
     },
     "metadata": {}
    }
   ],
   "source": [
    "u = (5/384)*(P*L**4)/(E*I)\n",
    "display(u)\n",
    "display(u.subs(P,10).subs(L,2).subs(E*I,10**2))"
   ]
  },
  {
   "cell_type": "markdown",
   "metadata": {},
   "source": [
    "$$M =$$"
   ]
  },
  {
   "cell_type": "code",
   "execution_count": 8,
   "metadata": {},
   "outputs": [
    {
     "output_type": "display_data",
     "data": {
      "text/plain": " 2  \nL ⋅P\n────\n 8  ",
      "text/latex": "\\begin{equation*}\\frac{L^{2} P}{8}\\end{equation*}"
     },
     "metadata": {}
    },
    {
     "output_type": "display_data",
     "data": {
      "text/plain": "5",
      "text/latex": "\\begin{equation*}5\\end{equation*}"
     },
     "metadata": {}
    }
   ],
   "source": [
    "M = (P*L**2)/8\n",
    "display(M)\n",
    "display(M.subs(P,10).subs(L,2))"
   ]
  },
  {
   "cell_type": "markdown",
   "metadata": {},
   "source": [
    "$$\\theta_{A} = -\\theta_{B} =$$"
   ]
  },
  {
   "cell_type": "code",
   "execution_count": 9,
   "metadata": {},
   "outputs": [
    {
     "output_type": "display_data",
     "data": {
      "text/plain": "  3   \n L ⋅P \n──────\n24⋅E⋅I",
      "text/latex": "\\begin{equation*}\\frac{L^{3} P}{24 E I}\\end{equation*}"
     },
     "metadata": {}
    },
    {
     "output_type": "display_data",
     "data": {
      "text/plain": "1/30",
      "text/latex": "\\begin{equation*}\\frac{1}{30}\\end{equation*}"
     },
     "metadata": {}
    }
   ],
   "source": [
    "theta_A = (P*L**3)/(24*E*I)\n",
    "display(theta_A)\n",
    "display(theta_A.subs(P,10).subs(L,2).subs(E*I,10**2))"
   ]
  },
  {
   "cell_type": "markdown",
   "metadata": {},
   "source": [
    "$$V_{A} = V_{B} =$$"
   ]
  },
  {
   "cell_type": "code",
   "execution_count": 10,
   "metadata": {},
   "outputs": [
    {
     "output_type": "display_data",
     "data": {
      "text/plain": "L⋅P\n───\n 2 ",
      "text/latex": "\\begin{equation*}\\frac{L P}{2}\\end{equation*}"
     },
     "metadata": {}
    },
    {
     "output_type": "display_data",
     "data": {
      "text/plain": "10",
      "text/latex": "\\begin{equation*}10\\end{equation*}"
     },
     "metadata": {}
    }
   ],
   "source": [
    "V_A = P*L/2\n",
    "display(V_A)\n",
    "display(V_A.subs(P,10).subs(L,2))"
   ]
  },
  {
   "cell_type": "markdown",
   "metadata": {},
   "source": [
    "Considerando dois Elementos na solução, temos então:"
   ]
  },
  {
   "cell_type": "markdown",
   "metadata": {},
   "source": [
    "## Elemento 1\n",
    "\n",
    "### Variáveis de Deformação\n",
    "\n",
    "* $u_{1}^{1}\\rightarrow$ deflexão $\\delta$ no primeiro apoio;\n",
    "\n",
    "* $u_{2}^{1}\\rightarrow$ rotação $\\theta$ no primeiro apoio;\n",
    "\n",
    "* $u_{3}^{1}\\rightarrow$ deflexão $\\delta$ no centro do vão;\n",
    "\n",
    "* $u_{4}^{1}\\rightarrow$ rotação $\\theta$ no centro do vão.\n",
    "\n",
    "### Variáveis de Carregamento\n",
    "\n",
    "* $M_{1}^{1}\\rightarrow$ Momento Fletor no primeiro apoio;\n",
    "\n",
    "* $V_{1}^{1}\\rightarrow$ Força Cortante no primeiro apoio;\n",
    "\n",
    "* $M_{2}^{1}\\rightarrow$ Momento Fletor no centro do vão;\n",
    "\n",
    "* $V_{2}^{1}\\rightarrow$ Força Cortante no centro do vão."
   ]
  },
  {
   "cell_type": "markdown",
   "metadata": {},
   "source": [
    "## Elemento 2\n",
    "\n",
    "### Variáveis de Deformação\n",
    "\n",
    "* $u_{1}^{2}\\rightarrow$ deflexão $\\delta$ no centro do vão;\n",
    "\n",
    "* $u_{2}^{2}\\rightarrow$ rotação $\\theta$ no centro do vão;\n",
    "\n",
    "* $u_{3}^{2}\\rightarrow$ deflexão $\\delta$ no segundo apoio;\n",
    "\n",
    "* $u_{4}^{2}\\rightarrow$ rotação $\\theta$ no segundo apoio.\n",
    "\n",
    "### Variáveis de Carregamento\n",
    "\n",
    "* $M_{1}^{2}\\rightarrow$ Momento Fletor no centro do vão;\n",
    "\n",
    "* $V_{1}^{2}\\rightarrow$ Força Cortante no centro do vão;\n",
    "\n",
    "* $M_{2}^{2}\\rightarrow$ Momento Fletor no segundo apoio;\n",
    "\n",
    "* $V_{2}^{2}\\rightarrow$ Força Cortante no csegundo apoio."
   ]
  },
  {
   "cell_type": "markdown",
   "metadata": {},
   "source": [
    "### Nó Central\n",
    "\n",
    " No nó central há a conexão entre o segundo nó do primeiro Elemento e o primeiro nó do segundo Elemento. Portanto, seus valores coincidem. Assim,\n",
    "\n",
    "\\begin{equation*}\n",
    "    M_{2}^{1} = M_{1}^{2}\n",
    "\\end{equation*}\n",
    "\n",
    "E\n",
    "\n",
    "\\begin{equation*}\n",
    "    V_{1}^{2} = V_{2}^{1}\n",
    "\\end{equation*}"
   ]
  },
  {
   "cell_type": "markdown",
   "metadata": {},
   "source": [
    "## Cálculo das Matrizes de Rigidez Locais"
   ]
  },
  {
   "cell_type": "markdown",
   "metadata": {},
   "source": [
    "$$\\mathbf{K}_{e} = \\frac{EI}{L}\\times$$"
   ]
  },
  {
   "cell_type": "code",
   "execution_count": 11,
   "metadata": {},
   "outputs": [
    {
     "output_type": "display_data",
     "data": {
      "text/plain": "⎡ 12    6   -12    6 ⎤\n⎢ ──    ─   ────   ─ ⎥\n⎢  2    L     2    L ⎥\n⎢ L          L       ⎥\n⎢                    ⎥\n⎢ 6         -6       ⎥\n⎢ ─     4   ───    2 ⎥\n⎢ L          L       ⎥\n⎢                    ⎥\n⎢-12   -6    12   -6 ⎥\n⎢────  ───   ──   ───⎥\n⎢  2    L     2    L ⎥\n⎢ L          L       ⎥\n⎢                    ⎥\n⎢ 6         -6       ⎥\n⎢ ─     2   ───    4 ⎥\n⎣ L          L       ⎦",
      "text/latex": "\\begin{equation*}\\left[\\begin{matrix}\\frac{12}{L^{2}} & \\frac{6}{L} & - \\frac{12}{L^{2}} & \\frac{6}{L}\\\\\\frac{6}{L} & 4 & - \\frac{6}{L} & 2\\\\- \\frac{12}{L^{2}} & - \\frac{6}{L} & \\frac{12}{L^{2}} & - \\frac{6}{L}\\\\\\frac{6}{L} & 2 & - \\frac{6}{L} & 4\\end{matrix}\\right]\\end{equation*}"
     },
     "metadata": {}
    }
   ],
   "source": [
    "display(K_e/(E*I/L))"
   ]
  },
  {
   "cell_type": "markdown",
   "metadata": {},
   "source": [
    "## Elemento 1"
   ]
  },
  {
   "cell_type": "markdown",
   "metadata": {},
   "source": [
    "$$K_{1} = 10^{2}\\times$$"
   ]
  },
  {
   "cell_type": "code",
   "execution_count": 12,
   "metadata": {},
   "outputs": [
    {
     "output_type": "display_data",
     "data": {
      "text/plain": "⎡12   6   -12  6 ⎤\n⎢                ⎥\n⎢ 6   4   -6   2 ⎥\n⎢                ⎥\n⎢-12  -6  12   -6⎥\n⎢                ⎥\n⎣ 6   2   -6   4 ⎦",
      "text/latex": "\\begin{equation*}\\left[\\begin{matrix}12 & 6 & -12 & 6\\\\6 & 4 & -6 & 2\\\\-12 & -6 & 12 & -6\\\\6 & 2 & -6 & 4\\end{matrix}\\right]\\end{equation*}"
     },
     "metadata": {}
    }
   ],
   "source": [
    "K_1 = K_e.subs(E*I,10**2).subs(L,1)\n",
    "display(K_1/100)"
   ]
  },
  {
   "cell_type": "markdown",
   "metadata": {},
   "source": [
    "## Elemento 2"
   ]
  },
  {
   "cell_type": "markdown",
   "metadata": {},
   "source": [
    "$$K_{2} = 10^{2}\\times$$"
   ]
  },
  {
   "cell_type": "code",
   "execution_count": 13,
   "metadata": {},
   "outputs": [
    {
     "output_type": "display_data",
     "data": {
      "text/plain": "⎡12   6   -12  6 ⎤\n⎢                ⎥\n⎢ 6   4   -6   2 ⎥\n⎢                ⎥\n⎢-12  -6  12   -6⎥\n⎢                ⎥\n⎣ 6   2   -6   4 ⎦",
      "text/latex": "\\begin{equation*}\\left[\\begin{matrix}12 & 6 & -12 & 6\\\\6 & 4 & -6 & 2\\\\-12 & -6 & 12 & -6\\\\6 & 2 & -6 & 4\\end{matrix}\\right]\\end{equation*}"
     },
     "metadata": {}
    }
   ],
   "source": [
    "K_2 = K_e.subs(E*I,10**2).subs(L,1)\n",
    "display(K_1/100)"
   ]
  },
  {
   "cell_type": "markdown",
   "metadata": {},
   "source": [
    "## Cálculo do Vetor $\\vec{f}$"
   ]
  },
  {
   "cell_type": "code",
   "execution_count": 14,
   "metadata": {},
   "outputs": [
    {
     "output_type": "display_data",
     "data": {
      "text/plain": "⎡ L⋅P       ⎤\n⎢ ─── + V₁  ⎥\n⎢  2        ⎥\n⎢           ⎥\n⎢  2        ⎥\n⎢ L ⋅P      ⎥\n⎢ ──── - M₁ ⎥\n⎢  12       ⎥\n⎢           ⎥\n⎢ L⋅P       ⎥\n⎢ ─── - V₂  ⎥\n⎢  2        ⎥\n⎢           ⎥\n⎢   2       ⎥\n⎢  L ⋅P     ⎥\n⎢- ──── + M₂⎥\n⎣   12      ⎦",
      "text/latex": "\\begin{equation*}\\left[\\begin{matrix}\\frac{L P}{2} + V_{1}\\\\\\frac{L^{2} P}{12} - M_{1}\\\\\\frac{L P}{2} - V_{2}\\\\- \\frac{L^{2} P}{12} + M_{2}\\end{matrix}\\right]\\end{equation*}"
     },
     "metadata": {}
    }
   ],
   "source": [
    "display(f_e)"
   ]
  },
  {
   "cell_type": "markdown",
   "metadata": {},
   "source": [
    "### Elemento 1"
   ]
  },
  {
   "cell_type": "code",
   "execution_count": 15,
   "metadata": {},
   "outputs": [
    {
     "output_type": "display_data",
     "data": {
      "text/plain": "⎡ V₁ ₁ + 5 ⎤\n⎢          ⎥\n⎢5/6 - M₁ ₁⎥\n⎢          ⎥\n⎢ 5 - V₂ ₁ ⎥\n⎢          ⎥\n⎣M₂ ₁ - 5/6⎦",
      "text/latex": "\\begin{equation*}\\left[\\begin{matrix}V_{1 1} + 5\\\\\\frac{5}{6} - M_{1 1}\\\\5 - V_{2 1}\\\\M_{2 1} - \\frac{5}{6}\\end{matrix}\\right]\\end{equation*}"
     },
     "metadata": {}
    }
   ],
   "source": [
    "V_1_1,M_1_1,V_2_1,M_2_1 = sym.symbols('V_1_1,M_1_1,V_2_1,M_2_1')\n",
    "f_1 = f_e.subs(L,1).subs(P,10).subs(V_1,V_1_1).subs(V_2,V_2_1).subs(M_1,M_1_1).subs(M_2,M_2_1)\n",
    "display(f_1)"
   ]
  },
  {
   "cell_type": "markdown",
   "metadata": {},
   "source": [
    "### Elemento 2"
   ]
  },
  {
   "cell_type": "code",
   "execution_count": 16,
   "metadata": {},
   "outputs": [
    {
     "output_type": "display_data",
     "data": {
      "text/plain": "⎡ V₁ ₂ + 5 ⎤\n⎢          ⎥\n⎢5/6 - M₁ ₂⎥\n⎢          ⎥\n⎢ 5 - V₂ ₂ ⎥\n⎢          ⎥\n⎣M₂ ₂ - 5/6⎦",
      "text/latex": "\\begin{equation*}\\left[\\begin{matrix}V_{1 2} + 5\\\\\\frac{5}{6} - M_{1 2}\\\\5 - V_{2 2}\\\\M_{2 2} - \\frac{5}{6}\\end{matrix}\\right]\\end{equation*}"
     },
     "metadata": {}
    }
   ],
   "source": [
    "V_1_2,M_1_2,V_2_2,M_2_2 = sym.symbols('V_1_2,M_1_2,V_2_2,M_2_2')\n",
    "f_2 = f_e.subs(L,1).subs(P,10).subs(V_1,V_1_2).subs(V_2,V_2_2).subs(M_1,M_1_2).subs(M_2,M_2_2)\n",
    "display(f_2)"
   ]
  },
  {
   "cell_type": "markdown",
   "metadata": {},
   "source": [
    "### Vetor de Forças Global"
   ]
  },
  {
   "cell_type": "code",
   "execution_count": 17,
   "metadata": {},
   "outputs": [
    {
     "output_type": "display_data",
     "data": {
      "text/plain": "⎡    V₁ ₁ + 5    ⎤\n⎢                ⎥\n⎢   5/6 - M₁ ₁   ⎥\n⎢                ⎥\n⎢V₁ ₂ - V₂ ₁ + 10⎥\n⎢                ⎥\n⎢  -M₁ ₂ + M₂ ₁  ⎥\n⎢                ⎥\n⎢    5 - V₂ ₂    ⎥\n⎢                ⎥\n⎣   M₂ ₂ - 5/6   ⎦",
      "text/latex": "\\begin{equation*}\\left[\\begin{matrix}V_{1 1} + 5\\\\\\frac{5}{6} - M_{1 1}\\\\V_{1 2} - V_{2 1} + 10\\\\- M_{1 2} + M_{2 1}\\\\5 - V_{2 2}\\\\M_{2 2} - \\frac{5}{6}\\end{matrix}\\right]\\end{equation*}"
     },
     "metadata": {}
    }
   ],
   "source": [
    "f = sym.zeros(6,1)\n",
    "f[0:4,0] += f_1[0:4,0]\n",
    "f[2:6,0] += f_2[0:4,0]\n",
    "display(f)"
   ]
  },
  {
   "cell_type": "markdown",
   "metadata": {},
   "source": [
    "Entretanto, lambramos que no nó central, temos:\n",
    "\n",
    "\\begin{equation*}\n",
    "    \\left[\\begin{matrix}\n",
    "        -V_{2}^{1} & + & V_{1}^{2} & = & 0 \\\\\n",
    "        M_{2}^{1} & - & M_{1}^{2} & = & 0\n",
    "    \\end{matrix}\\right.\n",
    "\\end{equation*}\n",
    "\n",
    "Portanto, $\\vec{f}$ torna-se:"
   ]
  },
  {
   "cell_type": "code",
   "execution_count": 18,
   "metadata": {},
   "outputs": [
    {
     "output_type": "display_data",
     "data": {
      "text/plain": "⎡ V₁ ₁ + 5 ⎤\n⎢          ⎥\n⎢5/6 - M₁ ₁⎥\n⎢          ⎥\n⎢    10    ⎥\n⎢          ⎥\n⎢    0     ⎥\n⎢          ⎥\n⎢ 5 - V₂ ₂ ⎥\n⎢          ⎥\n⎣M₂ ₂ - 5/6⎦",
      "text/latex": "\\begin{equation*}\\left[\\begin{matrix}V_{1 1} + 5\\\\\\frac{5}{6} - M_{1 1}\\\\10\\\\0\\\\5 - V_{2 2}\\\\M_{2 2} - \\frac{5}{6}\\end{matrix}\\right]\\end{equation*}"
     },
     "metadata": {}
    }
   ],
   "source": [
    "f_G = f.subs(-V_2_1+V_1_2,0).subs(M_2_1-M_1_2,0)\n",
    "display(f_G)"
   ]
  },
  {
   "cell_type": "markdown",
   "metadata": {},
   "source": [
    "## Matriz de Rigidez Global"
   ]
  },
  {
   "cell_type": "markdown",
   "metadata": {},
   "source": [
    "A Matriz de Rigidez Global fica:\n",
    "\n",
    "$$K_G = 10^{2}\\times$$"
   ]
  },
  {
   "cell_type": "code",
   "execution_count": 19,
   "metadata": {},
   "outputs": [
    {
     "output_type": "display_data",
     "data": {
      "text/plain": "⎡12   6   -12  6    0   0 ⎤\n⎢                         ⎥\n⎢ 6   4   -6   2    0   0 ⎥\n⎢                         ⎥\n⎢-12  -6  24   0   -12  6 ⎥\n⎢                         ⎥\n⎢ 6   2    0   8   -6   2 ⎥\n⎢                         ⎥\n⎢ 0   0   -12  -6  12   -6⎥\n⎢                         ⎥\n⎣ 0   0    6   2   -6   4 ⎦",
      "text/latex": "\\begin{equation*}\\left[\\begin{matrix}12 & 6 & -12 & 6 & 0 & 0\\\\6 & 4 & -6 & 2 & 0 & 0\\\\-12 & -6 & 24 & 0 & -12 & 6\\\\6 & 2 & 0 & 8 & -6 & 2\\\\0 & 0 & -12 & -6 & 12 & -6\\\\0 & 0 & 6 & 2 & -6 & 4\\end{matrix}\\right]\\end{equation*}"
     },
     "metadata": {}
    }
   ],
   "source": [
    "K_G = sym.zeros(6,6)\n",
    "K_G[0:4,0:4] += K_1\n",
    "K_G[2:6,2:6] += K_2\n",
    "display(K_G/100)"
   ]
  },
  {
   "cell_type": "markdown",
   "metadata": {},
   "source": [
    "## Vetor de Deslocamentos\n",
    "\n",
    "Considerando as condições de contorno, temos:\n",
    "\n",
    "\\begin{equation*}\n",
    "    \\left\\{\\begin{matrix}\n",
    "        u_{1}^{1} = u_1 & = & 0 \\\\\n",
    "        u_{1}^{2} = u_5 & = & 0 \\\\\n",
    "        M_{1}^{1} & = & 0 \\\\\n",
    "        M_{2}^{2} & = & 0 \\\\\n",
    "    \\end{matrix}\\right.\n",
    "\\end{equation*}\n",
    "\n",
    "Portanto,"
   ]
  },
  {
   "cell_type": "code",
   "execution_count": 20,
   "metadata": {},
   "outputs": [
    {
     "output_type": "display_data",
     "data": {
      "text/plain": "⎡0 ⎤\n⎢  ⎥\n⎢u₂⎥\n⎢  ⎥\n⎢u₃⎥\n⎢  ⎥\n⎢u₄⎥\n⎢  ⎥\n⎢0 ⎥\n⎢  ⎥\n⎣u₆⎦",
      "text/latex": "\\begin{equation*}\\left[\\begin{matrix}0\\\\u_{2}\\\\u_{3}\\\\u_{4}\\\\0\\\\u_{6}\\end{matrix}\\right]\\end{equation*}"
     },
     "metadata": {}
    },
    {
     "output_type": "display_data",
     "data": {
      "text/plain": "⎡V₁ ₁ + 5⎤\n⎢        ⎥\n⎢  5/6   ⎥\n⎢        ⎥\n⎢   10   ⎥\n⎢        ⎥\n⎢   0    ⎥\n⎢        ⎥\n⎢5 - V₂ ₂⎥\n⎢        ⎥\n⎣  -5/6  ⎦",
      "text/latex": "\\begin{equation*}\\left[\\begin{matrix}V_{1 1} + 5\\\\\\frac{5}{6}\\\\10\\\\0\\\\5 - V_{2 2}\\\\- \\frac{5}{6}\\end{matrix}\\right]\\end{equation*}"
     },
     "metadata": {}
    }
   ],
   "source": [
    "u_1,u_2,u_3,u_4,u_5,u_6 = sym.symbols('u_1,u_2,u_3,u_4,u_5,u_6')\n",
    "u = sym.Matrix([u_1,u_2,u_3,u_4,u_5,u_6]).subs(u_1,0).subs(u_5,0)\n",
    "f_G = f_G.subs(M_1_1,0).subs(M_2_2,0)\n",
    "display(u)\n",
    "display(f_G)"
   ]
  },
  {
   "cell_type": "markdown",
   "metadata": {},
   "source": [
    "Assim, o sistema $\\mathbf{K}\\cdot\\vec{u}=\\vec{f}$ torna-se:"
   ]
  },
  {
   "cell_type": "code",
   "execution_count": 21,
   "metadata": {},
   "outputs": [
    {
     "output_type": "display_data",
     "data": {
      "text/plain": "⎡600⋅u₂ - 1200⋅u₃ + 600⋅u₄ ⎤   ⎡V₁ ₁ + 5⎤\n⎢                          ⎥   ⎢        ⎥\n⎢ 400⋅u₂ - 600⋅u₃ + 200⋅u₄ ⎥   ⎢  5/6   ⎥\n⎢                          ⎥   ⎢        ⎥\n⎢-600⋅u₂ + 2400⋅u₃ + 600⋅u₆⎥   ⎢   10   ⎥\n⎢                          ⎥ = ⎢        ⎥\n⎢ 200⋅u₂ + 800⋅u₄ + 200⋅u₆ ⎥   ⎢   0    ⎥\n⎢                          ⎥   ⎢        ⎥\n⎢-1200⋅u₃ - 600⋅u₄ - 600⋅u₆⎥   ⎢5 - V₂ ₂⎥\n⎢                          ⎥   ⎢        ⎥\n⎣ 600⋅u₃ + 200⋅u₄ + 400⋅u₆ ⎦   ⎣  -5/6  ⎦",
      "text/latex": "\\begin{equation*}\\left[\\begin{matrix}600 u_{2} - 1200 u_{3} + 600 u_{4}\\\\400 u_{2} - 600 u_{3} + 200 u_{4}\\\\- 600 u_{2} + 2400 u_{3} + 600 u_{6}\\\\200 u_{2} + 800 u_{4} + 200 u_{6}\\\\- 1200 u_{3} - 600 u_{4} - 600 u_{6}\\\\600 u_{3} + 200 u_{4} + 400 u_{6}\\end{matrix}\\right] = \\left[\\begin{matrix}V_{1 1} + 5\\\\\\frac{5}{6}\\\\10\\\\0\\\\5 - V_{2 2}\\\\- \\frac{5}{6}\\end{matrix}\\right]\\end{equation*}"
     },
     "metadata": {}
    }
   ],
   "source": [
    "eq = sym.Eq(K_G * u, f_G)\n",
    "display(eq)"
   ]
  },
  {
   "cell_type": "markdown",
   "metadata": {},
   "source": [
    "A partir deste sistema, considerando as condições de contorno, podemos obter o seguinte sistema reduzido:"
   ]
  },
  {
   "cell_type": "code",
   "execution_count": 22,
   "metadata": {},
   "outputs": [
    {
     "output_type": "display_data",
     "data": {
      "text/plain": "⎡400   -600  200   0 ⎤\n⎢                    ⎥\n⎢-600  2400   0   600⎥\n⎢                    ⎥\n⎢200    0    800  200⎥\n⎢                    ⎥\n⎣ 0    600   200  400⎦",
      "text/latex": "\\begin{equation*}\\left[\\begin{matrix}400 & -600 & 200 & 0\\\\-600 & 2400 & 0 & 600\\\\200 & 0 & 800 & 200\\\\0 & 600 & 200 & 400\\end{matrix}\\right]\\end{equation*}"
     },
     "metadata": {}
    },
    {
     "output_type": "display_data",
     "data": {
      "text/plain": "⎡5/6 ⎤\n⎢    ⎥\n⎢ 10 ⎥\n⎢    ⎥\n⎢ 0  ⎥\n⎢    ⎥\n⎣-5/6⎦",
      "text/latex": "\\begin{equation*}\\left[\\begin{matrix}\\frac{5}{6}\\\\10\\\\0\\\\- \\frac{5}{6}\\end{matrix}\\right]\\end{equation*}"
     },
     "metadata": {}
    }
   ],
   "source": [
    "f_R = f_G.copy()\n",
    "f_R -= u[0,0]*K_G[:,0]\n",
    "f_R -= u[4,0]*K_G[:,4]\n",
    "\n",
    "K_R = K_G.copy()\n",
    "K_R.row_del(4)\n",
    "K_R.col_del(4)\n",
    "K_R.row_del(0)\n",
    "K_R.col_del(0)\n",
    "f_R.row_del(4)\n",
    "f_R.row_del(0)\n",
    "\n",
    "display(K_R)\n",
    "display(f_R)"
   ]
  },
  {
   "cell_type": "markdown",
   "metadata": {},
   "source": [
    "A solução deste sistema fornece:\n",
    "\n",
    "$$u' = 10^{-2}\\times$$"
   ]
  },
  {
   "cell_type": "code",
   "execution_count": 23,
   "metadata": {},
   "outputs": [
    {
     "output_type": "display_data",
     "data": {
      "text/plain": "⎡10/3 ⎤\n⎢     ⎥\n⎢ 25  ⎥\n⎢ ──  ⎥\n⎢ 12  ⎥\n⎢     ⎥\n⎢  0  ⎥\n⎢     ⎥\n⎣-10/3⎦",
      "text/latex": "\\begin{equation*}\\left[\\begin{matrix}\\frac{10}{3}\\\\\\frac{25}{12}\\\\0\\\\- \\frac{10}{3}\\end{matrix}\\right]\\end{equation*}"
     },
     "metadata": {}
    }
   ],
   "source": [
    "u_R = K_R.solve(f_R)\n",
    "display(u_R*100)"
   ]
  },
  {
   "cell_type": "markdown",
   "metadata": {},
   "source": [
    "Temos, portanto,\n",
    "\n",
    "\\begin{equation*}\n",
    "    \\left\\{\\begin{matrix}\n",
    "        u_{2}^{1} = u_{2} & = & \\frac{10}{3}\\times10^{-2} rad \\\\\n",
    "        u_{3}^{1} = u_{1}^{2} = u_{3} & = & \\frac{25}{12}\\times10^{-2} m \\\\\n",
    "        u_{4}^{1} = u_{2}^{2} = u_{4} & = & 0 \\\\\n",
    "        u_{4}^{2} = u_{6} & = & -\\frac{10}{3}\\times10^{-2} rad \\\\\n",
    "    \\end{matrix}\\right.\n",
    "\\end{equation*}"
   ]
  },
  {
   "cell_type": "markdown",
   "metadata": {},
   "source": [
    "Temos, agora, o seguinte vetor de deslocamentos:\n",
    "\n",
    "$$u = 10^{-2}$$"
   ]
  },
  {
   "cell_type": "code",
   "execution_count": 24,
   "metadata": {},
   "outputs": [
    {
     "output_type": "display_data",
     "data": {
      "text/plain": "⎡        0        ⎤\n⎢                 ⎥\n⎢3.33333333333333 ⎥\n⎢                 ⎥\n⎢2.08333333333333 ⎥\n⎢                 ⎥\n⎢        0        ⎥\n⎢                 ⎥\n⎢        0        ⎥\n⎢                 ⎥\n⎣-3.33333333333333⎦",
      "text/latex": "\\begin{equation*}\\left[\\begin{matrix}0\\\\3.33333333333333\\\\2.08333333333333\\\\0\\\\0\\\\-3.33333333333333\\end{matrix}\\right]\\end{equation*}"
     },
     "metadata": {}
    }
   ],
   "source": [
    "u = u.subs(u_2,1/30).subs(u_3,25/1200).subs(u_4,0).subs(u_6,-1/30)\n",
    "display(100*u)"
   ]
  },
  {
   "cell_type": "markdown",
   "metadata": {},
   "source": [
    "Agora podemos calcular as forças nodais.\n",
    "\n",
    "$$\\vec{f} = $$"
   ]
  },
  {
   "cell_type": "code",
   "execution_count": 25,
   "metadata": {
    "tags": []
   },
   "outputs": [
    {
     "output_type": "display_data",
     "data": {
      "text/plain": "⎡       -5.0       ⎤\n⎢                  ⎥\n⎢0.833333333333334 ⎥\n⎢                  ⎥\n⎢       10.0       ⎥\n⎢                  ⎥\n⎢        0         ⎥\n⎢                  ⎥\n⎢       -5.0       ⎥\n⎢                  ⎥\n⎣-0.833333333333334⎦",
      "text/latex": "\\begin{equation*}\\left[\\begin{matrix}-5.0\\\\0.833333333333334\\\\10.0\\\\0\\\\-5.0\\\\-0.833333333333334\\end{matrix}\\right]\\end{equation*}"
     },
     "metadata": {}
    },
    {
     "output_type": "display_data",
     "data": {
      "text/plain": "⎡V₁ ₁ + 5⎤\n⎢        ⎥\n⎢  5/6   ⎥\n⎢        ⎥\n⎢   10   ⎥\n⎢        ⎥\n⎢   0    ⎥\n⎢        ⎥\n⎢5 - V₂ ₂⎥\n⎢        ⎥\n⎣  -5/6  ⎦",
      "text/latex": "\\begin{equation*}\\left[\\begin{matrix}V_{1 1} + 5\\\\\\frac{5}{6}\\\\10\\\\0\\\\5 - V_{2 2}\\\\- \\frac{5}{6}\\end{matrix}\\right]\\end{equation*}"
     },
     "metadata": {}
    }
   ],
   "source": [
    "f = K_G*u\n",
    "display(f,f_G)"
   ]
  },
  {
   "cell_type": "markdown",
   "metadata": {},
   "source": [
    "Temos, portanto,\n",
    "\n",
    "\\begin{equation*}\n",
    "    \\left\\{\\begin{matrix}\n",
    "        V_{1}^{1} + 5 & = & -5 \\\\\n",
    "        5 - V_{2}^{2} & = & -5\n",
    "    \\end{matrix}\\right.\n",
    "\\end{equation*}\n",
    "\n",
    "Logo,\n",
    "\n",
    "\\begin{equation*}\n",
    "    \\left\\{\\begin{matrix}\n",
    "        V_{1}^{1} & = & -10 \\\\\n",
    "        V_{2}^{2} & = & 10 \\\\\n",
    "    \\end{matrix}\\right.\n",
    "\\end{equation*}"
   ]
  },
  {
   "cell_type": "markdown",
   "metadata": {},
   "source": [
    "Temos, portanto, os seguintes valores de $\\vec{u}_{e}^{1}$ no Elemento 1:\n",
    "\n",
    "$$u_e^{1} =$$"
   ]
  },
  {
   "cell_type": "code",
   "execution_count": 26,
   "metadata": {},
   "outputs": [
    {
     "output_type": "display_data",
     "data": {
      "text/plain": "⎡        0         ⎤\n⎢                  ⎥\n⎢0.0333333333333333⎥\n⎢                  ⎥\n⎢0.0208333333333333⎥\n⎢                  ⎥\n⎣        0         ⎦",
      "text/latex": "\\begin{equation*}\\left[\\begin{matrix}0\\\\0.0333333333333333\\\\0.0208333333333333\\\\0\\end{matrix}\\right]\\end{equation*}"
     },
     "metadata": {}
    }
   ],
   "source": [
    "u_e_1 = u[0:4,0]\n",
    "display(u_e_1)"
   ]
  },
  {
   "cell_type": "markdown",
   "metadata": {},
   "source": [
    "Da mesma forma, temos como calcular o vetor de Forças Nodais $\\vec{f}_{e}^{1}$.\n",
    "\n",
    "$$\\vec{f}_{e}^{1} =$$"
   ]
  },
  {
   "cell_type": "code",
   "execution_count": 27,
   "metadata": {},
   "outputs": [
    {
     "output_type": "display_data",
     "data": {
      "text/plain": "⎡      -5.0       ⎤\n⎢                 ⎥\n⎢0.833333333333334⎥\n⎢                 ⎥\n⎢       5.0       ⎥\n⎢                 ⎥\n⎣-5.83333333333333⎦",
      "text/latex": "\\begin{equation*}\\left[\\begin{matrix}-5.0\\\\0.833333333333334\\\\5.0\\\\-5.83333333333333\\end{matrix}\\right]\\end{equation*}"
     },
     "metadata": {}
    },
    {
     "output_type": "display_data",
     "data": {
      "text/plain": "⎡ V₁ + 5 ⎤\n⎢        ⎥\n⎢5/6 - M₁⎥\n⎢        ⎥\n⎢ 5 - V₂ ⎥\n⎢        ⎥\n⎣M₂ - 5/6⎦",
      "text/latex": "\\begin{equation*}\\left[\\begin{matrix}V_{1} + 5\\\\\\frac{5}{6} - M_{1}\\\\5 - V_{2}\\\\M_{2} - \\frac{5}{6}\\end{matrix}\\right]\\end{equation*}"
     },
     "metadata": {}
    }
   ],
   "source": [
    "f_e_1 = K_1*u_e_1\n",
    "display(f_e_1,f_e.subs(L,1).subs(P,10))"
   ]
  },
  {
   "cell_type": "markdown",
   "metadata": {},
   "source": [
    "De onde resulta:\n",
    "\n",
    "\\begin{equation*}\n",
    "    \\left\\{\\begin{matrix}\n",
    "        V_{1}^{1} & = & -10~kN \\\\\n",
    "        M_{1}^{1} & = & 0 \\\\\n",
    "        V_{2}^{1} & = & 0 \\\\\n",
    "        M_{2}^{1} & = & -5~kN\\cdot m\n",
    "    \\end{matrix}\\right.\n",
    "\\end{equation*}"
   ]
  },
  {
   "cell_type": "markdown",
   "metadata": {},
   "source": [
    "Seguindo o mesmo raciocínio, podemos calcular o vetor de Forças Nodais do Elemento 2, $\\vec{f}_{e}^{2}$.\n",
    "\n",
    "$$\\vec{f}_{e}^{2} =$$"
   ]
  },
  {
   "cell_type": "code",
   "execution_count": 28,
   "metadata": {},
   "outputs": [
    {
     "output_type": "display_data",
     "data": {
      "text/plain": "⎡       5.0        ⎤\n⎢                  ⎥\n⎢ 5.83333333333333 ⎥\n⎢                  ⎥\n⎢       -5.0       ⎥\n⎢                  ⎥\n⎣-0.833333333333334⎦",
      "text/latex": "\\begin{equation*}\\left[\\begin{matrix}5.0\\\\5.83333333333333\\\\-5.0\\\\-0.833333333333334\\end{matrix}\\right]\\end{equation*}"
     },
     "metadata": {}
    },
    {
     "output_type": "display_data",
     "data": {
      "text/plain": "⎡ V₁ + 5 ⎤\n⎢        ⎥\n⎢5/6 - M₁⎥\n⎢        ⎥\n⎢ 5 - V₂ ⎥\n⎢        ⎥\n⎣M₂ - 5/6⎦",
      "text/latex": "\\begin{equation*}\\left[\\begin{matrix}V_{1} + 5\\\\\\frac{5}{6} - M_{1}\\\\5 - V_{2}\\\\M_{2} - \\frac{5}{6}\\end{matrix}\\right]\\end{equation*}"
     },
     "metadata": {}
    }
   ],
   "source": [
    "u_e_2 = u[2:6,0]\n",
    "f_e_2 = K_2*u_e_2\n",
    "display(f_e_2,f_e.subs(L,1).subs(P,10))"
   ]
  },
  {
   "cell_type": "markdown",
   "metadata": {},
   "source": [
    "De onde resulta:\n",
    "\n",
    "\\begin{equation*}\n",
    "    \\left\\{\\begin{matrix}\n",
    "        V_{1}^{2} & = & 0 \\\\\n",
    "        M_{1}^{2} & = & -5~kN\\cdot m \\\\\n",
    "        V_{2}^{2} & = & 10~kN \\\\\n",
    "        M_{2}^{2} & = & 0\n",
    "    \\end{matrix}\\right.\n",
    "\\end{equation*}"
   ]
  },
  {
   "cell_type": "markdown",
   "metadata": {},
   "source": [
    "# Caso Geral"
   ]
  },
  {
   "cell_type": "markdown",
   "metadata": {},
   "source": [
    "# Solução Por Código"
   ]
  },
  {
   "cell_type": "markdown",
   "metadata": {},
   "source": [
    "A seguir, vamos elaborar um código em Python para solucionar uma viga a partir de um arquivo de entrada no formato JSON cotendo as informações da estrutura.\n",
    "\n",
    "vamos começar definindo uma classe para conter os nós da estrutura."
   ]
  },
  {
   "cell_type": "markdown",
   "metadata": {},
   "source": [
    "## Classe \"Nó\""
   ]
  },
  {
   "cell_type": "markdown",
   "metadata": {},
   "source": [
    "A classe que conterá os nós é genérica e tem capacedade de armazenar informações sobre um sistema tridimensional, contemplando, assim, a localização espacial do nó em coordenadas $(x,y,z)$, bem como informações sobre as restrições (de translação e rotação) impostas por apoios, bem como as cargas pontuais aplicadas sobre este, sendo forças ou momentos.\n",
    "\n",
    "Embora esta classe seja de carater genérico, apenas os campos aplicáveis ao caso da viga unidimensional serão efetivamente utilizados."
   ]
  },
  {
   "cell_type": "code",
   "execution_count": 29,
   "metadata": {},
   "outputs": [],
   "source": [
    "# Class to store and update nodes and nodes data as locate, if have constrains and loads, as well calculated reactions and deslocs\n",
    "class node:\n",
    "    def __init__(self, i, P=np.array([0.0,0.0,0.0]), S=[False,False,False,False,False,False], L=np.array([0.0,0.0,0.0,0.0,0.0,0.0]), tag=''):\n",
    "            self.index = i                          # node index reference\n",
    "            self.locate = P                         # (x,y,z)\n",
    "            self.support = S                        # (Rx,Ry,Rz,Rmx,Rmy,Rmz) bool if exists\n",
    "            self.load = L                           # (Fx,Fy,Fz,Mx,My,Mz)\n",
    "            self.tag = tag                          # String name\n",
    "            self.reaction = np.array([0.0,0.0,0.0,0.0,0.0,0.0]) # (Rx,Ry,Rz,Rmx,Rmy,Rmz) to calculate\n",
    "            self.u = np.array([0.0,0.0,0.0,0.0,0.0,0.0])        # (dx,dy,dz,theta_x,theta_y,theta_z) to calculate\n",
    "    \n",
    "    def Reaction(self,R=np.array([0.0,0.0,0.0,0.0,0.0,0.0])):\n",
    "        self.reaction = R                           # Calculated values\n",
    "\n",
    "    def Desloc(self,u=np.array([0.0,0.0,0.0,0.0,0.0,0.0])):\n",
    "        self.u = u                                  # Calculated values"
   ]
  },
  {
   "cell_type": "markdown",
   "metadata": {},
   "source": [
    "## Classe \"Viga\""
   ]
  },
  {
   "cell_type": "markdown",
   "metadata": {},
   "source": [
    "Da mesma forma, precisamos de uma classe para operar com as barras que conectam os nós, assim como as propriedades de carga e deformação.\n",
    "\n",
    "A classe abaixo lida com barras como elementos finitos locais. As barras reais serão criadas como um elemento único e subdivididas em elementos com nós intermediários.\n",
    "\n",
    "Por simplificação, serão consideradas vigas unidimensionais ao longo do eixo $x$, com esforços cortantes na direção $y$ e momento fletor em $z$. A classe Viga é, na prática, uma sucessão de pontos em $x$, onde cada segmento vai do ponto $x_{i}$ para o ponto $x_{i+1}$, sendo $y=0$ e $z=0$. Como estamos considerando os esforços cortantes e de momento fletor, os deslocamentos ocorrerão no eixo $y$.\n",
    "\n",
    "A implementação do código da classe \"Viga\" abaixo está configurada para uma viga tridimensional. com esforços diversos nas estremidades, bem como esforços distribuídos na forma $a+bx+cx^{2}$, mas a matriz de rigidez está configurada para esforços contantes, momento fletor e carga distribuída constante apenas ($a=P, b=0, c=0$). Assim, um segmento de viga é dividido em $n$ elementos finitos e retorna a matriz de rigidez e vetor de forças nodais para estes esforços apenas."
   ]
  },
  {
   "cell_type": "code",
   "execution_count": 30,
   "metadata": {},
   "outputs": [],
   "source": [
    "# Class to store and calculate bars or elements\n",
    "class element:\n",
    "    def __init__(self,i,first,last,E,G,S,I,J,P=np.array([0,0,0]),tag='',n=10):\n",
    "        self.index = i      # Index\n",
    "        self.n = n          # Grid size\n",
    "        self.tag = tag      # Element name\n",
    "        self.start = first  # Start node\n",
    "        self.end = last     # End node\n",
    "        self.grid = []      # Fake nodes from grid\n",
    "        self.E = E          # Elasticity constant\n",
    "        self.G = G          # Transversal Elasticity constant\n",
    "        self.A = S          # Stretch\n",
    "        self.I = I          # Inertia constant\n",
    "        self.J = J          # Polar inertia constant\n",
    "        self.load = P       # Loads with a+bx+cx**2 constants in array (a,b,c)\n",
    "        self.set_grid(n)\n",
    "\n",
    "    def set_grid(self,n):\n",
    "        self.n = n\n",
    "        self.grid = []\n",
    "        ds = (self.end.locate - self.start.locate)/n\n",
    "        for i in range(1,n):\n",
    "            loc = self.start.locate+ds*i\n",
    "            self.grid.append(node(0,P=loc))\n",
    "\n",
    "    \"\"\"\n",
    "    To K matrix, we are considerating the local variables below:\n",
    "        * u_0 -> dx_1\n",
    "        * u_1 -> dy_1\n",
    "        * u_2 -> dz_1\n",
    "        * u_3 -> theta_x_1 (yz)\n",
    "        * u_4 -> theta_y_1 (zx)\n",
    "        * u_5 -> theta_z_1 (xy)\n",
    "        * u_6 -> dx_2\n",
    "        * u_7 -> dy_2\n",
    "        * u_8 -> dz_2\n",
    "        * u_9 -> theta_x_2 (yz)\n",
    "        * u_10 -> theta_y_2 (zx)\n",
    "        * u_11 -> theta_z_2 (xy)\n",
    "    For two-dimensional plan just use u_0, u_1, u_3, u_6, u_7, u_11\n",
    "    \"\"\"\n",
    "\n",
    "    def K_2d(self):\n",
    "        A = self.A\n",
    "        E = self.E\n",
    "        G = self.G\n",
    "        I = self.I\n",
    "        J = self.J\n",
    "        L = np.linalg.norm(self.end.locate - self.start.locate) / self.n\n",
    "        K = np.zeros([2*(self.n+1),2*(self.n+1)])\n",
    "        for k in range(self.n):\n",
    "            K_l = (E*I/L) * np.array([\n",
    "                [12/L**2,   6/L,    -12/L**2,   6/L ],\n",
    "                [6/L,       4,      -6/L,       2   ],\n",
    "                [-12/L**2,  -6/L,   12/L**2,    -6/L],\n",
    "                [6/L,       2,      -6/L,       4   ]\n",
    "            ])\n",
    "            K[2*k:2*k+4,2*k:2*k+4] += K_l\n",
    "        return K\n",
    "\n",
    "    def f_2d(self):\n",
    "        P = self.load[0]\n",
    "        L = np.linalg.norm(self.end.locate - self.start.locate) / self.n\n",
    "        f = np.zeros(2*(self.n+1))\n",
    "        for k in range(self.n):\n",
    "            if k == 0:\n",
    "                V_1 = self.start.load[1]\n",
    "                M_1 = self.start.load[5]\n",
    "                V_2 = 0\n",
    "                M_2 = 0\n",
    "            elif k == self.n-1:\n",
    "                V_1 = 0\n",
    "                M_1 = 0\n",
    "                V_2 = 0\n",
    "                M_2 = 0\n",
    "            else:\n",
    "                V_1 = 0\n",
    "                M_1 = 0\n",
    "                V_2 = self.end.load[1]\n",
    "                M_2 = self.end.load[5]\n",
    "            f_l = np.array([\n",
    "                L*P/2 + V_1,\n",
    "                (L**2)*P/12 - M_1,\n",
    "                L*P/2 - V_2,\n",
    "                -(L**2)*P/12 + M_2\n",
    "            ])\n",
    "            f[2*k:2*k+4] += f_l\n",
    "        if self.start.support[1]:\n",
    "            f[0] = np.NaN\n",
    "        if self.start.support[5]:\n",
    "            f[1] = np.NaN\n",
    "        if self.end.support[1]:\n",
    "            f[-2] = np.NaN\n",
    "        if self.end.support[5]:\n",
    "            f[-1] = np.NaN\n",
    "        return f"
   ]
  },
  {
   "cell_type": "markdown",
   "metadata": {},
   "source": [
    "## Entrada de Arquivo JSON"
   ]
  },
  {
   "cell_type": "markdown",
   "metadata": {},
   "source": [
    "Entre as funções auxiliares, também utilizaremos uma função para ler um arquivo JSON e armazenar em uma variável na forma de dicionário Python. Alternativamente, esta função poderia estar contida na própria classe da estrutura que será criada mais adiante, de forma que o caminho seria passado como parâmetro, entretanto, a criação separada permite visualizar o conteúdo do arquivo fora da classe."
   ]
  },
  {
   "cell_type": "code",
   "execution_count": 31,
   "metadata": {},
   "outputs": [],
   "source": [
    "def readjson(path):\n",
    "    file = None\n",
    "    try:\n",
    "        with open(path,'r') as f:\n",
    "            file = json.load(f)\n",
    "    except IOError as err:\n",
    "        print('File Error: ' + str(err))\n",
    "    except JSONDecodeError as err:\n",
    "        print('JSON Error: ' + str(err))\n",
    "    finally:\n",
    "        return file"
   ]
  },
  {
   "cell_type": "markdown",
   "metadata": {},
   "source": [
    "## Classe \"Estrutura\""
   ]
  },
  {
   "cell_type": "markdown",
   "metadata": {},
   "source": [
    "Por fim, utilizaremos uma classe para processar toda a estrutura. Esta classe conterá listas com todos os nós e barras da estrutura, bem como os métodos necessários para calcular os deslocamentos dos nós, esforços e deformações nas barras.\n",
    "\n",
    "A chamada para a criação de um objeto de estrutura será pelo fornecimento de um dicionário lido através de um arquivo JSON contendo todos os dados da estrutura, como os nós, apoios, constantes, ligações entre os nós e carregamentos.\n",
    "\n",
    "Conforme descrito na classe \"Viga\", a estrutura será uma sucessão de segmentos de viga, formando uma única viga, com nós nas extremidades e nos pontos de aplicação de carga, ou de início e fim de carga distribuída constante. Portanto, apesar de ler e plotar quaisquer estruturas, bidimensionais ou tridimensionais, apenas será capaz de resolver, pelo métodos dos deslocamentos, estruturas reticuladas contínuas horizontais com cargas verticais e momentos em $z$."
   ]
  },
  {
   "cell_type": "code",
   "execution_count": 32,
   "metadata": {},
   "outputs": [],
   "source": [
    "# Structure data class\n",
    "class Structure:\n",
    "    def __init__(self,data,grid=10):\n",
    "        self.tag = data[\"tag\"]\n",
    "        self.n = data[\"n\"]\n",
    "        self.dimension = data[\"dim\"]\n",
    "        self.grid = grid\n",
    "        self._solved = False\n",
    "        self.nodes = []\n",
    "        self.bars = []\n",
    "        for name, value in data['nodes'].items():\n",
    "            P = np.array([value[\"x\"],value[\"y\"],value[\"z\"]])\n",
    "            S=[False,False,False,False,False,False]\n",
    "            L=np.array([value[\"Fx\"], value[\"Fy\"], value[\"Fz\"], value[\"Mx\"], value[\"My\"], value[\"Mz\"]])\n",
    "            if value[\"Tx\"]:\n",
    "                S[0] = True\n",
    "            if value[\"Ty\"]:\n",
    "                S[1] = True\n",
    "            if value[\"Tz\"]:\n",
    "                S[2] = True\n",
    "            if value[\"Rx\"]:\n",
    "                S[3] = True\n",
    "            if value[\"Ry\"]:\n",
    "                S[4] = True\n",
    "            if value[\"Rz\"]:\n",
    "                S[5] = True\n",
    "            newnode = node(value[\"id\"],P,S,L,name)\n",
    "            self.nodes.append(newnode)\n",
    "        for name, value in data['bars'].items():\n",
    "            E = value[\"E\"]\n",
    "            G = value[\"G\"]\n",
    "            S = value[\"S\"]\n",
    "            I = value[\"I\"]\n",
    "            J = value[\"J\"]\n",
    "            P = np.array([value[\"P\"], value[\"Px\"], value[\"Px2\"]])\n",
    "            newbar = element(value[\"id\"], self.nodes[value[\"from\"]],self.nodes[value[\"to\"]], E, G, S, I, J, P, name, self.grid)\n",
    "            self.bars.append(newbar)\n",
    "\n",
    "    def K(self):\n",
    "        n = self.n + (self.grid - 1) * (self.n - 1)\n",
    "        K = np.zeros([2*n,2*n])\n",
    "        for bar in self.bars:\n",
    "            i = bar.start.index * bar.n\n",
    "            K_loc = bar.K_2d()\n",
    "            K[2*i:2*i+K_loc.shape[0], 2*i:2*i+K_loc.shape[1]] += K_loc\n",
    "        return K\n",
    "\n",
    "    def f(self):\n",
    "        n = self.n + (self.grid - 1) * (self.n - 1)\n",
    "        f = np.zeros(2*n)\n",
    "        for bar in self.bars:\n",
    "            i = bar.start.index * bar.n\n",
    "            f_loc = bar.f_2d()\n",
    "            f[2*i:2*i+bar.f_2d().shape[0]-2] += f_loc[0:-2]\n",
    "        f[-2] += self.bars[-1].f_2d()[-2]\n",
    "        f[-1] += self.bars[-1].f_2d()[-1]\n",
    "        return f\n",
    "\n",
    "    def solve(self):\n",
    "        n = self.n + (self.grid - 1) * (self.n - 1)\n",
    "        K = self.K()\n",
    "        f = self.f()\n",
    "        u = np.zeros(2*n)\n",
    "        f_m = f.copy()\n",
    "        K_m = K.copy()\n",
    "        for i in range(f.shape[0]):\n",
    "            j = f.shape[0] - i - 1\n",
    "            if np.isnan(f[j]):\n",
    "                f_m = np.delete(f_m, j, 0)\n",
    "                K_m = np.delete(K_m, j, 0)\n",
    "                K_m = np.delete(K_m, j, 1)\n",
    "        u_m = np.linalg.solve(K_m, f_m)\n",
    "        k = 0\n",
    "        for i in range(2*n):\n",
    "            if not np.isnan(f[i]):\n",
    "                u[i] = u_m[k]\n",
    "                k += 1\n",
    "        #f = K@u\n",
    "        for bar in self.bars:\n",
    "            i = bar.start.index * bar.n\n",
    "            j = bar.end.index * bar.n\n",
    "            u_y = u[2*i]\n",
    "            u_rz = u[2*i+1]\n",
    "            u_loc = np.array([0.0,u_y,0.0,0.0,0.0,u_rz])\n",
    "            bar.start.Desloc(u_loc)\n",
    "            for k in range(bar.n-1):\n",
    "                u_y = u[2*(i+k+1)]\n",
    "                u_rz = u[2*(i+k+1)+1]\n",
    "                u_loc = np.array([0.0,u_y,0.0,0.0,0.0,u_rz])\n",
    "                bar.grid[k].Desloc(u_loc)\n",
    "            u_y = u[2*j]\n",
    "            u_rz = u[2*j+1]\n",
    "            u_loc = np.array([0.0,u_y,0.0,0.0,0.0,u_rz])\n",
    "            bar.end.Desloc(u_loc)\n",
    "        return\n",
    "\n",
    "    def show_3d(self):\n",
    "        out = go.Figure()\n",
    "        for bar in self.bars:\n",
    "            local = dict({\"x\":[],\"y\":[],\"z\":[],\"tag\":[]})\n",
    "            local[\"x\"].append(bar.start.locate[0])\n",
    "            local[\"y\"].append(bar.start.locate[1])\n",
    "            local[\"z\"].append(bar.start.locate[2])\n",
    "            local[\"tag\"].append(bar.tag)\n",
    "            for nd in bar.grid:\n",
    "                local[\"x\"].append(nd.locate[0])\n",
    "                local[\"y\"].append(nd.locate[1])\n",
    "                local[\"z\"].append(nd.locate[2])\n",
    "                local[\"tag\"].append(bar.tag)\n",
    "            local[\"x\"].append(bar.end.locate[0])\n",
    "            local[\"y\"].append(bar.end.locate[1])\n",
    "            local[\"z\"].append(bar.end.locate[2])\n",
    "            local[\"tag\"].append(bar.tag)\n",
    "            if self.dimension == 2:\n",
    "                out.add_scatter(x=local[\"x\"],y=local[\"y\"], marker=dict(size=5), line=dict(width=2), name=bar.tag)\n",
    "                out.update_layout(legend_title_text = \"Barras\")\n",
    "                out.update_xaxes(title_text=\"$x[m]$\")\n",
    "                out.update_yaxes(title_text=\"$y[m]$\")\n",
    "            else:\n",
    "                out.add_scatter3d(x=local[\"x\"],y=local[\"y\"],z=local[\"z\"], marker=dict(size=3), line=dict(width=2), name=bar.tag)\n",
    "                out.update_layout(legend_title_text = \"Barras\")\n",
    "        return out\n",
    "\n",
    "    def show(self):\n",
    "        self.solve()\n",
    "        fig = bk.Figure(title=\"Structure\", sizing_mode=\"scale_width\")\n",
    "        fig.xaxis.axis_label = 'x [m]'\n",
    "        fig.yaxis.axis_label = 'y [mm]'\n",
    "        data = {\n",
    "            'dot_x': [],\n",
    "            'dot_y': [],\n",
    "            'u_x': [],\n",
    "            'u_y': [],\n",
    "            'loc_x': [],\n",
    "            'loc_y': [],\n",
    "            'M': [],\n",
    "            'V': []\n",
    "        }\n",
    "        data_0 = {\n",
    "            'dot_x': [],\n",
    "            'dot_y': [],\n",
    "            'u_x': [],\n",
    "            'u_y': [],\n",
    "            'M': [],\n",
    "            'V': []\n",
    "        }\n",
    "        for dot in self.nodes:\n",
    "            data_0['dot_x'].append(dot.locate[0])\n",
    "            data_0['dot_y'].append((dot.locate[1])*1000)\n",
    "            data_0['u_x'].append(dot.u[0])\n",
    "            data_0['u_y'].append((dot.u[1])*1000)\n",
    "            data_0['M'].append(dot.reaction[5])\n",
    "            data_0['V'].append(dot.reaction[1])\n",
    "        data['dot_x'].append(self.bars[0].start.locate[0])\n",
    "        data['dot_y'].append(self.bars[0].start.locate[1])\n",
    "        data['u_x'].append(self.bars[0].start.u[0]*1000)\n",
    "        data['u_y'].append(self.bars[0].start.u[1]*1000)\n",
    "        data['loc_x'].append(self.bars[0].start.locate[0] + self.bars[0].start.u[0])\n",
    "        data['loc_y'].append((self.bars[0].start.locate[1] + self.bars[0].start.u[1])*1000)\n",
    "        data['M'].append(self.bars[0].start.reaction[5])\n",
    "        data['V'].append(self.bars[0].start.reaction[1])\n",
    "        for bar in self.bars:\n",
    "            for dot in bar.grid:\n",
    "                data['dot_x'].append(dot.locate[0])\n",
    "                data['dot_y'].append(dot.locate[1])\n",
    "                data['u_x'].append(dot.u[0]*1000)\n",
    "                data['u_y'].append(dot.u[1]*1000)\n",
    "                data['loc_x'].append(dot.locate[0] + dot.u[0])\n",
    "                data['loc_y'].append((dot.locate[1] + dot.u[1])*1000)\n",
    "                data['M'].append(dot.reaction[5])\n",
    "                data['V'].append(dot.reaction[1])\n",
    "            data['dot_x'].append(bar.end.locate[0])\n",
    "            data['dot_y'].append(bar.end.locate[1])\n",
    "            data['u_x'].append(bar.end.u[0]*1000)\n",
    "            data['u_y'].append(bar.end.u[1]*1000)\n",
    "            data['loc_x'].append(bar.end.locate[0] + bar.end.u[0])\n",
    "            data['loc_y'].append((bar.end.locate[1] + bar.end.u[1])*1000)\n",
    "            data['M'].append(bar.end.reaction[5])\n",
    "            data['V'].append(bar.end.reaction[1])\n",
    "        source = ColumnDataSource(data=data)\n",
    "        source_0 = ColumnDataSource(data=data_0)\n",
    "        hover_tool = HoverTool(\n",
    "            tooltips=[\n",
    "                ( 'X',   '@dot_x{0,0.00} m' ),\n",
    "                ( 'dy', '@u_y{0,0.00} mm'   ),\n",
    "                ( 'M', '@M{0,0.0} kNm'      ),\n",
    "                ( 'V', '@V{0,0.0} kN'       ),\n",
    "            ],\n",
    "            mode='vline'\n",
    "        )\n",
    "        fig.circle(x='dot_x',y='dot_y', source=source_0, size=10, color=\"navy\", alpha=0.5)\n",
    "        fig.line(x='dot_x',y='dot_y', source=source_0)\n",
    "        fig.scatter(x='loc_x',y='loc_y', source=source, size=5, color=\"red\", alpha=0.5)\n",
    "        fig.line(x='loc_x',y='loc_y', source=source,color=\"gold\")\n",
    "        fig.tools.append(hover_tool)\n",
    "        return fig"
   ]
  },
  {
   "cell_type": "markdown",
   "metadata": {},
   "source": [
    "# Exemplo de Arquivo JSON"
   ]
  },
  {
   "cell_type": "markdown",
   "metadata": {},
   "source": [
    "O exemplo abaixo contém o arquivo JSON da estrutura do Exemplo 1, resolvida analiticamente no tópico anterior. Este estrutura será resolvida novamente abaixo utilizando as classes e métodos apresentados."
   ]
  },
  {
   "cell_type": "code",
   "execution_count": 33,
   "metadata": {
    "scrolled": true,
    "tags": []
   },
   "outputs": [],
   "source": [
    "#print(json.dumps(readjson(\"exemplo1.json\"), indent=4, sort_keys=True))"
   ]
  },
  {
   "cell_type": "markdown",
   "metadata": {},
   "source": [
    "# Exemplo 1 - Uma Barra"
   ]
  },
  {
   "cell_type": "code",
   "execution_count": 34,
   "metadata": {
    "tags": []
   },
   "outputs": [
    {
     "output_type": "display_data",
     "data": {
      "text/html": "\n\n\n\n\n\n  <div class=\"bk-root\" id=\"71afce67-a145-40b5-8ba6-5ef257923e1e\" data-root-id=\"1002\"></div>\n"
     },
     "metadata": {}
    },
    {
     "output_type": "display_data",
     "data": {
      "application/javascript": "(function(root) {\n  function embed_document(root) {\n    \n  var docs_json = {\"6e452954-cbe1-4727-804c-227d3e3102ac\":{\"roots\":{\"references\":[{\"attributes\":{\"below\":[{\"id\":\"1013\"}],\"center\":[{\"id\":\"1016\"},{\"id\":\"1020\"}],\"left\":[{\"id\":\"1017\"}],\"renderers\":[{\"id\":\"1041\"},{\"id\":\"1046\"},{\"id\":\"1051\"},{\"id\":\"1056\"}],\"sizing_mode\":\"scale_width\",\"title\":{\"id\":\"1003\"},\"toolbar\":{\"id\":\"1028\"},\"x_range\":{\"id\":\"1005\"},\"x_scale\":{\"id\":\"1009\"},\"y_range\":{\"id\":\"1007\"},\"y_scale\":{\"id\":\"1011\"}},\"id\":\"1002\",\"subtype\":\"Figure\",\"type\":\"Plot\"},{\"attributes\":{\"line_color\":\"gold\",\"x\":{\"field\":\"loc_x\"},\"y\":{\"field\":\"loc_y\"}},\"id\":\"1054\",\"type\":\"Line\"},{\"attributes\":{\"axis_label\":\"x [m]\",\"formatter\":{\"id\":\"1063\"},\"ticker\":{\"id\":\"1014\"}},\"id\":\"1013\",\"type\":\"LinearAxis\"},{\"attributes\":{\"source\":{\"id\":\"1035\"}},\"id\":\"1057\",\"type\":\"CDSView\"},{\"attributes\":{\"axis\":{\"id\":\"1017\"},\"dimension\":1,\"ticker\":null},\"id\":\"1020\",\"type\":\"Grid\"},{\"attributes\":{},\"id\":\"1018\",\"type\":\"BasicTicker\"},{\"attributes\":{\"active_drag\":\"auto\",\"active_inspect\":\"auto\",\"active_multi\":null,\"active_scroll\":\"auto\",\"active_tap\":\"auto\",\"tools\":[{\"id\":\"1021\"},{\"id\":\"1022\"},{\"id\":\"1023\"},{\"id\":\"1024\"},{\"id\":\"1025\"},{\"id\":\"1026\"},{\"id\":\"1037\"}]},\"id\":\"1028\",\"type\":\"Toolbar\"},{\"attributes\":{\"source\":{\"id\":\"1036\"}},\"id\":\"1042\",\"type\":\"CDSView\"},{\"attributes\":{\"line_alpha\":0.1,\"line_color\":\"#1f77b4\",\"x\":{\"field\":\"dot_x\"},\"y\":{\"field\":\"dot_y\"}},\"id\":\"1045\",\"type\":\"Line\"},{\"attributes\":{},\"id\":\"1024\",\"type\":\"SaveTool\"},{\"attributes\":{\"fill_alpha\":{\"value\":0.5},\"fill_color\":{\"value\":\"navy\"},\"line_alpha\":{\"value\":0.5},\"line_color\":{\"value\":\"navy\"},\"size\":{\"units\":\"screen\",\"value\":10},\"x\":{\"field\":\"dot_x\"},\"y\":{\"field\":\"dot_y\"}},\"id\":\"1039\",\"type\":\"Circle\"},{\"attributes\":{\"data_source\":{\"id\":\"1035\"},\"glyph\":{\"id\":\"1054\"},\"hover_glyph\":null,\"muted_glyph\":null,\"nonselection_glyph\":{\"id\":\"1055\"},\"selection_glyph\":null,\"view\":{\"id\":\"1057\"}},\"id\":\"1056\",\"type\":\"GlyphRenderer\"},{\"attributes\":{},\"id\":\"1065\",\"type\":\"Selection\"},{\"attributes\":{\"source\":{\"id\":\"1036\"}},\"id\":\"1047\",\"type\":\"CDSView\"},{\"attributes\":{\"fill_alpha\":{\"value\":0.5},\"fill_color\":{\"value\":\"red\"},\"line_alpha\":{\"value\":0.5},\"line_color\":{\"value\":\"red\"},\"size\":{\"units\":\"screen\",\"value\":5},\"x\":{\"field\":\"loc_x\"},\"y\":{\"field\":\"loc_y\"}},\"id\":\"1049\",\"type\":\"Scatter\"},{\"attributes\":{},\"id\":\"1022\",\"type\":\"WheelZoomTool\"},{\"attributes\":{\"text\":\"Structure\"},\"id\":\"1003\",\"type\":\"Title\"},{\"attributes\":{},\"id\":\"1011\",\"type\":\"LinearScale\"},{\"attributes\":{},\"id\":\"1005\",\"type\":\"DataRange1d\"},{\"attributes\":{},\"id\":\"1007\",\"type\":\"DataRange1d\"},{\"attributes\":{\"fill_alpha\":{\"value\":0.1},\"fill_color\":{\"value\":\"navy\"},\"line_alpha\":{\"value\":0.1},\"line_color\":{\"value\":\"navy\"},\"size\":{\"units\":\"screen\",\"value\":10},\"x\":{\"field\":\"dot_x\"},\"y\":{\"field\":\"dot_y\"}},\"id\":\"1040\",\"type\":\"Circle\"},{\"attributes\":{},\"id\":\"1067\",\"type\":\"Selection\"},{\"attributes\":{\"data_source\":{\"id\":\"1035\"},\"glyph\":{\"id\":\"1049\"},\"hover_glyph\":null,\"muted_glyph\":null,\"nonselection_glyph\":{\"id\":\"1050\"},\"selection_glyph\":null,\"view\":{\"id\":\"1052\"}},\"id\":\"1051\",\"type\":\"GlyphRenderer\"},{\"attributes\":{},\"id\":\"1025\",\"type\":\"ResetTool\"},{\"attributes\":{\"data_source\":{\"id\":\"1036\"},\"glyph\":{\"id\":\"1044\"},\"hover_glyph\":null,\"muted_glyph\":null,\"nonselection_glyph\":{\"id\":\"1045\"},\"selection_glyph\":null,\"view\":{\"id\":\"1047\"}},\"id\":\"1046\",\"type\":\"GlyphRenderer\"},{\"attributes\":{},\"id\":\"1014\",\"type\":\"BasicTicker\"},{\"attributes\":{\"line_color\":\"#1f77b4\",\"x\":{\"field\":\"dot_x\"},\"y\":{\"field\":\"dot_y\"}},\"id\":\"1044\",\"type\":\"Line\"},{\"attributes\":{\"source\":{\"id\":\"1035\"}},\"id\":\"1052\",\"type\":\"CDSView\"},{\"attributes\":{\"axis\":{\"id\":\"1013\"},\"ticker\":null},\"id\":\"1016\",\"type\":\"Grid\"},{\"attributes\":{\"bottom_units\":\"screen\",\"fill_alpha\":0.5,\"fill_color\":\"lightgrey\",\"left_units\":\"screen\",\"level\":\"overlay\",\"line_alpha\":1.0,\"line_color\":\"black\",\"line_dash\":[4,4],\"line_width\":2,\"right_units\":\"screen\",\"top_units\":\"screen\"},\"id\":\"1027\",\"type\":\"BoxAnnotation\"},{\"attributes\":{\"data_source\":{\"id\":\"1036\"},\"glyph\":{\"id\":\"1039\"},\"hover_glyph\":null,\"muted_glyph\":null,\"nonselection_glyph\":{\"id\":\"1040\"},\"selection_glyph\":null,\"view\":{\"id\":\"1042\"}},\"id\":\"1041\",\"type\":\"GlyphRenderer\"},{\"attributes\":{\"data\":{\"M\":[0.0,0.0,0.0,0.0,0.0,0.0,0.0,0.0,0.0,0.0,0.0,0.0,0.0,0.0,0.0,0.0,0.0,0.0,0.0,0.0,0.0,0.0,0.0,0.0,0.0,0.0,0.0,0.0,0.0,0.0,0.0,0.0,0.0,0.0,0.0,0.0,0.0,0.0,0.0,0.0,0.0,0.0,0.0,0.0,0.0,0.0,0.0,0.0,0.0,0.0,0.0,0.0,0.0,0.0,0.0,0.0,0.0,0.0,0.0,0.0,0.0,0.0,0.0,0.0,0.0,0.0,0.0,0.0,0.0,0.0,0.0,0.0,0.0,0.0,0.0,0.0,0.0,0.0,0.0,0.0,0.0,0.0,0.0,0.0,0.0,0.0,0.0,0.0,0.0,0.0,0.0,0.0,0.0,0.0,0.0,0.0,0.0,0.0,0.0,0.0,0.0],\"V\":[0.0,0.0,0.0,0.0,0.0,0.0,0.0,0.0,0.0,0.0,0.0,0.0,0.0,0.0,0.0,0.0,0.0,0.0,0.0,0.0,0.0,0.0,0.0,0.0,0.0,0.0,0.0,0.0,0.0,0.0,0.0,0.0,0.0,0.0,0.0,0.0,0.0,0.0,0.0,0.0,0.0,0.0,0.0,0.0,0.0,0.0,0.0,0.0,0.0,0.0,0.0,0.0,0.0,0.0,0.0,0.0,0.0,0.0,0.0,0.0,0.0,0.0,0.0,0.0,0.0,0.0,0.0,0.0,0.0,0.0,0.0,0.0,0.0,0.0,0.0,0.0,0.0,0.0,0.0,0.0,0.0,0.0,0.0,0.0,0.0,0.0,0.0,0.0,0.0,0.0,0.0,0.0,0.0,0.0,0.0,0.0,0.0,0.0,0.0,0.0,0.0],\"dot_x\":[0.0,0.02,0.04,0.06,0.08,0.1,0.12,0.14,0.16,0.18,0.2,0.22,0.24,0.26,0.28,0.3,0.32,0.34,0.36,0.38,0.4,0.42,0.44,0.46,0.48,0.5,0.52,0.54,0.56,0.58,0.6,0.62,0.64,0.66,0.68,0.7000000000000001,0.72,0.74,0.76,0.78,0.8,0.8200000000000001,0.84,0.86,0.88,0.9,0.92,0.9400000000000001,0.96,0.98,1.0,1.02,1.04,1.06,1.08,1.1,1.12,1.1400000000000001,1.16,1.18,1.2,1.22,1.24,1.26,1.28,1.3,1.32,1.34,1.36,1.3800000000000001,1.4000000000000001,1.42,1.44,1.46,1.48,1.5,1.52,1.54,1.56,1.58,1.6,1.62,1.6400000000000001,1.6600000000000001,1.68,1.7,1.72,1.74,1.76,1.78,1.8,1.82,1.84,1.86,1.8800000000000001,1.9000000000000001,1.92,1.94,1.96,1.98,2.0],\"dot_y\":[0.0,0.0,0.0,0.0,0.0,0.0,0.0,0.0,0.0,0.0,0.0,0.0,0.0,0.0,0.0,0.0,0.0,0.0,0.0,0.0,0.0,0.0,0.0,0.0,0.0,0.0,0.0,0.0,0.0,0.0,0.0,0.0,0.0,0.0,0.0,0.0,0.0,0.0,0.0,0.0,0.0,0.0,0.0,0.0,0.0,0.0,0.0,0.0,0.0,0.0,0.0,0.0,0.0,0.0,0.0,0.0,0.0,0.0,0.0,0.0,0.0,0.0,0.0,0.0,0.0,0.0,0.0,0.0,0.0,0.0,0.0,0.0,0.0,0.0,0.0,0.0,0.0,0.0,0.0,0.0,0.0,0.0,0.0,0.0,0.0,0.0,0.0,0.0,0.0,0.0,0.0,0.0,0.0,0.0,0.0,0.0,0.0,0.0,0.0,0.0,0.0],\"loc_x\":[0.0,0.02,0.04,0.06,0.08,0.1,0.12,0.14,0.16,0.18,0.2,0.22,0.24,0.26,0.28,0.3,0.32,0.34,0.36,0.38,0.4,0.42,0.44,0.46,0.48,0.5,0.52,0.54,0.56,0.58,0.6,0.62,0.64,0.66,0.68,0.7000000000000001,0.72,0.74,0.76,0.78,0.8,0.8200000000000001,0.84,0.86,0.88,0.9,0.92,0.9400000000000001,0.96,0.98,1.0,1.02,1.04,1.06,1.08,1.1,1.12,1.1400000000000001,1.16,1.18,1.2,1.22,1.24,1.26,1.28,1.3,1.32,1.34,1.36,1.3800000000000001,1.4000000000000001,1.42,1.44,1.46,1.48,1.5,1.52,1.54,1.56,1.58,1.6,1.62,1.6400000000000001,1.6600000000000001,1.68,1.7,1.72,1.74,1.76,1.78,1.8,1.82,1.84,1.86,1.8800000000000001,1.9000000000000001,1.92,1.94,1.96,1.98,2.0],\"loc_y\":[0.0,-0.06665339996038262,-0.13322773325561174,-0.1996453998856542,-0.26583039985047763,-0.3317083331500502,-0.39720639978433997,-0.46225339975331536,-0.5267797330569425,-0.5907173996951852,-0.6539999996680113,-0.7165627329753955,-0.7783423996173113,-0.8392773995937205,-0.8993077329045867,-0.9583749995498763,-1.016422399529561,-1.0733947328436246,-1.129238399492054,-1.1839013994748042,-1.2373333327918319,-1.2894853994431128,-1.3403103994286165,-1.3897627327483368,-1.4377983994022454,-1.4843749993903022,-1.5294517327125106,-1.572989399368878,-1.6149503993593746,-1.6552987326839654,-1.693999999342652,-1.7310213993354282,-1.7663317326622447,-1.7999013993230506,-1.8317023993178247,-1.8617083326465635,-1.8898943993092663,-1.916237399305891,-1.940715732636405,-1.9633093993007829,-1.9839999992989676,-2.002770732630948,-2.019606399296709,-2.034493399296177,-2.047419732629369,-2.058374999296305,-2.067350399297014,-2.074338732631508,-2.0793343992997446,-2.082333399301774,-2.08333333263756,-2.0823333993069957,-2.07933439931008,-2.074338732646934,-2.0673503993176667,-2.0583749993223392,-2.0474197326609893,-2.0344933993335568,-2.019606399340067,-2.00277073268061,-1.983999999355195,-1.9633093993637294,-1.9407157327061457,-1.9162373993825117,-1.8898943993928974,-1.8617083327373178,-1.8317023994157746,-1.7999013994281898,-1.76633173277444,-1.731021399454455,-1.6939999994681922,-1.6552987328156081,-1.6149503994966719,-1.572989399511444,-1.529451732859972,-1.4843749995422444,-1.4377983995582027,-1.3897627329077942,-1.3403103995910057,-1.2894853996078224,-1.2373333329582297,-1.1839013996422134,-1.129238399659759,-1.0733947330108524,-1.0164223996954806,-0.958374999713629,-0.899307733065283,-0.8392773997504294,-0.7783423997690573,-0.7165627331211559,-0.6539999998067135,-0.5907173998257176,-0.5267797331781565,-0.4622533998640192,-0.3972063998832945,-0.33170833323597176,-0.2658303999220404,-0.19964539994148905,-0.13322773329430632,-0.06665339998048059,0.0],\"u_x\":[0.0,0.0,0.0,0.0,0.0,0.0,0.0,0.0,0.0,0.0,0.0,0.0,0.0,0.0,0.0,0.0,0.0,0.0,0.0,0.0,0.0,0.0,0.0,0.0,0.0,0.0,0.0,0.0,0.0,0.0,0.0,0.0,0.0,0.0,0.0,0.0,0.0,0.0,0.0,0.0,0.0,0.0,0.0,0.0,0.0,0.0,0.0,0.0,0.0,0.0,0.0,0.0,0.0,0.0,0.0,0.0,0.0,0.0,0.0,0.0,0.0,0.0,0.0,0.0,0.0,0.0,0.0,0.0,0.0,0.0,0.0,0.0,0.0,0.0,0.0,0.0,0.0,0.0,0.0,0.0,0.0,0.0,0.0,0.0,0.0,0.0,0.0,0.0,0.0,0.0,0.0,0.0,0.0,0.0,0.0,0.0,0.0,0.0,0.0,0.0,0.0],\"u_y\":[0.0,-0.06665339996038262,-0.13322773325561174,-0.1996453998856542,-0.26583039985047763,-0.3317083331500502,-0.39720639978433997,-0.46225339975331536,-0.5267797330569425,-0.5907173996951852,-0.6539999996680113,-0.7165627329753955,-0.7783423996173113,-0.8392773995937205,-0.8993077329045867,-0.9583749995498763,-1.016422399529561,-1.0733947328436246,-1.129238399492054,-1.1839013994748042,-1.2373333327918319,-1.2894853994431128,-1.3403103994286165,-1.3897627327483368,-1.4377983994022454,-1.4843749993903022,-1.5294517327125106,-1.572989399368878,-1.6149503993593746,-1.6552987326839654,-1.693999999342652,-1.7310213993354282,-1.7663317326622447,-1.7999013993230506,-1.8317023993178247,-1.8617083326465635,-1.8898943993092663,-1.916237399305891,-1.940715732636405,-1.9633093993007829,-1.9839999992989676,-2.002770732630948,-2.019606399296709,-2.034493399296177,-2.047419732629369,-2.058374999296305,-2.067350399297014,-2.074338732631508,-2.0793343992997446,-2.082333399301774,-2.08333333263756,-2.0823333993069957,-2.07933439931008,-2.074338732646934,-2.0673503993176667,-2.0583749993223392,-2.0474197326609893,-2.0344933993335568,-2.019606399340067,-2.00277073268061,-1.983999999355195,-1.9633093993637294,-1.9407157327061457,-1.9162373993825117,-1.8898943993928974,-1.8617083327373178,-1.8317023994157746,-1.7999013994281898,-1.76633173277444,-1.731021399454455,-1.6939999994681922,-1.6552987328156081,-1.6149503994966719,-1.572989399511444,-1.529451732859972,-1.4843749995422444,-1.4377983995582027,-1.3897627329077942,-1.3403103995910057,-1.2894853996078224,-1.2373333329582297,-1.1839013996422134,-1.129238399659759,-1.0733947330108524,-1.0164223996954806,-0.958374999713629,-0.899307733065283,-0.8392773997504294,-0.7783423997690573,-0.7165627331211559,-0.6539999998067135,-0.5907173998257176,-0.5267797331781565,-0.4622533998640192,-0.3972063998832945,-0.33170833323597176,-0.2658303999220404,-0.19964539994148905,-0.13322773329430632,-0.06665339998048059,0.0]},\"selected\":{\"id\":\"1067\"},\"selection_policy\":{\"id\":\"1068\"}},\"id\":\"1035\",\"type\":\"ColumnDataSource\"},{\"attributes\":{},\"id\":\"1066\",\"type\":\"UnionRenderers\"},{\"attributes\":{\"data\":{\"M\":[0.0,0.0],\"V\":[0.0,0.0],\"dot_x\":[0.0,2.0],\"dot_y\":[0.0,0.0],\"u_x\":[0.0,0.0],\"u_y\":[0.0,0.0]},\"selected\":{\"id\":\"1065\"},\"selection_policy\":{\"id\":\"1066\"}},\"id\":\"1036\",\"type\":\"ColumnDataSource\"},{\"attributes\":{},\"id\":\"1009\",\"type\":\"LinearScale\"},{\"attributes\":{\"line_alpha\":0.1,\"line_color\":\"gold\",\"x\":{\"field\":\"loc_x\"},\"y\":{\"field\":\"loc_y\"}},\"id\":\"1055\",\"type\":\"Line\"},{\"attributes\":{},\"id\":\"1068\",\"type\":\"UnionRenderers\"},{\"attributes\":{},\"id\":\"1061\",\"type\":\"BasicTickFormatter\"},{\"attributes\":{\"fill_alpha\":{\"value\":0.1},\"fill_color\":{\"value\":\"red\"},\"line_alpha\":{\"value\":0.1},\"line_color\":{\"value\":\"red\"},\"size\":{\"units\":\"screen\",\"value\":5},\"x\":{\"field\":\"loc_x\"},\"y\":{\"field\":\"loc_y\"}},\"id\":\"1050\",\"type\":\"Scatter\"},{\"attributes\":{\"overlay\":{\"id\":\"1027\"}},\"id\":\"1023\",\"type\":\"BoxZoomTool\"},{\"attributes\":{},\"id\":\"1063\",\"type\":\"BasicTickFormatter\"},{\"attributes\":{},\"id\":\"1026\",\"type\":\"HelpTool\"},{\"attributes\":{\"callback\":null,\"mode\":\"vline\",\"tooltips\":[[\"X\",\"@dot_x{0,0.00} m\"],[\"dy\",\"@u_y{0,0.00} mm\"],[\"M\",\"@M{0,0.0} kNm\"],[\"V\",\"@V{0,0.0} kN\"]]},\"id\":\"1037\",\"type\":\"HoverTool\"},{\"attributes\":{\"axis_label\":\"y [mm]\",\"formatter\":{\"id\":\"1061\"},\"ticker\":{\"id\":\"1018\"}},\"id\":\"1017\",\"type\":\"LinearAxis\"},{\"attributes\":{},\"id\":\"1021\",\"type\":\"PanTool\"}],\"root_ids\":[\"1002\"]},\"title\":\"Bokeh Application\",\"version\":\"2.1.1\"}};\n  var render_items = [{\"docid\":\"6e452954-cbe1-4727-804c-227d3e3102ac\",\"root_ids\":[\"1002\"],\"roots\":{\"1002\":\"71afce67-a145-40b5-8ba6-5ef257923e1e\"}}];\n  root.Bokeh.embed.embed_items_notebook(docs_json, render_items);\n\n  }\n  if (root.Bokeh !== undefined) {\n    embed_document(root);\n  } else {\n    var attempts = 0;\n    var timer = setInterval(function(root) {\n      if (root.Bokeh !== undefined) {\n        clearInterval(timer);\n        embed_document(root);\n      } else {\n        attempts++;\n        if (attempts > 100) {\n          clearInterval(timer);\n          console.log(\"Bokeh: ERROR: Unable to run BokehJS code because BokehJS library is missing\");\n        }\n      }\n    }, 10, root)\n  }\n})(window);",
      "application/vnd.bokehjs_exec.v0+json": ""
     },
     "metadata": {
      "application/vnd.bokehjs_exec.v0+json": {
       "id": "1002"
      }
     }
    }
   ],
   "source": [
    "exemplo1 = Structure(readjson(\"exemplo1.json\"),100)\n",
    "bk.show(exemplo1.show())"
   ]
  },
  {
   "cell_type": "markdown",
   "metadata": {},
   "source": [
    "# Exemplo 2 - Três Barras"
   ]
  },
  {
   "cell_type": "code",
   "execution_count": 35,
   "metadata": {
    "tags": []
   },
   "outputs": [
    {
     "output_type": "display_data",
     "data": {
      "text/html": "\n\n\n\n\n\n  <div class=\"bk-root\" id=\"7a4ba409-a846-4520-95c4-42847c35e664\" data-root-id=\"1129\"></div>\n"
     },
     "metadata": {}
    },
    {
     "output_type": "display_data",
     "data": {
      "application/javascript": "(function(root) {\n  function embed_document(root) {\n    \n  var docs_json = {\"1f11cf36-7465-4541-9668-f3df27f837b3\":{\"roots\":{\"references\":[{\"attributes\":{\"below\":[{\"id\":\"1140\"}],\"center\":[{\"id\":\"1143\"},{\"id\":\"1147\"}],\"left\":[{\"id\":\"1144\"}],\"renderers\":[{\"id\":\"1168\"},{\"id\":\"1173\"},{\"id\":\"1178\"},{\"id\":\"1183\"}],\"sizing_mode\":\"scale_width\",\"title\":{\"id\":\"1130\"},\"toolbar\":{\"id\":\"1155\"},\"x_range\":{\"id\":\"1132\"},\"x_scale\":{\"id\":\"1136\"},\"y_range\":{\"id\":\"1134\"},\"y_scale\":{\"id\":\"1138\"}},\"id\":\"1129\",\"subtype\":\"Figure\",\"type\":\"Plot\"},{\"attributes\":{\"axis\":{\"id\":\"1140\"},\"ticker\":null},\"id\":\"1143\",\"type\":\"Grid\"},{\"attributes\":{},\"id\":\"1132\",\"type\":\"DataRange1d\"},{\"attributes\":{},\"id\":\"1200\",\"type\":\"BasicTickFormatter\"},{\"attributes\":{\"active_drag\":\"auto\",\"active_inspect\":\"auto\",\"active_multi\":null,\"active_scroll\":\"auto\",\"active_tap\":\"auto\",\"tools\":[{\"id\":\"1148\"},{\"id\":\"1149\"},{\"id\":\"1150\"},{\"id\":\"1151\"},{\"id\":\"1152\"},{\"id\":\"1153\"},{\"id\":\"1164\"}]},\"id\":\"1155\",\"type\":\"Toolbar\"},{\"attributes\":{\"overlay\":{\"id\":\"1154\"}},\"id\":\"1150\",\"type\":\"BoxZoomTool\"},{\"attributes\":{\"line_alpha\":0.1,\"line_color\":\"gold\",\"x\":{\"field\":\"loc_x\"},\"y\":{\"field\":\"loc_y\"}},\"id\":\"1182\",\"type\":\"Line\"},{\"attributes\":{},\"id\":\"1198\",\"type\":\"BasicTickFormatter\"},{\"attributes\":{},\"id\":\"1145\",\"type\":\"BasicTicker\"},{\"attributes\":{\"data_source\":{\"id\":\"1163\"},\"glyph\":{\"id\":\"1166\"},\"hover_glyph\":null,\"muted_glyph\":null,\"nonselection_glyph\":{\"id\":\"1167\"},\"selection_glyph\":null,\"view\":{\"id\":\"1169\"}},\"id\":\"1168\",\"type\":\"GlyphRenderer\"},{\"attributes\":{\"bottom_units\":\"screen\",\"fill_alpha\":0.5,\"fill_color\":\"lightgrey\",\"left_units\":\"screen\",\"level\":\"overlay\",\"line_alpha\":1.0,\"line_color\":\"black\",\"line_dash\":[4,4],\"line_width\":2,\"right_units\":\"screen\",\"top_units\":\"screen\"},\"id\":\"1154\",\"type\":\"BoxAnnotation\"},{\"attributes\":{},\"id\":\"1202\",\"type\":\"Selection\"},{\"attributes\":{\"source\":{\"id\":\"1162\"}},\"id\":\"1184\",\"type\":\"CDSView\"},{\"attributes\":{},\"id\":\"1138\",\"type\":\"LinearScale\"},{\"attributes\":{},\"id\":\"1136\",\"type\":\"LinearScale\"},{\"attributes\":{},\"id\":\"1153\",\"type\":\"HelpTool\"},{\"attributes\":{\"text\":\"Structure\"},\"id\":\"1130\",\"type\":\"Title\"},{\"attributes\":{\"data_source\":{\"id\":\"1162\"},\"glyph\":{\"id\":\"1181\"},\"hover_glyph\":null,\"muted_glyph\":null,\"nonselection_glyph\":{\"id\":\"1182\"},\"selection_glyph\":null,\"view\":{\"id\":\"1184\"}},\"id\":\"1183\",\"type\":\"GlyphRenderer\"},{\"attributes\":{\"axis_label\":\"y [mm]\",\"formatter\":{\"id\":\"1198\"},\"ticker\":{\"id\":\"1145\"}},\"id\":\"1144\",\"type\":\"LinearAxis\"},{\"attributes\":{\"source\":{\"id\":\"1163\"}},\"id\":\"1174\",\"type\":\"CDSView\"},{\"attributes\":{},\"id\":\"1205\",\"type\":\"UnionRenderers\"},{\"attributes\":{\"axis_label\":\"x [m]\",\"formatter\":{\"id\":\"1200\"},\"ticker\":{\"id\":\"1141\"}},\"id\":\"1140\",\"type\":\"LinearAxis\"},{\"attributes\":{\"fill_alpha\":{\"value\":0.5},\"fill_color\":{\"value\":\"red\"},\"line_alpha\":{\"value\":0.5},\"line_color\":{\"value\":\"red\"},\"size\":{\"units\":\"screen\",\"value\":5},\"x\":{\"field\":\"loc_x\"},\"y\":{\"field\":\"loc_y\"}},\"id\":\"1176\",\"type\":\"Scatter\"},{\"attributes\":{},\"id\":\"1151\",\"type\":\"SaveTool\"},{\"attributes\":{\"data\":{\"M\":[0.0,0.0,0.0,0.0],\"V\":[0.0,0.0,0.0,0.0],\"dot_x\":[0.0,1.0,2.0,3.0],\"dot_y\":[0.0,0.0,0.0,0.0],\"u_x\":[0.0,0.0,0.0,0.0],\"u_y\":[0.0,-9.352653733092447,-13.665132510279584,0.0]},\"selected\":{\"id\":\"1202\"},\"selection_policy\":{\"id\":\"1203\"}},\"id\":\"1163\",\"type\":\"ColumnDataSource\"},{\"attributes\":{},\"id\":\"1152\",\"type\":\"ResetTool\"},{\"attributes\":{\"data\":{\"M\":[0.0,0.0,0.0,0.0,0.0,0.0,0.0,0.0,0.0,0.0,0.0,0.0,0.0,0.0,0.0,0.0,0.0,0.0,0.0,0.0,0.0,0.0,0.0,0.0,0.0,0.0,0.0,0.0,0.0,0.0,0.0],\"V\":[0.0,0.0,0.0,0.0,0.0,0.0,0.0,0.0,0.0,0.0,0.0,0.0,0.0,0.0,0.0,0.0,0.0,0.0,0.0,0.0,0.0,0.0,0.0,0.0,0.0,0.0,0.0,0.0,0.0,0.0,0.0],\"dot_x\":[0.0,0.1,0.2,0.30000000000000004,0.4,0.5,0.6000000000000001,0.7000000000000001,0.8,0.9,1.0,1.1,1.2,1.3,1.4,1.5,1.6,1.7000000000000002,1.8,1.9,2.0,2.1,2.2,2.3,2.4,2.5,2.6,2.7,2.8,2.9,3.0],\"dot_y\":[0.0,0.0,0.0,0.0,0.0,0.0,0.0,0.0,0.0,0.0,0.0,0.0,0.0,0.0,0.0,0.0,0.0,0.0,0.0,0.0,0.0,0.0,0.0,0.0,0.0,0.0,0.0,0.0,0.0,0.0,0.0],\"loc_x\":[0.0,0.1,0.2,0.30000000000000004,0.4,0.5,0.6000000000000001,0.7000000000000001,0.8,0.9,1.0,1.1,1.2,1.3,1.4,1.5,1.6,1.7000000000000002,1.8,1.9,2.0,2.1,2.2,2.3,2.4,2.5,2.6,2.7,2.8,2.9,3.0],\"loc_y\":[0.0,-0.16237238706628415,-0.6165508213985831,-1.313533561903572,-2.206350613519674,-3.2504700764232495,-4.403798146028748,-5.62667911298872,-6.881895363193825,-8.134667377772796,-9.352653733092447,-10.50513840234509,-11.560186311103976,-12.486268734148668,-13.255920438322207,-13.846552380943823,-14.240451709808948,-14.424781763189182,-14.391582069832339,-14.13776834896241,-13.665132510279584,-12.978717257134816,-12.081127197640967,-10.986344717688674,-9.720542679359049,-8.309893944733211,-6.7805713758922765,-5.15874783491738,-3.470596183889628,-1.7422892848901321,0.0],\"u_x\":[0.0,0.0,0.0,0.0,0.0,0.0,0.0,0.0,0.0,0.0,0.0,0.0,0.0,0.0,0.0,0.0,0.0,0.0,0.0,0.0,0.0,0.0,0.0,0.0,0.0,0.0,0.0,0.0,0.0,0.0,0.0],\"u_y\":[0.0,-0.16237238706628415,-0.6165508213985831,-1.313533561903572,-2.206350613519674,-3.2504700764232495,-4.403798146028748,-5.62667911298872,-6.881895363193825,-8.134667377772796,-9.352653733092447,-10.50513840234509,-11.560186311103976,-12.486268734148668,-13.255920438322207,-13.846552380943823,-14.240451709808948,-14.424781763189182,-14.391582069832339,-14.13776834896241,-13.665132510279584,-12.978717257134816,-12.081127197640967,-10.986344717688674,-9.720542679359049,-8.309893944733211,-6.7805713758922765,-5.15874783491738,-3.470596183889628,-1.7422892848901321,0.0]},\"selected\":{\"id\":\"1204\"},\"selection_policy\":{\"id\":\"1205\"}},\"id\":\"1162\",\"type\":\"ColumnDataSource\"},{\"attributes\":{\"line_color\":\"gold\",\"x\":{\"field\":\"loc_x\"},\"y\":{\"field\":\"loc_y\"}},\"id\":\"1181\",\"type\":\"Line\"},{\"attributes\":{\"axis\":{\"id\":\"1144\"},\"dimension\":1,\"ticker\":null},\"id\":\"1147\",\"type\":\"Grid\"},{\"attributes\":{\"callback\":null,\"mode\":\"vline\",\"tooltips\":[[\"X\",\"@dot_x{0,0.00} m\"],[\"dy\",\"@u_y{0,0.00} mm\"],[\"M\",\"@M{0,0.0} kNm\"],[\"V\",\"@V{0,0.0} kN\"]]},\"id\":\"1164\",\"type\":\"HoverTool\"},{\"attributes\":{},\"id\":\"1149\",\"type\":\"WheelZoomTool\"},{\"attributes\":{\"line_color\":\"#1f77b4\",\"x\":{\"field\":\"dot_x\"},\"y\":{\"field\":\"dot_y\"}},\"id\":\"1171\",\"type\":\"Line\"},{\"attributes\":{\"fill_alpha\":{\"value\":0.1},\"fill_color\":{\"value\":\"red\"},\"line_alpha\":{\"value\":0.1},\"line_color\":{\"value\":\"red\"},\"size\":{\"units\":\"screen\",\"value\":5},\"x\":{\"field\":\"loc_x\"},\"y\":{\"field\":\"loc_y\"}},\"id\":\"1177\",\"type\":\"Scatter\"},{\"attributes\":{\"fill_alpha\":{\"value\":0.5},\"fill_color\":{\"value\":\"navy\"},\"line_alpha\":{\"value\":0.5},\"line_color\":{\"value\":\"navy\"},\"size\":{\"units\":\"screen\",\"value\":10},\"x\":{\"field\":\"dot_x\"},\"y\":{\"field\":\"dot_y\"}},\"id\":\"1166\",\"type\":\"Circle\"},{\"attributes\":{},\"id\":\"1148\",\"type\":\"PanTool\"},{\"attributes\":{},\"id\":\"1141\",\"type\":\"BasicTicker\"},{\"attributes\":{},\"id\":\"1134\",\"type\":\"DataRange1d\"},{\"attributes\":{\"line_alpha\":0.1,\"line_color\":\"#1f77b4\",\"x\":{\"field\":\"dot_x\"},\"y\":{\"field\":\"dot_y\"}},\"id\":\"1172\",\"type\":\"Line\"},{\"attributes\":{\"source\":{\"id\":\"1162\"}},\"id\":\"1179\",\"type\":\"CDSView\"},{\"attributes\":{},\"id\":\"1203\",\"type\":\"UnionRenderers\"},{\"attributes\":{\"data_source\":{\"id\":\"1162\"},\"glyph\":{\"id\":\"1176\"},\"hover_glyph\":null,\"muted_glyph\":null,\"nonselection_glyph\":{\"id\":\"1177\"},\"selection_glyph\":null,\"view\":{\"id\":\"1179\"}},\"id\":\"1178\",\"type\":\"GlyphRenderer\"},{\"attributes\":{\"source\":{\"id\":\"1163\"}},\"id\":\"1169\",\"type\":\"CDSView\"},{\"attributes\":{},\"id\":\"1204\",\"type\":\"Selection\"},{\"attributes\":{\"fill_alpha\":{\"value\":0.1},\"fill_color\":{\"value\":\"navy\"},\"line_alpha\":{\"value\":0.1},\"line_color\":{\"value\":\"navy\"},\"size\":{\"units\":\"screen\",\"value\":10},\"x\":{\"field\":\"dot_x\"},\"y\":{\"field\":\"dot_y\"}},\"id\":\"1167\",\"type\":\"Circle\"},{\"attributes\":{\"data_source\":{\"id\":\"1163\"},\"glyph\":{\"id\":\"1171\"},\"hover_glyph\":null,\"muted_glyph\":null,\"nonselection_glyph\":{\"id\":\"1172\"},\"selection_glyph\":null,\"view\":{\"id\":\"1174\"}},\"id\":\"1173\",\"type\":\"GlyphRenderer\"}],\"root_ids\":[\"1129\"]},\"title\":\"Bokeh Application\",\"version\":\"2.1.1\"}};\n  var render_items = [{\"docid\":\"1f11cf36-7465-4541-9668-f3df27f837b3\",\"root_ids\":[\"1129\"],\"roots\":{\"1129\":\"7a4ba409-a846-4520-95c4-42847c35e664\"}}];\n  root.Bokeh.embed.embed_items_notebook(docs_json, render_items);\n\n  }\n  if (root.Bokeh !== undefined) {\n    embed_document(root);\n  } else {\n    var attempts = 0;\n    var timer = setInterval(function(root) {\n      if (root.Bokeh !== undefined) {\n        clearInterval(timer);\n        embed_document(root);\n      } else {\n        attempts++;\n        if (attempts > 100) {\n          clearInterval(timer);\n          console.log(\"Bokeh: ERROR: Unable to run BokehJS code because BokehJS library is missing\");\n        }\n      }\n    }, 10, root)\n  }\n})(window);",
      "application/vnd.bokehjs_exec.v0+json": ""
     },
     "metadata": {
      "application/vnd.bokehjs_exec.v0+json": {
       "id": "1129"
      }
     }
    }
   ],
   "source": [
    "exemplo2 = Structure(readjson(\"exemplo2.json\"))\n",
    "bk.show(exemplo2.show())"
   ]
  },
  {
   "cell_type": "code",
   "execution_count": 36,
   "metadata": {
    "tags": []
   },
   "outputs": [
    {
     "output_type": "display_data",
     "data": {
      "text/html": "\n\n\n\n\n\n  <div class=\"bk-root\" id=\"83da9bb9-6f8b-496b-affb-82b277e9425e\" data-root-id=\"1266\"></div>\n"
     },
     "metadata": {}
    },
    {
     "output_type": "display_data",
     "data": {
      "application/javascript": "(function(root) {\n  function embed_document(root) {\n    \n  var docs_json = {\"2044ada6-c5cf-49c2-8644-bbc65510ec74\":{\"roots\":{\"references\":[{\"attributes\":{\"below\":[{\"id\":\"1277\"}],\"center\":[{\"id\":\"1280\"},{\"id\":\"1284\"}],\"left\":[{\"id\":\"1281\"}],\"renderers\":[{\"id\":\"1305\"},{\"id\":\"1310\"},{\"id\":\"1315\"},{\"id\":\"1320\"}],\"sizing_mode\":\"scale_width\",\"title\":{\"id\":\"1267\"},\"toolbar\":{\"id\":\"1292\"},\"x_range\":{\"id\":\"1269\"},\"x_scale\":{\"id\":\"1273\"},\"y_range\":{\"id\":\"1271\"},\"y_scale\":{\"id\":\"1275\"}},\"id\":\"1266\",\"subtype\":\"Figure\",\"type\":\"Plot\"},{\"attributes\":{\"overlay\":{\"id\":\"1291\"}},\"id\":\"1287\",\"type\":\"BoxZoomTool\"},{\"attributes\":{\"fill_alpha\":{\"value\":0.5},\"fill_color\":{\"value\":\"navy\"},\"line_alpha\":{\"value\":0.5},\"line_color\":{\"value\":\"navy\"},\"size\":{\"units\":\"screen\",\"value\":10},\"x\":{\"field\":\"dot_x\"},\"y\":{\"field\":\"dot_y\"}},\"id\":\"1303\",\"type\":\"Circle\"},{\"attributes\":{\"data_source\":{\"id\":\"1300\"},\"glyph\":{\"id\":\"1303\"},\"hover_glyph\":null,\"muted_glyph\":null,\"nonselection_glyph\":{\"id\":\"1304\"},\"selection_glyph\":null,\"view\":{\"id\":\"1306\"}},\"id\":\"1305\",\"type\":\"GlyphRenderer\"},{\"attributes\":{},\"id\":\"1285\",\"type\":\"PanTool\"},{\"attributes\":{},\"id\":\"1345\",\"type\":\"BasicTickFormatter\"},{\"attributes\":{\"axis_label\":\"x [m]\",\"formatter\":{\"id\":\"1347\"},\"ticker\":{\"id\":\"1278\"}},\"id\":\"1277\",\"type\":\"LinearAxis\"},{\"attributes\":{\"line_color\":\"gold\",\"x\":{\"field\":\"loc_x\"},\"y\":{\"field\":\"loc_y\"}},\"id\":\"1318\",\"type\":\"Line\"},{\"attributes\":{\"data\":{\"M\":[0.0,0.0,0.0,0.0,0.0,0.0,0.0,0.0,0.0,0.0,0.0,0.0,0.0,0.0,0.0,0.0,0.0,0.0,0.0,0.0,0.0,0.0,0.0,0.0,0.0,0.0,0.0,0.0,0.0,0.0,0.0,0.0,0.0,0.0,0.0,0.0,0.0,0.0,0.0,0.0,0.0,0.0,0.0,0.0,0.0,0.0,0.0,0.0,0.0,0.0,0.0,0.0,0.0,0.0,0.0,0.0,0.0,0.0,0.0,0.0,0.0,0.0,0.0,0.0,0.0,0.0,0.0,0.0,0.0,0.0,0.0],\"V\":[0.0,0.0,0.0,0.0,0.0,0.0,0.0,0.0,0.0,0.0,0.0,0.0,0.0,0.0,0.0,0.0,0.0,0.0,0.0,0.0,0.0,0.0,0.0,0.0,0.0,0.0,0.0,0.0,0.0,0.0,0.0,0.0,0.0,0.0,0.0,0.0,0.0,0.0,0.0,0.0,0.0,0.0,0.0,0.0,0.0,0.0,0.0,0.0,0.0,0.0,0.0,0.0,0.0,0.0,0.0,0.0,0.0,0.0,0.0,0.0,0.0,0.0,0.0,0.0,0.0,0.0,0.0,0.0,0.0,0.0,0.0],\"dot_x\":[0.0,0.1,0.2,0.30000000000000004,0.4,0.5,0.6000000000000001,0.7000000000000001,0.8,0.9,1.0,1.1,1.2,1.3,1.4,1.5,1.6,1.7000000000000002,1.8,1.9,2.0,2.2,2.4,2.6,2.8,3.0,3.2,3.4000000000000004,3.6,3.8,4.0,4.1,4.2,4.3,4.4,4.5,4.6,4.7,4.8,4.9,5.0,5.1,5.2,5.3,5.4,5.5,5.6,5.7,5.8,5.9,6.0,6.16,6.32,6.4799999999999995,6.64,6.8,6.96,7.12,7.279999999999999,7.4399999999999995,7.6,7.64,7.68,7.72,7.76,7.8,7.84,7.88,7.92,7.96,8.0],\"dot_y\":[0.0,0.0,0.0,0.0,0.0,0.0,0.0,0.0,0.0,0.0,0.0,0.0,0.0,0.0,0.0,0.0,0.0,0.0,0.0,0.0,0.0,0.0,0.0,0.0,0.0,0.0,0.0,0.0,0.0,0.0,0.0,0.0,0.0,0.0,0.0,0.0,0.0,0.0,0.0,0.0,0.0,0.0,0.0,0.0,0.0,0.0,0.0,0.0,0.0,0.0,0.0,0.0,0.0,0.0,0.0,0.0,0.0,0.0,0.0,0.0,0.0,0.0,0.0,0.0,0.0,0.0,0.0,0.0,0.0,0.0,0.0],\"loc_x\":[0.0,0.1,0.2,0.30000000000000004,0.4,0.5,0.6000000000000001,0.7000000000000001,0.8,0.9,1.0,1.1,1.2,1.3,1.4,1.5,1.6,1.7000000000000002,1.8,1.9,2.0,2.2,2.4,2.6,2.8,3.0,3.2,3.4000000000000004,3.6,3.8,4.0,4.1,4.2,4.3,4.4,4.5,4.6,4.7,4.8,4.9,5.0,5.1,5.2,5.3,5.4,5.5,5.6,5.7,5.8,5.9,6.0,6.16,6.32,6.4799999999999995,6.64,6.8,6.96,7.12,7.279999999999999,7.4399999999999995,7.6,7.64,7.68,7.72,7.76,7.8,7.84,7.88,7.92,7.96,8.0],\"loc_y\":[0.0,-6.597475460454975,-12.92716992244336,-18.733411762499834,-23.804279357159015,-27.97941358295554,-31.150017816424054,-33.25885793409938,-34.30026231251641,-34.320121828209984,-33.4158898577149,-31.720371340065835,-29.34605871429737,-26.402124106944218,-23.002427144540984,-19.265514953621988,-15.31462216072163,-11.277670892374559,-7.287270775115466,-3.48071893547905,0.0,5.652240945874098,9.735089017863741,12.49729646485278,14.112615535725041,14.67979847936433,14.222597544654429,12.689764980479177,9.955053035722454,5.817213959268112,0.0,-3.5781218874884817,-7.312711829803508,-10.867425973290013,-13.964514214292889,-16.39653894915699,-18.026375074227225,-18.787209985848552,-18.682543580365877,-17.786188254124166,-16.242268903468382,-14.24178542474331,-11.940581464293764,-9.482781918464589,-7.012511683600653,-4.673895656046829,-2.6110587321479883,-0.9681258082490068,0.11077821930523742,0.48152845416986584,0.0,-2.6335611028545465,-6.792091929994527,-11.481769027134405,-15.868768939988666,-19.311268214271838,-21.359443395698403,-21.755471029982854,-20.433527662839822,-17.51978983998384,-13.332434107129366,-12.140878689429398,-10.904579694988469,-9.62850863233336,-8.31763700999085,-6.976936336487726,-5.611378120350767,-4.22593387010675,-2.8255750942824425,-1.4152733014046044,0.0],\"u_x\":[0.0,0.0,0.0,0.0,0.0,0.0,0.0,0.0,0.0,0.0,0.0,0.0,0.0,0.0,0.0,0.0,0.0,0.0,0.0,0.0,0.0,0.0,0.0,0.0,0.0,0.0,0.0,0.0,0.0,0.0,0.0,0.0,0.0,0.0,0.0,0.0,0.0,0.0,0.0,0.0,0.0,0.0,0.0,0.0,0.0,0.0,0.0,0.0,0.0,0.0,0.0,0.0,0.0,0.0,0.0,0.0,0.0,0.0,0.0,0.0,0.0,0.0,0.0,0.0,0.0,0.0,0.0,0.0,0.0,0.0,0.0],\"u_y\":[0.0,-6.597475460454975,-12.92716992244336,-18.733411762499834,-23.804279357159015,-27.97941358295554,-31.150017816424054,-33.25885793409938,-34.30026231251641,-34.320121828209984,-33.4158898577149,-31.720371340065835,-29.34605871429737,-26.402124106944218,-23.002427144540984,-19.265514953621988,-15.31462216072163,-11.277670892374559,-7.287270775115466,-3.48071893547905,0.0,5.652240945874098,9.735089017863741,12.49729646485278,14.112615535725041,14.67979847936433,14.222597544654429,12.689764980479177,9.955053035722454,5.817213959268112,0.0,-3.5781218874884817,-7.312711829803508,-10.867425973290013,-13.964514214292889,-16.39653894915699,-18.026375074227225,-18.787209985848552,-18.682543580365877,-17.786188254124166,-16.242268903468382,-14.24178542474331,-11.940581464293764,-9.482781918464589,-7.012511683600653,-4.673895656046829,-2.6110587321479883,-0.9681258082490068,0.11077821930523742,0.48152845416986584,0.0,-2.6335611028545465,-6.792091929994527,-11.481769027134405,-15.868768939988666,-19.311268214271838,-21.359443395698403,-21.755471029982854,-20.433527662839822,-17.51978983998384,-13.332434107129366,-12.140878689429398,-10.904579694988469,-9.62850863233336,-8.31763700999085,-6.976936336487726,-5.611378120350767,-4.22593387010675,-2.8255750942824425,-1.4152733014046044,0.0]},\"selected\":{\"id\":\"1351\"},\"selection_policy\":{\"id\":\"1352\"}},\"id\":\"1299\",\"type\":\"ColumnDataSource\"},{\"attributes\":{},\"id\":\"1278\",\"type\":\"BasicTicker\"},{\"attributes\":{\"line_color\":\"#1f77b4\",\"x\":{\"field\":\"dot_x\"},\"y\":{\"field\":\"dot_y\"}},\"id\":\"1308\",\"type\":\"Line\"},{\"attributes\":{\"fill_alpha\":{\"value\":0.5},\"fill_color\":{\"value\":\"red\"},\"line_alpha\":{\"value\":0.5},\"line_color\":{\"value\":\"red\"},\"size\":{\"units\":\"screen\",\"value\":5},\"x\":{\"field\":\"loc_x\"},\"y\":{\"field\":\"loc_y\"}},\"id\":\"1313\",\"type\":\"Scatter\"},{\"attributes\":{},\"id\":\"1349\",\"type\":\"Selection\"},{\"attributes\":{\"fill_alpha\":{\"value\":0.1},\"fill_color\":{\"value\":\"navy\"},\"line_alpha\":{\"value\":0.1},\"line_color\":{\"value\":\"navy\"},\"size\":{\"units\":\"screen\",\"value\":10},\"x\":{\"field\":\"dot_x\"},\"y\":{\"field\":\"dot_y\"}},\"id\":\"1304\",\"type\":\"Circle\"},{\"attributes\":{\"source\":{\"id\":\"1299\"}},\"id\":\"1321\",\"type\":\"CDSView\"},{\"attributes\":{\"source\":{\"id\":\"1299\"}},\"id\":\"1316\",\"type\":\"CDSView\"},{\"attributes\":{\"axis\":{\"id\":\"1277\"},\"ticker\":null},\"id\":\"1280\",\"type\":\"Grid\"},{\"attributes\":{\"line_alpha\":0.1,\"line_color\":\"#1f77b4\",\"x\":{\"field\":\"dot_x\"},\"y\":{\"field\":\"dot_y\"}},\"id\":\"1309\",\"type\":\"Line\"},{\"attributes\":{\"active_drag\":\"auto\",\"active_inspect\":\"auto\",\"active_multi\":null,\"active_scroll\":\"auto\",\"active_tap\":\"auto\",\"tools\":[{\"id\":\"1285\"},{\"id\":\"1286\"},{\"id\":\"1287\"},{\"id\":\"1288\"},{\"id\":\"1289\"},{\"id\":\"1290\"},{\"id\":\"1301\"}]},\"id\":\"1292\",\"type\":\"Toolbar\"},{\"attributes\":{},\"id\":\"1271\",\"type\":\"DataRange1d\"},{\"attributes\":{\"bottom_units\":\"screen\",\"fill_alpha\":0.5,\"fill_color\":\"lightgrey\",\"left_units\":\"screen\",\"level\":\"overlay\",\"line_alpha\":1.0,\"line_color\":\"black\",\"line_dash\":[4,4],\"line_width\":2,\"right_units\":\"screen\",\"top_units\":\"screen\"},\"id\":\"1291\",\"type\":\"BoxAnnotation\"},{\"attributes\":{},\"id\":\"1288\",\"type\":\"SaveTool\"},{\"attributes\":{\"text\":\"Structure\"},\"id\":\"1267\",\"type\":\"Title\"},{\"attributes\":{\"line_alpha\":0.1,\"line_color\":\"gold\",\"x\":{\"field\":\"loc_x\"},\"y\":{\"field\":\"loc_y\"}},\"id\":\"1319\",\"type\":\"Line\"},{\"attributes\":{},\"id\":\"1290\",\"type\":\"HelpTool\"},{\"attributes\":{},\"id\":\"1289\",\"type\":\"ResetTool\"},{\"attributes\":{},\"id\":\"1269\",\"type\":\"DataRange1d\"},{\"attributes\":{\"axis_label\":\"y [mm]\",\"formatter\":{\"id\":\"1345\"},\"ticker\":{\"id\":\"1282\"}},\"id\":\"1281\",\"type\":\"LinearAxis\"},{\"attributes\":{\"data_source\":{\"id\":\"1299\"},\"glyph\":{\"id\":\"1313\"},\"hover_glyph\":null,\"muted_glyph\":null,\"nonselection_glyph\":{\"id\":\"1314\"},\"selection_glyph\":null,\"view\":{\"id\":\"1316\"}},\"id\":\"1315\",\"type\":\"GlyphRenderer\"},{\"attributes\":{},\"id\":\"1286\",\"type\":\"WheelZoomTool\"},{\"attributes\":{\"source\":{\"id\":\"1300\"}},\"id\":\"1311\",\"type\":\"CDSView\"},{\"attributes\":{\"callback\":null,\"mode\":\"vline\",\"tooltips\":[[\"X\",\"@dot_x{0,0.00} m\"],[\"dy\",\"@u_y{0,0.00} mm\"],[\"M\",\"@M{0,0.0} kNm\"],[\"V\",\"@V{0,0.0} kN\"]]},\"id\":\"1301\",\"type\":\"HoverTool\"},{\"attributes\":{},\"id\":\"1275\",\"type\":\"LinearScale\"},{\"attributes\":{\"source\":{\"id\":\"1300\"}},\"id\":\"1306\",\"type\":\"CDSView\"},{\"attributes\":{},\"id\":\"1352\",\"type\":\"UnionRenderers\"},{\"attributes\":{\"data\":{\"M\":[0.0,0.0,0.0,0.0,0.0,0.0,0.0,0.0],\"V\":[0.0,0.0,0.0,0.0,0.0,0.0,0.0,0.0],\"dot_x\":[0.0,1.0,2.0,4.0,5.0,6.0,7.6,8.0],\"dot_y\":[0.0,0.0,0.0,0.0,0.0,0.0,0.0,0.0],\"u_x\":[0.0,0.0,0.0,0.0,0.0,0.0,0.0,0.0],\"u_y\":[0.0,-33.4158898577149,0.0,0.0,-16.242268903468382,0.0,-13.332434107129366,0.0]},\"selected\":{\"id\":\"1349\"},\"selection_policy\":{\"id\":\"1350\"}},\"id\":\"1300\",\"type\":\"ColumnDataSource\"},{\"attributes\":{\"axis\":{\"id\":\"1281\"},\"dimension\":1,\"ticker\":null},\"id\":\"1284\",\"type\":\"Grid\"},{\"attributes\":{\"data_source\":{\"id\":\"1299\"},\"glyph\":{\"id\":\"1318\"},\"hover_glyph\":null,\"muted_glyph\":null,\"nonselection_glyph\":{\"id\":\"1319\"},\"selection_glyph\":null,\"view\":{\"id\":\"1321\"}},\"id\":\"1320\",\"type\":\"GlyphRenderer\"},{\"attributes\":{},\"id\":\"1282\",\"type\":\"BasicTicker\"},{\"attributes\":{},\"id\":\"1350\",\"type\":\"UnionRenderers\"},{\"attributes\":{\"fill_alpha\":{\"value\":0.1},\"fill_color\":{\"value\":\"red\"},\"line_alpha\":{\"value\":0.1},\"line_color\":{\"value\":\"red\"},\"size\":{\"units\":\"screen\",\"value\":5},\"x\":{\"field\":\"loc_x\"},\"y\":{\"field\":\"loc_y\"}},\"id\":\"1314\",\"type\":\"Scatter\"},{\"attributes\":{},\"id\":\"1273\",\"type\":\"LinearScale\"},{\"attributes\":{},\"id\":\"1347\",\"type\":\"BasicTickFormatter\"},{\"attributes\":{\"data_source\":{\"id\":\"1300\"},\"glyph\":{\"id\":\"1308\"},\"hover_glyph\":null,\"muted_glyph\":null,\"nonselection_glyph\":{\"id\":\"1309\"},\"selection_glyph\":null,\"view\":{\"id\":\"1311\"}},\"id\":\"1310\",\"type\":\"GlyphRenderer\"},{\"attributes\":{},\"id\":\"1351\",\"type\":\"Selection\"}],\"root_ids\":[\"1266\"]},\"title\":\"Bokeh Application\",\"version\":\"2.1.1\"}};\n  var render_items = [{\"docid\":\"2044ada6-c5cf-49c2-8644-bbc65510ec74\",\"root_ids\":[\"1266\"],\"roots\":{\"1266\":\"83da9bb9-6f8b-496b-affb-82b277e9425e\"}}];\n  root.Bokeh.embed.embed_items_notebook(docs_json, render_items);\n\n  }\n  if (root.Bokeh !== undefined) {\n    embed_document(root);\n  } else {\n    var attempts = 0;\n    var timer = setInterval(function(root) {\n      if (root.Bokeh !== undefined) {\n        clearInterval(timer);\n        embed_document(root);\n      } else {\n        attempts++;\n        if (attempts > 100) {\n          clearInterval(timer);\n          console.log(\"Bokeh: ERROR: Unable to run BokehJS code because BokehJS library is missing\");\n        }\n      }\n    }, 10, root)\n  }\n})(window);",
      "application/vnd.bokehjs_exec.v0+json": ""
     },
     "metadata": {
      "application/vnd.bokehjs_exec.v0+json": {
       "id": "1266"
      }
     }
    }
   ],
   "source": [
    "exemplo3 = Structure(readjson(\"exemplo3.json\"))\n",
    "bk.show(exemplo3.show())"
   ]
  }
 ],
 "metadata": {
  "kernelspec": {
   "display_name": "Python 3",
   "language": "python",
   "name": "python3"
  },
  "language_info": {
   "codemirror_mode": {
    "name": "ipython",
    "version": 3
   },
   "file_extension": ".py",
   "mimetype": "text/x-python",
   "name": "python",
   "nbconvert_exporter": "python",
   "pygments_lexer": "ipython3",
   "version": "3.8.2-final"
  }
 },
 "nbformat": 4,
 "nbformat_minor": 4
}