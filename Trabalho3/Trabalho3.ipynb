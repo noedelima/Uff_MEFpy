{
 "cells": [
  {
   "cell_type": "markdown",
   "metadata": {},
   "source": [
    "# Método dos Elementos Finitos - Trabalho 3"
   ]
  },
  {
   "cell_type": "markdown",
   "metadata": {},
   "source": [
    "Universidade Federal Fluminense\n",
    "\n",
    "Disciplina ministrada pelo Prof. Marco Ferro\n",
    "\n",
    "<marcoferro@id.uff.br>\n",
    "\n",
    "Aluno Noé de Lima\n",
    "\n",
    "<noe_lima@id.uff.br>\n",
    "\n",
    "Este trabalho visa aplicar o MEF a uma estrutura de vigas.\n",
    "\n",
    "Primeiro semestre de 2020\n",
    "\n",
    "\\vfill"
   ]
  },
  {
   "cell_type": "markdown",
   "metadata": {},
   "source": [
    "A célula a seguir configura o Jupyter-Notebook para exibir as equações matemáticas no formato do ambiente $\\LaTeX$ e importa as bibliotecas necessárias."
   ]
  },
  {
   "cell_type": "code",
   "execution_count": 1,
   "metadata": {
    "tags": []
   },
   "outputs": [
    {
     "output_type": "display_data",
     "data": {
      "text/html": "        <script type=\"text/javascript\">\n        window.PlotlyConfig = {MathJaxConfig: 'local'};\n        if (window.MathJax) {MathJax.Hub.Config({SVG: {font: \"STIX-Web\"}});}\n        if (typeof require !== 'undefined') {\n        require.undef(\"plotly\");\n        requirejs.config({\n            paths: {\n                'plotly': ['https://cdn.plot.ly/plotly-latest.min']\n            }\n        });\n        require(['plotly'], function(Plotly) {\n            window._Plotly = Plotly;\n        });\n        }\n        </script>\n        "
     },
     "metadata": {}
    },
    {
     "output_type": "display_data",
     "data": {
      "text/html": "\n    <div class=\"bk-root\">\n        <a href=\"https://bokeh.org\" target=\"_blank\" class=\"bk-logo bk-logo-small bk-logo-notebook\"></a>\n        <span id=\"1001\">Loading BokehJS ...</span>\n    </div>"
     },
     "metadata": {}
    },
    {
     "output_type": "display_data",
     "data": {
      "application/javascript": "\n(function(root) {\n  function now() {\n    return new Date();\n  }\n\n  var force = true;\n\n  if (typeof root._bokeh_onload_callbacks === \"undefined\" || force === true) {\n    root._bokeh_onload_callbacks = [];\n    root._bokeh_is_loading = undefined;\n  }\n\n  var JS_MIME_TYPE = 'application/javascript';\n  var HTML_MIME_TYPE = 'text/html';\n  var EXEC_MIME_TYPE = 'application/vnd.bokehjs_exec.v0+json';\n  var CLASS_NAME = 'output_bokeh rendered_html';\n\n  /**\n   * Render data to the DOM node\n   */\n  function render(props, node) {\n    var script = document.createElement(\"script\");\n    node.appendChild(script);\n  }\n\n  /**\n   * Handle when an output is cleared or removed\n   */\n  function handleClearOutput(event, handle) {\n    var cell = handle.cell;\n\n    var id = cell.output_area._bokeh_element_id;\n    var server_id = cell.output_area._bokeh_server_id;\n    // Clean up Bokeh references\n    if (id != null && id in Bokeh.index) {\n      Bokeh.index[id].model.document.clear();\n      delete Bokeh.index[id];\n    }\n\n    if (server_id !== undefined) {\n      // Clean up Bokeh references\n      var cmd = \"from bokeh.io.state import curstate; print(curstate().uuid_to_server['\" + server_id + \"'].get_sessions()[0].document.roots[0]._id)\";\n      cell.notebook.kernel.execute(cmd, {\n        iopub: {\n          output: function(msg) {\n            var id = msg.content.text.trim();\n            if (id in Bokeh.index) {\n              Bokeh.index[id].model.document.clear();\n              delete Bokeh.index[id];\n            }\n          }\n        }\n      });\n      // Destroy server and session\n      var cmd = \"import bokeh.io.notebook as ion; ion.destroy_server('\" + server_id + \"')\";\n      cell.notebook.kernel.execute(cmd);\n    }\n  }\n\n  /**\n   * Handle when a new output is added\n   */\n  function handleAddOutput(event, handle) {\n    var output_area = handle.output_area;\n    var output = handle.output;\n\n    // limit handleAddOutput to display_data with EXEC_MIME_TYPE content only\n    if ((output.output_type != \"display_data\") || (!output.data.hasOwnProperty(EXEC_MIME_TYPE))) {\n      return\n    }\n\n    var toinsert = output_area.element.find(\".\" + CLASS_NAME.split(' ')[0]);\n\n    if (output.metadata[EXEC_MIME_TYPE][\"id\"] !== undefined) {\n      toinsert[toinsert.length - 1].firstChild.textContent = output.data[JS_MIME_TYPE];\n      // store reference to embed id on output_area\n      output_area._bokeh_element_id = output.metadata[EXEC_MIME_TYPE][\"id\"];\n    }\n    if (output.metadata[EXEC_MIME_TYPE][\"server_id\"] !== undefined) {\n      var bk_div = document.createElement(\"div\");\n      bk_div.innerHTML = output.data[HTML_MIME_TYPE];\n      var script_attrs = bk_div.children[0].attributes;\n      for (var i = 0; i < script_attrs.length; i++) {\n        toinsert[toinsert.length - 1].firstChild.setAttribute(script_attrs[i].name, script_attrs[i].value);\n        toinsert[toinsert.length - 1].firstChild.textContent = bk_div.children[0].textContent\n      }\n      // store reference to server id on output_area\n      output_area._bokeh_server_id = output.metadata[EXEC_MIME_TYPE][\"server_id\"];\n    }\n  }\n\n  function register_renderer(events, OutputArea) {\n\n    function append_mime(data, metadata, element) {\n      // create a DOM node to render to\n      var toinsert = this.create_output_subarea(\n        metadata,\n        CLASS_NAME,\n        EXEC_MIME_TYPE\n      );\n      this.keyboard_manager.register_events(toinsert);\n      // Render to node\n      var props = {data: data, metadata: metadata[EXEC_MIME_TYPE]};\n      render(props, toinsert[toinsert.length - 1]);\n      element.append(toinsert);\n      return toinsert\n    }\n\n    /* Handle when an output is cleared or removed */\n    events.on('clear_output.CodeCell', handleClearOutput);\n    events.on('delete.Cell', handleClearOutput);\n\n    /* Handle when a new output is added */\n    events.on('output_added.OutputArea', handleAddOutput);\n\n    /**\n     * Register the mime type and append_mime function with output_area\n     */\n    OutputArea.prototype.register_mime_type(EXEC_MIME_TYPE, append_mime, {\n      /* Is output safe? */\n      safe: true,\n      /* Index of renderer in `output_area.display_order` */\n      index: 0\n    });\n  }\n\n  // register the mime type if in Jupyter Notebook environment and previously unregistered\n  if (root.Jupyter !== undefined) {\n    var events = require('base/js/events');\n    var OutputArea = require('notebook/js/outputarea').OutputArea;\n\n    if (OutputArea.prototype.mime_types().indexOf(EXEC_MIME_TYPE) == -1) {\n      register_renderer(events, OutputArea);\n    }\n  }\n\n  \n  if (typeof (root._bokeh_timeout) === \"undefined\" || force === true) {\n    root._bokeh_timeout = Date.now() + 5000;\n    root._bokeh_failed_load = false;\n  }\n\n  var NB_LOAD_WARNING = {'data': {'text/html':\n     \"<div style='background-color: #fdd'>\\n\"+\n     \"<p>\\n\"+\n     \"BokehJS does not appear to have successfully loaded. If loading BokehJS from CDN, this \\n\"+\n     \"may be due to a slow or bad network connection. Possible fixes:\\n\"+\n     \"</p>\\n\"+\n     \"<ul>\\n\"+\n     \"<li>re-rerun `output_notebook()` to attempt to load from CDN again, or</li>\\n\"+\n     \"<li>use INLINE resources instead, as so:</li>\\n\"+\n     \"</ul>\\n\"+\n     \"<code>\\n\"+\n     \"from bokeh.resources import INLINE\\n\"+\n     \"output_notebook(resources=INLINE)\\n\"+\n     \"</code>\\n\"+\n     \"</div>\"}};\n\n  function display_loaded() {\n    var el = document.getElementById(\"1001\");\n    if (el != null) {\n      el.textContent = \"BokehJS is loading...\";\n    }\n    if (root.Bokeh !== undefined) {\n      if (el != null) {\n        el.textContent = \"BokehJS \" + root.Bokeh.version + \" successfully loaded.\";\n      }\n    } else if (Date.now() < root._bokeh_timeout) {\n      setTimeout(display_loaded, 100)\n    }\n  }\n\n\n  function run_callbacks() {\n    try {\n      root._bokeh_onload_callbacks.forEach(function(callback) {\n        if (callback != null)\n          callback();\n      });\n    } finally {\n      delete root._bokeh_onload_callbacks\n    }\n    console.debug(\"Bokeh: all callbacks have finished\");\n  }\n\n  function load_libs(css_urls, js_urls, callback) {\n    if (css_urls == null) css_urls = [];\n    if (js_urls == null) js_urls = [];\n\n    root._bokeh_onload_callbacks.push(callback);\n    if (root._bokeh_is_loading > 0) {\n      console.debug(\"Bokeh: BokehJS is being loaded, scheduling callback at\", now());\n      return null;\n    }\n    if (js_urls == null || js_urls.length === 0) {\n      run_callbacks();\n      return null;\n    }\n    console.debug(\"Bokeh: BokehJS not loaded, scheduling load and callback at\", now());\n    root._bokeh_is_loading = css_urls.length + js_urls.length;\n\n    function on_load() {\n      root._bokeh_is_loading--;\n      if (root._bokeh_is_loading === 0) {\n        console.debug(\"Bokeh: all BokehJS libraries/stylesheets loaded\");\n        run_callbacks()\n      }\n    }\n\n    function on_error() {\n      console.error(\"failed to load \" + url);\n    }\n\n    for (var i = 0; i < css_urls.length; i++) {\n      var url = css_urls[i];\n      const element = document.createElement(\"link\");\n      element.onload = on_load;\n      element.onerror = on_error;\n      element.rel = \"stylesheet\";\n      element.type = \"text/css\";\n      element.href = url;\n      console.debug(\"Bokeh: injecting link tag for BokehJS stylesheet: \", url);\n      document.body.appendChild(element);\n    }\n\n    const hashes = {\"https://cdn.bokeh.org/bokeh/release/bokeh-2.1.1.min.js\": \"kLr4fYcqcSpbuI95brIH3vnnYCquzzSxHPU6XGQCIkQRGJwhg0StNbj1eegrHs12\", \"https://cdn.bokeh.org/bokeh/release/bokeh-widgets-2.1.1.min.js\": \"xIGPmVtaOm+z0BqfSOMn4lOR6ciex448GIKG4eE61LsAvmGj48XcMQZtKcE/UXZe\", \"https://cdn.bokeh.org/bokeh/release/bokeh-tables-2.1.1.min.js\": \"Dc9u1wF/0zApGIWoBbH77iWEHtdmkuYWG839Uzmv8y8yBLXebjO9ZnERsde5Ln/P\", \"https://cdn.bokeh.org/bokeh/release/bokeh-gl-2.1.1.min.js\": \"cT9JaBz7GiRXdENrJLZNSC6eMNF3nh3fa5fTF51Svp+ukxPdwcU5kGXGPBgDCa2j\"};\n\n    for (var i = 0; i < js_urls.length; i++) {\n      var url = js_urls[i];\n      var element = document.createElement('script');\n      element.onload = on_load;\n      element.onerror = on_error;\n      element.async = false;\n      element.src = url;\n      if (url in hashes) {\n        element.crossOrigin = \"anonymous\";\n        element.integrity = \"sha384-\" + hashes[url];\n      }\n      console.debug(\"Bokeh: injecting script tag for BokehJS library: \", url);\n      document.head.appendChild(element);\n    }\n  };\n\n  function inject_raw_css(css) {\n    const element = document.createElement(\"style\");\n    element.appendChild(document.createTextNode(css));\n    document.body.appendChild(element);\n  }\n\n  \n  var js_urls = [\"https://cdn.bokeh.org/bokeh/release/bokeh-2.1.1.min.js\", \"https://cdn.bokeh.org/bokeh/release/bokeh-widgets-2.1.1.min.js\", \"https://cdn.bokeh.org/bokeh/release/bokeh-tables-2.1.1.min.js\", \"https://cdn.bokeh.org/bokeh/release/bokeh-gl-2.1.1.min.js\"];\n  var css_urls = [];\n  \n\n  var inline_js = [\n    function(Bokeh) {\n      Bokeh.set_log_level(\"info\");\n    },\n    function(Bokeh) {\n    \n    \n    }\n  ];\n\n  function run_inline_js() {\n    \n    if (root.Bokeh !== undefined || force === true) {\n      \n    for (var i = 0; i < inline_js.length; i++) {\n      inline_js[i].call(root, root.Bokeh);\n    }\n    if (force === true) {\n        display_loaded();\n      }} else if (Date.now() < root._bokeh_timeout) {\n      setTimeout(run_inline_js, 100);\n    } else if (!root._bokeh_failed_load) {\n      console.log(\"Bokeh: BokehJS failed to load within specified timeout.\");\n      root._bokeh_failed_load = true;\n    } else if (force !== true) {\n      var cell = $(document.getElementById(\"1001\")).parents('.cell').data().cell;\n      cell.output_area.append_execute_result(NB_LOAD_WARNING)\n    }\n\n  }\n\n  if (root._bokeh_is_loading === 0) {\n    console.debug(\"Bokeh: BokehJS loaded, going straight to plotting\");\n    run_inline_js();\n  } else {\n    load_libs(css_urls, js_urls, function() {\n      console.debug(\"Bokeh: BokehJS plotting callback run at\", now());\n      run_inline_js();\n    });\n  }\n}(window));",
      "application/vnd.bokehjs_load.v0+json": "\n(function(root) {\n  function now() {\n    return new Date();\n  }\n\n  var force = true;\n\n  if (typeof root._bokeh_onload_callbacks === \"undefined\" || force === true) {\n    root._bokeh_onload_callbacks = [];\n    root._bokeh_is_loading = undefined;\n  }\n\n  \n\n  \n  if (typeof (root._bokeh_timeout) === \"undefined\" || force === true) {\n    root._bokeh_timeout = Date.now() + 5000;\n    root._bokeh_failed_load = false;\n  }\n\n  var NB_LOAD_WARNING = {'data': {'text/html':\n     \"<div style='background-color: #fdd'>\\n\"+\n     \"<p>\\n\"+\n     \"BokehJS does not appear to have successfully loaded. If loading BokehJS from CDN, this \\n\"+\n     \"may be due to a slow or bad network connection. Possible fixes:\\n\"+\n     \"</p>\\n\"+\n     \"<ul>\\n\"+\n     \"<li>re-rerun `output_notebook()` to attempt to load from CDN again, or</li>\\n\"+\n     \"<li>use INLINE resources instead, as so:</li>\\n\"+\n     \"</ul>\\n\"+\n     \"<code>\\n\"+\n     \"from bokeh.resources import INLINE\\n\"+\n     \"output_notebook(resources=INLINE)\\n\"+\n     \"</code>\\n\"+\n     \"</div>\"}};\n\n  function display_loaded() {\n    var el = document.getElementById(\"1001\");\n    if (el != null) {\n      el.textContent = \"BokehJS is loading...\";\n    }\n    if (root.Bokeh !== undefined) {\n      if (el != null) {\n        el.textContent = \"BokehJS \" + root.Bokeh.version + \" successfully loaded.\";\n      }\n    } else if (Date.now() < root._bokeh_timeout) {\n      setTimeout(display_loaded, 100)\n    }\n  }\n\n\n  function run_callbacks() {\n    try {\n      root._bokeh_onload_callbacks.forEach(function(callback) {\n        if (callback != null)\n          callback();\n      });\n    } finally {\n      delete root._bokeh_onload_callbacks\n    }\n    console.debug(\"Bokeh: all callbacks have finished\");\n  }\n\n  function load_libs(css_urls, js_urls, callback) {\n    if (css_urls == null) css_urls = [];\n    if (js_urls == null) js_urls = [];\n\n    root._bokeh_onload_callbacks.push(callback);\n    if (root._bokeh_is_loading > 0) {\n      console.debug(\"Bokeh: BokehJS is being loaded, scheduling callback at\", now());\n      return null;\n    }\n    if (js_urls == null || js_urls.length === 0) {\n      run_callbacks();\n      return null;\n    }\n    console.debug(\"Bokeh: BokehJS not loaded, scheduling load and callback at\", now());\n    root._bokeh_is_loading = css_urls.length + js_urls.length;\n\n    function on_load() {\n      root._bokeh_is_loading--;\n      if (root._bokeh_is_loading === 0) {\n        console.debug(\"Bokeh: all BokehJS libraries/stylesheets loaded\");\n        run_callbacks()\n      }\n    }\n\n    function on_error() {\n      console.error(\"failed to load \" + url);\n    }\n\n    for (var i = 0; i < css_urls.length; i++) {\n      var url = css_urls[i];\n      const element = document.createElement(\"link\");\n      element.onload = on_load;\n      element.onerror = on_error;\n      element.rel = \"stylesheet\";\n      element.type = \"text/css\";\n      element.href = url;\n      console.debug(\"Bokeh: injecting link tag for BokehJS stylesheet: \", url);\n      document.body.appendChild(element);\n    }\n\n    const hashes = {\"https://cdn.bokeh.org/bokeh/release/bokeh-2.1.1.min.js\": \"kLr4fYcqcSpbuI95brIH3vnnYCquzzSxHPU6XGQCIkQRGJwhg0StNbj1eegrHs12\", \"https://cdn.bokeh.org/bokeh/release/bokeh-widgets-2.1.1.min.js\": \"xIGPmVtaOm+z0BqfSOMn4lOR6ciex448GIKG4eE61LsAvmGj48XcMQZtKcE/UXZe\", \"https://cdn.bokeh.org/bokeh/release/bokeh-tables-2.1.1.min.js\": \"Dc9u1wF/0zApGIWoBbH77iWEHtdmkuYWG839Uzmv8y8yBLXebjO9ZnERsde5Ln/P\", \"https://cdn.bokeh.org/bokeh/release/bokeh-gl-2.1.1.min.js\": \"cT9JaBz7GiRXdENrJLZNSC6eMNF3nh3fa5fTF51Svp+ukxPdwcU5kGXGPBgDCa2j\"};\n\n    for (var i = 0; i < js_urls.length; i++) {\n      var url = js_urls[i];\n      var element = document.createElement('script');\n      element.onload = on_load;\n      element.onerror = on_error;\n      element.async = false;\n      element.src = url;\n      if (url in hashes) {\n        element.crossOrigin = \"anonymous\";\n        element.integrity = \"sha384-\" + hashes[url];\n      }\n      console.debug(\"Bokeh: injecting script tag for BokehJS library: \", url);\n      document.head.appendChild(element);\n    }\n  };\n\n  function inject_raw_css(css) {\n    const element = document.createElement(\"style\");\n    element.appendChild(document.createTextNode(css));\n    document.body.appendChild(element);\n  }\n\n  \n  var js_urls = [\"https://cdn.bokeh.org/bokeh/release/bokeh-2.1.1.min.js\", \"https://cdn.bokeh.org/bokeh/release/bokeh-widgets-2.1.1.min.js\", \"https://cdn.bokeh.org/bokeh/release/bokeh-tables-2.1.1.min.js\", \"https://cdn.bokeh.org/bokeh/release/bokeh-gl-2.1.1.min.js\"];\n  var css_urls = [];\n  \n\n  var inline_js = [\n    function(Bokeh) {\n      Bokeh.set_log_level(\"info\");\n    },\n    function(Bokeh) {\n    \n    \n    }\n  ];\n\n  function run_inline_js() {\n    \n    if (root.Bokeh !== undefined || force === true) {\n      \n    for (var i = 0; i < inline_js.length; i++) {\n      inline_js[i].call(root, root.Bokeh);\n    }\n    if (force === true) {\n        display_loaded();\n      }} else if (Date.now() < root._bokeh_timeout) {\n      setTimeout(run_inline_js, 100);\n    } else if (!root._bokeh_failed_load) {\n      console.log(\"Bokeh: BokehJS failed to load within specified timeout.\");\n      root._bokeh_failed_load = true;\n    } else if (force !== true) {\n      var cell = $(document.getElementById(\"1001\")).parents('.cell').data().cell;\n      cell.output_area.append_execute_result(NB_LOAD_WARNING)\n    }\n\n  }\n\n  if (root._bokeh_is_loading === 0) {\n    console.debug(\"Bokeh: BokehJS loaded, going straight to plotting\");\n    run_inline_js();\n  } else {\n    load_libs(css_urls, js_urls, function() {\n      console.debug(\"Bokeh: BokehJS plotting callback run at\", now());\n      run_inline_js();\n    });\n  }\n}(window));"
     },
     "metadata": {}
    },
    {
     "output_type": "stream",
     "name": "stdout",
     "text": "Linux DESKTOP-CR7O8A2 4.19.104-microsoft-standard #1 SMP Wed Feb 19 06:37:35 UTC 2020 x86_64 x86_64 x86_64 GNU/Linux\n"
    }
   ],
   "source": [
    "import numpy as np\n",
    "import sympy as sym\n",
    "import plotly.graph_objects as go\n",
    "import bokeh.plotting as bk\n",
    "import json\n",
    "from plotly.offline import init_notebook_mode, iplot\n",
    "from bokeh.io import output_notebook, export_png\n",
    "from IPython.display import Image\n",
    "init_notebook_mode(connected=True)\n",
    "output_notebook()\n",
    "sym.init_printing(use_latex='mathjax',latex_mode='equation*')\n",
    "!uname -a"
   ]
  },
  {
   "cell_type": "markdown",
   "metadata": {},
   "source": [
    "\\cleardoublepage\n",
    "\n",
    "\\tableofcontents\n",
    "\n",
    "\\cleardoublepage"
   ]
  },
  {
   "cell_type": "markdown",
   "metadata": {},
   "source": [
    "# Introdução"
   ]
  },
  {
   "cell_type": "markdown",
   "metadata": {},
   "source": [
    "Em uma estrutura de treliças, cada barra é um elemento, e o Método dos Elementos Finitos coincide com a Análise Matricial de Estruturas. Considerando que todos os esforços na treliça são normais, não há cargas transversais, o problema, visto do ponto de vista das barras, é unidimensional, pois, da mesma forma que os esforços, os deslocamentos também são na mesma direção das barras.\n",
    "\n",
    "No caso de vigas, havendo momento fletor (ou torçor), tanto direto como em consequência de esforço cortante, há deformação no sentido perpendicular à viga, bem como rotação pontual em decorrência da deformação. Assim, uma viga será discretizada na forma de uma malha compostas por pequenos segmentos.\n",
    "\n",
    "Em um Elemento de Viga, cujo eixo principal é o eixo $x$, temos:\n",
    "\n",
    "* $V_{1} \\rightarrow$ Força perpendicular no início do Elemento;\n",
    "* $V_{2} \\rightarrow$ Força perpendicular no final do Elemento;\n",
    "* $P \\rightarrow$ Carga perpendicular distribuída;\n",
    "* $M_{1} \\rightarrow$ Momento no início do Elemento;\n",
    "* $M_{2} \\rightarrow$ Momento no final do Elemento;\n",
    "* $L \\rightarrow$ Comprimento do Elemento.\n",
    "\n",
    "Bem como os deslocamentos:\n",
    "* $u_{1}=\\delta_{1}\\rightarrow$ deflexão $\\delta$ no início do Elemento;\n",
    "* $u_{2}=\\theta_{1}\\rightarrow$ inclinação $\\theta$ no início do Elemento;\n",
    "* $u_{3}=\\delta_{2}\\rightarrow$ deflexão $\\delta$ no final do Elemento;\n",
    "* $u_{4}=\\theta_{2}\\rightarrow$ inclinação $\\theta$ no final do Elemento.\n",
    "\n",
    "No caso de uma viga retangular de largura $b$ e altura $h$, temos o momento de inércia:\n",
    "\n",
    "\\begin{equation*}\n",
    "    I = \\frac{bh^{3}}{12}\n",
    "\\end{equation*}\n",
    "\n",
    "Assim, sendo o Módulo de Elasticidade $E$ constante, o produto $EI$ também será.\n",
    "\n",
    "Temos, portanto, a seguinte equação diferencial da viga:\n",
    "\n",
    "\\begin{equation*}\n",
    "    EI\\frac{d^{4}u}{dx^{4}} = P\n",
    "\\end{equation*}\n",
    "\n",
    "Tem-se que:\n",
    "\n",
    "\\begin{equation*}\n",
    "    V = EI\\frac{d^{3}u}{dx^{3}}\n",
    "\\end{equation*}\n",
    "\n",
    "E\n",
    "\n",
    "\\begin{equation*}\n",
    "    M = EI\\frac{d^{2}u}{dx^{2}}\n",
    "\\end{equation*}"
   ]
  },
  {
   "cell_type": "markdown",
   "metadata": {},
   "source": [
    "Aplicando a SRP - Sentença de Resíduos Ponderados - na EDO da viga, resulta:\n",
    "\n",
    "\\begin{equation*}\n",
    "    \\int_{\\Omega}{N_{i}R}d\\Omega = 0\n",
    "\\end{equation*}\n",
    "\n",
    "$$\\therefore$$\n",
    "\n",
    "\\begin{equation*}\n",
    "    \\int_{0}^{L}{N_{i}\\left(EI\\frac{d^{4}u}{dx^{4}}-P\\right)}dx = 0\n",
    "\\end{equation*}\n"
   ]
  },
  {
   "cell_type": "code",
   "execution_count": 2,
   "metadata": {
    "tags": []
   },
   "outputs": [
    {
     "output_type": "display_data",
     "data": {
      "text/plain": "L                             \n⌠                             \n⎮ ⎛      4          ⎞         \n⎮ ⎜     d           ⎟         \n⎮ ⎜E⋅I⋅───(u(x)) - P⎟⋅Nᵢ(x) dx\n⎮ ⎜      4          ⎟         \n⎮ ⎝    dx           ⎠         \n⌡                             \n0                             ",
      "text/latex": "\\begin{equation*}\\int\\limits_{0}^{L} \\left(E I \\frac{d^{4}}{d x^{4}} u{\\left(x \\right)} - P\\right) \\operatorname{N_{i}}{\\left(x \\right)}\\, dx\\end{equation*}"
     },
     "metadata": {}
    }
   ],
   "source": [
    "x = sym.symbols('x')\n",
    "P = sym.symbols('P')\n",
    "E,I,L = sym.symbols('E,I,L')\n",
    "u = sym.Function('u')\n",
    "N_i = sym.symbols('N_i',cls=sym.Function)\n",
    "R = E*I*sym.diff(u(x),x,4)-P\n",
    "SRP = sym.integrate(N_i(x)*R,(x,0,L))\n",
    "display(SRP.doit())"
   ]
  },
  {
   "cell_type": "markdown",
   "metadata": {},
   "source": [
    "Essa integral não pode ser resolvida pelos métodos sym.dsolve(sym.Eq(SRP,0),u(x)) ou SRP.doit(), pois o nível de complexidade ainda não foi implementado na biblioteca.\n",
    "\n",
    "Utilizando a integração por partes, obtém-se o seguinte:"
   ]
  },
  {
   "cell_type": "code",
   "execution_count": 3,
   "metadata": {},
   "outputs": [
    {
     "output_type": "display_data",
     "data": {
      "text/plain": "    L                       \n    ⌠                       \n    ⎮             3         \n    ⎮ d          d          \nE⋅I⋅⎮ ──(Nᵢ(x))⋅───(u(x)) dx\n    ⎮ dx          3         \n    ⎮           dx          \n    ⌡                       \n    0                       ",
      "text/latex": "\\begin{equation*}E I \\int\\limits_{0}^{L} \\frac{d}{d x} \\operatorname{N_{i}}{\\left(x \\right)} \\frac{d^{3}}{d x^{3}} u{\\left(x \\right)}\\, dx\\end{equation*}"
     },
     "metadata": {}
    }
   ],
   "source": [
    "eq = sym.integrate(E*I*(sym.diff(N_i(x),x)*sym.diff(u(x),x,3)),(x,0,L))\n",
    "display(eq.doit())"
   ]
  },
  {
   "cell_type": "markdown",
   "metadata": {},
   "source": [
    "# Funções de Hermite"
   ]
  },
  {
   "cell_type": "code",
   "execution_count": 4,
   "metadata": {},
   "outputs": [
    {
     "output_type": "display_data",
     "data": {
      "text/plain": "                               3\n        3⋅L           ⎛  L    ⎞ \n      - ─── + 3⋅x   2⋅⎜- ─ + x⎟ \n         2            ⎝  2    ⎠ \n0.5 - ─────────── + ────────────\n          2⋅L             3     \n                         L      ",
      "text/latex": "\\begin{equation*}0.5 - \\frac{- \\frac{3 L}{2} + 3 x}{2 L} + \\frac{2 \\left(- \\frac{L}{2} + x\\right)^{3}}{L^{3}}\\end{equation*}"
     },
     "metadata": {}
    },
    {
     "output_type": "display_data",
     "data": {
      "text/plain": "                 2            3\n        ⎛  L    ⎞    ⎛  L    ⎞ \n        ⎜- ─ + x⎟    ⎜- ─ + x⎟ \nL   x   ⎝  2    ⎠    ⎝  2    ⎠ \n─ - ─ - ────────── + ──────────\n4   4      2⋅L            2    \n                         L     ",
      "text/latex": "\\begin{equation*}\\frac{L}{4} - \\frac{x}{4} - \\frac{\\left(- \\frac{L}{2} + x\\right)^{2}}{2 L} + \\frac{\\left(- \\frac{L}{2} + x\\right)^{3}}{L^{2}}\\end{equation*}"
     },
     "metadata": {}
    },
    {
     "output_type": "display_data",
     "data": {
      "text/plain": "                               3\n        3⋅L           ⎛  L    ⎞ \n      - ─── + 3⋅x   2⋅⎜- ─ + x⎟ \n         2            ⎝  2    ⎠ \n0.5 + ─────────── - ────────────\n          2⋅L             3     \n                         L      ",
      "text/latex": "\\begin{equation*}0.5 + \\frac{- \\frac{3 L}{2} + 3 x}{2 L} - \\frac{2 \\left(- \\frac{L}{2} + x\\right)^{3}}{L^{3}}\\end{equation*}"
     },
     "metadata": {}
    },
    {
     "output_type": "display_data",
     "data": {
      "text/plain": "               2            3\n      ⎛  L    ⎞    ⎛  L    ⎞ \n      ⎜- ─ + x⎟    ⎜- ─ + x⎟ \n  x   ⎝  2    ⎠    ⎝  2    ⎠ \n- ─ + ────────── + ──────────\n  4      2⋅L            2    \n                       L     ",
      "text/latex": "\\begin{equation*}- \\frac{x}{4} + \\frac{\\left(- \\frac{L}{2} + x\\right)^{2}}{2 L} + \\frac{\\left(- \\frac{L}{2} + x\\right)^{3}}{L^{2}}\\end{equation*}"
     },
     "metadata": {}
    }
   ],
   "source": [
    "N_1 = 1/2 - (3*(x-L/2))/(2*L) + (2*(x-L/2)**3)/(L**3)\n",
    "\n",
    "N_2 = L/8 - (x-L/2)/4 - ((x-L/2)**2)/(2*L) + ((x-L/2)**3)/(L**2)\n",
    "\n",
    "N_3 = 1/2 + (3*(x-L/2))/(2*L) - (2*(x-L/2)**3)/(L**3)\n",
    "\n",
    "N_4 = -L/8 - (x-L/2)/4 + ((x-L/2)**2)/(2*L) + ((x-L/2)**3)/(L**2)\n",
    "\n",
    "display(N_1)\n",
    "display(N_2)\n",
    "display(N_3)\n",
    "display(N_4)"
   ]
  },
  {
   "cell_type": "markdown",
   "metadata": {},
   "source": [
    "# Matriz de Rigidez Local"
   ]
  },
  {
   "cell_type": "markdown",
   "metadata": {},
   "source": [
    "\\begin{equation*}\n",
    "    K_{i,j} = \\int_{0}^{L}{\\frac{d^{2}N_{i}\\left(x\\right)}{dx^{2}}\\frac{d^{2}N_{j}\\left(x\\right)}{dx^{2}}}dx\n",
    "\\end{equation*}"
   ]
  },
  {
   "cell_type": "code",
   "execution_count": 5,
   "metadata": {
    "tags": []
   },
   "outputs": [
    {
     "output_type": "display_data",
     "data": {
      "text/plain": "⎡ 12    6   -12    6 ⎤\n⎢ ──    ─   ────   ─ ⎥\n⎢  2    L     2    L ⎥\n⎢ L          L       ⎥\n⎢                    ⎥\n⎢ 6         -6       ⎥\n⎢ ─     4   ───    2 ⎥\n⎢ L          L       ⎥\n⎢                    ⎥\n⎢-12   -6    12   -6 ⎥\n⎢────  ───   ──   ───⎥\n⎢  2    L     2    L ⎥\n⎢ L          L       ⎥\n⎢                    ⎥\n⎢ 6         -6       ⎥\n⎢ ─     2   ───    4 ⎥\n⎣ L          L       ⎦",
      "text/latex": "\\begin{equation*}\\left[\\begin{matrix}\\frac{12}{L^{2}} & \\frac{6}{L} & - \\frac{12}{L^{2}} & \\frac{6}{L}\\\\\\frac{6}{L} & 4 & - \\frac{6}{L} & 2\\\\- \\frac{12}{L^{2}} & - \\frac{6}{L} & \\frac{12}{L^{2}} & - \\frac{6}{L}\\\\\\frac{6}{L} & 2 & - \\frac{6}{L} & 4\\end{matrix}\\right]\\end{equation*}"
     },
     "metadata": {}
    }
   ],
   "source": [
    "K_e = sym.Matrix([[0,0,0,0],[0,0,0,0],[0,0,0,0],[0,0,0,0]])\n",
    "\n",
    "K_e[0,0] = E*I*sym.integrate(sym.diff(N_1,x,2)*sym.diff(N_1,x,2),[x,0,L])\n",
    "K_e[0,1] = E*I*sym.integrate(sym.diff(N_1,x,2)*sym.diff(N_2,x,2),[x,0,L])\n",
    "K_e[0,2] = E*I*sym.integrate(sym.diff(N_1,x,2)*sym.diff(N_3,x,2),[x,0,L])\n",
    "K_e[0,3] = E*I*sym.integrate(sym.diff(N_1,x,2)*sym.diff(N_4,x,2),[x,0,L])\n",
    "\n",
    "K_e[1,0] = K_e[0,1]\n",
    "K_e[1,1] = E*I*sym.integrate(sym.diff(N_2,x,2)*sym.diff(N_2,x,2),[x,0,L])\n",
    "K_e[1,2] = E*I*sym.integrate(sym.diff(N_2,x,2)*sym.diff(N_3,x,2),[x,0,L])\n",
    "K_e[1,3] = E*I*sym.integrate(sym.diff(N_2,x,2)*sym.diff(N_4,x,2),[x,0,L])\n",
    "\n",
    "K_e[2,0] = K_e[0,2]\n",
    "K_e[2,1] = K_e[1,2]\n",
    "K_e[2,2] = E*I*sym.integrate(sym.diff(N_3,x,2)*sym.diff(N_3,x,2),[x,0,L])\n",
    "K_e[2,3] = E*I*sym.integrate(sym.diff(N_3,x,2)*sym.diff(N_4,x,2),[x,0,L])\n",
    "\n",
    "K_e[3,0] = K_e[0,3]\n",
    "K_e[3,1] = K_e[1,3]\n",
    "K_e[3,2] = K_e[2,3]\n",
    "K_e[3,3] = E*I*sym.integrate(sym.diff(N_4,x,2)*sym.diff(N_4,x,2),[x,0,L])\n",
    "\n",
    "display(K_e/(E*I/L))"
   ]
  },
  {
   "cell_type": "markdown",
   "metadata": {},
   "source": [
    "# Vetor Local de Forças Nodais"
   ]
  },
  {
   "cell_type": "code",
   "execution_count": 6,
   "metadata": {},
   "outputs": [
    {
     "output_type": "display_data",
     "data": {
      "text/plain": "⎡ L⋅P       ⎤\n⎢ ─── + V₁  ⎥\n⎢  2        ⎥\n⎢           ⎥\n⎢  2        ⎥\n⎢ L ⋅P      ⎥\n⎢ ──── - M₁ ⎥\n⎢  12       ⎥\n⎢           ⎥\n⎢ L⋅P       ⎥\n⎢ ─── - V₂  ⎥\n⎢  2        ⎥\n⎢           ⎥\n⎢   2       ⎥\n⎢  L ⋅P     ⎥\n⎢- ──── + M₂⎥\n⎣   12      ⎦",
      "text/latex": "\\begin{equation*}\\left[\\begin{matrix}\\frac{L P}{2} + V_{1}\\\\\\frac{L^{2} P}{12} - M_{1}\\\\\\frac{L P}{2} - V_{2}\\\\- \\frac{L^{2} P}{12} + M_{2}\\end{matrix}\\right]\\end{equation*}"
     },
     "metadata": {}
    }
   ],
   "source": [
    "V_1,M_1,V_2,M_2 = sym.symbols('V_1,M_1,V_2,M_2')\n",
    "f_e = sym.Matrix([V_1,-M_1,-V_2,M_2])\n",
    "\n",
    "f_e[0] += P*L/2\n",
    "f_e[1] += P*L**2/12\n",
    "f_e[2] += P*L/2\n",
    "f_e[3] += -P*L**2/12\n",
    "\n",
    "display(f_e)"
   ]
  },
  {
   "cell_type": "markdown",
   "metadata": {},
   "source": [
    "# Exemplo Analítico"
   ]
  },
  {
   "cell_type": "markdown",
   "metadata": {},
   "source": [
    "A partir da definição da Matriz de Rigidez e do Vetor de Cargas Nodais dentro de um único Elemento $e$, podemos expandir para uma viga (ou diversas vigas) em uma estrutura dividida em $n$ Elementos.\n",
    "\n",
    "Vamos utilizar, como exemplo, uma viga biapoiada de $2~m$ de comprimento, sendo o apoio no início do vão, de segundo gênero, e o do final do vão, de primeiro gênero. A viga está sujeita a uma carga uniformemente distribuída $P = 10~kN/m$ e tem o produto constante $EI = 10^{2}kNm^{2}$. O problema consiste em calcular o deslocamento e o momento no centro do vão, bem como as reações e as rotações nos apoios.\n",
    "\n",
    "A solução analítica do problema é:\n",
    "\n",
    "$$u =$$"
   ]
  },
  {
   "cell_type": "code",
   "execution_count": 7,
   "metadata": {},
   "outputs": [
    {
     "output_type": "display_data",
     "data": {
      "text/plain": "                    4  \n0.0130208333333333⋅L ⋅P\n───────────────────────\n          E⋅I          ",
      "text/latex": "\\begin{equation*}\\frac{0.0130208333333333 L^{4} P}{E I}\\end{equation*}"
     },
     "metadata": {}
    },
    {
     "output_type": "display_data",
     "data": {
      "text/plain": "0.0208333333333333",
      "text/latex": "\\begin{equation*}0.0208333333333333\\end{equation*}"
     },
     "metadata": {}
    }
   ],
   "source": [
    "u = (5/384)*(P*L**4)/(E*I)\n",
    "display(u)\n",
    "display(u.subs(P,10).subs(L,2).subs(E*I,10**2))"
   ]
  },
  {
   "cell_type": "markdown",
   "metadata": {},
   "source": [
    "$$M =$$"
   ]
  },
  {
   "cell_type": "code",
   "execution_count": 8,
   "metadata": {},
   "outputs": [
    {
     "output_type": "display_data",
     "data": {
      "text/plain": " 2  \nL ⋅P\n────\n 8  ",
      "text/latex": "\\begin{equation*}\\frac{L^{2} P}{8}\\end{equation*}"
     },
     "metadata": {}
    },
    {
     "output_type": "display_data",
     "data": {
      "text/plain": "5",
      "text/latex": "\\begin{equation*}5\\end{equation*}"
     },
     "metadata": {}
    }
   ],
   "source": [
    "M = (P*L**2)/8\n",
    "display(M)\n",
    "display(M.subs(P,10).subs(L,2))"
   ]
  },
  {
   "cell_type": "markdown",
   "metadata": {},
   "source": [
    "$$\\theta_{A} = -\\theta_{B} =$$"
   ]
  },
  {
   "cell_type": "code",
   "execution_count": 9,
   "metadata": {},
   "outputs": [
    {
     "output_type": "display_data",
     "data": {
      "text/plain": "  3   \n L ⋅P \n──────\n24⋅E⋅I",
      "text/latex": "\\begin{equation*}\\frac{L^{3} P}{24 E I}\\end{equation*}"
     },
     "metadata": {}
    },
    {
     "output_type": "display_data",
     "data": {
      "text/plain": "1/30",
      "text/latex": "\\begin{equation*}\\frac{1}{30}\\end{equation*}"
     },
     "metadata": {}
    }
   ],
   "source": [
    "theta_A = (P*L**3)/(24*E*I)\n",
    "display(theta_A)\n",
    "display(theta_A.subs(P,10).subs(L,2).subs(E*I,10**2))"
   ]
  },
  {
   "cell_type": "markdown",
   "metadata": {},
   "source": [
    "$$V_{A} = V_{B} =$$"
   ]
  },
  {
   "cell_type": "code",
   "execution_count": 10,
   "metadata": {},
   "outputs": [
    {
     "output_type": "display_data",
     "data": {
      "text/plain": "L⋅P\n───\n 2 ",
      "text/latex": "\\begin{equation*}\\frac{L P}{2}\\end{equation*}"
     },
     "metadata": {}
    },
    {
     "output_type": "display_data",
     "data": {
      "text/plain": "10",
      "text/latex": "\\begin{equation*}10\\end{equation*}"
     },
     "metadata": {}
    }
   ],
   "source": [
    "V_A = P*L/2\n",
    "display(V_A)\n",
    "display(V_A.subs(P,10).subs(L,2))"
   ]
  },
  {
   "cell_type": "markdown",
   "metadata": {},
   "source": [
    "Considerando dois Elementos na solução, temos então:"
   ]
  },
  {
   "cell_type": "markdown",
   "metadata": {},
   "source": [
    "## Elemento 1\n",
    "\n",
    "### Variáveis de Deformação\n",
    "\n",
    "* $u_{1}^{1}\\rightarrow$ deflexão $\\delta$ no primeiro apoio;\n",
    "\n",
    "* $u_{2}^{1}\\rightarrow$ rotação $\\theta$ no primeiro apoio;\n",
    "\n",
    "* $u_{3}^{1}\\rightarrow$ deflexão $\\delta$ no centro do vão;\n",
    "\n",
    "* $u_{4}^{1}\\rightarrow$ rotação $\\theta$ no centro do vão.\n",
    "\n",
    "### Variáveis de Carregamento\n",
    "\n",
    "* $M_{1}^{1}\\rightarrow$ Momento Fletor no primeiro apoio;\n",
    "\n",
    "* $V_{1}^{1}\\rightarrow$ Força Cortante no primeiro apoio;\n",
    "\n",
    "* $M_{2}^{1}\\rightarrow$ Momento Fletor no centro do vão;\n",
    "\n",
    "* $V_{2}^{1}\\rightarrow$ Força Cortante no centro do vão."
   ]
  },
  {
   "cell_type": "markdown",
   "metadata": {},
   "source": [
    "## Elemento 2\n",
    "\n",
    "### Variáveis de Deformação\n",
    "\n",
    "* $u_{1}^{2}\\rightarrow$ deflexão $\\delta$ no centro do vão;\n",
    "\n",
    "* $u_{2}^{2}\\rightarrow$ rotação $\\theta$ no centro do vão;\n",
    "\n",
    "* $u_{3}^{2}\\rightarrow$ deflexão $\\delta$ no segundo apoio;\n",
    "\n",
    "* $u_{4}^{2}\\rightarrow$ rotação $\\theta$ no segundo apoio.\n",
    "\n",
    "### Variáveis de Carregamento\n",
    "\n",
    "* $M_{1}^{2}\\rightarrow$ Momento Fletor no centro do vão;\n",
    "\n",
    "* $V_{1}^{2}\\rightarrow$ Força Cortante no centro do vão;\n",
    "\n",
    "* $M_{2}^{2}\\rightarrow$ Momento Fletor no segundo apoio;\n",
    "\n",
    "* $V_{2}^{2}\\rightarrow$ Força Cortante no csegundo apoio."
   ]
  },
  {
   "cell_type": "markdown",
   "metadata": {},
   "source": [
    "### Nó Central\n",
    "\n",
    " No nó central há a conexão entre o segundo nó do primeiro Elemento e o primeiro nó do segundo Elemento. Portanto, seus valores coincidem. Assim,\n",
    "\n",
    "\\begin{equation*}\n",
    "    M_{2}^{1} = M_{1}^{2}\n",
    "\\end{equation*}\n",
    "\n",
    "E\n",
    "\n",
    "\\begin{equation*}\n",
    "    V_{1}^{2} = V_{2}^{1}\n",
    "\\end{equation*}"
   ]
  },
  {
   "cell_type": "markdown",
   "metadata": {},
   "source": [
    "## Cálculo das Matrizes de Rigidez Locais"
   ]
  },
  {
   "cell_type": "markdown",
   "metadata": {},
   "source": [
    "$$\\mathbf{K}_{e} = \\frac{EI}{L}\\times$$"
   ]
  },
  {
   "cell_type": "code",
   "execution_count": 11,
   "metadata": {},
   "outputs": [
    {
     "output_type": "display_data",
     "data": {
      "text/plain": "⎡ 12    6   -12    6 ⎤\n⎢ ──    ─   ────   ─ ⎥\n⎢  2    L     2    L ⎥\n⎢ L          L       ⎥\n⎢                    ⎥\n⎢ 6         -6       ⎥\n⎢ ─     4   ───    2 ⎥\n⎢ L          L       ⎥\n⎢                    ⎥\n⎢-12   -6    12   -6 ⎥\n⎢────  ───   ──   ───⎥\n⎢  2    L     2    L ⎥\n⎢ L          L       ⎥\n⎢                    ⎥\n⎢ 6         -6       ⎥\n⎢ ─     2   ───    4 ⎥\n⎣ L          L       ⎦",
      "text/latex": "\\begin{equation*}\\left[\\begin{matrix}\\frac{12}{L^{2}} & \\frac{6}{L} & - \\frac{12}{L^{2}} & \\frac{6}{L}\\\\\\frac{6}{L} & 4 & - \\frac{6}{L} & 2\\\\- \\frac{12}{L^{2}} & - \\frac{6}{L} & \\frac{12}{L^{2}} & - \\frac{6}{L}\\\\\\frac{6}{L} & 2 & - \\frac{6}{L} & 4\\end{matrix}\\right]\\end{equation*}"
     },
     "metadata": {}
    }
   ],
   "source": [
    "display(K_e/(E*I/L))"
   ]
  },
  {
   "cell_type": "markdown",
   "metadata": {},
   "source": [
    "## Elemento 1"
   ]
  },
  {
   "cell_type": "markdown",
   "metadata": {},
   "source": [
    "$$K_{1} = 10^{2}\\times$$"
   ]
  },
  {
   "cell_type": "code",
   "execution_count": 12,
   "metadata": {},
   "outputs": [
    {
     "output_type": "display_data",
     "data": {
      "text/plain": "⎡12   6   -12  6 ⎤\n⎢                ⎥\n⎢ 6   4   -6   2 ⎥\n⎢                ⎥\n⎢-12  -6  12   -6⎥\n⎢                ⎥\n⎣ 6   2   -6   4 ⎦",
      "text/latex": "\\begin{equation*}\\left[\\begin{matrix}12 & 6 & -12 & 6\\\\6 & 4 & -6 & 2\\\\-12 & -6 & 12 & -6\\\\6 & 2 & -6 & 4\\end{matrix}\\right]\\end{equation*}"
     },
     "metadata": {}
    }
   ],
   "source": [
    "K_1 = K_e.subs(E*I,10**2).subs(L,1)\n",
    "display(K_1/100)"
   ]
  },
  {
   "cell_type": "markdown",
   "metadata": {},
   "source": [
    "## Elemento 2"
   ]
  },
  {
   "cell_type": "markdown",
   "metadata": {},
   "source": [
    "$$K_{2} = 10^{2}\\times$$"
   ]
  },
  {
   "cell_type": "code",
   "execution_count": 13,
   "metadata": {},
   "outputs": [
    {
     "output_type": "display_data",
     "data": {
      "text/plain": "⎡12   6   -12  6 ⎤\n⎢                ⎥\n⎢ 6   4   -6   2 ⎥\n⎢                ⎥\n⎢-12  -6  12   -6⎥\n⎢                ⎥\n⎣ 6   2   -6   4 ⎦",
      "text/latex": "\\begin{equation*}\\left[\\begin{matrix}12 & 6 & -12 & 6\\\\6 & 4 & -6 & 2\\\\-12 & -6 & 12 & -6\\\\6 & 2 & -6 & 4\\end{matrix}\\right]\\end{equation*}"
     },
     "metadata": {}
    }
   ],
   "source": [
    "K_2 = K_e.subs(E*I,10**2).subs(L,1)\n",
    "display(K_1/100)"
   ]
  },
  {
   "cell_type": "markdown",
   "metadata": {},
   "source": [
    "## Cálculo do Vetor $\\vec{f}$"
   ]
  },
  {
   "cell_type": "code",
   "execution_count": 14,
   "metadata": {},
   "outputs": [
    {
     "output_type": "display_data",
     "data": {
      "text/plain": "⎡ L⋅P       ⎤\n⎢ ─── + V₁  ⎥\n⎢  2        ⎥\n⎢           ⎥\n⎢  2        ⎥\n⎢ L ⋅P      ⎥\n⎢ ──── - M₁ ⎥\n⎢  12       ⎥\n⎢           ⎥\n⎢ L⋅P       ⎥\n⎢ ─── - V₂  ⎥\n⎢  2        ⎥\n⎢           ⎥\n⎢   2       ⎥\n⎢  L ⋅P     ⎥\n⎢- ──── + M₂⎥\n⎣   12      ⎦",
      "text/latex": "\\begin{equation*}\\left[\\begin{matrix}\\frac{L P}{2} + V_{1}\\\\\\frac{L^{2} P}{12} - M_{1}\\\\\\frac{L P}{2} - V_{2}\\\\- \\frac{L^{2} P}{12} + M_{2}\\end{matrix}\\right]\\end{equation*}"
     },
     "metadata": {}
    }
   ],
   "source": [
    "display(f_e)"
   ]
  },
  {
   "cell_type": "markdown",
   "metadata": {},
   "source": [
    "### Elemento 1"
   ]
  },
  {
   "cell_type": "code",
   "execution_count": 15,
   "metadata": {},
   "outputs": [
    {
     "output_type": "display_data",
     "data": {
      "text/plain": "⎡ V₁ ₁ + 5 ⎤\n⎢          ⎥\n⎢5/6 - M₁ ₁⎥\n⎢          ⎥\n⎢ 5 - V₂ ₁ ⎥\n⎢          ⎥\n⎣M₂ ₁ - 5/6⎦",
      "text/latex": "\\begin{equation*}\\left[\\begin{matrix}V_{1 1} + 5\\\\\\frac{5}{6} - M_{1 1}\\\\5 - V_{2 1}\\\\M_{2 1} - \\frac{5}{6}\\end{matrix}\\right]\\end{equation*}"
     },
     "metadata": {}
    }
   ],
   "source": [
    "V_1_1,M_1_1,V_2_1,M_2_1 = sym.symbols('V_1_1,M_1_1,V_2_1,M_2_1')\n",
    "f_1 = f_e.subs(L,1).subs(P,10).subs(V_1,V_1_1).subs(V_2,V_2_1).subs(M_1,M_1_1).subs(M_2,M_2_1)\n",
    "display(f_1)"
   ]
  },
  {
   "cell_type": "markdown",
   "metadata": {},
   "source": [
    "### Elemento 2"
   ]
  },
  {
   "cell_type": "code",
   "execution_count": 16,
   "metadata": {},
   "outputs": [
    {
     "output_type": "display_data",
     "data": {
      "text/plain": "⎡ V₁ ₂ + 5 ⎤\n⎢          ⎥\n⎢5/6 - M₁ ₂⎥\n⎢          ⎥\n⎢ 5 - V₂ ₂ ⎥\n⎢          ⎥\n⎣M₂ ₂ - 5/6⎦",
      "text/latex": "\\begin{equation*}\\left[\\begin{matrix}V_{1 2} + 5\\\\\\frac{5}{6} - M_{1 2}\\\\5 - V_{2 2}\\\\M_{2 2} - \\frac{5}{6}\\end{matrix}\\right]\\end{equation*}"
     },
     "metadata": {}
    }
   ],
   "source": [
    "V_1_2,M_1_2,V_2_2,M_2_2 = sym.symbols('V_1_2,M_1_2,V_2_2,M_2_2')\n",
    "f_2 = f_e.subs(L,1).subs(P,10).subs(V_1,V_1_2).subs(V_2,V_2_2).subs(M_1,M_1_2).subs(M_2,M_2_2)\n",
    "display(f_2)"
   ]
  },
  {
   "cell_type": "markdown",
   "metadata": {},
   "source": [
    "### Vetor de Forças Global"
   ]
  },
  {
   "cell_type": "code",
   "execution_count": 17,
   "metadata": {},
   "outputs": [
    {
     "output_type": "display_data",
     "data": {
      "text/plain": "⎡    V₁ ₁ + 5    ⎤\n⎢                ⎥\n⎢   5/6 - M₁ ₁   ⎥\n⎢                ⎥\n⎢V₁ ₂ - V₂ ₁ + 10⎥\n⎢                ⎥\n⎢  -M₁ ₂ + M₂ ₁  ⎥\n⎢                ⎥\n⎢    5 - V₂ ₂    ⎥\n⎢                ⎥\n⎣   M₂ ₂ - 5/6   ⎦",
      "text/latex": "\\begin{equation*}\\left[\\begin{matrix}V_{1 1} + 5\\\\\\frac{5}{6} - M_{1 1}\\\\V_{1 2} - V_{2 1} + 10\\\\- M_{1 2} + M_{2 1}\\\\5 - V_{2 2}\\\\M_{2 2} - \\frac{5}{6}\\end{matrix}\\right]\\end{equation*}"
     },
     "metadata": {}
    }
   ],
   "source": [
    "f = sym.zeros(6,1)\n",
    "f[0:4,0] += f_1[0:4,0]\n",
    "f[2:6,0] += f_2[0:4,0]\n",
    "display(f)"
   ]
  },
  {
   "cell_type": "markdown",
   "metadata": {},
   "source": [
    "Entretanto, lambramos que no nó central, temos:\n",
    "\n",
    "\\begin{equation*}\n",
    "    \\left[\\begin{matrix}\n",
    "        -V_{2}^{1} & + & V_{1}^{2} & = & 0 \\\\\n",
    "        M_{2}^{1} & - & M_{1}^{2} & = & 0\n",
    "    \\end{matrix}\\right.\n",
    "\\end{equation*}\n",
    "\n",
    "Portanto, $\\vec{f}$ torna-se:"
   ]
  },
  {
   "cell_type": "code",
   "execution_count": 18,
   "metadata": {},
   "outputs": [
    {
     "output_type": "display_data",
     "data": {
      "text/plain": "⎡ V₁ ₁ + 5 ⎤\n⎢          ⎥\n⎢5/6 - M₁ ₁⎥\n⎢          ⎥\n⎢    10    ⎥\n⎢          ⎥\n⎢    0     ⎥\n⎢          ⎥\n⎢ 5 - V₂ ₂ ⎥\n⎢          ⎥\n⎣M₂ ₂ - 5/6⎦",
      "text/latex": "\\begin{equation*}\\left[\\begin{matrix}V_{1 1} + 5\\\\\\frac{5}{6} - M_{1 1}\\\\10\\\\0\\\\5 - V_{2 2}\\\\M_{2 2} - \\frac{5}{6}\\end{matrix}\\right]\\end{equation*}"
     },
     "metadata": {}
    }
   ],
   "source": [
    "f_G = f.subs(-V_2_1+V_1_2,0).subs(M_2_1-M_1_2,0)\n",
    "display(f_G)"
   ]
  },
  {
   "cell_type": "markdown",
   "metadata": {},
   "source": [
    "## Matriz de Rigidez Global"
   ]
  },
  {
   "cell_type": "markdown",
   "metadata": {},
   "source": [
    "A Matriz de Rigidez Global fica:\n",
    "\n",
    "$$K_G = 10^{2}\\times$$"
   ]
  },
  {
   "cell_type": "code",
   "execution_count": 19,
   "metadata": {},
   "outputs": [
    {
     "output_type": "display_data",
     "data": {
      "text/plain": "⎡12   6   -12  6    0   0 ⎤\n⎢                         ⎥\n⎢ 6   4   -6   2    0   0 ⎥\n⎢                         ⎥\n⎢-12  -6  24   0   -12  6 ⎥\n⎢                         ⎥\n⎢ 6   2    0   8   -6   2 ⎥\n⎢                         ⎥\n⎢ 0   0   -12  -6  12   -6⎥\n⎢                         ⎥\n⎣ 0   0    6   2   -6   4 ⎦",
      "text/latex": "\\begin{equation*}\\left[\\begin{matrix}12 & 6 & -12 & 6 & 0 & 0\\\\6 & 4 & -6 & 2 & 0 & 0\\\\-12 & -6 & 24 & 0 & -12 & 6\\\\6 & 2 & 0 & 8 & -6 & 2\\\\0 & 0 & -12 & -6 & 12 & -6\\\\0 & 0 & 6 & 2 & -6 & 4\\end{matrix}\\right]\\end{equation*}"
     },
     "metadata": {}
    }
   ],
   "source": [
    "K_G = sym.zeros(6,6)\n",
    "K_G[0:4,0:4] += K_1\n",
    "K_G[2:6,2:6] += K_2\n",
    "display(K_G/100)"
   ]
  },
  {
   "cell_type": "markdown",
   "metadata": {},
   "source": [
    "## Vetor de Deslocamentos\n",
    "\n",
    "Considerando as condições de contorno, temos:\n",
    "\n",
    "\\begin{equation*}\n",
    "    \\left\\{\\begin{matrix}\n",
    "        u_{1}^{1} = u_1 & = & 0 \\\\\n",
    "        u_{1}^{2} = u_5 & = & 0 \\\\\n",
    "        M_{1}^{1} & = & 0 \\\\\n",
    "        M_{2}^{2} & = & 0 \\\\\n",
    "    \\end{matrix}\\right.\n",
    "\\end{equation*}\n",
    "\n",
    "Portanto,"
   ]
  },
  {
   "cell_type": "code",
   "execution_count": 20,
   "metadata": {},
   "outputs": [
    {
     "output_type": "display_data",
     "data": {
      "text/plain": "⎡0 ⎤\n⎢  ⎥\n⎢u₂⎥\n⎢  ⎥\n⎢u₃⎥\n⎢  ⎥\n⎢u₄⎥\n⎢  ⎥\n⎢0 ⎥\n⎢  ⎥\n⎣u₆⎦",
      "text/latex": "\\begin{equation*}\\left[\\begin{matrix}0\\\\u_{2}\\\\u_{3}\\\\u_{4}\\\\0\\\\u_{6}\\end{matrix}\\right]\\end{equation*}"
     },
     "metadata": {}
    },
    {
     "output_type": "display_data",
     "data": {
      "text/plain": "⎡V₁ ₁ + 5⎤\n⎢        ⎥\n⎢  5/6   ⎥\n⎢        ⎥\n⎢   10   ⎥\n⎢        ⎥\n⎢   0    ⎥\n⎢        ⎥\n⎢5 - V₂ ₂⎥\n⎢        ⎥\n⎣  -5/6  ⎦",
      "text/latex": "\\begin{equation*}\\left[\\begin{matrix}V_{1 1} + 5\\\\\\frac{5}{6}\\\\10\\\\0\\\\5 - V_{2 2}\\\\- \\frac{5}{6}\\end{matrix}\\right]\\end{equation*}"
     },
     "metadata": {}
    }
   ],
   "source": [
    "u_1,u_2,u_3,u_4,u_5,u_6 = sym.symbols('u_1,u_2,u_3,u_4,u_5,u_6')\n",
    "u = sym.Matrix([u_1,u_2,u_3,u_4,u_5,u_6]).subs(u_1,0).subs(u_5,0)\n",
    "f_G = f_G.subs(M_1_1,0).subs(M_2_2,0)\n",
    "display(u)\n",
    "display(f_G)"
   ]
  },
  {
   "cell_type": "markdown",
   "metadata": {},
   "source": [
    "Assim, o sistema $\\mathbf{K}\\cdot\\vec{u}=\\vec{f}$ torna-se:"
   ]
  },
  {
   "cell_type": "code",
   "execution_count": 21,
   "metadata": {},
   "outputs": [
    {
     "output_type": "display_data",
     "data": {
      "text/plain": "⎡600⋅u₂ - 1200⋅u₃ + 600⋅u₄ ⎤   ⎡V₁ ₁ + 5⎤\n⎢                          ⎥   ⎢        ⎥\n⎢ 400⋅u₂ - 600⋅u₃ + 200⋅u₄ ⎥   ⎢  5/6   ⎥\n⎢                          ⎥   ⎢        ⎥\n⎢-600⋅u₂ + 2400⋅u₃ + 600⋅u₆⎥   ⎢   10   ⎥\n⎢                          ⎥ = ⎢        ⎥\n⎢ 200⋅u₂ + 800⋅u₄ + 200⋅u₆ ⎥   ⎢   0    ⎥\n⎢                          ⎥   ⎢        ⎥\n⎢-1200⋅u₃ - 600⋅u₄ - 600⋅u₆⎥   ⎢5 - V₂ ₂⎥\n⎢                          ⎥   ⎢        ⎥\n⎣ 600⋅u₃ + 200⋅u₄ + 400⋅u₆ ⎦   ⎣  -5/6  ⎦",
      "text/latex": "\\begin{equation*}\\left[\\begin{matrix}600 u_{2} - 1200 u_{3} + 600 u_{4}\\\\400 u_{2} - 600 u_{3} + 200 u_{4}\\\\- 600 u_{2} + 2400 u_{3} + 600 u_{6}\\\\200 u_{2} + 800 u_{4} + 200 u_{6}\\\\- 1200 u_{3} - 600 u_{4} - 600 u_{6}\\\\600 u_{3} + 200 u_{4} + 400 u_{6}\\end{matrix}\\right] = \\left[\\begin{matrix}V_{1 1} + 5\\\\\\frac{5}{6}\\\\10\\\\0\\\\5 - V_{2 2}\\\\- \\frac{5}{6}\\end{matrix}\\right]\\end{equation*}"
     },
     "metadata": {}
    }
   ],
   "source": [
    "eq = sym.Eq(K_G * u, f_G)\n",
    "display(eq)"
   ]
  },
  {
   "cell_type": "markdown",
   "metadata": {},
   "source": [
    "A partir deste sistema, considerando as condições de contorno, podemos obter o seguinte sistema reduzido:"
   ]
  },
  {
   "cell_type": "code",
   "execution_count": 22,
   "metadata": {},
   "outputs": [
    {
     "output_type": "display_data",
     "data": {
      "text/plain": "⎡400   -600  200   0 ⎤\n⎢                    ⎥\n⎢-600  2400   0   600⎥\n⎢                    ⎥\n⎢200    0    800  200⎥\n⎢                    ⎥\n⎣ 0    600   200  400⎦",
      "text/latex": "\\begin{equation*}\\left[\\begin{matrix}400 & -600 & 200 & 0\\\\-600 & 2400 & 0 & 600\\\\200 & 0 & 800 & 200\\\\0 & 600 & 200 & 400\\end{matrix}\\right]\\end{equation*}"
     },
     "metadata": {}
    },
    {
     "output_type": "display_data",
     "data": {
      "text/plain": "⎡5/6 ⎤\n⎢    ⎥\n⎢ 10 ⎥\n⎢    ⎥\n⎢ 0  ⎥\n⎢    ⎥\n⎣-5/6⎦",
      "text/latex": "\\begin{equation*}\\left[\\begin{matrix}\\frac{5}{6}\\\\10\\\\0\\\\- \\frac{5}{6}\\end{matrix}\\right]\\end{equation*}"
     },
     "metadata": {}
    }
   ],
   "source": [
    "f_R = f_G.copy()\n",
    "f_R -= u[0,0]*K_G[:,0]\n",
    "f_R -= u[4,0]*K_G[:,4]\n",
    "\n",
    "K_R = K_G.copy()\n",
    "K_R.row_del(4)\n",
    "K_R.col_del(4)\n",
    "K_R.row_del(0)\n",
    "K_R.col_del(0)\n",
    "f_R.row_del(4)\n",
    "f_R.row_del(0)\n",
    "\n",
    "display(K_R)\n",
    "display(f_R)"
   ]
  },
  {
   "cell_type": "markdown",
   "metadata": {},
   "source": [
    "A solução deste sistema fornece:\n",
    "\n",
    "$$u' = 10^{-2}\\times$$"
   ]
  },
  {
   "cell_type": "code",
   "execution_count": 23,
   "metadata": {},
   "outputs": [
    {
     "output_type": "display_data",
     "data": {
      "text/plain": "⎡10/3 ⎤\n⎢     ⎥\n⎢ 25  ⎥\n⎢ ──  ⎥\n⎢ 12  ⎥\n⎢     ⎥\n⎢  0  ⎥\n⎢     ⎥\n⎣-10/3⎦",
      "text/latex": "\\begin{equation*}\\left[\\begin{matrix}\\frac{10}{3}\\\\\\frac{25}{12}\\\\0\\\\- \\frac{10}{3}\\end{matrix}\\right]\\end{equation*}"
     },
     "metadata": {}
    }
   ],
   "source": [
    "u_R = K_R.solve(f_R)\n",
    "display(u_R*100)"
   ]
  },
  {
   "cell_type": "markdown",
   "metadata": {},
   "source": [
    "Temos, portanto,\n",
    "\n",
    "\\begin{equation*}\n",
    "    \\left\\{\\begin{matrix}\n",
    "        u_{2}^{1} = u_{2} & = & \\frac{10}{3}\\times10^{-2} rad \\\\\n",
    "        u_{3}^{1} = u_{1}^{2} = u_{3} & = & \\frac{25}{12}\\times10^{-2} m \\\\\n",
    "        u_{4}^{1} = u_{2}^{2} = u_{4} & = & 0 \\\\\n",
    "        u_{4}^{2} = u_{6} & = & -\\frac{10}{3}\\times10^{-2} rad \\\\\n",
    "    \\end{matrix}\\right.\n",
    "\\end{equation*}"
   ]
  },
  {
   "cell_type": "markdown",
   "metadata": {},
   "source": [
    "Temos, agora, o seguinte vetor de deslocamentos:\n",
    "\n",
    "$$u = 10^{-2}$$"
   ]
  },
  {
   "cell_type": "code",
   "execution_count": 24,
   "metadata": {},
   "outputs": [
    {
     "output_type": "display_data",
     "data": {
      "text/plain": "⎡        0        ⎤\n⎢                 ⎥\n⎢3.33333333333333 ⎥\n⎢                 ⎥\n⎢2.08333333333333 ⎥\n⎢                 ⎥\n⎢        0        ⎥\n⎢                 ⎥\n⎢        0        ⎥\n⎢                 ⎥\n⎣-3.33333333333333⎦",
      "text/latex": "\\begin{equation*}\\left[\\begin{matrix}0\\\\3.33333333333333\\\\2.08333333333333\\\\0\\\\0\\\\-3.33333333333333\\end{matrix}\\right]\\end{equation*}"
     },
     "metadata": {}
    }
   ],
   "source": [
    "u = u.subs(u_2,1/30).subs(u_3,25/1200).subs(u_4,0).subs(u_6,-1/30)\n",
    "display(100*u)"
   ]
  },
  {
   "cell_type": "markdown",
   "metadata": {},
   "source": [
    "Agora podemos calcular as forças nodais.\n",
    "\n",
    "$$\\vec{f} = $$"
   ]
  },
  {
   "cell_type": "code",
   "execution_count": 25,
   "metadata": {
    "tags": []
   },
   "outputs": [
    {
     "output_type": "display_data",
     "data": {
      "text/plain": "⎡       -5.0       ⎤\n⎢                  ⎥\n⎢0.833333333333334 ⎥\n⎢                  ⎥\n⎢       10.0       ⎥\n⎢                  ⎥\n⎢        0         ⎥\n⎢                  ⎥\n⎢       -5.0       ⎥\n⎢                  ⎥\n⎣-0.833333333333334⎦",
      "text/latex": "\\begin{equation*}\\left[\\begin{matrix}-5.0\\\\0.833333333333334\\\\10.0\\\\0\\\\-5.0\\\\-0.833333333333334\\end{matrix}\\right]\\end{equation*}"
     },
     "metadata": {}
    },
    {
     "output_type": "display_data",
     "data": {
      "text/plain": "⎡V₁ ₁ + 5⎤\n⎢        ⎥\n⎢  5/6   ⎥\n⎢        ⎥\n⎢   10   ⎥\n⎢        ⎥\n⎢   0    ⎥\n⎢        ⎥\n⎢5 - V₂ ₂⎥\n⎢        ⎥\n⎣  -5/6  ⎦",
      "text/latex": "\\begin{equation*}\\left[\\begin{matrix}V_{1 1} + 5\\\\\\frac{5}{6}\\\\10\\\\0\\\\5 - V_{2 2}\\\\- \\frac{5}{6}\\end{matrix}\\right]\\end{equation*}"
     },
     "metadata": {}
    }
   ],
   "source": [
    "f = K_G*u\n",
    "display(f,f_G)"
   ]
  },
  {
   "cell_type": "markdown",
   "metadata": {},
   "source": [
    "Temos, portanto,\n",
    "\n",
    "\\begin{equation*}\n",
    "    \\left\\{\\begin{matrix}\n",
    "        V_{1}^{1} + 5 & = & -5 \\\\\n",
    "        5 - V_{2}^{2} & = & -5\n",
    "    \\end{matrix}\\right.\n",
    "\\end{equation*}\n",
    "\n",
    "Logo,\n",
    "\n",
    "\\begin{equation*}\n",
    "    \\left\\{\\begin{matrix}\n",
    "        V_{1}^{1} & = & -10 \\\\\n",
    "        V_{2}^{2} & = & 10 \\\\\n",
    "    \\end{matrix}\\right.\n",
    "\\end{equation*}"
   ]
  },
  {
   "cell_type": "markdown",
   "metadata": {},
   "source": [
    "Temos, portanto, os seguintes valores de $\\vec{u}_{e}^{1}$ no Elemento 1:\n",
    "\n",
    "$$u_e^{1} =$$"
   ]
  },
  {
   "cell_type": "code",
   "execution_count": 26,
   "metadata": {},
   "outputs": [
    {
     "output_type": "display_data",
     "data": {
      "text/plain": "⎡        0         ⎤\n⎢                  ⎥\n⎢0.0333333333333333⎥\n⎢                  ⎥\n⎢0.0208333333333333⎥\n⎢                  ⎥\n⎣        0         ⎦",
      "text/latex": "\\begin{equation*}\\left[\\begin{matrix}0\\\\0.0333333333333333\\\\0.0208333333333333\\\\0\\end{matrix}\\right]\\end{equation*}"
     },
     "metadata": {}
    }
   ],
   "source": [
    "u_e_1 = u[0:4,0]\n",
    "display(u_e_1)"
   ]
  },
  {
   "cell_type": "markdown",
   "metadata": {},
   "source": [
    "Da mesma forma, temos como calcular o vetor de Forças Nodais $\\vec{f}_{e}^{1}$.\n",
    "\n",
    "$$\\vec{f}_{e}^{1} =$$"
   ]
  },
  {
   "cell_type": "code",
   "execution_count": 27,
   "metadata": {},
   "outputs": [
    {
     "output_type": "display_data",
     "data": {
      "text/plain": "⎡      -5.0       ⎤\n⎢                 ⎥\n⎢0.833333333333334⎥\n⎢                 ⎥\n⎢       5.0       ⎥\n⎢                 ⎥\n⎣-5.83333333333333⎦",
      "text/latex": "\\begin{equation*}\\left[\\begin{matrix}-5.0\\\\0.833333333333334\\\\5.0\\\\-5.83333333333333\\end{matrix}\\right]\\end{equation*}"
     },
     "metadata": {}
    },
    {
     "output_type": "display_data",
     "data": {
      "text/plain": "⎡ V₁ + 5 ⎤\n⎢        ⎥\n⎢5/6 - M₁⎥\n⎢        ⎥\n⎢ 5 - V₂ ⎥\n⎢        ⎥\n⎣M₂ - 5/6⎦",
      "text/latex": "\\begin{equation*}\\left[\\begin{matrix}V_{1} + 5\\\\\\frac{5}{6} - M_{1}\\\\5 - V_{2}\\\\M_{2} - \\frac{5}{6}\\end{matrix}\\right]\\end{equation*}"
     },
     "metadata": {}
    }
   ],
   "source": [
    "f_e_1 = K_1*u_e_1\n",
    "display(f_e_1,f_e.subs(L,1).subs(P,10))"
   ]
  },
  {
   "cell_type": "markdown",
   "metadata": {},
   "source": [
    "De onde resulta:\n",
    "\n",
    "\\begin{equation*}\n",
    "    \\left\\{\\begin{matrix}\n",
    "        V_{1}^{1} & = & -10~kN \\\\\n",
    "        M_{1}^{1} & = & 0 \\\\\n",
    "        V_{2}^{1} & = & 0 \\\\\n",
    "        M_{2}^{1} & = & -5~kN\\cdot m\n",
    "    \\end{matrix}\\right.\n",
    "\\end{equation*}"
   ]
  },
  {
   "cell_type": "markdown",
   "metadata": {},
   "source": [
    "Seguindo o mesmo raciocínio, podemos calcular o vetor de Forças Nodais do Elemento 2, $\\vec{f}_{e}^{2}$.\n",
    "\n",
    "$$\\vec{f}_{e}^{2} =$$"
   ]
  },
  {
   "cell_type": "code",
   "execution_count": 28,
   "metadata": {},
   "outputs": [
    {
     "output_type": "display_data",
     "data": {
      "text/plain": "⎡       5.0        ⎤\n⎢                  ⎥\n⎢ 5.83333333333333 ⎥\n⎢                  ⎥\n⎢       -5.0       ⎥\n⎢                  ⎥\n⎣-0.833333333333334⎦",
      "text/latex": "\\begin{equation*}\\left[\\begin{matrix}5.0\\\\5.83333333333333\\\\-5.0\\\\-0.833333333333334\\end{matrix}\\right]\\end{equation*}"
     },
     "metadata": {}
    },
    {
     "output_type": "display_data",
     "data": {
      "text/plain": "⎡ V₁ + 5 ⎤\n⎢        ⎥\n⎢5/6 - M₁⎥\n⎢        ⎥\n⎢ 5 - V₂ ⎥\n⎢        ⎥\n⎣M₂ - 5/6⎦",
      "text/latex": "\\begin{equation*}\\left[\\begin{matrix}V_{1} + 5\\\\\\frac{5}{6} - M_{1}\\\\5 - V_{2}\\\\M_{2} - \\frac{5}{6}\\end{matrix}\\right]\\end{equation*}"
     },
     "metadata": {}
    }
   ],
   "source": [
    "u_e_2 = u[2:6,0]\n",
    "f_e_2 = K_2*u_e_2\n",
    "display(f_e_2,f_e.subs(L,1).subs(P,10))"
   ]
  },
  {
   "cell_type": "markdown",
   "metadata": {},
   "source": [
    "De onde resulta:\n",
    "\n",
    "\\begin{equation*}\n",
    "    \\left\\{\\begin{matrix}\n",
    "        V_{1}^{2} & = & 0 \\\\\n",
    "        M_{1}^{2} & = & -5~kN\\cdot m \\\\\n",
    "        V_{2}^{2} & = & 10~kN \\\\\n",
    "        M_{2}^{2} & = & 0\n",
    "    \\end{matrix}\\right.\n",
    "\\end{equation*}"
   ]
  },
  {
   "cell_type": "markdown",
   "metadata": {},
   "source": [
    "# Caso Geral"
   ]
  },
  {
   "cell_type": "markdown",
   "metadata": {},
   "source": [
    "# Solução Por Código"
   ]
  },
  {
   "cell_type": "markdown",
   "metadata": {},
   "source": [
    "A seguir, vamos elaborar um código em Python para solucionar uma viga a partir de um arquivo de entrada no formato JSON cotendo as informações da estrutura.\n",
    "\n",
    "vamos começar definindo uma classe para conter os nós da estrutura."
   ]
  },
  {
   "cell_type": "markdown",
   "metadata": {},
   "source": [
    "## Classe \"Nó\""
   ]
  },
  {
   "cell_type": "markdown",
   "metadata": {},
   "source": [
    "A classe que conterá os nós é genérica e tem capacedade de armazenar informações sobre um sistema tridimensional, contemplando, assim, a localização espacial do nó em coordenadas $(x,y,z)$, bem como informações sobre as restrições (de translação e rotação) impostas por apoios, bem como as cargas pontuais aplicadas sobre este, sendo forças ou momentos.\n",
    "\n",
    "Embora esta classe seja de carater genérico, apenas os campos aplicáveis ao caso da viga unidimensional serão efetivamente utilizados."
   ]
  },
  {
   "cell_type": "code",
   "execution_count": 29,
   "metadata": {},
   "outputs": [],
   "source": [
    "# Class to store and update nodes and nodes data as locate, if have constrains and loads, as well calculated reactions and deslocs\n",
    "class node:\n",
    "    def __init__(self,i,P=np.array([0,0,0]),S=[False,False,False,False,False,False],L=np.array([0,0,0,0,0,0]),tag=''):\n",
    "            self.index = i                          # node index reference\n",
    "            self.locate = P                         # (x,y,z)\n",
    "            self.support = S                        # (Rx,Ry,Rz,Rmx,Rmy,Rmz) bool if exists\n",
    "            self.load = L                           # (Fx,Fy,Fz,Mx,My,Mz)\n",
    "            self.tag = tag                          # String name\n",
    "            self.reaction = np.array([0,0,0,0,0,0]) # (Rx,Ry,Rz,Rmx,Rmy,Rmz) to calculate\n",
    "            self.u = np.array([0,0,0,0,0,0])        # (dx,dy,dz,theta_x,theta_y,theta_z) to calculate\n",
    "    \n",
    "    def Reaction(self,R=np.array([0,0,0,0,0,0])):\n",
    "        self.reaction = R                           # Calculated values\n",
    "\n",
    "    def Desloc(self,u=np.array([0,0,0,0,0,0])):\n",
    "        self.u = L                               # Calculated values"
   ]
  },
  {
   "cell_type": "markdown",
   "metadata": {},
   "source": [
    "## Classe \"Viga\""
   ]
  },
  {
   "cell_type": "markdown",
   "metadata": {},
   "source": [
    "Da mesma forma, precisamos de uma classe para operar com as barras que conectam os nós, assim como as propriedades de carga e deformação.\n",
    "\n",
    "A classe abaixo lida com barras como elementos finitos locais. As barras reais serão criadas como um elemento único e subdivididas em elementos com nós intermediários.\n",
    "\n",
    "Por simplificação, serão consideradas vigas unidimensionais ao longo do eixo $x$, com esforços cortantes na direção $y$ e momento fletor em $z$. A classe Viga é, na prática, uma sucessão de pontos em $x$, onde cada segmento vai do ponto $x_{i}$ para o ponto $x_{i+1}$, sendo $y=0$ e $z=0$. Como estamos considerando os esforços cortantes e de momento fletor, os deslocamentos ocorrerão no eixo $y$.\n",
    "\n",
    "A implementação do código da classe \"Viga\" abaixo está configurada para uma viga tridimensional. com esforços diversos nas estremidades, bem como esforços distribuídos na forma $a+bx+cx^{2}$, mas a matriz de rigidez está configurada para esforços contantes, momento fletor e carga distribuída constante apenas ($a=P, b=0, c=0$). Assim, um segmento de viga é dividido em $n$ elementos finitos e retorna a matriz de rigidez e vetor de forças nodais para estes esforços apenas."
   ]
  },
  {
   "cell_type": "code",
   "execution_count": 113,
   "metadata": {},
   "outputs": [],
   "source": [
    "# Class to store and calculate bars or elements\n",
    "class element:\n",
    "    def __init__(self,i,first,last,E,G,S,I,J,P=np.array([0,0,0]),tag='',n=10):\n",
    "        self.index = i      # Index\n",
    "        self.n = n          # Grid size\n",
    "        self.tag = tag      # Element name\n",
    "        self.start = first  # Start node\n",
    "        self.end = last     # End node\n",
    "        self.grid = []      # Fake nodes from grid\n",
    "        self.E = E          # Elasticity constant\n",
    "        self.G = G          # Transversal Elasticity constant\n",
    "        self.A = S          # Stretch\n",
    "        self.I = I          # Inertia constant\n",
    "        self.J = J          # Polar inertia constant\n",
    "        self.load = P       # Loads with a+bx+cx**2 constants in array (a,b,c)\n",
    "        self.set_grid(n)\n",
    "\n",
    "    def set_grid(self,n):\n",
    "        self.n = n\n",
    "        self.grid = []\n",
    "        ds = (self.end.locate - self.start.locate)/n\n",
    "        for i in range(1,n):\n",
    "            loc = self.start.locate+ds*i\n",
    "            self.grid.append(node(0,P=loc))\n",
    "\n",
    "    \"\"\"\n",
    "    To K matrix, we are considerating the local variables below:\n",
    "        * u_0 -> dx_1\n",
    "        * u_1 -> dy_1\n",
    "        * u_2 -> dz_1\n",
    "        * u_3 -> theta_x_1 (yz)\n",
    "        * u_4 -> theta_y_1 (zx)\n",
    "        * u_5 -> theta_z_1 (xy)\n",
    "        * u_6 -> dx_2\n",
    "        * u_7 -> dy_2\n",
    "        * u_8 -> dz_2\n",
    "        * u_9 -> theta_x_2 (yz)\n",
    "        * u_10 -> theta_y_2 (zx)\n",
    "        * u_11 -> theta_z_2 (xy)\n",
    "    For two-dimensional plan just use u_0, u_1, u_3, u_6, u_7, u_11\n",
    "    \"\"\"\n",
    "\n",
    "    def K_2d(self):\n",
    "        A = self.A\n",
    "        E = self.E\n",
    "        G = self.G\n",
    "        I = self.I\n",
    "        J = self.J\n",
    "        L = np.linalg.norm(self.end.locate - self.start.locate) / self.n\n",
    "        K = np.zeros([2*(self.n+1),2*(self.n+1)])\n",
    "        for k in range(self.n):\n",
    "            K_l = (E*I/L) * np.array([\n",
    "                [12/L**2,   6/L,    -12/L**2,   6/L ],\n",
    "                [6/L,       4,      -6/L,       2   ],\n",
    "                [-12/L**2,  -6/L,   12/L**2,    -6/L],\n",
    "                [6/L,       2,      -6/L,       4   ]\n",
    "            ])\n",
    "            K[2*k:2*k+4,2*k:2*k+4] += K_l\n",
    "        return K\n",
    "\n",
    "    def f_2d(self):\n",
    "        P = self.load[0]\n",
    "        L = np.linalg.norm(self.end.locate - self.start.locate) / self.n\n",
    "        f = np.zeros(2*(self.n+1))\n",
    "        for k in range(self.n):\n",
    "            if k == 0:\n",
    "                V_1 = self.start.load[1]\n",
    "                M_1 = self.start.load[5]\n",
    "                V_2 = 0\n",
    "                M_2 = 0\n",
    "            elif k == self.n-1:\n",
    "                V_1 = 0\n",
    "                M_1 = 0\n",
    "                V_2 = 0\n",
    "                M_2 = 0\n",
    "            else:\n",
    "                V_1 = 0\n",
    "                M_1 = 0\n",
    "                V_2 = self.end.load[1]\n",
    "                M_2 = self.end.load[5]\n",
    "            f_l = np.array([\n",
    "                L*P/2 + V_1,\n",
    "                (L**2)*P/12 - M_1,\n",
    "                L*P/2 - V_2,\n",
    "                -(L**2)*P/12 + M_2\n",
    "            ])\n",
    "            f[2*k:2*k+4] += f_l\n",
    "        if self.start.support[1]:\n",
    "            f[0] = np.NaN\n",
    "        if self.start.support[5]:\n",
    "            f[1] = np.NaN\n",
    "        if self.end.support[1]:\n",
    "            f[-2] = np.NaN\n",
    "        if self.end.support[5]:\n",
    "            f[-1] = np.NaN\n",
    "        return f"
   ]
  },
  {
   "cell_type": "markdown",
   "metadata": {},
   "source": [
    "## Entrada de Arquivo JSON"
   ]
  },
  {
   "cell_type": "markdown",
   "metadata": {},
   "source": [
    "Entre as funções auxiliares, também utilizaremos uma função para ler um arquivo JSON e armazenar em uma variável na forma de dicionário Python. Alternativamente, esta função poderia estar contida na própria classe da estrutura que será criada mais adiante, de forma que o caminho seria passado como parâmetro, entretanto, a criação separada permite visualizar o conteúdo do arquivo fora da classe."
   ]
  },
  {
   "cell_type": "code",
   "execution_count": 114,
   "metadata": {},
   "outputs": [],
   "source": [
    "def readjson(path):\n",
    "    file = None\n",
    "    try:\n",
    "        with open(path,'r') as f:\n",
    "            file = json.load(f)\n",
    "    except IOError as err:\n",
    "        print('File Error: ' + str(err))\n",
    "    except JSONDecodeError as err:\n",
    "        print('JSON Error: ' + str(err))\n",
    "    finally:\n",
    "        return file"
   ]
  },
  {
   "cell_type": "markdown",
   "metadata": {},
   "source": [
    "## Classe \"Estrutura\""
   ]
  },
  {
   "cell_type": "markdown",
   "metadata": {},
   "source": [
    "Por fim, utilizaremos uma classe para processar toda a estrutura. Esta classe conterá listas com todos os nós e barras da estrutura, bem como os métodos necessários para calcular os deslocamentos dos nós, esforços e deformações nas barras.\n",
    "\n",
    "A chamada para a criação de um objeto de estrutura será pelo fornecimento de um dicionário lido através de um arquivo JSON contendo todos os dados da estrutura, como os nós, apoios, constantes, ligações entre os nós e carregamentos.\n",
    "\n",
    "Conforme descrito na classe \"Viga\", a estrutura será uma sucessão de segmentos de viga, formando uma única viga, com nós nas extremidades e nos pontos de aplicação de carga, ou de início e fim de carga distribuída constante. Portanto, apesar de ler e plotar quaisquer estruturas, bidimensionais ou tridimensionais, apenas será capaz de resolver, pelo métodos dos deslocamentos, estruturas reticuladas contínuas horizontais com cargas verticais e momentos em $z$."
   ]
  },
  {
   "cell_type": "code",
   "execution_count": 151,
   "metadata": {},
   "outputs": [],
   "source": [
    "# Structure data class\n",
    "class Structure:\n",
    "    def __init__(self,data,grid=10):\n",
    "        self.tag = data[\"tag\"]\n",
    "        self.n = data[\"n\"]\n",
    "        self.dimension = data[\"dim\"]\n",
    "        self.grid = grid\n",
    "        self._solved = False\n",
    "        self.nodes = []\n",
    "        self.bars = []\n",
    "        for name, value in data['nodes'].items():\n",
    "            P = np.array([value[\"x\"],value[\"y\"],value[\"z\"]])\n",
    "            S=[False,False,False,False,False,False]\n",
    "            L=np.array([value[\"Fx\"],value[\"Fy\"],value[\"Fz\"],value[\"Mx\"],value[\"My\"],value[\"Mz\"]])\n",
    "            if value[\"Tx\"]:\n",
    "                S[0] = True\n",
    "            if value[\"Ty\"]:\n",
    "                S[1] = True\n",
    "            if value[\"Tz\"]:\n",
    "                S[2] = True\n",
    "            if value[\"Rx\"]:\n",
    "                S[3] = True\n",
    "            if value[\"Ry\"]:\n",
    "                S[4] = True\n",
    "            if value[\"Rz\"]:\n",
    "                S[5] = True\n",
    "            newnode = node(value[\"id\"],P,S,L,name)\n",
    "            self.nodes.append(newnode)\n",
    "        for name, value in data['bars'].items():\n",
    "            E = value[\"E\"]\n",
    "            G = value[\"G\"]\n",
    "            S = value[\"S\"]\n",
    "            I = value[\"I\"]\n",
    "            J = value[\"J\"]\n",
    "            P = np.array([value[\"P\"],value[\"Px\"],value[\"Px2\"]])\n",
    "            newbar = element(value[\"id\"],self.nodes[value[\"from\"]],self.nodes[value[\"to\"]],E,G,S,I,J,P,name,self.grid)\n",
    "            self.bars.append(newbar)\n",
    "\n",
    "    def show(self):\n",
    "        out = go.Figure()\n",
    "        for bar in self.bars:\n",
    "            local = dict({\"x\":[],\"y\":[],\"z\":[],\"tag\":[]})\n",
    "            local[\"x\"].append(bar.start.locate[0])\n",
    "            local[\"y\"].append(bar.start.locate[1])\n",
    "            local[\"z\"].append(bar.start.locate[2])\n",
    "            local[\"tag\"].append(bar.tag)\n",
    "            for nd in bar.grid:\n",
    "                local[\"x\"].append(nd.locate[0])\n",
    "                local[\"y\"].append(nd.locate[1])\n",
    "                local[\"z\"].append(nd.locate[2])\n",
    "                local[\"tag\"].append(bar.tag)\n",
    "            local[\"x\"].append(bar.end.locate[0])\n",
    "            local[\"y\"].append(bar.end.locate[1])\n",
    "            local[\"z\"].append(bar.end.locate[2])\n",
    "            local[\"tag\"].append(bar.tag)\n",
    "            if self.dimension == 2:\n",
    "                out.add_scatter(x=local[\"x\"],y=local[\"y\"], marker=dict(size=5), line=dict(width=2), name=bar.tag)\n",
    "                out.update_layout(legend_title_text = \"Barras\")\n",
    "                out.update_xaxes(title_text=\"$x[m]$\")\n",
    "                out.update_yaxes(title_text=\"$y[m]$\")\n",
    "            else:\n",
    "                out.add_scatter3d(x=local[\"x\"],y=local[\"y\"],z=local[\"z\"], marker=dict(size=3), line=dict(width=2), name=bar.tag)\n",
    "                out.update_layout(legend_title_text = \"Barras\")\n",
    "        return out\n",
    "\n",
    "    def show_2d(self):\n",
    "        fig = bk.Figure()\n",
    "        dot_x = []\n",
    "        dot_y = []\n",
    "        u_x = []\n",
    "        u_y = []\n",
    "        for dot in self.nodes:\n",
    "            dot_x.append(dot.locate[0])\n",
    "            dot_y.append(dot.locate[1])\n",
    "        for bar in self.bars:\n",
    "            fig.line([bar.start.locate[0],bar.end.locate[0]], [bar.start.locate[1],bar.end.locate[1]])\n",
    "            u_x.append(bar.start.locate[0]+dot.u[0])\n",
    "            u_y.append(bar.start.locate[1]+dot.u[1])\n",
    "            for dot in bar.grid:\n",
    "                u_x.append(dot.locate[0]+dot.u[0])\n",
    "                u_y.append(dot.locate[1]+dot.u[1])\n",
    "            u_x.append(bar.end.locate[0]+dot.u[0])\n",
    "            u_y.append(bar.end.locate[1]+dot.u[1])\n",
    "        fig.circle(dot_x,dot_y, size=10, color=\"navy\", alpha=0.5)\n",
    "        fig.scatter(u_x,u_y, size=5, color=\"red\", alpha=0.5)\n",
    "        return fig\n",
    "\n",
    "    def K(self):\n",
    "        K = np.zeros([2*((self.n-1)*self.grid+1),2*((self.n-1)*self.grid+1)])\n",
    "        for bar in self.bars:\n",
    "            i = 2 * (bar.start.index * bar.n)\n",
    "            ld = 2 * (bar.n + 1)\n",
    "            K[2*i:2*i+ld, 2*i:2*i+ld] += bar.K_2d()\n",
    "        return K\n",
    "\n",
    "    def f(self):\n",
    "        f = np.zeros(2*((self.n-1)*self.grid+1))\n",
    "        for bar in self.bars:\n",
    "            i = 2 * (bar.start.index * bar.n)\n",
    "            f[i] += 1\n",
    "            ld = 2 * (bar.n + 1)\n",
    "            f[2*i:2*i+ld-2] += bar.f_2d()[0:-2]\n",
    "        f[-2] += self.bars[-1].f_2d()[-2]\n",
    "        f[-1] += self.bars[-1].f_2d()[-1]\n",
    "        return f"
   ]
  },
  {
   "cell_type": "markdown",
   "metadata": {},
   "source": [
    "# Exemplo de Arquivo JSON"
   ]
  },
  {
   "cell_type": "markdown",
   "metadata": {},
   "source": [
    "O exemplo abaixo contém o arquivo JSON da estrutura do Exemplo 1, resolvida analiticamente no tópico anterior. Este estrutura será resolvida novamente abaixo utilizando as classes e métodos apresentados."
   ]
  },
  {
   "cell_type": "code",
   "execution_count": 152,
   "metadata": {
    "scrolled": true,
    "tags": []
   },
   "outputs": [],
   "source": [
    "#print(json.dumps(readjson(\"exemplo1.json\"), indent=4, sort_keys=True))"
   ]
  },
  {
   "cell_type": "markdown",
   "metadata": {},
   "source": [
    "# Exemplo 1 - Uma Barra"
   ]
  },
  {
   "cell_type": "code",
   "execution_count": 153,
   "metadata": {
    "tags": []
   },
   "outputs": [
    {
     "output_type": "display_data",
     "data": {
      "text/html": "\n\n\n\n\n\n  <div class=\"bk-root\" id=\"84eb2a1b-590a-4c95-9be3-ff8a79ae8b0a\" data-root-id=\"19038\"></div>\n"
     },
     "metadata": {}
    },
    {
     "output_type": "display_data",
     "data": {
      "application/javascript": "(function(root) {\n  function embed_document(root) {\n    \n  var docs_json = {\"ae696cf0-a834-40b0-ade5-89a44fab88a7\":{\"roots\":{\"references\":[{\"attributes\":{\"below\":[{\"id\":\"19047\"}],\"center\":[{\"id\":\"19050\"},{\"id\":\"19054\"}],\"left\":[{\"id\":\"19051\"}],\"renderers\":[{\"id\":\"19072\"},{\"id\":\"19077\"},{\"id\":\"19082\"}],\"title\":{\"id\":\"19684\"},\"toolbar\":{\"id\":\"19062\"},\"x_range\":{\"id\":\"19039\"},\"x_scale\":{\"id\":\"19043\"},\"y_range\":{\"id\":\"19041\"},\"y_scale\":{\"id\":\"19045\"}},\"id\":\"19038\",\"subtype\":\"Figure\",\"type\":\"Plot\"},{\"attributes\":{\"overlay\":{\"id\":\"19061\"}},\"id\":\"19057\",\"type\":\"BoxZoomTool\"},{\"attributes\":{},\"id\":\"19045\",\"type\":\"LinearScale\"},{\"attributes\":{\"data\":{\"x\":[0.0,2.0],\"y\":[0.0,0.0]},\"selected\":{\"id\":\"19693\"},\"selection_policy\":{\"id\":\"19692\"}},\"id\":\"19074\",\"type\":\"ColumnDataSource\"},{\"attributes\":{\"line_alpha\":0.1,\"line_color\":\"#1f77b4\",\"x\":{\"field\":\"x\"},\"y\":{\"field\":\"y\"}},\"id\":\"19071\",\"type\":\"Line\"},{\"attributes\":{},\"id\":\"19058\",\"type\":\"SaveTool\"},{\"attributes\":{},\"id\":\"19692\",\"type\":\"UnionRenderers\"},{\"attributes\":{\"formatter\":{\"id\":\"19689\"},\"ticker\":{\"id\":\"19048\"}},\"id\":\"19047\",\"type\":\"LinearAxis\"},{\"attributes\":{},\"id\":\"19041\",\"type\":\"DataRange1d\"},{\"attributes\":{},\"id\":\"19052\",\"type\":\"BasicTicker\"},{\"attributes\":{\"fill_alpha\":{\"value\":0.5},\"fill_color\":{\"value\":\"navy\"},\"line_alpha\":{\"value\":0.5},\"line_color\":{\"value\":\"navy\"},\"size\":{\"units\":\"screen\",\"value\":10},\"x\":{\"field\":\"x\"},\"y\":{\"field\":\"y\"}},\"id\":\"19075\",\"type\":\"Circle\"},{\"attributes\":{},\"id\":\"19055\",\"type\":\"PanTool\"},{\"attributes\":{},\"id\":\"19695\",\"type\":\"Selection\"},{\"attributes\":{},\"id\":\"19693\",\"type\":\"Selection\"},{\"attributes\":{\"data\":{\"x\":[0.0,0.2,0.4,0.6000000000000001,0.8,1.0,1.2000000000000002,1.4000000000000001,1.6,1.8,2.0],\"y\":[0.0,0.0,0.0,0.0,0.0,0.0,0.0,0.0,0.0,0.0,0.0]},\"selected\":{\"id\":\"19695\"},\"selection_policy\":{\"id\":\"19694\"}},\"id\":\"19079\",\"type\":\"ColumnDataSource\"},{\"attributes\":{},\"id\":\"19043\",\"type\":\"LinearScale\"},{\"attributes\":{\"active_drag\":\"auto\",\"active_inspect\":\"auto\",\"active_multi\":null,\"active_scroll\":\"auto\",\"active_tap\":\"auto\",\"tools\":[{\"id\":\"19055\"},{\"id\":\"19056\"},{\"id\":\"19057\"},{\"id\":\"19058\"},{\"id\":\"19059\"},{\"id\":\"19060\"}]},\"id\":\"19062\",\"type\":\"Toolbar\"},{\"attributes\":{\"text\":\"\"},\"id\":\"19684\",\"type\":\"Title\"},{\"attributes\":{\"axis\":{\"id\":\"19047\"},\"ticker\":null},\"id\":\"19050\",\"type\":\"Grid\"},{\"attributes\":{},\"id\":\"19687\",\"type\":\"BasicTickFormatter\"},{\"attributes\":{},\"id\":\"19060\",\"type\":\"HelpTool\"},{\"attributes\":{},\"id\":\"19691\",\"type\":\"Selection\"},{\"attributes\":{\"axis\":{\"id\":\"19051\"},\"dimension\":1,\"ticker\":null},\"id\":\"19054\",\"type\":\"Grid\"},{\"attributes\":{},\"id\":\"19694\",\"type\":\"UnionRenderers\"},{\"attributes\":{\"fill_alpha\":{\"value\":0.1},\"fill_color\":{\"value\":\"red\"},\"line_alpha\":{\"value\":0.1},\"line_color\":{\"value\":\"red\"},\"size\":{\"units\":\"screen\",\"value\":5},\"x\":{\"field\":\"x\"},\"y\":{\"field\":\"y\"}},\"id\":\"19081\",\"type\":\"Scatter\"},{\"attributes\":{},\"id\":\"19039\",\"type\":\"DataRange1d\"},{\"attributes\":{},\"id\":\"19048\",\"type\":\"BasicTicker\"},{\"attributes\":{\"data_source\":{\"id\":\"19069\"},\"glyph\":{\"id\":\"19070\"},\"hover_glyph\":null,\"muted_glyph\":null,\"nonselection_glyph\":{\"id\":\"19071\"},\"selection_glyph\":null,\"view\":{\"id\":\"19073\"}},\"id\":\"19072\",\"type\":\"GlyphRenderer\"},{\"attributes\":{\"source\":{\"id\":\"19069\"}},\"id\":\"19073\",\"type\":\"CDSView\"},{\"attributes\":{\"data_source\":{\"id\":\"19074\"},\"glyph\":{\"id\":\"19075\"},\"hover_glyph\":null,\"muted_glyph\":null,\"nonselection_glyph\":{\"id\":\"19076\"},\"selection_glyph\":null,\"view\":{\"id\":\"19078\"}},\"id\":\"19077\",\"type\":\"GlyphRenderer\"},{\"attributes\":{\"data\":{\"x\":[0.0,2.0],\"y\":[0.0,0.0]},\"selected\":{\"id\":\"19691\"},\"selection_policy\":{\"id\":\"19690\"}},\"id\":\"19069\",\"type\":\"ColumnDataSource\"},{\"attributes\":{},\"id\":\"19059\",\"type\":\"ResetTool\"},{\"attributes\":{\"source\":{\"id\":\"19074\"}},\"id\":\"19078\",\"type\":\"CDSView\"},{\"attributes\":{\"source\":{\"id\":\"19079\"}},\"id\":\"19083\",\"type\":\"CDSView\"},{\"attributes\":{\"bottom_units\":\"screen\",\"fill_alpha\":0.5,\"fill_color\":\"lightgrey\",\"left_units\":\"screen\",\"level\":\"overlay\",\"line_alpha\":1.0,\"line_color\":\"black\",\"line_dash\":[4,4],\"line_width\":2,\"right_units\":\"screen\",\"top_units\":\"screen\"},\"id\":\"19061\",\"type\":\"BoxAnnotation\"},{\"attributes\":{\"line_color\":\"#1f77b4\",\"x\":{\"field\":\"x\"},\"y\":{\"field\":\"y\"}},\"id\":\"19070\",\"type\":\"Line\"},{\"attributes\":{\"fill_alpha\":{\"value\":0.1},\"fill_color\":{\"value\":\"navy\"},\"line_alpha\":{\"value\":0.1},\"line_color\":{\"value\":\"navy\"},\"size\":{\"units\":\"screen\",\"value\":10},\"x\":{\"field\":\"x\"},\"y\":{\"field\":\"y\"}},\"id\":\"19076\",\"type\":\"Circle\"},{\"attributes\":{\"formatter\":{\"id\":\"19687\"},\"ticker\":{\"id\":\"19052\"}},\"id\":\"19051\",\"type\":\"LinearAxis\"},{\"attributes\":{},\"id\":\"19690\",\"type\":\"UnionRenderers\"},{\"attributes\":{\"data_source\":{\"id\":\"19079\"},\"glyph\":{\"id\":\"19080\"},\"hover_glyph\":null,\"muted_glyph\":null,\"nonselection_glyph\":{\"id\":\"19081\"},\"selection_glyph\":null,\"view\":{\"id\":\"19083\"}},\"id\":\"19082\",\"type\":\"GlyphRenderer\"},{\"attributes\":{},\"id\":\"19689\",\"type\":\"BasicTickFormatter\"},{\"attributes\":{\"fill_alpha\":{\"value\":0.5},\"fill_color\":{\"value\":\"red\"},\"line_alpha\":{\"value\":0.5},\"line_color\":{\"value\":\"red\"},\"size\":{\"units\":\"screen\",\"value\":5},\"x\":{\"field\":\"x\"},\"y\":{\"field\":\"y\"}},\"id\":\"19080\",\"type\":\"Scatter\"},{\"attributes\":{},\"id\":\"19056\",\"type\":\"WheelZoomTool\"}],\"root_ids\":[\"19038\"]},\"title\":\"Bokeh Application\",\"version\":\"2.1.1\"}};\n  var render_items = [{\"docid\":\"ae696cf0-a834-40b0-ade5-89a44fab88a7\",\"root_ids\":[\"19038\"],\"roots\":{\"19038\":\"84eb2a1b-590a-4c95-9be3-ff8a79ae8b0a\"}}];\n  root.Bokeh.embed.embed_items_notebook(docs_json, render_items);\n\n  }\n  if (root.Bokeh !== undefined) {\n    embed_document(root);\n  } else {\n    var attempts = 0;\n    var timer = setInterval(function(root) {\n      if (root.Bokeh !== undefined) {\n        clearInterval(timer);\n        embed_document(root);\n      } else {\n        attempts++;\n        if (attempts > 100) {\n          clearInterval(timer);\n          console.log(\"Bokeh: ERROR: Unable to run BokehJS code because BokehJS library is missing\");\n        }\n      }\n    }, 10, root)\n  }\n})(window);",
      "application/vnd.bokehjs_exec.v0+json": ""
     },
     "metadata": {
      "application/vnd.bokehjs_exec.v0+json": {
       "id": "19038"
      }
     }
    }
   ],
   "source": [
    "exemplo1 = Structure(readjson(\"exemplo1.json\"))\n",
    "#figura1 = exemplo1.show()\n",
    "#iplot(figura1)\n",
    "figura1 = exemplo1.show_2d()\n",
    "bk.show(figura1)\n",
    "#Image(\"exemplo1.png\")"
   ]
  },
  {
   "cell_type": "markdown",
   "metadata": {},
   "source": [
    "# Exemplo 2 - Três Barras"
   ]
  },
  {
   "cell_type": "code",
   "execution_count": 154,
   "metadata": {},
   "outputs": [
    {
     "output_type": "display_data",
     "data": {
      "text/html": "\n\n\n\n\n\n  <div class=\"bk-root\" id=\"2a672747-ef29-49a4-ba52-b8ca91ad0321\" data-root-id=\"19775\"></div>\n"
     },
     "metadata": {}
    },
    {
     "output_type": "display_data",
     "data": {
      "application/javascript": "(function(root) {\n  function embed_document(root) {\n    \n  var docs_json = {\"c3331975-8f9f-4d16-b501-11e2380a9bce\":{\"roots\":{\"references\":[{\"attributes\":{\"below\":[{\"id\":\"19784\"}],\"center\":[{\"id\":\"19787\"},{\"id\":\"19791\"}],\"left\":[{\"id\":\"19788\"}],\"renderers\":[{\"id\":\"19809\"},{\"id\":\"19814\"},{\"id\":\"19819\"},{\"id\":\"19824\"},{\"id\":\"19829\"}],\"title\":{\"id\":\"20444\"},\"toolbar\":{\"id\":\"19799\"},\"x_range\":{\"id\":\"19776\"},\"x_scale\":{\"id\":\"19780\"},\"y_range\":{\"id\":\"19778\"},\"y_scale\":{\"id\":\"19782\"}},\"id\":\"19775\",\"subtype\":\"Figure\",\"type\":\"Plot\"},{\"attributes\":{\"source\":{\"id\":\"19816\"}},\"id\":\"19820\",\"type\":\"CDSView\"},{\"attributes\":{},\"id\":\"19797\",\"type\":\"HelpTool\"},{\"attributes\":{},\"id\":\"19796\",\"type\":\"ResetTool\"},{\"attributes\":{},\"id\":\"19780\",\"type\":\"LinearScale\"},{\"attributes\":{\"data_source\":{\"id\":\"19826\"},\"glyph\":{\"id\":\"19827\"},\"hover_glyph\":null,\"muted_glyph\":null,\"nonselection_glyph\":{\"id\":\"19828\"},\"selection_glyph\":null,\"view\":{\"id\":\"19830\"}},\"id\":\"19829\",\"type\":\"GlyphRenderer\"},{\"attributes\":{\"fill_alpha\":{\"value\":0.1},\"fill_color\":{\"value\":\"navy\"},\"line_alpha\":{\"value\":0.1},\"line_color\":{\"value\":\"navy\"},\"size\":{\"units\":\"screen\",\"value\":10},\"x\":{\"field\":\"x\"},\"y\":{\"field\":\"y\"}},\"id\":\"19823\",\"type\":\"Circle\"},{\"attributes\":{\"fill_alpha\":{\"value\":0.1},\"fill_color\":{\"value\":\"red\"},\"line_alpha\":{\"value\":0.1},\"line_color\":{\"value\":\"red\"},\"size\":{\"units\":\"screen\",\"value\":5},\"x\":{\"field\":\"x\"},\"y\":{\"field\":\"y\"}},\"id\":\"19828\",\"type\":\"Scatter\"},{\"attributes\":{\"data\":{\"x\":[0.0,1.0,2.0,3.0],\"y\":[0.0,0.0,0.0,0.0]},\"selected\":{\"id\":\"20457\"},\"selection_policy\":{\"id\":\"20456\"}},\"id\":\"19821\",\"type\":\"ColumnDataSource\"},{\"attributes\":{},\"id\":\"19785\",\"type\":\"BasicTicker\"},{\"attributes\":{\"axis\":{\"id\":\"19788\"},\"dimension\":1,\"ticker\":null},\"id\":\"19791\",\"type\":\"Grid\"},{\"attributes\":{\"formatter\":{\"id\":\"20449\"},\"ticker\":{\"id\":\"19785\"}},\"id\":\"19784\",\"type\":\"LinearAxis\"},{\"attributes\":{\"source\":{\"id\":\"19826\"}},\"id\":\"19830\",\"type\":\"CDSView\"},{\"attributes\":{},\"id\":\"20451\",\"type\":\"Selection\"},{\"attributes\":{\"active_drag\":\"auto\",\"active_inspect\":\"auto\",\"active_multi\":null,\"active_scroll\":\"auto\",\"active_tap\":\"auto\",\"tools\":[{\"id\":\"19792\"},{\"id\":\"19793\"},{\"id\":\"19794\"},{\"id\":\"19795\"},{\"id\":\"19796\"},{\"id\":\"19797\"}]},\"id\":\"19799\",\"type\":\"Toolbar\"},{\"attributes\":{\"data_source\":{\"id\":\"19806\"},\"glyph\":{\"id\":\"19807\"},\"hover_glyph\":null,\"muted_glyph\":null,\"nonselection_glyph\":{\"id\":\"19808\"},\"selection_glyph\":null,\"view\":{\"id\":\"19810\"}},\"id\":\"19809\",\"type\":\"GlyphRenderer\"},{\"attributes\":{\"line_alpha\":0.1,\"line_color\":\"#1f77b4\",\"x\":{\"field\":\"x\"},\"y\":{\"field\":\"y\"}},\"id\":\"19808\",\"type\":\"Line\"},{\"attributes\":{\"fill_alpha\":{\"value\":0.5},\"fill_color\":{\"value\":\"navy\"},\"line_alpha\":{\"value\":0.5},\"line_color\":{\"value\":\"navy\"},\"size\":{\"units\":\"screen\",\"value\":10},\"x\":{\"field\":\"x\"},\"y\":{\"field\":\"y\"}},\"id\":\"19822\",\"type\":\"Circle\"},{\"attributes\":{\"data\":{\"x\":[1.0,2.0],\"y\":[0.0,0.0]},\"selected\":{\"id\":\"20453\"},\"selection_policy\":{\"id\":\"20452\"}},\"id\":\"19811\",\"type\":\"ColumnDataSource\"},{\"attributes\":{},\"id\":\"20457\",\"type\":\"Selection\"},{\"attributes\":{\"overlay\":{\"id\":\"19798\"}},\"id\":\"19794\",\"type\":\"BoxZoomTool\"},{\"attributes\":{\"fill_alpha\":{\"value\":0.5},\"fill_color\":{\"value\":\"red\"},\"line_alpha\":{\"value\":0.5},\"line_color\":{\"value\":\"red\"},\"size\":{\"units\":\"screen\",\"value\":5},\"x\":{\"field\":\"x\"},\"y\":{\"field\":\"y\"}},\"id\":\"19827\",\"type\":\"Scatter\"},{\"attributes\":{},\"id\":\"19789\",\"type\":\"BasicTicker\"},{\"attributes\":{\"source\":{\"id\":\"19806\"}},\"id\":\"19810\",\"type\":\"CDSView\"},{\"attributes\":{\"text\":\"\"},\"id\":\"20444\",\"type\":\"Title\"},{\"attributes\":{\"data\":{\"x\":[2.0,3.0],\"y\":[0.0,0.0]},\"selected\":{\"id\":\"20455\"},\"selection_policy\":{\"id\":\"20454\"}},\"id\":\"19816\",\"type\":\"ColumnDataSource\"},{\"attributes\":{\"data_source\":{\"id\":\"19821\"},\"glyph\":{\"id\":\"19822\"},\"hover_glyph\":null,\"muted_glyph\":null,\"nonselection_glyph\":{\"id\":\"19823\"},\"selection_glyph\":null,\"view\":{\"id\":\"19825\"}},\"id\":\"19824\",\"type\":\"GlyphRenderer\"},{\"attributes\":{\"line_alpha\":0.1,\"line_color\":\"#1f77b4\",\"x\":{\"field\":\"x\"},\"y\":{\"field\":\"y\"}},\"id\":\"19813\",\"type\":\"Line\"},{\"attributes\":{},\"id\":\"20452\",\"type\":\"UnionRenderers\"},{\"attributes\":{},\"id\":\"20456\",\"type\":\"UnionRenderers\"},{\"attributes\":{\"source\":{\"id\":\"19811\"}},\"id\":\"19815\",\"type\":\"CDSView\"},{\"attributes\":{},\"id\":\"19778\",\"type\":\"DataRange1d\"},{\"attributes\":{\"line_alpha\":0.1,\"line_color\":\"#1f77b4\",\"x\":{\"field\":\"x\"},\"y\":{\"field\":\"y\"}},\"id\":\"19818\",\"type\":\"Line\"},{\"attributes\":{},\"id\":\"19795\",\"type\":\"SaveTool\"},{\"attributes\":{},\"id\":\"20447\",\"type\":\"BasicTickFormatter\"},{\"attributes\":{},\"id\":\"19776\",\"type\":\"DataRange1d\"},{\"attributes\":{},\"id\":\"19793\",\"type\":\"WheelZoomTool\"},{\"attributes\":{},\"id\":\"19782\",\"type\":\"LinearScale\"},{\"attributes\":{\"data_source\":{\"id\":\"19811\"},\"glyph\":{\"id\":\"19812\"},\"hover_glyph\":null,\"muted_glyph\":null,\"nonselection_glyph\":{\"id\":\"19813\"},\"selection_glyph\":null,\"view\":{\"id\":\"19815\"}},\"id\":\"19814\",\"type\":\"GlyphRenderer\"},{\"attributes\":{},\"id\":\"20454\",\"type\":\"UnionRenderers\"},{\"attributes\":{\"data\":{\"x\":[0.0,0.1,0.2,0.30000000000000004,0.4,0.5,0.6000000000000001,0.7000000000000001,0.8,0.9,1.0,1.0,1.1,1.2,1.3,1.4,1.5,1.6,1.7000000000000002,1.8,1.9,2.0,2.0,2.1,2.2,2.3,2.4,2.5,2.6,2.7,2.8,2.9,3.0],\"y\":[0.0,0.0,0.0,0.0,0.0,0.0,0.0,0.0,0.0,0.0,0.0,0.0,0.0,0.0,0.0,0.0,0.0,0.0,0.0,0.0,0.0,0.0,0.0,0.0,0.0,0.0,0.0,0.0,0.0,0.0,0.0,0.0,0.0]},\"selected\":{\"id\":\"20459\"},\"selection_policy\":{\"id\":\"20458\"}},\"id\":\"19826\",\"type\":\"ColumnDataSource\"},{\"attributes\":{\"line_color\":\"#1f77b4\",\"x\":{\"field\":\"x\"},\"y\":{\"field\":\"y\"}},\"id\":\"19817\",\"type\":\"Line\"},{\"attributes\":{},\"id\":\"20453\",\"type\":\"Selection\"},{\"attributes\":{},\"id\":\"20450\",\"type\":\"UnionRenderers\"},{\"attributes\":{},\"id\":\"20449\",\"type\":\"BasicTickFormatter\"},{\"attributes\":{\"line_color\":\"#1f77b4\",\"x\":{\"field\":\"x\"},\"y\":{\"field\":\"y\"}},\"id\":\"19807\",\"type\":\"Line\"},{\"attributes\":{\"data_source\":{\"id\":\"19816\"},\"glyph\":{\"id\":\"19817\"},\"hover_glyph\":null,\"muted_glyph\":null,\"nonselection_glyph\":{\"id\":\"19818\"},\"selection_glyph\":null,\"view\":{\"id\":\"19820\"}},\"id\":\"19819\",\"type\":\"GlyphRenderer\"},{\"attributes\":{\"axis\":{\"id\":\"19784\"},\"ticker\":null},\"id\":\"19787\",\"type\":\"Grid\"},{\"attributes\":{\"line_color\":\"#1f77b4\",\"x\":{\"field\":\"x\"},\"y\":{\"field\":\"y\"}},\"id\":\"19812\",\"type\":\"Line\"},{\"attributes\":{\"source\":{\"id\":\"19821\"}},\"id\":\"19825\",\"type\":\"CDSView\"},{\"attributes\":{},\"id\":\"20455\",\"type\":\"Selection\"},{\"attributes\":{},\"id\":\"20459\",\"type\":\"Selection\"},{\"attributes\":{},\"id\":\"19792\",\"type\":\"PanTool\"},{\"attributes\":{},\"id\":\"20458\",\"type\":\"UnionRenderers\"},{\"attributes\":{\"data\":{\"x\":[0.0,1.0],\"y\":[0.0,0.0]},\"selected\":{\"id\":\"20451\"},\"selection_policy\":{\"id\":\"20450\"}},\"id\":\"19806\",\"type\":\"ColumnDataSource\"},{\"attributes\":{\"formatter\":{\"id\":\"20447\"},\"ticker\":{\"id\":\"19789\"}},\"id\":\"19788\",\"type\":\"LinearAxis\"},{\"attributes\":{\"bottom_units\":\"screen\",\"fill_alpha\":0.5,\"fill_color\":\"lightgrey\",\"left_units\":\"screen\",\"level\":\"overlay\",\"line_alpha\":1.0,\"line_color\":\"black\",\"line_dash\":[4,4],\"line_width\":2,\"right_units\":\"screen\",\"top_units\":\"screen\"},\"id\":\"19798\",\"type\":\"BoxAnnotation\"}],\"root_ids\":[\"19775\"]},\"title\":\"Bokeh Application\",\"version\":\"2.1.1\"}};\n  var render_items = [{\"docid\":\"c3331975-8f9f-4d16-b501-11e2380a9bce\",\"root_ids\":[\"19775\"],\"roots\":{\"19775\":\"2a672747-ef29-49a4-ba52-b8ca91ad0321\"}}];\n  root.Bokeh.embed.embed_items_notebook(docs_json, render_items);\n\n  }\n  if (root.Bokeh !== undefined) {\n    embed_document(root);\n  } else {\n    var attempts = 0;\n    var timer = setInterval(function(root) {\n      if (root.Bokeh !== undefined) {\n        clearInterval(timer);\n        embed_document(root);\n      } else {\n        attempts++;\n        if (attempts > 100) {\n          clearInterval(timer);\n          console.log(\"Bokeh: ERROR: Unable to run BokehJS code because BokehJS library is missing\");\n        }\n      }\n    }, 10, root)\n  }\n})(window);",
      "application/vnd.bokehjs_exec.v0+json": ""
     },
     "metadata": {
      "application/vnd.bokehjs_exec.v0+json": {
       "id": "19775"
      }
     }
    }
   ],
   "source": [
    "exemplo2 = Structure(readjson(\"exemplo2.json\"))\n",
    "#figura2 = exemplo2.show()\n",
    "#iplot(figura2)\n",
    "figura2 = exemplo2.show_2d()\n",
    "bk.show(figura2)\n",
    "#Image(\"exemplo1.png\")"
   ]
  },
  {
   "cell_type": "code",
   "execution_count": 155,
   "metadata": {
    "tags": []
   },
   "outputs": [
    {
     "output_type": "execute_result",
     "data": {
      "text/plain": "array([nan,  0.,  0.,  0.,  1.,  0.,  1.,  0.,  1.,  0.,  1.,  0.,  1.,\n        0.,  1.,  0.,  1.,  0.,  1.,  0.,  2.,  0.,  0.,  0.,  0.,  0.,\n        0.,  0.,  0.,  0.,  0.,  0.,  0.,  0.,  0.,  0.,  0.,  0.,  0.,\n        0., -3.,  0.,  0.,  0.,  2.,  1.,  2.,  1.,  2.,  1.,  2.,  1.,\n        2.,  1.,  2.,  1.,  2.,  1.,  2.,  1., nan,  0.])"
     },
     "metadata": {},
     "execution_count": 155
    }
   ],
   "source": [
    "exemplo2.f()"
   ]
  }
 ],
 "metadata": {
  "kernelspec": {
   "display_name": "Python 3",
   "language": "python",
   "name": "python3"
  },
  "language_info": {
   "codemirror_mode": {
    "name": "ipython",
    "version": 3
   },
   "file_extension": ".py",
   "mimetype": "text/x-python",
   "name": "python",
   "nbconvert_exporter": "python",
   "pygments_lexer": "ipython3",
   "version": "3.8.2-final"
  }
 },
 "nbformat": 4,
 "nbformat_minor": 4
}