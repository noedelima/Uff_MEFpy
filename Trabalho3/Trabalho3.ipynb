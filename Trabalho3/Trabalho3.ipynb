{
 "cells": [
  {
   "cell_type": "markdown",
   "metadata": {},
   "source": [
    "# Método dos Elementos Finitos - Trabalho 3"
   ]
  },
  {
   "cell_type": "markdown",
   "metadata": {},
   "source": [
    "Universidade Federal Fluminense\n",
    "\n",
    "Disciplina ministrada pelo Prof. Marco Ferro\n",
    "\n",
    "<marcoferro@id.uff.br>\n",
    "\n",
    "Aluno Noé de Lima\n",
    "\n",
    "<noe_lima@id.uff.br>\n",
    "\n",
    "Este trabalho visa aplicar o MEF a uma estrutura de vigas.\n",
    "\n",
    "Primeiro semestre de 2020\n",
    "\n",
    "\\vfill"
   ]
  },
  {
   "cell_type": "markdown",
   "metadata": {},
   "source": [
    "A célula a seguir configura o Jupyter-Notebook para exibir as equações matemáticas no formato do ambiente $\\LaTeX$ e importa as bibliotecas necessárias."
   ]
  },
  {
   "cell_type": "code",
   "execution_count": 3,
   "metadata": {
    "tags": []
   },
   "outputs": [
    {
     "output_type": "stream",
     "name": "stdout",
     "text": "Linux DESKTOP-CR7O8A2 4.19.104-microsoft-standard #1 SMP Wed Feb 19 06:37:35 UTC 2020 x86_64 x86_64 x86_64 GNU/Linux\n"
    }
   ],
   "source": [
    "import numpy as np\n",
    "import sympy as sym\n",
    "import json\n",
    "sym.init_printing(use_latex='mathjax',latex_mode='equation*')\n",
    "!uname -a"
   ]
  },
  {
   "cell_type": "markdown",
   "metadata": {},
   "source": [
    "\\cleardoublepage\n",
    "\n",
    "\\tableofcontents\n",
    "\n",
    "\\cleardoublepage"
   ]
  },
  {
   "cell_type": "markdown",
   "metadata": {},
   "source": [
    "# Introdução"
   ]
  },
  {
   "cell_type": "markdown",
   "metadata": {},
   "source": [
    "Em uma estrutura de treliças, cada barra é um elemento, e o Método dos Elementos Finitos coincide com a Análise Matricial de Estruturas. Considerando que todos os esforços na treliça são normais, não há cargas transversais, o problema, visto do ponto de vista das barras, é unidimensional, pois, da mesma forma que os esforços, os deslocamentos também são na mesma direção das barras.\n",
    "\n",
    "No caso de vigas, havendo momento fletor (ou torçor), tanto direto como em consequência de esforço cortante, há deformação no sentido perpendicular à viga, bem como rotação pontual em decorrência da deformação. Assim, uma viga será discretizada na forma de uma malha compostas por pequenos segmentos.\n",
    "\n",
    "Em um Elemento de Viga, cujo eixo principal é o eixo $x$, temos:\n",
    "\n",
    "* $V_{1} \\rightarrow$ Força perpendicular no início do Elemento;\n",
    "* $V_{2} \\rightarrow$ Força perpendicular no final do Elemento;\n",
    "* $P \\rightarrow$ Carga perpendicular distribuída;\n",
    "* $M_{1} \\rightarrow$ Momento no início do Elemento;\n",
    "* $M_{2} \\rightarrow$ Momento no final do Elemento;\n",
    "* $L \\rightarrow$ Comprimento do Elemento.\n",
    "\n",
    "Bem como os deslocamentos:\n",
    "* $u_{1}=\\delta_{1}\\rightarrow$ deflexão $\\delta$ no início do Elemento;\n",
    "* $u_{2}=\\theta_{1}\\rightarrow$ inclinação $\\theta$ no início do Elemento;\n",
    "* $u_{3}=\\delta_{2}\\rightarrow$ deflexão $\\delta$ no final do Elemento;\n",
    "* $u_{4}=\\theta_{2}\\rightarrow$ inclinação $\\theta$ no final do Elemento.\n",
    "\n",
    "No caso de uma viga retangular de largura $b$ e altura $h$, temos o momento de inércia:\n",
    "\n",
    "\\begin{equation*}\n",
    "    I = \\frac{bh^{3}}{12}\n",
    "\\end{equation*}\n",
    "\n",
    "Assim, sendo o Módulo de Elasticidade $E$ constante, o produto $EI$ também será.\n",
    "\n",
    "Temos, portanto, a seguinte equação diferencial da viga:\n",
    "\n",
    "\\begin{equation*}\n",
    "    EI\\frac{d^{4}u}{dx^{4}} = P\n",
    "\\end{equation*}\n",
    "\n",
    "Tem-se que:\n",
    "\n",
    "\\begin{equation*}\n",
    "    V = EI\\frac{d^{3}u}{dx^{3}}\n",
    "\\end{equation*}\n",
    "\n",
    "E\n",
    "\n",
    "\\begin{equation*}\n",
    "    M = EI\\frac{d^{2}u}{dx^{2}}\n",
    "\\end{equation*}"
   ]
  },
  {
   "cell_type": "markdown",
   "metadata": {},
   "source": [
    "Aplicando a SRP - Sentença de Resíduos Ponderados - na EDO da viga, resulta:\n",
    "\n",
    "\\begin{equation*}\n",
    "    \\int_{\\Omega}{N_{i}R}d\\Omega = 0\n",
    "\\end{equation*}\n",
    "\n",
    "$$\\therefore$$\n",
    "\n",
    "\\begin{equation*}\n",
    "    \\int_{0}^{L}{N_{i}\\left(EI\\frac{d^{4}u}{dx^{4}}-P\\right)}dx = 0\n",
    "\\end{equation*}\n"
   ]
  },
  {
   "cell_type": "code",
   "execution_count": 45,
   "metadata": {
    "tags": []
   },
   "outputs": [
    {
     "output_type": "display_data",
     "data": {
      "text/plain": "L                             \n⌠                             \n⎮ ⎛      4          ⎞         \n⎮ ⎜     d           ⎟         \n⎮ ⎜E⋅I⋅───(u(x)) - P⎟⋅Nᵢ(x) dx\n⎮ ⎜      4          ⎟         \n⎮ ⎝    dx           ⎠         \n⌡                             \n0                             ",
      "text/latex": "\\begin{equation*}\\int\\limits_{0}^{L} \\left(E I \\frac{d^{4}}{d x^{4}} u{\\left(x \\right)} - P\\right) \\operatorname{N_{i}}{\\left(x \\right)}\\, dx\\end{equation*}"
     },
     "metadata": {}
    }
   ],
   "source": [
    "x = sym.symbols('x')\n",
    "P = sym.symbols('P')\n",
    "E,I,L = sym.symbols('E,I,L')\n",
    "u = sym.Function('u')\n",
    "N_i = sym.symbols('N_i',cls=sym.Function)\n",
    "R = E*I*sym.diff(u(x),x,4)-P\n",
    "SRP = sym.integrate(N_i(x)*R,(x,0,L))\n",
    "display(SRP.doit())"
   ]
  },
  {
   "cell_type": "markdown",
   "metadata": {},
   "source": [
    "Essa integral não pode ser resolvida pelos métodos sym.dsolve(sym.Eq(SRP,0),u(x)) ou SRP.doit(), pois o nível de complexidade ainda não foi implementado na biblioteca.\n",
    "\n",
    "Utilizando a integração por partes, obtém-se o seguinte:"
   ]
  },
  {
   "cell_type": "code",
   "execution_count": 47,
   "metadata": {},
   "outputs": [
    {
     "output_type": "display_data",
     "data": {
      "text/plain": "    L                       \n    ⌠                       \n    ⎮             3         \n    ⎮ d          d          \nE⋅I⋅⎮ ──(Nᵢ(x))⋅───(u(x)) dx\n    ⎮ dx          3         \n    ⎮           dx          \n    ⌡                       \n    0                       ",
      "text/latex": "\\begin{equation*}E I \\int\\limits_{0}^{L} \\frac{d}{d x} \\operatorname{N_{i}}{\\left(x \\right)} \\frac{d^{3}}{d x^{3}} u{\\left(x \\right)}\\, dx\\end{equation*}"
     },
     "metadata": {}
    }
   ],
   "source": [
    "eq = sym.integrate(E*I*(sym.diff(N_i(x),x)*sym.diff(u(x),x,3)),(x,0,L))\n",
    "display(eq.doit())"
   ]
  },
  {
   "cell_type": "code",
   "execution_count": 62,
   "metadata": {},
   "outputs": [
    {
     "output_type": "display_data",
     "data": {
      "text/plain": "            x\nN₁(x) = 1 - ─\n            L",
      "text/latex": "\\begin{equation*}\\operatorname{N_{1}}{\\left(x \\right)} = 1 - \\frac{x}{L}\\end{equation*}"
     },
     "metadata": {}
    },
    {
     "output_type": "display_data",
     "data": {
      "text/plain": "N₂(x) = C₁",
      "text/latex": "\\begin{equation*}\\operatorname{N_{2}}{\\left(x \\right)} = C_{1}\\end{equation*}"
     },
     "metadata": {}
    },
    {
     "output_type": "display_data",
     "data": {
      "text/plain": "        x\nN₃(x) = ─\n        L",
      "text/latex": "\\begin{equation*}\\operatorname{N_{3}}{\\left(x \\right)} = \\frac{x}{L}\\end{equation*}"
     },
     "metadata": {}
    },
    {
     "output_type": "display_data",
     "data": {
      "text/plain": "N₄(x) = C₁",
      "text/latex": "\\begin{equation*}\\operatorname{N_{4}}{\\left(x \\right)} = C_{1}\\end{equation*}"
     },
     "metadata": {}
    }
   ],
   "source": [
    "N_1,N_2,N_3,N_4 = sym.symbols('N_1,N_2,N_3,N_4',cls=sym.Function)\n",
    "#display(sym.dsolve(sym.Eq(sym.diff(N_1(x),x,2),0),ics={N_1(0):1,N_1(L):0}))\n",
    "#display(sym.dsolve(sym.Eq(sym.diff(N_2(x),x,2),0),ics={N_2(x).diff(x).subs(x, L):1,N_2(x).diff(x).subs(x, L):0}))\n",
    "#display(sym.dsolve(sym.Eq(sym.diff(N_3(x),x,2),0),ics={N_3(0):0,N_3(L):1}))\n",
    "#display(sym.dsolve(sym.Eq(sym.diff(N_4(x),x,2),0),ics={N_4(x).diff(x).subs(x, L):1,N_4(x).diff(x).subs(x, L):0}))"
   ]
  },
  {
   "cell_type": "code",
   "execution_count": 96,
   "metadata": {
    "tags": []
   },
   "outputs": [
    {
     "output_type": "display_data",
     "data": {
      "text/plain": "⎡ 12    6   -12    6 ⎤\n⎢ ──    ─   ────   ─ ⎥\n⎢  2    L     2    L ⎥\n⎢ L          L       ⎥\n⎢                    ⎥\n⎢ 6         -6       ⎥\n⎢ ─     4   ───    2 ⎥\n⎢ L          L       ⎥\n⎢                    ⎥\n⎢-12   -6    12   -6 ⎥\n⎢────  ───   ──   ───⎥\n⎢  2    L     2    L ⎥\n⎢ L          L       ⎥\n⎢                    ⎥\n⎢ 6         -6       ⎥\n⎢ ─     2   ───    4 ⎥\n⎣ L          L       ⎦",
      "text/latex": "\\begin{equation*}\\left[\\begin{matrix}\\frac{12}{L^{2}} & \\frac{6}{L} & - \\frac{12}{L^{2}} & \\frac{6}{L}\\\\\\frac{6}{L} & 4 & - \\frac{6}{L} & 2\\\\- \\frac{12}{L^{2}} & - \\frac{6}{L} & \\frac{12}{L^{2}} & - \\frac{6}{L}\\\\\\frac{6}{L} & 2 & - \\frac{6}{L} & 4\\end{matrix}\\right]\\end{equation*}"
     },
     "metadata": {}
    }
   ],
   "source": [
    "K_e = sym.Matrix([[0,0,0,0],[0,0,0,0],[0,0,0,0],[0,0,0,0]])\n",
    "\n",
    "K_e[0,0] = 12*E*I/L**3\n",
    "K_e[0,1] = 6*E*I/L**2\n",
    "K_e[0,2] = -12*E*I/L**3\n",
    "K_e[0,3] = 6*E*I/L**2\n",
    "\n",
    "K_e[1,0] = K_e[0,1]\n",
    "K_e[1,1] = 4*E*I/L\n",
    "K_e[1,2] = -6*E*I/L**2\n",
    "K_e[1,3] = 2*E*I/L\n",
    "\n",
    "K_e[2,0] = K_e[0,2]\n",
    "K_e[2,1] = K_e[1,2]\n",
    "K_e[2,2] = 12*E*I/L**3\n",
    "K_e[2,3] = -6*E*I/L**2\n",
    "\n",
    "K_e[3,0] = K_e[0,3]\n",
    "K_e[3,1] = K_e[1,3]\n",
    "K_e[3,2] = K_e[2,3]\n",
    "K_e[3,3] = 4*E*I/L\n",
    "\n",
    "display(K_e/(E*I/L))"
   ]
  },
  {
   "cell_type": "code",
   "execution_count": 89,
   "metadata": {},
   "outputs": [
    {
     "output_type": "display_data",
     "data": {
      "text/plain": "⎡ L⋅P       ⎤\n⎢ ─── + V₁  ⎥\n⎢  2        ⎥\n⎢           ⎥\n⎢  2        ⎥\n⎢ L ⋅P      ⎥\n⎢ ──── - M₁ ⎥\n⎢  12       ⎥\n⎢           ⎥\n⎢ L⋅P       ⎥\n⎢ ─── - V₂  ⎥\n⎢  2        ⎥\n⎢           ⎥\n⎢   2       ⎥\n⎢  L ⋅P     ⎥\n⎢- ──── + M₂⎥\n⎣   12      ⎦",
      "text/latex": "\\begin{equation*}\\left[\\begin{matrix}\\frac{L P}{2} + V_{1}\\\\\\frac{L^{2} P}{12} - M_{1}\\\\\\frac{L P}{2} - V_{2}\\\\- \\frac{L^{2} P}{12} + M_{2}\\end{matrix}\\right]\\end{equation*}"
     },
     "metadata": {}
    }
   ],
   "source": [
    "V_1,M_1,V_2,M_2 = sym.symbols('V_1,M_1,V_2,M_2')\n",
    "f_e = sym.Matrix([V_1,-M_1,-V_2,M_2])\n",
    "\n",
    "f_e[0] += P*L/2\n",
    "f_e[1] += P*L**2/12\n",
    "f_e[2] += P*L/2\n",
    "f_e[3] += -P*L**2/12\n",
    "\n",
    "display(f_e)"
   ]
  }
 ],
 "metadata": {
  "language_info": {
   "codemirror_mode": {
    "name": "ipython",
    "version": 3
   },
   "file_extension": ".py",
   "mimetype": "text/x-python",
   "name": "python",
   "nbconvert_exporter": "python",
   "pygments_lexer": "ipython3",
   "version": "3.8.2-final"
  },
  "orig_nbformat": 2,
  "kernelspec": {
   "name": "python3",
   "display_name": "Python 3"
  }
 },
 "nbformat": 4,
 "nbformat_minor": 2
}