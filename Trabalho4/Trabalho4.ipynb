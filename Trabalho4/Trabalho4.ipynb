{
 "metadata": {
  "language_info": {
   "codemirror_mode": {
    "name": "ipython",
    "version": 3
   },
   "file_extension": ".py",
   "mimetype": "text/x-python",
   "name": "python",
   "nbconvert_exporter": "python",
   "pygments_lexer": "ipython3",
   "version": "3.8.2-final"
  },
  "orig_nbformat": 2,
  "kernelspec": {
   "name": "python3",
   "display_name": "Python 3"
  }
 },
 "nbformat": 4,
 "nbformat_minor": 2,
 "cells": [
  {
   "cell_type": "markdown",
   "metadata": {},
   "source": [
    "# Método dos Elementos Finitos - Trabalho 4"
   ]
  },
  {
   "cell_type": "markdown",
   "metadata": {},
   "source": [
    "Universidade Federal Fluminense\n",
    "\n",
    "Disciplina ministrada pelo Prof. Marco Ferro\n",
    "\n",
    "<marcoferro@id.uff.br>\n",
    "\n",
    "Aluno Noé de Lima\n",
    "\n",
    "<noe_lima@id.uff.br>\n",
    "\n",
    "Este trabalho visa aplicar o MEF ao Estado Plano de Tensões (EPT).\n",
    "\n",
    "Primeiro semestre de 2020\n",
    "\n",
    "\\vfill"
   ]
  },
  {
   "cell_type": "markdown",
   "metadata": {},
   "source": [
    "A célula a seguir configura o Jupyter-Notebook para exibir as equações matemáticas no formato do ambiente $\\LaTeX$ e importa as bibliotecas necessárias."
   ]
  },
  {
   "cell_type": "code",
   "execution_count": 1,
   "metadata": {
    "tags": []
   },
   "outputs": [
    {
     "output_type": "stream",
     "name": "stdout",
     "text": "Linux DESKTOP-CR7O8A2 4.19.104-microsoft-standard #1 SMP Wed Feb 19 06:37:35 UTC 2020 x86_64 x86_64 x86_64 GNU/Linux\n"
    }
   ],
   "source": [
    "import numpy as np\n",
    "import sympy as sp\n",
    "import pandas as pd\n",
    "from sympy.vector import CoordSys3D, divergence\n",
    "sp.init_printing(use_latex='mathjax',latex_mode='equation*')\n",
    "!uname -a"
   ]
  },
  {
   "cell_type": "markdown",
   "metadata": {},
   "source": [
    "\\cleardoublepage\n",
    "\n",
    "\\tableofcontents\n",
    "\n",
    "\\cleardoublepage"
   ]
  },
  {
   "cell_type": "markdown",
   "metadata": {},
   "source": [
    "# Introdução"
   ]
  },
  {
   "cell_type": "markdown",
   "metadata": {},
   "source": [
    "O Estado Plano de Tenção - EPT ou o Estado Plano de Deformação - EPD, caracterizam-se por serem estruturas planares (no plano $xy$), com carregaemntos, reações de apoio, restrições e deformações igualmente planares. Tais estruturas têm, na direção $z$, espessura fixa constante $t$. As condições que definem e diferenciam o EPT e o EPD estão relacionadas às restrições na direção $z$.\n",
    "\n",
    "Temos, na dereção $z$, das faces do plano, as seguintes variáveis de Tensão $\\times$ Deformação: $\\sigma_{z}$ e $\\epsilon_{z}$.\n",
    "\n",
    "Portanto, segue que:\n",
    "\n",
    "No EPT: $\\sigma_{z}=0$;\n",
    "\n",
    "No EPD: $\\epsilon_{z}=0$.\n",
    "\n",
    "O EPT tem, portanto, suas faces livres, sem tensões de reação e liberdade de deformação. Tal é a situação em chapas, onde uma estrutura plana recebe carregamentos no mesmo plano da face, e não recebe carregamentos transversais (como nas placas ou lages). Nessa configuração, a espessura $t$ da chapa pode variar, pois não há tensão de reação na direção $z$.\n",
    "\n",
    "Já o EPD é caracterizado por uma restrição de deformação, já que há reação de tensão na direção $z$ que restringe a deformação. Nessa configuração, portanto, a espessura $t$ não varia. Este é o caso onde o plano compõe uma seção transversão de uma estrutura maior, como um muro de arrimo ou uma barragem de represa. Neste caso, a espessura é fixa e definida como $t=1$, sendo as tensões definidas em termos de comprimento de muro ou barragem.\n",
    "\n",
    "As variáveis simbólicas definidas abaixo serão utilizadas na análise subsequente."
   ]
  },
  {
   "cell_type": "code",
   "execution_count": 2,
   "metadata": {},
   "outputs": [],
   "source": [
    "E,nu = sp.symbols('E,nu')\n",
    "G = E/(2*(1+nu))"
   ]
  },
  {
   "cell_type": "markdown",
   "metadata": {},
   "source": [
    "Sendo,\n",
    "\n",
    "* $E$ o Módulo de Elasticidade Longitudinal;\n",
    "\n",
    "* $\\nu$ a constante de Poisson do material; elastica; e\n",
    "\n",
    "* $G$ o Módulo de Elasticidade Transversal."
   ]
  },
  {
   "cell_type": "code",
   "execution_count": 3,
   "metadata": {},
   "outputs": [],
   "source": [
    "\n",
    "sigma_x,sigma_y,sigma_z = sp.symbols('sigma_x,sigma_y,sigma_z')\n",
    "tau_xy,tau_yz,tau_zx = sp.symbols('tau_xy,tau_yz,tau_zx')\n",
    "epsilon_x,epsilon_y,epsilon_z = sp.symbols('epsilon_x,epsilon_y,epsilon_z')\n",
    "gamma_xy,gamma_yz,gamma_zx = sp.symbols('gamma_xy,gamma_yz,gamma_zx')"
   ]
  },
  {
   "cell_type": "markdown",
   "metadata": {},
   "source": [
    "Onde,\n",
    "\n",
    "* $\\sigma_{x}$, $\\sigma_{y}$ e $\\sigma_{z}$ são, respectivamente, as tensões normais nas direções $x$, $y$ e $z$;\n",
    "\n",
    "* $\\tau_{xy}$, $\\tau_{yz}$ e $\\tau_{zx}$ são, respectivamente, as tensões cisalhantes nas direções $xy$, $yz$ e $zx$;\n",
    "\n",
    "* $\\varepsilon_{x}$, $\\varepsilon_{y}$ e $\\varepsilon_{z}$ são, respectivamente, as deformações lineares em $x$ e $y$ e $z$;\n",
    "\n",
    "* $\\gamma_{xy}$, $\\gamma_{yz}$ e $\\gamma_{zx}$ são, respectivamente, as deformações angulares nas direções $xy$, $yz$ e $zx$."
   ]
  },
  {
   "cell_type": "markdown",
   "metadata": {},
   "source": [
    "A partir das restrições do sistema bidimensional, temos o seguinte Vetor de Tensões $\\vec{\\sigma}$:"
   ]
  },
  {
   "cell_type": "code",
   "execution_count": 4,
   "metadata": {},
   "outputs": [
    {
     "output_type": "display_data",
     "data": {
      "text/plain": "⎡ σₓ ⎤\n⎢    ⎥\n⎢σ_y ⎥\n⎢    ⎥\n⎣τ_xy⎦",
      "text/latex": "\\begin{equation*}\\left[\\begin{matrix}\\sigma_{x}\\\\\\sigma_{y}\\\\\\tau_{xy}\\end{matrix}\\right]\\end{equation*}"
     },
     "metadata": {}
    }
   ],
   "source": [
    "sigma = sp.Matrix([sigma_x,sigma_y,tau_xy])\n",
    "display(sigma)"
   ]
  },
  {
   "cell_type": "markdown",
   "metadata": {},
   "source": [
    "Bem como o Vetor de Deformações $\\vec{\\varepsilon}$:"
   ]
  },
  {
   "cell_type": "code",
   "execution_count": 5,
   "metadata": {},
   "outputs": [
    {
     "output_type": "display_data",
     "data": {
      "text/plain": "⎡ εₓ ⎤\n⎢    ⎥\n⎢ε_y ⎥\n⎢    ⎥\n⎣γ_xy⎦",
      "text/latex": "\\begin{equation*}\\left[\\begin{matrix}\\epsilon_{x}\\\\\\epsilon_{y}\\\\\\gamma_{xy}\\end{matrix}\\right]\\end{equation*}"
     },
     "metadata": {}
    }
   ],
   "source": [
    "epsilon = sp.Matrix([epsilon_x,epsilon_y,gamma_xy])\n",
    "display(epsilon)"
   ]
  },
  {
   "cell_type": "markdown",
   "metadata": {},
   "source": []
  },
  {
   "cell_type": "markdown",
   "metadata": {},
   "source": [
    "Temos também a matriz $\\mathbf{D}$, em função de $E_{var}$ e $\\nu_{var}$:"
   ]
  },
  {
   "cell_type": "code",
   "execution_count": 6,
   "metadata": {},
   "outputs": [
    {
     "output_type": "display_data",
     "data": {
      "text/plain": "⎡   Eᵥₐᵣ    Eᵥₐᵣ⋅νᵥₐᵣ                 ⎤\n⎢─────────  ─────────         0       ⎥\n⎢        2          2                 ⎥\n⎢1 - νᵥₐᵣ   1 - νᵥₐᵣ                  ⎥\n⎢                                     ⎥\n⎢Eᵥₐᵣ⋅νᵥₐᵣ     Eᵥₐᵣ                   ⎥\n⎢─────────  ─────────         0       ⎥\n⎢        2          2                 ⎥\n⎢1 - νᵥₐᵣ   1 - νᵥₐᵣ                  ⎥\n⎢                                     ⎥\n⎢                           ⎛1   νᵥₐᵣ⎞⎥\n⎢                      Eᵥₐᵣ⋅⎜─ - ────⎟⎥\n⎢                           ⎝2    2  ⎠⎥\n⎢    0          0      ───────────────⎥\n⎢                                 2   ⎥\n⎣                         1 - νᵥₐᵣ    ⎦",
      "text/latex": "\\begin{equation*}\\left[\\begin{matrix}\\frac{E_{var}}{1 - \\nu_{var}^{2}} & \\frac{E_{var} \\nu_{var}}{1 - \\nu_{var}^{2}} & 0\\\\\\frac{E_{var} \\nu_{var}}{1 - \\nu_{var}^{2}} & \\frac{E_{var}}{1 - \\nu_{var}^{2}} & 0\\\\0 & 0 & \\frac{E_{var} \\left(\\frac{1}{2} - \\frac{\\nu_{var}}{2}\\right)}{1 - \\nu_{var}^{2}}\\end{matrix}\\right]\\end{equation*}"
     },
     "metadata": {}
    }
   ],
   "source": [
    "E_var,nu_var = sp.symbols('E_var,nu_var')\n",
    "D_var = (E_var/(1-nu_var**2))*sp.Matrix([[1,nu_var,0],[nu_var,1,0],[0,0,(1-nu_var)/2]])\n",
    "display(D_var)"
   ]
  },
  {
   "cell_type": "markdown",
   "metadata": {},
   "source": [
    "A equação do sistema, então, fica:"
   ]
  },
  {
   "cell_type": "code",
   "execution_count": 7,
   "metadata": {},
   "outputs": [
    {
     "output_type": "display_data",
     "data": {
      "text/plain": "         ⎡ Eᵥₐᵣ⋅εₓ    Eᵥₐᵣ⋅ε_y⋅νᵥₐᵣ⎤\n         ⎢───────── + ─────────────⎥\n         ⎢        2             2  ⎥\n         ⎢1 - νᵥₐᵣ      1 - νᵥₐᵣ   ⎥\n         ⎢                         ⎥\n         ⎢Eᵥₐᵣ⋅εₓ⋅νᵥₐᵣ    Eᵥₐᵣ⋅ε_y ⎥\n⎡ σₓ ⎤   ⎢──────────── + ───────── ⎥\n⎢    ⎥   ⎢         2             2 ⎥\n⎢σ_y ⎥ = ⎢ 1 - νᵥₐᵣ      1 - νᵥₐᵣ  ⎥\n⎢    ⎥   ⎢                         ⎥\n⎣τ_xy⎦   ⎢            ⎛1   νᵥₐᵣ⎞   ⎥\n         ⎢  Eᵥₐᵣ⋅γ_xy⋅⎜─ - ────⎟   ⎥\n         ⎢            ⎝2    2  ⎠   ⎥\n         ⎢  ────────────────────   ⎥\n         ⎢               2         ⎥\n         ⎣       1 - νᵥₐᵣ          ⎦",
      "text/latex": "\\begin{equation*}\\left[\\begin{matrix}\\sigma_{x}\\\\\\sigma_{y}\\\\\\tau_{xy}\\end{matrix}\\right] = \\left[\\begin{matrix}\\frac{E_{var} \\epsilon_{x}}{1 - \\nu_{var}^{2}} + \\frac{E_{var} \\epsilon_{y} \\nu_{var}}{1 - \\nu_{var}^{2}}\\\\\\frac{E_{var} \\epsilon_{x} \\nu_{var}}{1 - \\nu_{var}^{2}} + \\frac{E_{var} \\epsilon_{y}}{1 - \\nu_{var}^{2}}\\\\\\frac{E_{var} \\gamma_{xy} \\left(\\frac{1}{2} - \\frac{\\nu_{var}}{2}\\right)}{1 - \\nu_{var}^{2}}\\end{matrix}\\right]\\end{equation*}"
     },
     "metadata": {}
    }
   ],
   "source": [
    "eq = sp.Eq(sigma, D_var*epsilon)\n",
    "display(eq)"
   ]
  },
  {
   "cell_type": "markdown",
   "metadata": {},
   "source": [
    "# Estado Plano de Tensão - EPT"
   ]
  },
  {
   "cell_type": "markdown",
   "metadata": {},
   "source": [
    "As condições de contorno do EPT, conforme definido na introdução, podem ser definidas matematicamente como:\n",
    "\n",
    "\\begin{equation*}\n",
    "    \\left\\{\\begin{matrix}\n",
    "        \\sigma_{z}  & = &   0 \\\\\n",
    "        \\tau_{yz}   & = &   0 \\\\\n",
    "        \\tau_{zx}   & = &   0\n",
    "    \\end{matrix}\\right.\n",
    "\\end{equation*}\n",
    "\n",
    "E,\n",
    "\n",
    "\\begin{equation*}\n",
    "    \\varepsilon_{z} = -\\frac{\\nu}{E}\\left(\\sigma_{x}+\\sigma_{y}\\right) \\neq 0\n",
    "\\end{equation*}\n",
    "\n",
    "Nessas condições, temos:\n",
    "\n",
    "\\begin{equation*}\n",
    "    \\left\\{\\begin{matrix}\n",
    "        E_{var}     & = &   E \\\\\n",
    "        \\nu_{var}   & = &   \\nu\n",
    "    \\end{matrix}\\right.\n",
    "\\end{equation*}\n",
    "\n",
    "Logo, $\\mathbf{D}_{EPT}$ ="
   ]
  },
  {
   "cell_type": "code",
   "execution_count": 8,
   "metadata": {},
   "outputs": [
    {
     "output_type": "display_data",
     "data": {
      "text/plain": "         ⎡ E⋅εₓ    E⋅ε_y⋅ν⎤\n         ⎢────── + ───────⎥\n         ⎢     2         2⎥\n         ⎢1 - ν     1 - ν ⎥\n         ⎢                ⎥\n         ⎢E⋅εₓ⋅ν   E⋅ε_y  ⎥\n⎡ σₓ ⎤   ⎢────── + ────── ⎥\n⎢    ⎥   ⎢     2        2 ⎥\n⎢σ_y ⎥ = ⎢1 - ν    1 - ν  ⎥\n⎢    ⎥   ⎢                ⎥\n⎣τ_xy⎦   ⎢        ⎛1   ν⎞ ⎥\n         ⎢ E⋅γ_xy⋅⎜─ - ─⎟ ⎥\n         ⎢        ⎝2   2⎠ ⎥\n         ⎢ ────────────── ⎥\n         ⎢          2     ⎥\n         ⎣     1 - ν      ⎦",
      "text/latex": "\\begin{equation*}\\left[\\begin{matrix}\\sigma_{x}\\\\\\sigma_{y}\\\\\\tau_{xy}\\end{matrix}\\right] = \\left[\\begin{matrix}\\frac{E \\epsilon_{x}}{1 - \\nu^{2}} + \\frac{E \\epsilon_{y} \\nu}{1 - \\nu^{2}}\\\\\\frac{E \\epsilon_{x} \\nu}{1 - \\nu^{2}} + \\frac{E \\epsilon_{y}}{1 - \\nu^{2}}\\\\\\frac{E \\gamma_{xy} \\left(\\frac{1}{2} - \\frac{\\nu}{2}\\right)}{1 - \\nu^{2}}\\end{matrix}\\right]\\end{equation*}"
     },
     "metadata": {}
    }
   ],
   "source": [
    "ept = eq.subs(E_var,E).subs(nu_var,nu)\n",
    "display(ept)"
   ]
  },
  {
   "cell_type": "markdown",
   "metadata": {},
   "source": []
  },
  {
   "cell_type": "code",
   "execution_count": null,
   "metadata": {},
   "outputs": [],
   "source": []
  },
  {
   "cell_type": "markdown",
   "metadata": {},
   "source": [
    "# Estado Plano de Deformação"
   ]
  },
  {
   "cell_type": "markdown",
   "metadata": {},
   "source": [
    "As condições de contorno do EPD, conforme definido na introdução, podem ser definidas matematicamente como:\n",
    "\n",
    "\\begin{equation*}\n",
    "    \\left\\{\\begin{matrix}\n",
    "        \\varepsilon_{z}    & = &   0 \\\\\n",
    "        \\gamma_{yz}     & = &   0 \\\\\n",
    "        \\gamma_{zx}     & = &   0\n",
    "    \\end{matrix}\\right.\n",
    "\\end{equation*}\n",
    "\n",
    "E,\n",
    "\n",
    "\\begin{equation*}\n",
    "    \\sigma_{z} = \\nu\\left(\\sigma_{x}+\\sigma_{y}\\right) \\neq 0\n",
    "\\end{equation*}\n",
    "\n",
    "Nessas condições, temos:\n",
    "\n",
    "\\begin{equation*}\n",
    "    \\left\\{\\begin{matrix}\n",
    "        E_{var}     & = &   \\frac{E}{1-\\nu^{2}} \\\\\n",
    "        \\nu_{var}   & = &   \\frac{\\nu}{1-\\nu}\n",
    "    \\end{matrix}\\right.\n",
    "\\end{equation*}\n",
    "\n",
    "Logo, $\\mathbf{D}_{EPD}$ ="
   ]
  },
  {
   "cell_type": "code",
   "execution_count": 9,
   "metadata": {},
   "outputs": [
    {
     "output_type": "display_data",
     "data": {
      "text/plain": "         ⎡           E⋅εₓ                          E⋅ε_y⋅ν             ⎤\n         ⎢───────────────────────── + ─────────────────────────────────⎥\n         ⎢         ⎛      2       ⎞                    ⎛      2       ⎞⎥\n         ⎢⎛     2⎞ ⎜     ν        ⎟           ⎛     2⎞ ⎜     ν        ⎟⎥\n         ⎢⎝1 - ν ⎠⋅⎜- ──────── + 1⎟   (1 - ν)⋅⎝1 - ν ⎠⋅⎜- ──────── + 1⎟⎥\n         ⎢         ⎜         2    ⎟                    ⎜         2    ⎟⎥\n         ⎢         ⎝  (1 - ν)     ⎠                    ⎝  (1 - ν)     ⎠⎥\n         ⎢                                                             ⎥\n         ⎢              E⋅εₓ⋅ν                          E⋅ε_y          ⎥\n         ⎢───────────────────────────────── + ─────────────────────────⎥\n⎡ σₓ ⎤   ⎢                 ⎛      2       ⎞            ⎛      2       ⎞⎥\n⎢    ⎥   ⎢        ⎛     2⎞ ⎜     ν        ⎟   ⎛     2⎞ ⎜     ν        ⎟⎥\n⎢σ_y ⎥ = ⎢(1 - ν)⋅⎝1 - ν ⎠⋅⎜- ──────── + 1⎟   ⎝1 - ν ⎠⋅⎜- ──────── + 1⎟⎥\n⎢    ⎥   ⎢                 ⎜         2    ⎟            ⎜         2    ⎟⎥\n⎣τ_xy⎦   ⎢                 ⎝  (1 - ν)     ⎠            ⎝  (1 - ν)     ⎠⎥\n         ⎢                                                             ⎥\n         ⎢                          ⎛      ν       1⎞                  ⎥\n         ⎢                   E⋅γ_xy⋅⎜- ───────── + ─⎟                  ⎥\n         ⎢                          ⎝  2⋅(1 - ν)   2⎠                  ⎥\n         ⎢                  ─────────────────────────                  ⎥\n         ⎢                           ⎛      2       ⎞                  ⎥\n         ⎢                  ⎛     2⎞ ⎜     ν        ⎟                  ⎥\n         ⎢                  ⎝1 - ν ⎠⋅⎜- ──────── + 1⎟                  ⎥\n         ⎢                           ⎜         2    ⎟                  ⎥\n         ⎣                           ⎝  (1 - ν)     ⎠                  ⎦",
      "text/latex": "\\begin{equation*}\\left[\\begin{matrix}\\sigma_{x}\\\\\\sigma_{y}\\\\\\tau_{xy}\\end{matrix}\\right] = \\left[\\begin{matrix}\\frac{E \\epsilon_{x}}{\\left(1 - \\nu^{2}\\right) \\left(- \\frac{\\nu^{2}}{\\left(1 - \\nu\\right)^{2}} + 1\\right)} + \\frac{E \\epsilon_{y} \\nu}{\\left(1 - \\nu\\right) \\left(1 - \\nu^{2}\\right) \\left(- \\frac{\\nu^{2}}{\\left(1 - \\nu\\right)^{2}} + 1\\right)}\\\\\\frac{E \\epsilon_{x} \\nu}{\\left(1 - \\nu\\right) \\left(1 - \\nu^{2}\\right) \\left(- \\frac{\\nu^{2}}{\\left(1 - \\nu\\right)^{2}} + 1\\right)} + \\frac{E \\epsilon_{y}}{\\left(1 - \\nu^{2}\\right) \\left(- \\frac{\\nu^{2}}{\\left(1 - \\nu\\right)^{2}} + 1\\right)}\\\\\\frac{E \\gamma_{xy} \\left(- \\frac{\\nu}{2 \\left(1 - \\nu\\right)} + \\frac{1}{2}\\right)}{\\left(1 - \\nu^{2}\\right) \\left(- \\frac{\\nu^{2}}{\\left(1 - \\nu\\right)^{2}} + 1\\right)}\\end{matrix}\\right]\\end{equation*}"
     },
     "metadata": {}
    }
   ],
   "source": [
    "epd = eq.subs(E_var,E/(1-nu**2)).subs(nu_var,nu/(1-nu))\n",
    "display(epd)"
   ]
  },
  {
   "cell_type": "markdown",
   "metadata": {},
   "source": []
  },
  {
   "cell_type": "markdown",
   "metadata": {},
   "source": [
    "# Cálculo das Tensões"
   ]
  },
  {
   "cell_type": "markdown",
   "metadata": {},
   "source": [
    "Tanto para EPT quanto para EPD, temos a seguinte equação para o cálculo das tensões (Derivada da Lei de Hooke):\n",
    "\n",
    "\\begin{equation*}\n",
    "    \\vec{\\sigma} = \\mathbf{D}\\vec{\\varepsilon}\n",
    "\\end{equation*}\n",
    "\n",
    "Bem como,\n",
    "\n",
    "\\begin{equation*}\n",
    "    \\vec{\\varepsilon} = \\mathbf{L}\\vec{u}\n",
    "\\end{equation*}\n",
    "\n",
    "Onde,\n",
    "\n",
    "* $\\mathbf{L}\\rightarrow$ é a matriz de operadores que relaciona os deslocamentos com as deformaçoes.\n",
    "\n",
    "Como $$\\bar{u} = \\sum_{i=1}^{N}{N_{i}u_{i}}$$ tem-se:\n",
    "\n",
    "\\begin{equation*}\n",
    "    \\mathbf{L} =\n",
    "    \\left[\\begin{matrix}\n",
    "        \\frac{\\partial}{\\partial x} & 0 \\\\\n",
    "        0 & \\frac{\\partial}{\\partial y} \\\\\n",
    "        \\frac{\\partial}{\\partial y} & \\frac{\\partial}{\\partial x}\n",
    "    \\end{matrix}\\right]\n",
    "\\end{equation*}\n",
    "\n",
    "\\begin{equation*}\n",
    "    \\vec{u} =\n",
    "    \\left\\{\\begin{matrix}\n",
    "        u \\\\\n",
    "        v\n",
    "    \\end{matrix}\\right\\}\n",
    "\\end{equation*}\n",
    "\n",
    "\\begin{equation*}\n",
    "    \\vec{\\varepsilon} =\n",
    "    \\left\\{\\begin{matrix}\n",
    "        \\varepsilon_{x} \\\\\n",
    "        \\varepsilon_{y} \\\\\n",
    "        \\gamma_{xy}\n",
    "    \\end{matrix}\\right\\}\n",
    "\\end{equation*}"
   ]
  },
  {
   "cell_type": "markdown",
   "metadata": {},
   "source": [
    "# Método dos Elementos Finitos"
   ]
  },
  {
   "cell_type": "markdown",
   "metadata": {},
   "source": [
    "O Elemento bidimensional a ser estudado é o <b>Triangular de Deformação Constante</b>, ou <b><i>Constant Strain Triangle - CST</i></b>, que possui como funções de interpolação $N_{i}$, para os deslocamentos $u$ e $v$, polinômios do primeiro grau em $x$ e $y$.\n",
    "\n",
    "Portanto,\n",
    "\n",
    "\\begin{equation*}\n",
    "    \\left\\{\\begin{matrix}\n",
    "        u \\\\ v\n",
    "    \\end{matrix}\\right\\} =\n",
    "    \\left[\\begin{matrix}\n",
    "        1 & x & y & 0 & 0 & 0 \\\\\n",
    "        0 & 0 & 1 & 1 & x & y\n",
    "    \\end{matrix}\\right]\n",
    "    \\left\\{\\begin{matrix}\n",
    "        a_{1} \\\\ a_{2} \\\\ a_{3} \\\\ b_{1} \\\\ b_{2} \\\\ b_{3}\n",
    "    \\end{matrix}\\right\\}\n",
    "\\end{equation*}\n",
    "\n",
    "As funções $N_{i}$ têm a seguinte forma:\n",
    "\n",
    "\\begin{equation*}\n",
    "    N_{1}\\left(x,y\\right) = \\frac{1}{2A}\n",
    "    \\left[ \\left(x_{2}y_{3} - x_{3}y_{2}\\right) +\n",
    "    \\left(y_{2}-y_{3}\\right)x +\n",
    "    \\left(x_{3}-x_{2}\\right)y\\right]\n",
    "\\end{equation*}\n",
    "\n",
    "\\begin{equation*}\n",
    "    N_{2}\\left(x,y\\right) = \\frac{1}{2A}\n",
    "    \\left[ \\left(y_{1}x_{3} - y_{3}x_{1}\\right) +\n",
    "    \\left(y_{3}-y_{1}\\right)x +\n",
    "    \\left(x_{1}-x_{3}\\right)y\\right]\n",
    "\\end{equation*}\n",
    "\n",
    "\\begin{equation*}\n",
    "    N_{3}\\left(x,y\\right) = \\frac{1}{2A}\n",
    "    \\left[ \\left(x_{1}y_{2} - x_{2}y_{1}\\right) +\n",
    "    \\left(y_{1}-y_{2}\\right)x +\n",
    "    \\left(x_{2}-x_{1}\\right)y\\right]\n",
    "\\end{equation*}\n",
    "\n",
    "Sendo $A$ a área do triiângulo, dada por:\n",
    "\n",
    "\\begin{equation*}\n",
    "    A = \\frac{1}{2}\\times \\det{\n",
    "    \\left[\\begin{matrix}\n",
    "        1 & 1 & 1 \\\\\n",
    "        x_{1} & x_{2} & x_{3} \\\\\n",
    "        y_{1} & y_{2} & y_{3}\n",
    "    \\end{matrix}\\right]}\n",
    "\\end{equation*}\n",
    "\n",
    "As equações acima para $N_{i}$ podem ser resumidas em:\n",
    "\n",
    "\\begin{equation*}\n",
    "    N_{i}\\left(x,y\\right) = \\frac{1}{2A}\n",
    "    \\left[ \\left(x_{j}y_{k} - x_{k}y_{j}\\right) +\n",
    "    \\left(y_{j}-y_{k}\\right)x +\n",
    "    \\left(x_{k}-x_{j}\\right)y\\right]\n",
    "\\end{equation*}\n",
    "\n",
    "Sendo,\n",
    "\n",
    "\\begin{equation*}\n",
    "    \\left\\{\\begin{matrix}\n",
    "        i & = & 1, & 2, & 3; \\\\\n",
    "        j & = & 2, & 3, & 1; \\\\\n",
    "        k & = & 3, & 1, & 2;\n",
    "    \\end{matrix}\\right.\n",
    "\\end{equation*}\n",
    "\n",
    "A matriz $\\mathbf{N}$ é, então, formada:\n",
    "\n",
    "\\begin{equation*}\n",
    "    \\mathbf{N} =\n",
    "    \\left[\\begin{matrix}\n",
    "        N_{1} & 0 & N_{2} & 0 & N_{3} & 0 \\\\\n",
    "        0 & N_{1} & 0 & N_{2} & 0 & N_{3}\n",
    "    \\end{matrix}\\right]\n",
    "\\end{equation*}\n",
    "\n",
    "Mas $\\vec{\\varepsilon} = \\mathbf{L}\\vec{u}$. Como $\\vec{u} = \\mathbf{N}\\vec{u}_{i}$, tem-se $$\\vec{\\varepsilon} = \\mathbf{L}\\mathbf{N}\\vec{u}_{i}$$\n",
    "\n",
    "Fazendo-se $\\mathbf{B} = \\mathbf{L}\\mathbf{N}$, tem-se:\n",
    "\n",
    "\\begin{equation*}\n",
    "    \\mathbf{B} =\n",
    "    \\left[\\begin{matrix}\n",
    "        \\frac{\\partial}{\\partial x} & 0 \\\\\n",
    "        0 & \\frac{\\partial}{\\partial y} \\\\\n",
    "        \\frac{\\partial}{\\partial y} & \\frac{\\partial}{\\partial x}\n",
    "    \\end{matrix}\\right]\n",
    "    \\left[\\begin{matrix}\n",
    "        N_{1} & 0 & N_{2} & 0 & N_{3} & 0 \\\\\n",
    "        0 & N_{1} & 0 & N_{2} & 0 & N_{3}\n",
    "    \\end{matrix}\\right]\n",
    "\\end{equation*}\n",
    "\n",
    "\\begin{equation*}\n",
    "    \\mathbf{B} =\n",
    "    \\left[\\begin{matrix}\n",
    "        \\frac{\\partial N_{1}}{\\partial x} & 0 & \\frac{\\partial N_{2}}{\\partial x} & 0 & \\frac{\\partial N_{3}}{\\partial x} & 0 \\\\\n",
    "        0 & \\frac{\\partial N_{1}}{\\partial y} & 0 & \\frac{\\partial N_{2}}{\\partial y} & 0 & \\frac{\\partial N_{3}}{\\partial y} \\\\\n",
    "        \\frac{\\partial N_{1}}{\\partial y} & \\frac{\\partial N_{1}}{\\partial x} & \\frac{\\partial N_{2}}{\\partial y} & \\frac{\\partial N_{2}}{\\partial x} & \\frac{\\partial N_{3}}{\\partial y} & \\frac{\\partial N_{3}}{\\partial x}\n",
    "    \\end{matrix}\\right]\n",
    "\\end{equation*}\n",
    "\n",
    "Que resulta em:\n",
    "\n",
    "\\begin{equation*}\n",
    "    \\mathbf{B} =\n",
    "    \\left[\\begin{matrix}\n",
    "        \\left(y_{2}-y_{3}\\right) & 0 & \\left(y_{3}-y_{1}\\right) & 0 & \\left(y_{1}-y_{2}\\right) & 0 \\\\\n",
    "        0 & \\left(x_{3}-x_{2}\\right) & 0 & \\left(x_{1}-x_{3}\\right) & 0 & \\left(x_{2}-x_{1}\\right) \\\\\n",
    "        \\left(x_{3}-x_{2}\\right) & \\left(y_{2}-y_{3}\\right) & \\left(x_{1}-x_{3}\\right) & \\left(y_{3}-y_{1}\\right) & \\left(x_{2}-x_{1}\\right) & \\left(y_{1}-y_{2}\\right)\n",
    "    \\end{matrix}\\right]\n",
    "\\end{equation*}\n",
    "\n",
    "Tem-se que:\n",
    "\n",
    "\\begin{equation*}\n",
    "    \\mathbf{K}_{e} = t\\mathbf{B}^{T}\\mathbf{D}\\mathbf{B}\\times A\n",
    "\\end{equation*}\n",
    "\n",
    "No <b>EPT</b>, $t$ é a espessura do elemento (chapa); no <b>EPD</b>, $t=1$."
   ]
  },
  {
   "cell_type": "code",
   "execution_count": 10,
   "metadata": {},
   "outputs": [
    {
     "output_type": "execute_result",
     "data": {
      "text/plain": "⎡y₂ - y₃      0      -y₁ + y₃     0      y₁ - y₂      0    ⎤\n⎢                                                          ⎥\n⎢   0      -x₂ + x₃     0      x₁ - x₃      0      -x₁ + x₂⎥\n⎢                                                          ⎥\n⎣-x₂ + x₃  y₂ - y₃   x₁ - x₃   -y₁ + y₃  -x₁ + x₂  y₁ - y₂ ⎦",
      "text/latex": "\\begin{equation*}\\left[\\begin{matrix}y_{2} - y_{3} & 0 & - y_{1} + y_{3} & 0 & y_{1} - y_{2} & 0\\\\0 & - x_{2} + x_{3} & 0 & x_{1} - x_{3} & 0 & - x_{1} + x_{2}\\\\- x_{2} + x_{3} & y_{2} - y_{3} & x_{1} - x_{3} & - y_{1} + y_{3} & - x_{1} + x_{2} & y_{1} - y_{2}\\end{matrix}\\right]\\end{equation*}"
     },
     "metadata": {},
     "execution_count": 10
    }
   ],
   "source": [
    "x_1,x_2,x_3 = sp.symbols('x_1,x_2,x_3')\n",
    "y_1,y_2,y_3 = sp.symbols('y_1,y_2,y_3')\n",
    "B = sp.Matrix([\n",
    "    [(y_2-y_3), 0, (y_3-y_1), 0, (y_1-y_2), 0],\n",
    "    [0, (x_3-x_2), 0, (x_1-x_3), 0, (x_2-x_1)],\n",
    "    [(x_3-x_2), (y_2-y_3), (x_1-x_3), (y_3-y_1), (x_2-x_1), (y_1-y_2)]\n",
    "])\n",
    "B"
   ]
  },
  {
   "cell_type": "markdown",
   "metadata": {},
   "source": [
    "# Exemplo 1"
   ]
  },
  {
   "cell_type": "markdown",
   "metadata": {},
   "source": [
    "Calcular como EPD e EPT uma estrutura de área retangular de largura $75~mm$ em $x$ e altura $50~mm$ em $y$. Considerar apoio de segundo gênero nos pontos $(0,~0)$ e $(0,~50)$ e uma carga pontual vertical de $4450~N$ para baixo no ponto $(75,~50)$.\n",
    "\n",
    "Dados:\n",
    "\n",
    "\\begin{equation*}\n",
    "    \\left\\{\\begin{matrix}\n",
    "        t & = & 13~mm \\\\\n",
    "        E & = & 207~GPa \\\\\n",
    "        \\nu & = & 0,25\n",
    "    \\end{matrix}\\right.\n",
    "\\end{equation*}"
   ]
  },
  {
   "cell_type": "code",
   "execution_count": 11,
   "metadata": {},
   "outputs": [],
   "source": [
    "geral = pd.DataFrame({\n",
    "    \"t\": [13],\n",
    "    \"E\": [207],\n",
    "    \"nu\": [0.25]\n",
    "})"
   ]
  },
  {
   "cell_type": "markdown",
   "metadata": {},
   "source": [
    "A malha considerada será a seguinte:"
   ]
  },
  {
   "cell_type": "code",
   "execution_count": 12,
   "metadata": {},
   "outputs": [
    {
     "output_type": "execute_result",
     "data": {
      "text/plain": "   Ponto     x    y\n0      1  (75,   0)\n1      2  (75,  75)\n2      3   (0,  75)\n3      4   (0,   0)",
      "text/html": "<div>\n<style scoped>\n    .dataframe tbody tr th:only-of-type {\n        vertical-align: middle;\n    }\n\n    .dataframe tbody tr th {\n        vertical-align: top;\n    }\n\n    .dataframe thead th {\n        text-align: right;\n    }\n</style>\n<table border=\"1\" class=\"dataframe\">\n  <thead>\n    <tr style=\"text-align: right;\">\n      <th></th>\n      <th>Ponto</th>\n      <th>x</th>\n      <th>y</th>\n    </tr>\n  </thead>\n  <tbody>\n    <tr>\n      <th>0</th>\n      <td>1</td>\n      <td>(75,</td>\n      <td>0)</td>\n    </tr>\n    <tr>\n      <th>1</th>\n      <td>2</td>\n      <td>(75,</td>\n      <td>75)</td>\n    </tr>\n    <tr>\n      <th>2</th>\n      <td>3</td>\n      <td>(0,</td>\n      <td>75)</td>\n    </tr>\n    <tr>\n      <th>3</th>\n      <td>4</td>\n      <td>(0,</td>\n      <td>0)</td>\n    </tr>\n  </tbody>\n</table>\n</div>"
     },
     "metadata": {},
     "execution_count": 12
    }
   ],
   "source": [
    "pd.DataFrame({\n",
    "    \"Ponto\": [1,2,3,4],\n",
    "    \"x\": [\"(75,\",\"(75,\",\"(0,\",\"(0,\"],\n",
    "    \"y\": [\"0)\",\"75)\",\"75)\",\"0)\"],\n",
    "})"
   ]
  },
  {
   "cell_type": "markdown",
   "metadata": {},
   "source": [
    "Os pontos dos dois elementos utilizados são:"
   ]
  },
  {
   "cell_type": "code",
   "execution_count": 13,
   "metadata": {},
   "outputs": [
    {
     "output_type": "execute_result",
     "data": {
      "text/plain": "   Elemento     Pontos\n0         1  [1, 2, 4]\n1         2  [3, 4, 2]",
      "text/html": "<div>\n<style scoped>\n    .dataframe tbody tr th:only-of-type {\n        vertical-align: middle;\n    }\n\n    .dataframe tbody tr th {\n        vertical-align: top;\n    }\n\n    .dataframe thead th {\n        text-align: right;\n    }\n</style>\n<table border=\"1\" class=\"dataframe\">\n  <thead>\n    <tr style=\"text-align: right;\">\n      <th></th>\n      <th>Elemento</th>\n      <th>Pontos</th>\n    </tr>\n  </thead>\n  <tbody>\n    <tr>\n      <th>0</th>\n      <td>1</td>\n      <td>[1, 2, 4]</td>\n    </tr>\n    <tr>\n      <th>1</th>\n      <td>2</td>\n      <td>[3, 4, 2]</td>\n    </tr>\n  </tbody>\n</table>\n</div>"
     },
     "metadata": {},
     "execution_count": 13
    }
   ],
   "source": [
    "pd.DataFrame({\n",
    "    \"Elemento\": [1, 2],\n",
    "    \"Pontos\": [[1, 2, 4], [3, 4, 2]]\n",
    "})"
   ]
  },
  {
   "cell_type": "markdown",
   "metadata": {},
   "source": [
    "## Cálculo Como EPT"
   ]
  },
  {
   "cell_type": "markdown",
   "metadata": {},
   "source": [
    "No EPT, temos:\n",
    "$$\\mathbf{D} =$$"
   ]
  },
  {
   "cell_type": "code",
   "execution_count": 14,
   "metadata": {},
   "outputs": [],
   "source": [
    "def Dept(data):\n",
    "    E = data[\"E\"][0]\n",
    "    nu = data[\"nu\"][0]\n",
    "    D_var = (E_var/(1-nu_var**2))*sp.Matrix([[1,nu_var,0],[nu_var,1,0],[0,0,(1-nu_var)/2]])\n",
    "    return D_var.subs(E_var,E).subs(nu_var,nu)"
   ]
  },
  {
   "cell_type": "markdown",
   "metadata": {},
   "source": [
    "## Cálculo como EPD"
   ]
  },
  {
   "cell_type": "markdown",
   "metadata": {},
   "source": [
    "No EPD, temos:\n",
    "\n",
    "$$\\mathbf{D} =$$"
   ]
  },
  {
   "cell_type": "code",
   "execution_count": 15,
   "metadata": {},
   "outputs": [],
   "source": [
    "def Depd(data):\n",
    "    E = data[\"E\"][0]\n",
    "    nu = data[\"nu\"][0]\n",
    "    D_var = (E_var/(1-nu_var**2))*sp.Matrix([[1,nu_var,0],[nu_var,1,0],[0,0,(1-nu_var)/2]])\n",
    "    return D_var.subs(E_var,E/(1-nu**2)).subs(nu_var,nu/(1-nu))"
   ]
  },
  {
   "cell_type": "markdown",
   "metadata": {},
   "source": [
    "## Cálculo da Área"
   ]
  },
  {
   "cell_type": "markdown",
   "metadata": {},
   "source": [
    "$$A =$$"
   ]
  },
  {
   "cell_type": "code",
   "execution_count": 16,
   "metadata": {},
   "outputs": [],
   "source": [
    "def area(data):\n",
    "    A = np.array([\n",
    "        [1,1,1],\n",
    "        [data[\"x\"][0],data[\"x\"][1],data[\"x\"][2]],\n",
    "        [data[\"y\"][0],data[\"y\"][1],data[\"y\"][2]]\n",
    "    ])\n",
    "    return np.linalg.det(A)/2"
   ]
  },
  {
   "cell_type": "markdown",
   "metadata": {},
   "source": [
    "## Cálculo de $\\mathbf{B}$"
   ]
  },
  {
   "cell_type": "markdown",
   "metadata": {},
   "source": [
    "$$\\mathbf{B} =$$"
   ]
  },
  {
   "cell_type": "code",
   "execution_count": 17,
   "metadata": {},
   "outputs": [],
   "source": [
    "def B(data):\n",
    "    x_1,x_2,x_3 = sp.symbols('x_1,x_2,x_3')\n",
    "    y_1,y_2,y_3 = sp.symbols('y_1,y_2,y_3')\n",
    "    A = sp.symbols('A')\n",
    "    B = (1/(2*A))*sp.Matrix([\n",
    "        [(y_2-y_3), 0, (y_3-y_1), 0, (y_1-y_2), 0],\n",
    "        [0, (x_3-x_2), 0, (x_1-x_3), 0, (x_2-x_1)],\n",
    "        [(x_3-x_2), (y_2-y_3), (x_1-x_3), (y_3-y_1), (x_2-x_1), (y_1-y_2)]\n",
    "    ])\n",
    "    return B.subs(x_1, data[\"x\"][0]).subs(x_2, data[\"x\"][1]).subs(x_3, data[\"x\"][2]).subs(y_1, data[\"y\"][0]).subs(y_2, data[\"y\"][1]).subs(y_3, data[\"y\"][2]).subs(A, area(data))"
   ]
  },
  {
   "cell_type": "markdown",
   "metadata": {},
   "source": [
    "## Cálculo de $\\mathbf{K}_{e}$"
   ]
  },
  {
   "cell_type": "markdown",
   "metadata": {},
   "source": [
    "$$\\mathbf{K}_{e} = $$"
   ]
  },
  {
   "cell_type": "code",
   "execution_count": 18,
   "metadata": {},
   "outputs": [],
   "source": [
    "def K_e(data,constantes,tipo=\"EPT\"):\n",
    "    B_el = B(data)\n",
    "    if tipo == \"EPT\":\n",
    "        D = Dept(constantes)\n",
    "        t = constantes[\"t\"][0]\n",
    "    else:\n",
    "        D = Depd(constantes)\n",
    "        t = 1\n",
    "    return t * B_el.transpose() @ D @ B_el * area(data)"
   ]
  },
  {
   "cell_type": "markdown",
   "metadata": {},
   "source": [
    "## Elemento 1"
   ]
  },
  {
   "cell_type": "code",
   "execution_count": 19,
   "metadata": {},
   "outputs": [
    {
     "output_type": "execute_result",
     "data": {
      "text/plain": "   Incidência  Nó   x   y\n0           1   1  75   0\n1           2   2  75  50\n2           3   4   0   0",
      "text/html": "<div>\n<style scoped>\n    .dataframe tbody tr th:only-of-type {\n        vertical-align: middle;\n    }\n\n    .dataframe tbody tr th {\n        vertical-align: top;\n    }\n\n    .dataframe thead th {\n        text-align: right;\n    }\n</style>\n<table border=\"1\" class=\"dataframe\">\n  <thead>\n    <tr style=\"text-align: right;\">\n      <th></th>\n      <th>Incidência</th>\n      <th>Nó</th>\n      <th>x</th>\n      <th>y</th>\n    </tr>\n  </thead>\n  <tbody>\n    <tr>\n      <th>0</th>\n      <td>1</td>\n      <td>1</td>\n      <td>75</td>\n      <td>0</td>\n    </tr>\n    <tr>\n      <th>1</th>\n      <td>2</td>\n      <td>2</td>\n      <td>75</td>\n      <td>50</td>\n    </tr>\n    <tr>\n      <th>2</th>\n      <td>3</td>\n      <td>4</td>\n      <td>0</td>\n      <td>0</td>\n    </tr>\n  </tbody>\n</table>\n</div>"
     },
     "metadata": {},
     "execution_count": 19
    }
   ],
   "source": [
    "el1 = pd.DataFrame({\n",
    "    \"Incidência\": [1,2,3],\n",
    "    \"Nó\": [1,2,4],\n",
    "    \"x\": [75,75,0],\n",
    "    \"y\": [0,50,0]\n",
    "})\n",
    "el1"
   ]
  },
  {
   "cell_type": "code",
   "execution_count": 20,
   "metadata": {},
   "outputs": [
    {
     "output_type": "execute_result",
     "data": {
      "text/plain": "⎡1764.1  -897.0   -807.3   358.8   -956.8  538.2 ⎤\n⎢                                                ⎥\n⎢-897.0  2511.6   538.2   -2152.8  358.8   -358.8⎥\n⎢                                                ⎥\n⎢-807.3   538.2   807.3      0       0     -538.2⎥\n⎢                                                ⎥\n⎢358.8   -2152.8    0     2152.8   -358.8    0   ⎥\n⎢                                                ⎥\n⎢-956.8   358.8     0     -358.8   956.8     0   ⎥\n⎢                                                ⎥\n⎣538.2   -358.8   -538.2     0       0     358.8 ⎦",
      "text/latex": "\\begin{equation*}\\left[\\begin{matrix}1764.1 & -897.0 & -807.3 & 358.8 & -956.8 & 538.2\\\\-897.0 & 2511.6 & 538.2 & -2152.8 & 358.8 & -358.8\\\\-807.3 & 538.2 & 807.3 & 0 & 0 & -538.2\\\\358.8 & -2152.8 & 0 & 2152.8 & -358.8 & 0\\\\-956.8 & 358.8 & 0 & -358.8 & 956.8 & 0\\\\538.2 & -358.8 & -538.2 & 0 & 0 & 358.8\\end{matrix}\\right]\\end{equation*}"
     },
     "metadata": {},
     "execution_count": 20
    }
   ],
   "source": [
    "K_1 = K_e(el1,geral,\"EPT\")\n",
    "K_1"
   ]
  },
  {
   "cell_type": "markdown",
   "metadata": {},
   "source": [
    "## Elemento 2"
   ]
  },
  {
   "cell_type": "code",
   "execution_count": 21,
   "metadata": {},
   "outputs": [
    {
     "output_type": "execute_result",
     "data": {
      "text/plain": "   Incidência  Nó   x   y\n0           1   3   0  50\n1           2   4   0   0\n2           3   2  75  50",
      "text/html": "<div>\n<style scoped>\n    .dataframe tbody tr th:only-of-type {\n        vertical-align: middle;\n    }\n\n    .dataframe tbody tr th {\n        vertical-align: top;\n    }\n\n    .dataframe thead th {\n        text-align: right;\n    }\n</style>\n<table border=\"1\" class=\"dataframe\">\n  <thead>\n    <tr style=\"text-align: right;\">\n      <th></th>\n      <th>Incidência</th>\n      <th>Nó</th>\n      <th>x</th>\n      <th>y</th>\n    </tr>\n  </thead>\n  <tbody>\n    <tr>\n      <th>0</th>\n      <td>1</td>\n      <td>3</td>\n      <td>0</td>\n      <td>50</td>\n    </tr>\n    <tr>\n      <th>1</th>\n      <td>2</td>\n      <td>4</td>\n      <td>0</td>\n      <td>0</td>\n    </tr>\n    <tr>\n      <th>2</th>\n      <td>3</td>\n      <td>2</td>\n      <td>75</td>\n      <td>50</td>\n    </tr>\n  </tbody>\n</table>\n</div>"
     },
     "metadata": {},
     "execution_count": 21
    }
   ],
   "source": [
    "el2 = pd.DataFrame({\n",
    "    \"Incidência\": [1,2,3],\n",
    "    \"Nó\": [3,4,2],\n",
    "    \"x\": [0,0,75],\n",
    "    \"y\": [50,0,50]\n",
    "})\n",
    "el2"
   ]
  },
  {
   "cell_type": "code",
   "execution_count": 22,
   "metadata": {},
   "outputs": [
    {
     "output_type": "execute_result",
     "data": {
      "text/plain": "⎡1764.1  -897.0   -807.3   358.8   -956.8  538.2 ⎤\n⎢                                                ⎥\n⎢-897.0  2511.6   538.2   -2152.8  358.8   -358.8⎥\n⎢                                                ⎥\n⎢-807.3   538.2   807.3      0       0     -538.2⎥\n⎢                                                ⎥\n⎢358.8   -2152.8    0     2152.8   -358.8    0   ⎥\n⎢                                                ⎥\n⎢-956.8   358.8     0     -358.8   956.8     0   ⎥\n⎢                                                ⎥\n⎣538.2   -358.8   -538.2     0       0     358.8 ⎦",
      "text/latex": "\\begin{equation*}\\left[\\begin{matrix}1764.1 & -897.0 & -807.3 & 358.8 & -956.8 & 538.2\\\\-897.0 & 2511.6 & 538.2 & -2152.8 & 358.8 & -358.8\\\\-807.3 & 538.2 & 807.3 & 0 & 0 & -538.2\\\\358.8 & -2152.8 & 0 & 2152.8 & -358.8 & 0\\\\-956.8 & 358.8 & 0 & -358.8 & 956.8 & 0\\\\538.2 & -358.8 & -538.2 & 0 & 0 & 358.8\\end{matrix}\\right]\\end{equation*}"
     },
     "metadata": {},
     "execution_count": 22
    }
   ],
   "source": [
    "K_2 = K_e(el2,geral,\"EPT\")\n",
    "K_2"
   ]
  },
  {
   "cell_type": "markdown",
   "metadata": {},
   "source": []
  },
  {
   "cell_type": "markdown",
   "metadata": {},
   "source": [
    "## Montagem de $\\mathbf{K}_g$"
   ]
  },
  {
   "cell_type": "markdown",
   "metadata": {},
   "source": [
    "$$\\mathbf{K}_{g} =$$"
   ]
  },
  {
   "cell_type": "code",
   "execution_count": 23,
   "metadata": {},
   "outputs": [],
   "source": [
    "def K_g(n,datalist,constantes,tipo=\"EPT\"):\n",
    "    K = np.zeros([2*n,2*n])\n",
    "    for el in datalist:\n",
    "        K_loc = K_e(el,constantes,tipo)\n",
    "        for k in range(3):\n",
    "            for l in range(3):\n",
    "                i = el[\"Nó\"][el[\"Incidência\"][k] - 1] - 1\n",
    "                j = el[\"Nó\"][el[\"Incidência\"][l] - 1] - 1\n",
    "                K[2*i:2*i+2,2*j:2*j+2] += K_loc[2*k:2*k+2,2*l:2*l+2]\n",
    "    return K"
   ]
  },
  {
   "cell_type": "markdown",
   "metadata": {},
   "source": [
    "Assim, temos a seguinte Matriz de Rigidez Global para o Exemplo:"
   ]
  },
  {
   "cell_type": "code",
   "execution_count": 24,
   "metadata": {
    "tags": []
   },
   "outputs": [
    {
     "output_type": "execute_result",
     "data": {
      "text/plain": "array([[ 1764.1,  -897. ,  -807.3,   358.8,     0. ,     0. ,  -956.8,\n          538.2],\n       [ -897. ,  2511.6,   538.2, -2152.8,     0. ,     0. ,   358.8,\n         -358.8],\n       [ -807.3,   538.2,  1764.1,     0. ,  -956.8,   358.8,     0. ,\n         -897. ],\n       [  358.8, -2152.8,     0. ,  2511.6,   538.2,  -358.8,  -897. ,\n            0. ],\n       [    0. ,     0. ,  -956.8,   538.2,  1764.1,  -897. ,  -807.3,\n          358.8],\n       [    0. ,     0. ,   358.8,  -358.8,  -897. ,  2511.6,   538.2,\n        -2152.8],\n       [ -956.8,   358.8,     0. ,  -897. ,  -807.3,   538.2,  1764.1,\n            0. ],\n       [  538.2,  -358.8,  -897. ,     0. ,   358.8, -2152.8,     0. ,\n         2511.6]])"
     },
     "metadata": {},
     "execution_count": 24
    }
   ],
   "source": [
    "K = K_g(4,[el1,el2],geral,\"EPT\")\n",
    "K"
   ]
  },
  {
   "cell_type": "markdown",
   "metadata": {},
   "source": [
    "## Vetor de Cargas Nodais"
   ]
  },
  {
   "cell_type": "code",
   "execution_count": 25,
   "metadata": {},
   "outputs": [
    {
     "output_type": "execute_result",
     "data": {
      "text/plain": "array([    0.,    nan,     0., -4450.,    nan,    nan,    nan,    nan])"
     },
     "metadata": {},
     "execution_count": 25
    }
   ],
   "source": [
    "f = np.array([0,np.nan,0,-4450,np.nan,np.nan,np.nan,np.nan])\n",
    "f"
   ]
  },
  {
   "cell_type": "markdown",
   "metadata": {},
   "source": [
    "## Vetor de Deslocamentos"
   ]
  },
  {
   "cell_type": "code",
   "execution_count": 26,
   "metadata": {},
   "outputs": [
    {
     "output_type": "execute_result",
     "data": {
      "text/plain": "array([nan,  0., nan, nan,  0.,  0.,  0.,  0.])"
     },
     "metadata": {},
     "execution_count": 26
    }
   ],
   "source": [
    "u = np.array([np.nan,0,np.nan,np.nan,0,0,0,0])\n",
    "u"
   ]
  },
  {
   "cell_type": "markdown",
   "metadata": {},
   "source": [
    "## Redução do Sistema"
   ]
  },
  {
   "cell_type": "markdown",
   "metadata": {},
   "source": [
    "A função abaixo recebe um sistema com valores conhecidos, reduz o sistema, resolve o sistema reduzido e, em seguida, restaura a solução devolvendo os valores conhecidos."
   ]
  },
  {
   "cell_type": "code",
   "execution_count": 27,
   "metadata": {},
   "outputs": [],
   "source": [
    "def solve(A,x,b):\n",
    "    n = x.shape[0]\n",
    "    sol = x.copy()\n",
    "    b_r = b.copy()\n",
    "    A_r = A.copy()\n",
    "    for i in range(n):\n",
    "        if not np.isnan(x[i]):\n",
    "            b_r -= x[i]*A[:,i]\n",
    "    for i in range(n):\n",
    "        k = n - 1 - i\n",
    "        if np.isnan(b[k]):\n",
    "            A_r = np.delete(A_r,k,0)\n",
    "            A_r = np.delete(A_r,k,1)\n",
    "            b_r = np.delete(b_r,k,0)\n",
    "    x_r = np.linalg.solve(A_r,b_r)\n",
    "    k = 0\n",
    "    for i in range(n):\n",
    "        if np.isnan(sol[i]):\n",
    "            sol[i] = x_r[k]\n",
    "            k += 1\n",
    "    return sol"
   ]
  },
  {
   "cell_type": "markdown",
   "metadata": {},
   "source": [
    "## Solução do Vetor de Deslocamentos"
   ]
  },
  {
   "cell_type": "code",
   "execution_count": 28,
   "metadata": {
    "tags": []
   },
   "outputs": [
    {
     "output_type": "execute_result",
     "data": {
      "text/plain": "array([ 0.47321279,  0.        ,  0.216555  , -1.83938077,  0.        ,\n        0.        ,  0.        ,  0.        ])"
     },
     "metadata": {},
     "execution_count": 28
    }
   ],
   "source": [
    "u = solve(K,u,f)\n",
    "u"
   ]
  },
  {
   "cell_type": "markdown",
   "metadata": {},
   "source": [
    "## Cálculo das Deformações"
   ]
  },
  {
   "cell_type": "markdown",
   "metadata": {},
   "source": [
    "Com o sistema resolvido, utilizaremos uma função análoga aos índices globais utilizados na matriz $\\mathbf{K}_{g}$ para encontrar o vetor de deslocamentos do elemento."
   ]
  },
  {
   "cell_type": "markdown",
   "metadata": {},
   "source": [
    "$$\\vec{u}_{e} =$$"
   ]
  },
  {
   "cell_type": "code",
   "execution_count": 29,
   "metadata": {},
   "outputs": [],
   "source": [
    "def u_e(el,u):\n",
    "    u_el = np.zeros(6)\n",
    "    for k in range(3):\n",
    "        i = el[\"Nó\"][el[\"Incidência\"][k] - 1] - 1\n",
    "        u_el[2*k:2*k+2] = u[2*i:2*i+2]\n",
    "    return u_el"
   ]
  },
  {
   "cell_type": "markdown",
   "metadata": {},
   "source": [
    "Assim, podemos calcular as deformações.\n",
    "\n",
    "$$\\vec{\\varepsilon}_{e} =$$"
   ]
  },
  {
   "cell_type": "code",
   "execution_count": 30,
   "metadata": {
    "tags": []
   },
   "outputs": [],
   "source": [
    "def epsilon_e(el,u):\n",
    "    B_l = B(el)\n",
    "    u_el = u_e(el,u)\n",
    "    return B_l @ u_el"
   ]
  },
  {
   "cell_type": "markdown",
   "metadata": {},
   "source": [
    "## Cálculo das Tensões"
   ]
  },
  {
   "cell_type": "markdown",
   "metadata": {},
   "source": [
    "A partir das deformações no elemento, podemos calcular as tensões.\n",
    "\n",
    "$$\\vec{\\sigma}_{e} =$$"
   ]
  },
  {
   "cell_type": "code",
   "execution_count": 31,
   "metadata": {},
   "outputs": [],
   "source": [
    "def sigma_e():\n",
    "    return"
   ]
  }
 ]
}