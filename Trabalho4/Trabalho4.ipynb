{
 "metadata": {
  "language_info": {
   "codemirror_mode": {
    "name": "ipython",
    "version": 3
   },
   "file_extension": ".py",
   "mimetype": "text/x-python",
   "name": "python",
   "nbconvert_exporter": "python",
   "pygments_lexer": "ipython3",
   "version": "3.8.2-final"
  },
  "orig_nbformat": 2,
  "kernelspec": {
   "name": "python3",
   "display_name": "Python 3"
  }
 },
 "nbformat": 4,
 "nbformat_minor": 2,
 "cells": [
  {
   "cell_type": "markdown",
   "metadata": {},
   "source": [
    "# Método dos Elementos Finitos - Trabalho 4"
   ]
  },
  {
   "cell_type": "markdown",
   "metadata": {},
   "source": [
    "Universidade Federal Fluminense\n",
    "\n",
    "Disciplina ministrada pelo Prof. Marco Ferro\n",
    "\n",
    "<marcoferro@id.uff.br>\n",
    "\n",
    "Aluno Noé de Lima\n",
    "\n",
    "<noe_lima@id.uff.br>\n",
    "\n",
    "Este trabalho visa aplicar o MEF ao Estado Plano de Tensões (EPT).\n",
    "\n",
    "Primeiro semestre de 2020\n",
    "\n",
    "\\vfill"
   ]
  },
  {
   "cell_type": "markdown",
   "metadata": {},
   "source": [
    "A célula a seguir configura o Jupyter-Notebook para exibir as equações matemáticas no formato do ambiente $\\LaTeX$ e importa as bibliotecas necessárias."
   ]
  },
  {
   "cell_type": "code",
   "execution_count": 1,
   "metadata": {
    "tags": []
   },
   "outputs": [
    {
     "output_type": "stream",
     "name": "stdout",
     "text": "Linux DESKTOP-CR7O8A2 4.19.104-microsoft-standard #1 SMP Wed Feb 19 06:37:35 UTC 2020 x86_64 x86_64 x86_64 GNU/Linux\n"
    }
   ],
   "source": [
    "import numpy as np\n",
    "import sympy as sp\n",
    "import json\n",
    "from sympy.vector import CoordSys3D, divergence\n",
    "sp.init_printing(use_latex='mathjax',latex_mode='equation*')\n",
    "!uname -a"
   ]
  },
  {
   "cell_type": "markdown",
   "metadata": {},
   "source": [
    "\\cleardoublepage\n",
    "\n",
    "\\tableofcontents\n",
    "\n",
    "\\cleardoublepage"
   ]
  },
  {
   "cell_type": "markdown",
   "metadata": {},
   "source": [
    "# Introdução"
   ]
  },
  {
   "cell_type": "markdown",
   "metadata": {},
   "source": [
    "O Estado Plano de Tenção - EPT ou o Estado Plano de Deformação - EPD, caracterizam-se por serem estruturas planares (no plano $xy$), com carregaemntos, reações de apoio, restrições e deformações igualmente planares. Tais estruturas têm, na direção $z$, espessura fixa constante $t$. As condições que definem e diferenciam o EPT e o EPD estão relacionadas às restrições na direção $z$.\n",
    "\n",
    "Temos, na dereção $z$, das faces do plano, as seguintes variáveis de Tensão $\\times$ Deformação: $\\sigma_{z}$ e $\\epsilon_{z}$.\n",
    "\n",
    "Portanto, segue que:\n",
    "\n",
    "No EPT: $\\sigma_{z}=0$;\n",
    "\n",
    "No EPD: $\\epsilon_{z}=0$.\n",
    "\n",
    "O EPT tem, portanto, suas faces livres, sem tensões de reação e liberdade de deformação. Tal é a situação em chapas, onde uma estrutura plana recebe carregamentos no mesmo plano da face, e não recebe carregamentos transversais (como nas placas ou lages). Nessa configuração, a espessura $t$ da chapa pode variar, pois não há tensão de reação na direção $z$.\n",
    "\n",
    "Já o EPD é caracterizado por uma restrição de deformação, já que há reação de tensão na direção $z$ que restringe a deformação. Nessa configuração, portanto, a espessura $t$ não varia. Este é o caso onde o plano compõe uma seção transversão de uma estrutura maior, como um muro de arrimo ou uma barragem de represa. Neste caso, a espessura é fixa e definida como $t=1$, sendo as tensões definidas em termos de comprimento de muro ou barragem.\n",
    "\n",
    "As variáveis simbólicas definidas abaixo serão utilizadas na análise subsequente."
   ]
  },
  {
   "cell_type": "code",
   "execution_count": 2,
   "metadata": {},
   "outputs": [],
   "source": [
    "E,nu = sp.symbols('E,nu')\n",
    "G = E/(2*(1+nu))"
   ]
  },
  {
   "cell_type": "markdown",
   "metadata": {},
   "source": [
    "Sendo,\n",
    "\n",
    "* $E$ o Módulo de Elasticidade Longitudinal;\n",
    "\n",
    "* $\\nu$ a constante de Poisson do material; elastica; e\n",
    "\n",
    "* $G$ o Módulo de Elasticidade Transversal."
   ]
  },
  {
   "cell_type": "code",
   "execution_count": 3,
   "metadata": {},
   "outputs": [],
   "source": [
    "\n",
    "sigma_x,sigma_y,sigma_z = sp.symbols('sigma_x,sigma_y,sigma_z')\n",
    "tau_xy,tau_yz,tau_zx = sp.symbols('tau_xy,tau_yz,tau_zx')\n",
    "epsilon_x,epsilon_y,epsilon_z = sp.symbols('epsilon_x,epsilon_y,epsilon_z')\n",
    "gamma_xy,gamma_yz,gamma_zx = sp.symbols('gamma_xy,gamma_yz,gamma_zx')"
   ]
  },
  {
   "cell_type": "markdown",
   "metadata": {},
   "source": [
    "Onde,\n",
    "\n",
    "* $\\sigma_{x}$, $\\sigma_{y}$ e $\\sigma_{z}$ são, respectivamente, as tensões normais nas direções $x$, $y$ e $z$;\n",
    "\n",
    "* $\\tau_{xy}$, $\\tau_{yz}$ e $\\tau_{zx}$ são, respectivamente, as tensões cisalhantes nas direções $xy$, $yz$ e $zx$;\n",
    "\n",
    "* $\\varepsilon_{x}$, $\\varepsilon_{y}$ e $\\varepsilon_{z}$ são, respectivamente, as deformações lineares em $x$ e $y$ e $z$;\n",
    "\n",
    "* $\\gamma_{xy}$, $\\gamma_{yz}$ e $\\gamma_{zx}$ são, respectivamente, as deformações angulares nas direções $xy$, $yz$ e $zx$."
   ]
  },
  {
   "cell_type": "markdown",
   "metadata": {},
   "source": [
    "A partir das restrições do sistema bidimensional, temos o seguinte Vetor de Tensões $\\vec{\\sigma}$:"
   ]
  },
  {
   "cell_type": "code",
   "execution_count": 4,
   "metadata": {},
   "outputs": [
    {
     "output_type": "display_data",
     "data": {
      "text/plain": "⎡ σₓ ⎤\n⎢    ⎥\n⎢σ_y ⎥\n⎢    ⎥\n⎣τ_xy⎦",
      "text/latex": "\\begin{equation*}\\left[\\begin{matrix}\\sigma_{x}\\\\\\sigma_{y}\\\\\\tau_{xy}\\end{matrix}\\right]\\end{equation*}"
     },
     "metadata": {}
    }
   ],
   "source": [
    "sigma = sp.Matrix([sigma_x,sigma_y,tau_xy])\n",
    "display(sigma)"
   ]
  },
  {
   "cell_type": "markdown",
   "metadata": {},
   "source": [
    "Bem como o Vetor de Deformações $\\vec{\\varepsilon}$:"
   ]
  },
  {
   "cell_type": "code",
   "execution_count": 5,
   "metadata": {},
   "outputs": [
    {
     "output_type": "display_data",
     "data": {
      "text/plain": "⎡ εₓ ⎤\n⎢    ⎥\n⎢ε_y ⎥\n⎢    ⎥\n⎣γ_xy⎦",
      "text/latex": "\\begin{equation*}\\left[\\begin{matrix}\\epsilon_{x}\\\\\\epsilon_{y}\\\\\\gamma_{xy}\\end{matrix}\\right]\\end{equation*}"
     },
     "metadata": {}
    }
   ],
   "source": [
    "epsilon = sp.Matrix([epsilon_x,epsilon_y,gamma_xy])\n",
    "display(epsilon)"
   ]
  },
  {
   "cell_type": "markdown",
   "metadata": {},
   "source": []
  },
  {
   "cell_type": "markdown",
   "metadata": {},
   "source": [
    "Temos também a matriz $\\mathbf{D}$, em função de $E_{var}$ e $\\nu_{var}$:"
   ]
  },
  {
   "cell_type": "code",
   "execution_count": 6,
   "metadata": {},
   "outputs": [
    {
     "output_type": "display_data",
     "data": {
      "text/plain": "⎡   Eᵥₐᵣ    Eᵥₐᵣ⋅νᵥₐᵣ                 ⎤\n⎢─────────  ─────────         0       ⎥\n⎢        2          2                 ⎥\n⎢1 - νᵥₐᵣ   1 - νᵥₐᵣ                  ⎥\n⎢                                     ⎥\n⎢Eᵥₐᵣ⋅νᵥₐᵣ     Eᵥₐᵣ                   ⎥\n⎢─────────  ─────────         0       ⎥\n⎢        2          2                 ⎥\n⎢1 - νᵥₐᵣ   1 - νᵥₐᵣ                  ⎥\n⎢                                     ⎥\n⎢                           ⎛1   νᵥₐᵣ⎞⎥\n⎢                      Eᵥₐᵣ⋅⎜─ - ────⎟⎥\n⎢                           ⎝2    2  ⎠⎥\n⎢    0          0      ───────────────⎥\n⎢                                 2   ⎥\n⎣                         1 - νᵥₐᵣ    ⎦",
      "text/latex": "\\begin{equation*}\\left[\\begin{matrix}\\frac{E_{var}}{1 - \\nu_{var}^{2}} & \\frac{E_{var} \\nu_{var}}{1 - \\nu_{var}^{2}} & 0\\\\\\frac{E_{var} \\nu_{var}}{1 - \\nu_{var}^{2}} & \\frac{E_{var}}{1 - \\nu_{var}^{2}} & 0\\\\0 & 0 & \\frac{E_{var} \\left(\\frac{1}{2} - \\frac{\\nu_{var}}{2}\\right)}{1 - \\nu_{var}^{2}}\\end{matrix}\\right]\\end{equation*}"
     },
     "metadata": {}
    }
   ],
   "source": [
    "E_var,nu_var = sp.symbols('E_var,nu_var')\n",
    "D_var = (E_var/(1-nu_var**2))*sp.Matrix([[1,nu_var,0],[nu_var,1,0],[0,0,(1-nu_var)/2]])\n",
    "display(D_var)"
   ]
  },
  {
   "cell_type": "markdown",
   "metadata": {},
   "source": [
    "A equação do sistema, então, fica:"
   ]
  },
  {
   "cell_type": "code",
   "execution_count": 7,
   "metadata": {},
   "outputs": [
    {
     "output_type": "display_data",
     "data": {
      "text/plain": "         ⎡ Eᵥₐᵣ⋅εₓ    Eᵥₐᵣ⋅ε_y⋅νᵥₐᵣ⎤\n         ⎢───────── + ─────────────⎥\n         ⎢        2             2  ⎥\n         ⎢1 - νᵥₐᵣ      1 - νᵥₐᵣ   ⎥\n         ⎢                         ⎥\n         ⎢Eᵥₐᵣ⋅εₓ⋅νᵥₐᵣ    Eᵥₐᵣ⋅ε_y ⎥\n⎡ σₓ ⎤   ⎢──────────── + ───────── ⎥\n⎢    ⎥   ⎢         2             2 ⎥\n⎢σ_y ⎥ = ⎢ 1 - νᵥₐᵣ      1 - νᵥₐᵣ  ⎥\n⎢    ⎥   ⎢                         ⎥\n⎣τ_xy⎦   ⎢            ⎛1   νᵥₐᵣ⎞   ⎥\n         ⎢  Eᵥₐᵣ⋅γ_xy⋅⎜─ - ────⎟   ⎥\n         ⎢            ⎝2    2  ⎠   ⎥\n         ⎢  ────────────────────   ⎥\n         ⎢               2         ⎥\n         ⎣       1 - νᵥₐᵣ          ⎦",
      "text/latex": "\\begin{equation*}\\left[\\begin{matrix}\\sigma_{x}\\\\\\sigma_{y}\\\\\\tau_{xy}\\end{matrix}\\right] = \\left[\\begin{matrix}\\frac{E_{var} \\epsilon_{x}}{1 - \\nu_{var}^{2}} + \\frac{E_{var} \\epsilon_{y} \\nu_{var}}{1 - \\nu_{var}^{2}}\\\\\\frac{E_{var} \\epsilon_{x} \\nu_{var}}{1 - \\nu_{var}^{2}} + \\frac{E_{var} \\epsilon_{y}}{1 - \\nu_{var}^{2}}\\\\\\frac{E_{var} \\gamma_{xy} \\left(\\frac{1}{2} - \\frac{\\nu_{var}}{2}\\right)}{1 - \\nu_{var}^{2}}\\end{matrix}\\right]\\end{equation*}"
     },
     "metadata": {}
    }
   ],
   "source": [
    "eq = sp.Eq(sigma, D_var*epsilon)\n",
    "display(eq)"
   ]
  },
  {
   "cell_type": "markdown",
   "metadata": {},
   "source": [
    "# Estado Plano de Tensão - EPT"
   ]
  },
  {
   "cell_type": "markdown",
   "metadata": {},
   "source": [
    "As condições de contorno do EPT, conforme definido na introdução, podem ser definidas matematicamente como:\n",
    "\n",
    "\\begin{equation*}\n",
    "    \\left\\{\\begin{matrix}\n",
    "        \\sigma_{z}  & = &   0 \\\\\n",
    "        \\tau_{yz}   & = &   0 \\\\\n",
    "        \\tau_{zx}   & = &   0\n",
    "    \\end{matrix}\\right.\n",
    "\\end{equation*}\n",
    "\n",
    "E,\n",
    "\n",
    "\\begin{equation*}\n",
    "    \\varepsilon_{z} = -\\frac{\\nu}{E}\\left(\\sigma_{x}+\\sigma_{y}\\right) \\neq 0\n",
    "\\end{equation*}\n",
    "\n",
    "Nessas condições, temos:\n",
    "\n",
    "\\begin{equation*}\n",
    "    \\left\\{\\begin{matrix}\n",
    "        E_{var}     & = &   E \\\\\n",
    "        \\nu_{var}   & = &   \\nu\n",
    "    \\end{matrix}\\right.\n",
    "\\end{equation*}\n",
    "\n",
    "Logo, $\\mathbf{D}_{EPT}$ ="
   ]
  },
  {
   "cell_type": "code",
   "execution_count": 8,
   "metadata": {},
   "outputs": [
    {
     "output_type": "display_data",
     "data": {
      "text/plain": "         ⎡ E⋅εₓ    E⋅ε_y⋅ν⎤\n         ⎢────── + ───────⎥\n         ⎢     2         2⎥\n         ⎢1 - ν     1 - ν ⎥\n         ⎢                ⎥\n         ⎢E⋅εₓ⋅ν   E⋅ε_y  ⎥\n⎡ σₓ ⎤   ⎢────── + ────── ⎥\n⎢    ⎥   ⎢     2        2 ⎥\n⎢σ_y ⎥ = ⎢1 - ν    1 - ν  ⎥\n⎢    ⎥   ⎢                ⎥\n⎣τ_xy⎦   ⎢        ⎛1   ν⎞ ⎥\n         ⎢ E⋅γ_xy⋅⎜─ - ─⎟ ⎥\n         ⎢        ⎝2   2⎠ ⎥\n         ⎢ ────────────── ⎥\n         ⎢          2     ⎥\n         ⎣     1 - ν      ⎦",
      "text/latex": "\\begin{equation*}\\left[\\begin{matrix}\\sigma_{x}\\\\\\sigma_{y}\\\\\\tau_{xy}\\end{matrix}\\right] = \\left[\\begin{matrix}\\frac{E \\epsilon_{x}}{1 - \\nu^{2}} + \\frac{E \\epsilon_{y} \\nu}{1 - \\nu^{2}}\\\\\\frac{E \\epsilon_{x} \\nu}{1 - \\nu^{2}} + \\frac{E \\epsilon_{y}}{1 - \\nu^{2}}\\\\\\frac{E \\gamma_{xy} \\left(\\frac{1}{2} - \\frac{\\nu}{2}\\right)}{1 - \\nu^{2}}\\end{matrix}\\right]\\end{equation*}"
     },
     "metadata": {}
    }
   ],
   "source": [
    "ept = eq.subs(E_var,E).subs(nu_var,nu)\n",
    "display(ept)"
   ]
  },
  {
   "cell_type": "markdown",
   "metadata": {},
   "source": []
  },
  {
   "cell_type": "code",
   "execution_count": null,
   "metadata": {},
   "outputs": [],
   "source": []
  },
  {
   "cell_type": "markdown",
   "metadata": {},
   "source": [
    "# Estado Plano de Deformação"
   ]
  },
  {
   "cell_type": "markdown",
   "metadata": {},
   "source": [
    "As condições de contorno do EPD, conforme definido na introdução, podem ser definidas matematicamente como:\n",
    "\n",
    "\\begin{equation*}\n",
    "    \\left\\{\\begin{matrix}\n",
    "        \\varepsilon_{z}    & = &   0 \\\\\n",
    "        \\gamma_{yz}     & = &   0 \\\\\n",
    "        \\gamma_{zx}     & = &   0\n",
    "    \\end{matrix}\\right.\n",
    "\\end{equation*}\n",
    "\n",
    "E,\n",
    "\n",
    "\\begin{equation*}\n",
    "    \\sigma_{z} = \\nu\\left(\\sigma_{x}+\\sigma_{y}\\right) \\neq 0\n",
    "\\end{equation*}\n",
    "\n",
    "Nessas condições, temos:\n",
    "\n",
    "\\begin{equation*}\n",
    "    \\left\\{\\begin{matrix}\n",
    "        E_{var}     & = &   \\frac{E}{1-\\nu^{2}} \\\\\n",
    "        \\nu_{var}   & = &   \\frac{\\nu}{1-\\nu}\n",
    "    \\end{matrix}\\right.\n",
    "\\end{equation*}\n",
    "\n",
    "Logo, $\\mathbf{D}_{EPD}$ ="
   ]
  },
  {
   "cell_type": "code",
   "execution_count": 9,
   "metadata": {},
   "outputs": [
    {
     "output_type": "display_data",
     "data": {
      "text/plain": "         ⎡           E⋅εₓ                          E⋅ε_y⋅ν             ⎤\n         ⎢───────────────────────── + ─────────────────────────────────⎥\n         ⎢         ⎛      2       ⎞                    ⎛      2       ⎞⎥\n         ⎢⎛     2⎞ ⎜     ν        ⎟           ⎛     2⎞ ⎜     ν        ⎟⎥\n         ⎢⎝1 - ν ⎠⋅⎜- ──────── + 1⎟   (1 - ν)⋅⎝1 - ν ⎠⋅⎜- ──────── + 1⎟⎥\n         ⎢         ⎜         2    ⎟                    ⎜         2    ⎟⎥\n         ⎢         ⎝  (1 - ν)     ⎠                    ⎝  (1 - ν)     ⎠⎥\n         ⎢                                                             ⎥\n         ⎢              E⋅εₓ⋅ν                          E⋅ε_y          ⎥\n         ⎢───────────────────────────────── + ─────────────────────────⎥\n⎡ σₓ ⎤   ⎢                 ⎛      2       ⎞            ⎛      2       ⎞⎥\n⎢    ⎥   ⎢        ⎛     2⎞ ⎜     ν        ⎟   ⎛     2⎞ ⎜     ν        ⎟⎥\n⎢σ_y ⎥ = ⎢(1 - ν)⋅⎝1 - ν ⎠⋅⎜- ──────── + 1⎟   ⎝1 - ν ⎠⋅⎜- ──────── + 1⎟⎥\n⎢    ⎥   ⎢                 ⎜         2    ⎟            ⎜         2    ⎟⎥\n⎣τ_xy⎦   ⎢                 ⎝  (1 - ν)     ⎠            ⎝  (1 - ν)     ⎠⎥\n         ⎢                                                             ⎥\n         ⎢                          ⎛      ν       1⎞                  ⎥\n         ⎢                   E⋅γ_xy⋅⎜- ───────── + ─⎟                  ⎥\n         ⎢                          ⎝  2⋅(1 - ν)   2⎠                  ⎥\n         ⎢                  ─────────────────────────                  ⎥\n         ⎢                           ⎛      2       ⎞                  ⎥\n         ⎢                  ⎛     2⎞ ⎜     ν        ⎟                  ⎥\n         ⎢                  ⎝1 - ν ⎠⋅⎜- ──────── + 1⎟                  ⎥\n         ⎢                           ⎜         2    ⎟                  ⎥\n         ⎣                           ⎝  (1 - ν)     ⎠                  ⎦",
      "text/latex": "\\begin{equation*}\\left[\\begin{matrix}\\sigma_{x}\\\\\\sigma_{y}\\\\\\tau_{xy}\\end{matrix}\\right] = \\left[\\begin{matrix}\\frac{E \\epsilon_{x}}{\\left(1 - \\nu^{2}\\right) \\left(- \\frac{\\nu^{2}}{\\left(1 - \\nu\\right)^{2}} + 1\\right)} + \\frac{E \\epsilon_{y} \\nu}{\\left(1 - \\nu\\right) \\left(1 - \\nu^{2}\\right) \\left(- \\frac{\\nu^{2}}{\\left(1 - \\nu\\right)^{2}} + 1\\right)}\\\\\\frac{E \\epsilon_{x} \\nu}{\\left(1 - \\nu\\right) \\left(1 - \\nu^{2}\\right) \\left(- \\frac{\\nu^{2}}{\\left(1 - \\nu\\right)^{2}} + 1\\right)} + \\frac{E \\epsilon_{y}}{\\left(1 - \\nu^{2}\\right) \\left(- \\frac{\\nu^{2}}{\\left(1 - \\nu\\right)^{2}} + 1\\right)}\\\\\\frac{E \\gamma_{xy} \\left(- \\frac{\\nu}{2 \\left(1 - \\nu\\right)} + \\frac{1}{2}\\right)}{\\left(1 - \\nu^{2}\\right) \\left(- \\frac{\\nu^{2}}{\\left(1 - \\nu\\right)^{2}} + 1\\right)}\\end{matrix}\\right]\\end{equation*}"
     },
     "metadata": {}
    }
   ],
   "source": [
    "epd = eq.subs(E_var,E/(1-nu**2)).subs(nu_var,nu/(1-nu))\n",
    "display(epd)"
   ]
  },
  {
   "cell_type": "markdown",
   "metadata": {},
   "source": []
  }
 ]
}