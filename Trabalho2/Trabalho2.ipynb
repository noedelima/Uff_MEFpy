{
 "cells": [
  {
   "cell_type": "markdown",
   "metadata": {},
   "source": [
    "# Método dos Elementos Finitos - Trabalho 2"
   ]
  },
  {
   "cell_type": "markdown",
   "metadata": {},
   "source": [
    "Este trabalho visa aplicar o MEF a uma estrutura de treliças.\n",
    "\n",
    "Para tanto, deverá ler um arquivo em disco com os dados da treliça para resolver via código em Python.\n",
    "\n",
    "Após ler o arquivo, o código abaixo gera um objeto de classe própria com as propriedades do sistema contido no arquivo.\n",
    "\n",
    "A seguir o arquivo lido e suas principais características."
   ]
  },
  {
   "cell_type": "code",
   "execution_count": 1,
   "metadata": {},
   "outputs": [],
   "source": [
    "%display latex\n",
    "import functions as fct"
   ]
  },
  {
   "cell_type": "code",
   "execution_count": 2,
   "metadata": {},
   "outputs": [
    {
     "output_type": "stream",
     "name": "stdout",
     "text": "Sistema de 3 nós\nA interligação entre os nós pode ser representada pela seguinte matriz:\n[[0.    0.001 0.001]\n [0.001 0.    0.001]\n [0.001 0.001 0.   ]]\nOnde os elementos fora da diagonal principal representam os valores de 1/EA da barra entre os nós respectivos.\nA matriz abaixo representa as cargas no nó:\n[[ 0.  0.  0.]\n [ 0.  0.  0.]\n [ 1. -1.  0.]]\nOnde a linha representa o nó e a coluna as dimensões x, y e z, respectivamente.\nAbaixo, temos as seguintes configurações para os nós (coordenada x,y,z e se há apoio na direção):\nNó 1 (0.0, 0.0, 0.0) --> [Rx:True    Ry:True    Rz:False]\nNó 2 (1.0, 0.0, 0.0) --> [Rx:False    Ry:True    Rz:False]\nNó 3 (1.0, 1.0, 0.0) --> [Rx:False    Ry:False    Rz:False]\n"
    }
   ],
   "source": [
    "tr = fct.trelica(\"trelica.json\")\n",
    "print('Sistema de {} nós'.format(tr.n))\n",
    "print('A interligação entre os nós pode ser representada pela seguinte matriz:\\n{}\\nOnde os elementos fora da diagonal principal representam os valores de 1/EA da barra entre os nós respectivos.'.format(tr.barras))\n",
    "print('A matriz abaixo representa as cargas no nó:\\n{}\\nOnde a linha representa o nó e a coluna as dimensões x, y e z, respectivamente.'.format(tr.cargas))\n",
    "print('Abaixo, temos as seguintes configurações para os nós (coordenada x,y,z e se há apoio na direção):')\n",
    "for n in tr.nos:\n",
    "    print(n.tag, '({}, {}, {})'.format(n.x, n.y, n.z), '--> [Rx:{}    Ry:{}    Rz:{}]'.format(n.Rx, n.Ry, n.Rz))"
   ]
  },
  {
   "cell_type": "code",
   "execution_count": 3,
   "metadata": {},
   "outputs": [
    {
     "output_type": "display_data",
     "data": {
      "text/html": "<html><script type=\"math/tex; mode=display\">\\newcommand{\\Bold}[1]{\\mathbf{#1}}\\frac{\\partial^{2}}{(\\partial x)^{2}}u\\left(x\\right) = 0</script></html>",
      "text/plain": "diff(u(x), x, x) == 0"
     },
     "metadata": {}
    }
   ],
   "source": [
    "x,N = var('x,N')\n",
    "u = function('u')(x)\n",
    "eq = diff(u,x,2) == 0\n",
    "eq.show()"
   ]
  },
  {
   "cell_type": "code",
   "execution_count": 4,
   "metadata": {},
   "outputs": [
    {
     "output_type": "display_data",
     "data": {
      "text/html": "<html><script type=\"math/tex; mode=display\">\\newcommand{\\Bold}[1]{\\mathbf{#1}}0</script></html>",
      "text/plain": "0"
     },
     "metadata": {}
    }
   ],
   "source": [
    "sol = desolve(eq,u,[0,0,0],contrib_ode=True)\n",
    "sol.show()"
   ]
  },
  {
   "cell_type": "code",
   "execution_count": null,
   "metadata": {},
   "outputs": [],
   "source": []
  }
 ],
 "metadata": {
  "kernelspec": {
   "display_name": "Python 3",
   "language": "sage",
   "name": "python3"
  },
  "language_info": {
   "codemirror_mode": {
    "name": "ipython",
    "version": 3
   },
   "file_extension": ".py",
   "mimetype": "text/x-python",
   "name": "python",
   "nbconvert_exporter": "python",
   "pygments_lexer": "ipython3",
   "version": "3.8.2-final"
  }
 },
 "nbformat": 4,
 "nbformat_minor": 4
}