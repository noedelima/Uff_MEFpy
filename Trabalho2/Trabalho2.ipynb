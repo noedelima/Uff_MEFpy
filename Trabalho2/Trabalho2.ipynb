{
 "cells": [
  {
   "cell_type": "markdown",
   "metadata": {},
   "source": [
    "# Método dos Elementos Finitos - Trabalho 2"
   ]
  },
  {
   "cell_type": "markdown",
   "metadata": {},
   "source": [
    "Este trabalho visa aplicar o MEF a uma estrutura de treliças.\n",
    "\n",
    "Para tanto, deverá ler um arquivo em disco com os dados da treliça para resolver via código em Python.\n",
    "\n",
    "Após ler o arquivo, o código abaixo gera um objeto de classe própria com as propriedades do sistema contido no arquivo.\n",
    "\n",
    "A seguir o arquivo lido e suas principais características."
   ]
  },
  {
   "cell_type": "code",
   "execution_count": 1,
   "metadata": {},
   "outputs": [],
   "source": [
    "%display latex\n",
    "import functions as fct\n",
    "#from sage.symbolic.integration.integral import definite_integral,indefinite_integral"
   ]
  },
  {
   "cell_type": "code",
   "execution_count": 2,
   "metadata": {},
   "outputs": [
    {
     "name": "stdout",
     "output_type": "stream",
     "text": [
      "Sistema de 3 nós\n",
      "A interligação entre os nós pode ser representada pela seguinte matriz:\n",
      "[[0.    0.001 0.001]\n",
      " [0.001 0.    0.001]\n",
      " [0.001 0.001 0.   ]]\n",
      "Onde os elementos fora da diagonal principal representam os valores de 1/EA da barra entre os nós respectivos.\n",
      "A matriz abaixo representa as cargas no nó:\n",
      "[[ 0.  0.  0.]\n",
      " [ 0.  0.  0.]\n",
      " [ 1. -1.  0.]]\n",
      "Onde a linha representa o nó e a coluna as dimensões x, y e z, respectivamente.\n",
      "Abaixo, temos as seguintes configurações para os nós (coordenada x,y,z e se há apoio na direção):\n",
      "Nó 1 (0.0, 0.0, 0.0) --> [Rx:True    Ry:True    Rz:False]\n",
      "Nó 2 (1.0, 0.0, 0.0) --> [Rx:False    Ry:True    Rz:False]\n",
      "Nó 3 (1.0, 1.0, 0.0) --> [Rx:False    Ry:False    Rz:False]\n"
     ]
    }
   ],
   "source": [
    "tr = fct.trelica(\"trelica.json\")\n",
    "print('Sistema de {} nós'.format(tr.n))\n",
    "print('A interligação entre os nós pode ser representada pela seguinte matriz:\\n{}\\nOnde os elementos fora da diagonal principal representam os valores de 1/EA da barra entre os nós respectivos.'.format(tr.barras))\n",
    "print('A matriz abaixo representa as cargas no nó:\\n{}\\nOnde a linha representa o nó e a coluna as dimensões x, y e z, respectivamente.'.format(tr.cargas))\n",
    "print('Abaixo, temos as seguintes configurações para os nós (coordenada x,y,z e se há apoio na direção):')\n",
    "for n in tr.nos:\n",
    "    print(n.tag, '({}, {}, {})'.format(n.x, n.y, n.z), '--> [Rx:{}    Ry:{}    Rz:{}]'.format(n.Rx, n.Ry, n.Rz))"
   ]
  },
  {
   "cell_type": "markdown",
   "metadata": {},
   "source": [
    "A partir deste sistema, temos as seguintes equações difenrenciais para o deslocamento $u$ da barra, considerando a aplicação de uma força Normal $F$:"
   ]
  },
  {
   "cell_type": "code",
   "execution_count": 3,
   "metadata": {},
   "outputs": [
    {
     "name": "stdout",
     "output_type": "stream",
     "text": [
      "[N is integer, i is integer, j is integer, L > 0, N > 0, E > 0, A > 0]\n"
     ]
    },
    {
     "data": {
      "text/html": [
       "<html><script type=\"math/tex; mode=display\">\\newcommand{\\Bold}[1]{\\mathbf{#1}}A E \\frac{\\partial^{2}}{(\\partial x)^{2}}u\\left(x\\right) = 0</script></html>"
      ],
      "text/plain": [
       "A*E*diff(u(x), x, x) == 0"
      ]
     },
     "metadata": {},
     "output_type": "display_data"
    },
    {
     "data": {
      "text/html": [
       "<html><script type=\"math/tex; mode=display\">\\newcommand{\\Bold}[1]{\\mathbf{#1}}A E \\frac{\\partial}{\\partial x}u\\left(x\\right) = F</script></html>"
      ],
      "text/plain": [
       "A*E*diff(u(x), x) == F"
      ]
     },
     "metadata": {},
     "output_type": "display_data"
    }
   ],
   "source": [
    "# Declaração das variáveis independentes\n",
    "x = var('x') # Variável independente (cumprimento)\n",
    "var('F,N,E,A,L,i,j') # Variáveis simbólicas de apoio\n",
    "# Considerações e Restrições das variáveis de apoio\n",
    "assume(N,i,j,'integer') # Número inteiro de elementos\n",
    "assume(L>0) # Comprimento da barra positivo\n",
    "assume(N>0) # Pelo menos 1 Elemento\n",
    "assume(E>0) # Módulo de elasticidade do material positivo\n",
    "assume(A>0) # Área da seção transversal positiva\n",
    "print(assumptions()) # Exibe um resumo das restrições asumidas até aqui\n",
    "# Variáveis dependentes\n",
    "u = function('u')(x) # Função analítica desconhecida u(x)\n",
    "# Equações Diferenciais de u(x)\n",
    "eq1 = E*A*diff(u,x,2) == 0\n",
    "eq2 = E*A*diff(u,x) == F\n",
    "eq1.show() # Exibe a equação diferencial de primeira ordem de u(x)\n",
    "eq2.show() # Exibe a equação diferencial de segunda ordem de u(x)"
   ]
  },
  {
   "cell_type": "markdown",
   "metadata": {},
   "source": [
    "A solução analítica destas equações, dadas abaixo, convergem para a equação conhecida da deformação linear na barra, que é:\n",
    "\n",
    "\\begin{equation*}\n",
    "    u\\left(x\\right) = \\frac{F}{EA}x\n",
    "\\end{equation*}"
   ]
  },
  {
   "cell_type": "code",
   "execution_count": 4,
   "metadata": {},
   "outputs": [
    {
     "data": {
      "text/html": [
       "<html><script type=\"math/tex; mode=display\">\\newcommand{\\Bold}[1]{\\mathbf{#1}}u\\left(x\\right) = K_{2} x + K_{1}</script></html>"
      ],
      "text/plain": [
       "u(x) == _K2*x + _K1"
      ]
     },
     "metadata": {},
     "output_type": "display_data"
    },
    {
     "data": {
      "text/html": [
       "<html><script type=\"math/tex; mode=display\">\\newcommand{\\Bold}[1]{\\mathbf{#1}}u\\left(x\\right) = C + \\frac{F x}{A E}</script></html>"
      ],
      "text/plain": [
       "u(x) == _C + F*x/(A*E)"
      ]
     },
     "metadata": {},
     "output_type": "display_data"
    }
   ],
   "source": [
    "sol1 = u == desolve(eq1,u,ivar=x)\n",
    "sol2 = u == desolve(eq2,u,ivar=x)\n",
    "sol1.show() # Solução da EDO de 1 Ordem\n",
    "sol2.show() # Solução da EDO de 2 Ordem"
   ]
  },
  {
   "cell_type": "markdown",
   "metadata": {},
   "source": [
    "A SRP - Sentença de Resíduos Ponderados, fornece a seguinte integral:\n",
    "\n",
    "\\begin{equation}\n",
    "    \\int_{D}{\\phi_{i}R}dD = 0\n",
    "\\end{equation}\n",
    "\n",
    "Onde,\n",
    "\n",
    "\\begin{equation*}\n",
    "    R = \\left(EA\\frac{d^{2}\\bar{u}}{dx^{2}}\\right)\n",
    "\\end{equation*}\n",
    "\n",
    "e,\n",
    "\n",
    "\\begin{equation*}\n",
    "    \\bar{u} = \\sum_{n=1}^{N+1}u_{i}\\phi_{i}\n",
    "\\end{equation*}\n",
    "\n",
    "Assim, temos\n",
    "\n",
    "\\begin{equation*}\n",
    "    \\int_{0}^{L}{\\phi_{i}\\left(EA\\frac{d^{2}\\bar{u}}{dx^{2}}\\right)}dx = 0\n",
    "\\end{equation*}\n"
   ]
  },
  {
   "cell_type": "code",
   "execution_count": 5,
   "metadata": {},
   "outputs": [
    {
     "data": {
      "text/html": [
       "<html><script type=\"math/tex; mode=display\">\\newcommand{\\Bold}[1]{\\mathbf{#1}}{\\sum_{i=1}^{N + 1} \\phi_{i}\\left(x, i\\right) u_{i}\\left(i\\right)}</script></html>"
      ],
      "text/plain": [
       "sum(phi_i(x, i)*u_i(i), i, 1, N + 1)"
      ]
     },
     "metadata": {},
     "output_type": "display_data"
    },
    {
     "data": {
      "text/html": [
       "<html><script type=\"math/tex; mode=display\">\\newcommand{\\Bold}[1]{\\mathbf{#1}}{\\left(A E N + A E\\right)} u_{i}\\left(i\\right) \\frac{\\partial^{2}}{(\\partial x)^{2}}\\phi_{i}\\left(x, i\\right)</script></html>"
      ],
      "text/plain": [
       "(A*E*N + A*E)*u_i(i)*diff(phi_i(x, i), x, x)"
      ]
     },
     "metadata": {},
     "output_type": "display_data"
    },
    {
     "data": {
      "text/html": [
       "<html><script type=\"math/tex; mode=display\">\\newcommand{\\Bold}[1]{\\mathbf{#1}}{\\left(A E N + A E\\right)} \\int_{0}^{L} \\phi_{i}\\left(x, i\\right) \\frac{\\partial^{2}}{(\\partial x)^{2}}\\phi_{i}\\left(x, i\\right)\\,{d x} u_{i}\\left(i\\right)</script></html>"
      ],
      "text/plain": [
       "(A*E*N + A*E)*integrate(phi_i(x, i)*diff(phi_i(x, i), x, x), x, 0, L)*u_i(i)"
      ]
     },
     "metadata": {},
     "output_type": "display_data"
    }
   ],
   "source": [
    "phi_i = function('phi_i')(x,i) # phi_i(x) da SRP\n",
    "u_i = function('u_i')(i) # u_i\n",
    "u_b = sum(u_i*phi_i,i,1,N+1) # û(x) estimado\n",
    "R = (E*A*u_b.diff(x,2)).full_simplify() # Resíduo\n",
    "u_b.show() # Exibe û\n",
    "R.show() # Exibe o resíduo\n",
    "SRP = (phi_i*R).integrate(x,0,L) # Sentença dos Resíduos Ponderados\n",
    "SRP.show() # Exibe a SRP"
   ]
  },
  {
   "cell_type": "markdown",
   "metadata": {},
   "source": [
    "Deixando a solução analítica de lado, vamos à implementação"
   ]
  },
  {
   "cell_type": "markdown",
   "metadata": {},
   "source": [
    "# Barra horizontal\n",
    "\n",
    "## Matriz de Rigidez do Elemento\n",
    "\n",
    "A matriz de Rigidez de uma barra dentro da treliça é dada por:\n",
    "\n",
    "\\begin{equation}\n",
    "    K_{ij} = EA \\int_{0}^{L}{\\left(\\frac{dN_{i}}{dx}\\frac{dN_{j}}{dx}\\right)}dx\n",
    "\\end{equation}\n",
    "\n",
    "## Vetor de Cargas Nodais do Elemento\n",
    "\n",
    "\\begin{equation}\n",
    "    f_{i} = EA \\left[N_{i}\\frac{d\\bar{u}}{dx}\\right]_{0}^{L}\n",
    "\\end{equation}\n",
    "\n",
    "Tem-se que:\n",
    "\n",
    "\\begin{equation}\n",
    "    \\left\\{\\begin{matrix}\n",
    "        \\phi_{1}\\left(x\\right) & = & \\frac{L-x}{x} \\\\\n",
    "        & & \\\\\n",
    "        \\phi_{2}\\left(x\\right) & = & \\frac{x}{L}\n",
    "    \\end{matrix}\\right.\n",
    "\\end{equation}\n",
    "\n",
    "Logo, Simplificando tudo,\n",
    "\n",
    "\\begin{equation*}\n",
    "    K_{11} = K_{22} = \\frac{EA}{L}\n",
    "\\end{equation*}\n",
    "\n",
    "\\begin{equation*}\n",
    "    K_{12} = K_{21} = -\\frac{EA}{L}\n",
    "\\end{equation*}\n",
    "\n",
    "Ou,\n",
    "\n",
    "\\begin{equation*}\n",
    "    \\mathbf{K}_{local} =\n",
    "    \\left[\\begin{matrix}\n",
    "        \\frac{EA}{L} & -\\frac{EA}{L} \\\\\n",
    "        -\\frac{EA}{L} & \\frac{EA}{L}\n",
    "    \\end{matrix}\\right]\n",
    "\\end{equation*}\n",
    "\n",
    "Ou, ainda,\n",
    "\n",
    "\\begin{equation}\n",
    "    \\mathbf{K}_{local} = \\frac{EA}{L}\n",
    "    \\left[\\begin{matrix}\n",
    "        1 & -1 \\\\\n",
    "        -1 & 1\n",
    "    \\end{matrix}\\right]\n",
    "\\end{equation}\n",
    "\n",
    "E,\n",
    "\n",
    "\\begin{equation*}\n",
    "    \\vec{f}_{local} = F\n",
    "    \\left[\\begin{matrix}\n",
    "        -1 \\\\\n",
    "        1\n",
    "    \\end{matrix}\\right]\n",
    "\\end{equation*}\n"
   ]
  },
  {
   "cell_type": "markdown",
   "metadata": {},
   "source": [
    "# Caso Geral - Barra em Qualquer Direção\n",
    "\n",
    "\\begin{equation*}\n",
    "    N_{1} = \\frac{h_{e}-x_{e}}{h_{e}}\n",
    "\\end{equation*}\n",
    "\n",
    "\\begin{equation*}\n",
    "    N_{2} = \\frac{x_{e}}{h_{e}}\n",
    "\\end{equation*}\n",
    "\n",
    "\\begin{equation*}\n",
    "    N_{G} =\n",
    "    \\left[\\begin{matrix}\n",
    "        N_{1}cos{\\alpha} & N_{1}sin{\\alpha} & N_{2}cos{\\alpha} & N_{2}sin{\\alpha}\n",
    "    \\end{matrix}\\right]\n",
    "\\end{equation*}\n",
    "\n",
    "Logo,\n",
    "\n",
    "\\begin{equation*}\n",
    "    \\frac{\\partial N}{\\partial x} =\n",
    "    \\left[\\begin{matrix}\n",
    "        \\frac{\\partial N_{1}}{\\partial x}cos{\\alpha} & \\frac{\\partial N_{1}}{\\partial x}sin{\\alpha} & \\frac{\\partial N_{2}}{\\partial x}cos{\\alpha} & \\frac{\\partial N_{2}}{\\partial x}sin{\\alpha}\n",
    "    \\end{matrix}\\right]\n",
    "\\end{equation*}\n",
    "\n",
    "\\begin{equation*}\n",
    "    \\frac{\\partial N}{\\partial x} =\n",
    "    \\left[\\begin{matrix}\n",
    "    -\\frac{1}{h_{e}}cos{\\alpha} & -\\frac{1}{h_{e}}sin{\\alpha} & \\frac{1}{h_{e}}cos{\\alpha} & \\frac{1}{h_{e}}sin{\\alpha}\n",
    "    \\end{matrix}\\right]\n",
    "\\end{equation*}\n",
    "\n",
    "\\begin{equation*}\n",
    "    \\frac{\\partial N}{\\partial x} = \\frac{1}{h_{e}}\n",
    "    \\left[\\begin{matrix}\n",
    "        -cos{\\alpha} & -sin{\\alpha} & cos{\\alpha} & sin{\\alpha}\n",
    "    \\end{matrix}\\right]\n",
    "    = \\left[\\mathbf{B}\\right]\n",
    "\\end{equation*}\n",
    "\n",
    "Bem como,\n",
    "\n",
    "\\begin{equation*}\n",
    "    \\left[k_{e}\\right] =\n",
    "    \\int_{0}^{h_{e}}{EA\\frac{\\partial N_{i}}{\\partial x}\\frac{\\partial N_{j}}{\\partial x}}dx\n",
    "\\end{equation*}\n",
    "\n",
    "Ou seja,\n",
    "\n",
    "\\begin{equation*}\n",
    "    \\left[k_{e}\\right] =\n",
    "    \\int_{0}^{h_{e}}{\\left[\\mathbf{B^{T}}\\right]EA\\left[\\mathbf{B}\\right]}dx\n",
    "\\end{equation*}\n",
    "\n",
    "Portanto,\n",
    "\n",
    "\\begin{equation*}\n",
    "    \\left[k_{e}\\right] = \\frac{EA}{h_{e}^{2}}\n",
    "    \\left[\\begin{matrix}\n",
    "        cos^{2}{(\\alpha)} & sin{(\\alpha)}cos{(\\alpha)} & -cos^{2}{(\\alpha)} & -sin{(\\alpha)}cos{(\\alpha)} \\\\\n",
    "        sin{(\\alpha)}cos{(\\alpha)} & sin^{2}{(\\alpha)} & -sin{(\\alpha)}cos{(\\alpha)} & -sin^{2}{(\\alpha)} \\\\\n",
    "        -cos^{2}{(\\alpha)} & -sin{(\\alpha)}cos{(\\alpha)} & cos^{2}{(\\alpha)} & sin{(\\alpha)}cos{(\\alpha)} \\\\\n",
    "        -sin{(\\alpha)}cos{(\\alpha)} & -sin^{2}{(\\alpha)} & sin{(\\alpha)}cos{(\\alpha)} & sin^{2}{(\\alpha)}\n",
    "    \\end{matrix}\\right]\n",
    "    \\int_{0}^{h_{e}}{}dx\n",
    "    = \\frac{EA}{h_{e}^{2}}\n",
    "    \\left[\\mathbf{T}\\right]\n",
    "    \\int_{0}^{h_{e}}{}dx\n",
    "\\end{equation*}\n",
    "\n",
    "Onde $\\mathbf{T}$ é a Matriz de Transformação ou de Rotação.\n",
    "\n",
    "Logo,\n",
    "\n",
    "\\begin{equation*}\n",
    "    \\left[k_{e}\\right] = \\frac{EA}{h_{e}^{2}}\n",
    "    \\left[\\mathbf{T}\\right]\n",
    "    \\int_{0}^{h_{e}}{}dx =\n",
    "    \\left[\n",
    "        \\frac{EA}{h_{e}^{2}}\\left[\\mathbf{T}\\right]x\n",
    "    \\right]_{0}^{h_{e}} =\n",
    "    \\frac{EA}{h_{e}^{2}}\\left[\\mathbf{T}\\right]h_{e}   \n",
    "\\end{equation*}\n",
    "\n",
    "Ou,\n",
    "\n",
    "\\begin{equation*}\n",
    "    \\left[k_{e}\\right] = \\frac{EA}{h_{e}}\\left[\\mathbf{T}\\right]\n",
    "\\end{equation*}\n"
   ]
  },
  {
   "cell_type": "code",
   "execution_count": 6,
   "metadata": {},
   "outputs": [
    {
     "data": {
      "text/html": [
       "<html><script type=\"math/tex; mode=display\">\\newcommand{\\Bold}[1]{\\mathbf{#1}}\\begin{array}{l}\n",
       "\\verb|[[|\\phantom{\\verb!x!}\\verb|1.|\\phantom{\\verb!xx!}\\verb|0.|\\phantom{\\verb!x!}\\verb|-1.|\\phantom{\\verb!x!}\\verb|-0.]|\\\\\n",
       "\\phantom{\\verb!x!}\\verb|[|\\phantom{\\verb!x!}\\verb|0.|\\phantom{\\verb!xx!}\\verb|0.|\\phantom{\\verb!x!}\\verb|-0.|\\phantom{\\verb!x!}\\verb|-0.]|\\\\\n",
       "\\phantom{\\verb!x!}\\verb|[-1.|\\phantom{\\verb!x!}\\verb|-0.|\\phantom{\\verb!xx!}\\verb|1.|\\phantom{\\verb!xx!}\\verb|0.]|\\\\\n",
       "\\phantom{\\verb!x!}\\verb|[-0.|\\phantom{\\verb!x!}\\verb|-0.|\\phantom{\\verb!xx!}\\verb|0.|\\phantom{\\verb!xx!}\\verb|0.]]|\n",
       "\\end{array}</script></html>"
      ],
      "text/plain": [
       "array([[ 1.,  0., -1., -0.],\n",
       "       [ 0.,  0., -0., -0.],\n",
       "       [-1., -0.,  1.,  0.],\n",
       "       [-0., -0.,  0.,  0.]])"
      ]
     },
     "execution_count": 6,
     "metadata": {},
     "output_type": "execute_result"
    }
   ],
   "source": [
    "no1 = fct.node(0,0,0)\n",
    "no2 = fct.node(1,0,0)\n",
    "barra = fct.bar(no1,no2,1000)\n",
    "fct.mat_T(barra.a)"
   ]
  }
 ],
 "metadata": {
  "kernelspec": {
   "display_name": "SageMath 9.0",
   "language": "python",
   "name": "sagemath-vscode"
  },
  "language_info": {
   "codemirror_mode": {
    "name": "ipython",
    "version": 3
   },
   "file_extension": ".py",
   "mimetype": "text/x-python",
   "name": "python",
   "nbconvert_exporter": "python",
   "pygments_lexer": "ipython3",
   "version": "3.8.2"
  }
 },
 "nbformat": 4,
 "nbformat_minor": 4
}
