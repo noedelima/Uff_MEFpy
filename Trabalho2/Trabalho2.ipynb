{
 "cells": [
  {
   "cell_type": "markdown",
   "metadata": {},
   "source": [
    "# Método dos Elementos Finitos - Trabalho 2"
   ]
  },
  {
   "cell_type": "markdown",
   "metadata": {},
   "source": [
    "Universidade Federal Fluminense\n",
    "\n",
    "Disciplina ministrada pelo Prof. Marco Ferro\n",
    "\n",
    "<marco.ferro@uol.com.br>\n",
    "\n",
    "Aluno Noé de Lima\n",
    "\n",
    "<noe_lima@id.uff.br>\n",
    "\n",
    "Este trabalho visa aplicar o MEF a uma estrutura de treliças.\n",
    "\n",
    "Primeiro semestre de 2020\n",
    "\n",
    "\\vfill"
   ]
  },
  {
   "cell_type": "markdown",
   "metadata": {},
   "source": [
    "A célula a seguir configura o Jupyter-Notebook para exibir as equações matemáticas no formato do ambiente $\\LaTeX$ e importa as bibliotecas necessárias."
   ]
  },
  {
   "cell_type": "code",
   "execution_count": 1,
   "metadata": {
    "tags": []
   },
   "outputs": [
    {
     "name": "stdout",
     "output_type": "stream",
     "text": [
      "Linux DESKTOP-CR7O8A2 4.19.104-microsoft-standard #1 SMP Wed Feb 19 06:37:35 UTC 2020 x86_64 x86_64 x86_64 GNU/Linux\n"
     ]
    }
   ],
   "source": [
    "%display latex\n",
    "from numpy import angle,array,delete,isnan,nan,zeros\n",
    "from numpy.linalg import norm,solve\n",
    "import json\n",
    "from sage.misc.latex import MathJax,latex_extra_preamble,png\n",
    "from sage.plot.line import Line\n",
    "latex.add_to_preamble('\\\\usepackage[english,brazil]{babel}')\n",
    "!uname -a"
   ]
  },
  {
   "cell_type": "markdown",
   "metadata": {},
   "source": [
    "\\cleardoublepage\n",
    "\n",
    "\\tableofcontents\n",
    "\n",
    "\\cleardoublepage"
   ]
  },
  {
   "cell_type": "markdown",
   "metadata": {},
   "source": [
    "# Introdução\n",
    "\n",
    "Este trabalho visa aplicar o MEF a uma estrutura de treliças.\n",
    "\n",
    "Para tanto, deverá ler um arquivo em disco com os dados da treliça para resolver via código em Python.\n",
    "\n",
    "Após ler o arquivo, o código abaixo gera um objeto de classe própria com as propriedades do sistema contido no arquivo."
   ]
  },
  {
   "cell_type": "markdown",
   "metadata": {},
   "source": [
    "# Teoria\n",
    "\n",
    "A partir deste sistema, temos as seguintes equações diferenciais para o deslocamento $u$ da barra, considerando a aplicação de uma força Normal $F$:"
   ]
  },
  {
   "cell_type": "code",
   "execution_count": 2,
   "metadata": {
    "tags": []
   },
   "outputs": [
    {
     "name": "stdout",
     "output_type": "stream",
     "text": [
      "[N is integer, i is integer, j is integer, L > 0, N > 0, E > 0, A > 0]\n"
     ]
    },
    {
     "data": {
      "text/html": [
       "<html><script type=\"math/tex; mode=display\">\\newcommand{\\Bold}[1]{\\mathbf{#1}}A E \\frac{\\partial^{2}}{(\\partial x)^{2}}u\\left(x\\right) = 0</script></html>"
      ],
      "text/plain": [
       "A*E*diff(u(x), x, x) == 0"
      ]
     },
     "metadata": {},
     "output_type": "display_data"
    },
    {
     "data": {
      "text/html": [
       "<html><script type=\"math/tex; mode=display\">\\newcommand{\\Bold}[1]{\\mathbf{#1}}A E \\frac{\\partial}{\\partial x}u\\left(x\\right) = F</script></html>"
      ],
      "text/plain": [
       "A*E*diff(u(x), x) == F"
      ]
     },
     "metadata": {},
     "output_type": "display_data"
    }
   ],
   "source": [
    "# Declaração das variáveis independentes\n",
    "x = var('x') # Variável independente (cumprimento)\n",
    "var('F,N,E,A,L,i,j') # Variáveis simbólicas de apoio\n",
    "# Considerações e Restrições das variáveis de apoio\n",
    "assume(N,i,j,'integer') # Número inteiro de elementos\n",
    "assume(L>0) # Comprimento da barra positivo\n",
    "assume(N>0) # Pelo menos 1 Elemento\n",
    "assume(E>0) # Módulo de elasticidade do material positivo\n",
    "assume(A>0) # Área da seção transversal positiva\n",
    "print(assumptions()) # Exibe um resumo das restrições asumidas até aqui\n",
    "# Variáveis dependentes\n",
    "u = function('u')(x) # Função analítica desconhecida u(x)\n",
    "# Equações Diferenciais de u(x)\n",
    "eq1 = E*A*diff(u,x,2) == 0\n",
    "eq2 = E*A*diff(u,x) == F\n",
    "eq1.show() # Exibe a equação diferencial de primeira ordem de u(x)\n",
    "eq2.show() # Exibe a equação diferencial de segunda ordem de u(x)"
   ]
  },
  {
   "cell_type": "markdown",
   "metadata": {},
   "source": [
    "A solução analítica destas equações, dadas abaixo, convergem para a equação conhecida da deformação linear na barra, que é:\n",
    "\n",
    "\\begin{equation*}\n",
    "    u\\left(x\\right) = \\frac{F}{EA}x\n",
    "\\end{equation*}"
   ]
  },
  {
   "cell_type": "code",
   "execution_count": 3,
   "metadata": {},
   "outputs": [
    {
     "data": {
      "text/html": [
       "<html><script type=\"math/tex; mode=display\">\\newcommand{\\Bold}[1]{\\mathbf{#1}}u\\left(x\\right) = K_{2} x + K_{1}</script></html>"
      ],
      "text/plain": [
       "u(x) == _K2*x + _K1"
      ]
     },
     "metadata": {},
     "output_type": "display_data"
    },
    {
     "data": {
      "text/html": [
       "<html><script type=\"math/tex; mode=display\">\\newcommand{\\Bold}[1]{\\mathbf{#1}}u\\left(x\\right) = C + \\frac{F x}{A E}</script></html>"
      ],
      "text/plain": [
       "u(x) == _C + F*x/(A*E)"
      ]
     },
     "metadata": {},
     "output_type": "display_data"
    }
   ],
   "source": [
    "sol1 = u == desolve(eq1,u,ivar=x)\n",
    "sol2 = u == desolve(eq2,u,ivar=x)\n",
    "sol1.show() # Solução da EDO de 1 Ordem\n",
    "sol2.show() # Solução da EDO de 2 Ordem"
   ]
  },
  {
   "cell_type": "markdown",
   "metadata": {},
   "source": [
    "A SRP - Sentença de Resíduos Ponderados, fornece a seguinte integral:\n",
    "\n",
    "\\begin{equation}\n",
    "    \\int_{D}{\\phi_{i}R}dD = 0\n",
    "\\end{equation}\n",
    "\n",
    "Onde,\n",
    "\n",
    "\\begin{equation*}\n",
    "    R = \\left(EA\\frac{d^{2}\\bar{u}}{dx^{2}}\\right)\n",
    "\\end{equation*}\n",
    "\n",
    "e,\n",
    "\n",
    "\\begin{equation*}\n",
    "    \\bar{u} = \\sum_{n=1}^{N+1}u_{i}\\phi_{i}\n",
    "\\end{equation*}\n",
    "\n",
    "Assim, temos\n",
    "\n",
    "\\begin{equation*}\n",
    "    \\int_{0}^{L}{\\phi_{i}\\left(EA\\frac{d^{2}\\bar{u}}{dx^{2}}\\right)}dx = 0\n",
    "\\end{equation*}\n"
   ]
  },
  {
   "cell_type": "code",
   "execution_count": 4,
   "metadata": {},
   "outputs": [
    {
     "data": {
      "text/html": [
       "<html><script type=\"math/tex; mode=display\">\\newcommand{\\Bold}[1]{\\mathbf{#1}}{\\sum_{i=1}^{N + 1} \\phi_{i}\\left(x, i\\right) u_{i}\\left(i\\right)}</script></html>"
      ],
      "text/plain": [
       "sum(phi_i(x, i)*u_i(i), i, 1, N + 1)"
      ]
     },
     "metadata": {},
     "output_type": "display_data"
    },
    {
     "data": {
      "text/html": [
       "<html><script type=\"math/tex; mode=display\">\\newcommand{\\Bold}[1]{\\mathbf{#1}}{\\left(A E N + A E\\right)} u_{i}\\left(i\\right) \\frac{\\partial^{2}}{(\\partial x)^{2}}\\phi_{i}\\left(x, i\\right)</script></html>"
      ],
      "text/plain": [
       "(A*E*N + A*E)*u_i(i)*diff(phi_i(x, i), x, x)"
      ]
     },
     "metadata": {},
     "output_type": "display_data"
    },
    {
     "data": {
      "text/html": [
       "<html><script type=\"math/tex; mode=display\">\\newcommand{\\Bold}[1]{\\mathbf{#1}}{\\left(A E N + A E\\right)} \\int_{0}^{L} \\phi_{i}\\left(x, i\\right) \\frac{\\partial^{2}}{(\\partial x)^{2}}\\phi_{i}\\left(x, i\\right)\\,{d x} u_{i}\\left(i\\right)</script></html>"
      ],
      "text/plain": [
       "(A*E*N + A*E)*integrate(phi_i(x, i)*diff(phi_i(x, i), x, x), x, 0, L)*u_i(i)"
      ]
     },
     "metadata": {},
     "output_type": "display_data"
    }
   ],
   "source": [
    "phi_i = function('phi_i')(x,i) # phi_i(x) da SRP\n",
    "u_i = function('u_i')(i) # u_i\n",
    "u_b = sum(u_i*phi_i,i,1,N+1) # û(x) estimado\n",
    "R = (E*A*u_b.diff(x,2)).full_simplify() # Resíduo\n",
    "u_b.show() # Exibe û\n",
    "R.show() # Exibe o resíduo\n",
    "SRP = (phi_i*R).integrate(x,0,L) # Sentença dos Resíduos Ponderados\n",
    "SRP.show() # Exibe a SRP"
   ]
  },
  {
   "cell_type": "markdown",
   "metadata": {},
   "source": [
    "Deixando a solução analítica de lado, vamos à implementação"
   ]
  },
  {
   "cell_type": "markdown",
   "metadata": {},
   "source": [
    "# Barra horizontal\n",
    "\n",
    "## Matriz de Rigidez do Elemento\n",
    "\n",
    "A matriz de Rigidez de uma barra dentro da treliça é dada por:\n",
    "\n",
    "\\begin{equation}\n",
    "    K_{ij} = EA \\int_{0}^{L}{\\left(\\frac{dN_{i}}{dx}\\frac{dN_{j}}{dx}\\right)}dx\n",
    "\\end{equation}\n",
    "\n",
    "## Vetor de Cargas Nodais do Elemento\n",
    "\n",
    "\\begin{equation}\n",
    "    f_{i} = EA \\left[N_{i}\\frac{d\\bar{u}}{dx}\\right]_{0}^{L}\n",
    "\\end{equation}\n",
    "\n",
    "Tem-se que:\n",
    "\n",
    "\\begin{equation}\n",
    "    \\left\\{\\begin{matrix}\n",
    "        \\phi_{1}\\left(x\\right) & = & \\frac{L-x}{x} \\\\\n",
    "        & & \\\\\n",
    "        \\phi_{2}\\left(x\\right) & = & \\frac{x}{L}\n",
    "    \\end{matrix}\\right.\n",
    "\\end{equation}\n",
    "\n",
    "Logo, Simplificando tudo,\n",
    "\n",
    "\\begin{equation*}\n",
    "    K_{11} = K_{22} = \\frac{EA}{L}\n",
    "\\end{equation*}\n",
    "\n",
    "\\begin{equation*}\n",
    "    K_{12} = K_{21} = -\\frac{EA}{L}\n",
    "\\end{equation*}\n",
    "\n",
    "Ou,\n",
    "\n",
    "\\begin{equation*}\n",
    "    \\mathbf{K}_{local} =\n",
    "    \\left[\\begin{matrix}\n",
    "        \\frac{EA}{L} & -\\frac{EA}{L} \\\\\n",
    "        -\\frac{EA}{L} & \\frac{EA}{L}\n",
    "    \\end{matrix}\\right]\n",
    "\\end{equation*}\n",
    "\n",
    "Ou, ainda,\n",
    "\n",
    "\\begin{equation}\n",
    "    \\mathbf{K}_{local} = \\frac{EA}{L}\n",
    "    \\left[\\begin{matrix}\n",
    "        1 & -1 \\\\\n",
    "        -1 & 1\n",
    "    \\end{matrix}\\right]\n",
    "\\end{equation}\n",
    "\n",
    "E,\n",
    "\n",
    "\\begin{equation*}\n",
    "    \\vec{f}_{local} = F\n",
    "    \\left[\\begin{matrix}\n",
    "        -1 \\\\\n",
    "        1\n",
    "    \\end{matrix}\\right]\n",
    "\\end{equation*}\n"
   ]
  },
  {
   "cell_type": "markdown",
   "metadata": {},
   "source": [
    "# Caso Geral - Barra em Qualquer Direção\n",
    "\n",
    "\\begin{equation*}\n",
    "    N_{1} = \\frac{h_{e}-x_{e}}{h_{e}}\n",
    "\\end{equation*}\n",
    "\n",
    "\\begin{equation*}\n",
    "    N_{2} = \\frac{x_{e}}{h_{e}}\n",
    "\\end{equation*}\n",
    "\n",
    "\\begin{equation*}\n",
    "    N_{G} =\n",
    "    \\left[\\begin{matrix}\n",
    "        N_{1}cos{\\alpha} & N_{1}sin{\\alpha} & N_{2}cos{\\alpha} & N_{2}sin{\\alpha}\n",
    "    \\end{matrix}\\right]\n",
    "\\end{equation*}\n",
    "\n",
    "Logo,\n",
    "\n",
    "\\begin{equation*}\n",
    "    \\frac{\\partial N}{\\partial x} =\n",
    "    \\left[\\begin{matrix}\n",
    "        \\frac{\\partial N_{1}}{\\partial x}cos{\\alpha} & \\frac{\\partial N_{1}}{\\partial x}sin{\\alpha} & \\frac{\\partial N_{2}}{\\partial x}cos{\\alpha} & \\frac{\\partial N_{2}}{\\partial x}sin{\\alpha}\n",
    "    \\end{matrix}\\right]\n",
    "\\end{equation*}\n",
    "\n",
    "\\begin{equation*}\n",
    "    \\frac{\\partial N}{\\partial x} =\n",
    "    \\left[\\begin{matrix}\n",
    "    -\\frac{1}{h_{e}}cos{\\alpha} & -\\frac{1}{h_{e}}sin{\\alpha} & \\frac{1}{h_{e}}cos{\\alpha} & \\frac{1}{h_{e}}sin{\\alpha}\n",
    "    \\end{matrix}\\right]\n",
    "\\end{equation*}\n",
    "\n",
    "\\begin{equation*}\n",
    "    \\frac{\\partial N}{\\partial x} = \\frac{1}{h_{e}}\n",
    "    \\left[\\begin{matrix}\n",
    "        -cos{\\alpha} & -sin{\\alpha} & cos{\\alpha} & sin{\\alpha}\n",
    "    \\end{matrix}\\right]\n",
    "    = \\left[\\mathbf{B}\\right]\n",
    "\\end{equation*}\n",
    "\n",
    "Bem como,\n",
    "\n",
    "\\begin{equation*}\n",
    "    \\left[k_{e}\\right] =\n",
    "    \\int_{0}^{h_{e}}{EA\\frac{\\partial N_{i}}{\\partial x}\\frac{\\partial N_{j}}{\\partial x}}dx\n",
    "\\end{equation*}\n",
    "\n",
    "Ou seja,\n",
    "\n",
    "\\begin{equation*}\n",
    "    \\left[k_{e}\\right] =\n",
    "    \\int_{0}^{h_{e}}{\\left[\\mathbf{B^{T}}\\right]EA\\left[\\mathbf{B}\\right]}dx\n",
    "\\end{equation*}\n",
    "\n",
    "Portanto,\n",
    "\n",
    "\\begin{equation*}\n",
    "    \\left[k_{e}\\right] = \\frac{EA}{h_{e}^{2}}\n",
    "    \\left[\\begin{matrix}\n",
    "        cos^{2}{(\\alpha)} & sin{(\\alpha)}cos{(\\alpha)} & -cos^{2}{(\\alpha)} & -sin{(\\alpha)}cos{(\\alpha)} \\\\\n",
    "        sin{(\\alpha)}cos{(\\alpha)} & sin^{2}{(\\alpha)} & -sin{(\\alpha)}cos{(\\alpha)} & -sin^{2}{(\\alpha)} \\\\\n",
    "        -cos^{2}{(\\alpha)} & -sin{(\\alpha)}cos{(\\alpha)} & cos^{2}{(\\alpha)} & sin{(\\alpha)}cos{(\\alpha)} \\\\\n",
    "        -sin{(\\alpha)}cos{(\\alpha)} & -sin^{2}{(\\alpha)} & sin{(\\alpha)}cos{(\\alpha)} & sin^{2}{(\\alpha)}\n",
    "    \\end{matrix}\\right]\n",
    "    \\int_{0}^{h_{e}}{}dx\n",
    "    = \\frac{EA}{h_{e}^{2}}\n",
    "    \\left[\\mathbf{T}\\right]\n",
    "    \\int_{0}^{h_{e}}{}dx\n",
    "\\end{equation*}\n",
    "\n",
    "Onde $\\mathbf{T}$ é a Matriz de Transformação ou de Rotação.\n",
    "\n",
    "Logo,\n",
    "\n",
    "\\begin{equation*}\n",
    "    \\left[k_{e}\\right] = \\frac{EA}{h_{e}^{2}}\n",
    "    \\left[\\mathbf{T}\\right]\n",
    "    \\int_{0}^{h_{e}}{}dx =\n",
    "    \\left[\n",
    "        \\frac{EA}{h_{e}^{2}}\\left[\\mathbf{T}\\right]x\n",
    "    \\right]_{0}^{h_{e}} =\n",
    "    \\frac{EA}{h_{e}^{2}}\\left[\\mathbf{T}\\right]h_{e}   \n",
    "\\end{equation*}\n",
    "\n",
    "Ou,\n",
    "\n",
    "\\begin{equation*}\n",
    "    \\left[k_{e}\\right] = \\frac{EA}{h_{e}}\\left[\\mathbf{T}\\right]\n",
    "\\end{equation*}\n"
   ]
  },
  {
   "cell_type": "markdown",
   "metadata": {},
   "source": [
    "# Exemplo 1 - Solução Manual\n",
    "\n",
    "A seguir vamos resolver o sistema de treliça que será revisto no Exercício 1. Porém, aqui veremos a montagem do sistema manualmente. A descrição e o diagrama das treliças pode ser vista no desenho plotado e nos dados do Exercício 1 mais abaixo.\n",
    "\n",
    "## Dados\n",
    "\n",
    "O sistema plano é composto por três barras, sendo uma horizontal, entre os pontos de apoio, com $1~m$ de comprimento; uma barra vertical subindo a partir do segundo apoio, com $1~m$ de comprimento, e uma barra em diagonal fechando o triângulo. O apoio da esquerda é de segundo gênero, restringindo a translação em $x$ e $y$, e o apoio da direita, de primeiro gênero, restringindo a translação em $y$. Em todas as barras, temos $E\\cdot A=10^{3}$ (produto do módulo de elasticidade do material pela área da seção transversal).\n",
    "\n",
    "\n",
    "Assim, temos, por nome, as seguintes coordenadas dos Nós:"
   ]
  },
  {
   "cell_type": "markdown",
   "metadata": {},
   "source": [
    "%latex\n",
    "\\begin{table}[!h]\n",
    "    \\centering\n",
    "    \\begin{tabular}{ccccccc}\n",
    "        \\hline\n",
    "        \\textbf{Nó} & \\textbf{$(x$} & \\textbf{,} & \\textbf{$y)$} & \\multicolumn{3}{c}{\\textbf{Carga}} \\\\ \\hline\n",
    "        1           & (0            & ,          & 0)            & (0         & ,       & 0)          \\\\\n",
    "        2           & (1            & ,          & 0)            & (0         & ,       & 0)          \\\\\n",
    "        3           & (1            & ,          & 1)            & (1kN       & ,       & -1kN)       \\\\ \\hline\n",
    "    \\end{tabular}\n",
    "    \\caption{Lista de Nós}\\label{tab:01}\n",
    "\\end{table}"
   ]
  },
  {
   "cell_type": "markdown",
   "metadata": {},
   "source": [
    "Assim, temos os seguintes Elementos:"
   ]
  },
  {
   "cell_type": "markdown",
   "metadata": {},
   "source": [
    "%latex\n",
    "\\begin{table}[!h]\n",
    "    \\centering\n",
    "    \\begin{tabular}{ccc}\n",
    "        \\hline\n",
    "        \\textbf{Elemento} & \\textbf{Do Nó} & \\textbf{Para o Nó} \\\\ \\hline\n",
    "        1                 & 1              & 3                  \\\\\n",
    "        2                 & 2              & 3                  \\\\\n",
    "        3                 & 1              & 2                  \\\\ \\hline\n",
    "    \\end{tabular}\n",
    "    \\caption{Lista de Elementos}\\label{tab:02}\n",
    "\\end{table}"
   ]
  },
  {
   "cell_type": "markdown",
   "metadata": {},
   "source": [
    "Seguindo a ordem $x~y$ e a numeração dos nós para as forças e deslocamentos, temos o seguintes vetores de forças nodais e deslocamentos:\n",
    "\n",
    "\\begin{equation*}\n",
    "    \\vec{f} =\n",
    "    \\left\\{\\begin{matrix}\n",
    "        f_{x}^{1} \\\\ f_{y}^{1} \\\\ f_{x}^{2} \\\\ f_{y}^{2} \\\\ f_{x}^{3} \\\\ f_{y}^{3}\n",
    "    \\end{matrix}\\right\\}\n",
    "\\end{equation*}\n",
    "\n",
    "e\n",
    "\n",
    "\\begin{equation*}\n",
    "    \\vec{u} =\n",
    "    \\left\\{\\begin{matrix}\n",
    "        u_{x}^{1} \\\\ u_{y}^{1} \\\\ u_{x}^{2} \\\\ u_{y}^{2} \\\\ u_{x}^{3} \\\\ u_{y}^{3}\n",
    "    \\end{matrix}\\right\\}\n",
    "\\end{equation*}\n",
    "\n",
    "Porém, as seguintes consições de contorno são prescritas:\n",
    "\n",
    "\\begin{equation*}\n",
    "    \\left\\{\\begin{matrix}\n",
    "        u_{x}^{1} & = & 0 \\\\\n",
    "        u_{y}^{1} & = & 0 \\\\\n",
    "        u_{y}^{2} & = & 0\n",
    "    \\end{matrix}\\right.\n",
    "\\end{equation*}\n",
    "\n",
    "Bem como,\n",
    "\n",
    "\\begin{equation*}\n",
    "    \\left\\{\\begin{matrix}\n",
    "        f_{x}^{2} & = & 0 \\\\\n",
    "        f_{x}^{3} & = & 1kN \\\\\n",
    "        f_{y}^{3} & = & -1kN\n",
    "    \\end{matrix}\\right.\n",
    "\\end{equation*}\n",
    "\n",
    "Assim, temos as seguintes Matrizes de Rigidez Local nos Elementos:"
   ]
  },
  {
   "cell_type": "markdown",
   "metadata": {},
   "source": [
    "## Elemento 1\n",
    "\n",
    "Temos, no Elemento 1, $\\alpha = 45^{\\circ}$ e, portanto, $\\sin{\\left(\\alpha\\right)} = \\cos{\\left(\\alpha\\right)} = \\frac{\\sqrt{2}}{2}$.\n",
    "\n",
    "Logo,\n",
    "\n",
    "\\begin{equation*}\n",
    "    \\left[\\mathbf{K}_{1}\\right] = \\frac{EA}{\\sqrt{2}}\\frac{1}{2}\n",
    "    \\left[\\begin{matrix}\n",
    "        1 & 1 & -1 & -1 \\\\\n",
    "        1 & 1 & -1 & -1 \\\\\n",
    "        -1 & -1 & 1 & 1 \\\\\n",
    "        -1 & -1 & 1 & 1\n",
    "    \\end{matrix}\\right]\n",
    "\\end{equation*}"
   ]
  },
  {
   "cell_type": "code",
   "execution_count": 5,
   "metadata": {},
   "outputs": [
    {
     "name": "stdout",
     "output_type": "stream",
     "text": [
      "[ 1/4*sqrt(2)*EA  1/4*sqrt(2)*EA -1/4*sqrt(2)*EA -1/4*sqrt(2)*EA]\n",
      "[ 1/4*sqrt(2)*EA  1/4*sqrt(2)*EA -1/4*sqrt(2)*EA -1/4*sqrt(2)*EA]\n",
      "[-1/4*sqrt(2)*EA -1/4*sqrt(2)*EA  1/4*sqrt(2)*EA  1/4*sqrt(2)*EA]\n",
      "[-1/4*sqrt(2)*EA -1/4*sqrt(2)*EA  1/4*sqrt(2)*EA  1/4*sqrt(2)*EA]\n"
     ]
    }
   ],
   "source": [
    "var('EA')\n",
    "K_1 = (EA/sqrt(2))*(1/2)*Matrix([[1,1,-1,-1],[1,1,-1,-1],[-1,-1,1,1],[-1,-1,1,1]])\n",
    "print(K_1)"
   ]
  },
  {
   "cell_type": "markdown",
   "metadata": {},
   "source": [
    "## Elemento 2\n",
    "\n",
    "No Elemento 2, $\\alpha = 90^{\\circ}$ e, assim, $\\sin{\\left(\\alpha\\right)} = 1$ e $\\cos{\\left(\\alpha\\right)} = 0$. Logo,\n",
    "\n",
    "\\begin{equation*}\n",
    "    \\left[\\mathbf{K}_{2}\\right] = \\frac{EA}{1}\n",
    "    \\left[\\begin{matrix}\n",
    "        0 & 0 & 0 & 0 \\\\\n",
    "        0 & 1 & 0 & -1 \\\\\n",
    "        0 & 0 & 0 & 0 \\\\\n",
    "        0 & -1 & 0 & 1\n",
    "    \\end{matrix}\\right]\n",
    "\\end{equation*}"
   ]
  },
  {
   "cell_type": "code",
   "execution_count": 6,
   "metadata": {},
   "outputs": [
    {
     "name": "stdout",
     "output_type": "stream",
     "text": [
      "[  0   0   0   0]\n",
      "[  0  EA   0 -EA]\n",
      "[  0   0   0   0]\n",
      "[  0 -EA   0  EA]\n"
     ]
    }
   ],
   "source": [
    "K_2 = EA*Matrix([[0,0,0,0],[0,1,0,-1],[0,0,0,0],[0,-1,0,1]])\n",
    "print(K_2)"
   ]
  },
  {
   "cell_type": "markdown",
   "metadata": {},
   "source": [
    "## Elemento 3\n",
    "\n",
    "Por fim, no Elemento 3, temos $\\alpha = 0^{\\circ}$ e, consequentemente, $\\sin{\\left(\\alpha\\right)} = 0$ e $\\cos{\\left(\\alpha\\right)} = 1$. Assim,\n",
    "\n",
    "\\begin{equation*}\n",
    "    \\left[\\mathbf{K}_{3}\\right] = \\frac{EA}{1}\n",
    "    \\left[\\begin{matrix}\n",
    "        1 & 0 & -1 & 0 \\\\\n",
    "        0 & 0 & 0 & 0 \\\\\n",
    "        -1 & 0 & 1 & 0 \\\\\n",
    "        0 & 0 & 0 & 0\n",
    "    \\end{matrix}\\right]\n",
    "\\end{equation*}"
   ]
  },
  {
   "cell_type": "code",
   "execution_count": 7,
   "metadata": {},
   "outputs": [
    {
     "name": "stdout",
     "output_type": "stream",
     "text": [
      "[ EA   0 -EA   0]\n",
      "[  0   0   0   0]\n",
      "[-EA   0  EA   0]\n",
      "[  0   0   0   0]\n"
     ]
    }
   ],
   "source": [
    "K_3 = EA*Matrix([[1,0,-1,0],[0,0,0,0],[-1,0,1,0],[0,0,0,0]])\n",
    "print(K_3)"
   ]
  },
  {
   "cell_type": "markdown",
   "metadata": {},
   "source": [
    "## Matriz de Rigidez Global"
   ]
  },
  {
   "cell_type": "code",
   "execution_count": 8,
   "metadata": {},
   "outputs": [
    {
     "name": "stdout",
     "output_type": "stream",
     "text": [
      "[1/4*sqrt(2)*EA + EA      1/4*sqrt(2)*EA                 -EA                   0     -1/4*sqrt(2)*EA     -1/4*sqrt(2)*EA]\n",
      "[     1/4*sqrt(2)*EA      1/4*sqrt(2)*EA                   0                   0     -1/4*sqrt(2)*EA     -1/4*sqrt(2)*EA]\n",
      "[                -EA                   0                  EA                   0                   0                   0]\n",
      "[                  0                   0                   0                  EA                   0                 -EA]\n",
      "[    -1/4*sqrt(2)*EA     -1/4*sqrt(2)*EA                   0                   0      1/4*sqrt(2)*EA      1/4*sqrt(2)*EA]\n",
      "[    -1/4*sqrt(2)*EA     -1/4*sqrt(2)*EA                   0                 -EA      1/4*sqrt(2)*EA 1/4*sqrt(2)*EA + EA]\n"
     ]
    }
   ],
   "source": [
    "K_G = Matrix(SR,6,6) # Matriz 6 x 6\n",
    "\n",
    "K_G[0:2,0:2] = K_1[0:2,0:2] + K_3[0:2,0:2] # K_G(11) = K_1(11) + K_3(11)\n",
    "K_G[0:2,2:4] = K_3[0:2,2:4]                # K_G(12) = K_3(12)\n",
    "K_G[0:2,4:6] = K_1[0:2,2:4]                # K_G(13) = K_1(12)\n",
    "K_G[2:4,0:2] = K_3[0:2,2:4]                # K_G(21) = K_3(12)\n",
    "K_G[2:4,2:4] = K_2[0:2,0:2] + K_3[2:4,2:4] # K_G(22) = K_2(11) + K_3(22)\n",
    "K_G[2:4,4:6] = K_2[0:2,2:4]                # K_G(23) = K_2(12)\n",
    "K_G[4:6,0:2] = K_1[0:2,2:4]                # K_G(31) = K_1(12)\n",
    "K_G[4:6,2:4] = K_2[0:2,2:4]                # K_G(32) = K_2(12)\n",
    "K_G[4:6,4:6] = K_1[2:4,2:4] + K_2[2:4,2:4] # K_G(33) = K_1(22) + K_2(22)\n",
    "\n",
    "print(K_G)"
   ]
  },
  {
   "cell_type": "markdown",
   "metadata": {},
   "source": [
    "Aplicando as condições de contorno, podemos rearrumar e simplificar a equação $\\mathbf{K}\\vec{u}=\\vec{f}$.\n",
    "\n",
    "A solução do sistema modificado encontrará o vetor a seguir:\n",
    "\n",
    "\\begin{equation*}\n",
    "    \\left\\{\\begin{matrix}\n",
    "        f_{x}^{1} \\\\ f_{y}^{1} \\\\ u_{x}^{2} \\\\ f_{y}^{2} \\\\ u_{x}^{3} \\\\ u_{y}^{3}\n",
    "    \\end{matrix}\\right\\}\n",
    "\\end{equation*}"
   ]
  },
  {
   "cell_type": "code",
   "execution_count": 9,
   "metadata": {},
   "outputs": [
    {
     "name": "stdout",
     "output_type": "stream",
     "text": [
      "(-1, -1, 0, 2, 2*sqrt(2)/EA + 2/EA, -2/EA)\n"
     ]
    }
   ],
   "source": [
    "I = Matrix.identity(SR,6)\n",
    "f = vector([0,0,0,0,1,-1])\n",
    "Km = K_G\n",
    "Km[:,0] = -I[:,0]\n",
    "I[:,0] = -0*K_G[:,0]\n",
    "Km[:,1] = -I[:,1]\n",
    "I[:,1] = -0*K_G[:,1]\n",
    "Km[:,3] = -I[:,3]\n",
    "I[:,3] = -0*K_G[:,3]\n",
    "\n",
    "print(Km\\(I*f)) # Solução do Sistema Modificado"
   ]
  },
  {
   "cell_type": "markdown",
   "metadata": {},
   "source": [
    "Portanto,\n",
    "\n",
    "\\begin{equation*}\n",
    "    \\begin{matrix}\n",
    "        f_{x}^{1} & = & -1kN \\\\\n",
    "        f_{y}^{1} & = & -1kN \\\\\n",
    "        u_{x}^{2} & = & 0 \\\\\n",
    "        f_{y}^{2} & = & 2kN \\\\\n",
    "        u_{x}^{3} & = & \\frac{2+2\\sqrt{2}}{EA} \\\\\n",
    "        u_{y}^{3} & = & -\\frac{2}{EA}\n",
    "    \\end{matrix}\n",
    "\\end{equation*}\n",
    "\n",
    "Ou, ainda,\n",
    "\n",
    "\\begin{equation*}\n",
    "    \\vec{u} =\n",
    "    \\left\\{\\begin{matrix}\n",
    "        u_{x}^{1} \\\\ u_{y}^{1} \\\\ u_{x}^{2} \\\\ u_{y}^{2} \\\\ u_{x}^{3} \\\\ u_{y}^{3}\n",
    "    \\end{matrix}\\right\\} =\n",
    "    \\left\\{\\begin{matrix}\n",
    "        0 \\\\ 0 \\\\ 0 \\\\ 0 \\\\ \\frac{2+2\\sqrt{2}}{EA} \\\\ -\\frac{2}{EA}\n",
    "    \\end{matrix}\\right\\}\n",
    "\\end{equation*}\n",
    "\n",
    "E\n",
    "\n",
    "\\begin{equation*}\n",
    "    \\vec{f} =\n",
    "    \\left\\{\\begin{matrix}\n",
    "        f_{x}^{1} \\\\ f_{y}^{1} \\\\ f_{x}^{2} \\\\ f_{y}^{2} \\\\ f_{x}^{3} \\\\ f_{y}^{3}\n",
    "    \\end{matrix}\\right\\} =\n",
    "    \\left\\{\\begin{matrix}\n",
    "        -1kN \\\\ -1kN \\\\ 0 \\\\ 2kN \\\\ 1kN \\\\ -1kN\n",
    "    \\end{matrix}\\right\\}\n",
    "\\end{equation*}\n",
    "\n",
    "Para encontrar os esforços nas barras, utilizamos:\n",
    "\n",
    "\\begin{equation*}\n",
    "    N = \\frac{EA}{L}\n",
    "    \\left[\\begin{matrix}\n",
    "        -\\cos{\\left(\\alpha\\right)} & -\\sin{\\left(\\alpha\\right)} & \\cos{\\left(\\alpha\\right)} & \\sin{\\left(\\alpha\\right)}\n",
    "    \\end{matrix}\\right] u_{e}\n",
    "\\end{equation*}\n"
   ]
  },
  {
   "cell_type": "markdown",
   "metadata": {},
   "source": [
    "## Tensão na Barra 1\n",
    "\n",
    "Na barra 1, $\\alpha=45^{\\circ}$, portanto, $\\sin{\\left(\\alpha\\right)}=\\cos{\\left(\\alpha\\right)}=\\frac{\\sqrt{2}}{2}$ e $L=\\sqrt{2}$."
   ]
  },
  {
   "cell_type": "code",
   "execution_count": 10,
   "metadata": {},
   "outputs": [
    {
     "name": "stdout",
     "output_type": "stream",
     "text": [
      "sqrt(2)\n"
     ]
    }
   ],
   "source": [
    "u_1 = vector([0,0,(2+2*sqrt(2))/EA,-2/EA])\n",
    "N_1 = (EA/sqrt(2))*vector([-cos(pi/4),-sin(pi/4),cos(pi/4),sin(pi/4)])\n",
    "print(N_1*u_1)"
   ]
  },
  {
   "cell_type": "markdown",
   "metadata": {},
   "source": [
    "## Tensão na Barra 2\n",
    "\n",
    "Na barra 2, $\\alpha=90^{\\circ}$, portanto, $\\sin{\\left(\\alpha\\right)}=1$, $\\cos{\\left(\\alpha\\right)}=0$ e $L=1$."
   ]
  },
  {
   "cell_type": "code",
   "execution_count": 11,
   "metadata": {},
   "outputs": [
    {
     "name": "stdout",
     "output_type": "stream",
     "text": [
      "-2\n"
     ]
    }
   ],
   "source": [
    "u_2 = vector([0,0,(2+2*sqrt(2))/EA,-2/EA])\n",
    "N_2 = EA*vector([-cos(pi/2),-sin(pi/2),cos(pi/2),sin(pi/2)])\n",
    "print(N_2*u_2)"
   ]
  },
  {
   "cell_type": "markdown",
   "metadata": {},
   "source": [
    "## Tensão na Barra 3\n",
    "\n",
    "Na barra 3, $\\alpha=0^{\\circ}$, portanto, $\\sin{\\left(\\alpha\\right)}=0$, $\\cos{\\left(\\alpha\\right)}=1$ e $L=1$."
   ]
  },
  {
   "cell_type": "code",
   "execution_count": 12,
   "metadata": {},
   "outputs": [
    {
     "name": "stdout",
     "output_type": "stream",
     "text": [
      "0\n"
     ]
    }
   ],
   "source": [
    "u_3 = vector([0,0,0,0])\n",
    "N_3 = EA*vector([-cos(0),-sin(0),cos(0),sin(0)])\n",
    "print(N_3*u_3)"
   ]
  },
  {
   "cell_type": "markdown",
   "metadata": {},
   "source": [
    "Temos, portanto, $\\sqrt{2}~kN$ de Tração no Elemento 1, $2~kN$ de Compressão no Elemento 2 e $0$ no Elemento 3."
   ]
  },
  {
   "cell_type": "markdown",
   "metadata": {},
   "source": [
    "# Implementação do Código\n",
    "\n",
    "A função abaixo lê um arquivo JSON, cujo endereço relativo está na variável $path$, e retorna o conteúdo como um dicionário Python na variável $file$."
   ]
  },
  {
   "cell_type": "code",
   "execution_count": 13,
   "metadata": {},
   "outputs": [],
   "source": [
    "def readjson(path):\n",
    "    file = None\n",
    "    try:\n",
    "        with open(path,'r') as f:\n",
    "            file = json.load(f)\n",
    "    except IOError as err:\n",
    "        print('File Error: ' + str(err))\n",
    "    except JSONDecodeError as err:\n",
    "        print('JSON Error: ' + str(err))\n",
    "    finally:\n",
    "        return file"
   ]
  },
  {
   "cell_type": "markdown",
   "metadata": {},
   "source": [
    "Será criada, a seguir, uma classe chamada $node$ para armazenar os elementos do tipo Nó, contendo as informações necessárias para a definição da localização e tipo de apoio existente."
   ]
  },
  {
   "cell_type": "code",
   "execution_count": 14,
   "metadata": {},
   "outputs": [],
   "source": [
    "class node:\n",
    "    def __init__(self,x=0.0,y=0.0,z=0.0,tag=''):\n",
    "        self.dot = array([x,y,z])\n",
    "        self.l = zeros([3])\n",
    "        self.u = zeros([3])\n",
    "        self.s = array([False,False,False])\n",
    "        self.tag = tag\n",
    "    \n",
    "    def support(self,rx,ry,rz):\n",
    "        self.s = array([rx,ry,rz])\n",
    "        \n",
    "    def load(self,fx,fy,fz):\n",
    "        self.l = array([fx,fy,fz])\n",
    "        \n",
    "    def uloc(self, ul):\n",
    "        self.u = ul"
   ]
  },
  {
   "cell_type": "markdown",
   "metadata": {},
   "source": [
    "Após a definição dos Nós, agora será criada uma classe para armazenar as barras (colunas, vigas) que compõem a treliça."
   ]
  },
  {
   "cell_type": "code",
   "execution_count": 15,
   "metadata": {},
   "outputs": [],
   "source": [
    "class bar:\n",
    "    def __init__(self,no1,no2,EA,tag=''):\n",
    "        self.at = no1.dot # Origem da barra\n",
    "        self.vec = no2.dot - no1.dot # Vetor (x,y) da barra\n",
    "        self.EA = EA # Módulo de Elasticidade x área da seção transversal\n",
    "        self.tag = tag # Nome de referência para a barra\n",
    "        \n",
    "    def K(self):\n",
    "        L = norm(self.vec)\n",
    "        dx = self.vec[0]\n",
    "        dy = self.vec[1]\n",
    "        B = array([[-dx,-dy,dx,dy]])/L\n",
    "        return B.T*(self.EA/L)*B # Matriz de Rigidez Local\n",
    "    \n",
    "    def K11(self):\n",
    "        L = norm(self.vec)\n",
    "        B = array([[self.vec[0],self.vec[1]]])/L\n",
    "        return B.T*(self.EA/L)*B\n",
    "    \n",
    "    def K12(self):\n",
    "        return -K11(self)\n",
    "    \n",
    "    def K21(self):\n",
    "        return -K11(self)\n",
    "    \n",
    "    def K22(self):\n",
    "        return K11(self)"
   ]
  },
  {
   "cell_type": "markdown",
   "metadata": {},
   "source": [
    "Por último, uma classe geral contendo a treliça em si, com os nós e suas respectivas barras.\n",
    "\n",
    "Dentro da classe $trelica$ também estára o método para calcular a matriz de rigidez $K$ e a solução do sistema pelo método dos deslocamentos."
   ]
  },
  {
   "cell_type": "code",
   "execution_count": 16,
   "metadata": {},
   "outputs": [],
   "source": [
    "class trelica:\n",
    "    def __init__(self, file):\n",
    "        self.n = file['n']\n",
    "        self.m = 0 # Número de barras\n",
    "        self.E = array(file['E'])\n",
    "        self.A = array(file['A'])\n",
    "        cargas = array(file['loads'])\n",
    "        self.nos = []\n",
    "        self.barras = []\n",
    "        self.K = zeros([2*self.n,2*self.n])\n",
    "        self.f = zeros([2*self.n])\n",
    "        self.u = zeros([2*self.n])\n",
    "        for name, value in file['nodes'].items():\n",
    "            no = node(value['x'],\n",
    "                      value['y'],\n",
    "                      value['z'],\n",
    "                      name)\n",
    "            no.support(value['Tx'],\n",
    "                      value['Ty'],\n",
    "                      value['Tz'],)\n",
    "            self.nos.append(no)\n",
    "        for i in range(self.n):\n",
    "            self.nos[i].load(cargas[i][0],\n",
    "                      cargas[i][1],\n",
    "                      cargas[i][2])\n",
    "            # Cálculo dos Vetores u e f\n",
    "            ff = array([self.nos[i].l[0],self.nos[i].l[1]])\n",
    "            uu = array([nan,nan])\n",
    "            if self.nos[i].s[0]:\n",
    "                uu[0] = 0\n",
    "                ff[0] = nan\n",
    "            if self.nos[i].s[1]:\n",
    "                uu[1] = 0\n",
    "                ff[1] = nan\n",
    "            self.f[2*i:2*i+2] = ff\n",
    "            self.u[2*i:2*i+2] = uu\n",
    "            for j in range(i,self.n):\n",
    "                EA = self.E[i,j]*self.A[i,j]\n",
    "                if EA:\n",
    "                    barra = bar(self.nos[i],self.nos[j],EA)\n",
    "                    self.m += 1 # Conta as barras\n",
    "                    self.barras.append(barra)\n",
    "                    # Cálculo da Matriz k\n",
    "                    k = barra.K11()\n",
    "                    self.K[2*i:2*i+2,2*i:2*i+2] += k\n",
    "                    self.K[2*i:2*i+2,2*j:2*j+2] -= k\n",
    "                    self.K[2*j:2*j+2,2*i:2*i+2] -= k\n",
    "                    self.K[2*j:2*j+2,2*j:2*j+2] += k\n",
    "        \n",
    "    def deslocamentos(self):\n",
    "        K,u,f = self.K,self.u,self.f\n",
    "        change = True\n",
    "        m = 2*self.n\n",
    "        while change:\n",
    "            change = False\n",
    "            for i in range(m):\n",
    "                if isnan(f[i]):\n",
    "                    f -= u[i]*K[:,i]\n",
    "                    K[:,i] = zeros(m)\n",
    "                    K[i,i] = -1\n",
    "                    K = delete(K,i,0)\n",
    "                    K = delete(K,i,1)\n",
    "                    u = delete(u,i)\n",
    "                    f = delete(f,i)\n",
    "                    change = True\n",
    "                    m -= 1\n",
    "                    break\n",
    "        u = solve(K,f)\n",
    "        k = 0\n",
    "        desloc = self.u.copy()\n",
    "        for i in range(2*self.n):\n",
    "            if isnan(desloc[i]):\n",
    "                desloc[i] = u[k]\n",
    "                k += 1\n",
    "        forces = self.K.dot(desloc) # Recalcula as forças nodais a partir dos deslocamentos\n",
    "        for i in range(self.n):\n",
    "            self.nos[i].uloc(array([desloc[2*i],desloc[2*i+1],0]))\n",
    "            print('Nó: (',self.nos[i].dot[0],',',self.nos[i].dot[1],'):')\n",
    "            print('Fx =', forces[2*i], 'kN, Fy =', forces[2*i+1],'kN')\n",
    "            print('dx =', 1000*desloc[2*i], 'mm, dy =', 1000*desloc[2*i+1],'mm\\n\\n')\n",
    "        return\n",
    "    \n",
    "    def tensoes(self):\n",
    "        self.deslocamentos()\n",
    "        for i in range(self.n):\n",
    "            for j in range(i,self.n):\n",
    "                EA = self.E[i,j]*self.A[i,j]\n",
    "                if EA:\n",
    "                    c = self.nos[j].dot[0] - self.nos[i].dot[0] # delta x da barra\n",
    "                    s = self.nos[j].dot[1] - self.nos[i].dot[1] # delta y da barra\n",
    "                    L = norm(array([c,s]))\n",
    "                    Bl = array([-c,-s,c,s])/L\n",
    "                    ul = array([self.nos[i].u[0],self.nos[i].u[1],self.nos[j].u[0],self.nos[j].u[1]])\n",
    "                    N = (EA/L)*Bl.dot(ul)\n",
    "                    if N > 0:\n",
    "                        print('A Barra do Nó (', self.nos[i].dot[0], ',', self.nos[i].dot[1], ') para o Nó (', self.nos[j].dot[0], ',', self.nos[j].dot[1], ') está sujeita a uma tração de', N, 'kN\\n\\n')\n",
    "                    elif N < 0:\n",
    "                        print('A Barra do Nó (', self.nos[i].dot[0], ',', self.nos[i].dot[1], ') para o Nó (', self.nos[j].dot[0], ',', self.nos[j].dot[1], ') está sujeita a uma compressão de', N, 'kN\\n\\n')\n",
    "                    else:\n",
    "                        print('A Barra do Nó (', self.nos[i].dot[0], ',', self.nos[i].dot[1], ') para o Nó (', self.nos[j].dot[0], ',', self.nos[j].dot[1], ') está sem carregamento\\n\\n')\n",
    "        return\n",
    "    \n",
    "    def desenha(self):\n",
    "        p = line([])\n",
    "        for i in range(self.m):\n",
    "            p += line([self.barras[i].at[0:-1], self.barras[i].at[0:-1]+self.barras[i].vec[0:-1]])\n",
    "        return p"
   ]
  },
  {
   "cell_type": "markdown",
   "metadata": {},
   "source": [
    "# Exercício 1 - Sistema Com 3 Barras\n",
    "\n",
    "O arquivo a ser lido está no formato JSON e será armazenado na variável $parser$.\n",
    "\n",
    "A partir do valor no arquivo JSON, em $parser$, será criada a treliça e armazenada em $tr$"
   ]
  },
  {
   "cell_type": "code",
   "execution_count": 17,
   "metadata": {
    "tags": []
   },
   "outputs": [
    {
     "name": "stdout",
     "output_type": "stream",
     "text": [
      "{\n",
      "    \"A\": [\n",
      "        [\n",
      "            0.0,\n",
      "            1.0,\n",
      "            1.0\n",
      "        ],\n",
      "        [\n",
      "            1.0,\n",
      "            0.0,\n",
      "            1.0\n",
      "        ],\n",
      "        [\n",
      "            1.0,\n",
      "            1.0,\n",
      "            0.0\n",
      "        ]\n",
      "    ],\n",
      "    \"E\": [\n",
      "        [\n",
      "            0.0,\n",
      "            1000.0,\n",
      "            1000.0\n",
      "        ],\n",
      "        [\n",
      "            1000.0,\n",
      "            0.0,\n",
      "            1000.0\n",
      "        ],\n",
      "        [\n",
      "            1000.0,\n",
      "            1000.0,\n",
      "            0.0\n",
      "        ]\n",
      "    ],\n",
      "    \"dim\": 2,\n",
      "    \"loads\": [\n",
      "        [\n",
      "            0.0,\n",
      "            0.0,\n",
      "            0.0\n",
      "        ],\n",
      "        [\n",
      "            0.0,\n",
      "            0.0,\n",
      "            0.0\n",
      "        ],\n",
      "        [\n",
      "            1.0,\n",
      "            -1.0,\n",
      "            0.0\n",
      "        ]\n",
      "    ],\n",
      "    \"n\": 3,\n",
      "    \"nodes\": {\n",
      "        \"No 1\": {\n",
      "            \"Mx\": false,\n",
      "            \"My\": false,\n",
      "            \"Mz\": false,\n",
      "            \"Tx\": true,\n",
      "            \"Ty\": true,\n",
      "            \"Tz\": false,\n",
      "            \"x\": 0.0,\n",
      "            \"y\": 0.0,\n",
      "            \"z\": 0.0\n",
      "        },\n",
      "        \"No 2\": {\n",
      "            \"Mx\": false,\n",
      "            \"My\": false,\n",
      "            \"Mz\": false,\n",
      "            \"Tx\": false,\n",
      "            \"Ty\": true,\n",
      "            \"Tz\": false,\n",
      "            \"x\": 1.0,\n",
      "            \"y\": 0.0,\n",
      "            \"z\": 0.0\n",
      "        },\n",
      "        \"No 3\": {\n",
      "            \"Mx\": false,\n",
      "            \"My\": false,\n",
      "            \"Mz\": false,\n",
      "            \"Tx\": false,\n",
      "            \"Ty\": false,\n",
      "            \"Tz\": false,\n",
      "            \"x\": 1.0,\n",
      "            \"y\": 1.0,\n",
      "            \"z\": 0.0\n",
      "        }\n",
      "    }\n",
      "}\n"
     ]
    },
    {
     "data": {
      "image/png": "[encoded data removed]",
      "text/plain": [
       "Graphics object consisting of 3 graphics primitives"
      ]
     },
     "metadata": {},
     "output_type": "display_data"
    },
    {
     "name": "stdout",
     "output_type": "stream",
     "text": [
      "Nó: ( 0.0 , 0.0 ):\n",
      "Fx = -1.0 kN, Fy = -1.0 kN\n",
      "dx = 0.0 mm, dy = 0.0 mm\n",
      "\n",
      "\n",
      "Nó: ( 1.0 , 0.0 ):\n",
      "Fx = 0.0 kN, Fy = 2.0 kN\n",
      "dx = 0.0 mm, dy = 0.0 mm\n",
      "\n",
      "\n",
      "Nó: ( 1.0 , 1.0 ):\n",
      "Fx = 1.0 kN, Fy = -1.0 kN\n",
      "dx = 4.828427124746192 mm, dy = -2.0 mm\n",
      "\n",
      "\n",
      "A Barra do Nó ( 0.0 , 0.0 ) para o Nó ( 1.0 , 0.0 ) está sem carregamento\n",
      "\n",
      "\n",
      "A Barra do Nó ( 0.0 , 0.0 ) para o Nó ( 1.0 , 1.0 ) está sujeita a uma tração de 1.4142135623730956 kN\n",
      "\n",
      "\n",
      "A Barra do Nó ( 1.0 , 0.0 ) para o Nó ( 1.0 , 1.0 ) está sujeita a uma compressão de -2.0 kN\n",
      "\n",
      "\n"
     ]
    }
   ],
   "source": [
    "parser3n = readjson(\"trelica3nos.json\")\n",
    "print(json.dumps(parser3n, indent=4, sort_keys=True)) # Exibir conteúdo do arquivo lido\n",
    "trel3n = trelica(parser3n) # Treliça de 3 nós para teste\n",
    "trel3n.desenha().show() # Desenha as barras da estrutura\n",
    "trel3n.tensoes() # apresenta os deslocamentos nos nós, reações de apoio e carregamento nas barras"
   ]
  },
  {
   "cell_type": "markdown",
   "metadata": {},
   "source": [
    "# Exercício 2 - Sistema Com 6 Barras\n",
    "\n",
    "O exemplo a seguir contém 4 nós e 6 barras."
   ]
  },
  {
   "cell_type": "code",
   "execution_count": 18,
   "metadata": {
    "tags": []
   },
   "outputs": [
    {
     "data": {
      "image/png": "[encoded data removed]",
      "text/plain": [
       "Graphics object consisting of 6 graphics primitives"
      ]
     },
     "metadata": {},
     "output_type": "display_data"
    },
    {
     "name": "stdout",
     "output_type": "stream",
     "text": [
      "Nó: ( 0.0 , 0.0 ):\n",
      "Fx = 9.999999999999996 kN, Fy = 5.714285714285713 kN\n",
      "dx = 0.0 mm, dy = 0.0 mm\n",
      "\n",
      "\n",
      "Nó: ( 0.0 , 0.21 ):\n",
      "Fx = -9.999999999999995 kN, Fy = 4.285714285714283 kN\n",
      "dx = 0.0 mm, dy = 0.0 mm\n",
      "\n",
      "\n",
      "Nó: ( 0.21 , 0.21 ):\n",
      "Fx = 0.0 kN, Fy = -10.000000000000005 kN\n",
      "dx = 5.714285714285712 mm, dy = -17.14285714285714 mm\n",
      "\n",
      "\n",
      "Nó: ( 0.21 , 0.0 ):\n",
      "Fx = -8.881784197001252e-16 kN, Fy = 3.552713678800501e-15 kN\n",
      "dx = -4.285714285714283 mm, dy = -12.857142857142852 mm\n",
      "\n",
      "\n",
      "A Barra do Nó ( 0.0 , 0.0 ) para o Nó ( 0.0 , 0.21 ) está sem carregamento\n",
      "\n",
      "\n",
      "A Barra do Nó ( 0.0 , 0.0 ) para o Nó ( 0.21 , 0.21 ) está sujeita a uma compressão de -8.081220356417683 kN\n",
      "\n",
      "\n",
      "A Barra do Nó ( 0.0 , 0.0 ) para o Nó ( 0.21 , 0.0 ) está sujeita a uma compressão de -4.285714285714283 kN\n",
      "\n",
      "\n",
      "A Barra do Nó ( 0.0 , 0.21 ) para o Nó ( 0.21 , 0.21 ) está sujeita a uma tração de 5.714285714285712 kN\n",
      "\n",
      "\n",
      "A Barra do Nó ( 0.0 , 0.21 ) para o Nó ( 0.21 , 0.0 ) está sujeita a uma tração de 6.060915267313262 kN\n",
      "\n",
      "\n",
      "A Barra do Nó ( 0.21 , 0.21 ) para o Nó ( 0.21 , 0.0 ) está sujeita a uma compressão de -4.285714285714288 kN\n",
      "\n",
      "\n"
     ]
    }
   ],
   "source": [
    "trel4n = trelica(readjson(\"trelica4nos.json\")) # Treliça de 4 nós para teste\n",
    "trel4n.desenha().show() # Desenha as barras da estrutura\n",
    "trel4n.tensoes() # apresenta os deslocamentos nos nós, reações de apoio e carregamento nas barras"
   ]
  },
  {
   "cell_type": "markdown",
   "metadata": {},
   "source": [
    "# Exercício 3 - Sistema Com 13 Barras\n",
    "\n",
    "O exemplo a seguir contém 8 nós e 13 barras."
   ]
  },
  {
   "cell_type": "code",
   "execution_count": 19,
   "metadata": {
    "tags": []
   },
   "outputs": [
    {
     "data": {
      "image/png": "[encoded data removed]",
      "text/plain": [
       "Graphics object consisting of 13 graphics primitives"
      ]
     },
     "metadata": {},
     "output_type": "display_data"
    },
    {
     "name": "stdout",
     "output_type": "stream",
     "text": [
      "Nó: ( 0.0 , 0.0 ):\n",
      "Fx = 0.0 kN, Fy = 59.99999999999997 kN\n",
      "dx = 0.0 mm, dy = 0.0 mm\n",
      "\n",
      "\n",
      "Nó: ( 5.0 , 0.0 ):\n",
      "Fx = 0.0 kN, Fy = -30.000000000000114 kN\n",
      "dx = 374.99999999999994 mm, dy = -2865.105351505299 mm\n",
      "\n",
      "\n",
      "Nó: ( 10.0 , 0.0 ):\n",
      "Fx = 5.684341886080802e-14 kN, Fy = -59.999999999999886 kN\n",
      "dx = 937.4999999999994 mm, dy = -4300.470527257947 mm\n",
      "\n",
      "\n",
      "Nó: ( 15.0 , 0.0 ):\n",
      "Fx = -1.7053025658242404e-13 kN, Fy = -30.0 kN\n",
      "dx = 1499.9999999999984 mm, dy = -2865.1053515052977 mm\n",
      "\n",
      "\n",
      "Nó: ( 20.0 , 0.0 ):\n",
      "Fx = -5.684341886080802e-14 kN, Fy = 59.99999999999994 kN\n",
      "dx = 1874.999999999998 mm, dy = 0.0 mm\n",
      "\n",
      "\n",
      "Nó: ( 15.0 , 4.0 ):\n",
      "Fx = -5.684341886080802e-14 kN, Fy = -1.1368683772161603e-13 kN\n",
      "dx = 562.4999999999994 mm, dy = -2625.1053515052977 mm\n",
      "\n",
      "\n",
      "Nó: ( 10.0 , 4.0 ):\n",
      "Fx = 1.7053025658242404e-13 kN, Fy = -2.2737367544323206e-13 kN\n",
      "dx = 937.4999999999992 mm, dy = -4060.470527257947 mm\n",
      "\n",
      "\n",
      "Nó: ( 5.0 , 4.0 ):\n",
      "Fx = 2.842170943040401e-14 kN, Fy = -1.1368683772161603e-13 kN\n",
      "dx = 1312.499999999999 mm, dy = -2625.105351505299 mm\n",
      "\n",
      "\n",
      "A Barra do Nó ( 0.0 , 0.0 ) para o Nó ( 5.0 , 0.0 ) está sujeita a uma tração de 74.99999999999999 kN\n",
      "\n",
      "\n",
      "A Barra do Nó ( 0.0 , 0.0 ) para o Nó ( 5.0 , 4.0 ) está sujeita a uma compressão de -96.0468635614927 kN\n",
      "\n",
      "\n",
      "A Barra do Nó ( 5.0 , 0.0 ) para o Nó ( 10.0 , 0.0 ) está sujeita a uma tração de 112.49999999999991 kN\n",
      "\n",
      "\n",
      "A Barra do Nó ( 5.0 , 0.0 ) para o Nó ( 10.0 , 4.0 ) está sujeita a uma compressão de -48.02343178074624 kN\n",
      "\n",
      "\n",
      "A Barra do Nó ( 5.0 , 0.0 ) para o Nó ( 5.0 , 4.0 ) está sujeita a uma tração de 59.99999999999994 kN\n",
      "\n",
      "\n",
      "A Barra do Nó ( 10.0 , 0.0 ) para o Nó ( 15.0 , 0.0 ) está sujeita a uma tração de 112.4999999999998 kN\n",
      "\n",
      "\n",
      "A Barra do Nó ( 10.0 , 0.0 ) para o Nó ( 10.0 , 4.0 ) está sujeita a uma tração de 59.99999999999983 kN\n",
      "\n",
      "\n",
      "A Barra do Nó ( 15.0 , 0.0 ) para o Nó ( 20.0 , 0.0 ) está sujeita a uma tração de 74.99999999999991 kN\n",
      "\n",
      "\n",
      "A Barra do Nó ( 15.0 , 0.0 ) para o Nó ( 15.0 , 4.0 ) está sujeita a uma tração de 59.99999999999994 kN\n",
      "\n",
      "\n",
      "A Barra do Nó ( 15.0 , 0.0 ) para o Nó ( 10.0 , 4.0 ) está sujeita a uma compressão de -48.023431780746385 kN\n",
      "\n",
      "\n",
      "A Barra do Nó ( 20.0 , 0.0 ) para o Nó ( 15.0 , 4.0 ) está sujeita a uma compressão de -96.04686356149263 kN\n",
      "\n",
      "\n",
      "A Barra do Nó ( 15.0 , 4.0 ) para o Nó ( 10.0 , 4.0 ) está sujeita a uma compressão de -74.99999999999996 kN\n",
      "\n",
      "\n",
      "A Barra do Nó ( 10.0 , 4.0 ) para o Nó ( 5.0 , 4.0 ) está sujeita a uma compressão de -74.99999999999997 kN\n",
      "\n",
      "\n"
     ]
    }
   ],
   "source": [
    "trel8n = trelica(readjson(\"trelica8nos.json\")) # Treliça de 8 nós para teste\n",
    "trel8n.desenha().show() # Desenha as barras da estrutura\n",
    "trel8n.tensoes() # apresenta os deslocamentos nos nós, reações de apoio e carregamento nas barras"
   ]
  }
 ],
 "metadata": {
  "kernelspec": {
   "display_name": "SageMath 9.0",
   "language": "sage",
   "name": "sagemath"
  },
  "language_info": {
   "codemirror_mode": {
    "name": "ipython",
    "version": 3
   },
   "file_extension": ".py",
   "mimetype": "text/x-python",
   "name": "python",
   "nbconvert_exporter": "python",
   "pygments_lexer": "ipython3",
   "version": "3.8.2"
  }
 },
 "nbformat": 4,
 "nbformat_minor": 4
}
