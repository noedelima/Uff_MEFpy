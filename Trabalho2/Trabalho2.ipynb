{
 "cells": [
  {
   "cell_type": "markdown",
   "metadata": {},
   "source": [
    "# Método dos Elementos Finitos - Trabalho 2"
   ]
  },
  {
   "cell_type": "markdown",
   "metadata": {},
   "source": [
    "Este trabalho visa aplicar o MEF a uma estrutura de treliças.\n",
    "\n",
    "Para tanto, deverá ler um arquivo em disco com os dados da treliça para resolver via código em Python.\n",
    "\n",
    "Após ler o arquivo, o código abaixo gera um objeto de classe própria com as propriedades do sistema contido no arquivo.\n",
    "\n",
    "A seguir o arquivo lido e suas principais características."
   ]
  },
  {
   "cell_type": "code",
   "execution_count": 1,
   "metadata": {},
   "outputs": [],
   "source": [
    "import functions as fct\n"
   ]
  },
  {
   "cell_type": "code",
   "execution_count": 2,
   "metadata": {},
   "outputs": [
    {
     "name": "stdout",
     "output_type": "stream",
     "text": [
      "Sistema de 3 nós\n",
      "A interligação entre os nós pode ser representada pela seguinte matriz:\n",
      "[[0.    0.001 0.001]\n",
      " [0.001 0.    0.001]\n",
      " [0.001 0.001 0.   ]]\n",
      "Onde os elementos fora da diagonal principal representam os valores de 1/EA da barra entre os nós respectivos.\n",
      "A matriz abaixo representa as cargas no nó:\n",
      "[[ 0.  0.  0.]\n",
      " [ 0.  0.  0.]\n",
      " [ 1. -1.  0.]]\n",
      "Onde a linha representa o nó e a coluna as dimensões x, y e z, respectivamente.\n",
      "Abaixo, temos as seguintes configurações para os nós (coordenada x,y,z e se há apoio na direção):\n",
      "Nó 1 (0.0, 0.0, 0.0) --> [Rx:True    Ry:True    Rz:False]\n",
      "Nó 2 (1.0, 0.0, 0.0) --> [Rx:False    Ry:True    Rz:False]\n",
      "Nó 3 (1.0, 1.0, 0.0) --> [Rx:False    Ry:False    Rz:False]\n"
     ]
    }
   ],
   "source": [
    "tr = fct.trelica(\"trelica.json\")\n",
    "print('Sistema de {} nós'.format(tr.n))\n",
    "print('A interligação entre os nós pode ser representada pela seguinte matriz:\\n{}\\nOnde os elementos fora da diagonal principal representam os valores de 1/EA da barra entre os nós respectivos.'.format(tr.barras))\n",
    "print('A matriz abaixo representa as cargas no nó:\\n{}\\nOnde a linha representa o nó e a coluna as dimensões x, y e z, respectivamente.'.format(tr.cargas))\n",
    "print('Abaixo, temos as seguintes configurações para os nós (coordenada x,y,z e se há apoio na direção):')\n",
    "for n in tr.nos:\n",
    "    print(n.tag, '({}, {}, {})'.format(n.x, n.y, n.z), '--> [Rx:{}    Ry:{}    Rz:{}]'.format(n.Rx, n.Ry, n.Rz))"
   ]
  }
 ],
 "metadata": {
  "kernelspec": {
   "display_name": "SageMath 9.0",
   "language": "sage",
   "name": "sagemath"
  },
  "language_info": {
   "codemirror_mode": {
    "name": "ipython",
    "version": 3
   },
   "file_extension": ".py",
   "mimetype": "text/x-python",
   "name": "python",
   "nbconvert_exporter": "python",
   "pygments_lexer": "ipython3",
   "version": "3.7.3"
  }
 },
 "nbformat": 4,
 "nbformat_minor": 4
}
