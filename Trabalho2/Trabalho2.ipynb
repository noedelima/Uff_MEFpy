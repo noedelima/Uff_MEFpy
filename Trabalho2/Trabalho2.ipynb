{
 "cells": [
  {
   "cell_type": "markdown",
   "metadata": {},
   "source": [
    "# Método dos Elementos Finitos - Trabalho 2"
   ]
  },
  {
   "cell_type": "markdown",
   "metadata": {},
   "source": [
    "Universidade Federal Fluminense\n",
    "\n",
    "Disciplina ministrada pelo Prof. Marco Ferro\n",
    "\n",
    "<marco.ferro@uol.com.br>\n",
    "\n",
    "Aluno Noé de Lima\n",
    "\n",
    "<noe_lima@id.uff.br>\n",
    "\n",
    "Este trabalho visa aplicar o MEF a uma estrutura de treliças.\n",
    "\n",
    "Primeiro semestre de 2020\n",
    "\n",
    "\\vfill"
   ]
  },
  {
   "cell_type": "markdown",
   "metadata": {},
   "source": [
    "A célula a seguir configura o Jupyter-Notebook para exibir as equações matemáticas no formato do ambiente $\\LaTeX$ e importa as bibliotecas necessárias."
   ]
  },
  {
   "cell_type": "code",
   "execution_count": null,
   "metadata": {
    "tags": []
   },
   "outputs": [],
   "source": [
    "%display latex\n",
    "from numpy import angle,array,delete,isnan,nan,zeros\n",
    "from numpy.linalg import norm,solve\n",
    "import json\n",
    "from sage.misc.latex import MathJax,latex_extra_preamble,png\n",
    "from sage.plot.line import Line\n",
    "latex.add_to_preamble('\\\\usepackage[english,brazil]{babel}')\n",
    "!uname -a"
   ]
  },
  {
   "cell_type": "markdown",
   "metadata": {},
   "source": [
    "\\cleardoublepage\n",
    "\n",
    "\\tableofcontents\n",
    "\n",
    "\\cleardoublepage"
   ]
  },
  {
   "cell_type": "markdown",
   "metadata": {},
   "source": [
    "# Introdução\n",
    "\n",
    "Este trabalho visa aplicar o MEF a uma estrutura de treliças.\n",
    "\n",
    "Para tanto, deverá ler um arquivo em disco com os dados da treliça para resolver via código em Python.\n",
    "\n",
    "Após ler o arquivo, o código abaixo gera um objeto de classe própria com as propriedades do sistema contido no arquivo."
   ]
  },
  {
   "cell_type": "markdown",
   "metadata": {},
   "source": [
    "# Teoria\n",
    "\n",
    "A partir deste sistema, temos as seguintes equações diferenciais para o deslocamento $u$ da barra, considerando a aplicação de uma força Normal $F$:"
   ]
  },
  {
   "cell_type": "code",
   "execution_count": null,
   "metadata": {
    "tags": []
   },
   "outputs": [],
   "source": [
    "# Declaração das variáveis independentes\n",
    "x = var('x') # Variável independente (cumprimento)\n",
    "var('F,N,E,A,L,i,j') # Variáveis simbólicas de apoio\n",
    "# Considerações e Restrições das variáveis de apoio\n",
    "assume(N,i,j,'integer') # Número inteiro de elementos\n",
    "assume(L>0) # Comprimento da barra positivo\n",
    "assume(N>0) # Pelo menos 1 Elemento\n",
    "assume(E>0) # Módulo de elasticidade do material positivo\n",
    "assume(A>0) # Área da seção transversal positiva\n",
    "print(assumptions()) # Exibe um resumo das restrições asumidas até aqui\n",
    "# Variáveis dependentes\n",
    "u = function('u')(x) # Função analítica desconhecida u(x)\n",
    "# Equações Diferenciais de u(x)\n",
    "eq1 = E*A*diff(u,x,2) == 0\n",
    "eq2 = E*A*diff(u,x) == F\n",
    "eq1.show() # Exibe a equação diferencial de primeira ordem de u(x)\n",
    "eq2.show() # Exibe a equação diferencial de segunda ordem de u(x)"
   ]
  },
  {
   "cell_type": "markdown",
   "metadata": {},
   "source": [
    "A solução analítica destas equações, dadas abaixo, convergem para a equação conhecida da deformação linear na barra, que é:\n",
    "\n",
    "\\begin{equation*}\n",
    "    u\\left(x\\right) = \\frac{F}{EA}x\n",
    "\\end{equation*}"
   ]
  },
  {
   "cell_type": "code",
   "execution_count": null,
   "metadata": {},
   "outputs": [],
   "source": [
    "sol1 = u == desolve(eq1,u,ivar=x)\n",
    "sol2 = u == desolve(eq2,u,ivar=x)\n",
    "sol1.show() # Solução da EDO de 1 Ordem\n",
    "sol2.show() # Solução da EDO de 2 Ordem"
   ]
  },
  {
   "cell_type": "markdown",
   "metadata": {},
   "source": [
    "A SRP - Sentença de Resíduos Ponderados, fornece a seguinte integral:\n",
    "\n",
    "\\begin{equation}\n",
    "    \\int_{D}{\\phi_{i}R}dD = 0\n",
    "\\end{equation}\n",
    "\n",
    "Onde,\n",
    "\n",
    "\\begin{equation*}\n",
    "    R = \\left(EA\\frac{d^{2}\\bar{u}}{dx^{2}}\\right)\n",
    "\\end{equation*}\n",
    "\n",
    "e,\n",
    "\n",
    "\\begin{equation*}\n",
    "    \\bar{u} = \\sum_{n=1}^{N+1}u_{i}\\phi_{i}\n",
    "\\end{equation*}\n",
    "\n",
    "Assim, temos\n",
    "\n",
    "\\begin{equation*}\n",
    "    \\int_{0}^{L}{\\phi_{i}\\left(EA\\frac{d^{2}\\bar{u}}{dx^{2}}\\right)}dx = 0\n",
    "\\end{equation*}\n"
   ]
  },
  {
   "cell_type": "code",
   "execution_count": null,
   "metadata": {},
   "outputs": [],
   "source": [
    "phi_i = function('phi_i')(x,i) # phi_i(x) da SRP\n",
    "u_i = function('u_i')(i) # u_i\n",
    "u_b = sum(u_i*phi_i,i,1,N+1) # û(x) estimado\n",
    "R = (E*A*u_b.diff(x,2)).full_simplify() # Resíduo\n",
    "u_b.show() # Exibe û\n",
    "R.show() # Exibe o resíduo\n",
    "SRP = (phi_i*R).integrate(x,0,L) # Sentença dos Resíduos Ponderados\n",
    "SRP.show() # Exibe a SRP"
   ]
  },
  {
   "cell_type": "markdown",
   "metadata": {},
   "source": [
    "Deixando a solução analítica de lado, vamos à implementação"
   ]
  },
  {
   "cell_type": "markdown",
   "metadata": {},
   "source": [
    "# Barra horizontal\n",
    "\n",
    "## Matriz de Rigidez do Elemento\n",
    "\n",
    "A matriz de Rigidez de uma barra dentro da treliça é dada por:\n",
    "\n",
    "\\begin{equation}\n",
    "    K_{ij} = EA \\int_{0}^{L}{\\left(\\frac{dN_{i}}{dx}\\frac{dN_{j}}{dx}\\right)}dx\n",
    "\\end{equation}\n",
    "\n",
    "## Vetor de Cargas Nodais do Elemento\n",
    "\n",
    "\\begin{equation}\n",
    "    f_{i} = EA \\left[N_{i}\\frac{d\\bar{u}}{dx}\\right]_{0}^{L}\n",
    "\\end{equation}\n",
    "\n",
    "Tem-se que:\n",
    "\n",
    "\\begin{equation}\n",
    "    \\left\\{\\begin{matrix}\n",
    "        \\phi_{1}\\left(x\\right) & = & \\frac{L-x}{x} \\\\\n",
    "        & & \\\\\n",
    "        \\phi_{2}\\left(x\\right) & = & \\frac{x}{L}\n",
    "    \\end{matrix}\\right.\n",
    "\\end{equation}\n",
    "\n",
    "Logo, Simplificando tudo,\n",
    "\n",
    "\\begin{equation*}\n",
    "    K_{11} = K_{22} = \\frac{EA}{L}\n",
    "\\end{equation*}\n",
    "\n",
    "\\begin{equation*}\n",
    "    K_{12} = K_{21} = -\\frac{EA}{L}\n",
    "\\end{equation*}\n",
    "\n",
    "Ou,\n",
    "\n",
    "\\begin{equation*}\n",
    "    \\mathbf{K}_{local} =\n",
    "    \\left[\\begin{matrix}\n",
    "        \\frac{EA}{L} & -\\frac{EA}{L} \\\\\n",
    "        -\\frac{EA}{L} & \\frac{EA}{L}\n",
    "    \\end{matrix}\\right]\n",
    "\\end{equation*}\n",
    "\n",
    "Ou, ainda,\n",
    "\n",
    "\\begin{equation}\n",
    "    \\mathbf{K}_{local} = \\frac{EA}{L}\n",
    "    \\left[\\begin{matrix}\n",
    "        1 & -1 \\\\\n",
    "        -1 & 1\n",
    "    \\end{matrix}\\right]\n",
    "\\end{equation}\n",
    "\n",
    "E,\n",
    "\n",
    "\\begin{equation*}\n",
    "    \\vec{f}_{local} = F\n",
    "    \\left[\\begin{matrix}\n",
    "        -1 \\\\\n",
    "        1\n",
    "    \\end{matrix}\\right]\n",
    "\\end{equation*}\n"
   ]
  },
  {
   "cell_type": "markdown",
   "metadata": {},
   "source": [
    "# Caso Geral - Barra em Qualquer Direção\n",
    "\n",
    "\\begin{equation*}\n",
    "    N_{1} = \\frac{h_{e}-x_{e}}{h_{e}}\n",
    "\\end{equation*}\n",
    "\n",
    "\\begin{equation*}\n",
    "    N_{2} = \\frac{x_{e}}{h_{e}}\n",
    "\\end{equation*}\n",
    "\n",
    "\\begin{equation*}\n",
    "    N_{G} =\n",
    "    \\left[\\begin{matrix}\n",
    "        N_{1}cos{\\alpha} & N_{1}sin{\\alpha} & N_{2}cos{\\alpha} & N_{2}sin{\\alpha}\n",
    "    \\end{matrix}\\right]\n",
    "\\end{equation*}\n",
    "\n",
    "Logo,\n",
    "\n",
    "\\begin{equation*}\n",
    "    \\frac{\\partial N}{\\partial x} =\n",
    "    \\left[\\begin{matrix}\n",
    "        \\frac{\\partial N_{1}}{\\partial x}cos{\\alpha} & \\frac{\\partial N_{1}}{\\partial x}sin{\\alpha} & \\frac{\\partial N_{2}}{\\partial x}cos{\\alpha} & \\frac{\\partial N_{2}}{\\partial x}sin{\\alpha}\n",
    "    \\end{matrix}\\right]\n",
    "\\end{equation*}\n",
    "\n",
    "\\begin{equation*}\n",
    "    \\frac{\\partial N}{\\partial x} =\n",
    "    \\left[\\begin{matrix}\n",
    "    -\\frac{1}{h_{e}}cos{\\alpha} & -\\frac{1}{h_{e}}sin{\\alpha} & \\frac{1}{h_{e}}cos{\\alpha} & \\frac{1}{h_{e}}sin{\\alpha}\n",
    "    \\end{matrix}\\right]\n",
    "\\end{equation*}\n",
    "\n",
    "\\begin{equation*}\n",
    "    \\frac{\\partial N}{\\partial x} = \\frac{1}{h_{e}}\n",
    "    \\left[\\begin{matrix}\n",
    "        -cos{\\alpha} & -sin{\\alpha} & cos{\\alpha} & sin{\\alpha}\n",
    "    \\end{matrix}\\right]\n",
    "    = \\left[\\mathbf{B}\\right]\n",
    "\\end{equation*}\n",
    "\n",
    "Bem como,\n",
    "\n",
    "\\begin{equation*}\n",
    "    \\left[k_{e}\\right] =\n",
    "    \\int_{0}^{h_{e}}{EA\\frac{\\partial N_{i}}{\\partial x}\\frac{\\partial N_{j}}{\\partial x}}dx\n",
    "\\end{equation*}\n",
    "\n",
    "Ou seja,\n",
    "\n",
    "\\begin{equation*}\n",
    "    \\left[k_{e}\\right] =\n",
    "    \\int_{0}^{h_{e}}{\\left[\\mathbf{B^{T}}\\right]EA\\left[\\mathbf{B}\\right]}dx\n",
    "\\end{equation*}\n",
    "\n",
    "Portanto,\n",
    "\n",
    "\\begin{equation*}\n",
    "    \\left[k_{e}\\right] = \\frac{EA}{h_{e}^{2}}\n",
    "    \\left[\\begin{matrix}\n",
    "        cos^{2}{(\\alpha)} & sin{(\\alpha)}cos{(\\alpha)} & -cos^{2}{(\\alpha)} & -sin{(\\alpha)}cos{(\\alpha)} \\\\\n",
    "        sin{(\\alpha)}cos{(\\alpha)} & sin^{2}{(\\alpha)} & -sin{(\\alpha)}cos{(\\alpha)} & -sin^{2}{(\\alpha)} \\\\\n",
    "        -cos^{2}{(\\alpha)} & -sin{(\\alpha)}cos{(\\alpha)} & cos^{2}{(\\alpha)} & sin{(\\alpha)}cos{(\\alpha)} \\\\\n",
    "        -sin{(\\alpha)}cos{(\\alpha)} & -sin^{2}{(\\alpha)} & sin{(\\alpha)}cos{(\\alpha)} & sin^{2}{(\\alpha)}\n",
    "    \\end{matrix}\\right]\n",
    "    \\int_{0}^{h_{e}}{}dx\n",
    "    = \\frac{EA}{h_{e}^{2}}\n",
    "    \\left[\\mathbf{T}\\right]\n",
    "    \\int_{0}^{h_{e}}{}dx\n",
    "\\end{equation*}\n",
    "\n",
    "Onde $\\mathbf{T}$ é a Matriz de Transformação ou de Rotação.\n",
    "\n",
    "Logo,\n",
    "\n",
    "\\begin{equation*}\n",
    "    \\left[k_{e}\\right] = \\frac{EA}{h_{e}^{2}}\n",
    "    \\left[\\mathbf{T}\\right]\n",
    "    \\int_{0}^{h_{e}}{}dx =\n",
    "    \\left[\n",
    "        \\frac{EA}{h_{e}^{2}}\\left[\\mathbf{T}\\right]x\n",
    "    \\right]_{0}^{h_{e}} =\n",
    "    \\frac{EA}{h_{e}^{2}}\\left[\\mathbf{T}\\right]h_{e}   \n",
    "\\end{equation*}\n",
    "\n",
    "Ou,\n",
    "\n",
    "\\begin{equation*}\n",
    "    \\left[k_{e}\\right] = \\frac{EA}{h_{e}}\\left[\\mathbf{T}\\right]\n",
    "\\end{equation*}\n"
   ]
  },
  {
   "cell_type": "markdown",
   "metadata": {},
   "source": [
    "# Implementação do Código\n",
    "\n",
    "A função abaixo lê um arquivo JSON, cujo endereço relativo está na variável $path$, e retorna o conteúdo como um dicionário Python na variável $file$."
   ]
  },
  {
   "cell_type": "code",
   "execution_count": null,
   "metadata": {},
   "outputs": [],
   "source": [
    "def readjson(path):\n",
    "    file = None\n",
    "    try:\n",
    "        with open(path,'r') as f:\n",
    "            file = json.load(f)\n",
    "    except IOError as err:\n",
    "        print('File Error: ' + str(err))\n",
    "    except JSONDecodeError as err:\n",
    "        print('JSON Error: ' + str(err))\n",
    "    finally:\n",
    "        return file"
   ]
  },
  {
   "cell_type": "markdown",
   "metadata": {},
   "source": [
    "Será criada, a seguir, uma classe chamada $node$ para armazenar os elementos do tipo Nó, contendo as informações necessárias para a definição da localização e tipo de apoio existente."
   ]
  },
  {
   "cell_type": "code",
   "execution_count": null,
   "metadata": {},
   "outputs": [],
   "source": [
    "class node:\n",
    "    def __init__(self,x=0.0,y=0.0,z=0.0,tag=''):\n",
    "        self.dot = array([x,y,z])\n",
    "        self.l = zeros([3])\n",
    "        self.u = zeros([3])\n",
    "        self.s = array([False,False,False])\n",
    "        self.tag = tag\n",
    "    \n",
    "    def support(self,rx,ry,rz):\n",
    "        self.s = array([rx,ry,rz])\n",
    "        \n",
    "    def load(self,fx,fy,fz):\n",
    "        self.l = array([fx,fy,fz])\n",
    "        \n",
    "    def uloc(self, ul):\n",
    "        self.u = ul"
   ]
  },
  {
   "cell_type": "markdown",
   "metadata": {},
   "source": [
    "Após a definição dos Nós, agora será criada uma classe para armazenar as barras (colunas, vigas) que compõem a treliça."
   ]
  },
  {
   "cell_type": "code",
   "execution_count": null,
   "metadata": {},
   "outputs": [],
   "source": [
    "class bar:\n",
    "    def __init__(self,no1,no2,EA,tag=''):\n",
    "        self.at = no1.dot # Origem da barra\n",
    "        self.vec = no2.dot - no1.dot # Vetor (x,y) da barra\n",
    "        self.EA = EA # Módulo de Elasticidade x área da seção transversal\n",
    "        self.tag = tag # Nome de referência para a barra\n",
    "        \n",
    "    def K(self):\n",
    "        L = norm(self.vec)\n",
    "        dx = self.vec[0]\n",
    "        dy = self.vec[1]\n",
    "        B = array([[-dx,-dy,dx,dy]])/L\n",
    "        return B.T*(self.EA/L)*B # Matriz de Rigidez Local\n",
    "    \n",
    "    def K11(self):\n",
    "        L = norm(self.vec)\n",
    "        B = array([[self.vec[0],self.vec[1]]])/L\n",
    "        return B.T*(self.EA/L)*B\n",
    "    \n",
    "    def K12(self):\n",
    "        return -K11(self)\n",
    "    \n",
    "    def K21(self):\n",
    "        return -K11(self)\n",
    "    \n",
    "    def K22(self):\n",
    "        return K11(self)"
   ]
  },
  {
   "cell_type": "markdown",
   "metadata": {},
   "source": [
    "Por último, uma classe geral contendo a treliça em si, com os nós e suas respectivas barras.\n",
    "\n",
    "Dentro da classe $trelica$ também estára o método para calcular a matriz de rigidez $K$ e a solução do sistema pelo método dos deslocamentos."
   ]
  },
  {
   "cell_type": "code",
   "execution_count": null,
   "metadata": {},
   "outputs": [],
   "source": [
    "class trelica:\n",
    "    def __init__(self, file):\n",
    "        self.n = file['n']\n",
    "        self.m = 0 # Número de barras\n",
    "        self.E = array(file['E'])\n",
    "        self.A = array(file['A'])\n",
    "        cargas = array(file['loads'])\n",
    "        self.nos = []\n",
    "        self.barras = []\n",
    "        self.K = zeros([2*self.n,2*self.n])\n",
    "        self.f = zeros([2*self.n])\n",
    "        self.u = zeros([2*self.n])\n",
    "        for name, value in file['nodes'].items():\n",
    "            no = node(value['x'],\n",
    "                      value['y'],\n",
    "                      value['z'],\n",
    "                      name)\n",
    "            no.support(value['Tx'],\n",
    "                      value['Ty'],\n",
    "                      value['Tz'],)\n",
    "            self.nos.append(no)\n",
    "        for i in range(self.n):\n",
    "            self.nos[i].load(cargas[i][0],\n",
    "                      cargas[i][1],\n",
    "                      cargas[i][2])\n",
    "            # Cálculo dos Vetores u e f\n",
    "            ff = array([self.nos[i].l[0],self.nos[i].l[1]])\n",
    "            uu = array([nan,nan])\n",
    "            if self.nos[i].s[0]:\n",
    "                uu[0] = 0\n",
    "                ff[0] = nan\n",
    "            if self.nos[i].s[1]:\n",
    "                uu[1] = 0\n",
    "                ff[1] = nan\n",
    "            self.f[2*i:2*i+2] = ff\n",
    "            self.u[2*i:2*i+2] = uu\n",
    "            for j in range(i,self.n):\n",
    "                EA = self.E[i,j]*self.A[i,j]\n",
    "                if EA:\n",
    "                    barra = bar(self.nos[i],self.nos[j],EA)\n",
    "                    self.m += 1 # Conta as barras\n",
    "                    self.barras.append(barra)\n",
    "                    # Cálculo da Matriz k\n",
    "                    k = barra.K11()\n",
    "                    self.K[2*i:2*i+2,2*i:2*i+2] += k\n",
    "                    self.K[2*i:2*i+2,2*j:2*j+2] -= k\n",
    "                    self.K[2*j:2*j+2,2*i:2*i+2] -= k\n",
    "                    self.K[2*j:2*j+2,2*j:2*j+2] += k\n",
    "        \n",
    "    def deslocamentos(self):\n",
    "        K,u,f = self.K,self.u,self.f\n",
    "        change = True\n",
    "        m = 2*self.n\n",
    "        while change:\n",
    "            change = False\n",
    "            for i in range(m):\n",
    "                if isnan(f[i]):\n",
    "                    f -= u[i]*K[:,i]\n",
    "                    K[:,i] = zeros(m)\n",
    "                    K[i,i] = -1\n",
    "                    K = delete(K,i,0)\n",
    "                    K = delete(K,i,1)\n",
    "                    u = delete(u,i)\n",
    "                    f = delete(f,i)\n",
    "                    change = True\n",
    "                    m -= 1\n",
    "                    break\n",
    "        u = solve(K,f)\n",
    "        k = 0\n",
    "        desloc = self.u.copy()\n",
    "        for i in range(2*self.n):\n",
    "            if isnan(desloc[i]):\n",
    "                desloc[i] = u[k]\n",
    "                k += 1\n",
    "        forces = self.K.dot(desloc) # Recalcula as forças nodais a partir dos deslocamentos\n",
    "        for i in range(self.n):\n",
    "            self.nos[i].uloc(array([desloc[2*i],desloc[2*i+1],0]))\n",
    "            print('Nó: (',self.nos[i].dot[0],',',self.nos[i].dot[1],'):')\n",
    "            print('Fx =', forces[2*i], 'kN, Fy =', forces[2*i+1],'kN')\n",
    "            print('dx =', 1000*desloc[2*i], 'mm, dy =', 1000*desloc[2*i+1],'mm\\n\\n')\n",
    "        return\n",
    "    \n",
    "    def tensoes(self):\n",
    "        self.deslocamentos()\n",
    "        for i in range(self.n):\n",
    "            for j in range(i,self.n):\n",
    "                EA = self.E[i,j]*self.A[i,j]\n",
    "                if EA:\n",
    "                    c = self.nos[j].dot[0] - self.nos[i].dot[0] # delta x da barra\n",
    "                    s = self.nos[j].dot[1] - self.nos[i].dot[1] # delta y da barra\n",
    "                    L = norm(array([c,s]))\n",
    "                    Bl = array([-c,-s,c,s])/L\n",
    "                    ul = array([self.nos[i].u[0],self.nos[i].u[1],self.nos[j].u[0],self.nos[j].u[1]])\n",
    "                    N = (EA/L)*Bl.dot(ul)\n",
    "                    if N > 0:\n",
    "                        print('A Barra do Nó (', self.nos[i].dot[0], ',', self.nos[i].dot[1], ') para o Nó (', self.nos[j].dot[0], ',', self.nos[j].dot[1], ') está sujeita a uma tração de', N, 'kN\\n\\n')\n",
    "                    elif N < 0:\n",
    "                        print('A Barra do Nó (', self.nos[i].dot[0], ',', self.nos[i].dot[1], ') para o Nó (', self.nos[j].dot[0], ',', self.nos[j].dot[1], ') está sujeita a uma compressão de', N, 'kN\\n\\n')\n",
    "                    else:\n",
    "                        print('A Barra do Nó (', self.nos[i].dot[0], ',', self.nos[i].dot[1], ') para o Nó (', self.nos[j].dot[0], ',', self.nos[j].dot[1], ') está sem carregamento\\n\\n')\n",
    "        return\n",
    "    \n",
    "    def desenha(self):\n",
    "        p = line([])\n",
    "        for i in range(self.m):\n",
    "            p += line([self.barras[i].at[0:-1], self.barras[i].at[0:-1]+self.barras[i].vec[0:-1]])\n",
    "        return p"
   ]
  },
  {
   "cell_type": "markdown",
   "metadata": {},
   "source": [
    "# Exercício 1 - Sistema Com 3 Barras\n",
    "\n",
    "O arquivo a ser lido está no formato JSON e será armazenado na variável $parser$.\n",
    "\n",
    "A partir do valor no arquivo JSON, em $parser$, será criada a treliça e armazenada em $tr$"
   ]
  },
  {
   "cell_type": "code",
   "execution_count": null,
   "metadata": {
    "tags": []
   },
   "outputs": [],
   "source": [
    "parser3n = readjson(\"trelica3nos.json\")\n",
    "print(json.dumps(parser3n, indent=4, sort_keys=True)) # Exibir conteúdo do arquivo lido\n",
    "trel3n = trelica(parser3n) # Treliça de 3 nós para teste\n",
    "trel3n.desenha().show() # Desenha as barras da estrutura\n",
    "trel3n.tensoes() # apresenta os deslocamentos nos nós, reações de apoio e carregamento nas barras"
   ]
  },
  {
   "cell_type": "markdown",
   "metadata": {},
   "source": [
    "# Exercício 2 - Sistema Com 6 Barras\n",
    "\n",
    "O exemplo a seguir contém 4 nós e 6 barras."
   ]
  },
  {
   "cell_type": "code",
   "execution_count": null,
   "metadata": {
    "tags": []
   },
   "outputs": [],
   "source": [
    "trel4n = trelica(readjson(\"trelica4nos.json\")) # Treliça de 4 nós para teste\n",
    "trel4n.desenha().show() # Desenha as barras da estrutura\n",
    "trel4n.tensoes() # apresenta os deslocamentos nos nós, reações de apoio e carregamento nas barras"
   ]
  },
  {
   "cell_type": "markdown",
   "metadata": {},
   "source": [
    "# Exercício 3 - Sistema Com 13 Barras\n",
    "\n",
    "O exemplo a seguir contém 8 nós e 13 barras."
   ]
  },
  {
   "cell_type": "code",
   "execution_count": null,
   "metadata": {
    "tags": []
   },
   "outputs": [],
   "source": [
    "trel8n = trelica(readjson(\"trelica8nos.json\")) # Treliça de 8 nós para teste\n",
    "trel8n.desenha().show() # Desenha as barras da estrutura\n",
    "trel8n.tensoes() # apresenta os deslocamentos nos nós, reações de apoio e carregamento nas barras"
   ]
  }
 ],
 "metadata": {
  "kernelspec": {
   "display_name": "SageMath 9.0",
   "language": "sage",
   "name": "sagemath"
  },
  "language_info": {
   "codemirror_mode": {
    "name": "ipython",
    "version": 3
   },
   "file_extension": ".py",
   "mimetype": "text/x-python",
   "name": "python",
   "nbconvert_exporter": "python",
   "pygments_lexer": "ipython3",
   "version": "3.8.2-final"
  }
 },
 "nbformat": 4,
 "nbformat_minor": 4
}