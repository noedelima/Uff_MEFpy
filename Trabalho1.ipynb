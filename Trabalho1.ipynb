{
 "cells": [
  {
   "cell_type": "markdown",
   "metadata": {},
   "source": [
    "# Metodo dos Elementos Finitos\n",
    "\n",
    "<i>Primeiro Trabalho</i>\n",
    "\n",
    "## Exercício Prático de Programação"
   ]
  },
  {
   "cell_type": "markdown",
   "metadata": {},
   "source": [
    "Dada a Equação Diferencial Ordinária de Segunda Ordem abaixo:\n",
    "\n",
    "\\begin{equation}\n",
    "    \\frac{d^{2}u}{dx} - u = 0\n",
    "\\end{equation}\n",
    "\n",
    "Sua solução analítica é:\n",
    "\n",
    "\\begin{equation}\n",
    "    u\\left(x\\right) = \\frac{e^{x}-e^{-x}}{e-e^{-1}}\n",
    "\\end{equation}\n",
    "\n",
    "Assim, o trabalho consiste em criar um programa em Python para resolver este sistema numericamente no domínio $x \\le 0 \\le 1$, utilizando para tanto, o Método dos Elementos Finitos. Entre os parâmetros de entrada, deverá estar o números de elementos para discretizar o sistema (malha), para, então, comparar o erro pencentual das soluções em relação à solução analítica."
   ]
  },
  {
   "cell_type": "code",
   "execution_count": 1,
   "metadata": {},
   "outputs": [],
   "source": [
    "from numpy import array,zeros,math,linspace\n",
    "from scipy.interpolate import interp1d\n",
    "from scipy.linalg import solve\n",
    "import matplotlib.pyplot as plt\n",
    "plt.close('all') # apaga plotagens anterioresfrom numpy import array,arange,zeros,math,linspace"
   ]
  },
  {
   "cell_type": "markdown",
   "metadata": {},
   "source": [
    "## Implementação da Solução Analítica (Exata)"
   ]
  },
  {
   "cell_type": "code",
   "execution_count": 2,
   "metadata": {},
   "outputs": [],
   "source": [
    "def yexata(x):\n",
    "    return (math.exp(1)**(x)-math.exp(1)**(-x))/(math.exp(1)-math.exp(-1))"
   ]
  },
  {
   "cell_type": "markdown",
   "metadata": {},
   "source": [
    "## Implementação do MEF\n",
    "\n",
    "Na implementação do Método dos Elementos Finitos, os seguintes dados de entrada são necessários:\n",
    "\n",
    "* Limites do Domínio\n",
    "\n",
    "* Condições de Contorno (Dirichlet)\n",
    "\n",
    "* Número de Elementos na Malha\n",
    "\n",
    "Assim, a função retorna dois vetores:\n",
    "\n",
    "* O Domínio discretizado\n",
    "\n",
    "* A solução nos nós da Malha\n",
    "\n",
    "A solução dos pontos intermediários é dada por interpolação simples entre os nós adjascentes."
   ]
  },
  {
   "cell_type": "code",
   "execution_count": 3,
   "metadata": {},
   "outputs": [],
   "source": [
    "def mefn(a, b, ua, ub, n):\n",
    "    x = array(linspace(a,b,n+1)) # Domínio\n",
    "    # f = array([linspace(0,0,n+1)]).transpose() # Vetor de força nodal (matriz coluna de zeros)\n",
    "    K = zeros([(n+1),(n+1)]) # Matriz de Rigidez Global\n",
    "    he = (b-a)/n # Subdomínio\n",
    "    for i in range(n): # Montagem da Matriz de Rigidez Global\n",
    "        K[i,i] += (1/he)+(he/3)\n",
    "        K[i,i+1] += (-1/he)+(he/6)\n",
    "        K[i+1,i] += (-1/he)+(he/6)\n",
    "        K[i+1,i+1] += (1/he)+(he/3)\n",
    "    # Rearranjo do Sistema\n",
    "    # f -= ua*K[:,0] + ub*K[:,n] # Implementação alternativa com inicialização de f\n",
    "    f = - ua*K[:,0] - ub*K[:,n]\n",
    "    K[:,0] *= 0\n",
    "    K[:,n] *= 0\n",
    "    K[0,0] = 1.\n",
    "    K[n,n] = -1.\n",
    "    # Solução do Sistema\n",
    "    u = solve(K,f) # Vetor de solução\n",
    "    u[0],u[n] = ua,ub # Substituição de du(a)/dx e du(b)/dx por u(a) e u(b)\n",
    "    return x, u"
   ]
  },
  {
   "cell_type": "markdown",
   "metadata": {},
   "source": [
    "### Gráfico Comparativo das Soluções\n",
    "\n",
    "Para comparar as soluções, será utilizada uma função para entrar com o número de elementos e gerar o gráfico comparativo"
   ]
  },
  {
   "cell_type": "code",
   "execution_count": 4,
   "metadata": {},
   "outputs": [
    {
     "output_type": "error",
     "ename": "SyntaxError",
     "evalue": "invalid syntax (<ipython-input-4-d57ac99a914a>, line 12)",
     "traceback": [
      "\u001b[0;36m  File \u001b[0;32m\"<ipython-input-4-d57ac99a914a>\"\u001b[0;36m, line \u001b[0;32m12\u001b[0m\n\u001b[0;31m    fig=plt.figure(f)\u001b[0m\n\u001b[0m    ^\u001b[0m\n\u001b[0;31mSyntaxError\u001b[0m\u001b[0;31m:\u001b[0m invalid syntax\n"
     ]
    }
   ],
   "source": [
    "def plotmef(n, nplot,f): # Função que plota nplot pontos discretizados em n elementos\n",
    "    a,b = 0,1 # Limites de Integração\n",
    "    #n = 100 # Número de elementos na malha --> dado\n",
    "    ua,ub = yexata(a),yexata(b) # Condições de Contorno\n",
    "    data = mefn(a,b,ua,ub,n)\n",
    "\n",
    "    def interpol(x): # Função para interpolar u linearmente entre os nós\n",
    "        ymefn=interp1d(data[0],data[1],kind='linear')(x)\n",
    "    \n",
    "    x = linspace(0.,1.,11)\n",
    "    erro = 100*((yexata(0.5)-interpol(0.5))/exata(0.5)\n",
    "    fig=plt.figure(f)\n",
    "    plt.plot(x,yexata,'k--',x,interpol(x),'b-')\n",
    "    plt.title('Método dos Elementos Finitos\\n'+'Erro = '+str(erro)+'%')\n",
    "    plt.legend(('Solução Analítica', 'MEF com '+str(n)+' Elementos'))"
   ]
  },
  {
   "cell_type": "code",
   "execution_count": 6,
   "metadata": {},
   "outputs": [
    {
     "output_type": "error",
     "ename": "NameError",
     "evalue": "name 'plotmef' is not defined",
     "traceback": [
      "\u001b[0;31m---------------------------------------------------------------------------\u001b[0m",
      "\u001b[0;31mNameError\u001b[0m                                 Traceback (most recent call last)",
      "\u001b[0;32m<ipython-input-6-e0e96ef28209>\u001b[0m in \u001b[0;36m<module>\u001b[0;34m\u001b[0m\n\u001b[0;32m----> 1\u001b[0;31m \u001b[0mplotmef\u001b[0m\u001b[0;34m(\u001b[0m\u001b[0;36m2\u001b[0m\u001b[0;34m,\u001b[0m\u001b[0;36m10\u001b[0m\u001b[0;34m,\u001b[0m\u001b[0;36m1\u001b[0m\u001b[0;34m)\u001b[0m\u001b[0;34m\u001b[0m\u001b[0;34m\u001b[0m\u001b[0m\n\u001b[0m",
      "\u001b[0;31mNameError\u001b[0m: name 'plotmef' is not defined"
     ]
    }
   ],
   "source": [
    "plotmef(2,10,1)"
   ]
  }
 ],
 "metadata": {
  "language_info": {
   "codemirror_mode": {
    "name": "ipython",
    "version": 3
   },
   "file_extension": ".py",
   "mimetype": "text/x-python",
   "name": "python",
   "nbconvert_exporter": "python",
   "pygments_lexer": "ipython3",
   "version": "3.8.3-final"
  },
  "orig_nbformat": 2,
  "kernelspec": {
   "name": "python38364bit23d5db13956f491ebda19de05d30df4a",
   "display_name": "Python 3.8.3 64-bit"
  }
 },
 "nbformat": 4,
 "nbformat_minor": 2
}